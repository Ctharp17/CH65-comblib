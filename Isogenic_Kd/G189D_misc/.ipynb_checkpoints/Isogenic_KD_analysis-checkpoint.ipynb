{
 "cells": [
  {
   "cell_type": "markdown",
   "metadata": {},
   "source": [
    "## import stuff"
   ]
  },
  {
   "cell_type": "code",
   "execution_count": 2,
   "metadata": {
    "ExecuteTime": {
     "end_time": "2021-01-27T19:25:28.488742Z",
     "start_time": "2021-01-27T19:25:26.513366Z"
    }
   },
   "outputs": [],
   "source": [
    "import numpy as np\n",
    "import pandas as pd\n",
    "import matplotlib.pyplot as plt\n",
    "import matplotlib as mpl\n",
    "import seaborn as sns\n",
    "sns.set_style('whitegrid')\n",
    "\n",
    "import os\n",
    "import collections\n",
    "import glob\n",
    "\n",
    "import scipy.optimize\n",
    "import scipy.stats"
   ]
  },
  {
   "cell_type": "markdown",
   "metadata": {},
   "source": [
    "## get data and runlist"
   ]
  },
  {
   "cell_type": "code",
   "execution_count": 3,
   "metadata": {
    "ExecuteTime": {
     "end_time": "2021-01-27T20:35:34.709982Z",
     "start_time": "2021-01-27T20:35:34.640040Z"
    }
   },
   "outputs": [
    {
     "data": {
      "text/html": [
       "<div>\n",
       "<style scoped>\n",
       "    .dataframe tbody tr th:only-of-type {\n",
       "        vertical-align: middle;\n",
       "    }\n",
       "\n",
       "    .dataframe tbody tr th {\n",
       "        vertical-align: top;\n",
       "    }\n",
       "\n",
       "    .dataframe thead th {\n",
       "        text-align: right;\n",
       "    }\n",
       "</style>\n",
       "<table border=\"1\" class=\"dataframe\">\n",
       "  <thead>\n",
       "    <tr style=\"text-align: right;\">\n",
       "      <th></th>\n",
       "      <th>shortname</th>\n",
       "      <th>geno</th>\n",
       "    </tr>\n",
       "  </thead>\n",
       "  <tbody>\n",
       "    <tr>\n",
       "      <th>a</th>\n",
       "      <td>germ</td>\n",
       "      <td>\"0000000000000000\"</td>\n",
       "    </tr>\n",
       "    <tr>\n",
       "      <th>b</th>\n",
       "      <td>som16</td>\n",
       "      <td>\"1111111111111111\"</td>\n",
       "    </tr>\n",
       "    <tr>\n",
       "      <th>d</th>\n",
       "      <td>Y35N_N52H</td>\n",
       "      <td>\"0010000000100000\"</td>\n",
       "    </tr>\n",
       "    <tr>\n",
       "      <th>e</th>\n",
       "      <td>i2_wothers</td>\n",
       "      <td>\"0000001111100000\"</td>\n",
       "    </tr>\n",
       "    <tr>\n",
       "      <th>f</th>\n",
       "      <td>highlymut</td>\n",
       "      <td>\"0110010010111110\"</td>\n",
       "    </tr>\n",
       "    <tr>\n",
       "      <th>H</th>\n",
       "      <td>i2</td>\n",
       "      <td>\"0000001010100000\"</td>\n",
       "    </tr>\n",
       "  </tbody>\n",
       "</table>\n",
       "</div>"
      ],
      "text/plain": [
       "    shortname                geno\n",
       "a        germ  \"0000000000000000\"\n",
       "b       som16  \"1111111111111111\"\n",
       "d   Y35N_N52H  \"0010000000100000\"\n",
       "e  i2_wothers  \"0000001111100000\"\n",
       "f   highlymut  \"0110010010111110\"\n",
       "H          i2  \"0000001010100000\""
      ]
     },
     "execution_count": 3,
     "metadata": {},
     "output_type": "execute_result"
    }
   ],
   "source": [
    "#get list of mutations and associated tite-seq Kd values (inferred by mean bin approach)\n",
    "mut_list = pd.read_csv('mut-list.csv',  sep=',', dtype={'geno' : str}, index_col=[0])\n",
    "mut_list"
   ]
  },
  {
   "cell_type": "code",
   "execution_count": 4,
   "metadata": {
    "ExecuteTime": {
     "end_time": "2021-01-27T19:25:28.568191Z",
     "start_time": "2021-01-27T19:25:28.538269Z"
    },
    "scrolled": false
   },
   "outputs": [
    {
     "data": {
      "text/html": [
       "<div>\n",
       "<style scoped>\n",
       "    .dataframe tbody tr th:only-of-type {\n",
       "        vertical-align: middle;\n",
       "    }\n",
       "\n",
       "    .dataframe tbody tr th {\n",
       "        vertical-align: top;\n",
       "    }\n",
       "\n",
       "    .dataframe thead th {\n",
       "        text-align: right;\n",
       "    }\n",
       "</style>\n",
       "<table border=\"1\" class=\"dataframe\">\n",
       "  <thead>\n",
       "    <tr style=\"text-align: right;\">\n",
       "      <th></th>\n",
       "      <th>directory</th>\n",
       "      <th>row</th>\n",
       "      <th>shortname</th>\n",
       "      <th>mutant</th>\n",
       "      <th>antigen</th>\n",
       "      <th>replicate</th>\n",
       "      <th>prefix</th>\n",
       "    </tr>\n",
       "  </thead>\n",
       "  <tbody>\n",
       "    <tr>\n",
       "      <th>0</th>\n",
       "      <td>20220623_rep1</td>\n",
       "      <td>A</td>\n",
       "      <td>germ</td>\n",
       "      <td>a</td>\n",
       "      <td>G189D</td>\n",
       "      <td>1</td>\n",
       "      <td>NaN</td>\n",
       "    </tr>\n",
       "    <tr>\n",
       "      <th>1</th>\n",
       "      <td>20220623_rep1</td>\n",
       "      <td>B</td>\n",
       "      <td>som16</td>\n",
       "      <td>b</td>\n",
       "      <td>G189D</td>\n",
       "      <td>1</td>\n",
       "      <td>NaN</td>\n",
       "    </tr>\n",
       "    <tr>\n",
       "      <th>2</th>\n",
       "      <td>20220623_rep1</td>\n",
       "      <td>D</td>\n",
       "      <td>Y35N_N52H</td>\n",
       "      <td>d</td>\n",
       "      <td>SI</td>\n",
       "      <td>1</td>\n",
       "      <td>NaN</td>\n",
       "    </tr>\n",
       "    <tr>\n",
       "      <th>3</th>\n",
       "      <td>20220623_rep1</td>\n",
       "      <td>E</td>\n",
       "      <td>i2_wothers</td>\n",
       "      <td>e</td>\n",
       "      <td>SI</td>\n",
       "      <td>1</td>\n",
       "      <td>NaN</td>\n",
       "    </tr>\n",
       "    <tr>\n",
       "      <th>4</th>\n",
       "      <td>20220623_rep1</td>\n",
       "      <td>F</td>\n",
       "      <td>highlymut</td>\n",
       "      <td>f</td>\n",
       "      <td>SI</td>\n",
       "      <td>1</td>\n",
       "      <td>NaN</td>\n",
       "    </tr>\n",
       "  </tbody>\n",
       "</table>\n",
       "</div>"
      ],
      "text/plain": [
       "       directory row   shortname mutant antigen  replicate  prefix\n",
       "0  20220623_rep1   A        germ      a   G189D          1     NaN\n",
       "1  20220623_rep1   B       som16      b   G189D          1     NaN\n",
       "2  20220623_rep1   D   Y35N_N52H      d      SI          1     NaN\n",
       "3  20220623_rep1   E  i2_wothers      e      SI          1     NaN\n",
       "4  20220623_rep1   F   highlymut      f      SI          1     NaN"
      ]
     },
     "execution_count": 4,
     "metadata": {},
     "output_type": "execute_result"
    }
   ],
   "source": [
    "#get run list\n",
    "run_list = pd.read_csv('run-list.csv')\n",
    "run_list.head()"
   ]
  },
  {
   "cell_type": "code",
   "execution_count": 5,
   "metadata": {
    "ExecuteTime": {
     "end_time": "2021-01-27T19:25:28.599109Z",
     "start_time": "2021-01-27T19:25:28.570185Z"
    },
    "scrolled": false
   },
   "outputs": [
    {
     "data": {
      "text/html": [
       "<div>\n",
       "<style scoped>\n",
       "    .dataframe tbody tr th:only-of-type {\n",
       "        vertical-align: middle;\n",
       "    }\n",
       "\n",
       "    .dataframe tbody tr th {\n",
       "        vertical-align: top;\n",
       "    }\n",
       "\n",
       "    .dataframe thead th {\n",
       "        text-align: right;\n",
       "    }\n",
       "</style>\n",
       "<table border=\"1\" class=\"dataframe\">\n",
       "  <thead>\n",
       "    <tr style=\"text-align: right;\">\n",
       "      <th></th>\n",
       "      <th>MA</th>\n",
       "      <th>SI</th>\n",
       "      <th>G189D</th>\n",
       "    </tr>\n",
       "    <tr>\n",
       "      <th>well column</th>\n",
       "      <th></th>\n",
       "      <th></th>\n",
       "      <th></th>\n",
       "    </tr>\n",
       "  </thead>\n",
       "  <tbody>\n",
       "    <tr>\n",
       "      <th>1</th>\n",
       "      <td>5.99</td>\n",
       "      <td>6.04</td>\n",
       "      <td>6.0</td>\n",
       "    </tr>\n",
       "    <tr>\n",
       "      <th>2</th>\n",
       "      <td>6.99</td>\n",
       "      <td>7.04</td>\n",
       "      <td>7.0</td>\n",
       "    </tr>\n",
       "    <tr>\n",
       "      <th>3</th>\n",
       "      <td>7.99</td>\n",
       "      <td>8.04</td>\n",
       "      <td>8.0</td>\n",
       "    </tr>\n",
       "    <tr>\n",
       "      <th>4</th>\n",
       "      <td>8.99</td>\n",
       "      <td>9.04</td>\n",
       "      <td>9.0</td>\n",
       "    </tr>\n",
       "    <tr>\n",
       "      <th>5</th>\n",
       "      <td>9.99</td>\n",
       "      <td>10.04</td>\n",
       "      <td>10.0</td>\n",
       "    </tr>\n",
       "    <tr>\n",
       "      <th>6</th>\n",
       "      <td>10.99</td>\n",
       "      <td>11.04</td>\n",
       "      <td>11.0</td>\n",
       "    </tr>\n",
       "    <tr>\n",
       "      <th>7</th>\n",
       "      <td>14.00</td>\n",
       "      <td>14.00</td>\n",
       "      <td>14.0</td>\n",
       "    </tr>\n",
       "  </tbody>\n",
       "</table>\n",
       "</div>"
      ],
      "text/plain": [
       "                MA     SI  G189D\n",
       "well column                     \n",
       "1             5.99   6.04    6.0\n",
       "2             6.99   7.04    7.0\n",
       "3             7.99   8.04    8.0\n",
       "4             8.99   9.04    9.0\n",
       "5             9.99  10.04   10.0\n",
       "6            10.99  11.04   11.0\n",
       "7            14.00  14.00   14.0"
      ]
     },
     "execution_count": 5,
     "metadata": {},
     "output_type": "execute_result"
    }
   ],
   "source": [
    "#get antigen concentrations\n",
    "concentrations_list = pd.read_csv('concentrations-list.csv', index_col=[0])\n",
    "cols = concentrations_list.index\n",
    "concentrations_list"
   ]
  },
  {
   "cell_type": "code",
   "execution_count": 6,
   "metadata": {
    "ExecuteTime": {
     "end_time": "2021-01-27T19:25:40.489633Z",
     "start_time": "2021-01-27T19:25:28.601103Z"
    },
    "scrolled": true
   },
   "outputs": [
    {
     "name": "stdout",
     "output_type": "stream",
     "text": [
      "name\tantigen\tmin PE fluor\n",
      "germ\tG189D\t-92.5\n",
      "som16\tG189D\t-144.3\n",
      "Y35N_N52H\tSI\t-89.54\n",
      "i2_wothers\tSI\t-85.84\n",
      "highlymut\tSI\t-102.12\n",
      "i2\tMA\t-397.38\n",
      "germ\tG189D\t-102.0\n",
      "som16\tG189D\t-73.8\n",
      "Y35N_N52H\tSI\t-69.0\n",
      "i2_wothers\tSI\t-74.4\n",
      "highlymut\tSI\t-76.2\n",
      "i2\tMA\t-86.4\n"
     ]
    }
   ],
   "source": [
    "#define functions for assigning csv to each mutant and transforming fluor values\n",
    "def get_run_jeff(run_id):\n",
    "    run_row = run_list.loc[run_id,:]\n",
    "    wells = ['%c%02d' % (run_row['row'], i) for i in range(1,8)]\n",
    "    def get_filename(well):\n",
    "        search =  os.path.join(run_row['directory'], '*%s*' % well)\n",
    "        filenames = glob.glob(search)\n",
    "        if len(filenames) != 1:\n",
    "            print(search, filenames)\n",
    "            raise Exception(well)\n",
    "        return filenames[0]\n",
    "\n",
    "    read = pd.read_csv\n",
    "    return [read(get_filename(well)) for well in wells]\n",
    "\n",
    "def get_run(run_id):\n",
    "    if pd.isna(run_list['prefix'])[run_id]:\n",
    "        run = get_run_jeff(run_id)\n",
    "    else:\n",
    "        run = get_run_angela(run_id)\n",
    "    #use compensated fluor\n",
    "    if 'Comp-PE-A' in run[0]:\n",
    "        for df in run:\n",
    "            df['PE-A'] = df['PE-A']\n",
    "            df['FITC-A'] = df['FITC-A']\n",
    "    #shift all PE-A by the minimum and calculate log(PE-A)\n",
    "    PE_min = min(df['PE-A'].min() for df in run)\n",
    "    for df in run:\n",
    "        df['log_PE'] = np.log10(df['PE-A'] - PE_min + 1)\n",
    "        df['log_FITC'] = np.log10(df['FITC-A'])\n",
    "        \n",
    "    run_row = run_list.loc[run_id,:]\n",
    "    print(run_row['shortname'], run_row['antigen'], PE_min, sep='\\t')\n",
    "    \n",
    "    return run\n",
    "    \n",
    "print('name', 'antigen', 'min PE fluor', sep='\\t')\n",
    "runs = [get_run(run_id) for run_id in run_list.index]"
   ]
  },
  {
   "cell_type": "markdown",
   "metadata": {},
   "source": [
    "## Fit fluorescence vs. [HA] to get Kd"
   ]
  },
  {
   "cell_type": "code",
   "execution_count": 10,
   "metadata": {
    "ExecuteTime": {
     "end_time": "2021-01-27T19:25:50.634567Z",
     "start_time": "2021-01-27T19:25:40.490631Z"
    },
    "scrolled": true
   },
   "outputs": [
    {
     "data": {
      "image/png": "[encoded data removed]",
      "text/plain": [
       "<Figure size 360x144 with 1 Axes>"
      ]
     },
     "metadata": {},
     "output_type": "display_data"
    },
    {
     "data": {
      "image/png": "[encoded data removed]",
      "text/plain": [
       "<Figure size 360x144 with 1 Axes>"
      ]
     },
     "metadata": {},
     "output_type": "display_data"
    },
    {
     "data": {
      "image/png": "[encoded data removed]",
      "text/plain": [
       "<Figure size 360x144 with 1 Axes>"
      ]
     },
     "metadata": {},
     "output_type": "display_data"
    },
    {
     "data": {
      "image/png": "[encoded data removed]",
      "text/plain": [
       "<Figure size 360x144 with 1 Axes>"
      ]
     },
     "metadata": {},
     "output_type": "display_data"
    },
    {
     "data": {
      "image/png": "[encoded data removed]",
      "text/plain": [
       "<Figure size 360x144 with 1 Axes>"
      ]
     },
     "metadata": {},
     "output_type": "display_data"
    },
    {
     "data": {
      "image/png": "[encoded data removed]",
      "text/plain": [
       "<Figure size 360x144 with 1 Axes>"
      ]
     },
     "metadata": {},
     "output_type": "display_data"
    },
    {
     "data": {
      "image/png": "[encoded data removed]",
      "text/plain": [
       "<Figure size 360x144 with 1 Axes>"
      ]
     },
     "metadata": {},
     "output_type": "display_data"
    },
    {
     "data": {
      "image/png": "[encoded data removed]",
      "text/plain": [
       "<Figure size 360x144 with 1 Axes>"
      ]
     },
     "metadata": {},
     "output_type": "display_data"
    },
    {
     "data": {
      "image/png": "[encoded data removed]",
      "text/plain": [
       "<Figure size 360x144 with 1 Axes>"
      ]
     },
     "metadata": {},
     "output_type": "display_data"
    },
    {
     "data": {
      "image/png": "[encoded data removed]",
      "text/plain": [
       "<Figure size 360x144 with 1 Axes>"
      ]
     },
     "metadata": {},
     "output_type": "display_data"
    },
    {
     "data": {
      "image/png": "[encoded data removed]",
      "text/plain": [
       "<Figure size 360x144 with 1 Axes>"
      ]
     },
     "metadata": {},
     "output_type": "display_data"
    },
    {
     "data": {
      "image/png": "[encoded data removed]",
      "text/plain": [
       "<Figure size 360x144 with 1 Axes>"
      ]
     },
     "metadata": {},
     "output_type": "display_data"
    }
   ],
   "source": [
    "def sigmoid(c, Kd, A, B):\n",
    "    return np.log10(A * (10**c/((10**c)+(10**Kd))) + B)\n",
    "\n",
    "def rms(y, yfit):\n",
    "    return np.sqrt(np.sum((y-yfit)**2))\n",
    "\n",
    "n_runs = run_list.shape[0]\n",
    "run_list['KD'] = np.zeros(n_runs)\n",
    "run_list['KD_err'] = np.zeros(n_runs)\n",
    "\n",
    "for i,run in enumerate(runs):\n",
    "    mean_log_fluor = [df['log_PE'].mean() for df in run]\n",
    "    std_log_fluor = [df['log_PE'].std() for df in run]\n",
    "    antigen = run_list['antigen'][i]\n",
    "    #adjust antigen concentration depending on replicate\n",
    "    if not pd.isna(run_list['prefix'])[i]:\n",
    "        antigen += '_angela'\n",
    "    concs = (-concentrations_list[antigen]).copy()\n",
    "    \n",
    "    popt, pcov = scipy.optimize.curve_fit(sigmoid,\n",
    "                                          concs,\n",
    "                                          mean_log_fluor,\n",
    "                                          p0=[(-9),10**(4),10**(1)],\n",
    "                                          sigma=std_log_fluor,\n",
    "                                          absolute_sigma=True,\n",
    "                                          bounds = [((-14),1,1),((-5),10**(5),10**(5))],\n",
    "                                          maxfev=400000)\n",
    "    \n",
    "    logKd = popt[0]\n",
    "    logKd_err = np.sqrt(pcov[0][0])\n",
    "    run_list.loc[i,'KD'] = logKd\n",
    "    run_list.loc[i,'KD_err'] = logKd_err\n",
    "    \n",
    "    concs_plot = np.linspace(concs.min(), concs.max())\n",
    "    \n",
    "    plt.figure(figsize=(5,2))\n",
    "    plt.errorbar(concs, mean_log_fluor, yerr=std_log_fluor, fmt='o', capsize=3)\n",
    "    plt.plot(concs_plot, sigmoid(concs_plot, *popt), color='grey')\n",
    "    plt.plot(concs_plot, sigmoid(concs_plot, *popt), color='grey')\n",
    "#     plt.axvline(logKd, linestyle='-', color='red',\n",
    "#                label=r'$\\log K_D = %.2f \\pm %.2f$' % (logKd, logKd_err))\n",
    "#     plt.axvline(logKd + logKd_err, linestyle=':', color='red')\n",
    "#     plt.axvline(logKd - logKd_err, linestyle=':', color='red')\n",
    "    plt.xlabel('log [HA]')\n",
    "    plt.ylim(1.5,4.5)\n",
    "    plt.ylabel('log PE fluorescence')\n",
    "    plt.title('',\n",
    "              fontsize=14)\n",
    "#     plt.legend()\n",
    "    plt.savefig(\"isogenic_curve_%s_%s_%s.png\" %\n",
    "              (run_list.loc[i,'shortname'],\n",
    "               run_list.loc[i,'antigen'],\n",
    "               run_list.loc[i,'replicate']), transparent=True, dpi=600,bbox_inches='tight')"
   ]
  },
  {
   "cell_type": "code",
   "execution_count": null,
   "metadata": {},
   "outputs": [],
   "source": []
  }
 ],
 "metadata": {
  "kernelspec": {
   "display_name": "Python 3 (ipykernel)",
   "language": "python",
   "name": "python3"
  },
  "language_info": {
   "codemirror_mode": {
    "name": "ipython",
    "version": 3
   },
   "file_extension": ".py",
   "mimetype": "text/x-python",
   "name": "python",
   "nbconvert_exporter": "python",
   "pygments_lexer": "ipython3",
   "version": "3.9.12"
  },
  "toc": {
   "base_numbering": 1,
   "nav_menu": {},
   "number_sections": true,
   "sideBar": true,
   "skip_h1_title": false,
   "title_cell": "Table of Contents",
   "title_sidebar": "Contents",
   "toc_cell": false,
   "toc_position": {},
   "toc_section_display": true,
   "toc_window_display": false
  }
 },
 "nbformat": 4,
 "nbformat_minor": 4
}
