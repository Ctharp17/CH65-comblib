{
 "cells": [
  {
   "cell_type": "code",
   "execution_count": 15,
   "id": "d8879a15-1258-4e87-9d9c-2518a4ac134c",
   "metadata": {
    "tags": []
   },
   "outputs": [],
   "source": [
    "import numpy as np\n",
    "import csv\n",
    "# import sys\n",
    "import random\n",
    "from sklearn.preprocessing import PolynomialFeatures\n",
    "import statsmodels.api as sm\n",
    "from sklearn import linear_model\n",
    "import matplotlib.pyplot as plt \n",
    "import gc\n",
    "from tqdm.notebook import tqdm\n",
    "\n",
    "# choose statistical or biochemical epistasis\n",
    "ep_type = 'biochem' \n",
    "# ep_type = 'stat'\n",
    "\n",
    "# read in data\n",
    "geno_vectors_SI06 = []\n",
    "phenos_SI06 = []\n",
    "\n",
    "mutations_H1 = [str(x) for x in range(1,17)]\n",
    "\n",
    "\n",
    "with open('../../Kd_Inference/results_CH65/Kd_processed/20221008_CH65_QCfilt_REPfilt.csv','r') as readfile:\n",
    "    kd_reader = csv.reader(readfile)\n",
    "    header = next(kd_reader)\n",
    "    for row in kd_reader:\n",
    "        geno = row[0]\n",
    "        \n",
    "        geno_vec = np.array([float(x) for ii, x in enumerate(geno) if ii != 10])\n",
    "\n",
    "        pheno_SI06 = row[7] # row for SI06\n",
    "        \n",
    "        if len(pheno_SI06) != 0 and row[23] == '1':  \n",
    "            geno_vectors_SI06.append(geno_vec)\n",
    "            phenos_SI06.append(float(pheno_SI06))\n",
    "\n",
    "    readfile.close()\n",
    "\n"
   ]
  },
  {
   "cell_type": "code",
   "execution_count": 16,
   "id": "3315b447-109a-4950-bc8c-c0a25ff99d9a",
   "metadata": {},
   "outputs": [
    {
     "data": {
      "application/vnd.jupyter.widget-view+json": {
       "model_id": "e6ca5fbdecd6482b98cad7adee6cf0a9",
       "version_major": 2,
       "version_minor": 0
      },
      "text/plain": [
       "HBox(children=(HTML(value=''), FloatProgress(value=0.0, max=8.0), HTML(value='')))"
      ]
     },
     "metadata": {},
     "output_type": "display_data"
    },
    {
     "name": "stdout",
     "output_type": "stream",
     "text": [
      "\n"
     ]
    }
   ],
   "source": [
    "phenos_SI06 = np.array(phenos_SI06)\n",
    "\n",
    "genos_SI06 = np.empty((len(phenos_SI06),len(geno_vectors_SI06[0])))\n",
    "for i in range(len(phenos_SI06)):\n",
    "    genos_SI06[i] = geno_vectors_SI06[i][:]\n",
    "    \n",
    "if ep_type == 'stat':\n",
    "    genos_SI06 = 2*(genos_SI06-0.5)  \n",
    "\n",
    "num_folds = 8\n",
    "max_order = 7\n",
    "\n",
    "# proportion of data to be tested \n",
    "prop_test = 0.1\n",
    "\n",
    "size_test_SI06 = int(prop_test*len(genos_SI06))\n",
    "size_train_SI06 = len(genos_SI06)-size_test_SI06\n",
    "\n",
    "# lists to store r squared values\n",
    "rsq_train_list_SI06 = np.zeros((num_folds, max_order+1))\n",
    "rsq_test_list_SI06 = np.zeros((num_folds, max_order+1))\n",
    "\n",
    "\n",
    "\n",
    "# loop over CV folds\n",
    "for f in tqdm(range(num_folds)):\n",
    "    #randomly selects \n",
    "    indices_permuted_SI06 = random.sample(range(0,len(genos_SI06)), size_test_SI06)\n",
    "\n",
    "    genos_train_SI06 = np.delete(genos_SI06.copy(), indices_permuted_SI06, 0)\n",
    "    genos_test_SI06 = genos_SI06[indices_permuted_SI06].copy()\n",
    "    phenos_train_SI06 = np.delete(phenos_SI06, indices_permuted_SI06, 0)\n",
    "    phenos_test_SI06 = phenos_SI06[indices_permuted_SI06].copy()\n",
    "\n",
    "    # fit models of increasing order\n",
    "    for order in range(0,max_order+1):\n",
    "        reg_SI06_current = linear_model.Ridge(alpha=0.0001, solver='lsqr', fit_intercept=False)\n",
    "        poly_SI06_current = PolynomialFeatures(order,interaction_only=True)\n",
    "        genos_train_SI06_current = poly_SI06_current.fit_transform(genos_train_SI06)\n",
    "        genos_test_SI06_current = poly_SI06_current.fit_transform(genos_test_SI06)\n",
    "        reg_SI06_current.fit(genos_train_SI06_current, phenos_train_SI06)\n",
    "        reg_SI06_coefs_current  = reg_SI06_current.coef_\n",
    "\n",
    "        #reg_SI06_current_predict = reg_SI06_coefs_current\n",
    "        rsquared_train_SI06_current = 1-np.sum((phenos_train_SI06-reg_SI06_current.predict(genos_train_SI06_current))**2)/np.sum((phenos_train_SI06-np.mean(phenos_train_SI06))**2)\n",
    "        rsquared_test_SI06_current = 1-np.sum((phenos_test_SI06-reg_SI06_current.predict(genos_test_SI06_current))**2)/np.sum((phenos_test_SI06-np.mean(phenos_test_SI06))**2)\n",
    "        rsq_train_list_SI06[f, order] = rsquared_train_SI06_current\n",
    "        rsq_test_list_SI06[f, order] = rsquared_test_SI06_current\n",
    "        \n",
    "        #print(rsquared_train_SI06_current)\n",
    "        #print(rsquared_test_SI06_current)              \n",
    "    del reg_SI06_current\n",
    "    del indices_permuted_SI06\n",
    "    del genos_train_SI06\n",
    "    del genos_test_SI06\n",
    "    del phenos_train_SI06\n",
    "    del phenos_test_SI06\n",
    "    del reg_SI06_coefs_current\n",
    "    del poly_SI06_current\n",
    "    gc.collect()\n",
    "        \n"
   ]
  },
  {
   "cell_type": "code",
   "execution_count": 22,
   "id": "b0147aea-6e62-4ad1-a90e-fc47b97d8702",
   "metadata": {},
   "outputs": [],
   "source": [
    "import pandas as pd\n",
    "lst = []\n",
    "num_folds = 8\n",
    "df = pd.DataFrame()\n",
    "for f in range(num_folds):\n",
    "    for o in range(0,max_order+1):\n",
    "        lst += [(f, o, rsq_train_list_SI06[f, o], rsq_test_list_SI06[f,o])]\n",
    "df = pd.DataFrame(lst, columns=[\"fold_nb\", \"order\", \"train\", \"test\"])\n",
    "df.to_csv(f\"r2_CV_{ep_type}_SI06.csv\", index=False)"
   ]
  },
  {
   "cell_type": "code",
   "execution_count": 25,
   "id": "b4c5949d-c98c-48da-9807-4c4a50252c24",
   "metadata": {},
   "outputs": [
    {
     "data": {
      "text/html": [
       "<div>\n",
       "<style scoped>\n",
       "    .dataframe tbody tr th:only-of-type {\n",
       "        vertical-align: middle;\n",
       "    }\n",
       "\n",
       "    .dataframe tbody tr th {\n",
       "        vertical-align: top;\n",
       "    }\n",
       "\n",
       "    .dataframe thead th {\n",
       "        text-align: right;\n",
       "    }\n",
       "</style>\n",
       "<table border=\"1\" class=\"dataframe\">\n",
       "  <thead>\n",
       "    <tr style=\"text-align: right;\">\n",
       "      <th></th>\n",
       "      <th>train</th>\n",
       "      <th>test</th>\n",
       "    </tr>\n",
       "    <tr>\n",
       "      <th>order</th>\n",
       "      <th></th>\n",
       "      <th></th>\n",
       "    </tr>\n",
       "  </thead>\n",
       "  <tbody>\n",
       "    <tr>\n",
       "      <th>0</th>\n",
       "      <td>-8.881784e-16</td>\n",
       "      <td>-0.000553</td>\n",
       "    </tr>\n",
       "    <tr>\n",
       "      <th>1</th>\n",
       "      <td>6.367044e-01</td>\n",
       "      <td>0.628192</td>\n",
       "    </tr>\n",
       "    <tr>\n",
       "      <th>2</th>\n",
       "      <td>8.788008e-01</td>\n",
       "      <td>0.873885</td>\n",
       "    </tr>\n",
       "    <tr>\n",
       "      <th>3</th>\n",
       "      <td>9.311445e-01</td>\n",
       "      <td>0.925680</td>\n",
       "    </tr>\n",
       "    <tr>\n",
       "      <th>4</th>\n",
       "      <td>9.497707e-01</td>\n",
       "      <td>0.939864</td>\n",
       "    </tr>\n",
       "    <tr>\n",
       "      <th>5</th>\n",
       "      <td>9.606400e-01</td>\n",
       "      <td>0.944228</td>\n",
       "    </tr>\n",
       "    <tr>\n",
       "      <th>6</th>\n",
       "      <td>9.641763e-01</td>\n",
       "      <td>0.942972</td>\n",
       "    </tr>\n",
       "    <tr>\n",
       "      <th>7</th>\n",
       "      <td>9.661865e-01</td>\n",
       "      <td>0.941879</td>\n",
       "    </tr>\n",
       "  </tbody>\n",
       "</table>\n",
       "</div>"
      ],
      "text/plain": [
       "              train      test\n",
       "order                        \n",
       "0     -8.881784e-16 -0.000553\n",
       "1      6.367044e-01  0.628192\n",
       "2      8.788008e-01  0.873885\n",
       "3      9.311445e-01  0.925680\n",
       "4      9.497707e-01  0.939864\n",
       "5      9.606400e-01  0.944228\n",
       "6      9.641763e-01  0.942972\n",
       "7      9.661865e-01  0.941879"
      ]
     },
     "execution_count": 25,
     "metadata": {},
     "output_type": "execute_result"
    }
   ],
   "source": [
    "df = pd.read_csv(f\"r2_CV_biochem_SI06.csv\")\n",
    "df.groupby(\"order\").agg({\"train\":\"mean\", \"test\":\"mean\"})"
   ]
  },
  {
   "cell_type": "code",
   "execution_count": 13,
   "id": "21c460a9-6597-4384-b0aa-9b2332529fd9",
   "metadata": {},
   "outputs": [],
   "source": [
    "import numpy as np\n",
    "import csv\n",
    "# import sys\n",
    "from sklearn.preprocessing import PolynomialFeatures\n",
    "import statsmodels.api as sm\n",
    "\n",
    "# choose statistical or biochemical epistasis\n",
    "ep_type = 'biochem' \n",
    "# ep_type = 'stat'\n",
    "\n",
    "# read in data\n",
    "geno_vectors_SI06 = []\n",
    "phenos_SI06 = []\n",
    "\n",
    "mutations_SI06 = [str(x) for x in range(1,17)]\n",
    "\n",
    "with open('../../Kd_Inference/results_CH65/Kd_processed/20221008_CH65_QCfilt_REPfilt.csv','r') as readfile:\n",
    "    kd_reader = csv.reader(readfile)\n",
    "    header = next(kd_reader)\n",
    "    for row in kd_reader:\n",
    "        geno = row[0]\n",
    "        \n",
    "        geno_vec = np.array([float(x) for ii, x in enumerate(geno) if ii != 10])\n",
    "\n",
    "        pheno_SI06 = row[7]\n",
    "        \n",
    "            \n",
    "        if len(pheno_SI06) != 0 and row[23] == '1':  \n",
    "            geno_vectors_SI06.append(geno_vec)\n",
    "            phenos_SI06.append(float(pheno_SI06))\n",
    "    readfile.close()\n",
    "\n",
    "phenos_SI06 = np.array(phenos_SI06)\n",
    "\n",
    "genos_SI06 = np.empty((len(phenos_SI06),len(geno_vectors_SI06[0])))\n",
    "for i in range(len(phenos_SI06)):\n",
    "    genos_SI06[i] = geno_vectors_SI06[i][:]\n",
    "    \n",
    "\n",
    "\n",
    "if ep_type == 'stat':\n",
    "    genos_SI06 = 2*(genos_SI06-0.5)\n",
    "\n",
    "# print(genos_SI06.shape,phenos_SI06.shape)\n",
    "\n",
    "optimal_SI06_order = 5\n",
    "# # Fit final models\n",
    "\n"
   ]
  },
  {
   "cell_type": "code",
   "execution_count": 14,
   "id": "c7b021c3-5fa3-4aad-8dc3-8d9c29599143",
   "metadata": {},
   "outputs": [
    {
     "name": "stderr",
     "output_type": "stream",
     "text": [
      "/n/home13/tdupic/.conda/envs/omicron/lib/python3.8/site-packages/sklearn/utils/deprecation.py:87: FutureWarning: Function get_feature_names is deprecated; get_feature_names is deprecated in 1.0 and will be removed in 1.2. Please use get_feature_names_out instead.\n",
      "  warnings.warn(msg, category=FutureWarning)\n",
      "/n/home13/tdupic/.conda/envs/omicron/lib/python3.8/site-packages/sklearn/utils/deprecation.py:87: FutureWarning: Function get_feature_names is deprecated; get_feature_names is deprecated in 1.0 and will be removed in 1.2. Please use get_feature_names_out instead.\n",
      "  warnings.warn(msg, category=FutureWarning)\n",
      "/n/home13/tdupic/.conda/envs/omicron/lib/python3.8/site-packages/sklearn/utils/deprecation.py:87: FutureWarning: Function get_feature_names is deprecated; get_feature_names is deprecated in 1.0 and will be removed in 1.2. Please use get_feature_names_out instead.\n",
      "  warnings.warn(msg, category=FutureWarning)\n",
      "/n/home13/tdupic/.conda/envs/omicron/lib/python3.8/site-packages/sklearn/utils/deprecation.py:87: FutureWarning: Function get_feature_names is deprecated; get_feature_names is deprecated in 1.0 and will be removed in 1.2. Please use get_feature_names_out instead.\n",
      "  warnings.warn(msg, category=FutureWarning)\n",
      "/n/home13/tdupic/.conda/envs/omicron/lib/python3.8/site-packages/sklearn/utils/deprecation.py:87: FutureWarning: Function get_feature_names is deprecated; get_feature_names is deprecated in 1.0 and will be removed in 1.2. Please use get_feature_names_out instead.\n",
      "  warnings.warn(msg, category=FutureWarning)\n"
     ]
    }
   ],
   "source": [
    "np.random.seed(2112)\n",
    "indices_permuted_SI06 = np.random.permutation(np.arange(len(genos_SI06)))\n",
    "\n",
    "# fit models of increasing order\n",
    "for order in range(1,optimal_SI06_order+1):\n",
    "# for order in range(1,2):\n",
    "    # print(order)\n",
    "    genos_SI06_permuted = genos_SI06[indices_permuted_SI06]\n",
    "    # small noise to avoid numeric issues\n",
    "    genos_SI06_permuted += 0.0001 * np.random.normal(size=genos_SI06_permuted.shape)\n",
    "    phenos_SI06_permuted = phenos_SI06[indices_permuted_SI06]\n",
    "    # print('Order: ',str(order),file=sys.stdout,flush=True)\n",
    "    poly_SI06_current = PolynomialFeatures(order,interaction_only=True)\n",
    "    genos_SI06_current = poly_SI06_current.fit_transform(genos_SI06_permuted)\n",
    "\n",
    "    # fit\n",
    "    reg_SI06_current = sm.OLS(phenos_SI06_permuted,genos_SI06_current).fit()\n",
    "    reg_SI06_coefs_current = reg_SI06_current.params\n",
    "    reg_SI06_CIs_current = reg_SI06_current.conf_int(alpha=0.05/float(len(reg_SI06_coefs_current)), cols=None)\n",
    "    reg_SI06_stderr = reg_SI06_current.bse\n",
    "    reg_SI06_pvalues = reg_SI06_current.pvalues\n",
    "    \n",
    "    num_sig = len(np.where(reg_SI06_pvalues < 0.05/float(len(reg_SI06_coefs_current)))[0])\n",
    "\n",
    "    predicted_phenos_permuted_SI06 = reg_SI06_current.predict(genos_SI06_current)\n",
    "    rsquared_SI06_current = reg_SI06_current.rsquared\n",
    "    # print('Params: ',len(reg_SI06_coefs_current),file=sys.stdout,flush=True)\n",
    "    # print('Performance: ',rsquared_SI06_current,file=sys.stdout,flush=True)\n",
    "    # print(num_sig,file=sys.stdout,flush=True)\n",
    "\t \n",
    "\n",
    "    # write model to file\n",
    "    coef_names = poly_SI06_current.get_feature_names(input_features = mutations_SI06)\n",
    "    with open('statistical/CH65_SI06_newdata_'+str(order)+'order_'+ep_type+'.txt','w') as writefile:\n",
    "        coef_writer = csv.writer(writefile,delimiter='\\t')\n",
    "        coef_writer.writerow(['Params: ',len(reg_SI06_coefs_current)])\n",
    "        coef_writer.writerow(['Performance: ',rsquared_SI06_current])\n",
    "        coef_writer.writerow(['Term','Coefficient','Standard Error','p-value','95% CI lower','95% CI upper'])\n",
    "        coef_writer.writerow(['Intercept',reg_SI06_coefs_current[0]])\n",
    "        for i in range(1,len(reg_SI06_coefs_current)):\n",
    "            coef_writer.writerow([','.join(coef_names[i].split(' ')),reg_SI06_coefs_current[i],reg_SI06_stderr[i],\n",
    "                                  reg_SI06_pvalues[i],reg_SI06_CIs_current[i][0],reg_SI06_CIs_current[i][1]])\n",
    "        writefile.close()\n",
    "\n",
    "\n"
   ]
  },
  {
   "cell_type": "code",
   "execution_count": null,
   "id": "fffecac2-0f30-4da5-9c46-991152bfb0b7",
   "metadata": {},
   "outputs": [],
   "source": [
    "phenos_SI06"
   ]
  },
  {
   "cell_type": "code",
   "execution_count": 16,
   "id": "1d3c97e0-5188-40ff-8649-0e1efa217e81",
   "metadata": {},
   "outputs": [
    {
     "data": {
      "text/plain": [
       "31924"
      ]
     },
     "execution_count": 16,
     "metadata": {},
     "output_type": "execute_result"
    }
   ],
   "source": [
    "len(phenos_SI06)"
   ]
  },
  {
   "cell_type": "code",
   "execution_count": 17,
   "id": "8e66da5a-dcfe-44fe-a421-027cbbc70d15",
   "metadata": {},
   "outputs": [
    {
     "ename": "NameError",
     "evalue": "name 'genos' is not defined",
     "output_type": "error",
     "traceback": [
      "\u001b[0;31m---------------------------------------------------------------------------\u001b[0m",
      "\u001b[0;31mNameError\u001b[0m                                 Traceback (most recent call last)",
      "Input \u001b[0;32mIn [17]\u001b[0m, in \u001b[0;36m<cell line: 1>\u001b[0;34m()\u001b[0m\n\u001b[0;32m----> 1\u001b[0m \u001b[38;5;28mlen\u001b[39m(\u001b[43mgenos\u001b[49m)\n",
      "\u001b[0;31mNameError\u001b[0m: name 'genos' is not defined"
     ]
    }
   ],
   "source": [
    "len(genos)"
   ]
  },
  {
   "cell_type": "code",
   "execution_count": 18,
   "id": "5d765725-14f4-433b-b9c3-d2591f9c2a26",
   "metadata": {},
   "outputs": [
    {
     "data": {
      "text/plain": [
       "31924"
      ]
     },
     "execution_count": 18,
     "metadata": {},
     "output_type": "execute_result"
    }
   ],
   "source": [
    "len(geno_vectors_SI06)"
   ]
  },
  {
   "cell_type": "code",
   "execution_count": 23,
   "id": "e1a518ef-bff3-4ed0-9a98-52b81be84d8c",
   "metadata": {
    "tags": []
   },
   "outputs": [
    {
     "name": "stdout",
     "output_type": "stream",
     "text": [
      "65536 ../../Kd_Inference/results_CH65/Kd_processed/20221008_CH65_QCfilt_REPfilt.csv\n"
     ]
    }
   ],
   "source": [
    "!wc -l  '../../Kd_Inference/results_CH65/Kd_processed/20221008_CH65_QCfilt_REPfilt.csv'"
   ]
  },
  {
   "cell_type": "code",
   "execution_count": null,
   "id": "24859800-bc71-4b87-8bf5-1576db83658e",
   "metadata": {
    "tags": []
   },
   "outputs": [],
   "source": [
    "break"
   ]
  }
 ],
 "metadata": {
  "kernelspec": {
   "display_name": "Python [conda env:.conda-omicron]",
   "language": "python",
   "name": "conda-env-.conda-omicron-py"
  },
  "language_info": {
   "codemirror_mode": {
    "name": "ipython",
    "version": 3
   },
   "file_extension": ".py",
   "mimetype": "text/x-python",
   "name": "python",
   "nbconvert_exporter": "python",
   "pygments_lexer": "ipython3",
   "version": "3.8.13"
  }
 },
 "nbformat": 4,
 "nbformat_minor": 5
}
