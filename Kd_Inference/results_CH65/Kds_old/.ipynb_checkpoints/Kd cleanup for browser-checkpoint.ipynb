{
 "cells": [
  {
   "cell_type": "markdown",
   "metadata": {},
   "source": [
    "## import stuff"
   ]
  },
  {
   "cell_type": "code",
   "execution_count": 1,
   "metadata": {},
   "outputs": [],
   "source": [
    "#importing things\n",
    "import pandas as pd\n",
    "import numpy as np\n",
    "import csv\n",
    "import pylab as pl\n",
    "import matplotlib.pyplot as plt\n",
    "import copy\n",
    "import scipy\n",
    "from scipy.stats import linregress\n",
    "from scipy.stats import t\n",
    "from scipy.stats import sem\n",
    "from scipy.stats import chi2\n",
    "from scipy.stats import ttest_ind_from_stats\n",
    "from mpl_toolkits.mplot3d import Axes3D\n",
    "from scipy.stats import ttest_ind_from_stats\n",
    "from collections import OrderedDict\n",
    "import seaborn as sns"
   ]
  },
  {
   "cell_type": "markdown",
   "metadata": {},
   "source": [
    "## fetch the data"
   ]
  },
  {
   "cell_type": "code",
   "execution_count": 2,
   "metadata": {},
   "outputs": [],
   "source": [
    "#read in data, remove genotypes that are missing from ch65a\n",
    "ch65a = pd.DataFrame(pd.read_csv('Kds_CH65a_f3jrem.csv',delimiter=',',dtype={'geno': str})) #here spurious counts for the missing fragment are removed\n",
    "ch65b = pd.DataFrame(pd.read_csv('Kds_CH65b.tsv',delimiter='\\t',dtype={'geno': str}))\n",
    "ch65d = pd.DataFrame(pd.read_csv('Kds_CH65d.tsv',delimiter='\\t',dtype={'geno': str}))\n",
    "ch65e = pd.DataFrame(pd.read_csv('Kds_CH65e.tsv',delimiter='\\t',dtype={'geno': str}))\n",
    "ch65g = pd.DataFrame(pd.read_csv('Kds_CH65g.tsv',delimiter='\\t',dtype={'geno': str}))\n",
    "ch65h = pd.DataFrame(pd.read_csv('Kds_CH65h.tsv',delimiter='\\t',dtype={'geno': str}))"
   ]
  },
  {
   "cell_type": "markdown",
   "metadata": {},
   "source": [
    "## Pinning Kd to boundaries, removing poor fits, merging replicates"
   ]
  },
  {
   "cell_type": "code",
   "execution_count": 3,
   "metadata": {},
   "outputs": [
    {
     "name": "stdout",
     "output_type": "stream",
     "text": [
      "9.395241171076515 9.395160268993848\n"
     ]
    },
    {
     "data": {
      "text/plain": [
       "61424"
      ]
     },
     "execution_count": 3,
     "metadata": {},
     "output_type": "execute_result"
    }
   ],
   "source": [
    "#CH65A -- replacing things below the boundary with the boundary & then filter out all poor fits for binders\n",
    "ch65a_filt = ch65a.copy()\n",
    "column_name = \"log10Kd\"\n",
    "new_value = 6\n",
    "boolean_condition = (ch65a_filt.log10Kd < 6)|((ch65a_filt['mean_log10PE1'] < (1 + ch65a_filt['mean_log10PE0'])))\n",
    "ch65a_filt.loc[boolean_condition, column_name] = new_value\n",
    "ch65a_filt_out = ch65a_filt.loc[((ch65a_filt['log10Kd'] > 6) & (ch65a_filt['sigma'] <= 1) & (ch65a_filt['r2'] >= 0.8))|(ch65a_filt['log10Kd'] <= 6)]\n",
    "print(ch65a['log10Kd'].mean(),ch65a_filt_out['log10Kd'].mean())\n",
    "ch65a_filt_out.shape[0]"
   ]
  },
  {
   "cell_type": "code",
   "execution_count": 4,
   "metadata": {},
   "outputs": [
    {
     "name": "stdout",
     "output_type": "stream",
     "text": [
      "9.379108218013254 9.379099644042324\n"
     ]
    },
    {
     "data": {
      "text/plain": [
       "65522"
      ]
     },
     "execution_count": 4,
     "metadata": {},
     "output_type": "execute_result"
    }
   ],
   "source": [
    "#CH65B -- replacing things below the boundary with the boundary & then filter out all poor fits for binders\n",
    "ch65b_filt = ch65b.copy()\n",
    "column_name = \"log10Kd\"\n",
    "new_value = 6\n",
    "boolean_condition = (ch65b_filt.log10Kd < 6)|((ch65b_filt['mean_log10PE1'] < (1 + ch65b_filt['mean_log10PE0'])))\n",
    "ch65b_filt.loc[boolean_condition, column_name] = new_value\n",
    "ch65b_filt_out = ch65b_filt.loc[((ch65b_filt['log10Kd'] > 6) & (ch65b_filt['sigma'] <= 1) & (ch65b_filt['r2'] >= 0.8))|(ch65b_filt['log10Kd'] <= 6)]\n",
    "print(ch65b['log10Kd'].mean(),ch65b_filt_out['log10Kd'].mean())\n",
    "ch65b_filt_out.shape[0]"
   ]
  },
  {
   "cell_type": "code",
   "execution_count": 5,
   "metadata": {},
   "outputs": [
    {
     "name": "stdout",
     "output_type": "stream",
     "text": [
      "6.117678780048976 6.6740596010091\n"
     ]
    },
    {
     "data": {
      "text/plain": [
       "65397"
      ]
     },
     "execution_count": 5,
     "metadata": {},
     "output_type": "execute_result"
    }
   ],
   "source": [
    "#CH65D -- replacing things below the boundary with the boundary & then filter out all poor fits for binders\n",
    "ch65d_filt = ch65d.copy()\n",
    "column_name = \"log10Kd\"\n",
    "new_value = 6\n",
    "boolean_condition = (ch65d_filt.log10Kd < 6)|((ch65d_filt['mean_log10PE1'] < (1 + ch65d_filt['mean_log10PE0'])))\n",
    "ch65d_filt.loc[boolean_condition, column_name] = new_value\n",
    "ch65d_filt_out = ch65d_filt.loc[((ch65d_filt['log10Kd'] > 6) & (ch65d_filt['sigma'] <= 1) & (ch65d_filt['r2'] >= 0.8))|(ch65d_filt['log10Kd'] <= 6)]\n",
    "print(ch65d['log10Kd'].mean(),ch65d_filt_out['log10Kd'].mean())\n",
    "ch65d_filt_out.shape[0]"
   ]
  },
  {
   "cell_type": "code",
   "execution_count": 6,
   "metadata": {},
   "outputs": [
    {
     "name": "stdout",
     "output_type": "stream",
     "text": [
      "6.168214719931285 6.715010187463439\n"
     ]
    },
    {
     "data": {
      "text/plain": [
       "65460"
      ]
     },
     "execution_count": 6,
     "metadata": {},
     "output_type": "execute_result"
    }
   ],
   "source": [
    "#CH65E -- replacing things below the boundary with the boundary & then filter out all poor fits for binders\n",
    "ch65e_filt = ch65e.copy()\n",
    "column_name = \"log10Kd\"\n",
    "new_value = 6\n",
    "boolean_condition = (ch65e_filt.log10Kd < 6)|((ch65e_filt['mean_log10PE1'] < (1 + ch65e_filt['mean_log10PE0'])))\n",
    "ch65e_filt.loc[boolean_condition, column_name] = new_value\n",
    "ch65e_filt_out = ch65e_filt.loc[((ch65e_filt['log10Kd'] > 6) & (ch65e_filt['sigma'] <= 1) & (ch65e_filt['r2'] >= 0.8))|(ch65e_filt['log10Kd'] <= 6)]\n",
    "print(ch65e['log10Kd'].mean(),ch65e_filt_out['log10Kd'].mean())\n",
    "ch65e_filt_out.shape[0]"
   ]
  },
  {
   "cell_type": "code",
   "execution_count": 7,
   "metadata": {},
   "outputs": [
    {
     "name": "stdout",
     "output_type": "stream",
     "text": [
      "8.293162365445946 8.25452675972862\n"
     ]
    },
    {
     "data": {
      "text/plain": [
       "64677"
      ]
     },
     "execution_count": 7,
     "metadata": {},
     "output_type": "execute_result"
    }
   ],
   "source": [
    "#ch65g -- replacing things below the boundary with the boundary & then filter out all poor fits for binders\n",
    "ch65g_filt = ch65g.copy()\n",
    "column_name = \"log10Kd\"\n",
    "new_value = 6\n",
    "boolean_condition = (ch65g_filt.log10Kd < 6)|((ch65g_filt['mean_log10PE1'] < (1 + ch65g_filt['mean_log10PE0'])))\n",
    "ch65g_filt.loc[boolean_condition, column_name] = new_value\n",
    "ch65g_filt_out = ch65g_filt.loc[((ch65g_filt['log10Kd'] > 6) & (ch65g_filt['sigma'] <= 1) & (ch65g_filt['r2'] >= 0.8))|(ch65g_filt['log10Kd'] <= 6)]\n",
    "print(ch65g['log10Kd'].mean(),ch65g_filt_out['log10Kd'].mean())\n",
    "ch65g_filt_out.shape[0]"
   ]
  },
  {
   "cell_type": "code",
   "execution_count": 8,
   "metadata": {},
   "outputs": [
    {
     "name": "stdout",
     "output_type": "stream",
     "text": [
      "8.352648066440839 8.282124527815451\n"
     ]
    },
    {
     "data": {
      "text/plain": [
       "64429"
      ]
     },
     "execution_count": 8,
     "metadata": {},
     "output_type": "execute_result"
    }
   ],
   "source": [
    "#ch65h -- replacing things below the boundary with the boundary & then filter out all poor fits for binders\n",
    "ch65h_filt = ch65h.copy()\n",
    "column_name = \"log10Kd\"\n",
    "new_value = 6\n",
    "boolean_condition = (ch65h_filt.log10Kd < 6)|((ch65h_filt['mean_log10PE1'] < (1 + ch65h_filt['mean_log10PE0'])))\n",
    "ch65h_filt.loc[boolean_condition, column_name] = new_value\n",
    "ch65h_filt_out = ch65h_filt.loc[((ch65h_filt['log10Kd'] > 6) & (ch65h_filt['sigma'] <= 1) & (ch65h_filt['r2'] >= 0.8))|(ch65h_filt['log10Kd'] <= 6)]\n",
    "print(ch65h['log10Kd'].mean(),ch65h_filt_out['log10Kd'].mean())\n",
    "ch65h_filt_out.shape[0]"
   ]
  },
  {
   "cell_type": "markdown",
   "metadata": {},
   "source": [
    "## merging and averaging"
   ]
  },
  {
   "cell_type": "code",
   "execution_count": 9,
   "metadata": {},
   "outputs": [
    {
     "name": "stdout",
     "output_type": "stream",
     "text": [
      "65533 65530\n"
     ]
    }
   ],
   "source": [
    "MA90_filt = pd.DataFrame()\n",
    "MA90_filt = pd.merge(ch65a_filt_out, ch65b_filt_out, on='geno', how='outer',suffixes=(\"_a\", \"_b\"))\n",
    "MA90_filt['log10Kd'] = MA90_filt[['log10Kd_a', 'log10Kd_b']].mean(axis=1)\n",
    "MA90_filt['err_log10Kd'] = MA90_filt[['log10Kd_a', 'log10Kd_b']].sem(axis=1)\n",
    "MA90_filt['mean_sigma'] = MA90_filt[['sigma_a', 'sigma_b']].sem(axis=1)\n",
    "MA90_filt['err_log10Kd'] = MA90_filt['err_log10Kd'].fillna(0)\n",
    "MA90_filt['log10Kd_pinned'] = MA90_filt['log10Kd']\n",
    "MA90_filt['expression_norm_a'] = MA90_filt['Mean fluorescence expression_a']/np.mean(MA90_filt['Mean fluorescence expression_a'])\n",
    "MA90_filt['expression_norm_b'] = MA90_filt['Mean fluorescence expression_b']/np.mean(MA90_filt['Mean fluorescence expression_b'])\n",
    "MA90_filt['expression_norm'] = (MA90_filt['expression_norm_a']+MA90_filt['expression_norm_b'])/2\n",
    "MA90_filt_rep = MA90_filt[MA90_filt['err_log10Kd']<0.5].copy()\n",
    "print(MA90_filt.shape[0],MA90_filt_rep.shape[0])\n",
    "MA90_filt_rep.to_csv('../Kd_processed/20221008_CH65_MA90_browser.tsv', index=False, sep=\"\\t\")"
   ]
  },
  {
   "cell_type": "code",
   "execution_count": 10,
   "metadata": {},
   "outputs": [
    {
     "name": "stdout",
     "output_type": "stream",
     "text": [
      "65533 65389\n"
     ]
    }
   ],
   "source": [
    "SI06_filt = pd.DataFrame()\n",
    "SI06_filt = pd.merge(ch65d_filt_out, ch65e_filt_out, on='geno', how='outer',suffixes=(\"_d\", \"_e\"))\n",
    "SI06_filt['log10Kd'] = SI06_filt[['log10Kd_d', 'log10Kd_e']].mean(axis=1)\n",
    "SI06_filt['err_log10Kd'] = SI06_filt[['log10Kd_d', 'log10Kd_e']].sem(axis=1)\n",
    "SI06_filt['mean_sigma'] = SI06_filt[['sigma_d', 'sigma_e']].sem(axis=1)\n",
    "SI06_filt['err_log10Kd'] = SI06_filt['err_log10Kd'].fillna(0)\n",
    "SI06_filt['log10Kd_pinned'] = SI06_filt['log10Kd']\n",
    "SI06_filt['expression_norm_d'] = SI06_filt['Mean fluorescence expression_d']/np.mean(SI06_filt['Mean fluorescence expression_d'])\n",
    "SI06_filt['expression_norm_e'] = SI06_filt['Mean fluorescence expression_e']/np.mean(SI06_filt['Mean fluorescence expression_e'])\n",
    "SI06_filt['expression_norm'] = (SI06_filt['expression_norm_d']+SI06_filt['expression_norm_e'])/2\n",
    "SI06_filt_rep = SI06_filt[SI06_filt['err_log10Kd']<0.5].copy()\n",
    "print(SI06_filt.shape[0],SI06_filt_rep.shape[0])\n",
    "SI06_filt.to_csv('../Kd_processed/20221008_CH65_SI06_browser.tsv', index=False, sep=\"\\t\")"
   ]
  },
  {
   "cell_type": "code",
   "execution_count": 11,
   "metadata": {},
   "outputs": [
    {
     "name": "stdout",
     "output_type": "stream",
     "text": [
      "65285 64142\n"
     ]
    }
   ],
   "source": [
    "G189E_filt = pd.DataFrame()\n",
    "G189E_filt = pd.merge(ch65g_filt_out, ch65h_filt_out, on='geno', how='outer',suffixes=(\"_g\", \"_h\"))\n",
    "G189E_filt['log10Kd'] = G189E_filt[['log10Kd_g', 'log10Kd_h']].mean(axis=1)\n",
    "G189E_filt['err_log10Kd'] = G189E_filt[['log10Kd_g', 'log10Kd_h']].sem(axis=1)\n",
    "G189E_filt['mean_sigma'] = G189E_filt[['sigma_g', 'sigma_h']].sem(axis=1)\n",
    "G189E_filt['err_log10Kd'] = G189E_filt['err_log10Kd'].fillna(0)\n",
    "G189E_filt['log10Kd_pinned'] = G189E_filt['log10Kd']\n",
    "# G189E_filt['expression_norm_g'] = G189E_filt['Mean fluorescence expression_g']/np.mean(G189E_filt['Mean fluorescence expression_g'])\n",
    "# G189E_filt['expression_norm_h'] = G189E_filt['Mean fluorescence expression_h']/np.mean(G189E_filt['Mean fluorescence expression_h'])\n",
    "# G189E_filt['expression_norm'] = (G189E_filt['expression_norm_g']+G189E_filt['expression_norm_h'])/2\n",
    "G189E_filt_rep = G189E_filt[G189E_filt['err_log10Kd']<0.5].copy()\n",
    "print(G189E_filt.shape[0],G189E_filt_rep.shape[0])\n",
    "G189E_filt.to_csv('../Kd_processed/20221008_CH65_G189E_browser.tsv', index=False, sep=\"\\t\")"
   ]
  },
  {
   "cell_type": "code",
   "execution_count": null,
   "metadata": {},
   "outputs": [],
   "source": []
  }
 ],
 "metadata": {
  "kernelspec": {
   "display_name": "Python 3 (ipykernel)",
   "language": "python",
   "name": "python3"
  },
  "language_info": {
   "codemirror_mode": {
    "name": "ipython",
    "version": 3
   },
   "file_extension": ".py",
   "mimetype": "text/x-python",
   "name": "python",
   "nbconvert_exporter": "python",
   "pygments_lexer": "ipython3",
   "version": "3.9.12"
  }
 },
 "nbformat": 4,
 "nbformat_minor": 2
}
