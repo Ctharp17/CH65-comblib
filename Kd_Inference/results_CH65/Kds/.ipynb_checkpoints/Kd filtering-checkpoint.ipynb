{
 "cells": [
  {
   "cell_type": "markdown",
   "metadata": {},
   "source": [
    "## import stuff"
   ]
  },
  {
   "cell_type": "code",
   "execution_count": 1,
   "metadata": {},
   "outputs": [],
   "source": [
    "#importing things\n",
    "import pandas as pd\n",
    "import numpy as np\n",
    "import csv\n",
    "import pylab as pl\n",
    "import matplotlib.pyplot as plt\n",
    "import copy\n",
    "import scipy\n",
    "from scipy.stats import linregress\n",
    "from scipy.stats import t\n",
    "from scipy.stats import sem\n",
    "from scipy.stats import chi2\n",
    "from scipy.stats import ttest_ind_from_stats\n",
    "from mpl_toolkits.mplot3d import Axes3D\n",
    "from scipy.stats import ttest_ind_from_stats\n",
    "from collections import OrderedDict\n",
    "import seaborn as sns"
   ]
  },
  {
   "cell_type": "markdown",
   "metadata": {},
   "source": [
    "## fetch the data"
   ]
  },
  {
   "cell_type": "code",
   "execution_count": 2,
   "metadata": {},
   "outputs": [],
   "source": [
    "#read in data, remove genotypes that are missing from ch65a\n",
    "ch65a = pd.DataFrame(pd.read_csv('Kds_CH65a_f3jrem.csv',delimiter=',',dtype={'geno': str})) #here spurious counts for the missing fragment are removed\n",
    "ch65b = pd.DataFrame(pd.read_csv('Kds_CH65b.tsv',delimiter='\\t',dtype={'geno': str}))\n",
    "ch65d = pd.DataFrame(pd.read_csv('Kds_CH65d.tsv',delimiter='\\t',dtype={'geno': str}))\n",
    "ch65e = pd.DataFrame(pd.read_csv('Kds_CH65e.tsv',delimiter='\\t',dtype={'geno': str}))\n",
    "ch65g = pd.DataFrame(pd.read_csv('Kds_CH65g.tsv',delimiter='\\t',dtype={'geno': str}))\n",
    "ch65h = pd.DataFrame(pd.read_csv('Kds_CH65h.tsv',delimiter='\\t',dtype={'geno': str}))"
   ]
  },
  {
   "cell_type": "markdown",
   "metadata": {},
   "source": [
    "## merging & averaging unfiltered data"
   ]
  },
  {
   "cell_type": "code",
   "execution_count": 4,
   "metadata": {},
   "outputs": [],
   "source": [
    "#merge by antigen\n",
    "#MA90\n",
    "MA90 = pd.DataFrame()\n",
    "MA90 = pd.merge(ch65a, ch65b, on='geno',how='outer')\n",
    "#SI06\n",
    "SI06 = pd.DataFrame()\n",
    "SI06 = pd.merge(ch65d, ch65e, on='geno',how='outer')\n",
    "#G189E\n",
    "G189E = pd.DataFrame()\n",
    "G189E = pd.merge(ch65g, ch65h, on='geno',how='outer')"
   ]
  },
  {
   "cell_type": "code",
   "execution_count": 5,
   "metadata": {},
   "outputs": [
    {
     "name": "stderr",
     "output_type": "stream",
     "text": [
      "/Users/angelaphillips/.local/lib/python3.7/site-packages/ipykernel_launcher.py:5: FutureWarning: Dropping of nuisance columns in DataFrame reductions (with 'numeric_only=None') is deprecated; in a future version this will raise TypeError.  Select only valid columns before calling the reduction.\n",
      "  \"\"\"\n",
      "/Users/angelaphillips/.local/lib/python3.7/site-packages/ipykernel_launcher.py:6: FutureWarning: Dropping of nuisance columns in DataFrame reductions (with 'numeric_only=None') is deprecated; in a future version this will raise TypeError.  Select only valid columns before calling the reduction.\n",
      "  \n"
     ]
    },
    {
     "data": {
      "text/html": [
       "<div>\n",
       "<style scoped>\n",
       "    .dataframe tbody tr th:only-of-type {\n",
       "        vertical-align: middle;\n",
       "    }\n",
       "\n",
       "    .dataframe tbody tr th {\n",
       "        vertical-align: top;\n",
       "    }\n",
       "\n",
       "    .dataframe thead th {\n",
       "        text-align: right;\n",
       "    }\n",
       "</style>\n",
       "<table border=\"1\" class=\"dataframe\">\n",
       "  <thead>\n",
       "    <tr style=\"text-align: right;\">\n",
       "      <th></th>\n",
       "      <th>geno</th>\n",
       "      <th>repa</th>\n",
       "      <th>repb</th>\n",
       "      <th>MA90_mean</th>\n",
       "      <th>MA90_sem</th>\n",
       "    </tr>\n",
       "  </thead>\n",
       "  <tbody>\n",
       "    <tr>\n",
       "      <th>0</th>\n",
       "      <td>0000000000000000</td>\n",
       "      <td>8.612721</td>\n",
       "      <td>8.472320</td>\n",
       "      <td>8.542521</td>\n",
       "      <td>0.040530</td>\n",
       "    </tr>\n",
       "    <tr>\n",
       "      <th>1</th>\n",
       "      <td>0000000000000001</td>\n",
       "      <td>8.631980</td>\n",
       "      <td>8.516378</td>\n",
       "      <td>8.574179</td>\n",
       "      <td>0.033371</td>\n",
       "    </tr>\n",
       "    <tr>\n",
       "      <th>2</th>\n",
       "      <td>0000000000000010</td>\n",
       "      <td>8.340245</td>\n",
       "      <td>8.290790</td>\n",
       "      <td>8.315518</td>\n",
       "      <td>0.014276</td>\n",
       "    </tr>\n",
       "    <tr>\n",
       "      <th>3</th>\n",
       "      <td>0000000000000011</td>\n",
       "      <td>8.511183</td>\n",
       "      <td>8.436571</td>\n",
       "      <td>8.473877</td>\n",
       "      <td>0.021539</td>\n",
       "    </tr>\n",
       "    <tr>\n",
       "      <th>4</th>\n",
       "      <td>0000000000000100</td>\n",
       "      <td>8.552056</td>\n",
       "      <td>8.523392</td>\n",
       "      <td>8.537724</td>\n",
       "      <td>0.008275</td>\n",
       "    </tr>\n",
       "  </tbody>\n",
       "</table>\n",
       "</div>"
      ],
      "text/plain": [
       "               geno      repa      repb  MA90_mean  MA90_sem\n",
       "0  0000000000000000  8.612721  8.472320   8.542521  0.040530\n",
       "1  0000000000000001  8.631980  8.516378   8.574179  0.033371\n",
       "2  0000000000000010  8.340245  8.290790   8.315518  0.014276\n",
       "3  0000000000000011  8.511183  8.436571   8.473877  0.021539\n",
       "4  0000000000000100  8.552056  8.523392   8.537724  0.008275"
      ]
     },
     "execution_count": 5,
     "metadata": {},
     "output_type": "execute_result"
    }
   ],
   "source": [
    "#cleanup & calculate mean and SEM\n",
    "#MA90\n",
    "MA90_abbrev = pd.DataFrame()\n",
    "MA90_abbrev = MA90[['geno','log10Kd_x','log10Kd_y']].copy()\n",
    "MA90_abbrev['mean'] = MA90_abbrev.mean(axis=1)\n",
    "MA90_abbrev['sem'] = MA90_abbrev.sem(axis=1)\n",
    "MA90_abbrev.rename(columns={\"log10Kd_x\": \"repa\", \"log10Kd_y\": \"repb\",\"mean\": \"MA90_mean\", \"sem\": \"MA90_sem\"},inplace=True)\n",
    "MA90_abbrev.head()"
   ]
  },
  {
   "cell_type": "code",
   "execution_count": 6,
   "metadata": {},
   "outputs": [
    {
     "name": "stderr",
     "output_type": "stream",
     "text": [
      "/Users/angelaphillips/.local/lib/python3.7/site-packages/ipykernel_launcher.py:4: FutureWarning: Dropping of nuisance columns in DataFrame reductions (with 'numeric_only=None') is deprecated; in a future version this will raise TypeError.  Select only valid columns before calling the reduction.\n",
      "  after removing the cwd from sys.path.\n",
      "/Users/angelaphillips/.local/lib/python3.7/site-packages/ipykernel_launcher.py:5: FutureWarning: Dropping of nuisance columns in DataFrame reductions (with 'numeric_only=None') is deprecated; in a future version this will raise TypeError.  Select only valid columns before calling the reduction.\n",
      "  \"\"\"\n"
     ]
    },
    {
     "data": {
      "text/html": [
       "<div>\n",
       "<style scoped>\n",
       "    .dataframe tbody tr th:only-of-type {\n",
       "        vertical-align: middle;\n",
       "    }\n",
       "\n",
       "    .dataframe tbody tr th {\n",
       "        vertical-align: top;\n",
       "    }\n",
       "\n",
       "    .dataframe thead th {\n",
       "        text-align: right;\n",
       "    }\n",
       "</style>\n",
       "<table border=\"1\" class=\"dataframe\">\n",
       "  <thead>\n",
       "    <tr style=\"text-align: right;\">\n",
       "      <th></th>\n",
       "      <th>geno</th>\n",
       "      <th>repa</th>\n",
       "      <th>repb</th>\n",
       "      <th>SI06_mean</th>\n",
       "      <th>SI06_sem</th>\n",
       "    </tr>\n",
       "  </thead>\n",
       "  <tbody>\n",
       "    <tr>\n",
       "      <th>0</th>\n",
       "      <td>0000000000000000</td>\n",
       "      <td>5.0</td>\n",
       "      <td>5.0</td>\n",
       "      <td>5.0</td>\n",
       "      <td>2.282060e-14</td>\n",
       "    </tr>\n",
       "    <tr>\n",
       "      <th>1</th>\n",
       "      <td>0000000000000001</td>\n",
       "      <td>5.0</td>\n",
       "      <td>5.0</td>\n",
       "      <td>5.0</td>\n",
       "      <td>0.000000e+00</td>\n",
       "    </tr>\n",
       "    <tr>\n",
       "      <th>2</th>\n",
       "      <td>0000000000000010</td>\n",
       "      <td>5.0</td>\n",
       "      <td>5.0</td>\n",
       "      <td>5.0</td>\n",
       "      <td>0.000000e+00</td>\n",
       "    </tr>\n",
       "    <tr>\n",
       "      <th>3</th>\n",
       "      <td>0000000000000011</td>\n",
       "      <td>5.0</td>\n",
       "      <td>5.0</td>\n",
       "      <td>5.0</td>\n",
       "      <td>1.341254e-11</td>\n",
       "    </tr>\n",
       "    <tr>\n",
       "      <th>4</th>\n",
       "      <td>0000000000000100</td>\n",
       "      <td>5.0</td>\n",
       "      <td>5.0</td>\n",
       "      <td>5.0</td>\n",
       "      <td>3.854462e-15</td>\n",
       "    </tr>\n",
       "  </tbody>\n",
       "</table>\n",
       "</div>"
      ],
      "text/plain": [
       "               geno  repa  repb  SI06_mean      SI06_sem\n",
       "0  0000000000000000   5.0   5.0        5.0  2.282060e-14\n",
       "1  0000000000000001   5.0   5.0        5.0  0.000000e+00\n",
       "2  0000000000000010   5.0   5.0        5.0  0.000000e+00\n",
       "3  0000000000000011   5.0   5.0        5.0  1.341254e-11\n",
       "4  0000000000000100   5.0   5.0        5.0  3.854462e-15"
      ]
     },
     "execution_count": 6,
     "metadata": {},
     "output_type": "execute_result"
    }
   ],
   "source": [
    "#SI06\n",
    "SI06_abbrev = pd.DataFrame()\n",
    "SI06_abbrev = SI06[['geno','log10Kd_x','log10Kd_y']].copy()\n",
    "SI06_abbrev['mean'] = SI06_abbrev.mean(axis=1)\n",
    "SI06_abbrev['sem'] = SI06_abbrev.sem(axis=1)\n",
    "SI06_abbrev.rename(columns={\"log10Kd_x\": \"repa\", \"log10Kd_y\": \"repb\", \"mean\": \"SI06_mean\", \"sem\": \"SI06_sem\"},inplace=True)\n",
    "SI06_abbrev.head()"
   ]
  },
  {
   "cell_type": "code",
   "execution_count": 7,
   "metadata": {},
   "outputs": [
    {
     "name": "stderr",
     "output_type": "stream",
     "text": [
      "/Users/angelaphillips/.local/lib/python3.7/site-packages/ipykernel_launcher.py:4: FutureWarning: Dropping of nuisance columns in DataFrame reductions (with 'numeric_only=None') is deprecated; in a future version this will raise TypeError.  Select only valid columns before calling the reduction.\n",
      "  after removing the cwd from sys.path.\n",
      "/Users/angelaphillips/.local/lib/python3.7/site-packages/ipykernel_launcher.py:5: FutureWarning: Dropping of nuisance columns in DataFrame reductions (with 'numeric_only=None') is deprecated; in a future version this will raise TypeError.  Select only valid columns before calling the reduction.\n",
      "  \"\"\"\n"
     ]
    },
    {
     "data": {
      "text/html": [
       "<div>\n",
       "<style scoped>\n",
       "    .dataframe tbody tr th:only-of-type {\n",
       "        vertical-align: middle;\n",
       "    }\n",
       "\n",
       "    .dataframe tbody tr th {\n",
       "        vertical-align: top;\n",
       "    }\n",
       "\n",
       "    .dataframe thead th {\n",
       "        text-align: right;\n",
       "    }\n",
       "</style>\n",
       "<table border=\"1\" class=\"dataframe\">\n",
       "  <thead>\n",
       "    <tr style=\"text-align: right;\">\n",
       "      <th></th>\n",
       "      <th>geno</th>\n",
       "      <th>repa</th>\n",
       "      <th>repb</th>\n",
       "      <th>G189E_mean</th>\n",
       "      <th>G189E_sem</th>\n",
       "    </tr>\n",
       "  </thead>\n",
       "  <tbody>\n",
       "    <tr>\n",
       "      <th>0</th>\n",
       "      <td>0000000000000000</td>\n",
       "      <td>6.651893</td>\n",
       "      <td>6.651835</td>\n",
       "      <td>6.651864</td>\n",
       "      <td>0.000017</td>\n",
       "    </tr>\n",
       "    <tr>\n",
       "      <th>1</th>\n",
       "      <td>0000000000000001</td>\n",
       "      <td>5.000000</td>\n",
       "      <td>6.171406</td>\n",
       "      <td>5.585703</td>\n",
       "      <td>0.338156</td>\n",
       "    </tr>\n",
       "    <tr>\n",
       "      <th>2</th>\n",
       "      <td>0000000000000010</td>\n",
       "      <td>5.000000</td>\n",
       "      <td>5.376927</td>\n",
       "      <td>5.188464</td>\n",
       "      <td>0.108809</td>\n",
       "    </tr>\n",
       "    <tr>\n",
       "      <th>3</th>\n",
       "      <td>0000000000000011</td>\n",
       "      <td>6.415592</td>\n",
       "      <td>6.278565</td>\n",
       "      <td>6.347078</td>\n",
       "      <td>0.039556</td>\n",
       "    </tr>\n",
       "    <tr>\n",
       "      <th>4</th>\n",
       "      <td>0000000000000100</td>\n",
       "      <td>6.039586</td>\n",
       "      <td>6.095005</td>\n",
       "      <td>6.067296</td>\n",
       "      <td>0.015998</td>\n",
       "    </tr>\n",
       "  </tbody>\n",
       "</table>\n",
       "</div>"
      ],
      "text/plain": [
       "               geno      repa      repb  G189E_mean  G189E_sem\n",
       "0  0000000000000000  6.651893  6.651835    6.651864   0.000017\n",
       "1  0000000000000001  5.000000  6.171406    5.585703   0.338156\n",
       "2  0000000000000010  5.000000  5.376927    5.188464   0.108809\n",
       "3  0000000000000011  6.415592  6.278565    6.347078   0.039556\n",
       "4  0000000000000100  6.039586  6.095005    6.067296   0.015998"
      ]
     },
     "execution_count": 7,
     "metadata": {},
     "output_type": "execute_result"
    }
   ],
   "source": [
    "#G189E\n",
    "G189E_abbrev = pd.DataFrame()\n",
    "G189E_abbrev = G189E[['geno','log10Kd_x','log10Kd_y']].copy()\n",
    "G189E_abbrev['mean'] = G189E_abbrev.mean(axis=1)\n",
    "G189E_abbrev['sem'] = G189E_abbrev.sem(axis=1)\n",
    "G189E_abbrev.rename(columns={\"log10Kd_x\": \"repa\", \"log10Kd_y\": \"repb\", \"mean\": \"G189E_mean\", \"sem\": \"G189E_sem\"},inplace=True)\n",
    "G189E_abbrev.head()"
   ]
  },
  {
   "cell_type": "markdown",
   "metadata": {},
   "source": [
    "## Pinning Kd to boundaries, removing poor fits, merging replicates"
   ]
  },
  {
   "cell_type": "code",
   "execution_count": 11,
   "metadata": {},
   "outputs": [
    {
     "name": "stdout",
     "output_type": "stream",
     "text": [
      "9.395241171076515 9.395160268993848\n"
     ]
    },
    {
     "data": {
      "text/plain": [
       "61424"
      ]
     },
     "execution_count": 11,
     "metadata": {},
     "output_type": "execute_result"
    }
   ],
   "source": [
    "#CH65A -- replacing Kd below the boundary & nonbinders (shallow curve) with the boundary & then filter out all poor fits for binders\n",
    "ch65a_filt = ch65a.copy()\n",
    "column_name = \"log10Kd\"\n",
    "new_value = 6\n",
    "boolean_condition = (ch65a_filt.log10Kd < 6)|((ch65a_filt['mean_log10PE1'] < (1 + ch65a_filt['mean_log10PE0'])))\n",
    "ch65a_filt.loc[boolean_condition, column_name] = new_value\n",
    "ch65a_filt_out = ch65a_filt.loc[((ch65a_filt['log10Kd'] > 6) & (ch65a_filt['sigma'] <= 1) & (ch65a_filt['r2'] >= 0.8))|(ch65a_filt['log10Kd'] <= 6)]\n",
    "print(ch65a['log10Kd'].mean(),ch65a_filt_out['log10Kd'].mean())\n",
    "ch65a_filt_out.shape[0]"
   ]
  },
  {
   "cell_type": "code",
   "execution_count": 12,
   "metadata": {},
   "outputs": [
    {
     "name": "stdout",
     "output_type": "stream",
     "text": [
      "9.379108218013254 9.379099644042324\n"
     ]
    },
    {
     "data": {
      "text/plain": [
       "65522"
      ]
     },
     "execution_count": 12,
     "metadata": {},
     "output_type": "execute_result"
    }
   ],
   "source": [
    "#CH65B -- replacing Kd below the boundary & nonbinders (shallow curve) with the boundary & then filter out all poor fits for binders\n",
    "ch65b_filt = ch65b.copy()\n",
    "column_name = \"log10Kd\"\n",
    "new_value = 6\n",
    "boolean_condition = (ch65b_filt.log10Kd < 6)|((ch65b_filt['mean_log10PE1'] < (1 + ch65b_filt['mean_log10PE0'])))\n",
    "ch65b_filt.loc[boolean_condition, column_name] = new_value\n",
    "ch65b_filt_out = ch65b_filt.loc[((ch65b_filt['log10Kd'] > 6) & (ch65b_filt['sigma'] <= 1) & (ch65b_filt['r2'] >= 0.8))|(ch65b_filt['log10Kd'] <= 6)]\n",
    "print(ch65b['log10Kd'].mean(),ch65b_filt_out['log10Kd'].mean())\n",
    "ch65b_filt_out.shape[0]"
   ]
  },
  {
   "cell_type": "code",
   "execution_count": 13,
   "metadata": {},
   "outputs": [
    {
     "name": "stdout",
     "output_type": "stream",
     "text": [
      "6.117678780048976 6.6740596010091\n"
     ]
    },
    {
     "data": {
      "text/plain": [
       "65397"
      ]
     },
     "execution_count": 13,
     "metadata": {},
     "output_type": "execute_result"
    }
   ],
   "source": [
    "#CH65D -- replacing Kd below the boundary & nonbinders (shallow curve) with the boundary & then filter out all poor fits for binders\n",
    "ch65d_filt = ch65d.copy()\n",
    "column_name = \"log10Kd\"\n",
    "new_value = 6\n",
    "boolean_condition = (ch65d_filt.log10Kd < 6)|((ch65d_filt['mean_log10PE1'] < (1 + ch65d_filt['mean_log10PE0'])))\n",
    "ch65d_filt.loc[boolean_condition, column_name] = new_value\n",
    "ch65d_filt_out = ch65d_filt.loc[((ch65d_filt['log10Kd'] > 6) & (ch65d_filt['sigma'] <= 1) & (ch65d_filt['r2'] >= 0.8))|(ch65d_filt['log10Kd'] <= 6)]\n",
    "print(ch65d['log10Kd'].mean(),ch65d_filt_out['log10Kd'].mean())\n",
    "ch65d_filt_out.shape[0]"
   ]
  },
  {
   "cell_type": "code",
   "execution_count": 14,
   "metadata": {},
   "outputs": [
    {
     "name": "stdout",
     "output_type": "stream",
     "text": [
      "6.168214719931285 6.715010187463439\n"
     ]
    },
    {
     "data": {
      "text/plain": [
       "65460"
      ]
     },
     "execution_count": 14,
     "metadata": {},
     "output_type": "execute_result"
    }
   ],
   "source": [
    "#CH65E -- replacing Kd below the boundary & nonbinders (shallow curve) with the boundary & then filter out all poor fits for binders\n",
    "ch65e_filt = ch65e.copy()\n",
    "column_name = \"log10Kd\"\n",
    "new_value = 6\n",
    "boolean_condition = (ch65e_filt.log10Kd < 6)|((ch65e_filt['mean_log10PE1'] < (1 + ch65e_filt['mean_log10PE0'])))\n",
    "ch65e_filt.loc[boolean_condition, column_name] = new_value\n",
    "ch65e_filt_out = ch65e_filt.loc[((ch65e_filt['log10Kd'] > 6) & (ch65e_filt['sigma'] <= 1) & (ch65e_filt['r2'] >= 0.8))|(ch65e_filt['log10Kd'] <= 6)]\n",
    "print(ch65e['log10Kd'].mean(),ch65e_filt_out['log10Kd'].mean())\n",
    "ch65e_filt_out.shape[0]"
   ]
  },
  {
   "cell_type": "code",
   "execution_count": 15,
   "metadata": {},
   "outputs": [
    {
     "name": "stdout",
     "output_type": "stream",
     "text": [
      "8.293162365445946 8.25452675972862\n"
     ]
    },
    {
     "data": {
      "text/plain": [
       "64677"
      ]
     },
     "execution_count": 15,
     "metadata": {},
     "output_type": "execute_result"
    }
   ],
   "source": [
    "#ch65g -- replacing Kd below the boundary & nonbinders (shallow curve) with the boundary & then filter out all poor fits for binders\n",
    "ch65g_filt = ch65g.copy()\n",
    "column_name = \"log10Kd\"\n",
    "new_value = 6\n",
    "boolean_condition = (ch65g_filt.log10Kd < 6)|((ch65g_filt['mean_log10PE1'] < (1 + ch65g_filt['mean_log10PE0'])))\n",
    "ch65g_filt.loc[boolean_condition, column_name] = new_value\n",
    "ch65g_filt_out = ch65g_filt.loc[((ch65g_filt['log10Kd'] > 6) & (ch65g_filt['sigma'] <= 1) & (ch65g_filt['r2'] >= 0.8))|(ch65g_filt['log10Kd'] <= 6)]\n",
    "print(ch65g['log10Kd'].mean(),ch65g_filt_out['log10Kd'].mean())\n",
    "ch65g_filt_out.shape[0]"
   ]
  },
  {
   "cell_type": "code",
   "execution_count": 16,
   "metadata": {},
   "outputs": [
    {
     "name": "stdout",
     "output_type": "stream",
     "text": [
      "8.352648066440839 8.282124527815451\n"
     ]
    },
    {
     "data": {
      "text/plain": [
       "64429"
      ]
     },
     "execution_count": 16,
     "metadata": {},
     "output_type": "execute_result"
    }
   ],
   "source": [
    "#ch65h -- replacing Kd below the boundary & nonbinders (shallow curve) with the boundary & then filter out all poor fits for binders\n",
    "ch65h_filt = ch65h.copy()\n",
    "column_name = \"log10Kd\"\n",
    "new_value = 6\n",
    "boolean_condition = (ch65h_filt.log10Kd < 6)|((ch65h_filt['mean_log10PE1'] < (1 + ch65h_filt['mean_log10PE0'])))\n",
    "ch65h_filt.loc[boolean_condition, column_name] = new_value\n",
    "ch65h_filt_out = ch65h_filt.loc[((ch65h_filt['log10Kd'] > 6) & (ch65h_filt['sigma'] <= 1) & (ch65h_filt['r2'] >= 0.8))|(ch65h_filt['log10Kd'] <= 6)]\n",
    "print(ch65h['log10Kd'].mean(),ch65h_filt_out['log10Kd'].mean())\n",
    "ch65h_filt_out.shape[0]"
   ]
  },
  {
   "cell_type": "code",
   "execution_count": 17,
   "metadata": {},
   "outputs": [
    {
     "name": "stderr",
     "output_type": "stream",
     "text": [
      "/Users/angelaphillips/.local/lib/python3.7/site-packages/ipykernel_launcher.py:5: FutureWarning: Dropping of nuisance columns in DataFrame reductions (with 'numeric_only=None') is deprecated; in a future version this will raise TypeError.  Select only valid columns before calling the reduction.\n",
      "  \"\"\"\n",
      "/Users/angelaphillips/.local/lib/python3.7/site-packages/ipykernel_launcher.py:6: FutureWarning: Dropping of nuisance columns in DataFrame reductions (with 'numeric_only=None') is deprecated; in a future version this will raise TypeError.  Select only valid columns before calling the reduction.\n",
      "  \n"
     ]
    },
    {
     "data": {
      "text/html": [
       "<div>\n",
       "<style scoped>\n",
       "    .dataframe tbody tr th:only-of-type {\n",
       "        vertical-align: middle;\n",
       "    }\n",
       "\n",
       "    .dataframe tbody tr th {\n",
       "        vertical-align: top;\n",
       "    }\n",
       "\n",
       "    .dataframe thead th {\n",
       "        text-align: right;\n",
       "    }\n",
       "</style>\n",
       "<table border=\"1\" class=\"dataframe\">\n",
       "  <thead>\n",
       "    <tr style=\"text-align: right;\">\n",
       "      <th></th>\n",
       "      <th>geno</th>\n",
       "      <th>repa</th>\n",
       "      <th>repb</th>\n",
       "      <th>MA90_mean</th>\n",
       "      <th>MA90_sem</th>\n",
       "    </tr>\n",
       "  </thead>\n",
       "  <tbody>\n",
       "    <tr>\n",
       "      <th>0</th>\n",
       "      <td>0000000000000000</td>\n",
       "      <td>8.612721</td>\n",
       "      <td>8.472320</td>\n",
       "      <td>8.542521</td>\n",
       "      <td>0.040530</td>\n",
       "    </tr>\n",
       "    <tr>\n",
       "      <th>1</th>\n",
       "      <td>0000000000000001</td>\n",
       "      <td>8.631980</td>\n",
       "      <td>8.516378</td>\n",
       "      <td>8.574179</td>\n",
       "      <td>0.033371</td>\n",
       "    </tr>\n",
       "    <tr>\n",
       "      <th>2</th>\n",
       "      <td>0000000000000010</td>\n",
       "      <td>8.340245</td>\n",
       "      <td>8.290790</td>\n",
       "      <td>8.315518</td>\n",
       "      <td>0.014276</td>\n",
       "    </tr>\n",
       "    <tr>\n",
       "      <th>3</th>\n",
       "      <td>0000000000000011</td>\n",
       "      <td>8.511183</td>\n",
       "      <td>8.436571</td>\n",
       "      <td>8.473877</td>\n",
       "      <td>0.021539</td>\n",
       "    </tr>\n",
       "    <tr>\n",
       "      <th>4</th>\n",
       "      <td>0000000000000100</td>\n",
       "      <td>8.552056</td>\n",
       "      <td>8.523392</td>\n",
       "      <td>8.537724</td>\n",
       "      <td>0.008275</td>\n",
       "    </tr>\n",
       "  </tbody>\n",
       "</table>\n",
       "</div>"
      ],
      "text/plain": [
       "               geno      repa      repb  MA90_mean  MA90_sem\n",
       "0  0000000000000000  8.612721  8.472320   8.542521  0.040530\n",
       "1  0000000000000001  8.631980  8.516378   8.574179  0.033371\n",
       "2  0000000000000010  8.340245  8.290790   8.315518  0.014276\n",
       "3  0000000000000011  8.511183  8.436571   8.473877  0.021539\n",
       "4  0000000000000100  8.552056  8.523392   8.537724  0.008275"
      ]
     },
     "execution_count": 17,
     "metadata": {},
     "output_type": "execute_result"
    }
   ],
   "source": [
    "#MA90 merging\n",
    "MA90_filt = pd.DataFrame()\n",
    "MA90_filt = pd.merge(ch65a_filt_out, ch65b_filt_out, on='geno',how='outer')\n",
    "MA90_filt_abbrev = MA90_filt[['geno','log10Kd_x','log10Kd_y']].copy()\n",
    "MA90_filt_abbrev['mean'] = MA90_filt_abbrev.mean(axis=1)\n",
    "MA90_filt_abbrev['sem'] = MA90_filt_abbrev.sem(axis=1)\n",
    "MA90_filt_abbrev.rename(columns={\"log10Kd_x\": \"repa\", \"log10Kd_y\": \"repb\", \"mean\": \"MA90_mean\", \"sem\": \"MA90_sem\"},inplace=True)\n",
    "MA90_filt_abbrev.head()"
   ]
  },
  {
   "cell_type": "code",
   "execution_count": 18,
   "metadata": {},
   "outputs": [
    {
     "name": "stderr",
     "output_type": "stream",
     "text": [
      "/Users/angelaphillips/.local/lib/python3.7/site-packages/ipykernel_launcher.py:5: FutureWarning: Dropping of nuisance columns in DataFrame reductions (with 'numeric_only=None') is deprecated; in a future version this will raise TypeError.  Select only valid columns before calling the reduction.\n",
      "  \"\"\"\n",
      "/Users/angelaphillips/.local/lib/python3.7/site-packages/ipykernel_launcher.py:6: FutureWarning: Dropping of nuisance columns in DataFrame reductions (with 'numeric_only=None') is deprecated; in a future version this will raise TypeError.  Select only valid columns before calling the reduction.\n",
      "  \n"
     ]
    },
    {
     "data": {
      "text/html": [
       "<div>\n",
       "<style scoped>\n",
       "    .dataframe tbody tr th:only-of-type {\n",
       "        vertical-align: middle;\n",
       "    }\n",
       "\n",
       "    .dataframe tbody tr th {\n",
       "        vertical-align: top;\n",
       "    }\n",
       "\n",
       "    .dataframe thead th {\n",
       "        text-align: right;\n",
       "    }\n",
       "</style>\n",
       "<table border=\"1\" class=\"dataframe\">\n",
       "  <thead>\n",
       "    <tr style=\"text-align: right;\">\n",
       "      <th></th>\n",
       "      <th>geno</th>\n",
       "      <th>repa</th>\n",
       "      <th>repb</th>\n",
       "      <th>SI06_mean</th>\n",
       "      <th>SI06_sem</th>\n",
       "    </tr>\n",
       "  </thead>\n",
       "  <tbody>\n",
       "    <tr>\n",
       "      <th>0</th>\n",
       "      <td>0000000000000000</td>\n",
       "      <td>6.0</td>\n",
       "      <td>6.0</td>\n",
       "      <td>6.0</td>\n",
       "      <td>0.0</td>\n",
       "    </tr>\n",
       "    <tr>\n",
       "      <th>1</th>\n",
       "      <td>0000000000000001</td>\n",
       "      <td>6.0</td>\n",
       "      <td>6.0</td>\n",
       "      <td>6.0</td>\n",
       "      <td>0.0</td>\n",
       "    </tr>\n",
       "    <tr>\n",
       "      <th>2</th>\n",
       "      <td>0000000000000010</td>\n",
       "      <td>6.0</td>\n",
       "      <td>6.0</td>\n",
       "      <td>6.0</td>\n",
       "      <td>0.0</td>\n",
       "    </tr>\n",
       "    <tr>\n",
       "      <th>3</th>\n",
       "      <td>0000000000000011</td>\n",
       "      <td>6.0</td>\n",
       "      <td>6.0</td>\n",
       "      <td>6.0</td>\n",
       "      <td>0.0</td>\n",
       "    </tr>\n",
       "    <tr>\n",
       "      <th>4</th>\n",
       "      <td>0000000000000100</td>\n",
       "      <td>6.0</td>\n",
       "      <td>6.0</td>\n",
       "      <td>6.0</td>\n",
       "      <td>0.0</td>\n",
       "    </tr>\n",
       "  </tbody>\n",
       "</table>\n",
       "</div>"
      ],
      "text/plain": [
       "               geno  repa  repb  SI06_mean  SI06_sem\n",
       "0  0000000000000000   6.0   6.0        6.0       0.0\n",
       "1  0000000000000001   6.0   6.0        6.0       0.0\n",
       "2  0000000000000010   6.0   6.0        6.0       0.0\n",
       "3  0000000000000011   6.0   6.0        6.0       0.0\n",
       "4  0000000000000100   6.0   6.0        6.0       0.0"
      ]
     },
     "execution_count": 18,
     "metadata": {},
     "output_type": "execute_result"
    }
   ],
   "source": [
    "#SI06 merging\n",
    "SI06_filt = pd.DataFrame()\n",
    "SI06_filt = pd.merge(ch65d_filt_out, ch65e_filt_out, on='geno',how='outer')\n",
    "SI06_filt_abbrev = SI06_filt[['geno','log10Kd_x','log10Kd_y']].copy()\n",
    "SI06_filt_abbrev['mean'] = SI06_filt_abbrev.mean(axis=1)\n",
    "SI06_filt_abbrev['sem'] = SI06_filt_abbrev.sem(axis=1)\n",
    "SI06_filt_abbrev.rename(columns={\"log10Kd_x\": \"repa\", \"log10Kd_y\": \"repb\", \"mean\": \"SI06_mean\", \"sem\": \"SI06_sem\"},inplace=True)\n",
    "SI06_filt_abbrev.head()"
   ]
  },
  {
   "cell_type": "code",
   "execution_count": 19,
   "metadata": {},
   "outputs": [
    {
     "name": "stderr",
     "output_type": "stream",
     "text": [
      "/Users/angelaphillips/.local/lib/python3.7/site-packages/ipykernel_launcher.py:5: FutureWarning: Dropping of nuisance columns in DataFrame reductions (with 'numeric_only=None') is deprecated; in a future version this will raise TypeError.  Select only valid columns before calling the reduction.\n",
      "  \"\"\"\n",
      "/Users/angelaphillips/.local/lib/python3.7/site-packages/ipykernel_launcher.py:6: FutureWarning: Dropping of nuisance columns in DataFrame reductions (with 'numeric_only=None') is deprecated; in a future version this will raise TypeError.  Select only valid columns before calling the reduction.\n",
      "  \n"
     ]
    },
    {
     "data": {
      "text/html": [
       "<div>\n",
       "<style scoped>\n",
       "    .dataframe tbody tr th:only-of-type {\n",
       "        vertical-align: middle;\n",
       "    }\n",
       "\n",
       "    .dataframe tbody tr th {\n",
       "        vertical-align: top;\n",
       "    }\n",
       "\n",
       "    .dataframe thead th {\n",
       "        text-align: right;\n",
       "    }\n",
       "</style>\n",
       "<table border=\"1\" class=\"dataframe\">\n",
       "  <thead>\n",
       "    <tr style=\"text-align: right;\">\n",
       "      <th></th>\n",
       "      <th>geno</th>\n",
       "      <th>repa</th>\n",
       "      <th>repb</th>\n",
       "      <th>G189E_mean</th>\n",
       "      <th>G189E_sem</th>\n",
       "    </tr>\n",
       "  </thead>\n",
       "  <tbody>\n",
       "    <tr>\n",
       "      <th>0</th>\n",
       "      <td>0000000000000000</td>\n",
       "      <td>6.0</td>\n",
       "      <td>6.0</td>\n",
       "      <td>6.0</td>\n",
       "      <td>0.0</td>\n",
       "    </tr>\n",
       "    <tr>\n",
       "      <th>1</th>\n",
       "      <td>0000000000000001</td>\n",
       "      <td>6.0</td>\n",
       "      <td>6.0</td>\n",
       "      <td>6.0</td>\n",
       "      <td>0.0</td>\n",
       "    </tr>\n",
       "    <tr>\n",
       "      <th>2</th>\n",
       "      <td>0000000000000010</td>\n",
       "      <td>6.0</td>\n",
       "      <td>6.0</td>\n",
       "      <td>6.0</td>\n",
       "      <td>0.0</td>\n",
       "    </tr>\n",
       "    <tr>\n",
       "      <th>3</th>\n",
       "      <td>0000000000000011</td>\n",
       "      <td>6.0</td>\n",
       "      <td>6.0</td>\n",
       "      <td>6.0</td>\n",
       "      <td>0.0</td>\n",
       "    </tr>\n",
       "    <tr>\n",
       "      <th>4</th>\n",
       "      <td>0000000000000100</td>\n",
       "      <td>6.0</td>\n",
       "      <td>6.0</td>\n",
       "      <td>6.0</td>\n",
       "      <td>0.0</td>\n",
       "    </tr>\n",
       "  </tbody>\n",
       "</table>\n",
       "</div>"
      ],
      "text/plain": [
       "               geno  repa  repb  G189E_mean  G189E_sem\n",
       "0  0000000000000000   6.0   6.0         6.0        0.0\n",
       "1  0000000000000001   6.0   6.0         6.0        0.0\n",
       "2  0000000000000010   6.0   6.0         6.0        0.0\n",
       "3  0000000000000011   6.0   6.0         6.0        0.0\n",
       "4  0000000000000100   6.0   6.0         6.0        0.0"
      ]
     },
     "execution_count": 19,
     "metadata": {},
     "output_type": "execute_result"
    }
   ],
   "source": [
    "#G189E merging\n",
    "G189E_filt = pd.DataFrame()\n",
    "G189E_filt = pd.merge(ch65g_filt_out, ch65h_filt_out, on='geno',how='outer')\n",
    "G189E_filt_abbrev = G189E_filt[['geno','log10Kd_x','log10Kd_y']].copy()\n",
    "G189E_filt_abbrev['mean'] = G189E_filt_abbrev.mean(axis=1)\n",
    "G189E_filt_abbrev['sem'] = G189E_filt_abbrev.sem(axis=1)\n",
    "G189E_filt_abbrev.rename(columns={\"log10Kd_x\": \"repa\", \"log10Kd_y\": \"repb\", \"mean\": \"G189E_mean\", \"sem\": \"G189E_sem\"},inplace=True)\n",
    "G189E_filt_abbrev.head()"
   ]
  },
  {
   "cell_type": "markdown",
   "metadata": {},
   "source": [
    "## functions for annotating dataframe"
   ]
  },
  {
   "cell_type": "code",
   "execution_count": 23,
   "metadata": {},
   "outputs": [],
   "source": [
    "#define categories based on mutation position\n",
    "def find_pos_1(variant):\n",
    "    pos = [mut for mut in variant]\n",
    "    if pos[0] == \"1\":\n",
    "        return 1\n",
    "    else:\n",
    "        return 0\n",
    "def find_pos_2(variant):\n",
    "    pos = [mut for mut in variant]\n",
    "    if pos[1] == \"1\":\n",
    "        return 1\n",
    "    else:\n",
    "        return 0\n",
    "def find_pos_3(variant):\n",
    "    pos = [mut for mut in variant]\n",
    "    if pos[2] == \"1\":\n",
    "        return 1\n",
    "    else:\n",
    "        return 0\n",
    "def find_pos_4(variant):\n",
    "    pos = [mut for mut in variant]\n",
    "    if pos[3] == \"1\":\n",
    "        return 1\n",
    "    else:\n",
    "        return 0\n",
    "def find_pos_5(variant):\n",
    "    pos = [mut for mut in variant]\n",
    "    if pos[4] == \"1\":\n",
    "        return 1\n",
    "    else:\n",
    "        return 0\n",
    "def find_pos_6(variant):\n",
    "    pos = [mut for mut in variant]\n",
    "    if pos[5] == \"1\":\n",
    "        return 1\n",
    "    else:\n",
    "        return 0\n",
    "def find_pos_7(variant):\n",
    "    pos = [mut for mut in variant]\n",
    "    if pos[6] == \"1\":\n",
    "        return 1\n",
    "    else:\n",
    "        return 0\n",
    "def find_pos_8(variant):\n",
    "    pos = [mut for mut in variant]\n",
    "    if pos[7] == \"1\":\n",
    "        return 1\n",
    "    else:\n",
    "        return 0\n",
    "def find_pos_9(variant):\n",
    "    pos = [mut for mut in variant]\n",
    "    if pos[8] == \"1\":\n",
    "        return 1\n",
    "    else:\n",
    "        return 0\n",
    "def find_pos_10(variant):\n",
    "    pos = [mut for mut in variant]\n",
    "    if pos[9 ] == \"1\":\n",
    "        return 1\n",
    "    else:\n",
    "        return 0\n",
    "def find_pos_11(variant):\n",
    "    pos = [mut for mut in variant]\n",
    "    if pos[10] == \"1\":\n",
    "        return 1\n",
    "    else:\n",
    "        return 0\n",
    "def find_pos_12(variant):\n",
    "    pos = [mut for mut in variant]\n",
    "    if pos[11] == \"1\":\n",
    "        return 1\n",
    "    else:\n",
    "        return 0\n",
    "def find_pos_13(variant):\n",
    "    pos = [mut for mut in variant]\n",
    "    if pos[12] == \"1\":\n",
    "        return 1\n",
    "    else:\n",
    "        return 0\n",
    "def find_pos_14(variant):\n",
    "    pos = [mut for mut in variant]\n",
    "    if pos[13] == \"1\":\n",
    "        return 1\n",
    "    else:\n",
    "        return 0\n",
    "def find_pos_15(variant):\n",
    "    pos = [mut for mut in variant]\n",
    "    if pos[14] == \"1\":\n",
    "        return 1\n",
    "    else:\n",
    "        return 0\n",
    "def find_pos_16(variant):\n",
    "    pos = [mut for mut in variant]\n",
    "    if pos[15] == \"1\":\n",
    "        return 1\n",
    "    else:\n",
    "        return 0\n",
    "    \n",
    "#add a column with the number of mutations and save the file\n",
    "def sum_digits(digit):\n",
    "    return sum(int(x) for x in digit if x.isdigit())"
   ]
  },
  {
   "cell_type": "markdown",
   "metadata": {},
   "source": [
    "## merging antigens for output: unfiltered, unadjusted data"
   ]
  },
  {
   "cell_type": "code",
   "execution_count": 24,
   "metadata": {},
   "outputs": [],
   "source": [
    "#merge all antigens\n",
    "CH65_all_unf = pd.DataFrame()\n",
    "CH65_all_unf = pd.merge(MA90_abbrev, SI06_abbrev, on='geno',how='outer')\n",
    "CH65_all_unf = pd.merge(CH65_all_unf, G189E_abbrev, on='geno',how='outer')"
   ]
  },
  {
   "cell_type": "code",
   "execution_count": 25,
   "metadata": {},
   "outputs": [],
   "source": [
    "#define categories based on mutation position\n",
    "CH65_all_unf['pos1'] = CH65_all_unf['geno'].apply(find_pos_1)\n",
    "CH65_all_unf['pos2'] = CH65_all_unf['geno'].apply(find_pos_2)\n",
    "CH65_all_unf['pos3'] = CH65_all_unf['geno'].apply(find_pos_3)\n",
    "CH65_all_unf['pos4'] = CH65_all_unf['geno'].apply(find_pos_4)\n",
    "CH65_all_unf['pos5'] = CH65_all_unf['geno'].apply(find_pos_5)\n",
    "CH65_all_unf['pos6'] = CH65_all_unf['geno'].apply(find_pos_6)\n",
    "CH65_all_unf['pos7'] = CH65_all_unf['geno'].apply(find_pos_7)\n",
    "CH65_all_unf['pos8'] = CH65_all_unf['geno'].apply(find_pos_8)\n",
    "CH65_all_unf['pos9'] = CH65_all_unf['geno'].apply(find_pos_9)\n",
    "CH65_all_unf['pos10'] = CH65_all_unf['geno'].apply(find_pos_10)\n",
    "CH65_all_unf['pos11'] = CH65_all_unf['geno'].apply(find_pos_11)\n",
    "CH65_all_unf['pos12'] = CH65_all_unf['geno'].apply(find_pos_12)\n",
    "CH65_all_unf['pos13'] = CH65_all_unf['geno'].apply(find_pos_13)\n",
    "CH65_all_unf['pos14'] = CH65_all_unf['geno'].apply(find_pos_14)\n",
    "CH65_all_unf['pos15'] = CH65_all_unf['geno'].apply(find_pos_15)\n",
    "CH65_all_unf['pos16'] = CH65_all_unf['geno'].apply(find_pos_16)\n",
    "\n",
    "#add a column with the number of mutations and save the file\n",
    "CH65_all_unf['som_mut'] = CH65_all_unf['geno'].apply(sum_digits)\n",
    "CH65_all_unf.to_csv('../Kd_processed/20220601_CH65_unfilt.csv', index=False)"
   ]
  },
  {
   "cell_type": "markdown",
   "metadata": {},
   "source": [
    "## merging antigens for output: filtered, adjusted data"
   ]
  },
  {
   "cell_type": "code",
   "execution_count": 26,
   "metadata": {},
   "outputs": [],
   "source": [
    "#merge all antigens\n",
    "CH65_all_filt = pd.DataFrame()\n",
    "CH65_all_filt = pd.merge(MA90_filt_abbrev, SI06_filt_abbrev, on='geno',how='outer')\n",
    "CH65_all_filt = pd.merge(CH65_all_filt, G189E_filt_abbrev, on='geno',how='outer')"
   ]
  },
  {
   "cell_type": "code",
   "execution_count": 27,
   "metadata": {},
   "outputs": [],
   "source": [
    "#define categories based on mutation position\n",
    "CH65_all_filt['pos1'] = CH65_all_filt['geno'].apply(find_pos_1)\n",
    "CH65_all_filt['pos2'] = CH65_all_filt['geno'].apply(find_pos_2)\n",
    "CH65_all_filt['pos3'] = CH65_all_filt['geno'].apply(find_pos_3)\n",
    "CH65_all_filt['pos4'] = CH65_all_filt['geno'].apply(find_pos_4)\n",
    "CH65_all_filt['pos5'] = CH65_all_filt['geno'].apply(find_pos_5)\n",
    "CH65_all_filt['pos6'] = CH65_all_filt['geno'].apply(find_pos_6)\n",
    "CH65_all_filt['pos7'] = CH65_all_filt['geno'].apply(find_pos_7)\n",
    "CH65_all_filt['pos8'] = CH65_all_filt['geno'].apply(find_pos_8)\n",
    "CH65_all_filt['pos9'] = CH65_all_filt['geno'].apply(find_pos_9)\n",
    "CH65_all_filt['pos10'] = CH65_all_filt['geno'].apply(find_pos_10)\n",
    "CH65_all_filt['pos11'] = CH65_all_filt['geno'].apply(find_pos_11)\n",
    "CH65_all_filt['pos12'] = CH65_all_filt['geno'].apply(find_pos_12)\n",
    "CH65_all_filt['pos13'] = CH65_all_filt['geno'].apply(find_pos_13)\n",
    "CH65_all_filt['pos14'] = CH65_all_filt['geno'].apply(find_pos_14)\n",
    "CH65_all_filt['pos15'] = CH65_all_filt['geno'].apply(find_pos_15)\n",
    "CH65_all_filt['pos16'] = CH65_all_filt['geno'].apply(find_pos_16)\n",
    "\n",
    "#add a column with the number of mutations and save the file\n",
    "CH65_all_filt['som_mut'] = CH65_all_filt['geno'].apply(sum_digits)\n",
    "CH65_all_filt.to_csv('../Kd_processed/20220601_CH65_filt.csv', index=False)"
   ]
  },
  {
   "cell_type": "code",
   "execution_count": null,
   "metadata": {},
   "outputs": [],
   "source": []
  }
 ],
 "metadata": {
  "kernelspec": {
   "display_name": "Python 3",
   "language": "python",
   "name": "python3"
  },
  "language_info": {
   "codemirror_mode": {
    "name": "ipython",
    "version": 3
   },
   "file_extension": ".py",
   "mimetype": "text/x-python",
   "name": "python",
   "nbconvert_exporter": "python",
   "pygments_lexer": "ipython3",
   "version": "3.7.4"
  }
 },
 "nbformat": 4,
 "nbformat_minor": 2
}
