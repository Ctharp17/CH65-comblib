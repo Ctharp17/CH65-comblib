{
 "cells": [
  {
   "cell_type": "markdown",
   "metadata": {},
   "source": [
    "## reading in data and importing things"
   ]
  },
  {
   "cell_type": "code",
   "execution_count": 1,
   "metadata": {},
   "outputs": [],
   "source": [
    "#importing things\n",
    "import pandas as pd\n",
    "import os\n",
    "import numpy as np\n",
    "import csv\n",
    "import pylab as pl\n",
    "import matplotlib.pyplot as plt\n",
    "import copy\n",
    "import scipy\n",
    "from scipy.stats import linregress\n",
    "from scipy.stats import t\n",
    "from scipy.stats import chi2\n",
    "from scipy.stats import sem\n",
    "from scipy.linalg import hadamard\n",
    "from scipy.stats import ttest_ind_from_stats\n",
    "from sklearn.preprocessing import StandardScaler\n",
    "from sklearn.decomposition import PCA\n",
    "from sklearn.linear_model import LinearRegression\n",
    "from mpl_toolkits.mplot3d import Axes3D\n",
    "from scipy.stats import ttest_ind_from_stats\n",
    "from sklearn.manifold import TSNE\n",
    "from collections import OrderedDict\n",
    "import seaborn as sns\n",
    "from functools import reduce\n",
    "from scipy.optimize import curve_fit\n",
    "from operator import itemgetter\n",
    "import math"
   ]
  },
  {
   "cell_type": "markdown",
   "metadata": {},
   "source": [
    "## fitting Kd"
   ]
  },
  {
   "cell_type": "code",
   "execution_count": 11,
   "metadata": {},
   "outputs": [
    {
     "name": "stdout",
     "output_type": "stream",
     "text": [
      "log(Kd): -7.547093242464053+/- 0.5754358929548646\n",
      "r^2: 0.9614054061076682\n",
      "rms error in fit: 0.2117932439414165\n"
     ]
    },
    {
     "data": {
      "image/png": "[encoded data removed]",
      "text/plain": [
       "<Figure size 432x288 with 1 Axes>"
      ]
     },
     "metadata": {
      "needs_background": "light"
     },
     "output_type": "display_data"
    }
   ],
   "source": [
    "#pick a variant to plot\n",
    "variant = \"0000000000100000\"\n",
    "antigen = \"MA90\"\n",
    "replicate = \"1\"\n",
    "\n",
    "##################################\n",
    "#grabbing the data\n",
    "if antigen == \"MA90\":\n",
    "    if replicate == \"1\":\n",
    "        meanbin_err = pd.DataFrame(pd.read_csv('Kds_CH65a_f3jrem.csv',delimiter=',',dtype={'geno': str}))\n",
    "    if replicate == \"2\":\n",
    "        meanbin_err = pd.DataFrame(pd.read_csv('Kds_CH65b.tsv',delimiter='\\t',dtype={'geno': str}))\n",
    "    errors = meanbin_err[['geno','std_log10PE1', 'std_log10PE2', 'std_log10PE3', 'std_log10PE4', 'std_log10PE5', 'std_log10PE6', 'std_log10PE7', 'std_log10PE8', 'std_log10PE9','std_log10PE0']].copy()\n",
    "    meanbins_toplot = meanbins.set_index('geno').transpose()\n",
    "    errors_toplot = errors.set_index('geno').transpose()\n",
    "    meanbins_toplot['concentration'] = (-5.99, -6.74, -7.49, -8.24, -8.99, -9.74, -10.49, -11.24, -11.99,-14)\n",
    "    errors_toplot['concentration'] = (-5.99, -6.74, -7.49, -8.24, -8.99, -9.74, -10.49, -11.24, -11.99,-14)\n",
    "if antigen == \"SI06\":\n",
    "    if replicate == \"1\":\n",
    "        meanbin_err = pd.DataFrame(pd.read_csv('Kds_CH65d.tsv',delimiter='\\t',dtype={'geno': str}))\n",
    "    if replicate == \"2\":\n",
    "        meanbin_err = pd.DataFrame(pd.read_csv('Kds_CH65e.tsv',delimiter='\\t',dtype={'geno': str}))\n",
    "        meanbins = meanbin_err[['geno','mean_log10PE1', 'mean_log10PE2', 'mean_log10PE3', 'mean_log10PE4', 'mean_log10PE5', 'mean_log10PE6', 'mean_log10PE7', 'mean_log10PE8', 'mean_log10PE9', 'mean_log10PE0']].copy()\n",
    "    errors = meanbin_err[['geno','std_log10PE1', 'std_log10PE2', 'std_log10PE3', 'std_log10PE4', 'std_log10PE5', 'std_log10PE6', 'std_log10PE7', 'std_log10PE8', 'std_log10PE9','std_log10PE0']].copy()\n",
    "    meanbins_toplot = meanbins.set_index('geno').transpose()\n",
    "    errors_toplot = errors.set_index('geno').transpose()\n",
    "    meanbins_toplot['concentration'] = (-6.04, -6.79, -7.54, -8.29, -9.04, -9.79, -10.54, -11.29, -12.04,-14)\n",
    "    errors_toplot['concentration'] = (-6.04, -6.79, -7.54, -8.29, -9.04, -9.79, -10.54, -11.29, -12.04,-14)\n",
    "if antigen == \"G189E\":\n",
    "    if replicate == \"1\":\n",
    "        meanbin_err = pd.DataFrame(pd.read_csv('Kds_CH65g.tsv',delimiter='\\t',dtype={'geno': str}))\n",
    "    if replicate == \"2\":\n",
    "        meanbin_err = pd.DataFrame(pd.read_csv('Kds_CH65h.tsv',delimiter='\\t',dtype={'geno': str}))\n",
    "    meanbins = meanbin_err[['geno','mean_log10PE1', 'mean_log10PE2', 'mean_log10PE3', 'mean_log10PE4', 'mean_log10PE5', 'mean_log10PE6', 'mean_log10PE7', 'mean_log10PE8', 'mean_log10PE9', 'mean_log10PE0']].copy()\n",
    "    errors = meanbin_err[['geno','std_log10PE1', 'std_log10PE2', 'std_log10PE3', 'std_log10PE4', 'std_log10PE5', 'std_log10PE6', 'std_log10PE7', 'std_log10PE8', 'std_log10PE9','std_log10PE0']].copy()\n",
    "    meanbins_toplot = meanbins.set_index('geno').transpose()\n",
    "    errors_toplot = errors.set_index('geno').transpose()\n",
    "    meanbins_toplot['concentration'] = (-5.98, -6.73, -7.48, -8.23, -8.98, -9.73, -10.48, -11.23, -11.98,-14)\n",
    "    errors_toplot['concentration'] = (-5.98, -6.73, -7.48, -8.23, -8.98, -9.73, -10.48, -11.23, -11.98,-14)\n",
    "\n",
    "#plotting with error\n",
    "# define function\n",
    "def fun(c, Kd, A, B):\n",
    "    return np.log10(A * (10**c/((10**c)+(10**Kd))) + B)\n",
    "\n",
    "def rms(y, yfit):\n",
    "    return np.sqrt(np.sum((y-yfit)**2))\n",
    "\n",
    "#define data\n",
    "concentrations = meanbins_toplot[\"concentration\"].values\n",
    "bins_mean = meanbins_toplot[variant].values\n",
    "error = errors_toplot[variant].values\n",
    "y = bins_mean + error\n",
    "\n",
    "# plot data\n",
    "plt.scatter(concentrations,bins_mean, label=\"data\")\n",
    "plt.errorbar(concentrations,bins_mean, yerr=error)\n",
    "\n",
    "#fit\n",
    "popt, pcov = scipy.optimize.curve_fit(fun,concentrations,\n",
    "                                          bins_mean,\n",
    "                                          p0=[(-9),10**(4),10**(1)],\n",
    "                                          sigma=error, absolute_sigma=True,\n",
    "                                          bounds = [((-14),1,1),((-5),10**(5),10**(5))],\n",
    "                                          maxfev=400000)\n",
    "yfit = fun(concentrations,*popt)\n",
    "err = 1 - np.sum((fun(concentrations, *popt) - bins_mean)**2)/np.sum((bins_mean - bins_mean.mean())**2)\n",
    "plt.plot(concentrations,fun(concentrations,*popt), label=\"fit\", color=\"gray\")\n",
    "perr = np.sqrt(np.diag(pcov))[0]\n",
    "print('log(Kd): '+str(popt[0])+'+/- '+str(perr))\n",
    "print('r^2: '+str(err))\n",
    "title = \"%s CH65 binding to %s replicate %s \\n unfiltered; N = \" % (variant, antigen, replicate) +str(meanbins.shape[0])+\"; log(Kd): \"+str(round(popt[0],2))+'+/- '+str(round(perr,2))+\"; r^2: \"+str(round(err,2))\n",
    "plt.xlabel(\"log[HA]\")\n",
    "plt.ylim(top=5)\n",
    "plt.ylabel(\"mean bin\")\n",
    "plt.title(title)\n",
    "#plt.savefig('plots/%s_%s_%s.png'% (variant,antigen,replicate), dpi=600)\n",
    "print('rms error in fit:', rms(bins_mean, yfit))"
   ]
  },
  {
   "cell_type": "code",
   "execution_count": null,
   "metadata": {},
   "outputs": [],
   "source": []
  }
 ],
 "metadata": {
  "kernelspec": {
   "display_name": "Python 3 (ipykernel)",
   "language": "python",
   "name": "python3"
  },
  "language_info": {
   "codemirror_mode": {
    "name": "ipython",
    "version": 3
   },
   "file_extension": ".py",
   "mimetype": "text/x-python",
   "name": "python",
   "nbconvert_exporter": "python",
   "pygments_lexer": "ipython3",
   "version": "3.9.12"
  }
 },
 "nbformat": 4,
 "nbformat_minor": 2
}
