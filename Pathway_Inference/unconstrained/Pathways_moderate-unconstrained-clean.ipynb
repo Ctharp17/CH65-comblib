{
 "cells": [
  {
   "cell_type": "code",
   "execution_count": 42,
   "metadata": {},
   "outputs": [],
   "source": [
    "import numpy as np\n",
    "import pandas as pd\n",
    "import matplotlib.pyplot as plt\n",
    "import matplotlib as mpl\n",
    "import seaborn as sns\n",
    "from collections import defaultdict\n",
    "from scipy.sparse import dok_matrix, csr_matrix\n",
    "from sklearn.preprocessing import normalize\n",
    "import networkx as nx\n",
    "import itertools\n",
    "from itertools import islice\n",
    "from tqdm.notebook import tqdm\n",
    "from matplotlib.patches import Patch\n",
    "import scipy as sp\n",
    "import math\n",
    "import csv\n",
    "from collections import OrderedDict\n",
    "import sys\n",
    "import matplotlib.cm as cm\n",
    "import matplotlib.colors as colors\n",
    "from matplotlib.colors import LinearSegmentedColormap\n",
    "\n",
    "\n",
    "mpl.rcParams['figure.dpi'] = 100\n",
    "plt.rcParams.update({'font.size': 7,'axes.linewidth':0.5,\n",
    "                     'xtick.major.size':2,'xtick.major.width':0.5,\n",
    "                    'ytick.major.size':2,'ytick.major.width':0.5})\n",
    "plt.rcParams.update({'mathtext.default':  'regular' })\n",
    "\n",
    "\n",
    "colorMA90, colorSI06 = \"#E8735C\", \"#72C2A6\"\n",
    "\n",
    "\n",
    "#### antibody choice ####\n",
    "antibody = \"CH65\"\n",
    "antigens = [\"MA90\", \"SI06\"]\n",
    "L = 16\n",
    "sequences_int = range(2**L)\n",
    "\n",
    "\n",
    "#### selection model choice ####\n",
    "#model = 'strong'\n",
    "model = 'moderate'\n",
    "#model = 'weak'\n",
    "################################\n",
    "\n",
    "if model == 'moderate':\n",
    "    N = 1000\n",
    "    gamma = 1.0\n",
    "elif model == 'weak':\n",
    "    N = 20\n",
    "    gamma = 0.5\n",
    "\n",
    "Nbootstrap = 10\n",
    "\n",
    "\n",
    "# define some functions\n",
    "def mutation(s, ii, L):\n",
    "    \"\"\" Return the sequence (in int format) with base s,\n",
    "        with a somatic mutation at pos ii \"\"\"\n",
    "    return s | 2**(L-1-ii)\n",
    "\n",
    "def nb_mutation(s):\n",
    "    \"\"\" Number of mutations in variant s \"\"\"\n",
    "    return bin(s).count(\"1\")\n",
    "\n",
    "def reachable(s, L):\n",
    "    return [(s | 2**ii) for ii in range(L) if (s | 2**ii) > s]\n",
    "\n",
    "def k_shortest_paths(G, source, target, k, weight=None):\n",
    "    return list(\n",
    "        islice(nx.shortest_simple_paths(G, source, target, weight=weight), k)\n",
    "    )\n",
    "def truncate_colormap(cmap, minval=0.0, maxval=1.0, n=100):\n",
    "    new_cmap = colors.LinearSegmentedColormap.from_list(\n",
    "        'trunc({n},{a:.2f},{b:.2f})'.format(n=cmap.name, a=minval, b=maxval),\n",
    "        cmap(np.linspace(minval, maxval, n)))\n",
    "    return new_cmap\n",
    "\n",
    "\n",
    "#can add a constraint to pass thru intermediate here\n",
    "is_intermediate = False\n",
    "INTERMEDIATE = int('0000001010100000', 2)\n",
    "nb_mut_int = nb_mutation(INTERMEDIATE)\n",
    "force_intermediate = dok_matrix((2**L, 2**L), dtype=np.float64)\n",
    "for mut in range(L):\n",
    "    t = mutation(INTERMEDIATE, mut, L)\n",
    "    force_intermediate[INTERMEDIATE, t] = 1\n",
    "    \n",
    "\n",
    "# define data and image folder\n",
    "data = \"\"\n",
    "img = \"\"\n",
    "##############################"
   ]
  },
  {
   "cell_type": "markdown",
   "metadata": {},
   "source": [
    "## Load data"
   ]
  },
  {
   "cell_type": "code",
   "execution_count": 43,
   "metadata": {},
   "outputs": [
    {
     "data": {
      "text/html": [
       "<div>\n",
       "<style scoped>\n",
       "    .dataframe tbody tr th:only-of-type {\n",
       "        vertical-align: middle;\n",
       "    }\n",
       "\n",
       "    .dataframe tbody tr th {\n",
       "        vertical-align: top;\n",
       "    }\n",
       "\n",
       "    .dataframe thead th {\n",
       "        text-align: right;\n",
       "    }\n",
       "</style>\n",
       "<table border=\"1\" class=\"dataframe\">\n",
       "  <thead>\n",
       "    <tr style=\"text-align: right;\">\n",
       "      <th></th>\n",
       "      <th>variant_int</th>\n",
       "      <th>geno</th>\n",
       "      <th>repa_x</th>\n",
       "      <th>repb_x</th>\n",
       "      <th>MA90_log10Kd</th>\n",
       "      <th>MA90_stelog10Kd</th>\n",
       "      <th>repa_y</th>\n",
       "      <th>repb_y</th>\n",
       "      <th>SI06_log10Kd</th>\n",
       "      <th>SI06_stelog10Kd</th>\n",
       "      <th>...</th>\n",
       "      <th>mutation_8</th>\n",
       "      <th>mutation_9</th>\n",
       "      <th>mutation_10</th>\n",
       "      <th>mutation_11</th>\n",
       "      <th>mutation_12</th>\n",
       "      <th>mutation_13</th>\n",
       "      <th>mutation_14</th>\n",
       "      <th>mutation_15</th>\n",
       "      <th>mutation_16</th>\n",
       "      <th>mixed_log10Kd</th>\n",
       "    </tr>\n",
       "  </thead>\n",
       "  <tbody>\n",
       "    <tr>\n",
       "      <th>0</th>\n",
       "      <td>0</td>\n",
       "      <td>0000000000000000</td>\n",
       "      <td>8.612721</td>\n",
       "      <td>8.472320</td>\n",
       "      <td>8.542521</td>\n",
       "      <td>0.070200</td>\n",
       "      <td>6.000000</td>\n",
       "      <td>6.000000</td>\n",
       "      <td>6.000000</td>\n",
       "      <td>0.000000</td>\n",
       "      <td>...</td>\n",
       "      <td>False</td>\n",
       "      <td>False</td>\n",
       "      <td>False</td>\n",
       "      <td>False</td>\n",
       "      <td>False</td>\n",
       "      <td>False</td>\n",
       "      <td>False</td>\n",
       "      <td>False</td>\n",
       "      <td>False</td>\n",
       "      <td>7.271260</td>\n",
       "    </tr>\n",
       "    <tr>\n",
       "      <th>1</th>\n",
       "      <td>1</td>\n",
       "      <td>0000000000000001</td>\n",
       "      <td>8.631980</td>\n",
       "      <td>8.516378</td>\n",
       "      <td>8.574179</td>\n",
       "      <td>0.057801</td>\n",
       "      <td>6.000000</td>\n",
       "      <td>6.000000</td>\n",
       "      <td>6.000000</td>\n",
       "      <td>0.000000</td>\n",
       "      <td>...</td>\n",
       "      <td>False</td>\n",
       "      <td>False</td>\n",
       "      <td>False</td>\n",
       "      <td>False</td>\n",
       "      <td>False</td>\n",
       "      <td>False</td>\n",
       "      <td>False</td>\n",
       "      <td>False</td>\n",
       "      <td>True</td>\n",
       "      <td>7.287090</td>\n",
       "    </tr>\n",
       "    <tr>\n",
       "      <th>2</th>\n",
       "      <td>2</td>\n",
       "      <td>0000000000000010</td>\n",
       "      <td>8.340245</td>\n",
       "      <td>8.290790</td>\n",
       "      <td>8.315518</td>\n",
       "      <td>0.024727</td>\n",
       "      <td>6.000000</td>\n",
       "      <td>6.000000</td>\n",
       "      <td>6.000000</td>\n",
       "      <td>0.000000</td>\n",
       "      <td>...</td>\n",
       "      <td>False</td>\n",
       "      <td>False</td>\n",
       "      <td>False</td>\n",
       "      <td>False</td>\n",
       "      <td>False</td>\n",
       "      <td>False</td>\n",
       "      <td>False</td>\n",
       "      <td>True</td>\n",
       "      <td>False</td>\n",
       "      <td>7.157759</td>\n",
       "    </tr>\n",
       "    <tr>\n",
       "      <th>3</th>\n",
       "      <td>3</td>\n",
       "      <td>0000000000000011</td>\n",
       "      <td>8.511183</td>\n",
       "      <td>8.436571</td>\n",
       "      <td>8.473877</td>\n",
       "      <td>0.037306</td>\n",
       "      <td>6.000000</td>\n",
       "      <td>6.000000</td>\n",
       "      <td>6.000000</td>\n",
       "      <td>0.000000</td>\n",
       "      <td>...</td>\n",
       "      <td>False</td>\n",
       "      <td>False</td>\n",
       "      <td>False</td>\n",
       "      <td>False</td>\n",
       "      <td>False</td>\n",
       "      <td>False</td>\n",
       "      <td>False</td>\n",
       "      <td>True</td>\n",
       "      <td>True</td>\n",
       "      <td>7.236939</td>\n",
       "    </tr>\n",
       "    <tr>\n",
       "      <th>4</th>\n",
       "      <td>4</td>\n",
       "      <td>0000000000000100</td>\n",
       "      <td>8.552056</td>\n",
       "      <td>8.523392</td>\n",
       "      <td>8.537724</td>\n",
       "      <td>0.014332</td>\n",
       "      <td>6.000000</td>\n",
       "      <td>6.000000</td>\n",
       "      <td>6.000000</td>\n",
       "      <td>0.000000</td>\n",
       "      <td>...</td>\n",
       "      <td>False</td>\n",
       "      <td>False</td>\n",
       "      <td>False</td>\n",
       "      <td>False</td>\n",
       "      <td>False</td>\n",
       "      <td>False</td>\n",
       "      <td>True</td>\n",
       "      <td>False</td>\n",
       "      <td>False</td>\n",
       "      <td>7.268862</td>\n",
       "    </tr>\n",
       "    <tr>\n",
       "      <th>...</th>\n",
       "      <td>...</td>\n",
       "      <td>...</td>\n",
       "      <td>...</td>\n",
       "      <td>...</td>\n",
       "      <td>...</td>\n",
       "      <td>...</td>\n",
       "      <td>...</td>\n",
       "      <td>...</td>\n",
       "      <td>...</td>\n",
       "      <td>...</td>\n",
       "      <td>...</td>\n",
       "      <td>...</td>\n",
       "      <td>...</td>\n",
       "      <td>...</td>\n",
       "      <td>...</td>\n",
       "      <td>...</td>\n",
       "      <td>...</td>\n",
       "      <td>...</td>\n",
       "      <td>...</td>\n",
       "      <td>...</td>\n",
       "      <td>...</td>\n",
       "    </tr>\n",
       "    <tr>\n",
       "      <th>65531</th>\n",
       "      <td>65531</td>\n",
       "      <td>1111111111111011</td>\n",
       "      <td>10.103725</td>\n",
       "      <td>10.109438</td>\n",
       "      <td>10.106582</td>\n",
       "      <td>0.002856</td>\n",
       "      <td>9.173063</td>\n",
       "      <td>9.109244</td>\n",
       "      <td>9.141153</td>\n",
       "      <td>0.031909</td>\n",
       "      <td>...</td>\n",
       "      <td>True</td>\n",
       "      <td>True</td>\n",
       "      <td>True</td>\n",
       "      <td>True</td>\n",
       "      <td>True</td>\n",
       "      <td>True</td>\n",
       "      <td>False</td>\n",
       "      <td>True</td>\n",
       "      <td>True</td>\n",
       "      <td>9.623867</td>\n",
       "    </tr>\n",
       "    <tr>\n",
       "      <th>65532</th>\n",
       "      <td>65532</td>\n",
       "      <td>1111111111111100</td>\n",
       "      <td>10.092798</td>\n",
       "      <td>10.039002</td>\n",
       "      <td>10.065900</td>\n",
       "      <td>0.026898</td>\n",
       "      <td>8.775637</td>\n",
       "      <td>8.804350</td>\n",
       "      <td>8.789993</td>\n",
       "      <td>0.014357</td>\n",
       "      <td>...</td>\n",
       "      <td>True</td>\n",
       "      <td>True</td>\n",
       "      <td>True</td>\n",
       "      <td>True</td>\n",
       "      <td>True</td>\n",
       "      <td>True</td>\n",
       "      <td>True</td>\n",
       "      <td>False</td>\n",
       "      <td>False</td>\n",
       "      <td>9.427947</td>\n",
       "    </tr>\n",
       "    <tr>\n",
       "      <th>65533</th>\n",
       "      <td>65533</td>\n",
       "      <td>1111111111111101</td>\n",
       "      <td>10.114984</td>\n",
       "      <td>10.152478</td>\n",
       "      <td>10.133731</td>\n",
       "      <td>0.018747</td>\n",
       "      <td>8.985615</td>\n",
       "      <td>9.035222</td>\n",
       "      <td>9.010419</td>\n",
       "      <td>0.024804</td>\n",
       "      <td>...</td>\n",
       "      <td>True</td>\n",
       "      <td>True</td>\n",
       "      <td>True</td>\n",
       "      <td>True</td>\n",
       "      <td>True</td>\n",
       "      <td>True</td>\n",
       "      <td>True</td>\n",
       "      <td>False</td>\n",
       "      <td>True</td>\n",
       "      <td>9.572075</td>\n",
       "    </tr>\n",
       "    <tr>\n",
       "      <th>65534</th>\n",
       "      <td>65534</td>\n",
       "      <td>1111111111111110</td>\n",
       "      <td>9.969711</td>\n",
       "      <td>9.965975</td>\n",
       "      <td>9.967843</td>\n",
       "      <td>0.001868</td>\n",
       "      <td>8.578370</td>\n",
       "      <td>8.672535</td>\n",
       "      <td>8.625453</td>\n",
       "      <td>0.047082</td>\n",
       "      <td>...</td>\n",
       "      <td>True</td>\n",
       "      <td>True</td>\n",
       "      <td>True</td>\n",
       "      <td>True</td>\n",
       "      <td>True</td>\n",
       "      <td>True</td>\n",
       "      <td>True</td>\n",
       "      <td>True</td>\n",
       "      <td>False</td>\n",
       "      <td>9.296648</td>\n",
       "    </tr>\n",
       "    <tr>\n",
       "      <th>65535</th>\n",
       "      <td>65535</td>\n",
       "      <td>1111111111111111</td>\n",
       "      <td>10.125899</td>\n",
       "      <td>10.084762</td>\n",
       "      <td>10.105330</td>\n",
       "      <td>0.020568</td>\n",
       "      <td>9.165924</td>\n",
       "      <td>9.150132</td>\n",
       "      <td>9.158028</td>\n",
       "      <td>0.007896</td>\n",
       "      <td>...</td>\n",
       "      <td>True</td>\n",
       "      <td>True</td>\n",
       "      <td>True</td>\n",
       "      <td>True</td>\n",
       "      <td>True</td>\n",
       "      <td>True</td>\n",
       "      <td>True</td>\n",
       "      <td>True</td>\n",
       "      <td>True</td>\n",
       "      <td>9.631679</td>\n",
       "    </tr>\n",
       "  </tbody>\n",
       "</table>\n",
       "<p>65536 rows × 48 columns</p>\n",
       "</div>"
      ],
      "text/plain": [
       "       variant_int              geno     repa_x     repb_x  MA90_log10Kd  \\\n",
       "0                0  0000000000000000   8.612721   8.472320      8.542521   \n",
       "1                1  0000000000000001   8.631980   8.516378      8.574179   \n",
       "2                2  0000000000000010   8.340245   8.290790      8.315518   \n",
       "3                3  0000000000000011   8.511183   8.436571      8.473877   \n",
       "4                4  0000000000000100   8.552056   8.523392      8.537724   \n",
       "...            ...               ...        ...        ...           ...   \n",
       "65531        65531  1111111111111011  10.103725  10.109438     10.106582   \n",
       "65532        65532  1111111111111100  10.092798  10.039002     10.065900   \n",
       "65533        65533  1111111111111101  10.114984  10.152478     10.133731   \n",
       "65534        65534  1111111111111110   9.969711   9.965975      9.967843   \n",
       "65535        65535  1111111111111111  10.125899  10.084762     10.105330   \n",
       "\n",
       "       MA90_stelog10Kd    repa_y    repb_y  SI06_log10Kd  SI06_stelog10Kd  \\\n",
       "0             0.070200  6.000000  6.000000      6.000000         0.000000   \n",
       "1             0.057801  6.000000  6.000000      6.000000         0.000000   \n",
       "2             0.024727  6.000000  6.000000      6.000000         0.000000   \n",
       "3             0.037306  6.000000  6.000000      6.000000         0.000000   \n",
       "4             0.014332  6.000000  6.000000      6.000000         0.000000   \n",
       "...                ...       ...       ...           ...              ...   \n",
       "65531         0.002856  9.173063  9.109244      9.141153         0.031909   \n",
       "65532         0.026898  8.775637  8.804350      8.789993         0.014357   \n",
       "65533         0.018747  8.985615  9.035222      9.010419         0.024804   \n",
       "65534         0.001868  8.578370  8.672535      8.625453         0.047082   \n",
       "65535         0.020568  9.165924  9.150132      9.158028         0.007896   \n",
       "\n",
       "       ...  mutation_8  mutation_9  mutation_10  mutation_11  mutation_12  \\\n",
       "0      ...       False       False        False        False        False   \n",
       "1      ...       False       False        False        False        False   \n",
       "2      ...       False       False        False        False        False   \n",
       "3      ...       False       False        False        False        False   \n",
       "4      ...       False       False        False        False        False   \n",
       "...    ...         ...         ...          ...          ...          ...   \n",
       "65531  ...        True        True         True         True         True   \n",
       "65532  ...        True        True         True         True         True   \n",
       "65533  ...        True        True         True         True         True   \n",
       "65534  ...        True        True         True         True         True   \n",
       "65535  ...        True        True         True         True         True   \n",
       "\n",
       "       mutation_13  mutation_14  mutation_15  mutation_16  mixed_log10Kd  \n",
       "0            False        False        False        False       7.271260  \n",
       "1            False        False        False         True       7.287090  \n",
       "2            False        False         True        False       7.157759  \n",
       "3            False        False         True         True       7.236939  \n",
       "4            False         True        False        False       7.268862  \n",
       "...            ...          ...          ...          ...            ...  \n",
       "65531         True        False         True         True       9.623867  \n",
       "65532         True         True        False        False       9.427947  \n",
       "65533         True         True        False         True       9.572075  \n",
       "65534         True         True         True        False       9.296648  \n",
       "65535         True         True         True         True       9.631679  \n",
       "\n",
       "[65536 rows x 48 columns]"
      ]
     },
     "execution_count": 43,
     "metadata": {},
     "output_type": "execute_result"
    }
   ],
   "source": [
    "# read dataframe\n",
    "df = pd.read_csv(f\"../../Kd_Inference/results_CH65/Kd_processed/20220603_CH65_QCfilt_REPfilt.csv\", dtype={\"geno\":\"str\"})\n",
    "df = df.rename(columns={\"MA90_mean\": \"MA90_log10Kd\", \"SI06_mean\": \"SI06_log10Kd\",\n",
    "                        \"MA90_sem\": \"MA90_stelog10Kd\", \"SI06_sem\": \"SI06_stelog10Kd\"})\n",
    "\n",
    "# convert genotypes to integers and sort accordingly    \n",
    "df[\"variant_int\"] = df.geno.apply(lambda x: int(x, 2))\n",
    "df = df.set_index(\"variant_int\").reindex(range(0, 2**L)).reset_index()\n",
    "\n",
    "for ii in range(L):\n",
    "    df[f\"mutation_{ii+1}\"] = df.geno.str[ii] == '1'\n",
    "      \n",
    "# get average Kd for mixed scenarios    \n",
    "df['mixed_log10Kd'] = df[[f\"{a}_log10Kd\" for a in antigens]].mean(axis=1)\n",
    "df"
   ]
  },
  {
   "cell_type": "markdown",
   "metadata": {},
   "source": [
    "## Define selection model"
   ]
  },
  {
   "cell_type": "code",
   "execution_count": 44,
   "metadata": {},
   "outputs": [],
   "source": [
    "def fixation_probability_moderate(fitness_s,fitness_t,Npop,gamma):\n",
    "    if np.isnan(fitness_s) or np.isnan(fitness_t):\n",
    "        pval = 0.0\n",
    "    else:\n",
    "        delta = fitness_t - fitness_s\n",
    "        if delta == 0.0:\n",
    "            pval = 1.0/Npop\n",
    "        else:\n",
    "            # avoid overflow errors\n",
    "            if gamma*delta > 100:\n",
    "                pval = 1\n",
    "            elif Npop*gamma*delta < -100:\n",
    "                pval = 0\n",
    "            elif Npop*gamma*delta > 100:\n",
    "                pval = (1 - np.exp(-gamma*delta))\n",
    "            else:\n",
    "                pval = ((1 - np.exp(-gamma*delta))/(1 - np.exp(-Npop*gamma*delta)))\n",
    "    return pval\n",
    "\n",
    "def log_fixation_probability_moderate(fitness_s,fitness_t,Npop,gamma):\n",
    "    if np.isnan(fitness_s) or np.isnan(fitness_t):\n",
    "        pval = 0.0\n",
    "    else:\n",
    "        delta = fitness_t - fitness_s\n",
    "        if delta == 0.0:\n",
    "            pval = np.log(1.0/Npop)\n",
    "        else:\n",
    "            # avoid overflow errors\n",
    "            if gamma*delta > 100:\n",
    "                pval = np.log(1)\n",
    "            elif Npop*gamma*delta < -100:\n",
    "                pval = -gamma*delta + Npop*gamma*delta\n",
    "            elif Npop*gamma*delta > 100:\n",
    "                pval = np.log((1 - np.exp(-gamma*delta)))\n",
    "            else:\n",
    "                pval = np.log(((1 - np.exp(-gamma*delta))/(1 - np.exp(-Npop*gamma*delta))))\n",
    "    return pval\n",
    "    \n",
    "    \n",
    "def fixation_probability_binary(s,fitness_s,fitness_t):\n",
    "    if np.isnan(fitness_s) or np.isnan(fitness_t):\n",
    "        pval = 0.0\n",
    "    elif (fitness_t-fitness_s) > 0:\n",
    "        pval = 1.0\n",
    "    else:\n",
    "        pval = 0.0\n",
    "    return pval\n"
   ]
  },
  {
   "cell_type": "markdown",
   "metadata": {},
   "source": [
    "## Calculate transition probabilities"
   ]
  },
  {
   "cell_type": "code",
   "execution_count": 116,
   "metadata": {},
   "outputs": [
    {
     "data": {
      "application/vnd.jupyter.widget-view+json": {
       "model_id": "b945f1a3f87e4fad88419cd3a7e548be",
       "version_major": 2,
       "version_minor": 0
      },
      "text/plain": [
       "  0%|          | 0/2 [00:00<?, ?it/s]"
      ]
     },
     "metadata": {},
     "output_type": "display_data"
    }
   ],
   "source": [
    "Nbootstrap = 10\n",
    "\n",
    "# Create the transition matrix between variant, depending on context\n",
    "pmut = {}\n",
    "for nb in tqdm(range(Nbootstrap)):\n",
    "    for ag in antigens + [\"mixed\"]:\n",
    "        pmut[ag, nb] = dok_matrix((2**L, 2**L), dtype=np.float64)\n",
    "        if ag != \"mixed\":\n",
    "            fitnesses = np.random.normal(\n",
    "                        (df[f\"{ag}_log10Kd\"]).values.astype('float32'),\n",
    "                        (df[f\"{ag}_stelog10Kd\"]).values.astype('float32'))\n",
    "        else:\n",
    "            fitnesses = sum([np.random.normal(\n",
    "                        (df[f\"{aa}_log10Kd\"]).values.astype('float32'),\n",
    "                        (df[f\"{aa}_stelog10Kd\"]).values.astype('float32')) for aa in antigens])/len(antigens)\n",
    "        \n",
    "        for s in sequences_int:\n",
    "            tot = 0\n",
    "            for t in reachable(s, L):\n",
    "                if is_intermediate and t != INTERMEDIATE and nb_mutation(t) == nb_mutation(INTERMEDIATE):\n",
    "                    pmut[ag, nb][s, t] = 0\n",
    "                else:\n",
    "                    if model == 'strong':\n",
    "                        pmut[ag, nb][s, t] = fixation_probability_binary(s,fitnesses[s],fitnesses[t])\n",
    "                    else:  \n",
    "                        pmut[ag, nb][s, t] = fixation_probability_moderate(fitnesses[s],fitnesses[t],N,gamma)\n",
    "\n",
    "        ### change format for something that can deal with multiplications\n",
    "        pmut[ag, nb].tocsr()"
   ]
  },
  {
   "cell_type": "code",
   "execution_count": 5,
   "metadata": {},
   "outputs": [
    {
     "data": {
      "application/vnd.jupyter.widget-view+json": {
       "model_id": "f67eadd56ab047d08eafbdae527715f8",
       "version_major": 2,
       "version_minor": 0
      },
      "text/plain": [
       "HBox(children=(IntProgress(value=0, max=33), HTML(value='')))"
      ]
     },
     "metadata": {},
     "output_type": "display_data"
    },
    {
     "name": "stdout",
     "output_type": "stream",
     "text": [
      "\n"
     ]
    }
   ],
   "source": [
    "### compute for every context\n",
    "all_contexts = set()\n",
    "for order in itertools.permutations(antigens):\n",
    "    for a in itertools.combinations_with_replacement(order, L):\n",
    "        all_contexts.add(a)\n",
    "all_contexts.add(tuple([\"mixed\"]*L))\n",
    "\n",
    "proba = defaultdict(list)\n",
    "for context in tqdm(all_contexts):\n",
    "    for nb in range(Nbootstrap):\n",
    "        P = pmut[context[0], nb][0, :] # start vector\n",
    "        for c in context[1:]:\n",
    "            P = P@pmut[c, nb]\n",
    "        proba[context] += [P[0, 2**L - 1]]\n",
    "\n",
    "# write data to file\n",
    "with open(f'likelihoods_'+antibody+'_'+model+'.csv','w') as writefile:\n",
    "    proba_writer = csv.writer(writefile)\n",
    "    for key in proba.keys():\n",
    "        list_to_write = [x for x in key] + [x for x in proba[key]]\n",
    "        proba_writer.writerow(list_to_write)\n",
    "    writefile.close()\n"
   ]
  },
  {
   "cell_type": "code",
   "execution_count": 6,
   "metadata": {},
   "outputs": [
    {
     "data": {
      "application/vnd.jupyter.widget-view+json": {
       "model_id": "c4299153e3c34203b518edcd250c504b",
       "version_major": 2,
       "version_minor": 0
      },
      "text/plain": [
       "HBox(children=(IntProgress(value=0, max=1000), HTML(value='')))"
      ]
     },
     "metadata": {},
     "output_type": "display_data"
    },
    {
     "name": "stdout",
     "output_type": "stream",
     "text": [
      "\n",
      "3.887079727918137e-06 1.1186571952234197e-05\n"
     ]
    }
   ],
   "source": [
    "# draw random contexts\n",
    "num_random_contexts = 1000\n",
    "random_contexts = []\n",
    "for i in range(num_random_contexts):\n",
    "    random_contexts.append(np.random.choice(antigens,size=L))\n",
    "        \n",
    "proba_random = np.zeros((num_random_contexts,Nbootstrap))\n",
    "for i in tqdm(range(num_random_contexts)):\n",
    "    context = random_contexts[i]\n",
    "    for nb in range(Nbootstrap):\n",
    "        P = pmut[context[0], nb][0, :] # start vector\n",
    "        for c in context[1:]:\n",
    "            P = P@pmut[c, nb]\n",
    "        proba_random[i,nb] += [P[0, 2**L - 1]]\n",
    "        \n",
    "proba_random_mean = np.mean(np.mean(proba_random,axis=1),axis=0)\n",
    "proba_random_std = np.std(np.std(proba_random,axis=1))\n",
    "print(proba_random_mean,proba_random_std)\n",
    "\n",
    "# write data to file\n",
    "with open(f'likelihoods_'+antibody+'_'+model+'_random.csv','w') as writefile:\n",
    "    proba_writer = csv.writer(writefile)\n",
    "    for i in range(len(proba_random)):\n",
    "        list_to_write = [x for x in random_contexts[i]] + [x for x in proba_random[i]]\n",
    "        proba_writer.writerow(list_to_write)\n",
    "    writefile.close()\n",
    "\n"
   ]
  },
  {
   "cell_type": "markdown",
   "metadata": {},
   "source": [
    "## Recalculate normalized probabilities for selected contexts (no bootstrapping)"
   ]
  },
  {
   "cell_type": "code",
   "execution_count": 6,
   "metadata": {},
   "outputs": [],
   "source": [
    "proba_from_file = defaultdict(list)\n",
    "with open(f'likelihoods_'+antibody+'_'+model+'.csv','r') as readfile:\n",
    "    proba_reader = csv.reader(readfile)\n",
    "    for row in proba_reader:\n",
    "        key = tuple(row[:L])\n",
    "        value = [float(x) for x in row[L:]]\n",
    "        proba_from_file[key] = value\n",
    "    readfile.close()\n",
    "\n",
    "num_random_contexts = 1000\n",
    "proba_random_from_file = np.zeros((num_random_contexts,Nbootstrap))\n",
    "contexts_random_from_file = []\n",
    "with open(f'likelihoods_'+antibody+'_'+model+'_random.csv','r') as readfile:\n",
    "    proba_reader = csv.reader(readfile)\n",
    "    i = 0\n",
    "    for row in proba_reader:\n",
    "        key = tuple(row[:L])\n",
    "        contexts_random_from_file.append(key)\n",
    "        value = [float(x) for x in row[L:]]   \n",
    "        proba_random_from_file[i] = value\n",
    "        i += 1\n",
    "    readfile.close()"
   ]
  },
  {
   "cell_type": "code",
   "execution_count": 8,
   "metadata": {},
   "outputs": [
    {
     "name": "stdout",
     "output_type": "stream",
     "text": [
      "20922789888000\n",
      "1.812800498824218e-24\n",
      "4.548379600692081e-24\n"
     ]
    }
   ],
   "source": [
    "print(math.factorial(L))\n",
    "print(np.mean(proba_from_file[tuple([\"MA90\"]*L)])/math.factorial(L))\n",
    "print(np.std(proba_from_file[tuple([\"MA90\"]*L)],ddof=1)/math.factorial(L))"
   ]
  },
  {
   "cell_type": "code",
   "execution_count": 38,
   "metadata": {},
   "outputs": [
    {
     "data": {
      "application/vnd.jupyter.widget-view+json": {
       "model_id": "5bdb4a202d3e46b582b92a3f6300545c",
       "version_major": 2,
       "version_minor": 0
      },
      "text/plain": [
       "  0%|          | 0/65536 [00:00<?, ?it/s]"
      ]
     },
     "metadata": {},
     "output_type": "display_data"
    },
    {
     "data": {
      "application/vnd.jupyter.widget-view+json": {
       "model_id": "55904bff837b424a8e16f7a97f50d82d",
       "version_major": 2,
       "version_minor": 0
      },
      "text/plain": [
       "  0%|          | 0/65536 [00:00<?, ?it/s]"
      ]
     },
     "metadata": {},
     "output_type": "display_data"
    },
    {
     "name": "stdout",
     "output_type": "stream",
     "text": [
      "33252 {485: 0.0, 486: 0.0, 492: 0.0, 500: 0.0, 996: 0.0, 1508: 0.0, 2532: 0.0, 4580: 0.0, 8676: 0.0, 16868: 0.0, 33252: 0.0}\n",
      "33712 {945: 0.0, 946: 0.0, 948: 0.0, 952: 0.0, 1008: 0.0, 1968: 0.0, 2992: 0.0, 5040: 0.0, 9136: 0.0, 17328: 0.0, 33712: 0.0}\n",
      "34913 {2147: 0.0, 2149: 0.0, 2153: 0.0, 2161: 0.0, 2273: 0.0, 2401: 0.0, 2657: 0.0, 3169: 0.0, 6241: 0.0, 10337: 0.0, 18529: 0.0, 34913: 0.0}\n",
      "35046 {2279: 0.0, 2286: 0.0, 2294: 0.0, 2534: 0.0, 2790: 0.0, 3302: 0.0, 6374: 0.0, 10470: 0.0, 18662: 0.0, 35046: 0.0}\n",
      "35050 {2283: 0.0, 2286: 0.0, 2298: 0.0, 2538: 0.0, 2794: 0.0, 3306: 0.0, 6378: 0.0, 10474: 0.0, 18666: 0.0, 35050: 0.0}\n",
      "35119 {2367: 0.0, 2415: 0.0, 2479: 0.0, 2863: 0.0, 3375: 0.0, 6447: 0.0, 10543: 0.0, 18735: 0.0, 35119: 0.0}\n",
      "35302 {2535: 0.0, 2542: 0.0, 2550: 0.0, 3046: 0.0, 3558: 0.0, 6630: 0.0, 10726: 0.0, 18918: 0.0, 35302: 0.0}\n",
      "35438 {2671: 0.0, 2686: 0.0, 2798: 0.0, 2926: 0.0, 3694: 0.0, 6766: 0.0, 10862: 0.0, 19054: 0.0, 35438: 0.0}\n",
      "35444 {2677: 0.0, 2678: 0.0, 2684: 0.0, 2804: 0.0, 2932: 0.0, 3700: 0.0, 6772: 0.0, 10868: 0.0, 19060: 0.0, 35444: 0.0}\n",
      "35449 {2683: 0.0, 2685: 0.0, 2809: 0.0, 2937: 0.0, 3705: 0.0, 6777: 0.0, 10873: 0.0, 19065: 0.0, 35449: 0.0}\n",
      "35452 {2685: 0.0, 2686: 0.0, 2812: 0.0, 2940: 0.0, 3708: 0.0, 6780: 0.0, 10876: 0.0, 19068: 0.0, 35452: 0.0}\n",
      "35635 {2871: 0.0, 2875: 0.0, 2931: 0.0, 2995: 0.0, 3891: 0.0, 6963: 0.0, 11059: 0.0, 19251: 0.0, 35635: 0.0}\n",
      "36340 {3573: 0.0, 3574: 0.0, 3580: 0.0, 4084: 0.0, 7668: 0.0, 11764: 0.0, 19956: 0.0, 36340: 0.0}\n",
      "36649 {3883: 0.0, 3885: 0.0, 3897: 0.0, 3945: 0.0, 4009: 0.0, 7977: 0.0, 12073: 0.0, 20265: 0.0, 36649: 0.0}\n",
      "37347 {4583: 0.0, 4587: 0.0, 4595: 0.0, 5091: 0.0, 5603: 0.0, 6627: 0.0, 12771: 0.0, 20963: 0.0, 37347: 0.0}\n",
      "37866 {5099: 0.0, 5102: 0.0, 5114: 0.0, 6122: 0.0, 7146: 0.0, 13290: 0.0, 21482: 0.0, 37866: 0.0}\n",
      "37870 {5103: 0.0, 5118: 0.0, 6126: 0.0, 7150: 0.0, 13294: 0.0, 21486: 0.0, 37870: 0.0}\n",
      "38765 {5999: 0.0, 6013: 0.0, 6125: 0.0, 8045: 0.0, 14189: 0.0, 22381: 0.0, 38765: 0.0}\n",
      "38778 {6011: 0.0, 6014: 0.0, 6138: 0.0, 8058: 0.0, 14202: 0.0, 22394: 0.0, 38778: 0.0}\n",
      "43058 {10291: 0.0, 10294: 0.0, 10298: 0.0, 10354: 0.0, 10418: 0.0, 10546: 0.0, 10802: 0.0, 11314: 0.0, 14386: 0.0, 26674: 0.0, 43058: 0.0}\n",
      "43109 {10343: 0.0, 10349: 0.0, 10357: 0.0, 10469: 0.0, 10597: 0.0, 10853: 0.0, 11365: 0.0, 14437: 0.0, 26725: 0.0, 43109: 0.0}\n",
      "43181 {10415: 0.0, 10429: 0.0, 10477: 0.0, 10669: 0.0, 10925: 0.0, 11437: 0.0, 14509: 0.0, 26797: 0.0, 43181: 0.0}\n",
      "43194 {10427: 0.0, 10430: 0.0, 10490: 0.0, 10682: 0.0, 10938: 0.0, 11450: 0.0, 14522: 0.0, 26810: 0.0, 43194: 0.0}\n",
      "43360 {10593: 0.0, 10594: 0.0, 10596: 0.0, 10600: 0.0, 10608: 0.0, 10720: 0.0, 11104: 0.0, 11616: 0.0, 14688: 0.0, 26976: 0.0, 43360: 0.0}\n",
      "44077 {11311: 0.0, 11325: 0.0, 11373: 0.0, 11437: 0.0, 11565: 0.0, 11821: 0.0, 15405: 0.0, 27693: 0.0, 44077: 0.0}\n",
      "44137 {11371: 0.0, 11373: 0.0, 11385: 0.0, 11497: 0.0, 11625: 0.0, 11881: 0.0, 15465: 0.0, 27753: 0.0, 44137: 0.0}\n",
      "44138 {11371: 0.0, 11374: 0.0, 11386: 0.0, 11498: 0.0, 11626: 0.0, 11882: 0.0, 15466: 0.0, 27754: 0.0, 44138: 0.0}\n",
      "44205 {11439: 0.0, 11453: 0.0, 11501: 0.0, 11693: 0.0, 11949: 0.0, 15533: 0.0, 27821: 0.0, 44205: 0.0}\n",
      "44792 {12025: -583.7948169708252, 12026: -734.7695989608765, 12028: -611.6628484725952, 12280: -517.3530321121216, 16120: -481.0191249847412, 28408: -756.8160309791565, 44792: -720.6850533485413}\n",
      "45349 {12583: 0.0, 12589: 0.0, 12597: 0.0, 12645: 0.0, 12709: 0.0, 13093: 0.0, 13605: 0.0, 14629: 0.0, 28965: 0.0, 45349: 0.0}\n",
      "45542 {12775: -354.21248388290405, 12782: -611.53280210495, 12790: -466.1319122314453, 13286: -180.87020301818848, 13798: -494.8859739303589, 14822: -123.4583044052124, 29158: -441.61841011047363, 45542: -451.36188411712646}\n",
      "46380 {13613: 0.0, 13614: 0.0, 13628: 0.0, 13676: 0.0, 13740: 0.0, 14124: 0.0, 15660: 0.0, 29996: 0.0, 46380: 0.0}\n",
      "46381 {13615: 0.0, 13629: 0.0, 13677: 0.0, 13741: 0.0, 14125: 0.0, 15661: 0.0, 29997: 0.0, 46381: 0.0}\n",
      "46384 {13617: 0.0, 13618: 0.0, 13620: 0.0, 13624: 0.0, 13680: 0.0, 13744: 0.0, 14128: 0.0, 15664: 0.0, 30000: 0.0, 46384: 0.0}\n",
      "46567 {13807: 0.0, 13815: 0.0, 14311: 0.0, 15847: 0.0, 30183: 0.0, 46567: 0.0}\n",
      "46702 {13935: 0.0, 13950: 0.0, 14062: 0.0, 14190: 0.0, 15982: 0.0, 30318: 0.0, 46702: 0.0}\n",
      "49389 {16623: 0.0, 16637: 0.0, 16877: 0.0, 17133: 0.0, 17645: 0.0, 18669: 0.0, 20717: 0.0, 24813: 0.0, 49389: 0.0}\n",
      "49650 {16883: 0.0, 16886: 0.0, 16890: 0.0, 17394: 0.0, 17906: 0.0, 18930: 0.0, 20978: 0.0, 25074: 0.0, 49650: 0.0}\n",
      "50410 {17643: 0.0, 17646: 0.0, 17658: 0.0, 17898: 0.0, 18154: 0.0, 19690: 0.0, 21738: 0.0, 25834: 0.0, 50410: 0.0}\n",
      "50419 {17655: 0.0, 17659: 0.0, 17907: 0.0, 18163: 0.0, 19699: 0.0, 21747: 0.0, 25843: 0.0, 50419: 0.0}\n",
      "51297 {18531: 0.0, 18533: 0.0, 18537: 0.0, 18545: 0.0, 18657: 0.0, 18785: 0.0, 19041: 0.0, 19553: 0.0, 22625: 0.0, 26721: 0.0, 51297: 0.0}\n",
      "51424 {18657: 0.0, 18658: 0.0, 18660: 0.0, 18664: 0.0, 18672: 0.0, 18912: 0.0, 19168: 0.0, 19680: 0.0, 22752: 0.0, 26848: 0.0, 51424: 0.0}\n",
      "51503 {18751: 0.0, 18799: 0.0, 18863: 0.0, 19247: 0.0, 19759: 0.0, 22831: 0.0, 26927: 0.0, 51503: 0.0}\n",
      "51643 {18879: 0.0, 18939: 0.0, 19387: 0.0, 19899: 0.0, 22971: 0.0, 27067: 0.0, 51643: 0.0}\n",
      "51832 {19065: 0.0, 19066: 0.0, 19068: 0.0, 19192: 0.0, 19320: 0.0, 20088: 0.0, 23160: 0.0, 27256: 0.0, 51832: 0.0}\n",
      "52850 {20083: 0.0, 20086: 0.0, 20090: 0.0, 20210: 0.0, 20338: 0.0, 24178: 0.0, 28274: 0.0, 52850: 0.0}\n",
      "52854 {20087: 0.0, 20094: 0.0, 20214: 0.0, 20342: 0.0, 24182: 0.0, 28278: 0.0, 52854: 0.0}\n",
      "54207 {21503: 0.0, 22463: 0.0, 23487: 0.0, 29631: 0.0, 54207: 0.0}\n",
      "55154 {22387: 0.0, 22390: 0.0, 22394: 0.0, 22514: 0.0, 24434: 0.0, 30578: 0.0, 55154: 0.0}\n",
      "55221 {22455: 0.0, 22461: 0.0, 22517: 0.0, 24501: 0.0, 30645: 0.0, 55221: 0.0}\n",
      "55462 {22695: 0.0, 22702: 0.0, 22710: 0.0, 22758: 0.0, 22950: 0.0, 23206: 0.0, 23718: 0.0, 30886: 0.0, 55462: 0.0}\n",
      "56370 {23603: 0.0, 23606: 0.0, 23610: 0.0, 23666: 0.0, 23730: 0.0, 23858: 0.0, 24114: 0.0, 31794: 0.0, 56370: 0.0}\n",
      "58400 {25633: 0.0, 25634: 0.0, 25636: 0.0, 25640: 0.0, 25648: 0.0, 25696: 0.0, 25760: 0.0, 25888: 0.0, 26144: 0.0, 27680: 0.0, 29728: 0.0, 58400: 0.0}\n",
      "58860 {26093: -806.1188478469849, 26094: -771.8113775253296, 26108: -766.8553247451782, 26604: -459.76011657714844, 28140: -1275.0617623329163, 30188: -1170.9398760795593, 58860: -582.954517364502}\n",
      "59492 {26725: 0.0, 26726: 0.0, 26732: 0.0, 26740: 0.0, 26852: 0.0, 26980: 0.0, 27236: 0.0, 27748: 0.0, 30820: 0.0, 59492: 0.0}\n",
      "59498 {26731: 0.0, 26734: 0.0, 26746: 0.0, 26858: 0.0, 26986: 0.0, 27242: 0.0, 27754: 0.0, 30826: 0.0, 59498: 0.0}\n",
      "59500 {26733: 0.0, 26734: 0.0, 26748: 0.0, 26860: 0.0, 26988: 0.0, 27244: 0.0, 27756: 0.0, 30828: 0.0, 59500: 0.0}\n",
      "59620 {26853: 0.0, 26854: 0.0, 26860: 0.0, 26868: 0.0, 27108: 0.0, 27364: 0.0, 27876: 0.0, 30948: 0.0, 59620: 0.0}\n",
      "59962 {27195: 0.0, 27198: 0.0, 27258: 0.0, 27322: 0.0, 27450: 0.0, 28218: 0.0, 31290: 0.0, 59962: 0.0}\n",
      "60457 {27691: 0.0, 27693: 0.0, 27705: 0.0, 27753: 0.0, 27817: 0.0, 27945: 0.0, 28201: 0.0, 31785: 0.0, 60457: 0.0}\n",
      "60461 {27695: 0.0, 27709: 0.0, 27757: 0.0, 27821: 0.0, 27949: 0.0, 28205: 0.0, 31789: 0.0, 60461: 0.0}\n",
      "60517 {27751: 0.0, 27757: 0.0, 27765: 0.0, 27877: 0.0, 28005: 0.0, 28261: 0.0, 31845: 0.0, 60517: 0.0}\n",
      "60518 {27751: 0.0, 27758: 0.0, 27766: 0.0, 27878: 0.0, 28006: 0.0, 28262: 0.0, 31846: 0.0, 60518: 0.0}\n",
      "60521 {27755: 0.0, 27757: 0.0, 27769: 0.0, 27881: 0.0, 28009: 0.0, 28265: 0.0, 31849: 0.0, 60521: 0.0}\n",
      "60586 {27819: 0.0, 27822: 0.0, 27834: 0.0, 27882: 0.0, 28074: 0.0, 28330: 0.0, 31914: 0.0, 60586: 0.0}\n",
      "60909 {28143: 0.0, 28157: 0.0, 28653: 0.0, 32237: 0.0, 60909: 0.0}\n",
      "61537 {28771: 0.0, 28773: 0.0, 28777: 0.0, 28785: 0.0, 28897: 0.0, 29025: 0.0, 29281: 0.0, 29793: 0.0, 30817: 0.0, 61537: 0.0}\n",
      "61565 {28799: 0.0, 28925: 0.0, 29053: 0.0, 29309: 0.0, 29821: 0.0, 30845: 0.0, 61565: 0.0}\n",
      "61690 {28923: 0.0, 28926: 0.0, 29178: 0.0, 29434: 0.0, 29946: 0.0, 30970: 0.0, 61690: 0.0}\n",
      "61752 {28985: 0.0, 28986: 0.0, 28988: 0.0, 29048: 0.0, 29112: 0.0, 29496: 0.0, 30008: 0.0, 31032: 0.0, 61752: 0.0}\n",
      "61754 {28987: 0.0, 28990: 0.0, 29050: 0.0, 29114: 0.0, 29498: 0.0, 30010: 0.0, 31034: 0.0, 61754: 0.0}\n",
      "61805 {29039: 0.0, 29053: 0.0, 29165: 0.0, 29549: 0.0, 30061: 0.0, 31085: 0.0, 61805: 0.0}\n",
      "62569 {29803: 0.0, 29805: 0.0, 29817: 0.0, 29929: 0.0, 30057: 0.0, 30313: 0.0, 31849: 0.0, 62569: 0.0}\n",
      "62575 {29823: 0.0, 29935: 0.0, 30063: 0.0, 30319: 0.0, 31855: 0.0, 62575: 0.0}\n",
      "62701 {29935: 0.0, 29949: 0.0, 30189: 0.0, 30445: 0.0, 31981: 0.0, 62701: 0.0}\n",
      "62826 {30059: 0.0, 30062: 0.0, 30074: 0.0, 30186: 0.0, 30570: 0.0, 32106: 0.0, 62826: 0.0}\n"
     ]
    },
    {
     "name": "stdout",
     "output_type": "stream",
     "text": [
      "65008 {32241: -356.93011951446533, 32242: -525.7760353088379, 32244: -503.3632822036743, 32248: -587.1264810562134, 32752: -189.08837127685547, 65008: -244.04034519195557}\n",
      "49396 {33013: 0.0, 33014: 0.0, 33020: 0.0, 33268: 0.0, 33524: 0.0, 34036: 0.0, 35060: 0.0, 37108: 0.0, 41204: 0.0, 49396: 0.0}\n",
      "50922 {34539: 0.0, 34542: 0.0, 34554: 0.0, 34794: 0.0, 36586: 0.0, 38634: 0.0, 42730: 0.0, 50922: 0.0}\n",
      "51297 {34915: 0.0, 34917: 0.0, 34921: 0.0, 34929: 0.0, 35041: 0.0, 35169: 0.0, 35425: 0.0, 35937: 0.0, 39009: 0.0, 43105: 0.0, 51297: 0.0}\n",
      "51308 {34925: 0.0, 34926: 0.0, 34940: 0.0, 35052: 0.0, 35180: 0.0, 35436: 0.0, 35948: 0.0, 39020: 0.0, 43116: 0.0, 51308: 0.0}\n",
      "51309 {34927: 0.0, 34941: 0.0, 35053: 0.0, 35181: 0.0, 35437: 0.0, 35949: 0.0, 39021: 0.0, 43117: 0.0, 51309: 0.0}\n",
      "51438 {35055: 0.0, 35070: 0.0, 35310: 0.0, 35566: 0.0, 36078: 0.0, 39150: 0.0, 43246: 0.0, 51438: 0.0}\n",
      "51511 {35135: 0.0, 35191: 0.0, 35255: 0.0, 35639: 0.0, 36151: 0.0, 39223: 0.0, 43319: 0.0, 51511: 0.0}\n",
      "51519 {35199: 0.0, 35263: 0.0, 35647: 0.0, 36159: 0.0, 39231: 0.0, 43327: 0.0, 51519: 0.0}\n",
      "51810 {35427: 0.0, 35430: 0.0, 35434: 0.0, 35442: 0.0, 35554: 0.0, 35682: 0.0, 36450: 0.0, 39522: 0.0, 43618: 0.0, 51810: 0.0}\n",
      "52154 {35771: 0.0, 35774: 0.0, 35834: 0.0, 36794: 0.0, 39866: 0.0, 43962: 0.0, 52154: 0.0}\n",
      "52320 {35937: 0.0, 35938: 0.0, 35940: 0.0, 35944: 0.0, 35952: 0.0, 36064: 0.0, 36192: 0.0, 36448: 0.0, 40032: 0.0, 44128: 0.0, 52320: 0.0}\n",
      "52325 {35943: 0.0, 35949: 0.0, 35957: 0.0, 36069: 0.0, 36197: 0.0, 36453: 0.0, 40037: 0.0, 44133: 0.0, 52325: 0.0}\n",
      "52344 {35961: 0.0, 35962: 0.0, 35964: 0.0, 36088: 0.0, 36216: 0.0, 36472: 0.0, 40056: 0.0, 44152: 0.0, 52344: 0.0}\n",
      "52348 {35965: 0.0, 35966: 0.0, 36092: 0.0, 36220: 0.0, 36476: 0.0, 40060: 0.0, 44156: 0.0, 52348: 0.0}\n",
      "52543 {36223: 0.0, 36287: 0.0, 36671: 0.0, 40255: 0.0, 44351: 0.0, 52543: 0.0}\n",
      "54258 {37875: 0.0, 37878: 0.0, 37882: 0.0, 38898: 0.0, 39922: 0.0, 46066: 0.0, 54258: 0.0}\n",
      "59434 {43051: 0.0, 43054: 0.0, 43066: 0.0, 43114: 0.0, 43178: 0.0, 43306: 0.0, 43562: 0.0, 44074: 0.0, 47146: 0.0, 59434: 0.0}\n",
      "59757 {43375: 0.0, 43389: 0.0, 43501: 0.0, 43885: 0.0, 44397: 0.0, 47469: 0.0, 59757: 0.0}\n",
      "60458 {44075: 0.0, 44078: 0.0, 44090: 0.0, 44138: 0.0, 44202: 0.0, 44330: 0.0, 44586: 0.0, 48170: 0.0, 60458: 0.0}\n",
      "60585 {44203: 0.0, 44205: 0.0, 44217: 0.0, 44265: 0.0, 44457: 0.0, 44713: 0.0, 48297: 0.0, 60585: 0.0}\n",
      "60973 {44591: 0.0, 44605: 0.0, 44653: 0.0, 44717: 0.0, 44845: 0.0, 48685: 0.0, 60973: 0.0}\n",
      "61543 {45167: 0.0, 45175: 0.0, 45287: 0.0, 45415: 0.0, 45671: 0.0, 46183: 0.0, 47207: 0.0, 61543: 0.0}\n",
      "61551 {45183: 0.0, 45295: 0.0, 45423: 0.0, 45679: 0.0, 46191: 0.0, 47215: 0.0, 61551: 0.0}\n",
      "61664 {45281: 0.0, 45282: 0.0, 45284: 0.0, 45288: 0.0, 45296: 0.0, 45536: 0.0, 45792: 0.0, 46304: 0.0, 47328: 0.0, 61664: 0.0}\n",
      "61730 {45347: 0.0, 45350: 0.0, 45354: 0.0, 45362: 0.0, 45410: 0.0, 45474: 0.0, 45858: 0.0, 46370: 0.0, 47394: 0.0, 61730: 0.0}\n",
      "61794 {45411: 0.0, 45414: 0.0, 45418: 0.0, 45426: 0.0, 45538: 0.0, 45922: 0.0, 46434: 0.0, 47458: 0.0, 61794: 0.0}\n",
      "61951 {46079: 0.0, 46591: 0.0, 47615: 0.0, 61951: 0.0}\n",
      "62764 {46381: 0.0, 46382: 0.0, 46396: 0.0, 46444: 0.0, 46508: 0.0, 46892: 0.0, 48428: 0.0, 62764: 0.0}\n",
      "62820 {46437: 0.0, 46438: 0.0, 46444: 0.0, 46452: 0.0, 46564: 0.0, 46948: 0.0, 48484: 0.0, 62820: 0.0}\n",
      "65019 {48639: -608.2521085739136, 49147: -343.16902256011963, 65019: -263.715931892395}\n",
      "57588 {49397: 0.0, 49398: 0.0, 49404: 0.0, 49652: 0.0, 49908: 0.0, 50420: 0.0, 51444: 0.0, 53492: 0.0, 57588: 0.0}\n",
      "58098 {49907: 0.0, 49910: 0.0, 49914: 0.0, 50162: 0.0, 50930: 0.0, 51954: 0.0, 54002: 0.0, 58098: 0.0}\n",
      "58531 {50343: 0.0, 50347: 0.0, 50355: 0.0, 50403: 0.0, 50595: 0.0, 50851: 0.0, 52387: 0.0, 54435: 0.0, 58531: 0.0}\n",
      "58535 {50351: 0.0, 50359: 0.0, 50407: 0.0, 50599: 0.0, 50855: 0.0, 52391: 0.0, 54439: 0.0, 58535: 0.0}\n",
      "58551 {50367: 0.0, 50423: 0.0, 50615: 0.0, 50871: 0.0, 52407: 0.0, 54455: 0.0, 58551: 0.0}\n",
      "58622 {50431: 0.0, 50686: 0.0, 50942: 0.0, 52478: 0.0, 54526: 0.0, 58622: 0.0}\n",
      "58682 {50491: 0.0, 50494: 0.0, 50554: 0.0, 50618: 0.0, 51002: 0.0, 52538: 0.0, 54586: 0.0, 58682: 0.0}\n",
      "58939 {50751: 0.0, 50811: 0.0, 50875: 0.0, 51003: 0.0, 52795: 0.0, 54843: 0.0, 58939: 0.0}\n",
      "58977 {50787: 0.0, 50789: 0.0, 50793: 0.0, 50801: 0.0, 50913: 0.0, 51041: 0.0, 52833: 0.0, 54881: 0.0, 58977: 0.0}\n",
      "60475 {52287: 0.0, 52347: 0.0, 52411: 0.0, 52539: 0.0, 52795: 0.0, 56379: 0.0, 60475: 0.0}\n",
      "60520 {52329: 0.0, 52330: 0.0, 52332: 0.0, 52344: 0.0, 52456: 0.0, 52584: 0.0, 52840: 0.0, 56424: 0.0, 60520: 0.0}\n",
      "60705 {52515: 0.0, 52517: 0.0, 52521: 0.0, 52529: 0.0, 52577: 0.0, 52641: 0.0, 53025: 0.0, 56609: 0.0, 60705: 0.0}\n",
      "60721 {52531: 0.0, 52533: 0.0, 52537: 0.0, 52593: 0.0, 52657: 0.0, 53041: 0.0, 56625: 0.0, 60721: 0.0}\n",
      "61099 {52911: 0.0, 52923: 0.0, 52971: 0.0, 53163: 0.0, 57003: 0.0, 61099: 0.0}\n",
      "62185 {53995: 0.0, 53997: 0.0, 54009: 0.0, 54249: 0.0, 55017: 0.0, 56041: 0.0, 62185: 0.0}\n",
      "62397 {54207: 0.0, 54269: 0.0, 55229: 0.0, 56253: 0.0, 62397: 0.0}\n",
      "62715 {54527: 0.0, 54779: 0.0, 55035: 0.0, 56571: 0.0, 62715: 0.0}\n",
      "62825 {54635: 0.0, 54637: 0.0, 54649: 0.0, 54761: 0.0, 55145: 0.0, 56681: 0.0, 62825: 0.0}\n",
      "62844 {54653: 0.0, 54654: 0.0, 54780: 0.0, 55164: 0.0, 56700: 0.0, 62844: 0.0}\n",
      "62945 {54755: 0.0, 54757: 0.0, 54761: 0.0, 54769: 0.0, 55265: 0.0, 56801: 0.0, 62945: 0.0}\n",
      "63201 {55011: 0.0, 55013: 0.0, 55017: 0.0, 55025: 0.0, 55265: 0.0, 57057: 0.0, 63201: 0.0}\n",
      "63225 {55035: 0.0, 55037: 0.0, 55289: 0.0, 57081: 0.0, 63225: 0.0}\n",
      "64327 {56143: 0.0, 56151: 0.0, 56167: 0.0, 56263: 0.0, 57159: 0.0, 64327: 0.0}\n",
      "65535 {65535: -302.72793674468994}\n",
      "62939 {58847: 0.0, 58875: 0.0, 59355: 0.0, 60891: 0.0, 62939: 0.0}\n",
      "63475 {59383: -116.60538482666016, 59387: -192.58104515075684, 61427: -227.71166610717773, 63475: -389.0644340515137}\n",
      "63525 {59431: 0.0, 59437: 0.0, 59445: 0.0, 59493: 0.0, 59557: 0.0, 59685: 0.0, 59941: 0.0, 60453: 0.0, 63525: 0.0}\n",
      "63530 {59435: 0.0, 59438: 0.0, 59450: 0.0, 59498: 0.0, 59562: 0.0, 59690: 0.0, 59946: 0.0, 60458: 0.0, 63530: 0.0}\n",
      "63533 {59439: 0.0, 59453: 0.0, 59501: 0.0, 59565: 0.0, 59693: 0.0, 59949: 0.0, 60461: 0.0, 63533: 0.0}\n",
      "64546 {60451: 0.0, 60454: 0.0, 60458: 0.0, 60466: 0.0, 60514: 0.0, 60578: 0.0, 60706: 0.0, 60962: 0.0, 64546: 0.0}\n",
      "63537 {61491: 0.0, 61493: 0.0, 61497: 0.0, 61553: 0.0, 61617: 0.0, 61745: 0.0, 62001: 0.0, 62513: 0.0, 63537: 0.0}\n",
      "63547 {61503: 0.0, 61563: 0.0, 61627: 0.0, 61755: 0.0, 62011: 0.0, 62523: 0.0, 63547: 0.0}\n",
      "63584 {61537: 0.0, 61538: 0.0, 61540: 0.0, 61544: 0.0, 61552: 0.0, 61664: 0.0, 61792: 0.0, 62048: 0.0, 62560: 0.0, 63584: 0.0}\n",
      "63585 {61539: 0.0, 61541: 0.0, 61545: 0.0, 61553: 0.0, 61665: 0.0, 61793: 0.0, 62049: 0.0, 62561: 0.0, 63585: 0.0}\n",
      "63588 {61541: 0.0, 61542: 0.0, 61548: 0.0, 61556: 0.0, 61668: 0.0, 61796: 0.0, 62052: 0.0, 62564: 0.0, 63588: 0.0}\n",
      "63596 {61549: 0.0, 61550: 0.0, 61564: 0.0, 61676: 0.0, 61804: 0.0, 62060: 0.0, 62572: 0.0, 63596: 0.0}\n",
      "63597 {61551: 0.0, 61565: 0.0, 61677: 0.0, 61805: 0.0, 62061: 0.0, 62573: 0.0, 63597: 0.0}\n",
      "64056 {62009: 0.0, 62010: 0.0, 62012: 0.0, 62072: 0.0, 62136: 0.0, 62264: 0.0, 63032: 0.0, 64056: 0.0}\n",
      "64557 {62511: 0.0, 62525: 0.0, 62573: 0.0, 62637: 0.0, 62765: 0.0, 63021: 0.0, 64557: 0.0}\n",
      "64560 {62513: 0.0, 62514: 0.0, 62516: 0.0, 62520: 0.0, 62576: 0.0, 62640: 0.0, 62768: 0.0, 63024: 0.0, 64560: 0.0}\n",
      "64562 {62515: 0.0, 62518: 0.0, 62522: 0.0, 62578: 0.0, 62642: 0.0, 62770: 0.0, 63026: 0.0, 64562: 0.0}\n",
      "64616 {62569: 0.0, 62570: 0.0, 62572: 0.0, 62584: 0.0, 62696: 0.0, 62824: 0.0, 63080: 0.0, 64616: 0.0}\n",
      "64620 {62573: 0.0, 62574: 0.0, 62588: 0.0, 62700: 0.0, 62828: 0.0, 63084: 0.0, 64620: 0.0}\n",
      "64621 {62575: 0.0, 62589: 0.0, 62701: 0.0, 62829: 0.0, 63085: 0.0, 64621: 0.0}\n",
      "64687 {62655: 0.0, 62703: 0.0, 62895: 0.0, 63151: 0.0, 64687: 0.0}\n",
      "64689 {62643: 0.0, 62645: 0.0, 62649: 0.0, 62705: 0.0, 62897: 0.0, 63153: 0.0, 64689: 0.0}\n",
      "64808 {62761: 0.0, 62762: 0.0, 62764: 0.0, 62776: 0.0, 62824: 0.0, 62888: 0.0, 63272: 0.0, 64808: 0.0}\n",
      "65456 {65329: -161.6652603149414, 65330: -549.2558355331421, 65332: -280.8001184463501, 65336: -487.1260643005371, 65392: -421.70273780822754, 65456: -236.4471616744995}\n"
     ]
    }
   ],
   "source": [
    "import pickle\n",
    "# Calculate normalized transition matrices \n",
    "pmut_unnormed = {}\n",
    "pmut_normed = {}\n",
    "for ag in antigens+['mixed']:\n",
    "    pmut_unnormed[ag] = dok_matrix((2**L, 2**L), dtype=np.float64)\n",
    "    fitnesses = df[f\"{ag}_log10Kd\"].values.astype('float32')\n",
    "    \n",
    "    for s in tqdm(sequences_int):\n",
    "        for t in reachable(s, L):\n",
    "            if is_intermediate and t != INTERMEDIATE and nb_mutation(t) == nb_mutation(INTERMEDIATE):\n",
    "                pmut_unnormed[ag][s, t] = 0\n",
    "            else:\n",
    "                if model == 'strong':\n",
    "                    pmut_unnormed[ag][s, t] = fixation_probability_binary(s,fitnesses[s],fitnesses[t])\n",
    "                else:  \n",
    "                    pmut_unnormed[ag][s, t] = fixation_probability_moderate(fitnesses[s],fitnesses[t],N,gamma)\n",
    "\n",
    "\n",
    "    pmut_normed[ag] = pmut_unnormed[ag].copy()\n",
    "    spmut = pmut_unnormed[ag].sum(axis=1)\n",
    "    for s in tqdm(sequences_int):\n",
    "        # if we are at a local maximum, and N/γ are large enough, the fixation probability\n",
    "        # can be too low to be measured by the fixation_probability_moderate function for all\n",
    "        # the reachable sites.\n",
    "        # this is a problem because of the normalisation\n",
    "        # the solution is to compute it explicitely in these specific case\n",
    "        if spmut[s] == 0 and s != 2**L - 1:\n",
    "            lps = {}\n",
    "            \n",
    "            for t in reachable(s, L):\n",
    "                lps[t] = log_fixation_probability_moderate(fitnesses[s],fitnesses[t],N,gamma)\n",
    "            mp = max(lps.values()) # remove the max to get into reasonnable value before exponentiation\n",
    "            for t in lps:\n",
    "                if (lps[t] - mp) < -100:\n",
    "                    pmut_normed[ag][s, t] = 0\n",
    "                else:\n",
    "                    pmut_normed[ag][s, t] = np.exp(lps[t] - mp)\n",
    "\n",
    "    ### normalize the sparse matrix\n",
    "    pmut_normed[ag].tocsr()\n",
    "    pmut_normed[ag] = normalize(pmut_normed[ag], norm='l1', axis=1)\n",
    "    ### change format for something that can deal with multiplications\n",
    "    pmut_unnormed[ag].tocsr()\n",
    "\n",
    "with open(f\"pmut_normed.pkl\", 'wb') as f:\n",
    "    pickle.dump(pmut_normed, f)\n",
    "with open(f\"pmut_unnormed.pkl\", 'wb') as f:\n",
    "    pickle.dump(pmut_unnormed, f)"
   ]
  },
  {
   "cell_type": "code",
   "execution_count": 10,
   "metadata": {},
   "outputs": [
    {
     "name": "stdout",
     "output_type": "stream",
     "text": [
      "447\n",
      "('SI06', 'SI06', 'MA90', 'MA90', 'SI06', 'SI06', 'SI06', 'MA90', 'SI06', 'SI06', 'MA90', 'MA90', 'SI06', 'MA90', 'SI06', 'SI06') -16.82519232682232\n"
     ]
    },
    {
     "data": {
      "image/png": "[encoded data removed]",
      "text/plain": [
       "<Figure size 600x400 with 1 Axes>"
      ]
     },
     "metadata": {
      "needs_background": "light"
     },
     "output_type": "display_data"
    },
    {
     "name": "stdout",
     "output_type": "stream",
     "text": [
      "-17.179752021831987\n",
      "Optimal: ('MA90', 'MA90', 'MA90', 'MA90', 'SI06', 'SI06', 'SI06', 'SI06', 'SI06', 'SI06', 'SI06', 'SI06', 'SI06', 'SI06', 'SI06', 'SI06')\n"
     ]
    }
   ],
   "source": [
    "#find the best and median random contexts\n",
    "random_means = np.mean(proba_random_from_file,axis=1)\n",
    "random_means_sorted = sorted(range(len(random_means)),key = lambda x: random_means[x])\n",
    "median_random_index = random_means_sorted[int(len(random_means)/2)+2] \n",
    "print(median_random_index) #np.log(proba_random[median_random_index]))\n",
    "median_random = contexts_random_from_file[median_random_index]\n",
    "print(median_random,np.log(random_means[median_random_index]))\n",
    "\n",
    "plt.hist(np.log(np.mean(proba_random_from_file,axis=1)))\n",
    "plt.show()\n",
    "print(np.mean(np.log(proba_random_from_file)))\n",
    "\n",
    "# sort other scenarios by likelihood\n",
    "scenarios_sorted = [k for k, v in sorted(proba_from_file.items(), key=lambda item: -np.log(np.mean([a for a in item[1] if a > 1e-80]))) if not all([l == k[0] for l in k])]\n",
    "\n",
    "if antibody == 'CH65':\n",
    "    top_set = scenarios_sorted[:18]\n",
    "    print('Optimal:',top_set[0])  "
   ]
  },
  {
   "cell_type": "code",
   "execution_count": 4,
   "metadata": {},
   "outputs": [],
   "source": [
    "if antibody == \"CH65\":\n",
    "    antigen_contexts = { \"optimal\": [\"MA90\"]*4 + [\"SI06\"]*12,\n",
    "                            \"MA90alone\": [\"MA90\"]*16,  \n",
    "                         \"SI06alone\": [\"SI06\"]*16,\n",
    "                         \"mixed\": [\"mixed\"]*16,\n",
    "                        \"random_median\": median_random\n",
    "                       }"
   ]
  },
  {
   "cell_type": "markdown",
   "metadata": {},
   "source": [
    "## Compute mutation order"
   ]
  },
  {
   "cell_type": "code",
   "execution_count": 39,
   "metadata": {},
   "outputs": [],
   "source": [
    "import pickle\n",
    "with open(f\"pmut_normed.pkl\", 'rb') as f:\n",
    "    pmut_normed = pickle.load(f)"
   ]
  },
  {
   "cell_type": "code",
   "execution_count": 40,
   "metadata": {},
   "outputs": [
    {
     "data": {
      "application/vnd.jupyter.widget-view+json": {
       "model_id": "d5c209407aa04b658fbeddb428ae0d6a",
       "version_major": 2,
       "version_minor": 0
      },
      "text/plain": [
       "  0%|          | 0/1 [00:00<?, ?it/s]"
      ]
     },
     "metadata": {},
     "output_type": "display_data"
    }
   ],
   "source": [
    "\n",
    "for ac in tqdm(antigen_contexts):\n",
    "    ## precompute the transition probability matrix to every power\n",
    "    ## pmut_power[s, e] is the product of all normed matrix between s and e (excluded)\n",
    "    pmut_power = {}\n",
    "    for s in range(L+1):\n",
    "        for e in range(s, L+1):\n",
    "            pmut_power[s, e] = pmut_normed[antigen_contexts[ac][0]]**0 #identity matrix\n",
    "            for j in range(s, e):\n",
    "                pmut_power[s, e] = pmut_power[s, e]@pmut_normed[antigen_contexts[ac][j]]\n",
    "                \n",
    "    ## compute the matrix that force the mutation to be mut\n",
    "    force_mut = {}\n",
    "    for mut in range(L):\n",
    "        for i in range(L):\n",
    "            force_mut[(i,mut)] = dok_matrix((2**L, 2**L), dtype=np.float64)\n",
    "        \n",
    "        for s in sequences_int[:-1]:\n",
    "            nb_mut = nb_mutation(s)\n",
    "            t = mutation(s, mut, L)\n",
    "            force_mut[(nb_mut,mut)][s, t] = pmut_normed[antigen_contexts[ac][nb_mut]][s, t]\n",
    "        \n",
    "    ## compute probabilities\n",
    "    proba = np.zeros((L, L))\n",
    "    for mut in range(L):\n",
    "        for t in range(L):\n",
    "            proba[mut, t] = (pmut_power[0, t] @ force_mut[(t,mut)] @ pmut_power[t+1, L])[0, 2**L - 1]\n",
    "\n",
    "    ## print results to file\n",
    "    if antibody == 'CH65':\n",
    "        proba_df = pd.DataFrame(proba,columns=\n",
    "                        [\"Order 1\",\"Order 2\",\"Order 3\",\"Order 4\",\"Order 5\",\"Order 6\",\n",
    "                         \"Order 7\",\"Order 8\",\"Order 9\",\"Order 10\",\"Order 11\",\"Order 12\",\n",
    "                        \"Order 13\",\"Order 14\",\"Order 15\",\"Order 16\"])\n",
    "        proba_df['Mutation'] = [\"Mut 1\",\"Mut 2\",\"Mut 3\",\"Mut 4\",\"Mut 5\",\"Mut 6\",\n",
    "                       \"Mut 7\",\"Mut 8\",\"Mut 9\",\"Mut 10\",\"Mut 11\",\n",
    "                       \"Mut 12\",\"Mut 13\",\"Mut 14\",\"Mut 15\",\"Mut 16\"] \n",
    "        proba_df.to_csv(f\"CH65_probability_\"+str(ac)+\"_\"+model+\".csv\",index=False)"
   ]
  },
  {
   "cell_type": "markdown",
   "metadata": {},
   "source": [
    "## Output best paths"
   ]
  },
  {
   "cell_type": "code",
   "execution_count": 13,
   "metadata": {},
   "outputs": [
    {
     "data": {
      "application/vnd.jupyter.widget-view+json": {
       "model_id": "2d0bdb0340df4f5f93ac099288a4cf26",
       "version_major": 2,
       "version_minor": 0
      },
      "text/plain": [
       "HBox(children=(IntProgress(value=0, max=5), HTML(value='')))"
      ]
     },
     "metadata": {},
     "output_type": "display_data"
    },
    {
     "name": "stdout",
     "output_type": "stream",
     "text": [
      "\n"
     ]
    }
   ],
   "source": [
    "# make directed weighted graph\n",
    "\n",
    "# store fitnesses as dict\n",
    "fitnesses = {}\n",
    "for a in antigens+['mixed']:\n",
    "    fitnesses[a] = (df.set_index(\"variant_int\")[f\"{a}_log10Kd\"]).to_dict()\n",
    "\n",
    "df[\"nb_mutation\"] = df.variant_int.apply(nb_mutation)\n",
    "\n",
    "# choose number of best paths to store\n",
    "num_best_paths = 25\n",
    "best_paths = {}\n",
    "\n",
    "for ac in tqdm(antigen_contexts):\n",
    "    # (re) create the graph with networkx (as a directed graph)\n",
    "    G = nx.DiGraph()\n",
    "    G.add_nodes_from(sequences_int)\n",
    "    G.add_weighted_edges_from([(s, t,  ## source, target\n",
    "                                -np.log(1e-100 + pmut_normed[antigen_contexts[ac][nb_mutation(s)]][s, t])  # weight\n",
    "                               ) \n",
    "                      for s in sequences_int\n",
    "                      for t in reachable(s, L)])\n",
    "    \n",
    "    if is_intermediate:\n",
    "        for s in sequences_int:\n",
    "            if s != INTERMEDIATE and nb_mutation(s) == nb_mut_int:\n",
    "               G.remove_node(n)\n",
    "    \n",
    "    # compute the k shortest paths, for which ∑ -log(p) is smallest => max likelihood\n",
    "    best_paths[ac] = np.empty((num_best_paths,L+1),dtype=int)\n",
    "    i = 0\n",
    "    for path in k_shortest_paths(G, 0, 2**L-1,num_best_paths,weight='weight'):\n",
    "        best_paths[ac][i] = path\n",
    "        i += 1\n",
    "        \n",
    "with open(f\"best_paths.pkl\", 'wb') as f:\n",
    "    pickle.dump(best_paths, f)"
   ]
  },
  {
   "cell_type": "markdown",
   "metadata": {},
   "source": [
    "## Compute uphill paths"
   ]
  },
  {
   "cell_type": "code",
   "execution_count": 14,
   "metadata": {},
   "outputs": [
    {
     "data": {
      "application/vnd.jupyter.widget-view+json": {
       "model_id": "976474dd4cf746c89a7737985b2ed832",
       "version_major": 2,
       "version_minor": 0
      },
      "text/plain": [
       "HBox(children=(IntProgress(value=0, max=10), HTML(value='')))"
      ]
     },
     "metadata": {},
     "output_type": "display_data"
    },
    {
     "name": "stdout",
     "output_type": "stream",
     "text": [
      "\n"
     ]
    },
    {
     "data": {
      "application/vnd.jupyter.widget-view+json": {
       "model_id": "61ad5904efdb406589359759596e09fe",
       "version_major": 2,
       "version_minor": 0
      },
      "text/plain": [
       "HBox(children=(IntProgress(value=0, max=10), HTML(value='')))"
      ]
     },
     "metadata": {},
     "output_type": "display_data"
    },
    {
     "name": "stdout",
     "output_type": "stream",
     "text": [
      "\n"
     ]
    },
    {
     "data": {
      "application/vnd.jupyter.widget-view+json": {
       "model_id": "d4fedcabcbab4176aa1280de51435cfb",
       "version_major": 2,
       "version_minor": 0
      },
      "text/plain": [
       "HBox(children=(IntProgress(value=0, max=10), HTML(value='')))"
      ]
     },
     "metadata": {},
     "output_type": "display_data"
    },
    {
     "name": "stdout",
     "output_type": "stream",
     "text": [
      "\n"
     ]
    },
    {
     "data": {
      "application/vnd.jupyter.widget-view+json": {
       "model_id": "8de8cf807ddf4af885ad5f2d4084dbd3",
       "version_major": 2,
       "version_minor": 0
      },
      "text/plain": [
       "HBox(children=(IntProgress(value=0, max=10), HTML(value='')))"
      ]
     },
     "metadata": {},
     "output_type": "display_data"
    },
    {
     "name": "stdout",
     "output_type": "stream",
     "text": [
      "\n"
     ]
    },
    {
     "data": {
      "application/vnd.jupyter.widget-view+json": {
       "model_id": "07cacfbd32114579a01a6aa030bdbc3e",
       "version_major": 2,
       "version_minor": 0
      },
      "text/plain": [
       "HBox(children=(IntProgress(value=0, max=10), HTML(value='')))"
      ]
     },
     "metadata": {},
     "output_type": "display_data"
    },
    {
     "name": "stdout",
     "output_type": "stream",
     "text": [
      "\n"
     ]
    },
    {
     "data": {
      "application/vnd.jupyter.widget-view+json": {
       "model_id": "02dab802806344b9a96a1362241d7c43",
       "version_major": 2,
       "version_minor": 0
      },
      "text/plain": [
       "HBox(children=(IntProgress(value=0, max=10), HTML(value='')))"
      ]
     },
     "metadata": {},
     "output_type": "display_data"
    },
    {
     "name": "stdout",
     "output_type": "stream",
     "text": [
      "\n",
      "optimal: 1.1e+09 ± 2e+08\n",
      "MA90alone: 9.9e+08 ± 4.7e+08\n",
      "SI06alone: 0.0 ± 0.0\n",
      "mixed: 5.5e+09 ± 1.9e+09\n",
      "random_median: 0.0 ± 0.0\n"
     ]
    }
   ],
   "source": [
    "## number of only increasing path\n",
    "\n",
    "## create pmut matrix \n",
    "Nbootstrap = 10\n",
    "# Create the transition matrix between variant, depending on context\n",
    "pmut = {}\n",
    "for nb in tqdm(range(Nbootstrap)):\n",
    "    for ag in antigens + [\"mixed\"]:\n",
    "        pmut[ag, nb] = dok_matrix((2**L, 2**L), dtype=np.float64)\n",
    "        if ag != \"mixed\":\n",
    "            fitnesses = np.random.normal(\n",
    "                        (df[f\"{ag}_log10Kd\"]).values.astype('float32'),\n",
    "                        (df[f\"{ag}_stelog10Kd\"]).values.astype('float32'))\n",
    "        else:\n",
    "            fitnesses = sum([np.random.normal(\n",
    "                        (df[f\"{aa}_log10Kd\"]).values.astype('float32'),\n",
    "                        (df[f\"{aa}_stelog10Kd\"]).values.astype('float32')) for aa in antigens])/len(antigens)\n",
    "        \n",
    "        for s in sequences_int:\n",
    "            tot = 0\n",
    "            for t in reachable(s, L):\n",
    "                if is_intermediate and t != INTERMEDIATE and nb_mutation(t) == nb_mutation(INTERMEDIATE):\n",
    "                    pmut[ag, nb][s, t] = 0\n",
    "                else:\n",
    "                    pmut[ag, nb][s, t] = fixation_probability_binary(s,fitnesses[s],fitnesses[t])\n",
    "        ### change format for something that can deal with multiplications\n",
    "        pmut[ag, nb].tocsr()\n",
    "        \n",
    "path_increasing = {}\n",
    "for ac in antigen_contexts:\n",
    "    path_increasing[ac] = []\n",
    "    for nb in tqdm(range(Nbootstrap)):\n",
    "        mat = pmut[antigen_contexts[ac][0], 0]**0\n",
    "        for ag in antigen_contexts[ac]:\n",
    "            mat = mat@pmut[ag, nb]\n",
    "        path_increasing[ac] += [mat[0, 2**L-1]]\n",
    "        \n",
    "for ac in path_increasing:\n",
    "    print(f\"{ac}: {np.mean(path_increasing[ac]):.2} ± {np.std(path_increasing[ac]):.2}\")  "
   ]
  },
  {
   "cell_type": "code",
   "execution_count": null,
   "metadata": {},
   "outputs": [],
   "source": []
  }
 ],
 "metadata": {
  "kernelspec": {
   "display_name": "Python 3 (ipykernel)",
   "language": "python",
   "name": "python3"
  },
  "language_info": {
   "codemirror_mode": {
    "name": "ipython",
    "version": 3
   },
   "file_extension": ".py",
   "mimetype": "text/x-python",
   "name": "python",
   "nbconvert_exporter": "python",
   "pygments_lexer": "ipython3",
   "version": "3.8.5"
  }
 },
 "nbformat": 4,
 "nbformat_minor": 4
}
