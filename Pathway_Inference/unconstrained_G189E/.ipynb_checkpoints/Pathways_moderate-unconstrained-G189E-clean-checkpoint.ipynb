{
 "cells": [
  {
   "cell_type": "code",
   "execution_count": 1,
   "metadata": {},
   "outputs": [],
   "source": [
    "import numpy as np\n",
    "import pandas as pd\n",
    "import matplotlib.pyplot as plt\n",
    "import matplotlib as mpl\n",
    "import seaborn as sns\n",
    "from collections import defaultdict\n",
    "from scipy.sparse import dok_matrix, csr_matrix\n",
    "from sklearn.preprocessing import normalize\n",
    "import networkx as nx\n",
    "import itertools\n",
    "from itertools import islice\n",
    "from tqdm.notebook import tqdm\n",
    "from matplotlib.patches import Patch\n",
    "import scipy as sp\n",
    "import math\n",
    "import csv\n",
    "from collections import OrderedDict\n",
    "import sys\n",
    "import matplotlib.cm as cm\n",
    "import matplotlib.colors as colors\n",
    "from matplotlib.colors import LinearSegmentedColormap\n",
    "\n",
    "\n",
    "mpl.rcParams['figure.dpi'] = 100\n",
    "plt.rcParams.update({'font.size': 7,'axes.linewidth':0.5,\n",
    "                     'xtick.major.size':2,'xtick.major.width':0.5,\n",
    "                    'ytick.major.size':2,'ytick.major.width':0.5})\n",
    "plt.rcParams.update({'mathtext.default':  'regular' })\n",
    "\n",
    "\n",
    "colorMA90, colorSI06, colorG189E = \"#E8735C\", \"#72C2A6\", \"#5482A7\"\n",
    "\n",
    "\n",
    "#### antibody choice ####\n",
    "antibody = \"CH65\"\n",
    "antigens = [\"MA90\", \"SI06\", \"G189E\"]\n",
    "L = 16\n",
    "sequences_int = range(2**L)\n",
    "\n",
    "\n",
    "#### selection model choice ####\n",
    "#model = 'strong'\n",
    "model = 'moderate'\n",
    "#model = 'weak'\n",
    "################################\n",
    "\n",
    "if model == 'moderate':\n",
    "    N = 1000\n",
    "    gamma = 1.0\n",
    "elif model == 'weak':\n",
    "    N = 20\n",
    "    gamma = 0.5\n",
    "\n",
    "Nbootstrap = 10\n",
    "\n",
    "\n",
    "# define some functions\n",
    "def mutation(s, ii, L):\n",
    "    \"\"\" Return the sequence (in int format) with base s,\n",
    "        with a somatic mutation at pos ii \"\"\"\n",
    "    return s | 2**(L-1-ii)\n",
    "\n",
    "def nb_mutation(s):\n",
    "    \"\"\" Number of mutations in variant s \"\"\"\n",
    "    return bin(s).count(\"1\")\n",
    "\n",
    "def reachable(s, L):\n",
    "    return [(s | 2**ii) for ii in range(L) if (s | 2**ii) > s]\n",
    "\n",
    "def k_shortest_paths(G, source, target, k, weight=None):\n",
    "    return list(\n",
    "        islice(nx.shortest_simple_paths(G, source, target, weight=weight), k)\n",
    "    )\n",
    "def truncate_colormap(cmap, minval=0.0, maxval=1.0, n=100):\n",
    "    new_cmap = colors.LinearSegmentedColormap.from_list(\n",
    "        'trunc({n},{a:.2f},{b:.2f})'.format(n=cmap.name, a=minval, b=maxval),\n",
    "        cmap(np.linspace(minval, maxval, n)))\n",
    "    return new_cmap\n",
    "\n",
    "\n",
    "#can add a constraint to pass thru intermediate here\n",
    "is_intermediate = False\n",
    "INTERMEDIATE = int('0000001010100000', 2)\n",
    "nb_mut_int = nb_mutation(INTERMEDIATE)\n",
    "force_intermediate = dok_matrix((2**L, 2**L), dtype=np.float64)\n",
    "for mut in range(L):\n",
    "    t = mutation(INTERMEDIATE, mut, L)\n",
    "    force_intermediate[INTERMEDIATE, t] = 1\n",
    "    \n",
    "\n",
    "# define data and image folder\n",
    "data = \"\"\n",
    "img = \"\"\n",
    "##############################"
   ]
  },
  {
   "cell_type": "markdown",
   "metadata": {},
   "source": [
    "## Load data"
   ]
  },
  {
   "cell_type": "code",
   "execution_count": 2,
   "metadata": {},
   "outputs": [
    {
     "data": {
      "text/html": [
       "<div>\n",
       "<style scoped>\n",
       "    .dataframe tbody tr th:only-of-type {\n",
       "        vertical-align: middle;\n",
       "    }\n",
       "\n",
       "    .dataframe tbody tr th {\n",
       "        vertical-align: top;\n",
       "    }\n",
       "\n",
       "    .dataframe thead th {\n",
       "        text-align: right;\n",
       "    }\n",
       "</style>\n",
       "<table border=\"1\" class=\"dataframe\">\n",
       "  <thead>\n",
       "    <tr style=\"text-align: right;\">\n",
       "      <th></th>\n",
       "      <th>variant_int</th>\n",
       "      <th>geno</th>\n",
       "      <th>repa_x</th>\n",
       "      <th>repb_x</th>\n",
       "      <th>MA90_log10Kd</th>\n",
       "      <th>MA90_stelog10Kd</th>\n",
       "      <th>repa_y</th>\n",
       "      <th>repb_y</th>\n",
       "      <th>SI06_log10Kd</th>\n",
       "      <th>SI06_stelog10Kd</th>\n",
       "      <th>...</th>\n",
       "      <th>mutation_8</th>\n",
       "      <th>mutation_9</th>\n",
       "      <th>mutation_10</th>\n",
       "      <th>mutation_11</th>\n",
       "      <th>mutation_12</th>\n",
       "      <th>mutation_13</th>\n",
       "      <th>mutation_14</th>\n",
       "      <th>mutation_15</th>\n",
       "      <th>mutation_16</th>\n",
       "      <th>mixed_log10Kd</th>\n",
       "    </tr>\n",
       "  </thead>\n",
       "  <tbody>\n",
       "    <tr>\n",
       "      <th>0</th>\n",
       "      <td>0</td>\n",
       "      <td>0000000000000000</td>\n",
       "      <td>8.612721</td>\n",
       "      <td>8.472320</td>\n",
       "      <td>8.542521</td>\n",
       "      <td>0.070200</td>\n",
       "      <td>6.000000</td>\n",
       "      <td>6.000000</td>\n",
       "      <td>6.000000</td>\n",
       "      <td>0.000000</td>\n",
       "      <td>...</td>\n",
       "      <td>False</td>\n",
       "      <td>False</td>\n",
       "      <td>False</td>\n",
       "      <td>False</td>\n",
       "      <td>False</td>\n",
       "      <td>False</td>\n",
       "      <td>False</td>\n",
       "      <td>False</td>\n",
       "      <td>False</td>\n",
       "      <td>6.847507</td>\n",
       "    </tr>\n",
       "    <tr>\n",
       "      <th>1</th>\n",
       "      <td>1</td>\n",
       "      <td>0000000000000001</td>\n",
       "      <td>8.631980</td>\n",
       "      <td>8.516378</td>\n",
       "      <td>8.574179</td>\n",
       "      <td>0.057801</td>\n",
       "      <td>6.000000</td>\n",
       "      <td>6.000000</td>\n",
       "      <td>6.000000</td>\n",
       "      <td>0.000000</td>\n",
       "      <td>...</td>\n",
       "      <td>False</td>\n",
       "      <td>False</td>\n",
       "      <td>False</td>\n",
       "      <td>False</td>\n",
       "      <td>False</td>\n",
       "      <td>False</td>\n",
       "      <td>False</td>\n",
       "      <td>False</td>\n",
       "      <td>True</td>\n",
       "      <td>6.858060</td>\n",
       "    </tr>\n",
       "    <tr>\n",
       "      <th>2</th>\n",
       "      <td>2</td>\n",
       "      <td>0000000000000010</td>\n",
       "      <td>8.340245</td>\n",
       "      <td>8.290790</td>\n",
       "      <td>8.315518</td>\n",
       "      <td>0.024727</td>\n",
       "      <td>6.000000</td>\n",
       "      <td>6.000000</td>\n",
       "      <td>6.000000</td>\n",
       "      <td>0.000000</td>\n",
       "      <td>...</td>\n",
       "      <td>False</td>\n",
       "      <td>False</td>\n",
       "      <td>False</td>\n",
       "      <td>False</td>\n",
       "      <td>False</td>\n",
       "      <td>False</td>\n",
       "      <td>False</td>\n",
       "      <td>True</td>\n",
       "      <td>False</td>\n",
       "      <td>6.771839</td>\n",
       "    </tr>\n",
       "    <tr>\n",
       "      <th>3</th>\n",
       "      <td>3</td>\n",
       "      <td>0000000000000011</td>\n",
       "      <td>8.511183</td>\n",
       "      <td>8.436571</td>\n",
       "      <td>8.473877</td>\n",
       "      <td>0.037306</td>\n",
       "      <td>6.000000</td>\n",
       "      <td>6.000000</td>\n",
       "      <td>6.000000</td>\n",
       "      <td>0.000000</td>\n",
       "      <td>...</td>\n",
       "      <td>False</td>\n",
       "      <td>False</td>\n",
       "      <td>False</td>\n",
       "      <td>False</td>\n",
       "      <td>False</td>\n",
       "      <td>False</td>\n",
       "      <td>False</td>\n",
       "      <td>True</td>\n",
       "      <td>True</td>\n",
       "      <td>6.824626</td>\n",
       "    </tr>\n",
       "    <tr>\n",
       "      <th>4</th>\n",
       "      <td>4</td>\n",
       "      <td>0000000000000100</td>\n",
       "      <td>8.552056</td>\n",
       "      <td>8.523392</td>\n",
       "      <td>8.537724</td>\n",
       "      <td>0.014332</td>\n",
       "      <td>6.000000</td>\n",
       "      <td>6.000000</td>\n",
       "      <td>6.000000</td>\n",
       "      <td>0.000000</td>\n",
       "      <td>...</td>\n",
       "      <td>False</td>\n",
       "      <td>False</td>\n",
       "      <td>False</td>\n",
       "      <td>False</td>\n",
       "      <td>False</td>\n",
       "      <td>False</td>\n",
       "      <td>True</td>\n",
       "      <td>False</td>\n",
       "      <td>False</td>\n",
       "      <td>6.845908</td>\n",
       "    </tr>\n",
       "    <tr>\n",
       "      <th>...</th>\n",
       "      <td>...</td>\n",
       "      <td>...</td>\n",
       "      <td>...</td>\n",
       "      <td>...</td>\n",
       "      <td>...</td>\n",
       "      <td>...</td>\n",
       "      <td>...</td>\n",
       "      <td>...</td>\n",
       "      <td>...</td>\n",
       "      <td>...</td>\n",
       "      <td>...</td>\n",
       "      <td>...</td>\n",
       "      <td>...</td>\n",
       "      <td>...</td>\n",
       "      <td>...</td>\n",
       "      <td>...</td>\n",
       "      <td>...</td>\n",
       "      <td>...</td>\n",
       "      <td>...</td>\n",
       "      <td>...</td>\n",
       "      <td>...</td>\n",
       "    </tr>\n",
       "    <tr>\n",
       "      <th>65531</th>\n",
       "      <td>65531</td>\n",
       "      <td>1111111111111011</td>\n",
       "      <td>10.103725</td>\n",
       "      <td>10.109438</td>\n",
       "      <td>10.106582</td>\n",
       "      <td>0.002856</td>\n",
       "      <td>9.173063</td>\n",
       "      <td>9.109244</td>\n",
       "      <td>9.141153</td>\n",
       "      <td>0.031909</td>\n",
       "      <td>...</td>\n",
       "      <td>True</td>\n",
       "      <td>True</td>\n",
       "      <td>True</td>\n",
       "      <td>True</td>\n",
       "      <td>True</td>\n",
       "      <td>True</td>\n",
       "      <td>False</td>\n",
       "      <td>True</td>\n",
       "      <td>True</td>\n",
       "      <td>9.631254</td>\n",
       "    </tr>\n",
       "    <tr>\n",
       "      <th>65532</th>\n",
       "      <td>65532</td>\n",
       "      <td>1111111111111100</td>\n",
       "      <td>10.092798</td>\n",
       "      <td>10.039002</td>\n",
       "      <td>10.065900</td>\n",
       "      <td>0.026898</td>\n",
       "      <td>8.775637</td>\n",
       "      <td>8.804350</td>\n",
       "      <td>8.789993</td>\n",
       "      <td>0.014357</td>\n",
       "      <td>...</td>\n",
       "      <td>True</td>\n",
       "      <td>True</td>\n",
       "      <td>True</td>\n",
       "      <td>True</td>\n",
       "      <td>True</td>\n",
       "      <td>True</td>\n",
       "      <td>True</td>\n",
       "      <td>False</td>\n",
       "      <td>False</td>\n",
       "      <td>9.452189</td>\n",
       "    </tr>\n",
       "    <tr>\n",
       "      <th>65533</th>\n",
       "      <td>65533</td>\n",
       "      <td>1111111111111101</td>\n",
       "      <td>10.114984</td>\n",
       "      <td>10.152478</td>\n",
       "      <td>10.133731</td>\n",
       "      <td>0.018747</td>\n",
       "      <td>8.985615</td>\n",
       "      <td>9.035222</td>\n",
       "      <td>9.010419</td>\n",
       "      <td>0.024804</td>\n",
       "      <td>...</td>\n",
       "      <td>True</td>\n",
       "      <td>True</td>\n",
       "      <td>True</td>\n",
       "      <td>True</td>\n",
       "      <td>True</td>\n",
       "      <td>True</td>\n",
       "      <td>True</td>\n",
       "      <td>False</td>\n",
       "      <td>True</td>\n",
       "      <td>9.557434</td>\n",
       "    </tr>\n",
       "    <tr>\n",
       "      <th>65534</th>\n",
       "      <td>65534</td>\n",
       "      <td>1111111111111110</td>\n",
       "      <td>9.969711</td>\n",
       "      <td>9.965975</td>\n",
       "      <td>9.967843</td>\n",
       "      <td>0.001868</td>\n",
       "      <td>8.578370</td>\n",
       "      <td>8.672535</td>\n",
       "      <td>8.625453</td>\n",
       "      <td>0.047082</td>\n",
       "      <td>...</td>\n",
       "      <td>True</td>\n",
       "      <td>True</td>\n",
       "      <td>True</td>\n",
       "      <td>True</td>\n",
       "      <td>True</td>\n",
       "      <td>True</td>\n",
       "      <td>True</td>\n",
       "      <td>True</td>\n",
       "      <td>False</td>\n",
       "      <td>9.353483</td>\n",
       "    </tr>\n",
       "    <tr>\n",
       "      <th>65535</th>\n",
       "      <td>65535</td>\n",
       "      <td>1111111111111111</td>\n",
       "      <td>10.125899</td>\n",
       "      <td>10.084762</td>\n",
       "      <td>10.105330</td>\n",
       "      <td>0.020568</td>\n",
       "      <td>9.165924</td>\n",
       "      <td>9.150132</td>\n",
       "      <td>9.158028</td>\n",
       "      <td>0.007896</td>\n",
       "      <td>...</td>\n",
       "      <td>True</td>\n",
       "      <td>True</td>\n",
       "      <td>True</td>\n",
       "      <td>True</td>\n",
       "      <td>True</td>\n",
       "      <td>True</td>\n",
       "      <td>True</td>\n",
       "      <td>True</td>\n",
       "      <td>True</td>\n",
       "      <td>9.615510</td>\n",
       "    </tr>\n",
       "  </tbody>\n",
       "</table>\n",
       "<p>65536 rows × 48 columns</p>\n",
       "</div>"
      ],
      "text/plain": [
       "       variant_int              geno     repa_x     repb_x  MA90_log10Kd  \\\n",
       "0                0  0000000000000000   8.612721   8.472320      8.542521   \n",
       "1                1  0000000000000001   8.631980   8.516378      8.574179   \n",
       "2                2  0000000000000010   8.340245   8.290790      8.315518   \n",
       "3                3  0000000000000011   8.511183   8.436571      8.473877   \n",
       "4                4  0000000000000100   8.552056   8.523392      8.537724   \n",
       "...            ...               ...        ...        ...           ...   \n",
       "65531        65531  1111111111111011  10.103725  10.109438     10.106582   \n",
       "65532        65532  1111111111111100  10.092798  10.039002     10.065900   \n",
       "65533        65533  1111111111111101  10.114984  10.152478     10.133731   \n",
       "65534        65534  1111111111111110   9.969711   9.965975      9.967843   \n",
       "65535        65535  1111111111111111  10.125899  10.084762     10.105330   \n",
       "\n",
       "       MA90_stelog10Kd    repa_y    repb_y  SI06_log10Kd  SI06_stelog10Kd  \\\n",
       "0             0.070200  6.000000  6.000000      6.000000         0.000000   \n",
       "1             0.057801  6.000000  6.000000      6.000000         0.000000   \n",
       "2             0.024727  6.000000  6.000000      6.000000         0.000000   \n",
       "3             0.037306  6.000000  6.000000      6.000000         0.000000   \n",
       "4             0.014332  6.000000  6.000000      6.000000         0.000000   \n",
       "...                ...       ...       ...           ...              ...   \n",
       "65531         0.002856  9.173063  9.109244      9.141153         0.031909   \n",
       "65532         0.026898  8.775637  8.804350      8.789993         0.014357   \n",
       "65533         0.018747  8.985615  9.035222      9.010419         0.024804   \n",
       "65534         0.001868  8.578370  8.672535      8.625453         0.047082   \n",
       "65535         0.020568  9.165924  9.150132      9.158028         0.007896   \n",
       "\n",
       "       ...  mutation_8  mutation_9  mutation_10  mutation_11  mutation_12  \\\n",
       "0      ...       False       False        False        False        False   \n",
       "1      ...       False       False        False        False        False   \n",
       "2      ...       False       False        False        False        False   \n",
       "3      ...       False       False        False        False        False   \n",
       "4      ...       False       False        False        False        False   \n",
       "...    ...         ...         ...          ...          ...          ...   \n",
       "65531  ...        True        True         True         True         True   \n",
       "65532  ...        True        True         True         True         True   \n",
       "65533  ...        True        True         True         True         True   \n",
       "65534  ...        True        True         True         True         True   \n",
       "65535  ...        True        True         True         True         True   \n",
       "\n",
       "       mutation_13  mutation_14  mutation_15  mutation_16  mixed_log10Kd  \n",
       "0            False        False        False        False       6.847507  \n",
       "1            False        False        False         True       6.858060  \n",
       "2            False        False         True        False       6.771839  \n",
       "3            False        False         True         True       6.824626  \n",
       "4            False         True        False        False       6.845908  \n",
       "...            ...          ...          ...          ...            ...  \n",
       "65531         True        False         True         True       9.631254  \n",
       "65532         True         True        False        False       9.452189  \n",
       "65533         True         True        False         True       9.557434  \n",
       "65534         True         True         True        False       9.353483  \n",
       "65535         True         True         True         True       9.615510  \n",
       "\n",
       "[65536 rows x 48 columns]"
      ]
     },
     "execution_count": 2,
     "metadata": {},
     "output_type": "execute_result"
    }
   ],
   "source": [
    "# read dataframe\n",
    "df = pd.read_csv(f\"../../Kd_Inference/results_CH65/Kd_processed/20220603_CH65_QCfilt_REPfilt.csv\", dtype={\"geno\":\"str\"})\n",
    "df = df.rename(columns={\"MA90_mean\": \"MA90_log10Kd\", \"SI06_mean\": \"SI06_log10Kd\",\"G189E_mean\": \"G189E_log10Kd\",\n",
    "                        \"MA90_sem\": \"MA90_stelog10Kd\", \"SI06_sem\": \"SI06_stelog10Kd\", \"G189E_sem\": \"G189E_stelog10Kd\"})\n",
    "\n",
    "# convert genotypes to integers and sort accordingly    \n",
    "df[\"variant_int\"] = df.geno.apply(lambda x: int(x, 2))\n",
    "df = df.set_index(\"variant_int\").reindex(range(0, 2**L)).reset_index()\n",
    "\n",
    "for ii in range(L):\n",
    "    df[f\"mutation_{ii+1}\"] = df.geno.str[ii] == '1'\n",
    "      \n",
    "# get average Kd for mixed scenarios    \n",
    "df['mixed_log10Kd'] = df[[f\"{a}_log10Kd\" for a in antigens]].mean(axis=1)\n",
    "df"
   ]
  },
  {
   "cell_type": "markdown",
   "metadata": {},
   "source": [
    "## Define selection model"
   ]
  },
  {
   "cell_type": "code",
   "execution_count": 3,
   "metadata": {},
   "outputs": [],
   "source": [
    "def fixation_probability_moderate(fitness_s,fitness_t,Npop,gamma):\n",
    "    if np.isnan(fitness_s) or np.isnan(fitness_t):\n",
    "        pval = 0.0\n",
    "    else:\n",
    "        delta = fitness_t - fitness_s\n",
    "        if delta == 0.0:\n",
    "            pval = 1.0/Npop\n",
    "        else:\n",
    "            # avoid overflow errors\n",
    "            if gamma*delta > 100:\n",
    "                pval = 1\n",
    "            elif Npop*gamma*delta < -100:\n",
    "                pval = 0\n",
    "            elif Npop*gamma*delta > 100:\n",
    "                pval = (1 - np.exp(-gamma*delta))\n",
    "            else:\n",
    "                pval = ((1 - np.exp(-gamma*delta))/(1 - np.exp(-Npop*gamma*delta)))\n",
    "    return pval\n",
    "    \n",
    "    \n",
    "def fixation_probability_binary(s,fitness_s,fitness_t):\n",
    "    if np.isnan(fitness_s) or np.isnan(fitness_t):\n",
    "        pval = 0.0\n",
    "    elif (fitness_t-fitness_s) > 0:\n",
    "        pval = 1.0\n",
    "    else:\n",
    "        pval = 0.0\n",
    "    return pval"
   ]
  },
  {
   "cell_type": "markdown",
   "metadata": {},
   "source": [
    "## Calculate transition probabilities"
   ]
  },
  {
   "cell_type": "code",
   "execution_count": 4,
   "metadata": {},
   "outputs": [
    {
     "data": {
      "application/vnd.jupyter.widget-view+json": {
       "model_id": "17577afe2a1d4fde95f37af8dce25a78",
       "version_major": 2,
       "version_minor": 0
      },
      "text/plain": [
       "HBox(children=(IntProgress(value=0, max=10), HTML(value='')))"
      ]
     },
     "metadata": {},
     "output_type": "display_data"
    },
    {
     "name": "stdout",
     "output_type": "stream",
     "text": [
      "\n"
     ]
    }
   ],
   "source": [
    "Nbootstrap = 10\n",
    "\n",
    "# Create the transition matrix between variant, depending on context\n",
    "pmut = {}\n",
    "for nb in tqdm(range(Nbootstrap)):\n",
    "    for ag in antigens + [\"mixed\"]:\n",
    "        pmut[ag, nb] = dok_matrix((2**L, 2**L), dtype=np.float64)\n",
    "        if ag != \"mixed\":\n",
    "            fitnesses = np.random.normal(\n",
    "                        (df[f\"{ag}_log10Kd\"]).values.astype('float32'),\n",
    "                        (df[f\"{ag}_stelog10Kd\"]).values.astype('float32'))\n",
    "        else:\n",
    "            fitnesses = sum([np.random.normal(\n",
    "                        (df[f\"{aa}_log10Kd\"]).values.astype('float32'),\n",
    "                        (df[f\"{aa}_stelog10Kd\"]).values.astype('float32')) for aa in antigens])/len(antigens)\n",
    "        \n",
    "        for s in sequences_int:\n",
    "            tot = 0\n",
    "            for t in reachable(s, L):\n",
    "                if is_intermediate and t != INTERMEDIATE and nb_mutation(t) == nb_mutation(INTERMEDIATE):\n",
    "                    pmut[ag, nb][s, t] = 0\n",
    "                else:\n",
    "                    if model == 'strong':\n",
    "                        pmut[ag, nb][s, t] = fixation_probability_binary(s,fitnesses[s],fitnesses[t])\n",
    "                    else:  \n",
    "                        pmut[ag, nb][s, t] = fixation_probability_moderate(fitnesses[s],fitnesses[t],N,gamma)\n",
    "\n",
    "        ### change format for something that can deal with multiplications\n",
    "        pmut[ag, nb].tocsr()"
   ]
  },
  {
   "cell_type": "code",
   "execution_count": 7,
   "metadata": {},
   "outputs": [
    {
     "data": {
      "application/vnd.jupyter.widget-view+json": {
       "model_id": "a38a63e34b034e8cb4004c2a21a500fc",
       "version_major": 2,
       "version_minor": 0
      },
      "text/plain": [
       "HBox(children=(IntProgress(value=0, max=724), HTML(value='')))"
      ]
     },
     "metadata": {},
     "output_type": "display_data"
    },
    {
     "name": "stdout",
     "output_type": "stream",
     "text": [
      "\n"
     ]
    }
   ],
   "source": [
    "### compute for every context\n",
    "all_contexts = set()\n",
    "for order in itertools.permutations(antigens):\n",
    "    for a in itertools.combinations_with_replacement(order, L):\n",
    "        all_contexts.add(a)\n",
    "all_contexts.add(tuple([\"mixed\"]*L))\n",
    "\n",
    "proba = defaultdict(list)\n",
    "for context in tqdm(all_contexts):\n",
    "    for nb in range(Nbootstrap):\n",
    "        P = pmut[context[0], nb][0, :] # start vector\n",
    "        for c in context[1:]:\n",
    "            P = P@pmut[c, nb]\n",
    "        proba[context] += [P[0, 2**L - 1]]\n",
    "\n",
    "# write data to file\n",
    "with open(f'likelihoods_'+antibody+'_'+model+'.csv','w') as writefile:\n",
    "    proba_writer = csv.writer(writefile)\n",
    "    for key in proba.keys():\n",
    "        list_to_write = [x for x in key] + [x for x in proba[key]]\n",
    "        proba_writer.writerow(list_to_write)\n",
    "    writefile.close()\n"
   ]
  },
  {
   "cell_type": "code",
   "execution_count": 8,
   "metadata": {},
   "outputs": [
    {
     "data": {
      "application/vnd.jupyter.widget-view+json": {
       "model_id": "df51b56f51c64c3db55e8923b1575d87",
       "version_major": 2,
       "version_minor": 0
      },
      "text/plain": [
       "HBox(children=(IntProgress(value=0, max=1000), HTML(value='')))"
      ]
     },
     "metadata": {},
     "output_type": "display_data"
    },
    {
     "ename": "KeyboardInterrupt",
     "evalue": "",
     "output_type": "error",
     "traceback": [
      "\u001b[0;31m---------------------------------------------------------------------------\u001b[0m",
      "\u001b[0;31mKeyboardInterrupt\u001b[0m                         Traceback (most recent call last)",
      "\u001b[0;32m<ipython-input-8-89b637da8ac2>\u001b[0m in \u001b[0;36m<module>\u001b[0;34m\u001b[0m\n\u001b[1;32m     11\u001b[0m         \u001b[0mP\u001b[0m \u001b[0;34m=\u001b[0m \u001b[0mpmut\u001b[0m\u001b[0;34m[\u001b[0m\u001b[0mcontext\u001b[0m\u001b[0;34m[\u001b[0m\u001b[0;36m0\u001b[0m\u001b[0;34m]\u001b[0m\u001b[0;34m,\u001b[0m \u001b[0mnb\u001b[0m\u001b[0;34m]\u001b[0m\u001b[0;34m[\u001b[0m\u001b[0;36m0\u001b[0m\u001b[0;34m,\u001b[0m \u001b[0;34m:\u001b[0m\u001b[0;34m]\u001b[0m \u001b[0;31m# start vector\u001b[0m\u001b[0;34m\u001b[0m\u001b[0;34m\u001b[0m\u001b[0m\n\u001b[1;32m     12\u001b[0m         \u001b[0;32mfor\u001b[0m \u001b[0mc\u001b[0m \u001b[0;32min\u001b[0m \u001b[0mcontext\u001b[0m\u001b[0;34m[\u001b[0m\u001b[0;36m1\u001b[0m\u001b[0;34m:\u001b[0m\u001b[0;34m]\u001b[0m\u001b[0;34m:\u001b[0m\u001b[0;34m\u001b[0m\u001b[0;34m\u001b[0m\u001b[0m\n\u001b[0;32m---> 13\u001b[0;31m             \u001b[0mP\u001b[0m \u001b[0;34m=\u001b[0m \u001b[0mP\u001b[0m\u001b[0;34m@\u001b[0m\u001b[0mpmut\u001b[0m\u001b[0;34m[\u001b[0m\u001b[0mc\u001b[0m\u001b[0;34m,\u001b[0m \u001b[0mnb\u001b[0m\u001b[0;34m]\u001b[0m\u001b[0;34m\u001b[0m\u001b[0;34m\u001b[0m\u001b[0m\n\u001b[0m\u001b[1;32m     14\u001b[0m         \u001b[0mproba_random\u001b[0m\u001b[0;34m[\u001b[0m\u001b[0mi\u001b[0m\u001b[0;34m,\u001b[0m\u001b[0mnb\u001b[0m\u001b[0;34m]\u001b[0m \u001b[0;34m+=\u001b[0m \u001b[0;34m[\u001b[0m\u001b[0mP\u001b[0m\u001b[0;34m[\u001b[0m\u001b[0;36m0\u001b[0m\u001b[0;34m,\u001b[0m \u001b[0;36m2\u001b[0m\u001b[0;34m**\u001b[0m\u001b[0mL\u001b[0m \u001b[0;34m-\u001b[0m \u001b[0;36m1\u001b[0m\u001b[0;34m]\u001b[0m\u001b[0;34m]\u001b[0m\u001b[0;34m\u001b[0m\u001b[0;34m\u001b[0m\u001b[0m\n\u001b[1;32m     15\u001b[0m \u001b[0;34m\u001b[0m\u001b[0m\n",
      "\u001b[0;32m~/opt/anaconda3/lib/python3.7/site-packages/scipy/sparse/base.py\u001b[0m in \u001b[0;36m__matmul__\u001b[0;34m(self, other)\u001b[0m\n\u001b[1;32m    559\u001b[0m             raise ValueError(\"Scalar operands are not allowed, \"\n\u001b[1;32m    560\u001b[0m                              \"use '*' instead\")\n\u001b[0;32m--> 561\u001b[0;31m         \u001b[0;32mreturn\u001b[0m \u001b[0mself\u001b[0m\u001b[0;34m.\u001b[0m\u001b[0m__mul__\u001b[0m\u001b[0;34m(\u001b[0m\u001b[0mother\u001b[0m\u001b[0;34m)\u001b[0m\u001b[0;34m\u001b[0m\u001b[0;34m\u001b[0m\u001b[0m\n\u001b[0m\u001b[1;32m    562\u001b[0m \u001b[0;34m\u001b[0m\u001b[0m\n\u001b[1;32m    563\u001b[0m     \u001b[0;32mdef\u001b[0m \u001b[0m__rmatmul__\u001b[0m\u001b[0;34m(\u001b[0m\u001b[0mself\u001b[0m\u001b[0;34m,\u001b[0m \u001b[0mother\u001b[0m\u001b[0;34m)\u001b[0m\u001b[0;34m:\u001b[0m\u001b[0;34m\u001b[0m\u001b[0;34m\u001b[0m\u001b[0m\n",
      "\u001b[0;32m~/opt/anaconda3/lib/python3.7/site-packages/scipy/sparse/base.py\u001b[0m in \u001b[0;36m__mul__\u001b[0;34m(self, other)\u001b[0m\n\u001b[1;32m    479\u001b[0m             \u001b[0;32mif\u001b[0m \u001b[0mself\u001b[0m\u001b[0;34m.\u001b[0m\u001b[0mshape\u001b[0m\u001b[0;34m[\u001b[0m\u001b[0;36m1\u001b[0m\u001b[0;34m]\u001b[0m \u001b[0;34m!=\u001b[0m \u001b[0mother\u001b[0m\u001b[0;34m.\u001b[0m\u001b[0mshape\u001b[0m\u001b[0;34m[\u001b[0m\u001b[0;36m0\u001b[0m\u001b[0;34m]\u001b[0m\u001b[0;34m:\u001b[0m\u001b[0;34m\u001b[0m\u001b[0;34m\u001b[0m\u001b[0m\n\u001b[1;32m    480\u001b[0m                 \u001b[0;32mraise\u001b[0m \u001b[0mValueError\u001b[0m\u001b[0;34m(\u001b[0m\u001b[0;34m'dimension mismatch'\u001b[0m\u001b[0;34m)\u001b[0m\u001b[0;34m\u001b[0m\u001b[0;34m\u001b[0m\u001b[0m\n\u001b[0;32m--> 481\u001b[0;31m             \u001b[0;32mreturn\u001b[0m \u001b[0mself\u001b[0m\u001b[0;34m.\u001b[0m\u001b[0m_mul_sparse_matrix\u001b[0m\u001b[0;34m(\u001b[0m\u001b[0mother\u001b[0m\u001b[0;34m)\u001b[0m\u001b[0;34m\u001b[0m\u001b[0;34m\u001b[0m\u001b[0m\n\u001b[0m\u001b[1;32m    482\u001b[0m \u001b[0;34m\u001b[0m\u001b[0m\n\u001b[1;32m    483\u001b[0m         \u001b[0;31m# If it's a list or whatever, treat it like a matrix\u001b[0m\u001b[0;34m\u001b[0m\u001b[0;34m\u001b[0m\u001b[0;34m\u001b[0m\u001b[0m\n",
      "\u001b[0;32m~/opt/anaconda3/lib/python3.7/site-packages/scipy/sparse/compressed.py\u001b[0m in \u001b[0;36m_mul_sparse_matrix\u001b[0;34m(self, other)\u001b[0m\n\u001b[1;32m    494\u001b[0m \u001b[0;34m\u001b[0m\u001b[0m\n\u001b[1;32m    495\u001b[0m         \u001b[0mmajor_axis\u001b[0m \u001b[0;34m=\u001b[0m \u001b[0mself\u001b[0m\u001b[0;34m.\u001b[0m\u001b[0m_swap\u001b[0m\u001b[0;34m(\u001b[0m\u001b[0;34m(\u001b[0m\u001b[0mM\u001b[0m\u001b[0;34m,\u001b[0m \u001b[0mN\u001b[0m\u001b[0;34m)\u001b[0m\u001b[0;34m)\u001b[0m\u001b[0;34m[\u001b[0m\u001b[0;36m0\u001b[0m\u001b[0;34m]\u001b[0m\u001b[0;34m\u001b[0m\u001b[0;34m\u001b[0m\u001b[0m\n\u001b[0;32m--> 496\u001b[0;31m         \u001b[0mother\u001b[0m \u001b[0;34m=\u001b[0m \u001b[0mself\u001b[0m\u001b[0;34m.\u001b[0m\u001b[0m__class__\u001b[0m\u001b[0;34m(\u001b[0m\u001b[0mother\u001b[0m\u001b[0;34m)\u001b[0m  \u001b[0;31m# convert to this format\u001b[0m\u001b[0;34m\u001b[0m\u001b[0;34m\u001b[0m\u001b[0m\n\u001b[0m\u001b[1;32m    497\u001b[0m \u001b[0;34m\u001b[0m\u001b[0m\n\u001b[1;32m    498\u001b[0m         idx_dtype = get_index_dtype((self.indptr, self.indices,\n",
      "\u001b[0;32m~/opt/anaconda3/lib/python3.7/site-packages/scipy/sparse/compressed.py\u001b[0m in \u001b[0;36m__init__\u001b[0;34m(self, arg1, shape, dtype, copy)\u001b[0m\n\u001b[1;32m     35\u001b[0m                 \u001b[0marg1\u001b[0m \u001b[0;34m=\u001b[0m \u001b[0marg1\u001b[0m\u001b[0;34m.\u001b[0m\u001b[0mcopy\u001b[0m\u001b[0;34m(\u001b[0m\u001b[0;34m)\u001b[0m\u001b[0;34m\u001b[0m\u001b[0;34m\u001b[0m\u001b[0m\n\u001b[1;32m     36\u001b[0m             \u001b[0;32melse\u001b[0m\u001b[0;34m:\u001b[0m\u001b[0;34m\u001b[0m\u001b[0;34m\u001b[0m\u001b[0m\n\u001b[0;32m---> 37\u001b[0;31m                 \u001b[0marg1\u001b[0m \u001b[0;34m=\u001b[0m \u001b[0marg1\u001b[0m\u001b[0;34m.\u001b[0m\u001b[0masformat\u001b[0m\u001b[0;34m(\u001b[0m\u001b[0mself\u001b[0m\u001b[0;34m.\u001b[0m\u001b[0mformat\u001b[0m\u001b[0;34m)\u001b[0m\u001b[0;34m\u001b[0m\u001b[0;34m\u001b[0m\u001b[0m\n\u001b[0m\u001b[1;32m     38\u001b[0m             \u001b[0mself\u001b[0m\u001b[0;34m.\u001b[0m\u001b[0m_set_self\u001b[0m\u001b[0;34m(\u001b[0m\u001b[0marg1\u001b[0m\u001b[0;34m)\u001b[0m\u001b[0;34m\u001b[0m\u001b[0;34m\u001b[0m\u001b[0m\n\u001b[1;32m     39\u001b[0m \u001b[0;34m\u001b[0m\u001b[0m\n",
      "\u001b[0;32m~/opt/anaconda3/lib/python3.7/site-packages/scipy/sparse/base.py\u001b[0m in \u001b[0;36masformat\u001b[0;34m(self, format, copy)\u001b[0m\n\u001b[1;32m    324\u001b[0m             \u001b[0;31m# Forward the copy kwarg, if it's accepted.\u001b[0m\u001b[0;34m\u001b[0m\u001b[0;34m\u001b[0m\u001b[0;34m\u001b[0m\u001b[0m\n\u001b[1;32m    325\u001b[0m             \u001b[0;32mtry\u001b[0m\u001b[0;34m:\u001b[0m\u001b[0;34m\u001b[0m\u001b[0;34m\u001b[0m\u001b[0m\n\u001b[0;32m--> 326\u001b[0;31m                 \u001b[0;32mreturn\u001b[0m \u001b[0mconvert_method\u001b[0m\u001b[0;34m(\u001b[0m\u001b[0mcopy\u001b[0m\u001b[0;34m=\u001b[0m\u001b[0mcopy\u001b[0m\u001b[0;34m)\u001b[0m\u001b[0;34m\u001b[0m\u001b[0;34m\u001b[0m\u001b[0m\n\u001b[0m\u001b[1;32m    327\u001b[0m             \u001b[0;32mexcept\u001b[0m \u001b[0mTypeError\u001b[0m\u001b[0;34m:\u001b[0m\u001b[0;34m\u001b[0m\u001b[0;34m\u001b[0m\u001b[0m\n\u001b[1;32m    328\u001b[0m                 \u001b[0;32mreturn\u001b[0m \u001b[0mconvert_method\u001b[0m\u001b[0;34m(\u001b[0m\u001b[0;34m)\u001b[0m\u001b[0;34m\u001b[0m\u001b[0;34m\u001b[0m\u001b[0m\n",
      "\u001b[0;32m~/opt/anaconda3/lib/python3.7/site-packages/scipy/sparse/base.py\u001b[0m in \u001b[0;36mtocsr\u001b[0;34m(self, copy)\u001b[0m\n\u001b[1;32m    889\u001b[0m         \u001b[0mthe\u001b[0m \u001b[0mresultant\u001b[0m \u001b[0mcsr_matrix\u001b[0m\u001b[0;34m.\u001b[0m\u001b[0;34m\u001b[0m\u001b[0;34m\u001b[0m\u001b[0m\n\u001b[1;32m    890\u001b[0m         \"\"\"\n\u001b[0;32m--> 891\u001b[0;31m         \u001b[0;32mreturn\u001b[0m \u001b[0mself\u001b[0m\u001b[0;34m.\u001b[0m\u001b[0mtocoo\u001b[0m\u001b[0;34m(\u001b[0m\u001b[0mcopy\u001b[0m\u001b[0;34m=\u001b[0m\u001b[0mcopy\u001b[0m\u001b[0;34m)\u001b[0m\u001b[0;34m.\u001b[0m\u001b[0mtocsr\u001b[0m\u001b[0;34m(\u001b[0m\u001b[0mcopy\u001b[0m\u001b[0;34m=\u001b[0m\u001b[0;32mFalse\u001b[0m\u001b[0;34m)\u001b[0m\u001b[0;34m\u001b[0m\u001b[0;34m\u001b[0m\u001b[0m\n\u001b[0m\u001b[1;32m    892\u001b[0m \u001b[0;34m\u001b[0m\u001b[0m\n\u001b[1;32m    893\u001b[0m     \u001b[0;32mdef\u001b[0m \u001b[0mtodok\u001b[0m\u001b[0;34m(\u001b[0m\u001b[0mself\u001b[0m\u001b[0;34m,\u001b[0m \u001b[0mcopy\u001b[0m\u001b[0;34m=\u001b[0m\u001b[0;32mFalse\u001b[0m\u001b[0;34m)\u001b[0m\u001b[0;34m:\u001b[0m\u001b[0;34m\u001b[0m\u001b[0;34m\u001b[0m\u001b[0m\n",
      "\u001b[0;32m~/opt/anaconda3/lib/python3.7/site-packages/scipy/sparse/dok.py\u001b[0m in \u001b[0;36mtocoo\u001b[0;34m(self, copy)\u001b[0m\n\u001b[1;32m    397\u001b[0m \u001b[0;34m\u001b[0m\u001b[0m\n\u001b[1;32m    398\u001b[0m         \u001b[0midx_dtype\u001b[0m \u001b[0;34m=\u001b[0m \u001b[0mget_index_dtype\u001b[0m\u001b[0;34m(\u001b[0m\u001b[0mmaxval\u001b[0m\u001b[0;34m=\u001b[0m\u001b[0mmax\u001b[0m\u001b[0;34m(\u001b[0m\u001b[0mself\u001b[0m\u001b[0;34m.\u001b[0m\u001b[0mshape\u001b[0m\u001b[0;34m)\u001b[0m\u001b[0;34m)\u001b[0m\u001b[0;34m\u001b[0m\u001b[0;34m\u001b[0m\u001b[0m\n\u001b[0;32m--> 399\u001b[0;31m         \u001b[0mdata\u001b[0m \u001b[0;34m=\u001b[0m \u001b[0mnp\u001b[0m\u001b[0;34m.\u001b[0m\u001b[0mfromiter\u001b[0m\u001b[0;34m(\u001b[0m\u001b[0mitervalues\u001b[0m\u001b[0;34m(\u001b[0m\u001b[0mself\u001b[0m\u001b[0;34m)\u001b[0m\u001b[0;34m,\u001b[0m \u001b[0mdtype\u001b[0m\u001b[0;34m=\u001b[0m\u001b[0mself\u001b[0m\u001b[0;34m.\u001b[0m\u001b[0mdtype\u001b[0m\u001b[0;34m,\u001b[0m \u001b[0mcount\u001b[0m\u001b[0;34m=\u001b[0m\u001b[0mself\u001b[0m\u001b[0;34m.\u001b[0m\u001b[0mnnz\u001b[0m\u001b[0;34m)\u001b[0m\u001b[0;34m\u001b[0m\u001b[0;34m\u001b[0m\u001b[0m\n\u001b[0m\u001b[1;32m    400\u001b[0m         \u001b[0mrow\u001b[0m \u001b[0;34m=\u001b[0m \u001b[0mnp\u001b[0m\u001b[0;34m.\u001b[0m\u001b[0mfromiter\u001b[0m\u001b[0;34m(\u001b[0m\u001b[0;34m(\u001b[0m\u001b[0mi\u001b[0m \u001b[0;32mfor\u001b[0m \u001b[0mi\u001b[0m\u001b[0;34m,\u001b[0m \u001b[0m_\u001b[0m \u001b[0;32min\u001b[0m \u001b[0miterkeys\u001b[0m\u001b[0;34m(\u001b[0m\u001b[0mself\u001b[0m\u001b[0;34m)\u001b[0m\u001b[0;34m)\u001b[0m\u001b[0;34m,\u001b[0m \u001b[0mdtype\u001b[0m\u001b[0;34m=\u001b[0m\u001b[0midx_dtype\u001b[0m\u001b[0;34m,\u001b[0m \u001b[0mcount\u001b[0m\u001b[0;34m=\u001b[0m\u001b[0mself\u001b[0m\u001b[0;34m.\u001b[0m\u001b[0mnnz\u001b[0m\u001b[0;34m)\u001b[0m\u001b[0;34m\u001b[0m\u001b[0;34m\u001b[0m\u001b[0m\n\u001b[1;32m    401\u001b[0m         \u001b[0mcol\u001b[0m \u001b[0;34m=\u001b[0m \u001b[0mnp\u001b[0m\u001b[0;34m.\u001b[0m\u001b[0mfromiter\u001b[0m\u001b[0;34m(\u001b[0m\u001b[0;34m(\u001b[0m\u001b[0mj\u001b[0m \u001b[0;32mfor\u001b[0m \u001b[0m_\u001b[0m\u001b[0;34m,\u001b[0m \u001b[0mj\u001b[0m \u001b[0;32min\u001b[0m \u001b[0miterkeys\u001b[0m\u001b[0;34m(\u001b[0m\u001b[0mself\u001b[0m\u001b[0;34m)\u001b[0m\u001b[0;34m)\u001b[0m\u001b[0;34m,\u001b[0m \u001b[0mdtype\u001b[0m\u001b[0;34m=\u001b[0m\u001b[0midx_dtype\u001b[0m\u001b[0;34m,\u001b[0m \u001b[0mcount\u001b[0m\u001b[0;34m=\u001b[0m\u001b[0mself\u001b[0m\u001b[0;34m.\u001b[0m\u001b[0mnnz\u001b[0m\u001b[0;34m)\u001b[0m\u001b[0;34m\u001b[0m\u001b[0;34m\u001b[0m\u001b[0m\n",
      "\u001b[0;31mKeyboardInterrupt\u001b[0m: "
     ]
    }
   ],
   "source": [
    "# draw random contexts\n",
    "num_random_contexts = 1000\n",
    "random_contexts = []\n",
    "for i in range(num_random_contexts):\n",
    "    random_contexts.append(np.random.choice(antigens,size=L))\n",
    "        \n",
    "proba_random = np.zeros((num_random_contexts,Nbootstrap))\n",
    "for i in tqdm(range(num_random_contexts)):\n",
    "    context = random_contexts[i]\n",
    "    for nb in range(Nbootstrap):\n",
    "        P = pmut[context[0], nb][0, :] # start vector\n",
    "        for c in context[1:]:\n",
    "            P = P@pmut[c, nb]\n",
    "        proba_random[i,nb] += [P[0, 2**L - 1]]\n",
    "        \n",
    "proba_random_mean = np.mean(np.mean(proba_random,axis=1),axis=0)\n",
    "proba_random_std = np.std(np.std(proba_random,axis=1))\n",
    "print(proba_random_mean,proba_random_std)\n",
    "\n",
    "# write data to file\n",
    "with open(f'likelihoods_'+antibody+'_'+model+'_random.csv','w') as writefile:\n",
    "    proba_writer = csv.writer(writefile)\n",
    "    for i in range(len(proba_random)):\n",
    "        list_to_write = [x for x in random_contexts[i]] + [x for x in proba_random[i]]\n",
    "        proba_writer.writerow(list_to_write)\n",
    "    writefile.close()\n",
    "\n"
   ]
  },
  {
   "cell_type": "markdown",
   "metadata": {},
   "source": [
    "## Recalculate normalized probabilities for selected contexts (no bootstrapping)"
   ]
  },
  {
   "cell_type": "code",
   "execution_count": null,
   "metadata": {},
   "outputs": [],
   "source": [
    "proba_from_file = defaultdict(list)\n",
    "with open(f'likelihoods_'+antibody+'_'+model+'.csv','r') as readfile:\n",
    "    proba_reader = csv.reader(readfile)\n",
    "    for row in proba_reader:\n",
    "        key = tuple(row[:L])\n",
    "        value = [float(x) for x in row[L:]]\n",
    "        proba_from_file[key] = value\n",
    "    readfile.close()\n",
    "\n",
    "num_random_contexts = 1000\n",
    "proba_random_from_file = np.zeros((num_random_contexts,Nbootstrap))\n",
    "contexts_random_from_file = []\n",
    "with open(f'likelihoods_'+antibody+'_'+model+'_random.csv','r') as readfile:\n",
    "    proba_reader = csv.reader(readfile)\n",
    "    i = 0\n",
    "    for row in proba_reader:\n",
    "        key = tuple(row[:L])\n",
    "        contexts_random_from_file.append(key)\n",
    "        value = [float(x) for x in row[L:]]   \n",
    "        proba_random_from_file[i] = value\n",
    "        i += 1\n",
    "    readfile.close()"
   ]
  },
  {
   "cell_type": "code",
   "execution_count": null,
   "metadata": {},
   "outputs": [],
   "source": [
    "print(math.factorial(L))\n",
    "print(np.mean(proba_from_file[tuple([\"MA90\"]*L)])/math.factorial(L))\n",
    "print(np.std(proba_from_file[tuple([\"MA90\"]*L)],ddof=1)/math.factorial(L))"
   ]
  },
  {
   "cell_type": "code",
   "execution_count": 14,
   "metadata": {},
   "outputs": [
    {
     "data": {
      "application/vnd.jupyter.widget-view+json": {
       "model_id": "c887faf9586549f690d549bffeb111c5",
       "version_major": 2,
       "version_minor": 0
      },
      "text/plain": [
       "HBox(children=(IntProgress(value=0, max=3), HTML(value='')))"
      ]
     },
     "metadata": {},
     "output_type": "display_data"
    },
    {
     "name": "stdout",
     "output_type": "stream",
     "text": [
      "\n"
     ]
    }
   ],
   "source": [
    "import pickle\n",
    "# Calculate normalized transition matrices \n",
    "pmut_unnormed = {}\n",
    "pmut_normed = {}\n",
    "for ag in tqdm(antigens+['mixed']):\n",
    "    pmut_unnormed[ag] = dok_matrix((2**L, 2**L), dtype=np.float64)\n",
    "    fitnesses = df[f\"{ag}_log10Kd\"].values.astype('float32')\n",
    "    \n",
    "    for s in sequences_int:\n",
    "        for t in reachable(s, L):\n",
    "            if is_intermediate and t != INTERMEDIATE and nb_mutation(t) == nb_mutation(INTERMEDIATE):\n",
    "                pmut_unnormed[ag][s, t] = 0\n",
    "            else:\n",
    "                if model == 'strong':\n",
    "                    pmut_unnormed[ag][s, t] = fixation_probability_binary(s,fitnesses[s],fitnesses[t])\n",
    "                else:  \n",
    "                    pmut_unnormed[ag][s, t] = fixation_probability_moderate(fitnesses[s],fitnesses[t],N,gamma)\n",
    "\n",
    "    ### change format for something that can deal with multiplications\n",
    "    pmut_unnormed[ag].tocsr()\n",
    "    ### normalize the sparse matrix\n",
    "    pmut_normed[ag] = normalize(pmut_unnormed[ag], norm='l1', axis=1)\n",
    "\n",
    "with open(f\"pmut_normed.pkl\", 'wb') as f:\n",
    "    pickle.dump(pmut_normed, f)\n",
    "with open(f\"pmut_unnormed.pkl\", 'wb') as f:\n",
    "    pickle.dump(pmut_unnormed, f)"
   ]
  },
  {
   "cell_type": "code",
   "execution_count": 15,
   "metadata": {},
   "outputs": [
    {
     "name": "stdout",
     "output_type": "stream",
     "text": [
      "9\n",
      "('MA90', 'SI06', 'SI06', 'MA90', 'SI06', 'MA90', 'MA90', 'SI06', 'MA90', 'MA90', 'SI06', 'SI06', 'SI06', 'SI06', 'MA90', 'MA90') -16.08715193403518\n"
     ]
    },
    {
     "data": {
      "image/png": "[encoded data removed]",
      "text/plain": [
       "<Figure size 600x400 with 1 Axes>"
      ]
     },
     "metadata": {
      "needs_background": "light"
     },
     "output_type": "display_data"
    },
    {
     "name": "stdout",
     "output_type": "stream",
     "text": [
      "-17.671643799810315\n"
     ]
    }
   ],
   "source": [
    "#find the best and median random contexts\n",
    "random_means = np.mean(proba_random_from_file,axis=1)\n",
    "random_means_sorted = sorted(range(len(random_means)),key = lambda x: random_means[x])\n",
    "median_random_index = random_means_sorted[int(len(random_means)/2)+2] \n",
    "print(median_random_index) #np.log(proba_random[median_random_index]))\n",
    "median_random = contexts_random_from_file[median_random_index]\n",
    "print(median_random,np.log(random_means[median_random_index]))\n",
    "\n",
    "plt.hist(np.log(np.mean(proba_random_from_file,axis=1)))\n",
    "plt.show()\n",
    "print(np.mean(np.log(proba_random_from_file)))\n",
    "\n",
    "# sort other scenarios by likelihood\n",
    "scenarios_sorted = [k for k, v in sorted(proba_from_file.items(), key=lambda item: -np.log(np.mean([a for a in item[1] if a > 1e-80]))) if not all([l == k[0] for l in k])]\n",
    "\n",
    "if antibody == 'CH65':\n",
    "    top_set = scenarios_sorted[:18]\n",
    "    print('Optimal:',top_set[0])  "
   ]
  },
  {
   "cell_type": "code",
   "execution_count": 16,
   "metadata": {},
   "outputs": [],
   "source": [
    "if antibody == \"CH65\":\n",
    "    antigen_contexts = { \"optimal\": [\"MA90\"]*4 + [\"SI06\"]*12,\n",
    "                            \"MA90alone\": [\"MA90\"]*16,  \n",
    "                         \"SI06alone\": [\"SI06\"]*16,\n",
    "                         \"mixed\": [\"mixed\"]*16,\n",
    "                           \"random_median\": median_random}"
   ]
  },
  {
   "cell_type": "markdown",
   "metadata": {},
   "source": [
    "## Compute mutation order"
   ]
  },
  {
   "cell_type": "code",
   "execution_count": 17,
   "metadata": {},
   "outputs": [
    {
     "data": {
      "application/vnd.jupyter.widget-view+json": {
       "model_id": "2c4ec791645d4df1a6b0037e194175bb",
       "version_major": 2,
       "version_minor": 0
      },
      "text/plain": [
       "HBox(children=(IntProgress(value=0, max=5), HTML(value='')))"
      ]
     },
     "metadata": {},
     "output_type": "display_data"
    },
    {
     "name": "stdout",
     "output_type": "stream",
     "text": [
      "\n"
     ]
    }
   ],
   "source": [
    "\n",
    "for ac in tqdm(antigen_contexts):\n",
    "    ## precompute the transition probability matrix to every power\n",
    "    ## pmut_power[s, e] is the product of all normed matrix between s and e (excluded)\n",
    "    pmut_power = {}\n",
    "    for s in range(L+1):\n",
    "        for e in range(s, L+1):\n",
    "            pmut_power[s, e] = pmut_normed[antigen_contexts[ac][0]]**0 #identity matrix\n",
    "            for j in range(s, e):\n",
    "                pmut_power[s, e] = pmut_power[s, e]@pmut_normed[antigen_contexts[ac][j]]\n",
    "                \n",
    "    ## compute the matrix that force the mutation to be mut\n",
    "    force_mut = {}\n",
    "    for mut in range(L):\n",
    "        for i in range(L):\n",
    "            force_mut[(i,mut)] = dok_matrix((2**L, 2**L), dtype=np.float64)\n",
    "        \n",
    "        for s in sequences_int[:-1]:\n",
    "            nb_mut = nb_mutation(s)\n",
    "            t = mutation(s, mut, L)\n",
    "            force_mut[(nb_mut,mut)][s, t] = pmut_normed[antigen_contexts[ac][nb_mut]][s, t]\n",
    "        \n",
    "    ## compute probabilities\n",
    "    proba = np.zeros((L, L))\n",
    "    for mut in range(L):\n",
    "        for t in range(L):\n",
    "            proba[mut, t] = (pmut_power[0, t] @ force_mut[(t,mut)] @ pmut_power[t+1, L])[0, 2**L - 1]\n",
    "\n",
    "    ## print results to file\n",
    "    if antibody == 'CH65':\n",
    "        proba_df = pd.DataFrame(proba,columns=\n",
    "                        [\"Order 1\",\"Order 2\",\"Order 3\",\"Order 4\",\"Order 5\",\"Order 6\",\n",
    "                         \"Order 7\",\"Order 8\",\"Order 9\",\"Order 10\",\"Order 11\",\"Order 12\",\n",
    "                        \"Order 13\",\"Order 14\",\"Order 15\",\"Order 16\"])\n",
    "        proba_df['Mutation'] = [\"Mut 1\",\"Mut 2\",\"Mut 3\",\"Mut 4\",\"Mut 5\",\"Mut 6\",\n",
    "                       \"Mut 7\",\"Mut 8\",\"Mut 9\",\"Mut 10\",\"Mut 11\",\n",
    "                       \"Mut 12\",\"Mut 13\",\"Mut 14\",\"Mut 15\",\"Mut 16\"] \n",
    "        proba_df.to_csv(f\"CH65_probability_\"+str(ac)+\"_\"+model+\".csv\",index=False)"
   ]
  },
  {
   "cell_type": "markdown",
   "metadata": {},
   "source": [
    "## Compute uphill paths"
   ]
  },
  {
   "cell_type": "code",
   "execution_count": 18,
   "metadata": {},
   "outputs": [
    {
     "data": {
      "application/vnd.jupyter.widget-view+json": {
       "model_id": "dde0606674d140d4ab77750a37a29614",
       "version_major": 2,
       "version_minor": 0
      },
      "text/plain": [
       "HBox(children=(IntProgress(value=0, max=10), HTML(value='')))"
      ]
     },
     "metadata": {},
     "output_type": "display_data"
    },
    {
     "name": "stdout",
     "output_type": "stream",
     "text": [
      "\n"
     ]
    },
    {
     "data": {
      "application/vnd.jupyter.widget-view+json": {
       "model_id": "ec2c209497da4c4ebdc1129fb8b4dc46",
       "version_major": 2,
       "version_minor": 0
      },
      "text/plain": [
       "HBox(children=(IntProgress(value=0, max=10), HTML(value='')))"
      ]
     },
     "metadata": {},
     "output_type": "display_data"
    },
    {
     "name": "stdout",
     "output_type": "stream",
     "text": [
      "\n"
     ]
    },
    {
     "data": {
      "application/vnd.jupyter.widget-view+json": {
       "model_id": "e45c46cef276400ea14916535acdc0ff",
       "version_major": 2,
       "version_minor": 0
      },
      "text/plain": [
       "HBox(children=(IntProgress(value=0, max=10), HTML(value='')))"
      ]
     },
     "metadata": {},
     "output_type": "display_data"
    },
    {
     "name": "stdout",
     "output_type": "stream",
     "text": [
      "\n"
     ]
    },
    {
     "data": {
      "application/vnd.jupyter.widget-view+json": {
       "model_id": "5af048677dd1463a905c7e5b3336e66c",
       "version_major": 2,
       "version_minor": 0
      },
      "text/plain": [
       "HBox(children=(IntProgress(value=0, max=10), HTML(value='')))"
      ]
     },
     "metadata": {},
     "output_type": "display_data"
    },
    {
     "name": "stdout",
     "output_type": "stream",
     "text": [
      "\n"
     ]
    },
    {
     "data": {
      "application/vnd.jupyter.widget-view+json": {
       "model_id": "5dab64e71f77428c9d419203c6e0850c",
       "version_major": 2,
       "version_minor": 0
      },
      "text/plain": [
       "HBox(children=(IntProgress(value=0, max=10), HTML(value='')))"
      ]
     },
     "metadata": {},
     "output_type": "display_data"
    },
    {
     "name": "stdout",
     "output_type": "stream",
     "text": [
      "\n"
     ]
    },
    {
     "data": {
      "application/vnd.jupyter.widget-view+json": {
       "model_id": "5950f90d9bb74ea19edfb2cdd372d82c",
       "version_major": 2,
       "version_minor": 0
      },
      "text/plain": [
       "HBox(children=(IntProgress(value=0, max=10), HTML(value='')))"
      ]
     },
     "metadata": {},
     "output_type": "display_data"
    },
    {
     "name": "stdout",
     "output_type": "stream",
     "text": [
      "\n",
      "optimal: 9.8e+08 ± 4.3e+08\n",
      "MA90alone: 5.7e+08 ± 5e+08\n",
      "SI06alone: 0.0 ± 0.0\n",
      "mixed: 4.1e+09 ± 1.5e+09\n",
      "random_median: 1.7e+07 ± 1e+07\n"
     ]
    }
   ],
   "source": [
    "## number of only increasing path\n",
    "\n",
    "## create pmut matrix \n",
    "Nbootstrap = 10\n",
    "# Create the transition matrix between variant, depending on context\n",
    "pmut = {}\n",
    "for nb in tqdm(range(Nbootstrap)):\n",
    "    for ag in antigens + [\"mixed\"]:\n",
    "        pmut[ag, nb] = dok_matrix((2**L, 2**L), dtype=np.float64)\n",
    "        if ag != \"mixed\":\n",
    "            fitnesses = np.random.normal(\n",
    "                        (df[f\"{ag}_log10Kd\"]).values.astype('float32'),\n",
    "                        (df[f\"{ag}_stelog10Kd\"]).values.astype('float32'))\n",
    "        else:\n",
    "            fitnesses = sum([np.random.normal(\n",
    "                        (df[f\"{aa}_log10Kd\"]).values.astype('float32'),\n",
    "                        (df[f\"{aa}_stelog10Kd\"]).values.astype('float32')) for aa in antigens])/len(antigens)\n",
    "        \n",
    "        for s in sequences_int:\n",
    "            tot = 0\n",
    "            for t in reachable(s, L):\n",
    "                if is_intermediate and t != INTERMEDIATE and nb_mutation(t) == nb_mutation(INTERMEDIATE):\n",
    "                    pmut[ag, nb][s, t] = 0\n",
    "                else:\n",
    "                    pmut[ag, nb][s, t] = fixation_probability_binary(s,fitnesses[s],fitnesses[t])\n",
    "        ### change format for something that can deal with multiplications\n",
    "        pmut[ag, nb].tocsr()\n",
    "        \n",
    "path_increasing = {}\n",
    "for ac in antigen_contexts:\n",
    "    path_increasing[ac] = []\n",
    "    for nb in tqdm(range(Nbootstrap)):\n",
    "        mat = pmut[antigen_contexts[ac][0], 0]**0\n",
    "        for ag in antigen_contexts[ac]:\n",
    "            mat = mat@pmut[ag, nb]\n",
    "        path_increasing[ac] += [mat[0, 2**L-1]]\n",
    "        \n",
    "for ac in path_increasing:\n",
    "    print(f\"{ac}: {np.mean(path_increasing[ac]):.2} ± {np.std(path_increasing[ac]):.2}\")  "
   ]
  },
  {
   "cell_type": "code",
   "execution_count": 20,
   "metadata": {},
   "outputs": [
    {
     "data": {
      "application/vnd.jupyter.widget-view+json": {
       "model_id": "06eab780d90846ccbf0457ce89f48842",
       "version_major": 2,
       "version_minor": 0
      },
      "text/plain": [
       "HBox(children=(IntProgress(value=0, max=5), HTML(value='')))"
      ]
     },
     "metadata": {},
     "output_type": "display_data"
    },
    {
     "name": "stdout",
     "output_type": "stream",
     "text": [
      "\n"
     ]
    }
   ],
   "source": [
    "# make directed weighted graph\n",
    "\n",
    "# store fitnesses as dict\n",
    "fitnesses = {}\n",
    "for a in antigens+['mixed']:\n",
    "    fitnesses[a] = (df.set_index(\"variant_int\")[f\"{a}_log10Kd\"]).to_dict()\n",
    "\n",
    "df[\"nb_mutation\"] = df.variant_int.apply(nb_mutation)\n",
    "\n",
    "# choose number of best paths to store\n",
    "num_best_paths = 25\n",
    "best_paths = {}\n",
    "\n",
    "for ac in tqdm(antigen_contexts):\n",
    "    # (re) create the graph with networkx (as a directed graph)\n",
    "    G = nx.DiGraph()\n",
    "    G.add_nodes_from(sequences_int)\n",
    "    G.add_weighted_edges_from([(s, t,  ## source, target\n",
    "                                -np.log(1e-100 + pmut_normed[antigen_contexts[ac][nb_mutation(s)]][s, t])  # weight\n",
    "                               ) \n",
    "                      for s in sequences_int\n",
    "                      for t in reachable(s, L)])\n",
    "    \n",
    "    if is_intermediate:\n",
    "       for s in sequences_int:\n",
    "           if s != INTERMEDIATE and nb_mutation(s) == nb_mut_int:\n",
    "               G.remove_node(n)\n",
    "    \n",
    "    # compute the k shortest paths, for which ∑ -log(p) is smallest => max likelihood\n",
    "    best_paths[ac] = np.empty((num_best_paths,L+1),dtype=int)\n",
    "    i = 0\n",
    "    for path in k_shortest_paths(G, 0, 2**L-1,num_best_paths,weight='weight'):\n",
    "        best_paths[ac][i] = path\n",
    "        i += 1\n",
    "        \n",
    "with open(f\"best_paths.pkl\", 'wb') as f:\n",
    "    pickle.dump(best_paths, f)"
   ]
  },
  {
   "cell_type": "code",
   "execution_count": null,
   "metadata": {},
   "outputs": [],
   "source": []
  }
 ],
 "metadata": {
  "kernelspec": {
   "display_name": "Python 3",
   "language": "python",
   "name": "python3"
  }
 },
 "nbformat": 4,
 "nbformat_minor": 4
}
