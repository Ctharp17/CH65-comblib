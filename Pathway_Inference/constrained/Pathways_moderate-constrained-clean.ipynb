{
 "cells": [
  {
   "cell_type": "code",
   "execution_count": 37,
   "metadata": {},
   "outputs": [],
   "source": [
    "import numpy as np\n",
    "import pandas as pd\n",
    "import matplotlib.pyplot as plt\n",
    "import matplotlib as mpl\n",
    "import seaborn as sns\n",
    "from collections import defaultdict\n",
    "from scipy.sparse import dok_matrix, csr_matrix\n",
    "from sklearn.preprocessing import normalize\n",
    "import networkx as nx\n",
    "import itertools\n",
    "from itertools import islice\n",
    "from tqdm.notebook import tqdm\n",
    "from matplotlib.patches import Patch\n",
    "import scipy as sp\n",
    "import math\n",
    "import csv\n",
    "from collections import OrderedDict\n",
    "import sys\n",
    "import matplotlib.cm as cm\n",
    "import matplotlib.colors as colors\n",
    "from matplotlib.colors import LinearSegmentedColormap\n",
    "\n",
    "\n",
    "mpl.rcParams['figure.dpi'] = 100\n",
    "plt.rcParams.update({'font.size': 7,'axes.linewidth':0.5,\n",
    "                     'xtick.major.size':2,'xtick.major.width':0.5,\n",
    "                    'ytick.major.size':2,'ytick.major.width':0.5})\n",
    "plt.rcParams.update({'mathtext.default':  'regular' })\n",
    "\n",
    "\n",
    "colorMA90, colorSI06 = \"#E8735C\", \"#72C2A6\"\n",
    "\n",
    "\n",
    "#### antibody choice ####\n",
    "antibody = \"CH65\"\n",
    "antigens = [\"MA90\", \"SI06\"]\n",
    "L = 16\n",
    "sequences_int = range(2**L)\n",
    "\n",
    "\n",
    "#### selection model choice ####\n",
    "#model = 'strong'\n",
    "model = 'moderate'\n",
    "#model = 'weak'\n",
    "################################\n",
    "\n",
    "if model == 'moderate':\n",
    "    N = 1000\n",
    "    gamma = 1.0\n",
    "elif model == 'weak':\n",
    "    N = 20\n",
    "    gamma = 0.5\n",
    "\n",
    "Nbootstrap = 10\n",
    "\n",
    "\n",
    "# define some functions\n",
    "def mutation(s, ii, L):\n",
    "    \"\"\" Return the sequence (in int format) with base s,\n",
    "        with a somatic mutation at pos ii \"\"\"\n",
    "    return s | 2**(L-1-ii)\n",
    "\n",
    "def nb_mutation(s):\n",
    "    \"\"\" Number of mutations in variant s \"\"\"\n",
    "    return bin(s).count(\"1\")\n",
    "\n",
    "def reachable(s, L):\n",
    "    return [(s | 2**ii) for ii in range(L) if (s | 2**ii) > s]\n",
    "\n",
    "def k_shortest_paths(G, source, target, k, weight=None):\n",
    "    return list(\n",
    "        islice(nx.shortest_simple_paths(G, source, target, weight=weight), k)\n",
    "    )\n",
    "def truncate_colormap(cmap, minval=0.0, maxval=1.0, n=100):\n",
    "    new_cmap = colors.LinearSegmentedColormap.from_list(\n",
    "        'trunc({n},{a:.2f},{b:.2f})'.format(n=cmap.name, a=minval, b=maxval),\n",
    "        cmap(np.linspace(minval, maxval, n)))\n",
    "    return new_cmap\n",
    "\n",
    "\n",
    "#can add a constraint to pass thru intermediate here\n",
    "is_intermediate = True\n",
    "INTERMEDIATE = int('0000001010100000', 2)\n",
    "nb_mut_int = nb_mutation(INTERMEDIATE)\n",
    "force_intermediate = dok_matrix((2**L, 2**L), dtype=np.float64)\n",
    "for mut in range(L):\n",
    "    t = mutation(INTERMEDIATE, mut, L)\n",
    "    force_intermediate[INTERMEDIATE, t] = 1\n",
    "    \n",
    "\n",
    "# define data and image folder\n",
    "data = \"\"\n",
    "img = \"\"\n",
    "##############################"
   ]
  },
  {
   "cell_type": "markdown",
   "metadata": {},
   "source": [
    "## Load data"
   ]
  },
  {
   "cell_type": "code",
   "execution_count": 38,
   "metadata": {},
   "outputs": [
    {
     "data": {
      "text/html": [
       "<div>\n",
       "<style scoped>\n",
       "    .dataframe tbody tr th:only-of-type {\n",
       "        vertical-align: middle;\n",
       "    }\n",
       "\n",
       "    .dataframe tbody tr th {\n",
       "        vertical-align: top;\n",
       "    }\n",
       "\n",
       "    .dataframe thead th {\n",
       "        text-align: right;\n",
       "    }\n",
       "</style>\n",
       "<table border=\"1\" class=\"dataframe\">\n",
       "  <thead>\n",
       "    <tr style=\"text-align: right;\">\n",
       "      <th></th>\n",
       "      <th>variant_int</th>\n",
       "      <th>geno</th>\n",
       "      <th>repa_x</th>\n",
       "      <th>repb_x</th>\n",
       "      <th>MA90_log10Kd</th>\n",
       "      <th>MA90_stelog10Kd</th>\n",
       "      <th>repa_y</th>\n",
       "      <th>repb_y</th>\n",
       "      <th>SI06_log10Kd</th>\n",
       "      <th>SI06_stelog10Kd</th>\n",
       "      <th>...</th>\n",
       "      <th>mutation_8</th>\n",
       "      <th>mutation_9</th>\n",
       "      <th>mutation_10</th>\n",
       "      <th>mutation_11</th>\n",
       "      <th>mutation_12</th>\n",
       "      <th>mutation_13</th>\n",
       "      <th>mutation_14</th>\n",
       "      <th>mutation_15</th>\n",
       "      <th>mutation_16</th>\n",
       "      <th>mixed_log10Kd</th>\n",
       "    </tr>\n",
       "  </thead>\n",
       "  <tbody>\n",
       "    <tr>\n",
       "      <th>0</th>\n",
       "      <td>0</td>\n",
       "      <td>0000000000000000</td>\n",
       "      <td>8.612721</td>\n",
       "      <td>8.472320</td>\n",
       "      <td>8.542521</td>\n",
       "      <td>0.070200</td>\n",
       "      <td>6.000000</td>\n",
       "      <td>6.000000</td>\n",
       "      <td>6.000000</td>\n",
       "      <td>0.000000</td>\n",
       "      <td>...</td>\n",
       "      <td>False</td>\n",
       "      <td>False</td>\n",
       "      <td>False</td>\n",
       "      <td>False</td>\n",
       "      <td>False</td>\n",
       "      <td>False</td>\n",
       "      <td>False</td>\n",
       "      <td>False</td>\n",
       "      <td>False</td>\n",
       "      <td>7.271260</td>\n",
       "    </tr>\n",
       "    <tr>\n",
       "      <th>1</th>\n",
       "      <td>1</td>\n",
       "      <td>0000000000000001</td>\n",
       "      <td>8.631980</td>\n",
       "      <td>8.516378</td>\n",
       "      <td>8.574179</td>\n",
       "      <td>0.057801</td>\n",
       "      <td>6.000000</td>\n",
       "      <td>6.000000</td>\n",
       "      <td>6.000000</td>\n",
       "      <td>0.000000</td>\n",
       "      <td>...</td>\n",
       "      <td>False</td>\n",
       "      <td>False</td>\n",
       "      <td>False</td>\n",
       "      <td>False</td>\n",
       "      <td>False</td>\n",
       "      <td>False</td>\n",
       "      <td>False</td>\n",
       "      <td>False</td>\n",
       "      <td>True</td>\n",
       "      <td>7.287090</td>\n",
       "    </tr>\n",
       "    <tr>\n",
       "      <th>2</th>\n",
       "      <td>2</td>\n",
       "      <td>0000000000000010</td>\n",
       "      <td>8.340245</td>\n",
       "      <td>8.290790</td>\n",
       "      <td>8.315518</td>\n",
       "      <td>0.024727</td>\n",
       "      <td>6.000000</td>\n",
       "      <td>6.000000</td>\n",
       "      <td>6.000000</td>\n",
       "      <td>0.000000</td>\n",
       "      <td>...</td>\n",
       "      <td>False</td>\n",
       "      <td>False</td>\n",
       "      <td>False</td>\n",
       "      <td>False</td>\n",
       "      <td>False</td>\n",
       "      <td>False</td>\n",
       "      <td>False</td>\n",
       "      <td>True</td>\n",
       "      <td>False</td>\n",
       "      <td>7.157759</td>\n",
       "    </tr>\n",
       "    <tr>\n",
       "      <th>3</th>\n",
       "      <td>3</td>\n",
       "      <td>0000000000000011</td>\n",
       "      <td>8.511183</td>\n",
       "      <td>8.436571</td>\n",
       "      <td>8.473877</td>\n",
       "      <td>0.037306</td>\n",
       "      <td>6.000000</td>\n",
       "      <td>6.000000</td>\n",
       "      <td>6.000000</td>\n",
       "      <td>0.000000</td>\n",
       "      <td>...</td>\n",
       "      <td>False</td>\n",
       "      <td>False</td>\n",
       "      <td>False</td>\n",
       "      <td>False</td>\n",
       "      <td>False</td>\n",
       "      <td>False</td>\n",
       "      <td>False</td>\n",
       "      <td>True</td>\n",
       "      <td>True</td>\n",
       "      <td>7.236939</td>\n",
       "    </tr>\n",
       "    <tr>\n",
       "      <th>4</th>\n",
       "      <td>4</td>\n",
       "      <td>0000000000000100</td>\n",
       "      <td>8.552056</td>\n",
       "      <td>8.523392</td>\n",
       "      <td>8.537724</td>\n",
       "      <td>0.014332</td>\n",
       "      <td>6.000000</td>\n",
       "      <td>6.000000</td>\n",
       "      <td>6.000000</td>\n",
       "      <td>0.000000</td>\n",
       "      <td>...</td>\n",
       "      <td>False</td>\n",
       "      <td>False</td>\n",
       "      <td>False</td>\n",
       "      <td>False</td>\n",
       "      <td>False</td>\n",
       "      <td>False</td>\n",
       "      <td>True</td>\n",
       "      <td>False</td>\n",
       "      <td>False</td>\n",
       "      <td>7.268862</td>\n",
       "    </tr>\n",
       "    <tr>\n",
       "      <th>...</th>\n",
       "      <td>...</td>\n",
       "      <td>...</td>\n",
       "      <td>...</td>\n",
       "      <td>...</td>\n",
       "      <td>...</td>\n",
       "      <td>...</td>\n",
       "      <td>...</td>\n",
       "      <td>...</td>\n",
       "      <td>...</td>\n",
       "      <td>...</td>\n",
       "      <td>...</td>\n",
       "      <td>...</td>\n",
       "      <td>...</td>\n",
       "      <td>...</td>\n",
       "      <td>...</td>\n",
       "      <td>...</td>\n",
       "      <td>...</td>\n",
       "      <td>...</td>\n",
       "      <td>...</td>\n",
       "      <td>...</td>\n",
       "      <td>...</td>\n",
       "    </tr>\n",
       "    <tr>\n",
       "      <th>65531</th>\n",
       "      <td>65531</td>\n",
       "      <td>1111111111111011</td>\n",
       "      <td>10.103725</td>\n",
       "      <td>10.109438</td>\n",
       "      <td>10.106582</td>\n",
       "      <td>0.002856</td>\n",
       "      <td>9.173063</td>\n",
       "      <td>9.109244</td>\n",
       "      <td>9.141153</td>\n",
       "      <td>0.031909</td>\n",
       "      <td>...</td>\n",
       "      <td>True</td>\n",
       "      <td>True</td>\n",
       "      <td>True</td>\n",
       "      <td>True</td>\n",
       "      <td>True</td>\n",
       "      <td>True</td>\n",
       "      <td>False</td>\n",
       "      <td>True</td>\n",
       "      <td>True</td>\n",
       "      <td>9.623867</td>\n",
       "    </tr>\n",
       "    <tr>\n",
       "      <th>65532</th>\n",
       "      <td>65532</td>\n",
       "      <td>1111111111111100</td>\n",
       "      <td>10.092798</td>\n",
       "      <td>10.039002</td>\n",
       "      <td>10.065900</td>\n",
       "      <td>0.026898</td>\n",
       "      <td>8.775637</td>\n",
       "      <td>8.804350</td>\n",
       "      <td>8.789993</td>\n",
       "      <td>0.014357</td>\n",
       "      <td>...</td>\n",
       "      <td>True</td>\n",
       "      <td>True</td>\n",
       "      <td>True</td>\n",
       "      <td>True</td>\n",
       "      <td>True</td>\n",
       "      <td>True</td>\n",
       "      <td>True</td>\n",
       "      <td>False</td>\n",
       "      <td>False</td>\n",
       "      <td>9.427947</td>\n",
       "    </tr>\n",
       "    <tr>\n",
       "      <th>65533</th>\n",
       "      <td>65533</td>\n",
       "      <td>1111111111111101</td>\n",
       "      <td>10.114984</td>\n",
       "      <td>10.152478</td>\n",
       "      <td>10.133731</td>\n",
       "      <td>0.018747</td>\n",
       "      <td>8.985615</td>\n",
       "      <td>9.035222</td>\n",
       "      <td>9.010419</td>\n",
       "      <td>0.024804</td>\n",
       "      <td>...</td>\n",
       "      <td>True</td>\n",
       "      <td>True</td>\n",
       "      <td>True</td>\n",
       "      <td>True</td>\n",
       "      <td>True</td>\n",
       "      <td>True</td>\n",
       "      <td>True</td>\n",
       "      <td>False</td>\n",
       "      <td>True</td>\n",
       "      <td>9.572075</td>\n",
       "    </tr>\n",
       "    <tr>\n",
       "      <th>65534</th>\n",
       "      <td>65534</td>\n",
       "      <td>1111111111111110</td>\n",
       "      <td>9.969711</td>\n",
       "      <td>9.965975</td>\n",
       "      <td>9.967843</td>\n",
       "      <td>0.001868</td>\n",
       "      <td>8.578370</td>\n",
       "      <td>8.672535</td>\n",
       "      <td>8.625453</td>\n",
       "      <td>0.047082</td>\n",
       "      <td>...</td>\n",
       "      <td>True</td>\n",
       "      <td>True</td>\n",
       "      <td>True</td>\n",
       "      <td>True</td>\n",
       "      <td>True</td>\n",
       "      <td>True</td>\n",
       "      <td>True</td>\n",
       "      <td>True</td>\n",
       "      <td>False</td>\n",
       "      <td>9.296648</td>\n",
       "    </tr>\n",
       "    <tr>\n",
       "      <th>65535</th>\n",
       "      <td>65535</td>\n",
       "      <td>1111111111111111</td>\n",
       "      <td>10.125899</td>\n",
       "      <td>10.084762</td>\n",
       "      <td>10.105330</td>\n",
       "      <td>0.020568</td>\n",
       "      <td>9.165924</td>\n",
       "      <td>9.150132</td>\n",
       "      <td>9.158028</td>\n",
       "      <td>0.007896</td>\n",
       "      <td>...</td>\n",
       "      <td>True</td>\n",
       "      <td>True</td>\n",
       "      <td>True</td>\n",
       "      <td>True</td>\n",
       "      <td>True</td>\n",
       "      <td>True</td>\n",
       "      <td>True</td>\n",
       "      <td>True</td>\n",
       "      <td>True</td>\n",
       "      <td>9.631679</td>\n",
       "    </tr>\n",
       "  </tbody>\n",
       "</table>\n",
       "<p>65536 rows × 48 columns</p>\n",
       "</div>"
      ],
      "text/plain": [
       "       variant_int              geno     repa_x     repb_x  MA90_log10Kd  \\\n",
       "0                0  0000000000000000   8.612721   8.472320      8.542521   \n",
       "1                1  0000000000000001   8.631980   8.516378      8.574179   \n",
       "2                2  0000000000000010   8.340245   8.290790      8.315518   \n",
       "3                3  0000000000000011   8.511183   8.436571      8.473877   \n",
       "4                4  0000000000000100   8.552056   8.523392      8.537724   \n",
       "...            ...               ...        ...        ...           ...   \n",
       "65531        65531  1111111111111011  10.103725  10.109438     10.106582   \n",
       "65532        65532  1111111111111100  10.092798  10.039002     10.065900   \n",
       "65533        65533  1111111111111101  10.114984  10.152478     10.133731   \n",
       "65534        65534  1111111111111110   9.969711   9.965975      9.967843   \n",
       "65535        65535  1111111111111111  10.125899  10.084762     10.105330   \n",
       "\n",
       "       MA90_stelog10Kd    repa_y    repb_y  SI06_log10Kd  SI06_stelog10Kd  \\\n",
       "0             0.070200  6.000000  6.000000      6.000000         0.000000   \n",
       "1             0.057801  6.000000  6.000000      6.000000         0.000000   \n",
       "2             0.024727  6.000000  6.000000      6.000000         0.000000   \n",
       "3             0.037306  6.000000  6.000000      6.000000         0.000000   \n",
       "4             0.014332  6.000000  6.000000      6.000000         0.000000   \n",
       "...                ...       ...       ...           ...              ...   \n",
       "65531         0.002856  9.173063  9.109244      9.141153         0.031909   \n",
       "65532         0.026898  8.775637  8.804350      8.789993         0.014357   \n",
       "65533         0.018747  8.985615  9.035222      9.010419         0.024804   \n",
       "65534         0.001868  8.578370  8.672535      8.625453         0.047082   \n",
       "65535         0.020568  9.165924  9.150132      9.158028         0.007896   \n",
       "\n",
       "       ...  mutation_8  mutation_9  mutation_10  mutation_11  mutation_12  \\\n",
       "0      ...       False       False        False        False        False   \n",
       "1      ...       False       False        False        False        False   \n",
       "2      ...       False       False        False        False        False   \n",
       "3      ...       False       False        False        False        False   \n",
       "4      ...       False       False        False        False        False   \n",
       "...    ...         ...         ...          ...          ...          ...   \n",
       "65531  ...        True        True         True         True         True   \n",
       "65532  ...        True        True         True         True         True   \n",
       "65533  ...        True        True         True         True         True   \n",
       "65534  ...        True        True         True         True         True   \n",
       "65535  ...        True        True         True         True         True   \n",
       "\n",
       "       mutation_13  mutation_14  mutation_15  mutation_16  mixed_log10Kd  \n",
       "0            False        False        False        False       7.271260  \n",
       "1            False        False        False         True       7.287090  \n",
       "2            False        False         True        False       7.157759  \n",
       "3            False        False         True         True       7.236939  \n",
       "4            False         True        False        False       7.268862  \n",
       "...            ...          ...          ...          ...            ...  \n",
       "65531         True        False         True         True       9.623867  \n",
       "65532         True         True        False        False       9.427947  \n",
       "65533         True         True        False         True       9.572075  \n",
       "65534         True         True         True        False       9.296648  \n",
       "65535         True         True         True         True       9.631679  \n",
       "\n",
       "[65536 rows x 48 columns]"
      ]
     },
     "execution_count": 38,
     "metadata": {},
     "output_type": "execute_result"
    }
   ],
   "source": [
    "# read dataframe\n",
    "df = pd.read_csv(f\"../../Kd_Inference/results_CH65/Kd_processed/20220603_CH65_QCfilt_REPfilt.csv\", dtype={\"geno\":\"str\"})\n",
    "df = df.rename(columns={\"MA90_mean\": \"MA90_log10Kd\", \"SI06_mean\": \"SI06_log10Kd\",\n",
    "                        \"MA90_sem\": \"MA90_stelog10Kd\", \"SI06_sem\": \"SI06_stelog10Kd\"})\n",
    "\n",
    "# convert genotypes to integers and sort accordingly    \n",
    "df[\"variant_int\"] = df.geno.apply(lambda x: int(x, 2))\n",
    "df = df.set_index(\"variant_int\").reindex(range(0, 2**L)).reset_index()\n",
    "\n",
    "for ii in range(L):\n",
    "    df[f\"mutation_{ii+1}\"] = df.geno.str[ii] == '1'\n",
    "      \n",
    "# get average Kd for mixed scenarios    \n",
    "df['mixed_log10Kd'] = df[[f\"{a}_log10Kd\" for a in antigens]].mean(axis=1)\n",
    "df"
   ]
  },
  {
   "cell_type": "markdown",
   "metadata": {},
   "source": [
    "## Define selection model"
   ]
  },
  {
   "cell_type": "code",
   "execution_count": 39,
   "metadata": {},
   "outputs": [],
   "source": [
    "def fixation_probability_moderate(fitness_s,fitness_t,Npop,gamma):\n",
    "    if np.isnan(fitness_s) or np.isnan(fitness_t):\n",
    "        pval = 0.0\n",
    "    else:\n",
    "        delta = fitness_t - fitness_s\n",
    "        if delta == 0.0:\n",
    "            pval = 1.0/Npop\n",
    "        else:\n",
    "            # avoid overflow errors\n",
    "            if gamma*delta > 100:\n",
    "                pval = 1\n",
    "            elif Npop*gamma*delta < -100:\n",
    "                pval = 0\n",
    "            elif Npop*gamma*delta > 100:\n",
    "                pval = (1 - np.exp(-gamma*delta))\n",
    "            else:\n",
    "                pval = ((1 - np.exp(-gamma*delta))/(1 - np.exp(-Npop*gamma*delta)))\n",
    "    return pval\n",
    "\n",
    "def log_fixation_probability_moderate(fitness_s,fitness_t,Npop,gamma):\n",
    "    if np.isnan(fitness_s) or np.isnan(fitness_t):\n",
    "        pval = 0.0\n",
    "    else:\n",
    "        delta = fitness_t - fitness_s\n",
    "        if delta == 0.0:\n",
    "            pval = np.log(1.0/Npop)\n",
    "        else:\n",
    "            # avoid overflow errors\n",
    "            if gamma*delta > 100:\n",
    "                pval = np.log(1)\n",
    "            elif Npop*gamma*delta < -100:\n",
    "                pval = -gamma*delta + Npop*gamma*delta\n",
    "            elif Npop*gamma*delta > 100:\n",
    "                pval = np.log((1 - np.exp(-gamma*delta)))\n",
    "            else:\n",
    "                pval = np.log(((1 - np.exp(-gamma*delta))/(1 - np.exp(-Npop*gamma*delta))))\n",
    "    return pval\n",
    "    \n",
    "    \n",
    "def fixation_probability_binary(s,fitness_s,fitness_t):\n",
    "    if np.isnan(fitness_s) or np.isnan(fitness_t):\n",
    "        pval = 0.0\n",
    "    elif (fitness_t-fitness_s) > 0:\n",
    "        pval = 1.0\n",
    "    else:\n",
    "        pval = 0.0\n",
    "    return pval\n"
   ]
  },
  {
   "cell_type": "markdown",
   "metadata": {},
   "source": [
    "## Calculate transition probabilities"
   ]
  },
  {
   "cell_type": "code",
   "execution_count": 40,
   "metadata": {},
   "outputs": [
    {
     "data": {
      "application/vnd.jupyter.widget-view+json": {
       "model_id": "11111c1b29ec4719b6b519fa22e84426",
       "version_major": 2,
       "version_minor": 0
      },
      "text/plain": [
       "  0%|          | 0/10 [00:00<?, ?it/s]"
      ]
     },
     "metadata": {},
     "output_type": "display_data"
    }
   ],
   "source": [
    "Nbootstrap = 10\n",
    "\n",
    "# Create the transition matrix between variant, depending on context\n",
    "pmut = {}\n",
    "for nb in tqdm(range(Nbootstrap)):\n",
    "    for ag in antigens + [\"mixed\"]:\n",
    "        pmut[ag, nb] = dok_matrix((2**L, 2**L), dtype=np.float64)\n",
    "        if ag != \"mixed\":\n",
    "            fitnesses = np.random.normal(\n",
    "                        (df[f\"{ag}_log10Kd\"]).values.astype('float32'),\n",
    "                        (df[f\"{ag}_stelog10Kd\"]).values.astype('float32'))\n",
    "        else:\n",
    "            fitnesses = sum([np.random.normal(\n",
    "                        (df[f\"{aa}_log10Kd\"]).values.astype('float32'),\n",
    "                        (df[f\"{aa}_stelog10Kd\"]).values.astype('float32')) for aa in antigens])/len(antigens)\n",
    "        \n",
    "        for s in sequences_int:\n",
    "            tot = 0\n",
    "            for t in reachable(s, L):\n",
    "                if is_intermediate and t != INTERMEDIATE and nb_mutation(t) == nb_mutation(INTERMEDIATE):\n",
    "                    pmut[ag, nb][s, t] = 0\n",
    "                else:\n",
    "                    if model == 'strong':\n",
    "                        pmut[ag, nb][s, t] = fixation_probability_binary(s,fitnesses[s],fitnesses[t])\n",
    "                    else:  \n",
    "                        pmut[ag, nb][s, t] = fixation_probability_moderate(fitnesses[s],fitnesses[t],N,gamma)\n",
    "\n",
    "        ### change format for something that can deal with multiplications\n",
    "        pmut[ag, nb].tocsr()"
   ]
  },
  {
   "cell_type": "code",
   "execution_count": 41,
   "metadata": {},
   "outputs": [
    {
     "data": {
      "application/vnd.jupyter.widget-view+json": {
       "model_id": "7603737a3efb407083d3cf8199bcda9b",
       "version_major": 2,
       "version_minor": 0
      },
      "text/plain": [
       "  0%|          | 0/33 [00:00<?, ?it/s]"
      ]
     },
     "metadata": {},
     "output_type": "display_data"
    }
   ],
   "source": [
    "### compute for every context\n",
    "all_contexts = set()\n",
    "for order in itertools.permutations(antigens):\n",
    "    for a in itertools.combinations_with_replacement(order, L):\n",
    "        all_contexts.add(a)\n",
    "all_contexts.add(tuple([\"mixed\"]*L))\n",
    "\n",
    "proba = defaultdict(list)\n",
    "for context in tqdm(all_contexts):\n",
    "    for nb in range(Nbootstrap):\n",
    "        P = pmut[context[0], nb][0, :] # start vector\n",
    "        for c in context[1:]:\n",
    "            P = P@pmut[c, nb]\n",
    "        proba[context] += [P[0, 2**L - 1]]\n",
    "\n",
    "# write data to file\n",
    "with open(f'likelihoods_'+antibody+'_'+model+'.csv','w') as writefile:\n",
    "    proba_writer = csv.writer(writefile)\n",
    "    for key in proba.keys():\n",
    "        list_to_write = [x for x in key] + [x for x in proba[key]]\n",
    "        proba_writer.writerow(list_to_write)\n",
    "    writefile.close()\n"
   ]
  },
  {
   "cell_type": "code",
   "execution_count": 42,
   "metadata": {},
   "outputs": [
    {
     "data": {
      "application/vnd.jupyter.widget-view+json": {
       "model_id": "d9e03d40af184fcf8f0dba86db078177",
       "version_major": 2,
       "version_minor": 0
      },
      "text/plain": [
       "  0%|          | 0/1000 [00:00<?, ?it/s]"
      ]
     },
     "metadata": {},
     "output_type": "display_data"
    },
    {
     "name": "stdout",
     "output_type": "stream",
     "text": [
      "1.6731512081317794e-08 6.512010037740339e-08\n"
     ]
    }
   ],
   "source": [
    "# draw random contexts\n",
    "num_random_contexts = 1000\n",
    "random_contexts = []\n",
    "for i in range(num_random_contexts):\n",
    "    random_contexts.append(np.random.choice(antigens,size=L))\n",
    "        \n",
    "proba_random = np.zeros((num_random_contexts,Nbootstrap))\n",
    "for i in tqdm(range(num_random_contexts)):\n",
    "    context = random_contexts[i]\n",
    "    for nb in range(Nbootstrap):\n",
    "        P = pmut[context[0], nb][0, :] # start vector\n",
    "        for c in context[1:]:\n",
    "            P = P@pmut[c, nb]\n",
    "        proba_random[i,nb] += [P[0, 2**L - 1]]\n",
    "        \n",
    "proba_random_mean = np.mean(np.mean(proba_random,axis=1),axis=0)\n",
    "proba_random_std = np.std(np.std(proba_random,axis=1))\n",
    "print(proba_random_mean,proba_random_std)\n",
    "\n",
    "# write data to file\n",
    "with open(f'likelihoods_'+antibody+'_'+model+'_random.csv','w') as writefile:\n",
    "    proba_writer = csv.writer(writefile)\n",
    "    for i in range(len(proba_random)):\n",
    "        list_to_write = [x for x in random_contexts[i]] + [x for x in proba_random[i]]\n",
    "        proba_writer.writerow(list_to_write)\n",
    "    writefile.close()\n",
    "\n"
   ]
  },
  {
   "cell_type": "markdown",
   "metadata": {},
   "source": [
    "## Recalculate normalized probabilities for selected contexts (no bootstrapping)"
   ]
  },
  {
   "cell_type": "code",
   "execution_count": 43,
   "metadata": {},
   "outputs": [],
   "source": [
    "proba_from_file = defaultdict(list)\n",
    "with open(f'likelihoods_'+antibody+'_'+model+'.csv','r') as readfile:\n",
    "    proba_reader = csv.reader(readfile)\n",
    "    for row in proba_reader:\n",
    "        key = tuple(row[:L])\n",
    "        value = [float(x) for x in row[L:]]\n",
    "        proba_from_file[key] = value\n",
    "    readfile.close()\n",
    "\n",
    "num_random_contexts = 1000\n",
    "proba_random_from_file = np.zeros((num_random_contexts,Nbootstrap))\n",
    "contexts_random_from_file = []\n",
    "with open(f'likelihoods_'+antibody+'_'+model+'_random.csv','r') as readfile:\n",
    "    proba_reader = csv.reader(readfile)\n",
    "    i = 0\n",
    "    for row in proba_reader:\n",
    "        key = tuple(row[:L])\n",
    "        contexts_random_from_file.append(key)\n",
    "        value = [float(x) for x in row[L:]]   \n",
    "        proba_random_from_file[i] = value\n",
    "        i += 1\n",
    "    readfile.close()"
   ]
  },
  {
   "cell_type": "code",
   "execution_count": 44,
   "metadata": {},
   "outputs": [
    {
     "name": "stdout",
     "output_type": "stream",
     "text": [
      "20922789888000\n",
      "4.6933973273809774e-27\n",
      "4.208404741542963e-27\n"
     ]
    }
   ],
   "source": [
    "print(math.factorial(L))\n",
    "print(np.mean(proba_from_file[tuple([\"MA90\"]*L)])/math.factorial(L))\n",
    "print(np.std(proba_from_file[tuple([\"MA90\"]*L)],ddof=1)/math.factorial(L))"
   ]
  },
  {
   "cell_type": "code",
   "execution_count": 45,
   "metadata": {},
   "outputs": [
    {
     "data": {
      "application/vnd.jupyter.widget-view+json": {
       "model_id": "38113e501cb0408a9794fb398452633f",
       "version_major": 2,
       "version_minor": 0
      },
      "text/plain": [
       "  0%|          | 0/65536 [00:00<?, ?it/s]"
      ]
     },
     "metadata": {},
     "output_type": "display_data"
    },
    {
     "data": {
      "application/vnd.jupyter.widget-view+json": {
       "model_id": "d185d382e6334c20a45103b4a9fd17aa",
       "version_major": 2,
       "version_minor": 0
      },
      "text/plain": [
       "  0%|          | 0/65536 [00:00<?, ?it/s]"
      ]
     },
     "metadata": {},
     "output_type": "display_data"
    },
    {
     "data": {
      "application/vnd.jupyter.widget-view+json": {
       "model_id": "eb49e491e77e4d4aa6cbe8116eec1e7e",
       "version_major": 2,
       "version_minor": 0
      },
      "text/plain": [
       "  0%|          | 0/65536 [00:00<?, ?it/s]"
      ]
     },
     "metadata": {},
     "output_type": "display_data"
    },
    {
     "data": {
      "application/vnd.jupyter.widget-view+json": {
       "model_id": "09478662a9a0444a90d63f63e609e2f1",
       "version_major": 2,
       "version_minor": 0
      },
      "text/plain": [
       "  0%|          | 0/65536 [00:00<?, ?it/s]"
      ]
     },
     "metadata": {},
     "output_type": "display_data"
    },
    {
     "data": {
      "application/vnd.jupyter.widget-view+json": {
       "model_id": "e888b812e4144ebc8d527fcfc09d1e9b",
       "version_major": 2,
       "version_minor": 0
      },
      "text/plain": [
       "  0%|          | 0/65536 [00:00<?, ?it/s]"
      ]
     },
     "metadata": {},
     "output_type": "display_data"
    },
    {
     "data": {
      "application/vnd.jupyter.widget-view+json": {
       "model_id": "b835962b43444c489cb0a60e00962fbb",
       "version_major": 2,
       "version_minor": 0
      },
      "text/plain": [
       "  0%|          | 0/65536 [00:00<?, ?it/s]"
      ]
     },
     "metadata": {},
     "output_type": "display_data"
    }
   ],
   "source": [
    "import pickle\n",
    "# Calculate normalized transition matrices \n",
    "pmut_unnormed = {}\n",
    "pmut_normed = {}\n",
    "for ag in antigens+['mixed']:\n",
    "    pmut_unnormed[ag] = dok_matrix((2**L, 2**L), dtype=np.float64)\n",
    "    fitnesses = df[f\"{ag}_log10Kd\"].values.astype('float32')\n",
    "    \n",
    "    for s in tqdm(sequences_int):\n",
    "        for t in reachable(s, L):\n",
    "            if is_intermediate and t != INTERMEDIATE and nb_mutation(t) == nb_mutation(INTERMEDIATE):\n",
    "                pmut_unnormed[ag][s, t] = 0\n",
    "            else:\n",
    "                if model == 'strong':\n",
    "                    pmut_unnormed[ag][s, t] = fixation_probability_binary(s,fitnesses[s],fitnesses[t])\n",
    "                else:  \n",
    "                    pmut_unnormed[ag][s, t] = fixation_probability_moderate(fitnesses[s],fitnesses[t],N,gamma)\n",
    "\n",
    "    pmut_normed[ag] = pmut_unnormed[ag].copy()\n",
    "    spmut = pmut_unnormed[ag].sum(axis=1)\n",
    "    for s in tqdm(sequences_int):\n",
    "        # if we are at a local maximum, and N/γ are large enough, the fixation probability\n",
    "        # can be too low to be measured by the fixation_probability_moderate function for all\n",
    "        # the reachable sites.\n",
    "        # this is a problem because of the normalisation\n",
    "        # the solution is to compute it explicitely in these specific case\n",
    "        if spmut[s] == 0 and s != 2**L - 1:\n",
    "            lps = {}\n",
    "            for t in reachable(s, L):\n",
    "                if is_intermediate and t != INTERMEDIATE and nb_mutation(t) == nb_mutation(INTERMEDIATE):\n",
    "                    lps[t] = -np.inf\n",
    "                else:\n",
    "                    lps[t] = log_fixation_probability_moderate(fitnesses[s],fitnesses[t],N,gamma)\n",
    "            mp = max(lps.values()) # remove the max to get into reasonnable value before exponentiation\n",
    "            for t in lps:\n",
    "                if (lps[t] - mp) < -100:\n",
    "                    pmut_normed[ag][s, t] = 0\n",
    "                else:\n",
    "                    if lps[t] <= -np.inf:\n",
    "                        pmut_normed[ag][s, t] = 0\n",
    "                    else:\n",
    "                        pmut_normed[ag][s, t] = np.exp(lps[t] - mp)\n",
    "                    \n",
    "\n",
    "    ### normalize the sparse matrix\n",
    "    pmut_normed[ag].tocsr()\n",
    "    pmut_normed[ag] = normalize(pmut_normed[ag], norm='l1', axis=1)\n",
    "    ### change format for something that can deal with multiplications\n",
    "    pmut_unnormed[ag].tocsr()\n",
    "with open(f\"pmut_normed.pkl\", 'wb') as f:\n",
    "    pickle.dump(pmut_normed, f)\n",
    "with open(f\"pmut_unnormed.pkl\", 'wb') as f:\n",
    "    pickle.dump(pmut_unnormed, f)"
   ]
  },
  {
   "cell_type": "code",
   "execution_count": 46,
   "metadata": {},
   "outputs": [
    {
     "name": "stdout",
     "output_type": "stream",
     "text": [
      "617\n",
      "('SI06', 'SI06', 'MA90', 'SI06', 'SI06', 'MA90', 'SI06', 'SI06', 'SI06', 'SI06', 'MA90', 'MA90', 'SI06', 'SI06', 'SI06', 'SI06') -25.187261305715577\n"
     ]
    },
    {
     "data": {
      "image/png": "[encoded data removed]",
      "text/plain": [
       "<Figure size 600x400 with 1 Axes>"
      ]
     },
     "metadata": {
      "needs_background": "light"
     },
     "output_type": "display_data"
    },
    {
     "name": "stdout",
     "output_type": "stream",
     "text": [
      "-25.52286259860282\n",
      "Optimal: ('MA90', 'MA90', 'MA90', 'MA90', 'SI06', 'SI06', 'SI06', 'SI06', 'SI06', 'SI06', 'SI06', 'SI06', 'SI06', 'SI06', 'SI06', 'SI06')\n"
     ]
    }
   ],
   "source": [
    "#find the best and median random contexts\n",
    "random_means = np.mean(proba_random_from_file,axis=1)\n",
    "random_means_sorted = sorted(range(len(random_means)),key = lambda x: random_means[x])\n",
    "median_random_index = random_means_sorted[int(len(random_means)/2)+2] \n",
    "print(median_random_index) #np.log(proba_random[median_random_index]))\n",
    "median_random = contexts_random_from_file[median_random_index]\n",
    "print(median_random,np.log(random_means[median_random_index]))\n",
    "\n",
    "plt.hist(np.log(np.mean(proba_random_from_file,axis=1)))\n",
    "plt.show()\n",
    "print(np.mean(np.log(proba_random_from_file)))\n",
    "\n",
    "# sort other scenarios by likelihood\n",
    "scenarios_sorted = [k for k, v in sorted(proba_from_file.items(), key=lambda item: -np.log(np.mean([a for a in item[1] if a > 1e-80]))) if not all([l == k[0] for l in k])]\n",
    "\n",
    "if antibody == 'CH65':\n",
    "    top_set = scenarios_sorted[:18]\n",
    "    print('Optimal:',top_set[0])  "
   ]
  },
  {
   "cell_type": "code",
   "execution_count": 47,
   "metadata": {},
   "outputs": [],
   "source": [
    "if antibody == \"CH65\":\n",
    "    antigen_contexts = { \"optimal\": [\"MA90\"]*4 + [\"SI06\"]*12,\n",
    "                            \"MA90alone\": [\"MA90\"]*16,  \n",
    "                         \"SI06alone\": [\"SI06\"]*16,\n",
    "                         \"mixed\": [\"mixed\"]*16,\n",
    "                           \"random_median\": median_random}"
   ]
  },
  {
   "cell_type": "markdown",
   "metadata": {},
   "source": [
    "## Compute mutation order"
   ]
  },
  {
   "cell_type": "code",
   "execution_count": 48,
   "metadata": {},
   "outputs": [
    {
     "data": {
      "application/vnd.jupyter.widget-view+json": {
       "model_id": "8b1bef5535f14b91a7c4404360575e49",
       "version_major": 2,
       "version_minor": 0
      },
      "text/plain": [
       "  0%|          | 0/5 [00:00<?, ?it/s]"
      ]
     },
     "metadata": {},
     "output_type": "display_data"
    }
   ],
   "source": [
    "\n",
    "for ac in tqdm(antigen_contexts):\n",
    "    ## precompute the transition probability matrix to every power\n",
    "    ## pmut_power[s, e] is the product of all normed matrix between s and e (excluded)\n",
    "    pmut_power = {}\n",
    "    for s in range(L+1):\n",
    "        for e in range(s, L+1):\n",
    "            pmut_power[s, e] = pmut_normed[antigen_contexts[ac][0]]**0 #identity matrix\n",
    "            for j in range(s, e):\n",
    "                pmut_power[s, e] = pmut_power[s, e]@pmut_normed[antigen_contexts[ac][j]]\n",
    "                \n",
    "    ## compute the matrix that force the mutation to be mut\n",
    "    force_mut = {}\n",
    "    for mut in range(L):\n",
    "        for i in range(L):\n",
    "            force_mut[(i,mut)] = dok_matrix((2**L, 2**L), dtype=np.float64)\n",
    "        \n",
    "        for s in sequences_int[:-1]:\n",
    "            nb_mut = nb_mutation(s)\n",
    "            t = mutation(s, mut, L)\n",
    "            force_mut[(nb_mut,mut)][s, t] = pmut_normed[antigen_contexts[ac][nb_mut]][s, t]\n",
    "        \n",
    "    ## compute probabilities\n",
    "    proba = np.zeros((L, L))\n",
    "    for mut in range(L):\n",
    "        for t in range(L):\n",
    "            proba[mut, t] = (pmut_power[0, t] @ force_mut[(t,mut)] @ pmut_power[t+1, L])[0, 2**L - 1]\n",
    "\n",
    "    ## print results to file\n",
    "    if antibody == 'CH65':\n",
    "        proba_df = pd.DataFrame(proba,columns=\n",
    "                        [\"Order 1\",\"Order 2\",\"Order 3\",\"Order 4\",\"Order 5\",\"Order 6\",\n",
    "                         \"Order 7\",\"Order 8\",\"Order 9\",\"Order 10\",\"Order 11\",\"Order 12\",\n",
    "                        \"Order 13\",\"Order 14\",\"Order 15\",\"Order 16\"])\n",
    "        proba_df['Mutation'] = [\"Mut 1\",\"Mut 2\",\"Mut 3\",\"Mut 4\",\"Mut 5\",\"Mut 6\",\n",
    "                       \"Mut 7\",\"Mut 8\",\"Mut 9\",\"Mut 10\",\"Mut 11\",\n",
    "                       \"Mut 12\",\"Mut 13\",\"Mut 14\",\"Mut 15\",\"Mut 16\"] \n",
    "        proba_df.to_csv(f\"CH65_probability_\"+str(ac)+\"_\"+model+\".csv\",index=False)"
   ]
  },
  {
   "cell_type": "markdown",
   "metadata": {},
   "source": [
    "## Output best paths"
   ]
  },
  {
   "cell_type": "code",
   "execution_count": 49,
   "metadata": {},
   "outputs": [
    {
     "data": {
      "application/vnd.jupyter.widget-view+json": {
       "model_id": "55e3684317144135858c96c25f54cdeb",
       "version_major": 2,
       "version_minor": 0
      },
      "text/plain": [
       "  0%|          | 0/5 [00:00<?, ?it/s]"
      ]
     },
     "metadata": {},
     "output_type": "display_data"
    }
   ],
   "source": [
    "# make directed weighted graph\n",
    "\n",
    "# store fitnesses as dict\n",
    "fitnesses = {}\n",
    "for a in antigens+['mixed']:\n",
    "    fitnesses[a] = (df.set_index(\"variant_int\")[f\"{a}_log10Kd\"]).to_dict()\n",
    "\n",
    "df[\"nb_mutation\"] = df.variant_int.apply(nb_mutation)\n",
    "\n",
    "# choose number of best paths to store\n",
    "num_best_paths = 25\n",
    "best_paths = {}\n",
    "\n",
    "for ac in tqdm(antigen_contexts):\n",
    "    # (re) create the graph with networkx (as a directed graph)\n",
    "    G = nx.DiGraph()\n",
    "    G.add_nodes_from(sequences_int)\n",
    "    G.add_weighted_edges_from([(s, t,  ## source, target\n",
    "                                -np.log(1e-100 + pmut_normed[antigen_contexts[ac][nb_mutation(s)]][s, t])  # weight\n",
    "                               ) \n",
    "                      for s in sequences_int\n",
    "                      for t in reachable(s, L)])\n",
    "    \n",
    "    if is_intermediate:\n",
    "        for s in sequences_int:\n",
    "            if s != INTERMEDIATE and nb_mutation(s) == nb_mut_int:\n",
    "               G.remove_node(s)\n",
    "    \n",
    "    # compute the k shortest paths, for which ∑ -log(p) is smallest => max likelihood\n",
    "    best_paths[ac] = np.empty((num_best_paths,L+1),dtype=int)\n",
    "    i = 0\n",
    "    for path in k_shortest_paths(G, 0, 2**L-1,num_best_paths,weight='weight'):\n",
    "        best_paths[ac][i] = path\n",
    "        i += 1\n",
    "        \n",
    "with open(f\"best_paths.pkl\", 'wb') as f:\n",
    "    pickle.dump(best_paths, f)"
   ]
  },
  {
   "cell_type": "markdown",
   "metadata": {},
   "source": [
    "## Compute uphill paths"
   ]
  },
  {
   "cell_type": "code",
   "execution_count": 50,
   "metadata": {},
   "outputs": [
    {
     "data": {
      "application/vnd.jupyter.widget-view+json": {
       "model_id": "16f6c1f29f5d4108a790b8c7f4b0ca9b",
       "version_major": 2,
       "version_minor": 0
      },
      "text/plain": [
       "  0%|          | 0/10 [00:00<?, ?it/s]"
      ]
     },
     "metadata": {},
     "output_type": "display_data"
    },
    {
     "data": {
      "application/vnd.jupyter.widget-view+json": {
       "model_id": "e71d202910294521ae55337a3f2cce2b",
       "version_major": 2,
       "version_minor": 0
      },
      "text/plain": [
       "  0%|          | 0/10 [00:00<?, ?it/s]"
      ]
     },
     "metadata": {},
     "output_type": "display_data"
    },
    {
     "data": {
      "application/vnd.jupyter.widget-view+json": {
       "model_id": "fd3ee399dfad41eeb9c5de7b8d31c61e",
       "version_major": 2,
       "version_minor": 0
      },
      "text/plain": [
       "  0%|          | 0/10 [00:00<?, ?it/s]"
      ]
     },
     "metadata": {},
     "output_type": "display_data"
    },
    {
     "data": {
      "application/vnd.jupyter.widget-view+json": {
       "model_id": "b90f8d83085a48ad91f85b8c1591c780",
       "version_major": 2,
       "version_minor": 0
      },
      "text/plain": [
       "  0%|          | 0/10 [00:00<?, ?it/s]"
      ]
     },
     "metadata": {},
     "output_type": "display_data"
    },
    {
     "data": {
      "application/vnd.jupyter.widget-view+json": {
       "model_id": "a4e788e2d48d4170bc41050486e987c9",
       "version_major": 2,
       "version_minor": 0
      },
      "text/plain": [
       "  0%|          | 0/10 [00:00<?, ?it/s]"
      ]
     },
     "metadata": {},
     "output_type": "display_data"
    },
    {
     "data": {
      "application/vnd.jupyter.widget-view+json": {
       "model_id": "bcd4641ffaf548daad5047f7c73c8240",
       "version_major": 2,
       "version_minor": 0
      },
      "text/plain": [
       "  0%|          | 0/10 [00:00<?, ?it/s]"
      ]
     },
     "metadata": {},
     "output_type": "display_data"
    },
    {
     "name": "stdout",
     "output_type": "stream",
     "text": [
      "optimal: 1.3e+07 ± 5.8e+06\n",
      "MA90alone: 3.2e+06 ± 1.4e+06\n",
      "SI06alone: 0.0 ± 0.0\n",
      "mixed: 2.2e+07 ± 8.4e+06\n",
      "random_median: 0.0 ± 0.0\n"
     ]
    }
   ],
   "source": [
    "## number of only increasing path\n",
    "\n",
    "## create pmut matrix \n",
    "Nbootstrap = 10\n",
    "# Create the transition matrix between variant, depending on context\n",
    "pmut = {}\n",
    "for nb in tqdm(range(Nbootstrap)):\n",
    "    for ag in antigens + [\"mixed\"]:\n",
    "        pmut[ag, nb] = dok_matrix((2**L, 2**L), dtype=np.float64)\n",
    "        if ag != \"mixed\":\n",
    "            fitnesses = np.random.normal(\n",
    "                        (df[f\"{ag}_log10Kd\"]).values.astype('float32'),\n",
    "                        (df[f\"{ag}_stelog10Kd\"]).values.astype('float32'))\n",
    "        else:\n",
    "            fitnesses = sum([np.random.normal(\n",
    "                        (df[f\"{aa}_log10Kd\"]).values.astype('float32'),\n",
    "                        (df[f\"{aa}_stelog10Kd\"]).values.astype('float32')) for aa in antigens])/len(antigens)\n",
    "        \n",
    "        for s in sequences_int:\n",
    "            tot = 0\n",
    "            for t in reachable(s, L):\n",
    "                if is_intermediate and t != INTERMEDIATE and nb_mutation(t) == nb_mutation(INTERMEDIATE):\n",
    "                    pmut[ag, nb][s, t] = 0\n",
    "                else:\n",
    "                    pmut[ag, nb][s, t] = fixation_probability_binary(s,fitnesses[s],fitnesses[t])\n",
    "        ### change format for something that can deal with multiplications\n",
    "        pmut[ag, nb].tocsr()\n",
    "        \n",
    "path_increasing = {}\n",
    "for ac in antigen_contexts:\n",
    "    path_increasing[ac] = []\n",
    "    for nb in tqdm(range(Nbootstrap)):\n",
    "        mat = pmut[antigen_contexts[ac][0], 0]**0\n",
    "        for ag in antigen_contexts[ac]:\n",
    "            mat = mat@pmut[ag, nb]\n",
    "        path_increasing[ac] += [mat[0, 2**L-1]]\n",
    "        \n",
    "for ac in path_increasing:\n",
    "    print(f\"{ac}: {np.mean(path_increasing[ac]):.2} ± {np.std(path_increasing[ac]):.2}\")  "
   ]
  },
  {
   "cell_type": "code",
   "execution_count": null,
   "metadata": {},
   "outputs": [],
   "source": []
  },
  {
   "cell_type": "code",
   "execution_count": null,
   "metadata": {},
   "outputs": [],
   "source": []
  }
 ],
 "metadata": {
  "kernelspec": {
   "display_name": "Python 3",
   "language": "python",
   "name": "python3"
  },
  "language_info": {
   "codemirror_mode": {
    "name": "ipython",
    "version": 3
   },
   "file_extension": ".py",
   "mimetype": "text/x-python",
   "name": "python",
   "nbconvert_exporter": "python",
   "pygments_lexer": "ipython3",
   "version": "3.8.8"
  }
 },
 "nbformat": 4,
 "nbformat_minor": 4
}
