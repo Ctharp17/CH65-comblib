{
 "cells": [
  {
   "cell_type": "code",
   "execution_count": 2,
   "metadata": {},
   "outputs": [],
   "source": [
    "import numpy as np\n",
    "import pandas as pd\n",
    "import matplotlib.pyplot as plt\n",
    "import matplotlib as mpl\n",
    "import seaborn as sns\n",
    "from collections import defaultdict\n",
    "from scipy.sparse import dok_matrix, csr_matrix\n",
    "from sklearn.preprocessing import normalize\n",
    "import networkx as nx\n",
    "import itertools\n",
    "from itertools import islice\n",
    "from tqdm.notebook import tqdm\n",
    "from matplotlib.patches import Patch\n",
    "import scipy as sp\n",
    "import math\n",
    "import csv\n",
    "from collections import OrderedDict\n",
    "import sys\n",
    "\n",
    "\n",
    "#### antibody choice ####\n",
    "antibody = \"CH65\"\n",
    "antigens = [\"MA90\", \"SI06\"]\n",
    "L = 16\n",
    "sequences_int = range(2**L)\n",
    "\n",
    "\n",
    "#### selection model choice ####\n",
    "#model = 'strong'\n",
    "model = 'moderate'\n",
    "#model = 'weak'\n",
    "################################\n",
    "\n",
    "if model == 'moderate':\n",
    "    N = 1000\n",
    "    gamma = 1.0\n",
    "elif model == 'weak':\n",
    "    N = 20\n",
    "    gamma = 0.5\n",
    "\n",
    "Nbootstrap = 10\n",
    "\n",
    "\n",
    "# define some functions\n",
    "def mutation(s, ii, L):\n",
    "    \"\"\" Return the sequence (in int format) with base s,\n",
    "        with a somatic mutation at pos ii \"\"\"\n",
    "    return s | 2**(L-1-ii)\n",
    "\n",
    "def nb_mutation(s):\n",
    "    \"\"\" Number of mutations in variant s \"\"\"\n",
    "    return bin(s).count(\"1\")\n",
    "\n",
    "def reachable(s, L):\n",
    "    return [(s | 2**ii) for ii in range(L) if (s | 2**ii) > s]\n",
    "\n",
    "def k_shortest_paths(G, source, target, k, weight=None):\n",
    "    return list(\n",
    "        islice(nx.shortest_simple_paths(G, source, target, weight=weight), k)\n",
    "    )\n",
    "def truncate_colormap(cmap, minval=0.0, maxval=1.0, n=100):\n",
    "    new_cmap = colors.LinearSegmentedColormap.from_list(\n",
    "        'trunc({n},{a:.2f},{b:.2f})'.format(n=cmap.name, a=minval, b=maxval),\n",
    "        cmap(np.linspace(minval, maxval, n)))\n",
    "    return new_cmap\n",
    "\n",
    "\n",
    "#can add a constraint to pass thru intermediate here\n",
    "# example\n",
    "is_intermediate = False\n",
    "INTERMEDIATE = int('0000001010100000', 2)\n",
    "nb_mut_int = nb_mutation(INTERMEDIATE)\n",
    "force_intermediate = dok_matrix((2**L, 2**L), dtype=np.float64)\n",
    "for mut in range(L):\n",
    "    t = mutation(INTERMEDIATE, mut, L)\n",
    "    force_intermediate[INTERMEDIATE, t] = 1\n",
    "    \n",
    "\n",
    "# define data and image folder\n",
    "data = \"\"\n",
    "img = \"\"\n",
    "##############################"
   ]
  },
  {
   "cell_type": "markdown",
   "metadata": {},
   "source": [
    "## Load data"
   ]
  },
  {
   "cell_type": "code",
   "execution_count": 3,
   "metadata": {},
   "outputs": [
    {
     "data": {
      "text/html": [
       "<div>\n",
       "<style scoped>\n",
       "    .dataframe tbody tr th:only-of-type {\n",
       "        vertical-align: middle;\n",
       "    }\n",
       "\n",
       "    .dataframe tbody tr th {\n",
       "        vertical-align: top;\n",
       "    }\n",
       "\n",
       "    .dataframe thead th {\n",
       "        text-align: right;\n",
       "    }\n",
       "</style>\n",
       "<table border=\"1\" class=\"dataframe\">\n",
       "  <thead>\n",
       "    <tr style=\"text-align: right;\">\n",
       "      <th></th>\n",
       "      <th>variant_int</th>\n",
       "      <th>geno</th>\n",
       "      <th>repa_x</th>\n",
       "      <th>repb_x</th>\n",
       "      <th>MA90_log10Kd</th>\n",
       "      <th>MA90_stelog10Kd</th>\n",
       "      <th>repa_y</th>\n",
       "      <th>repb_y</th>\n",
       "      <th>SI06_log10Kd</th>\n",
       "      <th>SI06_stelog10Kd</th>\n",
       "      <th>...</th>\n",
       "      <th>mutation_8</th>\n",
       "      <th>mutation_9</th>\n",
       "      <th>mutation_10</th>\n",
       "      <th>mutation_11</th>\n",
       "      <th>mutation_12</th>\n",
       "      <th>mutation_13</th>\n",
       "      <th>mutation_14</th>\n",
       "      <th>mutation_15</th>\n",
       "      <th>mutation_16</th>\n",
       "      <th>mixed_log10Kd</th>\n",
       "    </tr>\n",
       "  </thead>\n",
       "  <tbody>\n",
       "    <tr>\n",
       "      <th>0</th>\n",
       "      <td>0</td>\n",
       "      <td>0000000000000000</td>\n",
       "      <td>8.608953</td>\n",
       "      <td>8.465614</td>\n",
       "      <td>8.537283</td>\n",
       "      <td>0.041378</td>\n",
       "      <td>6.000000</td>\n",
       "      <td>6.000000</td>\n",
       "      <td>6.000000</td>\n",
       "      <td>0.000000</td>\n",
       "      <td>...</td>\n",
       "      <td>False</td>\n",
       "      <td>False</td>\n",
       "      <td>False</td>\n",
       "      <td>False</td>\n",
       "      <td>False</td>\n",
       "      <td>False</td>\n",
       "      <td>False</td>\n",
       "      <td>False</td>\n",
       "      <td>False</td>\n",
       "      <td>7.268642</td>\n",
       "    </tr>\n",
       "    <tr>\n",
       "      <th>1</th>\n",
       "      <td>1</td>\n",
       "      <td>0000000000000001</td>\n",
       "      <td>8.631288</td>\n",
       "      <td>8.508996</td>\n",
       "      <td>8.570142</td>\n",
       "      <td>0.035303</td>\n",
       "      <td>6.000000</td>\n",
       "      <td>6.000000</td>\n",
       "      <td>6.000000</td>\n",
       "      <td>0.000000</td>\n",
       "      <td>...</td>\n",
       "      <td>False</td>\n",
       "      <td>False</td>\n",
       "      <td>False</td>\n",
       "      <td>False</td>\n",
       "      <td>False</td>\n",
       "      <td>False</td>\n",
       "      <td>False</td>\n",
       "      <td>False</td>\n",
       "      <td>True</td>\n",
       "      <td>7.285071</td>\n",
       "    </tr>\n",
       "    <tr>\n",
       "      <th>2</th>\n",
       "      <td>2</td>\n",
       "      <td>0000000000000010</td>\n",
       "      <td>8.338562</td>\n",
       "      <td>8.302290</td>\n",
       "      <td>8.320426</td>\n",
       "      <td>0.010471</td>\n",
       "      <td>6.000000</td>\n",
       "      <td>6.000000</td>\n",
       "      <td>6.000000</td>\n",
       "      <td>0.000000</td>\n",
       "      <td>...</td>\n",
       "      <td>False</td>\n",
       "      <td>False</td>\n",
       "      <td>False</td>\n",
       "      <td>False</td>\n",
       "      <td>False</td>\n",
       "      <td>False</td>\n",
       "      <td>False</td>\n",
       "      <td>True</td>\n",
       "      <td>False</td>\n",
       "      <td>7.160213</td>\n",
       "    </tr>\n",
       "    <tr>\n",
       "      <th>3</th>\n",
       "      <td>3</td>\n",
       "      <td>0000000000000011</td>\n",
       "      <td>8.512202</td>\n",
       "      <td>8.436925</td>\n",
       "      <td>8.474563</td>\n",
       "      <td>0.021730</td>\n",
       "      <td>6.000000</td>\n",
       "      <td>6.000000</td>\n",
       "      <td>6.000000</td>\n",
       "      <td>0.000000</td>\n",
       "      <td>...</td>\n",
       "      <td>False</td>\n",
       "      <td>False</td>\n",
       "      <td>False</td>\n",
       "      <td>False</td>\n",
       "      <td>False</td>\n",
       "      <td>False</td>\n",
       "      <td>False</td>\n",
       "      <td>True</td>\n",
       "      <td>True</td>\n",
       "      <td>7.237282</td>\n",
       "    </tr>\n",
       "    <tr>\n",
       "      <th>4</th>\n",
       "      <td>4</td>\n",
       "      <td>0000000000000100</td>\n",
       "      <td>8.548888</td>\n",
       "      <td>8.526686</td>\n",
       "      <td>8.537787</td>\n",
       "      <td>0.006409</td>\n",
       "      <td>6.000000</td>\n",
       "      <td>6.000000</td>\n",
       "      <td>6.000000</td>\n",
       "      <td>0.000000</td>\n",
       "      <td>...</td>\n",
       "      <td>False</td>\n",
       "      <td>False</td>\n",
       "      <td>False</td>\n",
       "      <td>False</td>\n",
       "      <td>False</td>\n",
       "      <td>False</td>\n",
       "      <td>True</td>\n",
       "      <td>False</td>\n",
       "      <td>False</td>\n",
       "      <td>7.268894</td>\n",
       "    </tr>\n",
       "    <tr>\n",
       "      <th>...</th>\n",
       "      <td>...</td>\n",
       "      <td>...</td>\n",
       "      <td>...</td>\n",
       "      <td>...</td>\n",
       "      <td>...</td>\n",
       "      <td>...</td>\n",
       "      <td>...</td>\n",
       "      <td>...</td>\n",
       "      <td>...</td>\n",
       "      <td>...</td>\n",
       "      <td>...</td>\n",
       "      <td>...</td>\n",
       "      <td>...</td>\n",
       "      <td>...</td>\n",
       "      <td>...</td>\n",
       "      <td>...</td>\n",
       "      <td>...</td>\n",
       "      <td>...</td>\n",
       "      <td>...</td>\n",
       "      <td>...</td>\n",
       "      <td>...</td>\n",
       "    </tr>\n",
       "    <tr>\n",
       "      <th>65531</th>\n",
       "      <td>65531</td>\n",
       "      <td>1111111111111011</td>\n",
       "      <td>10.098448</td>\n",
       "      <td>10.114716</td>\n",
       "      <td>10.106582</td>\n",
       "      <td>0.004696</td>\n",
       "      <td>9.202041</td>\n",
       "      <td>9.150740</td>\n",
       "      <td>9.176390</td>\n",
       "      <td>0.014809</td>\n",
       "      <td>...</td>\n",
       "      <td>True</td>\n",
       "      <td>True</td>\n",
       "      <td>True</td>\n",
       "      <td>True</td>\n",
       "      <td>True</td>\n",
       "      <td>True</td>\n",
       "      <td>False</td>\n",
       "      <td>True</td>\n",
       "      <td>True</td>\n",
       "      <td>9.641486</td>\n",
       "    </tr>\n",
       "    <tr>\n",
       "      <th>65532</th>\n",
       "      <td>65532</td>\n",
       "      <td>1111111111111100</td>\n",
       "      <td>10.093580</td>\n",
       "      <td>10.035055</td>\n",
       "      <td>10.064317</td>\n",
       "      <td>0.016895</td>\n",
       "      <td>8.735113</td>\n",
       "      <td>8.746048</td>\n",
       "      <td>8.740580</td>\n",
       "      <td>0.003157</td>\n",
       "      <td>...</td>\n",
       "      <td>True</td>\n",
       "      <td>True</td>\n",
       "      <td>True</td>\n",
       "      <td>True</td>\n",
       "      <td>True</td>\n",
       "      <td>True</td>\n",
       "      <td>True</td>\n",
       "      <td>False</td>\n",
       "      <td>False</td>\n",
       "      <td>9.402449</td>\n",
       "    </tr>\n",
       "    <tr>\n",
       "      <th>65533</th>\n",
       "      <td>65533</td>\n",
       "      <td>1111111111111101</td>\n",
       "      <td>10.110953</td>\n",
       "      <td>10.164511</td>\n",
       "      <td>10.137732</td>\n",
       "      <td>0.015461</td>\n",
       "      <td>9.072188</td>\n",
       "      <td>9.001141</td>\n",
       "      <td>9.036665</td>\n",
       "      <td>0.020509</td>\n",
       "      <td>...</td>\n",
       "      <td>True</td>\n",
       "      <td>True</td>\n",
       "      <td>True</td>\n",
       "      <td>True</td>\n",
       "      <td>True</td>\n",
       "      <td>True</td>\n",
       "      <td>True</td>\n",
       "      <td>False</td>\n",
       "      <td>True</td>\n",
       "      <td>9.587198</td>\n",
       "    </tr>\n",
       "    <tr>\n",
       "      <th>65534</th>\n",
       "      <td>65534</td>\n",
       "      <td>1111111111111110</td>\n",
       "      <td>9.973018</td>\n",
       "      <td>9.957465</td>\n",
       "      <td>9.965242</td>\n",
       "      <td>0.004490</td>\n",
       "      <td>8.557659</td>\n",
       "      <td>8.637614</td>\n",
       "      <td>8.597637</td>\n",
       "      <td>0.023081</td>\n",
       "      <td>...</td>\n",
       "      <td>True</td>\n",
       "      <td>True</td>\n",
       "      <td>True</td>\n",
       "      <td>True</td>\n",
       "      <td>True</td>\n",
       "      <td>True</td>\n",
       "      <td>True</td>\n",
       "      <td>True</td>\n",
       "      <td>False</td>\n",
       "      <td>9.281439</td>\n",
       "    </tr>\n",
       "    <tr>\n",
       "      <th>65535</th>\n",
       "      <td>65535</td>\n",
       "      <td>1111111111111111</td>\n",
       "      <td>10.125226</td>\n",
       "      <td>10.081983</td>\n",
       "      <td>10.103604</td>\n",
       "      <td>0.012483</td>\n",
       "      <td>9.125869</td>\n",
       "      <td>9.109146</td>\n",
       "      <td>9.117508</td>\n",
       "      <td>0.004827</td>\n",
       "      <td>...</td>\n",
       "      <td>True</td>\n",
       "      <td>True</td>\n",
       "      <td>True</td>\n",
       "      <td>True</td>\n",
       "      <td>True</td>\n",
       "      <td>True</td>\n",
       "      <td>True</td>\n",
       "      <td>True</td>\n",
       "      <td>True</td>\n",
       "      <td>9.610556</td>\n",
       "    </tr>\n",
       "  </tbody>\n",
       "</table>\n",
       "<p>65536 rows × 48 columns</p>\n",
       "</div>"
      ],
      "text/plain": [
       "       variant_int              geno     repa_x     repb_x  MA90_log10Kd  \\\n",
       "0                0  0000000000000000   8.608953   8.465614      8.537283   \n",
       "1                1  0000000000000001   8.631288   8.508996      8.570142   \n",
       "2                2  0000000000000010   8.338562   8.302290      8.320426   \n",
       "3                3  0000000000000011   8.512202   8.436925      8.474563   \n",
       "4                4  0000000000000100   8.548888   8.526686      8.537787   \n",
       "...            ...               ...        ...        ...           ...   \n",
       "65531        65531  1111111111111011  10.098448  10.114716     10.106582   \n",
       "65532        65532  1111111111111100  10.093580  10.035055     10.064317   \n",
       "65533        65533  1111111111111101  10.110953  10.164511     10.137732   \n",
       "65534        65534  1111111111111110   9.973018   9.957465      9.965242   \n",
       "65535        65535  1111111111111111  10.125226  10.081983     10.103604   \n",
       "\n",
       "       MA90_stelog10Kd    repa_y    repb_y  SI06_log10Kd  SI06_stelog10Kd  \\\n",
       "0             0.041378  6.000000  6.000000      6.000000         0.000000   \n",
       "1             0.035303  6.000000  6.000000      6.000000         0.000000   \n",
       "2             0.010471  6.000000  6.000000      6.000000         0.000000   \n",
       "3             0.021730  6.000000  6.000000      6.000000         0.000000   \n",
       "4             0.006409  6.000000  6.000000      6.000000         0.000000   \n",
       "...                ...       ...       ...           ...              ...   \n",
       "65531         0.004696  9.202041  9.150740      9.176390         0.014809   \n",
       "65532         0.016895  8.735113  8.746048      8.740580         0.003157   \n",
       "65533         0.015461  9.072188  9.001141      9.036665         0.020509   \n",
       "65534         0.004490  8.557659  8.637614      8.597637         0.023081   \n",
       "65535         0.012483  9.125869  9.109146      9.117508         0.004827   \n",
       "\n",
       "       ...  mutation_8  mutation_9  mutation_10  mutation_11  mutation_12  \\\n",
       "0      ...       False       False        False        False        False   \n",
       "1      ...       False       False        False        False        False   \n",
       "2      ...       False       False        False        False        False   \n",
       "3      ...       False       False        False        False        False   \n",
       "4      ...       False       False        False        False        False   \n",
       "...    ...         ...         ...          ...          ...          ...   \n",
       "65531  ...        True        True         True         True         True   \n",
       "65532  ...        True        True         True         True         True   \n",
       "65533  ...        True        True         True         True         True   \n",
       "65534  ...        True        True         True         True         True   \n",
       "65535  ...        True        True         True         True         True   \n",
       "\n",
       "       mutation_13  mutation_14  mutation_15  mutation_16  mixed_log10Kd  \n",
       "0            False        False        False        False       7.268642  \n",
       "1            False        False        False         True       7.285071  \n",
       "2            False        False         True        False       7.160213  \n",
       "3            False        False         True         True       7.237282  \n",
       "4            False         True        False        False       7.268894  \n",
       "...            ...          ...          ...          ...            ...  \n",
       "65531         True        False         True         True       9.641486  \n",
       "65532         True         True        False        False       9.402449  \n",
       "65533         True         True        False         True       9.587198  \n",
       "65534         True         True         True        False       9.281439  \n",
       "65535         True         True         True         True       9.610556  \n",
       "\n",
       "[65536 rows x 48 columns]"
      ]
     },
     "execution_count": 3,
     "metadata": {},
     "output_type": "execute_result"
    }
   ],
   "source": [
    "# read dataframe\n",
    "df = pd.read_csv(f\"../Kd_inference/results_CH65/Kds/Kd_processed/20220430_CH65_filt.csv\", dtype={\"geno\":\"str\"})\n",
    "df = df.rename(columns={\"MA90_mean\": \"MA90_log10Kd\", \"SI06_mean\": \"SI06_log10Kd\",\n",
    "                        \"MA90_sem\": \"MA90_stelog10Kd\", \"SI06_sem\": \"SI06_stelog10Kd\"})\n",
    "\n",
    "# convert genotypes to integers and sort accordingly    \n",
    "df[\"variant_int\"] = df.geno.apply(lambda x: int(x, 2))\n",
    "df = df.set_index(\"variant_int\").reindex(range(0, 2**L)).reset_index()\n",
    "\n",
    "for ii in range(L):\n",
    "    df[f\"mutation_{ii+1}\"] = df.geno.str[ii] == '1'\n",
    "      \n",
    "# get average Kd for mixed scenarios    \n",
    "df['mixed_log10Kd'] = df[[f\"{a}_log10Kd\" for a in antigens]].mean(axis=1)\n",
    "df"
   ]
  },
  {
   "cell_type": "markdown",
   "metadata": {},
   "source": [
    "## Define selection model"
   ]
  },
  {
   "cell_type": "code",
   "execution_count": 4,
   "metadata": {},
   "outputs": [],
   "source": [
    "def fixation_probability_moderate(fitness_s,fitness_t,Npop,gamma):\n",
    "    if np.isnan(fitness_s) or np.isnan(fitness_t):\n",
    "        pval = 0.0\n",
    "    else:\n",
    "        delta = fitness_t - fitness_s\n",
    "        if delta == 0.0:\n",
    "            pval = 1.0/Npop\n",
    "        else:\n",
    "            # avoid overflow errors\n",
    "            if gamma*delta > 100:\n",
    "                pval = 1\n",
    "            elif Npop*gamma*delta < -100:\n",
    "                pval = 0\n",
    "            elif Npop*gamma*delta > 100:\n",
    "                pval = (1 - np.exp(-gamma*delta))\n",
    "            else:\n",
    "                pval = ((1 - np.exp(-gamma*delta))/(1 - np.exp(-Npop*gamma*delta)))\n",
    "    return pval\n",
    "    \n",
    "    \n",
    "def fixation_probability_binary(s,fitness_s,fitness_t):\n",
    "    if np.isnan(fitness_s) or np.isnan(fitness_t):\n",
    "        pval = 0.0\n",
    "    elif (fitness_t-fitness_s) > 0:\n",
    "        pval = 1.0\n",
    "    else:\n",
    "        pval = 0.0\n",
    "    return pval"
   ]
  },
  {
   "cell_type": "markdown",
   "metadata": {},
   "source": [
    "## Calculate transition probabilities"
   ]
  },
  {
   "cell_type": "code",
   "execution_count": 4,
   "metadata": {},
   "outputs": [
    {
     "data": {
      "application/vnd.jupyter.widget-view+json": {
       "model_id": "9d4d61396eac43cc9fc0899f7db08e15",
       "version_major": 2,
       "version_minor": 0
      },
      "text/plain": [
       "HBox(children=(IntProgress(value=0, max=10), HTML(value='')))"
      ]
     },
     "metadata": {},
     "output_type": "display_data"
    },
    {
     "name": "stdout",
     "output_type": "stream",
     "text": [
      "\n"
     ]
    }
   ],
   "source": [
    "Nbootstrap = 10\n",
    "\n",
    "# Create the transition matrix between variant, depending on context\n",
    "pmut = {}\n",
    "for nb in tqdm(range(Nbootstrap)):\n",
    "    for ag in antigens + [\"mixed\"]:\n",
    "        pmut[ag, nb] = dok_matrix((2**L, 2**L), dtype=np.float64)\n",
    "        if ag != \"mixed\":\n",
    "            fitnesses = np.random.normal(\n",
    "                        (df[f\"{ag}_log10Kd\"]).values.astype('float32'),\n",
    "                        (df[f\"{ag}_stelog10Kd\"]).values.astype('float32'))\n",
    "        else:\n",
    "            fitnesses = sum([np.random.normal(\n",
    "                        (df[f\"{aa}_log10Kd\"]).values.astype('float32'),\n",
    "                        (df[f\"{aa}_stelog10Kd\"]).values.astype('float32')) for aa in antigens])/len(antigens)\n",
    "        \n",
    "        for s in sequences_int:\n",
    "            tot = 0\n",
    "            for t in reachable(s, L):\n",
    "                if is_intermediate and t != INTERMEDIATE and nb_mutation(t) == nb_mutation(INTERMEDIATE):\n",
    "                    pmut[ag, nb][s, t] = 0\n",
    "                else:\n",
    "                    if model == 'strong':\n",
    "                        pmut[ag, nb][s, t] = fixation_probability_binary(s,fitnesses[s],fitnesses[t])\n",
    "                    else:  \n",
    "                        pmut[ag, nb][s, t] = fixation_probability_moderate(fitnesses[s],fitnesses[t],N,gamma)\n",
    "\n",
    "        ### change format for something that can deal with multiplications\n",
    "        pmut[ag, nb].tocsr()"
   ]
  },
  {
   "cell_type": "code",
   "execution_count": 6,
   "metadata": {},
   "outputs": [
    {
     "data": {
      "application/vnd.jupyter.widget-view+json": {
       "model_id": "9757c2ad4b4a44b6ad5701eab4ba5773",
       "version_major": 2,
       "version_minor": 0
      },
      "text/plain": [
       "HBox(children=(IntProgress(value=0, max=33), HTML(value='')))"
      ]
     },
     "metadata": {},
     "output_type": "display_data"
    },
    {
     "name": "stdout",
     "output_type": "stream",
     "text": [
      "\n"
     ]
    }
   ],
   "source": [
    "### compute for every context\n",
    "all_contexts = set()\n",
    "for order in itertools.permutations(antigens):\n",
    "    for a in itertools.combinations_with_replacement(order, L):\n",
    "        all_contexts.add(a)\n",
    "all_contexts.add(tuple([\"mixed\"]*L))\n",
    "\n",
    "proba = defaultdict(list)\n",
    "for context in tqdm(all_contexts):\n",
    "    for nb in range(Nbootstrap):\n",
    "        P = pmut[context[0], nb][0, :] # start vector\n",
    "        for c in context[1:]:\n",
    "            P = P@pmut[c, nb]\n",
    "        proba[context] += [P[0, 2**L - 1]]\n",
    "\n",
    "# write data to file\n",
    "with open(f'nonconstrained/data/likelihoods_'+antibody+'_'+model+'.csv','w') as writefile:\n",
    "    proba_writer = csv.writer(writefile)\n",
    "    for key in proba.keys():\n",
    "        list_to_write = [x for x in key] + [x for x in proba[key]]\n",
    "        proba_writer.writerow(list_to_write)\n",
    "    writefile.close()\n"
   ]
  },
  {
   "cell_type": "code",
   "execution_count": 7,
   "metadata": {},
   "outputs": [
    {
     "data": {
      "application/vnd.jupyter.widget-view+json": {
       "model_id": "09156597478c4eb48c601ddaff7773f8",
       "version_major": 2,
       "version_minor": 0
      },
      "text/plain": [
       "HBox(children=(IntProgress(value=0, max=10), HTML(value='')))"
      ]
     },
     "metadata": {},
     "output_type": "display_data"
    },
    {
     "name": "stdout",
     "output_type": "stream",
     "text": [
      "\n",
      "1.1160013847259152e-06 9.688359522525561e-07\n"
     ]
    }
   ],
   "source": [
    "# draw random contexts\n",
    "num_random_contexts = 10\n",
    "random_contexts = []\n",
    "for i in range(num_random_contexts):\n",
    "    random_contexts.append(np.random.choice(antigens,size=L))\n",
    "        \n",
    "proba_random = np.zeros((num_random_contexts,Nbootstrap))\n",
    "for i in tqdm(range(num_random_contexts)):\n",
    "    context = random_contexts[i]\n",
    "    for nb in range(Nbootstrap):\n",
    "        P = pmut[context[0], nb][0, :] # start vector\n",
    "        for c in context[1:]:\n",
    "            P = P@pmut[c, nb]\n",
    "        proba_random[i,nb] += [P[0, 2**L - 1]]\n",
    "        \n",
    "proba_random_mean = np.mean(np.mean(proba_random,axis=1),axis=0)\n",
    "proba_random_std = np.std(np.std(proba_random,axis=1))\n",
    "print(proba_random_mean,proba_random_std)\n",
    "\n",
    "# write data to file\n",
    "with open(f'nonconstrained/data/likelihoods_'+antibody+'_'+model+'_random.csv','w') as writefile:\n",
    "    proba_writer = csv.writer(writefile)\n",
    "    for i in range(len(proba_random)):\n",
    "        list_to_write = [x for x in random_contexts[i]] + [x for x in proba_random[i]]\n",
    "        proba_writer.writerow(list_to_write)\n",
    "    writefile.close()\n",
    "\n"
   ]
  },
  {
   "cell_type": "markdown",
   "metadata": {},
   "source": [
    "## Read probabilities from file for plotting"
   ]
  },
  {
   "cell_type": "code",
   "execution_count": 5,
   "metadata": {},
   "outputs": [],
   "source": [
    "proba_from_file = defaultdict(list)\n",
    "with open(f'nonconstrained/data/likelihoods_'+antibody+'_'+model+'.csv','r') as readfile:\n",
    "    proba_reader = csv.reader(readfile)\n",
    "    for row in proba_reader:\n",
    "        key = tuple(row[:L])\n",
    "        value = [float(x) for x in row[L:]]\n",
    "        proba_from_file[key] = value\n",
    "    readfile.close()\n",
    "\n",
    "num_random_contexts = 10\n",
    "proba_random_from_file = np.zeros((num_random_contexts,Nbootstrap))\n",
    "contexts_random_from_file = []\n",
    "with open(f'nonconstrained/data/likelihoods_'+antibody+'_'+model+'_random.csv','r') as readfile:\n",
    "    proba_reader = csv.reader(readfile)\n",
    "    i = 0\n",
    "    for row in proba_reader:\n",
    "        key = tuple(row[:L])\n",
    "        contexts_random_from_file.append(key)\n",
    "        value = [float(x) for x in row[L:]]   \n",
    "        proba_random_from_file[i] = value\n",
    "        i += 1\n",
    "    readfile.close()"
   ]
  },
  {
   "cell_type": "code",
   "execution_count": 6,
   "metadata": {},
   "outputs": [
    {
     "name": "stdout",
     "output_type": "stream",
     "text": [
      "20922789888000\n",
      "8.356597613673181e-25\n",
      "5.4799283840431105e-25\n"
     ]
    }
   ],
   "source": [
    "print(math.factorial(L))\n",
    "print(np.mean(proba_from_file[tuple([\"MA90\"]*L)])/math.factorial(L))\n",
    "print(np.std(proba_from_file[tuple([\"MA90\"]*L)],ddof=1)/math.factorial(L))"
   ]
  },
  {
   "cell_type": "markdown",
   "metadata": {},
   "source": [
    "## Figure 5C,D"
   ]
  },
  {
   "cell_type": "markdown",
   "metadata": {},
   "source": [
    "## Figure 5--Figure Supplement 1"
   ]
  },
  {
   "cell_type": "code",
   "execution_count": 7,
   "metadata": {},
   "outputs": [
    {
     "name": "stdout",
     "output_type": "stream",
     "text": [
      "Optimal: ('MA90', 'MA90', 'MA90', 'MA90', 'SI06', 'SI06', 'SI06', 'SI06', 'SI06', 'SI06', 'SI06', 'SI06', 'SI06', 'SI06', 'SI06', 'SI06')\n"
     ]
    },
    {
     "name": "stderr",
     "output_type": "stream",
     "text": [
      "/Users/angelaphillips/.local/lib/python3.7/site-packages/ipykernel_launcher.py:86: RuntimeWarning: invalid value encountered in log\n",
      "/Users/angelaphillips/.local/lib/python3.7/site-packages/ipykernel_launcher.py:86: RuntimeWarning: All-NaN slice encountered\n",
      "/Users/angelaphillips/.local/lib/python3.7/site-packages/ipykernel_launcher.py:87: RuntimeWarning: invalid value encountered in log\n",
      "/Users/angelaphillips/.local/lib/python3.7/site-packages/ipykernel_launcher.py:87: RuntimeWarning: All-NaN slice encountered\n",
      "/Users/angelaphillips/.local/lib/python3.7/site-packages/ipykernel_launcher.py:119: UserWarning: This figure was using constrained_layout==True, but that is incompatible with subplots_adjust and or tight_layout: setting constrained_layout==False. \n"
     ]
    },
    {
     "data": {
      "image/png": "[encoded data removed]",
      "text/plain": [
       "<Figure size 160x200 with 2 Axes>"
      ]
     },
     "metadata": {
      "needs_background": "light"
     },
     "output_type": "display_data"
    }
   ],
   "source": [
    "# plot for moderate/weak selection\n",
    "if model == 'strong':\n",
    "    sys.exit()\n",
    "    \n",
    "# select contexts we want to plot at the top\n",
    "if antibody == 'CH65':\n",
    "    constant_scenarios = [tuple([\"random\"]*L),\n",
    "                      tuple([\"MA90\"]*L),tuple([\"SI06\"]*L),\n",
    "                      tuple([\"white\"]*L)]\n",
    "\n",
    "    \n",
    "# sort other scenarios by likelihood\n",
    "scenarios_sorted = [k for k, v in sorted(proba_from_file.items(), key=lambda item: -np.log(np.mean([a for a in item[1] if a > 1e-80]))) if not all([l == k[0] for l in k])]\n",
    "\n",
    "if antibody == 'CH65':\n",
    "    top_set = scenarios_sorted[:18]\n",
    "    print('Optimal:',top_set[0])        \n",
    "\n",
    "    # combine all groups\n",
    "    keys = tuple((constant_scenarios + top_set)[::-1])\n",
    "    #print(keys)\n",
    "        \n",
    "likelihoods, err_likelihoods = [], []\n",
    "for k in keys:\n",
    "    if \"white\" in k:\n",
    "        likelihoods += [np.nan]\n",
    "        err_likelihoods += [np.nan]\n",
    "    elif \"random\" in k:\n",
    "        likelihoods += [np.mean(np.log(np.mean(proba_random_from_file,axis=1)),axis=0)]\n",
    "        err_likelihoods += [np.std(np.std(proba_random_from_file,axis=1,ddof=1)/np.mean(proba_random_from_file,axis=1),ddof=1) ]\n",
    "\n",
    "    elif np.mean(proba_from_file[k]) > 0:\n",
    "        likelihoods += [np.log(np.mean([a for a in proba_from_file[k]]))]\n",
    "        err_likelihoods += [np.std([a for a in proba_from_file[k]],ddof=1)/np.mean([a for a in proba_from_file[k]])]\n",
    "\n",
    "likelihoods = np.array(likelihoods)\n",
    "err_likelihoods = np.array(err_likelihoods)\n",
    "        \n",
    "val = np.zeros((5*L, 5*len(keys)))\n",
    "for ii, key in enumerate(keys):\n",
    "    for jj, a in enumerate(key):\n",
    "        val[5*jj:5*(jj+1), 5*ii:5*(ii+1)] = {\"MA90\":1, \"SI06\":2, \"\":0, \"white\":-1, \"random\":-2, \"mixed\":-2}[a]\n",
    "#these are listed in increasing order to match the colors list below\n",
    "        \n",
    "if antibody == 'CH65':        \n",
    "    fig = plt.figure(constrained_layout=True, figsize=(1.6,2))\n",
    "    gs = fig.add_gridspec(1,7)\n",
    "    ax0 = fig.add_subplot(gs[0,0:2])\n",
    "    ax = fig.add_subplot(gs[0,2:], sharey=ax0)\n",
    "        \n",
    "\n",
    "# Turn off tick labels\n",
    "ax0.set_yticks([])\n",
    "ax0.set_xticks([])\n",
    "ax0.spines['top'].set_color('white')\n",
    "ax0.spines['bottom'].set_color('white')\n",
    "ax0.spines['right'].set_color('white')\n",
    "ax0.spines['left'].set_color('white')\n",
    "\n",
    "colorMA90, colorSI06 = \"#E8735C\", \"#72C2A6\"\n",
    "\n",
    "pal = sns.color_palette()\n",
    "\n",
    "# order random/mixed - white - nothing - MA90 - S106\n",
    "colors = [colorMA90, 'white', 'xkcd:light grey', colorMA90,  colorSI06]\n",
    "cmap = mpl.colors.ListedColormap(colors)\n",
    "ax0.imshow(val.transpose(), interpolation='none', vmin=-2, vmax=2, cmap=cmap)\n",
    "\n",
    "if antibody == \"CH65\":\n",
    "    hashes = np.zeros(val.transpose().shape)\n",
    "    hashes = np.arange(0, val.shape[0]*val.shape[1]).reshape(val.shape).transpose()%6 < 3\n",
    "    # add hash only in the \"random\" or \"mixed\" setup\n",
    "    ax0.imshow((val.transpose() == -2)*hashes, \n",
    "               interpolation='none', cmap=mpl.colors.ListedColormap([\"#FFFFFF00\", colorSI06]))\n",
    "\n",
    "ax0.set_aspect('auto')\n",
    "for ii in range((val.shape[1]//5+1)):\n",
    "    #ax0.axhline(5*ii-1, color=\"white\", alpha=1, lw=1)\n",
    "    ax0.plot([0,5*L],[5*ii-.9,5*ii-.9],color=\"white\", alpha=1, lw=1)\n",
    "    ax0.plot([0,5*L],[5*ii-.1,5*ii-.1],color=\"white\", alpha=1, lw=1)\n",
    "\n",
    "ax0.set_ylim(-1, val.shape[1]+1)\n",
    "ax0.set_xlim([0,5*L])\n",
    "ax0.set_xlabel(\"Context\", fontsize=5)\n",
    "\n",
    "max_loglik = np.nanmax(np.log(likelihoods))\n",
    "min_loglik = np.nanmin(np.log(likelihoods))\n",
    "value_displayed = likelihoods #(-min_loglik + np.log(likelihoods))/(max_loglik - min_loglik)*0.8 + 0.1\n",
    "err_values = np.nan_to_num(err_likelihoods, 0)#/(max_loglik - min_loglik)*0.8, 0)\n",
    "\n",
    "#print(err_values)\n",
    "\n",
    "ax.barh(width=value_displayed+40,\n",
    "           y=np.arange(2.5, 5*len(likelihoods), 5), height=5., left=-40,\n",
    "        color=[\"#7da6c2\", \"#c5e7ff\"]*(len(likelihoods)//2))\n",
    "#ax.invert_xaxis()\n",
    "ax.errorbar(x=value_displayed,\n",
    "           y=np.arange(2.5, 5*len(likelihoods), 5),\n",
    "            xerr=err_values, color=\"k\", markersize=10, linestyle='', elinewidth=0.5, ecolor=\"#5b7c99\")\n",
    "\n",
    "ax.set_xlabel(\"log-likelihood\", fontsize=5)\n",
    "#ax.set_xticklabels([])\n",
    "ax.set_ylim(-1, val.shape[1]+1)\n",
    "\n",
    "if antibody == \"9114\" and model == 'moderate':\n",
    "    ax.set_xlim(-40,-10)\n",
    "    ax.set_xticks([-40,-30,-20,-10])\n",
    "    ax.set_xticklabels([])\n",
    "elif antibody == \"9114\" and model == 'weak' or model == 'weak2':\n",
    "    ax.set_xlim(-30,0)\n",
    "    ax.set_xticks([-30,-20,-10,0])\n",
    "    ax.set_xticklabels([-40,-30,-20,-10])\n",
    "\n",
    "elif antibody == \"CH65\":\n",
    "    ax.set_xlim(-30,0)\n",
    "    ax.set_xticks([-30,-20,-10,0])\n",
    "    ax.set_xticklabels([-30,-20,-10,0],fontsize=5)\n",
    "\n",
    "plt.subplots_adjust(wspace=0.3)\n",
    "   \n",
    "plt.savefig(f\"nonconstrained/images/context_likelihood_{antibody}_{model}_complete.pdf\",dpi=1200,bbox_inches='tight')\n",
    "\n",
    "plt.show()"
   ]
  },
  {
   "cell_type": "markdown",
   "metadata": {},
   "source": [
    "## Recalculate normalized probabilities for selected contexts (no bootstrapping)"
   ]
  },
  {
   "cell_type": "code",
   "execution_count": 11,
   "metadata": {},
   "outputs": [
    {
     "data": {
      "application/vnd.jupyter.widget-view+json": {
       "model_id": "00fe247e5fa44fa091d6772f1864f8e5",
       "version_major": 2,
       "version_minor": 0
      },
      "text/plain": [
       "HBox(children=(IntProgress(value=0, max=3), HTML(value='')))"
      ]
     },
     "metadata": {},
     "output_type": "display_data"
    },
    {
     "name": "stdout",
     "output_type": "stream",
     "text": [
      "\n"
     ]
    }
   ],
   "source": [
    "# Calculate normalized transition matrices \n",
    "pmut_unnormed = {}\n",
    "pmut_normed = {}\n",
    "for ag in tqdm(antigens+['mixed']):\n",
    "    pmut_unnormed[ag] = dok_matrix((2**L, 2**L), dtype=np.float64)\n",
    "    fitnesses = df[f\"{ag}_log10Kd\"].values.astype('float32')\n",
    "    \n",
    "    for s in sequences_int:\n",
    "        for t in reachable(s, L):\n",
    "            if is_intermediate and t != INTERMEDIATE and nb_mutation(t) == nb_mutation(INTERMEDIATE):\n",
    "                pmut_unnormed[ag][s, t] = 0\n",
    "            else:\n",
    "                if model == 'strong':\n",
    "                    pmut_unnormed[ag][s, t] = fixation_probability_binary(s,fitnesses[s],fitnesses[t])\n",
    "                else:  \n",
    "                    pmut_unnormed[ag][s, t] = fixation_probability_moderate(fitnesses[s],fitnesses[t],N,gamma)\n",
    "\n",
    "    ### change format for something that can deal with multiplications\n",
    "    pmut_unnormed[ag].tocsr()\n",
    "    ### normalize the sparse matrix\n",
    "    pmut_normed[ag] = normalize(pmut_unnormed[ag], norm='l1', axis=1)\n"
   ]
  },
  {
   "cell_type": "code",
   "execution_count": 10,
   "metadata": {},
   "outputs": [
    {
     "name": "stdout",
     "output_type": "stream",
     "text": [
      "6\n",
      "('SI06', 'MA90', 'SI06', 'SI06', 'MA90', 'SI06', 'SI06', 'MA90', 'SI06', 'SI06', 'SI06', 'SI06', 'SI06', 'SI06', 'SI06', 'SI06') -14.82135421455939\n"
     ]
    },
    {
     "data": {
      "image/png": "[encoded data removed]",
      "text/plain": [
       "<Figure size 600x400 with 1 Axes>"
      ]
     },
     "metadata": {
      "needs_background": "light"
     },
     "output_type": "display_data"
    },
    {
     "name": "stdout",
     "output_type": "stream",
     "text": [
      "-18.16462478743828\n"
     ]
    }
   ],
   "source": [
    "#find the best and median random contexts\n",
    "random_means = np.mean(proba_random_from_file,axis=1)\n",
    "random_means_sorted = sorted(range(len(random_means)),key = lambda x: random_means[x])\n",
    "median_random_index = random_means_sorted[int(len(random_means)/2)+2] \n",
    "print(median_random_index) #np.log(proba_random[median_random_index]))\n",
    "median_random = contexts_random_from_file[median_random_index]\n",
    "print(median_random,np.log(random_means[median_random_index]))\n",
    "\n",
    "plt.hist(np.log(np.mean(proba_random_from_file,axis=1)))\n",
    "plt.show()\n",
    "print(np.mean(np.log(proba_random_from_file)))"
   ]
  },
  {
   "cell_type": "code",
   "execution_count": 11,
   "metadata": {},
   "outputs": [],
   "source": [
    "if antibody == \"CH65\":\n",
    "    antigen_contexts = { \"optimal\": [\"MA90\"]*4 + [\"SI06\"]*12,\n",
    "                            \"MA90alone\": [\"MA90\"]*16,  \n",
    "                         \"SI06alone\": [\"SI06\"]*16,\n",
    "                         \"mixed\": [\"mixed\"]*16,\n",
    "                           \"random_median\": median_random}"
   ]
  },
  {
   "cell_type": "markdown",
   "metadata": {},
   "source": [
    "## Mutation order (Figure 5I,J, Figure 5 -- Figure Supplement 3)"
   ]
  },
  {
   "cell_type": "code",
   "execution_count": 14,
   "metadata": {},
   "outputs": [
    {
     "data": {
      "application/vnd.jupyter.widget-view+json": {
       "model_id": "a46e6b54a9f7468db1303b88e44958f8",
       "version_major": 2,
       "version_minor": 0
      },
      "text/plain": [
       "HBox(children=(IntProgress(value=0, max=5), HTML(value='')))"
      ]
     },
     "metadata": {},
     "output_type": "display_data"
    },
    {
     "name": "stdout",
     "output_type": "stream",
     "text": [
      "\n"
     ]
    }
   ],
   "source": [
    "for ac in tqdm(antigen_contexts):\n",
    "    ## precompute the transition probability matrix to every power\n",
    "    ## pmut_power[s, e] is the product of all normed matrix between s and e (excluded)\n",
    "    pmut_power = {}\n",
    "    for s in range(L+1):\n",
    "        for e in range(s, L+1):\n",
    "            pmut_power[s, e] = pmut_normed[antigen_contexts[ac][0]]**0 #identity matrix\n",
    "            for j in range(s, e):\n",
    "                pmut_power[s, e] = pmut_power[s, e]@pmut_normed[antigen_contexts[ac][j]]\n",
    "                \n",
    "    ## compute the matrix that force the mutation to be mut\n",
    "    force_mut = {}\n",
    "    for mut in range(L):\n",
    "        for i in range(L):\n",
    "            force_mut[(i,mut)] = dok_matrix((2**L, 2**L), dtype=np.float64)\n",
    "        \n",
    "        for s in sequences_int[:-1]:\n",
    "            nb_mut = nb_mutation(s)\n",
    "            t = mutation(s, mut, L)\n",
    "            force_mut[(nb_mut,mut)][s, t] = pmut_normed[antigen_contexts[ac][nb_mut]][s, t]\n",
    "        \n",
    "    ## compute probabilities\n",
    "    proba = np.zeros((L, L))\n",
    "    for mut in range(L):\n",
    "        for t in range(L):\n",
    "            proba[mut, t] = (pmut_power[0, t] @ force_mut[(t,mut)] @ pmut_power[t+1, L])[0, 2**L - 1]\n",
    "\n",
    "    ## print results to file\n",
    "    if antibody == 'CH65':\n",
    "        proba_df = pd.DataFrame(proba,columns=\n",
    "                        [\"Order 1\",\"Order 2\",\"Order 3\",\"Order 4\",\"Order 5\",\"Order 6\",\n",
    "                         \"Order 7\",\"Order 8\",\"Order 9\",\"Order 10\",\"Order 11\",\"Order 12\",\n",
    "                        \"Order 13\",\"Order 14\",\"Order 15\",\"Order 16\"])\n",
    "        proba_df['Mutation'] = [\"Mut 1\",\"Mut 2\",\"Mut 3\",\"Mut 4\",\"Mut 5\",\"Mut 6\",\n",
    "                       \"Mut 7\",\"Mut 8\",\"Mut 9\",\"Mut 10\",\"Mut 11\",\n",
    "                       \"Mut 12\",\"Mut 13\",\"Mut 14\",\"Mut 15\",\"Mut 16\"] \n",
    "        proba_df.to_csv(f\"nonconstrained/data/CH65_probability_\"+str(ac)+\"_\"+model+\".csv\",index=False)"
   ]
  },
  {
   "cell_type": "markdown",
   "metadata": {},
   "source": [
    "## Figure 5 -- Figure Supplement 2"
   ]
  },
  {
   "cell_type": "code",
   "execution_count": 15,
   "metadata": {
    "scrolled": false
   },
   "outputs": [
    {
     "name": "stdout",
     "output_type": "stream",
     "text": [
      "optimal\n"
     ]
    },
    {
     "data": {
      "application/vnd.jupyter.widget-view+json": {
       "model_id": "bee149d6bbf9489686c25a6773687db1",
       "version_major": 2,
       "version_minor": 0
      },
      "text/plain": [
       "HBox(children=(IntProgress(value=0, max=65536), HTML(value='')))"
      ]
     },
     "metadata": {},
     "output_type": "display_data"
    },
    {
     "name": "stdout",
     "output_type": "stream",
     "text": [
      "\n",
      "0.0 591.3991314026392\n",
      "3548\n"
     ]
    },
    {
     "data": {
      "image/png": "[encoded data removed]",
      "text/plain": [
       "<Figure size 400x400 with 1 Axes>"
      ]
     },
     "metadata": {
      "needs_background": "light"
     },
     "output_type": "display_data"
    },
    {
     "data": {
      "image/png": "[encoded data removed]",
      "text/plain": [
       "<Figure size 600x600 with 2 Axes>"
      ]
     },
     "metadata": {
      "needs_background": "light"
     },
     "output_type": "display_data"
    }
   ],
   "source": [
    "#### Plot probabilty of each variant in optimal context ####\n",
    "from matplotlib.colors import LinearSegmentedColormap\n",
    "import matplotlib.cm as cm\n",
    "import matplotlib.colors as colors\n",
    "for context in [\"optimal\"]:\n",
    "    print(context)\n",
    "    antigen_context = antigen_contexts[context]\n",
    "    ## Compute the probability of belonging to the path for each variant\n",
    "    # if strong selection, use non-normalized, otherwise normalized\n",
    "    if model == 'strong':\n",
    "        A = {0: pmut_unnormed[antigen_context[0]]**0}\n",
    "        B = {0: pmut_unnormed[antigen_context[0]]**0}\n",
    "        for ii in range(1, L+1):\n",
    "            A[ii] = A[ii-1]@pmut_unnormed[antigen_context[ii-1]]\n",
    "            B[ii] = pmut_unnormed[antigen_context[ii-1]]@B[ii-1]\n",
    "    else:\n",
    "        A = {0: pmut_normed[antigen_context[0]]**0}\n",
    "        B = {0: pmut_normed[antigen_context[0]]**0}\n",
    "        for ii in range(1, L+1):\n",
    "            A[ii] = A[ii-1]@pmut_normed[antigen_context[ii-1]]\n",
    "            B[ii] = pmut_normed[antigen_context[ii-1]]@B[ii-1]\n",
    "        \n",
    "\n",
    "    proba = np.zeros(2**L)\n",
    "    norm = defaultdict(int)\n",
    "    for v in tqdm(sequences_int):\n",
    "        if v != 0 and v != 2**L - 1:\n",
    "            n = nb_mutation(v)\n",
    "            proba[v] = (A[n])[0, v] * B[L - n][v, 2**L-1]\n",
    "            norm[n] += 1\n",
    "    for v in sequences_int:\n",
    "        if model == 'strong':\n",
    "            # normalize explicitly\n",
    "            proba[v] = proba[v] * norm[nb_mutation(v)] /math.factorial(L)\n",
    "        else:\n",
    "            proba[v] = proba[v] * norm[nb_mutation(v)]\n",
    "    proba[0] = 1\n",
    "    proba[2**L-1] = 1\n",
    "    \n",
    "    #df[\"proba_path\"] = proba \n",
    "\n",
    "    mpl.rcParams['figure.dpi'] = 200\n",
    "\n",
    "    print(np.nanmin(proba),np.nanmax(proba))\n",
    "\n",
    "    indices = np.where(proba > 0.0)[0]\n",
    "\n",
    "    if model != 'strong':\n",
    "        probas_for_plot = np.log10(proba[indices])\n",
    "    too_low = np.where(probas_for_plot < -50)[0]\n",
    "    probas_for_plot[too_low] = -50\n",
    "    \n",
    "    print(len(np.where(probas_for_plot > 0)[0]))\n",
    "                         \n",
    "    fig,ax = plt.subplots(figsize=(2,2))\n",
    "    ax.tick_params(pad=1)\n",
    "    plt.hist(probas_for_plot,bins=100,color=cm.inferno_r(0.2))\n",
    "    #plt.yscale('log')\n",
    "    plt.plot([0,0],[0,10000],'k--',linewidth=0.5)\n",
    "    plt.ylim([0,10000])\n",
    "    #plt.xlim(-102,0)\n",
    "    plt.xticks([-50,-25,0,],['<-50','-25','0'])\n",
    "    #plt.yticks([0,2000,4000,6000],['0','2000','4000','6000'])\n",
    "    plt.xlabel(r'$\\log_{10}\\left(\\dfrac{P_{optimal}}{P_{neutral}}\\right)$',labelpad=1)\n",
    "    plt.ylabel('Variant count',labelpad=1)\n",
    "    plt.tight_layout()\n",
    "    plt.savefig(f'{img}variantdist_'+antibody+'_'+context+'_'+model+'.pdf')\n",
    "    plt.show()\n",
    "    #df\n",
    "\n",
    "    df_fdl = pd.read_csv(f\"../SI06_browser/data/CH65.csv\", dtype={\"variant\":\"str\"})\n",
    "    df_fdl[\"variant_int\"] = df_fdl.variant.apply(lambda x: int(x, 2))\n",
    "    df_fdl = df_fdl.set_index(\"variant_int\").reindex(range(0, 2**L)).reset_index()\n",
    "\n",
    "    df_fdl[\"path_prob\"] = proba\n",
    "\n",
    "    df_fdl = df_fdl.sort_values(by=[\"path_prob\"])\n",
    "\n",
    "    minval = 1.0\n",
    "    cmap = plt.get_cmap('inferno_r')\n",
    "    new_cmap = truncate_colormap(cmap, 0.1,1)\n",
    "\n",
    "    plt.figure(figsize=(3,3)) #plt.subplots(2, 1, figsize=(10, 10), gridspec_kw={'height_ratios': [4, 1]})\n",
    "    ax = plt.subplot(111)\n",
    "    ax.scatter(x=-1.0*df_fdl.fdl_x, y=-1.0*df_fdl.fdl_y,\n",
    "           s=.8, color =cmap(0.0), alpha=1)\n",
    "    sc = ax.scatter(x=-1.0*df_fdl.loc[df_fdl['path_prob'] > minval,'fdl_x'], y=-1.0*df_fdl.loc[df_fdl['path_prob'] > minval,'fdl_y'],\n",
    "           s=.8, c=np.log(df_fdl.loc[df_fdl['path_prob'] > minval,'path_prob']),\n",
    "           cmap=new_cmap,vmin=minval,alpha=1)\n",
    "    cbar = plt.colorbar(sc,fraction=0.02,ticks=[1,3,5])\n",
    "    cbar.ax.set_yticklabels(['1','$10^3$','$10^5$'])\n",
    "    cbar.ax.set_ylabel(r'$\\dfrac{P_{optimal}}{P_{neutral}}$',rotation='horizontal',labelpad=15)\n",
    "    #plt.clim(-4,4)\n",
    "    ax.set_aspect('equal')\n",
    "\n",
    "\n",
    "    #ax.get_legend().remove()\n",
    "    ax.set_axis_off()\n",
    "\n",
    "    plt.tight_layout()\n",
    "    plt.savefig(f'nonconstrained/images/landscape_paths_'+antibody+'_'+context+'_'+model+'.png',dpi=600)\n",
    "    plt.show()\n",
    "    \n",
    "#     sys.exit()\n",
    "    \n",
    "    \n",
    "    "
   ]
  },
  {
   "cell_type": "markdown",
   "metadata": {},
   "source": [
    "## Figure 5G,H"
   ]
  },
  {
   "cell_type": "code",
   "execution_count": 31,
   "metadata": {},
   "outputs": [
    {
     "data": {
      "application/vnd.jupyter.widget-view+json": {
       "model_id": "a7ecfe1589f8488e8596dbc69fadd415",
       "version_major": 2,
       "version_minor": 0
      },
      "text/plain": [
       "HBox(children=(IntProgress(value=0, max=5), HTML(value='')))"
      ]
     },
     "metadata": {},
     "output_type": "display_data"
    },
    {
     "ename": "KeyboardInterrupt",
     "evalue": "",
     "output_type": "error",
     "traceback": [
      "\u001b[0;31m---------------------------------------------------------------------------\u001b[0m",
      "\u001b[0;31mKeyboardInterrupt\u001b[0m                         Traceback (most recent call last)",
      "\u001b[0;32m<ipython-input-31-dcae59878f1d>\u001b[0m in \u001b[0;36m<module>\u001b[0;34m\u001b[0m\n\u001b[1;32m     19\u001b[0m                                 \u001b[0;34m-\u001b[0m\u001b[0mnp\u001b[0m\u001b[0;34m.\u001b[0m\u001b[0mlog\u001b[0m\u001b[0;34m(\u001b[0m\u001b[0;36m1e-100\u001b[0m \u001b[0;34m+\u001b[0m \u001b[0mpmut_normed\u001b[0m\u001b[0;34m[\u001b[0m\u001b[0mantigen_contexts\u001b[0m\u001b[0;34m[\u001b[0m\u001b[0mac\u001b[0m\u001b[0;34m]\u001b[0m\u001b[0;34m[\u001b[0m\u001b[0mnb_mutation\u001b[0m\u001b[0;34m(\u001b[0m\u001b[0ms\u001b[0m\u001b[0;34m)\u001b[0m\u001b[0;34m]\u001b[0m\u001b[0;34m]\u001b[0m\u001b[0;34m[\u001b[0m\u001b[0ms\u001b[0m\u001b[0;34m,\u001b[0m \u001b[0mt\u001b[0m\u001b[0;34m]\u001b[0m\u001b[0;34m)\u001b[0m  \u001b[0;31m# weight\u001b[0m\u001b[0;34m\u001b[0m\u001b[0;34m\u001b[0m\u001b[0m\n\u001b[1;32m     20\u001b[0m                                ) \n\u001b[0;32m---> 21\u001b[0;31m                       \u001b[0;32mfor\u001b[0m \u001b[0ms\u001b[0m \u001b[0;32min\u001b[0m \u001b[0msequences_int\u001b[0m\u001b[0;34m\u001b[0m\u001b[0;34m\u001b[0m\u001b[0m\n\u001b[0m\u001b[1;32m     22\u001b[0m                       for t in reachable(s, L)])\n\u001b[1;32m     23\u001b[0m \u001b[0;34m\u001b[0m\u001b[0m\n",
      "\u001b[0;32m<ipython-input-31-dcae59878f1d>\u001b[0m in \u001b[0;36m<listcomp>\u001b[0;34m(.0)\u001b[0m\n\u001b[1;32m     20\u001b[0m                                ) \n\u001b[1;32m     21\u001b[0m                       \u001b[0;32mfor\u001b[0m \u001b[0ms\u001b[0m \u001b[0;32min\u001b[0m \u001b[0msequences_int\u001b[0m\u001b[0;34m\u001b[0m\u001b[0;34m\u001b[0m\u001b[0m\n\u001b[0;32m---> 22\u001b[0;31m                       for t in reachable(s, L)])\n\u001b[0m\u001b[1;32m     23\u001b[0m \u001b[0;34m\u001b[0m\u001b[0m\n\u001b[1;32m     24\u001b[0m     \u001b[0;31m#if is_intermediate:\u001b[0m\u001b[0;34m\u001b[0m\u001b[0;34m\u001b[0m\u001b[0;34m\u001b[0m\u001b[0m\n",
      "\u001b[0;32m~/opt/anaconda3/lib/python3.7/site-packages/scipy/sparse/_index.py\u001b[0m in \u001b[0;36m__getitem__\u001b[0;34m(self, key)\u001b[0m\n\u001b[1;32m     37\u001b[0m         \u001b[0;32mif\u001b[0m \u001b[0misinstance\u001b[0m\u001b[0;34m(\u001b[0m\u001b[0mrow\u001b[0m\u001b[0;34m,\u001b[0m \u001b[0mINT_TYPES\u001b[0m\u001b[0;34m)\u001b[0m\u001b[0;34m:\u001b[0m\u001b[0;34m\u001b[0m\u001b[0;34m\u001b[0m\u001b[0m\n\u001b[1;32m     38\u001b[0m             \u001b[0;32mif\u001b[0m \u001b[0misinstance\u001b[0m\u001b[0;34m(\u001b[0m\u001b[0mcol\u001b[0m\u001b[0;34m,\u001b[0m \u001b[0mINT_TYPES\u001b[0m\u001b[0;34m)\u001b[0m\u001b[0;34m:\u001b[0m\u001b[0;34m\u001b[0m\u001b[0;34m\u001b[0m\u001b[0m\n\u001b[0;32m---> 39\u001b[0;31m                 \u001b[0;32mreturn\u001b[0m \u001b[0mself\u001b[0m\u001b[0;34m.\u001b[0m\u001b[0m_get_intXint\u001b[0m\u001b[0;34m(\u001b[0m\u001b[0mrow\u001b[0m\u001b[0;34m,\u001b[0m \u001b[0mcol\u001b[0m\u001b[0;34m)\u001b[0m\u001b[0;34m\u001b[0m\u001b[0;34m\u001b[0m\u001b[0m\n\u001b[0m\u001b[1;32m     40\u001b[0m             \u001b[0;32melif\u001b[0m \u001b[0misinstance\u001b[0m\u001b[0;34m(\u001b[0m\u001b[0mcol\u001b[0m\u001b[0;34m,\u001b[0m \u001b[0mslice\u001b[0m\u001b[0;34m)\u001b[0m\u001b[0;34m:\u001b[0m\u001b[0;34m\u001b[0m\u001b[0;34m\u001b[0m\u001b[0m\n\u001b[1;32m     41\u001b[0m                 \u001b[0;32mreturn\u001b[0m \u001b[0mself\u001b[0m\u001b[0;34m.\u001b[0m\u001b[0m_get_intXslice\u001b[0m\u001b[0;34m(\u001b[0m\u001b[0mrow\u001b[0m\u001b[0;34m,\u001b[0m \u001b[0mcol\u001b[0m\u001b[0;34m)\u001b[0m\u001b[0;34m\u001b[0m\u001b[0;34m\u001b[0m\u001b[0m\n",
      "\u001b[0;32m~/opt/anaconda3/lib/python3.7/site-packages/scipy/sparse/compressed.py\u001b[0m in \u001b[0;36m_get_intXint\u001b[0;34m(self, row, col)\u001b[0m\n\u001b[1;32m    644\u001b[0m         indptr, indices, data = get_csr_submatrix(\n\u001b[1;32m    645\u001b[0m             \u001b[0mM\u001b[0m\u001b[0;34m,\u001b[0m \u001b[0mN\u001b[0m\u001b[0;34m,\u001b[0m \u001b[0mself\u001b[0m\u001b[0;34m.\u001b[0m\u001b[0mindptr\u001b[0m\u001b[0;34m,\u001b[0m \u001b[0mself\u001b[0m\u001b[0;34m.\u001b[0m\u001b[0mindices\u001b[0m\u001b[0;34m,\u001b[0m \u001b[0mself\u001b[0m\u001b[0;34m.\u001b[0m\u001b[0mdata\u001b[0m\u001b[0;34m,\u001b[0m\u001b[0;34m\u001b[0m\u001b[0;34m\u001b[0m\u001b[0m\n\u001b[0;32m--> 646\u001b[0;31m             major, major + 1, minor, minor + 1)\n\u001b[0m\u001b[1;32m    647\u001b[0m         \u001b[0;32mreturn\u001b[0m \u001b[0mdata\u001b[0m\u001b[0;34m.\u001b[0m\u001b[0msum\u001b[0m\u001b[0;34m(\u001b[0m\u001b[0mdtype\u001b[0m\u001b[0;34m=\u001b[0m\u001b[0mself\u001b[0m\u001b[0;34m.\u001b[0m\u001b[0mdtype\u001b[0m\u001b[0;34m)\u001b[0m\u001b[0;34m\u001b[0m\u001b[0;34m\u001b[0m\u001b[0m\n\u001b[1;32m    648\u001b[0m \u001b[0;34m\u001b[0m\u001b[0m\n",
      "\u001b[0;31mKeyboardInterrupt\u001b[0m: "
     ]
    }
   ],
   "source": [
    "# make directed weighted graph\n",
    "\n",
    "# store fitnesses as dict\n",
    "fitnesses = {}\n",
    "for a in antigens+['mixed']:\n",
    "    fitnesses[a] = (df.set_index(\"variant_int\")[f\"{a}_log10Kd\"]).to_dict()\n",
    "\n",
    "df[\"nb_mutation\"] = df.variant_int.apply(nb_mutation)\n",
    "\n",
    "# choose number of best paths to store\n",
    "num_best_paths = 10000\n",
    "best_paths = {}\n",
    "\n",
    "for ac in tqdm(antigen_contexts):\n",
    "    # (re) create the graph with networkx (as a directed graph)\n",
    "    G = nx.DiGraph()\n",
    "    G.add_nodes_from(sequences_int)\n",
    "    G.add_weighted_edges_from([(s, t,  ## source, target\n",
    "                                -np.log(1e-100 + pmut_normed[antigen_contexts[ac][nb_mutation(s)]][s, t])  # weight\n",
    "                               ) \n",
    "                      for s in sequences_int\n",
    "                      for t in reachable(s, L)])\n",
    "    \n",
    "    #if is_intermediate:\n",
    "    #    for s in sequences_int:\n",
    "    #        if s != INTERMEDIATE and nb_mutation(s) == nb_mut_int:\n",
    "    #            G.remove_node(n)\n",
    "    \n",
    "    # compute the k shortest paths, for which ∑ -log(p) is smallest => max likelihood\n",
    "    best_paths[ac] = np.empty((num_best_paths,L+1),dtype=int)\n",
    "    i = 0\n",
    "    for path in k_shortest_paths(G, 0, 2**L-1,num_best_paths,weight='weight'):\n",
    "        best_paths[ac][i] = path\n",
    "        i += 1"
   ]
  },
  {
   "cell_type": "code",
   "execution_count": 17,
   "metadata": {},
   "outputs": [
    {
     "name": "stdout",
     "output_type": "stream",
     "text": [
      "rm: nonconstrained/data/1000CH65_bestpaths_optimal_moderate.csv: No such file or directory\n",
      "rm: nonconstrained/data/1000CH65_bestpaths_MA90alone_moderate.csv: No such file or directory\n",
      "rm: nonconstrained/data/1000CH65_bestpaths_SI06alone_moderate.csv: No such file or directory\n",
      "rm: nonconstrained/data/1000CH65_bestpaths_mixed_moderate.csv: No such file or directory\n",
      "rm: nonconstrained/data/1000CH65_bestpaths_random_median_moderate.csv: No such file or directory\n"
     ]
    }
   ],
   "source": [
    "for ac in antigen_contexts:\n",
    "    !rm nonconstrained/data/1000CH65_bestpaths_{str(ac)}_{model}.csv\n",
    "    paths=[]\n",
    "    for value in best_paths[ac]:\n",
    "        genos=[]\n",
    "        for item in value:\n",
    "            genos.append(df[df['variant_int']==item]['geno'].item())\n",
    "        with open(f\"nonconstrained/data/CH65_10000bestpaths_\"+str(ac)+\"_\"+model+\".csv\", \"a\") as fp:\n",
    "            wr = csv.writer(fp, dialect='excel')\n",
    "            wr.writerow(genos)"
   ]
  },
  {
   "cell_type": "code",
   "execution_count": 29,
   "metadata": {},
   "outputs": [
    {
     "name": "stdout",
     "output_type": "stream",
     "text": [
      "optimal: 0\n",
      "random: 0\n",
      "MA90alone: 0\n",
      "SI06alone: 0\n"
     ]
    }
   ],
   "source": [
    "df2=pd.read_csv(f'nonconstrained/data/CH65_10000bestpaths_optimal_moderate.csv',header=None,names=['1','2','3','4','5','6','7','8','9','10','11','12','13','14','15','16'],dtype=str)\n",
    "i2 = df2[df2['3']=='0000001010100000']\n",
    "print('optimal: '+str(i2.shape[0]))\n",
    "df2=pd.read_csv(f'nonconstrained/data/CH65_10000bestpaths_random_median_moderate.csv',header=None,names=['1','2','3','4','5','6','7','8','9','10','11','12','13','14','15','16'],dtype=str)\n",
    "i2 = df2[df2['3']=='0000001010100000']\n",
    "print('random: '+str(i2.shape[0]))\n",
    "df2=pd.read_csv(f'nonconstrained/data/CH65_10000bestpaths_MA90alone_moderate.csv',header=None,names=['1','2','3','4','5','6','7','8','9','10','11','12','13','14','15','16'],dtype=str)\n",
    "i2 = df2[df2['3']=='0000001010100000']\n",
    "print('MA90alone: '+str(i2.shape[0]))\n",
    "df2=pd.read_csv(f'nonconstrained/data/CH65_10000bestpaths_SI06alone_moderate.csv',header=None,names=['1','2','3','4','5','6','7','8','9','10','11','12','13','14','15','16'],dtype=str)\n",
    "i2 = df2[df2['3']=='0000001010100000']\n",
    "print('SI06alone: '+str(i2.shape[0]))"
   ]
  },
  {
   "cell_type": "code",
   "execution_count": 34,
   "metadata": {},
   "outputs": [],
   "source": [
    "# get Kds and delta Kds for CH65 best paths\n",
    "num_to_use = 25\n",
    "\n",
    "best_path_mean_Kds_MA90 = {}\n",
    "best_path_mean_Kds_SI06 = {}\n",
    "best_path_std_Kds_MA90 = {}\n",
    "best_path_std_Kds_SI06 = {}\n",
    "\n",
    "best_paths_Kds_MA90 = {}\n",
    "best_paths_Kds_SI06 = {}\n",
    "best_paths_err_Kds_MA90 = {}\n",
    "best_paths_err_Kds_SI06 = {}\n",
    "\n",
    "\n",
    "for ac in antigen_contexts:\n",
    "    best_path_means_MA90 = np.empty((num_to_use,L+1),dtype=float)\n",
    "    best_path_stderr_MA90 = np.empty((num_to_use,L+1),dtype=float)\n",
    "    best_path_means_SI06 = np.empty((num_to_use,L+1),dtype=float)\n",
    "    best_path_stderr_SI06 = np.empty((num_to_use,L+1),dtype=float)\n",
    "\n",
    "    for i in range(num_to_use):\n",
    "        best_path_means_MA90[i,:] = [df.loc[best_paths[ac][i,n]][\"MA90_log10Kd\"] for n in range(L+1)]\n",
    "        best_path_stderr_MA90[i,:] = [df.loc[best_paths[ac][i,n]][\"MA90_stelog10Kd\"] for n in range(L+1)]\n",
    "        best_path_means_SI06[i,:] = [df.loc[best_paths[ac][i,n]][\"SI06_log10Kd\"] for n in range(L+1)]\n",
    "        best_path_stderr_SI06[i,:] = [df.loc[best_paths[ac][i,n]][\"SI06_stelog10Kd\"] for n in range(L+1)]\n",
    "    \n",
    "    #best_paths_geno[ac] = best_path_geno\n",
    "    best_paths_Kds_MA90[ac] = best_path_means_MA90\n",
    "    best_paths_err_Kds_MA90[ac] = best_path_stderr_MA90\n",
    "    best_paths_Kds_SI06[ac] = best_path_means_SI06\n",
    "    best_paths_err_Kds_SI06[ac] = best_path_stderr_SI06\n",
    "    \n",
    "    best_path_mean_Kds_MA90[ac] = np.nanmean(best_path_means_MA90,axis=0)\n",
    "    best_path_mean_Kds_SI06[ac] = np.nanmean(best_path_means_SI06,axis=0)\n",
    "    \n",
    "    best_path_std_Kds_MA90[ac] = np.std(best_path_means_MA90,axis=0)\n",
    "    best_path_std_Kds_SI06[ac] = np.std(best_path_means_SI06,axis=0)"
   ]
  },
  {
   "cell_type": "code",
   "execution_count": 35,
   "metadata": {},
   "outputs": [
    {
     "name": "stdout",
     "output_type": "stream",
     "text": [
      "['MA90', 'MA90', 'MA90', 'MA90', 'SI06', 'SI06', 'SI06', 'SI06', 'SI06', 'SI06', 'SI06', 'SI06', 'SI06', 'SI06', 'SI06', 'SI06']\n",
      "['MA90', 'MA90', 'MA90', 'MA90', 'MA90', 'MA90', 'MA90', 'MA90', 'MA90', 'MA90', 'MA90', 'MA90', 'MA90', 'MA90', 'MA90', 'MA90']\n",
      "['SI06', 'SI06', 'SI06', 'SI06', 'SI06', 'SI06', 'SI06', 'SI06', 'SI06', 'SI06', 'SI06', 'SI06', 'SI06', 'SI06', 'SI06', 'SI06']\n",
      "['mixed', 'mixed', 'mixed', 'mixed', 'mixed', 'mixed', 'mixed', 'mixed', 'mixed', 'mixed', 'mixed', 'mixed', 'mixed', 'mixed', 'mixed', 'mixed']\n",
      "('MA90', 'SI06', 'MA90', 'SI06', 'SI06', 'SI06', 'SI06', 'SI06', 'MA90', 'SI06', 'SI06', 'MA90', 'MA90', 'MA90', 'MA90', 'SI06')\n"
     ]
    },
    {
     "data": {
      "image/png": "[encoded data removed]",
      "text/plain": [
       "<Figure size 440x170 with 1 Axes>"
      ]
     },
     "metadata": {
      "needs_background": "light"
     },
     "output_type": "display_data"
    },
    {
     "data": {
      "image/png": "[encoded data removed]",
      "text/plain": [
       "<Figure size 440x170 with 1 Axes>"
      ]
     },
     "metadata": {
      "needs_background": "light"
     },
     "output_type": "display_data"
    },
    {
     "data": {
      "image/png": "[encoded data removed]",
      "text/plain": [
       "<Figure size 440x170 with 1 Axes>"
      ]
     },
     "metadata": {
      "needs_background": "light"
     },
     "output_type": "display_data"
    },
    {
     "data": {
      "image/png": "[encoded data removed]",
      "text/plain": [
       "<Figure size 440x170 with 1 Axes>"
      ]
     },
     "metadata": {
      "needs_background": "light"
     },
     "output_type": "display_data"
    },
    {
     "data": {
      "image/png": "[encoded data removed]",
      "text/plain": [
       "<Figure size 440x170 with 1 Axes>"
      ]
     },
     "metadata": {
      "needs_background": "light"
     },
     "output_type": "display_data"
    }
   ],
   "source": [
    "for context in antigen_contexts:\n",
    "    print(antigen_contexts[context])\n",
    "    fig,ax = plt.subplots(figsize=(2.2,0.85))\n",
    "    ax.tick_params(pad=1)\n",
    "    for i in range(num_best_paths):\n",
    "        plt.errorbar(x=range(L+1),y=best_paths_Kds_SI06[context][i],yerr=best_paths_err_Kds_SI06[context][i],\n",
    "                 color=colorSI06,alpha=0.2,linewidth=0.5)\n",
    "        plt.errorbar(x=range(L+1),y=best_paths_Kds_MA90[context][i],yerr=best_paths_err_Kds_MA90[context][i],\n",
    "                 color=colorMA90,alpha=0.2,linewidth=0.5)\n",
    "        \n",
    "        if context == \"mixed\":\n",
    "            plt.errorbar(x=range(L+1),y=np.mean([best_paths_Kds_SI06[context][i],best_paths_Kds_MA90[context][i]],axis=0),\n",
    "                color='k',alpha=0.2,linewidth=0.5)\n",
    "            \n",
    "    #plt.xlabel('Number of mutations')\n",
    "    plt.ylabel(f\"$-logK_D$\",labelpad=0)\n",
    "    #plt.xticks(np.arange(0,18,2),[str(x) for x in np.arange(0,18,2)])\n",
    "    plt.yticks([6,8,10],['6','8','10'])\n",
    "    plt.ylim([5.5,10.3])\n",
    "    plt.tight_layout()\n",
    "    plt.savefig('nonconstrained/images/average_paths_'+antibody+'_'+context+'_'+model+'.pdf')\n",
    "\n",
    "plt.show()"
   ]
  },
  {
   "cell_type": "code",
   "execution_count": 15,
   "metadata": {},
   "outputs": [
    {
     "data": {
      "text/plain": [
       "<Figure size 300x300 with 0 Axes>"
      ]
     },
     "metadata": {},
     "output_type": "display_data"
    },
    {
     "data": {
      "text/plain": [
       "<Figure size 300x300 with 0 Axes>"
      ]
     },
     "metadata": {},
     "output_type": "display_data"
    },
    {
     "data": {
      "text/plain": [
       "<Figure size 300x300 with 0 Axes>"
      ]
     },
     "metadata": {},
     "output_type": "display_data"
    },
    {
     "data": {
      "text/plain": [
       "<Figure size 300x300 with 0 Axes>"
      ]
     },
     "metadata": {},
     "output_type": "display_data"
    },
    {
     "data": {
      "text/plain": [
       "<Figure size 300x300 with 0 Axes>"
      ]
     },
     "metadata": {},
     "output_type": "display_data"
    }
   ],
   "source": [
    "for context in antigen_contexts:\n",
    "    if context==\"MA90alone\":\n",
    "        title=\"MA90 alone\"\n",
    "    if context==\"SI06alone\":\n",
    "        title=\"SI06 alone\"\n",
    "    if context==\"optimal\":\n",
    "        title=\"Optimal\"\n",
    "    if context==\"random_median\":\n",
    "        title=\"Mixed\"\n",
    "    df_mutorder = pd.read_csv('nonconstrained/data/CH65_probability_%s_moderate.csv' % context,index_col='Mutation')\n",
    "    dft = df_mutorder.transpose()\n",
    "    dft.plot(kind='bar', stacked=True, width = 0.95,\n",
    "         color = [\"#66c2bd\", \"#1b9d9b\", \"#fc7864\", \"#d94602\", \n",
    "                  \"#8DA0CB\",\"#7570B3\",\"#E78AC3\",\"#E7298A\",\"#A6D854\",\n",
    "                  \"#66A61E\",\"#FFD92F\",\"#E6AB02\",\"#E5C494\",\"#A6761D\",\"#B3B3B3\",\"#666666\"],figsize=(3,3))\n",
    "    plt.title('%s' % title, fontsize=8)\n",
    "    plt.xlabel(' ')\n",
    "    plt.ylabel('Probability')\n",
    "    plt.yticks([])\n",
    "    plt.legend(bbox_to_anchor=(1.05, 1), loc='upper left', borderaxespad=0,\n",
    "               labels=['N26D','S29R','Y35N','Y48C','D49Y','V98I','G31D','Y33H','M34I',\n",
    "                       'H35N','N52H','G57D','L83V','S84N','R85G','R87K'])\n",
    "    plt.xticks([0,1,2,3,4,5,6,7,8,9,10,11,12,13,14,15],\n",
    "               ['1','2','3','4','5','6','7','8','9','10','11','12','13','14','15','16'],fontsize=6,rotation=0)\n",
    "    plt.savefig('nonconstrained/images/%s_moderate_mutorder_I2con.pdf' % context,dpi=600,bbox_inches='tight')\n",
    "    plt.clf()"
   ]
  },
  {
   "cell_type": "code",
   "execution_count": null,
   "metadata": {},
   "outputs": [],
   "source": []
  },
  {
   "cell_type": "code",
   "execution_count": null,
   "metadata": {},
   "outputs": [],
   "source": []
  }
 ],
 "metadata": {
  "kernelspec": {
   "display_name": "Python 3",
   "language": "python",
   "name": "python3"
  },
  "language_info": {
   "codemirror_mode": {
    "name": "ipython",
    "version": 3
   },
   "file_extension": ".py",
   "mimetype": "text/x-python",
   "name": "python",
   "nbconvert_exporter": "python",
   "pygments_lexer": "ipython3",
   "version": "3.7.4"
  }
 },
 "nbformat": 4,
 "nbformat_minor": 4
}
