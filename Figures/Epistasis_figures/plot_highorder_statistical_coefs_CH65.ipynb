{
 "cells": [
  {
   "cell_type": "code",
   "execution_count": 10,
   "metadata": {},
   "outputs": [],
   "source": [
    "import numpy as np\n",
    "import matplotlib.pyplot as plt\n",
    "import csv\n",
    "import sys\n",
    "import seaborn as sns\n",
    "from scipy.special import comb\n",
    "from sklearn.preprocessing import PolynomialFeatures\n",
    "from matplotlib.colors import LogNorm\n",
    "import matplotlib as mpl\n",
    "import pandas as pd\n",
    "import itertools as it\n",
    "import matplotlib.colors as colors\n",
    "\n",
    "from mutation_info import *\n",
    "\n",
    "def powerset(iterable):\n",
    "    \"powerset([1,2,3]) --> () (1,) (2,) (3,) (1,2) (1,3) (2,3) (1,2,3)\"\n",
    "    s = list(iterable)\n",
    "    return it.chain.from_iterable(it.combinations(s, r) for r in range(len(s)+1))\n",
    "\n",
    "plt.rcParams.update({'font.size': 7})\n",
    "plt.rcParams['font.sans-serif'] = \"Arial\"\n",
    "plt.rcParams['font.family'] = \"sans-serif\"\n",
    "plt.rcParams['axes.linewidth'] = 0.5\n",
    "plt.rcParams[\"xtick.major.size\"] = 2\n",
    "plt.rcParams[\"ytick.major.size\"] = 2\n",
    "\n",
    "def truncate_colormap(cmap, minval=0.0, maxval=1.0, n=100):\n",
    "    new_cmap = colors.LinearSegmentedColormap.from_list(\n",
    "        'trunc({n},{a:.2f},{b:.2f})'.format(n=cmap.name, a=minval, b=maxval),\n",
    "        cmap(np.linspace(minval, maxval, n)))\n",
    "    return new_cmap\n"
   ]
  },
  {
   "cell_type": "code",
   "execution_count": 11,
   "metadata": {},
   "outputs": [
    {
     "name": "stdout",
     "output_type": "stream",
     "text": [
      "[  16  120  560 1820 4368] 6884\n",
      "[1, 17, 137, 697, 2517, 6885]\n",
      "[  15  105  455 1365 3003] 4943\n",
      "[1, 16, 121, 576, 1941, 4944]\n",
      "[  16  120  560 1820 4368] 6884\n",
      "[1, 17, 137, 697, 2517, 6885]\n"
     ]
    }
   ],
   "source": [
    "# set some things\n",
    "num_mutations_MA = 16\n",
    "order_MA = 5\n",
    "num_term_list_MA = np.array([int(comb(num_mutations_MA,i)) for i in range(1,order_MA+1)])\n",
    "total_params_MA = sum(num_term_list_MA)\n",
    "order_start_indices_MA = list(np.cumsum(num_term_list_MA)+1)\n",
    "order_start_indices_MA.insert(0,1)\n",
    "print(num_term_list_MA,total_params_MA)\n",
    "print(order_start_indices_MA)\n",
    "\n",
    "num_mutations_SI = 15\n",
    "order_SI = 5\n",
    "num_term_list_SI = np.array([int(comb(num_mutations_SI,i)) for i in range(1,order_SI+1)])\n",
    "total_params_SI = sum(num_term_list_SI)\n",
    "order_start_indices_SI = list(np.cumsum(num_term_list_SI)+1)\n",
    "order_start_indices_SI.insert(0,1)\n",
    "print(num_term_list_SI,total_params_SI)\n",
    "print(order_start_indices_SI)\n",
    "\n",
    "num_mutations_G189E = 16\n",
    "order_G189E = 5\n",
    "num_term_list_G189E = np.array([int(comb(num_mutations_G189E,i)) for i in range(1,order_G189E+1)])\n",
    "total_params_G189E = sum(num_term_list_G189E)\n",
    "order_start_indices_G189E = list(np.cumsum(num_term_list_G189E)+1)\n",
    "order_start_indices_G189E.insert(0,1)\n",
    "print(num_term_list_G189E,total_params_G189E)\n",
    "print(order_start_indices_G189E)\n",
    "\n",
    "\n",
    "mut_names = ['N26D','S29R','Y35N','Y48C','D49Y','V98I','G31D','Y33H','M34I','H35N','N52H','G57D','L83V','S84N','R85G','R87K']\n",
    "\n",
    "MA_color = '#E8735C'\n",
    "SI_color = 'teal'\n",
    "G189E_color = 'powderblue'\n",
    "\n",
    "\n",
    "ep_type = 'stat'"
   ]
  },
  {
   "cell_type": "markdown",
   "metadata": {},
   "source": [
    "# MA90"
   ]
  },
  {
   "cell_type": "code",
   "execution_count": 12,
   "metadata": {},
   "outputs": [
    {
     "name": "stdout",
     "output_type": "stream",
     "text": [
      "0.9899620201178291\n",
      "['Term', 'Coefficient', 'Standard Error', 'p-value', '95% CI lower', '95% CI upper']\n",
      "6885\n"
     ]
    }
   ],
   "source": [
    "# read model coefficients\n",
    "\n",
    "\n",
    "coefs_MA = np.zeros(total_params_MA+1)\n",
    "stderr_MA = np.zeros(total_params_MA+1)\n",
    "names_MA = []\n",
    "sig_MA = np.full((total_params_MA+1),0)\n",
    "cis_MA = np.zeros((total_params_MA+1,2))\n",
    "\n",
    "with open('../../Epistasis_Inference/MA90/statistical/CH65_MA90_'+str(order_MA)+'order_stat.txt','r') as readfile:\n",
    "    coef_reader = csv.reader(readfile,delimiter='\\t')\n",
    "    num_params = int(next(coef_reader)[-1])\n",
    "    r2_train = float(next(coef_reader)[-1])\n",
    "    print(r2_train)\n",
    "    header = next(coef_reader)\n",
    "    print(header)\n",
    "    for i in range(total_params_MA+1):\n",
    "        row = next(coef_reader)\n",
    "        names_MA.append(row[0])\n",
    "        coefs_MA[i] = float(row[1])\n",
    "        if i >= 1:\n",
    "            stderr_MA[i] = float(row[2])\n",
    "            cis_MA[i,0] = float(row[4])\n",
    "            cis_MA[i,1] = float(row[5])\n",
    "            if float(row[4])*float(row[5]) > 0:\n",
    "                sig_MA[i] = 1\n",
    "    readfile.close()\n",
    "            \n",
    "print(len(coefs_MA))      "
   ]
  },
  {
   "cell_type": "code",
   "execution_count": 13,
   "metadata": {},
   "outputs": [
    {
     "name": "stdout",
     "output_type": "stream",
     "text": [
      "0.0 0.3868877910448989\n"
     ]
    },
    {
     "data": {
      "image/png": "[encoded data removed]",
      "text/plain": [
       "<Figure size 250x200 with 2 Axes>"
      ]
     },
     "metadata": {},
     "output_type": "display_data"
    }
   ],
   "source": [
    "# initialize matrices to store values\n",
    "\n",
    "# total (lower diagonal)\n",
    "total_epistasis = np.zeros((16,16),dtype=float)\n",
    "for i in range(16):  \n",
    "    total_epistasis[i,i] = np.nan\n",
    "\n",
    "\n",
    "# add up all coefficients\n",
    "for i in range(1,len(coefs_MA)):\n",
    "\n",
    "    muts_involved = [int(x)-1 for x in names_MA[i].split(',')]\n",
    "    \n",
    "    # only consider 2nd order and higher\n",
    "    if len(muts_involved) >= 2:\n",
    "        if sig_MA[i]:\n",
    "            for j in range(len(muts_involved)):\n",
    "                for k in range(j+1,len(muts_involved)):\n",
    "                    total_epistasis[muts_involved[k],muts_involved[j]] += np.abs(coefs_MA[i])\n",
    "                    total_epistasis[muts_involved[j],muts_involved[k]] += np.abs(coefs_MA[i])\n",
    "\n",
    "\n",
    "print(np.nanmin(total_epistasis),np.nanmax(total_epistasis))\n",
    "\n",
    "    \n",
    "sns.set_style({\"axes.facecolor\": \"k\"})       \n",
    "plt.figure(figsize=(2.5,2))\n",
    "sns.heatmap(total_epistasis,cmap='inferno',cbar_kws={\"pad\": 0.05},vmax=np.nanmax(total_epistasis)) #,vmin=0.0,vmax=np.nanmax(total_epistasis)) \n",
    "plt.xticks(np.arange(0.5,num_mutations_MA+0.5,1),mut_names,rotation='90')\n",
    "plt.yticks(np.arange(0.5,num_mutations_MA+0.5,1),mut_names,rotation='0')\n",
    "plt.tick_params(length=0,pad=1)\n",
    "\n",
    "\n",
    "\n",
    "plt.tight_layout()\n",
    "plt.savefig('images/CH65_MA_2andup_stat_total_'+ep_type+'.pdf')\n",
    "plt.show()\n",
    "\n"
   ]
  },
  {
   "cell_type": "markdown",
   "metadata": {},
   "source": [
    "# SI06"
   ]
  },
  {
   "cell_type": "code",
   "execution_count": 14,
   "metadata": {},
   "outputs": [
    {
     "name": "stdout",
     "output_type": "stream",
     "text": [
      "['Term', 'Coefficient', 'Standard Error', 'p-value', '95% CI lower', '95% CI upper']\n",
      "4944\n"
     ]
    }
   ],
   "source": [
    "# read model coefficients\n",
    "\n",
    "\n",
    "coefs_SI = np.zeros(total_params_SI+1)\n",
    "stderr_SI = np.zeros(total_params_SI+1)\n",
    "names_SI = []\n",
    "sig_SI = np.full((total_params_SI+1),0)\n",
    "cis_SI = np.zeros((total_params_SI+1,2))\n",
    "\n",
    "with open('../../Epistasis_Inference/SI06/statistical/CH65_SI06_'+str(order_SI)+'order_stat.txt','r') as readfile:\n",
    "    coef_reader = csv.reader(readfile,delimiter='\\t')\n",
    "    num_params = int(next(coef_reader)[-1])\n",
    "    r2_train = float(next(coef_reader)[-1])\n",
    "    header = next(coef_reader)\n",
    "    print(header)\n",
    "    for i in range(total_params_SI+1):\n",
    "        row = next(coef_reader)\n",
    "        names_SI.append(row[0])\n",
    "        coefs_SI[i] = float(row[1])\n",
    "        if i >= 1:\n",
    "            stderr_SI[i] = float(row[2])\n",
    "            cis_SI[i,0] = float(row[4])\n",
    "            cis_SI[i,1] = float(row[5])\n",
    "            if float(row[4])*float(row[5]) > 0:\n",
    "                sig_SI[i] = 1\n",
    "    readfile.close()\n",
    "            \n",
    "print(len(coefs_SI))  "
   ]
  },
  {
   "cell_type": "code",
   "execution_count": 15,
   "metadata": {},
   "outputs": [
    {
     "name": "stdout",
     "output_type": "stream",
     "text": [
      "0.0 1.3445253992890824\n"
     ]
    },
    {
     "data": {
      "image/png": "[encoded data removed]",
      "text/plain": [
       "<Figure size 250x200 with 2 Axes>"
      ]
     },
     "metadata": {},
     "output_type": "display_data"
    }
   ],
   "source": [
    "# combine MA and SI\n",
    "\n",
    "# initialize matrices to store values\n",
    "total_epistasis = np.zeros((num_mutations_MA,num_mutations_MA),dtype=float)\n",
    "\n",
    "\n",
    "    \n",
    "muts_SI = np.array([1,2,3,4,5,6,7,8,9,10,12,13,14,15,16])-1\n",
    "\n",
    "\n",
    "\n",
    "for i in range(1,len(coefs_SI)):\n",
    "    muts_involved = [int(x)-1 for x in names_SI[i].split(',')]\n",
    "    if len(muts_involved) >= 2:\n",
    "        if sig_SI[i]:\n",
    "            for j in range(len(muts_involved)):\n",
    "                for k in range(j+1,len(muts_involved)):\n",
    "                    total_epistasis[muts_involved[k],muts_involved[j]] += np.abs(coefs_SI[i])\n",
    "                    total_epistasis[muts_involved[j],muts_involved[k]] += np.abs(coefs_SI[i])\n",
    "\n",
    "\n",
    "print(np.nanmin(total_epistasis),np.nanmax(total_epistasis))\n",
    "min_val = np.nanmin(total_epistasis)\n",
    "max_val = np.nanmax(total_epistasis)\n",
    "\n",
    "\n",
    "overlay = np.full((num_mutations_MA,num_mutations_MA),np.nan)\n",
    "\n",
    "for i in range(num_mutations_MA):\n",
    "    overlay[i,i] = np.nan\n",
    "    total_epistasis[i,i] = np.nan\n",
    "\n",
    "    for j in [11]:\n",
    "        overlay[j-1,i] = 1\n",
    "        total_epistasis[j-1,i] = np.nan\n",
    "        overlay[i,j-1] = 1\n",
    "        total_epistasis[i,j-1] = np.nan\n",
    "            \n",
    "    \n",
    "mpl.rc_file_defaults() \n",
    "plt.rcParams.update({'font.size': 7,\"axes.facecolor\": \"k\"})\n",
    "\n",
    "\n",
    "cmap = plt.get_cmap('inferno')\n",
    "new_cmap = truncate_colormap(cmap, 0,0.9)\n",
    "\n",
    "\n",
    "plt.figure(figsize=(2.5,2))\n",
    "\n",
    "sns.heatmap(total_epistasis,cmap=new_cmap,cbar_kws={\"pad\": 0.05},vmax=np.nanmax(total_epistasis)) \n",
    "sns.heatmap(overlay,cmap=cmap,vmin=0,vmax=1,cbar=None) \n",
    "\n",
    "plt.xticks(np.arange(0.5,num_mutations_MA+0.5,1),mut_names,rotation='90')\n",
    "plt.yticks(np.arange(0.5,num_mutations_MA+0.5,1),mut_names,rotation='0')\n",
    "plt.tick_params(length=0,pad=1)\n",
    "\n",
    "plt.tight_layout()\n",
    "plt.savefig('images/CH65_SI_2andup_stat_total_'+ep_type+'.pdf')\n",
    "\n",
    "plt.show()"
   ]
  },
  {
   "cell_type": "markdown",
   "metadata": {},
   "source": [
    "## G189E"
   ]
  },
  {
   "cell_type": "code",
   "execution_count": 16,
   "metadata": {},
   "outputs": [
    {
     "name": "stdout",
     "output_type": "stream",
     "text": [
      "0.9730791082278678\n",
      "['Term', 'Coefficient', 'Standard Error', 'p-value', '95% CI lower', '95% CI upper']\n",
      "6885\n"
     ]
    }
   ],
   "source": [
    "# read model coefficients\n",
    "\n",
    "\n",
    "coefs_G189E = np.zeros(total_params_G189E+1)\n",
    "stderr_G189E = np.zeros(total_params_G189E+1)\n",
    "names_G189E = []\n",
    "sig_G189E = np.full((total_params_G189E+1),0)\n",
    "cis_G189E = np.zeros((total_params_G189E+1,2))\n",
    "\n",
    "with open('../../Epistasis_Inference/G189E/statistical/CH65_G189E_'+str(order_G189E)+'order_stat.txt','r') as readfile:\n",
    "    coef_reader = csv.reader(readfile,delimiter='\\t')\n",
    "    num_params = int(next(coef_reader)[-1])\n",
    "    r2_train = float(next(coef_reader)[-1])\n",
    "    print(r2_train)\n",
    "    header = next(coef_reader)\n",
    "    print(header)\n",
    "    for i in range(total_params_G189E+1):\n",
    "        row = next(coef_reader)\n",
    "        names_G189E.append(row[0])\n",
    "        coefs_G189E[i] = float(row[1])\n",
    "        if i >= 1:\n",
    "            stderr_G189E[i] = float(row[2])\n",
    "            cis_G189E[i,0] = float(row[4])\n",
    "            cis_G189E[i,1] = float(row[5])\n",
    "            if float(row[4])*float(row[5]) > 0:\n",
    "                sig_G189E[i] = 1\n",
    "    readfile.close()\n",
    "            \n",
    "print(len(coefs_G189E))      "
   ]
  },
  {
   "cell_type": "code",
   "execution_count": 17,
   "metadata": {},
   "outputs": [
    {
     "name": "stdout",
     "output_type": "stream",
     "text": [
      "0.0 1.3307585651025604\n"
     ]
    },
    {
     "data": {
      "image/png": "[encoded data removed]",
      "text/plain": [
       "<Figure size 250x200 with 2 Axes>"
      ]
     },
     "metadata": {},
     "output_type": "display_data"
    }
   ],
   "source": [
    "# initialize G189Etrices to store values\n",
    "\n",
    "# total (lower diagonal)\n",
    "total_epistasis = np.zeros((16,16),dtype=float)\n",
    "for i in range(16):  \n",
    "    total_epistasis[i,i] = np.nan\n",
    "\n",
    "\n",
    "# add up all coefficients\n",
    "for i in range(1,len(coefs_G189E)):\n",
    "\n",
    "    muts_involved = [int(x)-1 for x in names_G189E[i].split(',')]\n",
    "    \n",
    "    # only consider 2nd order and higher\n",
    "    if len(muts_involved) >= 2:\n",
    "        if sig_G189E[i]:\n",
    "            for j in range(len(muts_involved)):\n",
    "                for k in range(j+1,len(muts_involved)):\n",
    "                    total_epistasis[muts_involved[k],muts_involved[j]] += np.abs(coefs_G189E[i])\n",
    "                    total_epistasis[muts_involved[j],muts_involved[k]] += np.abs(coefs_G189E[i])\n",
    "\n",
    "\n",
    "print(np.nanmin(total_epistasis),np.nanmax(total_epistasis))\n",
    "\n",
    "# norG189Elize total epistasis\n",
    "#print(total_sum,total_sum_signed)\n",
    "#total_epistasis = total_epistasis/total_sum\n",
    "#print(np.nanmin(total_epistasis),np.nanmax(total_epistasis))\n",
    "min_val = np.nanmin(total_epistasis)\n",
    "\n",
    "\n",
    "#cbar_ticks = [10**i for i in range(int(np.floor(np.log10(np.nanmin(total_epistasis)))), 1+int(np.ceil(np.log10(np.nanG189Ex(total_epistasis)))))]\n",
    "# for i in range(16):\n",
    "#     total_epistasis[i,i] = min_val\n",
    "    \n",
    "sns.set_style({\"axes.facecolor\": \"k\"})       \n",
    "plt.figure(figsize=(2.5,2))\n",
    "sns.heatmap(total_epistasis,cmap='inferno',cbar_kws={\"pad\": 0.05},vmax=np.nanmax(total_epistasis)) #,vmin=0.0,vG189Ex=np.nanG189Ex(total_epistasis)) \n",
    "plt.xticks(np.arange(0.5,num_mutations_G189E+0.5,1),mut_names,rotation='90')\n",
    "plt.yticks(np.arange(0.5,num_mutations_G189E+0.5,1),mut_names,rotation='0')\n",
    "plt.tick_params(length=0,pad=1)\n",
    "\n",
    "\n",
    "\n",
    "plt.tight_layout()\n",
    "plt.savefig('images/CH65_G189E_2andup_stat_total_'+ep_type+'.pdf')\n",
    "plt.show()\n",
    "\n"
   ]
  },
  {
   "cell_type": "markdown",
   "metadata": {},
   "source": [
    "# Variance partitioning"
   ]
  },
  {
   "cell_type": "code",
   "execution_count": 18,
   "metadata": {},
   "outputs": [
    {
     "name": "stdout",
     "output_type": "stream",
     "text": [
      "(65530, 16) (65530,)\n",
      "0.9949683513146678 0.9899620201178282\n",
      "[0.7533823043071094, 0.9563381875759916, 0.9799682683197417, 0.986819137104747, 0.9899620201178282]\n",
      "0.23897857796863797\n",
      "[0, 0.761021422031362, 0.9660352297779722, 0.9899049139310445, 0.9968252488992385, 1.0]\n",
      "[0.761021422031362, 0.20501380774661015, 0.023869684153072335, 0.006920334968193997, 0.003174751100761486]\n"
     ]
    }
   ],
   "source": [
    "# read in genos and phenos\n",
    "df = pd.read_csv('../../Kd_Inference/results_CH65/Kd_processed/20220603_CH65_QCfilt_REPfilt.csv',dtype={\"geno\": str})\n",
    "# MA\n",
    "df_MA = df.dropna(subset=['MA90_mean'])\n",
    "genos_MA = np.array(df_MA[['pos'+x for x in MA_mutations]].copy(),dtype=np.float64)\n",
    "phenos_MA = df_MA[['MA90_mean']].values.flatten()\n",
    "print(genos_MA.shape,phenos_MA.shape)\n",
    "genos_MA = 2*genos_MA-1\n",
    "\n",
    "\n",
    "poly_current_MA = PolynomialFeatures(order_MA,interaction_only=True)\n",
    "genos_current_MA = poly_current_MA.fit_transform(genos_MA)\n",
    "\n",
    "phenos_pred = np.tensordot(genos_current_MA,coefs_MA,axes=1)\n",
    "pearsonr = np.corrcoef(phenos_pred,phenos_MA)[1,0]\n",
    "print(pearsonr,pearsonr**2)\n",
    "\n",
    "\n",
    "order_r2_MA = []\n",
    "for i in range(1,order_MA+1):\n",
    "    phenos_pred = np.tensordot(genos_current_MA[:,:order_start_indices_MA[i]],coefs_MA[:order_start_indices_MA[i]],axes=1)\n",
    "    pearsonr = np.corrcoef(phenos_pred,phenos_MA)[1,0]\n",
    "    order_r2_MA.append(pearsonr**2)\n",
    "print(order_r2_MA)\n",
    "var_expl = np.array(order_r2_MA)/order_r2_MA[-1]\n",
    "\n",
    "total_ep = 1-var_expl[0]\n",
    "print(total_ep)\n",
    "\n",
    "delta_ep = list(var_expl)\n",
    "delta_ep.insert(0,0)\n",
    "print(delta_ep)\n",
    "\n",
    "delta_ep = [delta_ep[i]-delta_ep[i-1] for i in range(1,6)]\n",
    "print(delta_ep)\n"
   ]
  },
  {
   "cell_type": "code",
   "execution_count": 19,
   "metadata": {},
   "outputs": [
    {
     "data": {
      "image/png": "[encoded data removed]",
      "text/plain": [
       "<Figure size 160x200 with 1 Axes>"
      ]
     },
     "metadata": {},
     "output_type": "display_data"
    }
   ],
   "source": [
    "sns.set_style({\"axes.facecolor\": \"w\"})  \n",
    "plt.figure(figsize=(1.6,2))\n",
    "plt.bar(range(1,6),delta_ep,width=0.8,color=MA_color,label='MA90')\n",
    "plt.ylim([0,1])\n",
    "plt.ylabel('Fractional variance explained')\n",
    "plt.xlabel('Order of interaction')\n",
    "plt.xticks([1,2,3,4,5],['1','2','3','4','5'])\n",
    "plt.tight_layout()\n",
    "plt.legend()\n",
    "plt.savefig('images/CH65_MA_var_partitioning.pdf',transparent=True)\n",
    "plt.show()"
   ]
  },
  {
   "cell_type": "code",
   "execution_count": 25,
   "metadata": {},
   "outputs": [
    {
     "name": "stdout",
     "output_type": "stream",
     "text": [
      "(32623, 15) (32623,)\n",
      "0.9904817599538435 0.9810541168012632\n",
      "[0.6244185931476727, 0.8813770521160632, 0.9424207796063557, 0.9651039142590406, 0.9810541168012632]\n",
      "0.3635227838566176\n",
      "[0, 0.6364772161433824, 0.8983979956068091, 0.9606205850082238, 0.9837417709491619, 1.0]\n",
      "[0.6364772161433824, 0.26192077946342673, 0.062222589401414674, 0.02312118594093815, 0.01625822905083807]\n"
     ]
    }
   ],
   "source": [
    "# read in genos and phenos\n",
    "df = pd.read_csv('../../Kd_Inference/results_CH65/Kd_processed/20220603_CH65_QCfilt_REPfilt.csv',dtype={\"variant\": str})\n",
    "# SI\n",
    "# # for SI, remove N52H\n",
    "df_SI = df.dropna(subset=['SI06_mean'])\n",
    "for mut in SI_required_mutations:\n",
    "    df_SI = df_SI.loc[df_SI['pos'+mut] == 1]\n",
    "\n",
    "genos_SI = np.array(df_SI[['pos'+x for x in SI_mutations]].copy(),dtype=np.float64)\n",
    "phenos_SI = df_SI[['SI06_mean']].values.flatten()\n",
    "print(genos_SI.shape,phenos_SI.shape)\n",
    "genos_SI = 2*genos_SI-1\n",
    "\n",
    "\n",
    "poly_current_SI = PolynomialFeatures(order_SI,interaction_only=True)\n",
    "genos_current_SI = poly_current_SI.fit_transform(genos_SI)\n",
    "\n",
    "phenos_pred = np.tensordot(genos_current_SI,coefs_SI,axes=1)\n",
    "pearsonr = np.corrcoef(phenos_pred,phenos_SI)[1,0]\n",
    "print(pearsonr,pearsonr**2)\n",
    "\n",
    "\n",
    "order_r2_SI = []\n",
    "for i in range(1,order_SI+1):\n",
    "    phenos_pred = np.tensordot(genos_current_SI[:,:order_start_indices_SI[i]],coefs_SI[:order_start_indices_SI[i]],axes=1)\n",
    "    pearsonr = np.corrcoef(phenos_pred,phenos_SI)[1,0]\n",
    "    order_r2_SI.append(pearsonr**2)\n",
    "print(order_r2_SI)\n",
    "var_expl = np.array(order_r2_SI)/order_r2_SI[-1]\n",
    "\n",
    "total_ep = 1-var_expl[0]\n",
    "print(total_ep)\n",
    "\n",
    "delta_ep = list(var_expl)\n",
    "delta_ep.insert(0,0)\n",
    "print(delta_ep)\n",
    "\n",
    "delta_ep = [delta_ep[i]-delta_ep[i-1] for i in range(1,order_SI+1)]\n",
    "print(delta_ep)\n"
   ]
  },
  {
   "cell_type": "code",
   "execution_count": 26,
   "metadata": {},
   "outputs": [
    {
     "data": {
      "image/png": "[encoded data removed]",
      "text/plain": [
       "<Figure size 160x200 with 1 Axes>"
      ]
     },
     "metadata": {},
     "output_type": "display_data"
    }
   ],
   "source": [
    "plt.figure(figsize=(1.6,2))\n",
    "plt.bar(range(1,order_SI+1),delta_ep,width=0.8,color=SI_color,label='SI06')\n",
    "plt.ylim([0,1])\n",
    "plt.ylabel('Fractional variance explained')\n",
    "plt.xlabel('Order of interaction')\n",
    "plt.xticks([1,2,3,4,5],['1','2','3','4','5'])\n",
    "plt.legend()\n",
    "plt.tight_layout()\n",
    "plt.savefig('images/CH65_SI_var_partitioning.pdf')\n",
    "plt.show()"
   ]
  },
  {
   "cell_type": "code",
   "execution_count": 22,
   "metadata": {},
   "outputs": [
    {
     "name": "stdout",
     "output_type": "stream",
     "text": [
      "(64142, 16) (64142,)\n",
      "0.9864477219943627 0.9730791082278675\n",
      "[0.724868243902659, 0.9084002185537908, 0.9438660855315472, 0.9626165912611192, 0.9730791082278675]\n",
      "0.25507778578993445\n",
      "[0, 0.7449222142100655, 0.9335317250908127, 0.9699787792695274, 0.9892480304239578, 1.0]\n",
      "[0.7449222142100655, 0.18860951088074718, 0.03644705417871463, 0.019269251154430456, 0.010751969576042186]\n"
     ]
    }
   ],
   "source": [
    "# read in genos and phenos\n",
    "df = pd.read_csv('../../Kd_Inference/results_CH65/Kd_processed/20220603_CH65_QCfilt_REPfilt.csv',dtype={\"geno\": str})\n",
    "# G189E\n",
    "df_G189E = df.dropna(subset=['G189E_mean'])\n",
    "genos_G189E = np.array(df_G189E[['pos'+x for x in G189E_mutations]].copy(),dtype=np.float64)\n",
    "phenos_G189E = df_G189E[['G189E_mean']].values.flatten()\n",
    "print(genos_G189E.shape,phenos_G189E.shape)\n",
    "genos_G189E = 2*genos_G189E-1\n",
    "\n",
    "\n",
    "poly_current_G189E = PolynomialFeatures(order_G189E,interaction_only=True)\n",
    "genos_current_G189E = poly_current_G189E.fit_transform(genos_G189E)\n",
    "\n",
    "phenos_pred = np.tensordot(genos_current_G189E,coefs_G189E,axes=1)\n",
    "pearsonr = np.corrcoef(phenos_pred,phenos_G189E)[1,0]\n",
    "print(pearsonr,pearsonr**2)\n",
    "\n",
    "\n",
    "order_r2_G189E = []\n",
    "for i in range(1,order_G189E+1):\n",
    "    phenos_pred = np.tensordot(genos_current_G189E[:,:order_start_indices_G189E[i]],coefs_G189E[:order_start_indices_G189E[i]],axes=1)\n",
    "    pearsonr = np.corrcoef(phenos_pred,phenos_G189E)[1,0]\n",
    "    order_r2_G189E.append(pearsonr**2)\n",
    "print(order_r2_G189E)\n",
    "var_expl = np.array(order_r2_G189E)/order_r2_G189E[-1]\n",
    "\n",
    "total_ep = 1-var_expl[0]\n",
    "print(total_ep)\n",
    "\n",
    "delta_ep = list(var_expl)\n",
    "delta_ep.insert(0,0)\n",
    "print(delta_ep)\n",
    "\n",
    "delta_ep = [delta_ep[i]-delta_ep[i-1] for i in range(1,6)]\n",
    "print(delta_ep)\n"
   ]
  },
  {
   "cell_type": "code",
   "execution_count": 23,
   "metadata": {},
   "outputs": [
    {
     "data": {
      "image/png": "[encoded data removed]",
      "text/plain": [
       "<Figure size 160x200 with 1 Axes>"
      ]
     },
     "metadata": {},
     "output_type": "display_data"
    }
   ],
   "source": [
    "sns.set_style({\"axes.facecolor\": \"w\"})  \n",
    "plt.figure(figsize=(1.6,2))\n",
    "plt.bar(range(1,6),delta_ep,width=0.8,color=G189E_color,label='G189E')\n",
    "plt.ylim([0,1])\n",
    "plt.ylabel('Fractional variance explained')\n",
    "plt.xlabel('Order of interaction')\n",
    "plt.xticks([1,2,3,4,5],['1','2','3','4','5'])\n",
    "plt.tight_layout()\n",
    "plt.legend()\n",
    "plt.savefig('images/CH65_G189E_var_partitioning.pdf',transparent=True)\n",
    "plt.show()"
   ]
  },
  {
   "cell_type": "code",
   "execution_count": null,
   "metadata": {},
   "outputs": [],
   "source": []
  }
 ],
 "metadata": {
  "kernelspec": {
   "display_name": "Python 3 (ipykernel)",
   "language": "python",
   "name": "python3"
  },
  "language_info": {
   "codemirror_mode": {
    "name": "ipython",
    "version": 3
   },
   "file_extension": ".py",
   "mimetype": "text/x-python",
   "name": "python",
   "nbconvert_exporter": "python",
   "pygments_lexer": "ipython3",
   "version": "3.9.12"
  }
 },
 "nbformat": 4,
 "nbformat_minor": 4
}
