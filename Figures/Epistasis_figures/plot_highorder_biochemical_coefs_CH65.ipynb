{
 "cells": [
  {
   "cell_type": "code",
   "execution_count": 1,
   "metadata": {},
   "outputs": [],
   "source": [
    "import numpy as np\n",
    "import matplotlib.pyplot as plt\n",
    "import csv\n",
    "import sys\n",
    "import seaborn as sns\n",
    "from scipy.special import comb\n",
    "from sklearn.preprocessing import PolynomialFeatures\n",
    "from matplotlib.colors import LogNorm\n",
    "import matplotlib as mpl\n",
    "import pandas as pd\n",
    "import itertools as it\n",
    "import matplotlib.colors as colors\n",
    "\n",
    "from mutation_info import *\n",
    "\n",
    "def powerset(iterable):\n",
    "    \"powerset([1,2,3]) --> () (1,) (2,) (3,) (1,2) (1,3) (2,3) (1,2,3)\"\n",
    "    s = list(iterable)\n",
    "    return it.chain.from_iterable(it.combinations(s, r) for r in range(len(s)+1))\n",
    "\n",
    "plt.rcParams.update({'font.size': 7})\n",
    "plt.rcParams['font.sans-serif'] = \"Arial\"\n",
    "plt.rcParams['font.family'] = \"sans-serif\"\n",
    "plt.rcParams['axes.linewidth'] = 0.5\n",
    "plt.rcParams[\"xtick.major.size\"] = 2\n",
    "plt.rcParams[\"ytick.major.size\"] = 2\n",
    "\n",
    "def truncate_colormap(cmap, minval=0.0, maxval=1.0, n=100):\n",
    "    new_cmap = colors.LinearSegmentedColormap.from_list(\n",
    "        'trunc({n},{a:.2f},{b:.2f})'.format(n=cmap.name, a=minval, b=maxval),\n",
    "        cmap(np.linspace(minval, maxval, n)))\n",
    "    return new_cmap\n"
   ]
  },
  {
   "cell_type": "code",
   "execution_count": 2,
   "metadata": {},
   "outputs": [
    {
     "name": "stdout",
     "output_type": "stream",
     "text": [
      "[  16  120  560 1820 4368] 6884\n",
      "[1, 17, 137, 697, 2517, 6885]\n",
      "[  15  105  455 1365 3003] 4943\n",
      "[1, 16, 121, 576, 1941, 4944]\n",
      "[  16  120  560 1820 4368] 6884\n",
      "[1, 17, 137, 697, 2517, 6885]\n"
     ]
    }
   ],
   "source": [
    "# set some things\n",
    "num_mutations_MA = 16\n",
    "order_MA = 5\n",
    "num_term_list_MA = np.array([int(comb(num_mutations_MA,i)) for i in range(1,order_MA+1)])\n",
    "total_params_MA = sum(num_term_list_MA)\n",
    "order_start_indices_MA = list(np.cumsum(num_term_list_MA)+1)\n",
    "order_start_indices_MA.insert(0,1)\n",
    "print(num_term_list_MA,total_params_MA)\n",
    "print(order_start_indices_MA)\n",
    "\n",
    "num_mutations_SI = 15\n",
    "order_SI = 5\n",
    "num_term_list_SI = np.array([int(comb(num_mutations_SI,i)) for i in range(1,order_SI+1)])\n",
    "total_params_SI = sum(num_term_list_SI)\n",
    "order_start_indices_SI = list(np.cumsum(num_term_list_SI)+1)\n",
    "order_start_indices_SI.insert(0,1)\n",
    "print(num_term_list_SI,total_params_SI)\n",
    "print(order_start_indices_SI)\n",
    "\n",
    "num_mutations_G189E = 16\n",
    "order_G189E = 5\n",
    "num_term_list_G189E = np.array([int(comb(num_mutations_G189E,i)) for i in range(1,order_G189E+1)])\n",
    "total_params_G189E = sum(num_term_list_G189E)\n",
    "order_start_indices_G189E = list(np.cumsum(num_term_list_G189E)+1)\n",
    "order_start_indices_G189E.insert(0,1)\n",
    "print(num_term_list_G189E,total_params_G189E)\n",
    "print(order_start_indices_G189E)\n",
    "\n",
    "\n",
    "mut_names = ['N26D','S29R','Y35N','Y48C','D49Y','V98I','G31D','Y33H','M34I','H35N','N52H','G57D','L83V','S84N','R85G','R87K']\n",
    "\n",
    "MA_color = '#E8735C'\n",
    "SI_color = 'teal'\n",
    "G189E_color = 'powderblue'\n",
    "\n",
    "\n",
    "ep_type = 'biochem'"
   ]
  },
  {
   "cell_type": "markdown",
   "metadata": {},
   "source": [
    "# MA90"
   ]
  },
  {
   "cell_type": "code",
   "execution_count": 3,
   "metadata": {},
   "outputs": [
    {
     "name": "stdout",
     "output_type": "stream",
     "text": [
      "0.9899620201178291\n",
      "['Term', 'Coefficient', 'Standard Error', 'p-value', '95% CI lower', '95% CI upper']\n",
      "6885\n"
     ]
    }
   ],
   "source": [
    "# read model coefficients\n",
    "coefs_MA = np.zeros(total_params_MA+1)\n",
    "stderr_MA = np.zeros(total_params_MA+1)\n",
    "names_MA = []\n",
    "sig_MA = np.full((total_params_MA+1),0)\n",
    "cis_MA = np.zeros((total_params_MA+1,2))\n",
    "\n",
    "with open('../../Epistasis_Inference/MA90/biochemical/CH65_MA90_'+str(order_MA)+'order_biochem.txt','r') as readfile:\n",
    "    coef_reader = csv.reader(readfile,delimiter='\\t')\n",
    "    num_params = int(next(coef_reader)[-1])\n",
    "    r2_train = float(next(coef_reader)[-1])\n",
    "    print(r2_train)\n",
    "    header = next(coef_reader)\n",
    "    print(header)\n",
    "    for i in range(total_params_MA+1):\n",
    "        row = next(coef_reader)\n",
    "        names_MA.append(row[0])\n",
    "        coefs_MA[i] = float(row[1])\n",
    "        if i >= 1:\n",
    "            stderr_MA[i] = float(row[2])\n",
    "            cis_MA[i,0] = float(row[4])\n",
    "            cis_MA[i,1] = float(row[5])\n",
    "            if float(row[4])*float(row[5]) > 0:\n",
    "                sig_MA[i] = 1\n",
    "    readfile.close()\n",
    "            \n",
    "print(len(coefs_MA))      "
   ]
  },
  {
   "cell_type": "code",
   "execution_count": 36,
   "metadata": {},
   "outputs": [
    {
     "name": "stdout",
     "output_type": "stream",
     "text": [
      "0.0 6.404450540758404\n"
     ]
    },
    {
     "data": {
      "image/png": "[encoded data removed]",
      "text/plain": [
       "<Figure size 250x200 with 2 Axes>"
      ]
     },
     "metadata": {},
     "output_type": "display_data"
    }
   ],
   "source": [
    "# initialize matrices to store values\n",
    "\n",
    "# total (lower diagonal)\n",
    "total_epistasis = np.zeros((16,16),dtype=float)\n",
    "for i in range(16):  \n",
    "    total_epistasis[i,i] = np.nan\n",
    "\n",
    "\n",
    "# add up all coefficients\n",
    "for i in range(1,len(coefs_MA)):\n",
    "\n",
    "    muts_involved = [int(x)-1 for x in names_MA[i].split(',')]\n",
    "    \n",
    "    # only consider 2nd order and higher\n",
    "    if len(muts_involved) >= 2:\n",
    "        if sig_MA[i]:\n",
    "            for j in range(len(muts_involved)):\n",
    "                for k in range(j+1,len(muts_involved)):\n",
    "                    total_epistasis[muts_involved[k],muts_involved[j]] += np.abs(coefs_MA[i])\n",
    "                    total_epistasis[muts_involved[j],muts_involved[k]] += np.abs(coefs_MA[i])\n",
    "\n",
    "\n",
    "print(np.nanmin(total_epistasis),np.nanmax(total_epistasis))\n",
    "\n",
    "sns.set_style({\"axes.facecolor\": \"k\"})       \n",
    "plt.figure(figsize=(2.5,2))\n",
    "sns.heatmap(total_epistasis,cmap='inferno',cbar_kws={\"pad\": 0.05},vmax=np.nanmax(total_epistasis)) #,vmin=0.0,vmax=np.nanmax(total_epistasis)) \n",
    "plt.xticks(np.arange(0.5,num_mutations_MA+0.5,1),mut_names,rotation='90')\n",
    "plt.yticks(np.arange(0.5,num_mutations_MA+0.5,1),mut_names,rotation='0')\n",
    "plt.tick_params(length=0,pad=1)\n",
    "\n",
    "\n",
    "\n",
    "plt.tight_layout()\n",
    "plt.savefig('images/CH65_MA_2andup_biochem_total_'+ep_type+'.pdf')\n",
    "plt.show()\n",
    "\n"
   ]
  },
  {
   "cell_type": "code",
   "execution_count": 37,
   "metadata": {},
   "outputs": [
    {
     "name": "stdout",
     "output_type": "stream",
     "text": [
      "56 627 6185 6868\n",
      "1.0102010059042223 3.698700638351447 15.765864717302062\n",
      "0.018039303676861112 0.005899044080305338 0.0025490484587392176\n",
      "51 578 6000\n"
     ]
    },
    {
     "data": {
      "image/png": "[encoded data removed]",
      "text/plain": [
       "<Figure size 140x200 with 1 Axes>"
      ]
     },
     "metadata": {},
     "output_type": "display_data"
    }
   ],
   "source": [
    "# define variables\n",
    "light_ep = 0\n",
    "heavy_ep = 0\n",
    "between_ep = 0\n",
    "light_ct = 0\n",
    "heavy_ct = 0\n",
    "between_ct = 0\n",
    "light_int = []\n",
    "heavy_int = []\n",
    "between_int = []\n",
    "light_chain = [0,1,2,3,4,5]\n",
    "heavy_chain = [6,7,8,9,10,11,12,13,14,15]\n",
    "\n",
    "#calculate total number of possible interactions within and between chains for normalization\n",
    "num_term_list_light = np.array([int(comb(6,i)) for i in range(1,5+1)])\n",
    "light_N = sum(num_term_list_light)-len(light_chain)\n",
    "num_term_list_heavy = np.array([int(comb(10,i)) for i in range(1,5+1)])\n",
    "heavy_N = sum(num_term_list_heavy)-len(heavy_chain)\n",
    "num_term_list_total = np.array([int(comb(16,i)) for i in range(1,5+1)])\n",
    "total_N = sum(num_term_list_total)-16\n",
    "between_N = total_N - light_N - heavy_N\n",
    "print(light_N,heavy_N,between_N,total_N)\n",
    "\n",
    "\n",
    "# initialize matrices to store values\n",
    "total_epistasis = np.zeros((16,16),dtype=float)\n",
    "for i in range(16):  \n",
    "    total_epistasis[i,i] = np.nan\n",
    "\n",
    "\n",
    "# add up all coefficients\n",
    "for i in range(1,len(coefs_MA)):\n",
    "\n",
    "    muts_involved = [int(x)-1 for x in names_MA[i].split(',')]\n",
    "    \n",
    "    # only consider 2nd order and higher\n",
    "    if len(muts_involved) >= 2:\n",
    "        if all(elem in light_chain for elem in muts_involved):\n",
    "            if sig_MA[i]:\n",
    "                light_ep += np.abs(coefs_MA[i])\n",
    "                light_int.append(coefs_MA[i])\n",
    "            else:\n",
    "                light_ct+=1\n",
    "        elif all(elem in heavy_chain for elem in muts_involved):\n",
    "            if sig_MA[i]:\n",
    "                heavy_ep += np.abs(coefs_MA[i])\n",
    "                heavy_int.append(coefs_MA[i])\n",
    "            else:\n",
    "                heavy_ct+=1\n",
    "        else:\n",
    "            if sig_MA[i]:\n",
    "                between_ep += np.abs(coefs_MA[i])\n",
    "                between_int.append(coefs_MA[i])\n",
    "            else:\n",
    "                between_ct+=1\n",
    "    \n",
    "#normalize by total number of possible interactions\n",
    "light_ep_norm = light_ep/light_N\n",
    "heavy_ep_norm = heavy_ep/heavy_N\n",
    "between_ep_norm = between_ep/between_N\n",
    "light_per = light_ct/light_N\n",
    "heavy_per = heavy_ct/heavy_N\n",
    "between_per = between_ct/between_N\n",
    "\n",
    "print(light_ep,heavy_ep,between_ep)\n",
    "toplot =[light_ep_norm,heavy_ep_norm,between_ep_norm]\n",
    "print(light_ep_norm,heavy_ep_norm,between_ep_norm)\n",
    "print(light_ct,heavy_ct,between_ct)\n",
    "\n",
    "sns.set_style({\"axes.facecolor\": \"w\"})  \n",
    "plt.figure(figsize=(1.4,2))\n",
    "plt.bar(range(1,4),toplot,width=0.6,color=('tomato','darkred','gray'),label='MA90')\n",
    "plt.ylabel('Mean epistatic coefficient')\n",
    "plt.xlabel('Interaction')\n",
    "plt.xticks([1,2,3],['VL','VH','both'])\n",
    "plt.tight_layout()\n",
    "plt.savefig('images/CH65_MA_ep_chains.pdf',transparent=True)\n",
    "plt.show()"
   ]
  },
  {
   "cell_type": "code",
   "execution_count": 40,
   "metadata": {},
   "outputs": [
    {
     "name": "stderr",
     "output_type": "stream",
     "text": [
      "/Users/angelaphillips/opt/anaconda3/lib/python3.7/site-packages/seaborn/categorical.py:1296: UserWarning: 22.2% of the points cannot be placed; you may want to decrease the size of the markers or use stripplot.\n",
      "  warnings.warn(msg, UserWarning)\n"
     ]
    },
    {
     "data": {
      "image/png": "[encoded data removed]",
      "text/plain": [
       "<Figure size 160x200 with 1 Axes>"
      ]
     },
     "metadata": {},
     "output_type": "display_data"
    }
   ],
   "source": [
    "l = {'light': light_int}\n",
    "h = {'heavy': heavy_int}\n",
    "b = {'between' : between_int}\n",
    "light_df = pd.DataFrame(data=l)\n",
    "heavy_df = pd.DataFrame(data=h)\n",
    "between_df = pd.DataFrame(data=b)\n",
    "df = pd.concat([light_df,heavy_df,between_df], axis=1)\n",
    "\n",
    "sns.set_style({\"axes.facecolor\": \"w\"})  \n",
    "plt.figure(figsize=(1.6,2))\n",
    "sns.swarmplot(data=df,palette=('tomato','darkred','gray'),size=2) \n",
    "plt.ylabel('Epistatic coefficient')\n",
    "plt.xlabel('Interaction')\n",
    "plt.xticks([0,1,2],['VL\\n'+str(round(light_per,2)),'VH\\n'+str(round(heavy_per,2)),'both\\n'+str(round(between_per,2))])\n",
    "plt.tight_layout()\n",
    "plt.savefig('images/CH65_MA_ep_chains_box.pdf',transparent=True)\n",
    "plt.show()"
   ]
  },
  {
   "cell_type": "markdown",
   "metadata": {},
   "source": [
    "# SI06"
   ]
  },
  {
   "cell_type": "code",
   "execution_count": 41,
   "metadata": {},
   "outputs": [
    {
     "name": "stdout",
     "output_type": "stream",
     "text": [
      "['Term', 'Coefficient', 'Standard Error', 'p-value', '95% CI lower', '95% CI upper']\n",
      "4944\n"
     ]
    }
   ],
   "source": [
    "# read model coefficients\n",
    "\n",
    "\n",
    "coefs_SI = np.zeros(total_params_SI+1)\n",
    "stderr_SI = np.zeros(total_params_SI+1)\n",
    "names_SI = []\n",
    "sig_SI = np.full((total_params_SI+1),0)\n",
    "cis_SI = np.zeros((total_params_SI+1,2))\n",
    "\n",
    "with open('../../Epistasis_Inference/SI06/biochemical/CH65_SI06_newdata_'+str(order_SI)+'order_biochem.txt','r') as readfile:\n",
    "    coef_reader = csv.reader(readfile,delimiter='\\t')\n",
    "    num_params = int(next(coef_reader)[-1])\n",
    "    r2_train = float(next(coef_reader)[-1])\n",
    "    header = next(coef_reader)\n",
    "    print(header)\n",
    "    for i in range(total_params_SI+1):\n",
    "        row = next(coef_reader)\n",
    "        names_SI.append(row[0])\n",
    "        coefs_SI[i] = float(row[1])\n",
    "        if i >= 1:\n",
    "            stderr_SI[i] = float(row[2])\n",
    "            cis_SI[i,0] = float(row[4])\n",
    "            cis_SI[i,1] = float(row[5])\n",
    "            if float(row[4])*float(row[5]) > 0:\n",
    "                sig_SI[i] = 1\n",
    "    readfile.close()\n",
    "            \n",
    "print(len(coefs_SI))  "
   ]
  },
  {
   "cell_type": "code",
   "execution_count": 43,
   "metadata": {},
   "outputs": [
    {
     "name": "stdout",
     "output_type": "stream",
     "text": [
      "0.0 44.23160378360386\n"
     ]
    },
    {
     "data": {
      "image/png": "[encoded data removed]",
      "text/plain": [
       "<Figure size 250x200 with 2 Axes>"
      ]
     },
     "metadata": {},
     "output_type": "display_data"
    }
   ],
   "source": [
    "# combine MA and SI\n",
    "\n",
    "# initialize matrices to store values\n",
    "total_epistasis = np.zeros((num_mutations_MA,num_mutations_MA),dtype=float)\n",
    "\n",
    "\n",
    "    \n",
    "muts_SI = np.array([1,2,3,4,5,6,7,8,9,10,12,13,14,15,16])-1\n",
    "\n",
    "\n",
    "\n",
    "for i in range(1,len(coefs_SI)):\n",
    "    muts_involved = [int(x)-1 for x in names_SI[i].split(',')]\n",
    "    if len(muts_involved) >= 2:\n",
    "        if sig_SI[i]:\n",
    "            for j in range(len(muts_involved)):\n",
    "                for k in range(j+1,len(muts_involved)):\n",
    "                    total_epistasis[muts_involved[k],muts_involved[j]] += np.abs(coefs_SI[i])\n",
    "                    total_epistasis[muts_involved[j],muts_involved[k]] += np.abs(coefs_SI[i])\n",
    "\n",
    "\n",
    "print(np.nanmin(total_epistasis),np.nanmax(total_epistasis))\n",
    "min_val = np.nanmin(total_epistasis)\n",
    "max_val = np.nanmax(total_epistasis)\n",
    "\n",
    "\n",
    "overlay = np.full((num_mutations_MA,num_mutations_MA),np.nan)\n",
    "\n",
    "for i in range(num_mutations_MA):\n",
    "    overlay[i,i] = np.nan\n",
    "    total_epistasis[i,i] = np.nan\n",
    "\n",
    "    for j in [11]:\n",
    "        overlay[j-1,i] = 1\n",
    "        total_epistasis[j-1,i] = np.nan\n",
    "        overlay[i,j-1] = 1\n",
    "        total_epistasis[i,j-1] = np.nan\n",
    "            \n",
    "    \n",
    "mpl.rc_file_defaults() \n",
    "plt.rcParams.update({'font.size': 7,\"axes.facecolor\": \"k\"})\n",
    "\n",
    "\n",
    "cmap = plt.get_cmap('inferno')\n",
    "new_cmap = truncate_colormap(cmap, 0,0.9)\n",
    "\n",
    "\n",
    "plt.figure(figsize=(2.5,2))\n",
    "\n",
    "sns.heatmap(total_epistasis,cmap=new_cmap,cbar_kws={\"pad\": 0.05},vmax=np.nanmax(total_epistasis)) \n",
    "sns.heatmap(overlay,cmap=cmap,vmin=0,vmax=1,cbar=None) \n",
    "\n",
    "plt.xticks(np.arange(0.5,num_mutations_MA+0.5,1),mut_names,rotation='90')\n",
    "plt.yticks(np.arange(0.5,num_mutations_MA+0.5,1),mut_names,rotation='0')\n",
    "plt.tick_params(length=0,pad=1)\n",
    "\n",
    "plt.tight_layout()\n",
    "plt.savefig('images/CH65_SI_2andup_biochem_total_'+ep_type+'.pdf')\n",
    "\n",
    "plt.show()"
   ]
  },
  {
   "cell_type": "code",
   "execution_count": 51,
   "metadata": {},
   "outputs": [
    {
     "name": "stdout",
     "output_type": "stream",
     "text": [
      "[ 6 15 20 15  6]\n",
      "[  9  36  84 126 126]\n",
      "[  15  105  455 1365 3003]\n",
      "56 372 4499 4927\n",
      "10.441623611359265 4.595756497798315 111.5894829562692\n",
      "0.1864575644885583 0.01235418413386644 0.02480317469576999\n",
      "38 359 4215\n"
     ]
    },
    {
     "data": {
      "image/png": "[encoded data removed]",
      "text/plain": [
       "<Figure size 140x200 with 1 Axes>"
      ]
     },
     "metadata": {},
     "output_type": "display_data"
    }
   ],
   "source": [
    "# define variables\n",
    "light_ep = 0\n",
    "heavy_ep = 0\n",
    "between_ep = 0\n",
    "light_ct = 0\n",
    "heavy_ct = 0\n",
    "between_ct = 0\n",
    "light_chain = [0,1,2,3,4,5]\n",
    "heavy_chain = [6,7,8,9,11,12,13,14,15]\n",
    "light_int = []\n",
    "heavy_int = []\n",
    "between_int = []\n",
    "\n",
    "#calculate total number of possible interactions within and between chains for normalization\n",
    "num_term_list_light = np.array([int(comb(6,i)) for i in range(1,5+1)])\n",
    "print(num_term_list_light)\n",
    "light_N = sum(num_term_list_light)-len(light_chain)\n",
    "num_term_list_heavy = np.array([int(comb(9,i)) for i in range(1,5+1)])\n",
    "heavy_N = sum(num_term_list_heavy)-len(heavy_chain)\n",
    "print(num_term_list_heavy)\n",
    "num_term_list_total = np.array([int(comb(15,i)) for i in range(1,5+1)])\n",
    "print(num_term_list_total)\n",
    "total_N = sum(num_term_list_total)-16\n",
    "between_N = total_N - light_N - heavy_N\n",
    "print(light_N,heavy_N,between_N,total_N)\n",
    "\n",
    "\n",
    "# initialize matrices to store values\n",
    "total_epistasis = np.zeros((16,16),dtype=float)\n",
    "for i in range(16):  \n",
    "    total_epistasis[i,i] = np.nan\n",
    "\n",
    "\n",
    "# add up all coefficients\n",
    "for i in range(1,len(coefs_SI)):\n",
    "\n",
    "    muts_involved = [int(x)-1 for x in names_SI[i].split(',')]\n",
    "    \n",
    "    # only consider 2nd order and higher\n",
    "    if len(muts_involved) >= 2:\n",
    "        if all(elem in light_chain for elem in muts_involved):\n",
    "            if sig_SI[i]:\n",
    "#                 print(muts_involved)\n",
    "#                 print(coefs_SI[i])\n",
    "                light_ep += np.abs(coefs_SI[i])\n",
    "                light_int.append(coefs_SI[i])\n",
    "            else:\n",
    "                light_ct+=1\n",
    "        elif all(elem in heavy_chain for elem in muts_involved):\n",
    "            if sig_SI[i]:\n",
    "#                 print(muts_involved)\n",
    "#                 print(coefs_SI[i])\n",
    "                heavy_ep += np.abs(coefs_SI[i])\n",
    "                heavy_int.append(coefs_SI[i])\n",
    "            else:\n",
    "                heavy_ct+=1\n",
    "        else:\n",
    "            if sig_SI[i]:\n",
    "#                 print(muts_involved)\n",
    "#                 print(coefs_SI[i])\n",
    "                between_ep += np.abs(coefs_SI[i])\n",
    "                between_int.append(coefs_SI[i])\n",
    "            else:\n",
    "                between_ct+=1\n",
    "    \n",
    "#normalize by total number of possible interactions\n",
    "light_ep_norm = light_ep/light_N\n",
    "heavy_ep_norm = heavy_ep/heavy_N\n",
    "between_ep_norm = between_ep/between_N\n",
    "light_per = light_ct/light_N\n",
    "heavy_per = heavy_ct/heavy_N\n",
    "between_per = between_ct/between_N\n",
    "\n",
    "print(light_ep,heavy_ep,between_ep)\n",
    "toplot =[light_ep_norm,heavy_ep_norm,between_ep_norm]\n",
    "print(light_ep_norm,heavy_ep_norm,between_ep_norm)\n",
    "print(light_ct,heavy_ct,between_ct)\n",
    "\n",
    "sns.set_style({\"axes.facecolor\": \"w\"})  \n",
    "plt.figure(figsize=(1.4,2))\n",
    "plt.bar(range(1,4),toplot,width=0.6,color=('mediumturquoise','teal','gray'),label='SI06')\n",
    "#plt.ylim([0,1])\n",
    "plt.ylabel('Mean epistatic coefficient')\n",
    "plt.xlabel('Interaction')\n",
    "plt.xticks([1,2,3],['VL','VH','both'])\n",
    "plt.tight_layout()\n",
    "plt.savefig('images/CH65_SI_ep_chains.pdf',transparent=True)\n",
    "plt.show()"
   ]
  },
  {
   "cell_type": "code",
   "execution_count": 45,
   "metadata": {},
   "outputs": [
    {
     "name": "stderr",
     "output_type": "stream",
     "text": [
      "/Users/angelaphillips/opt/anaconda3/lib/python3.7/site-packages/seaborn/categorical.py:1296: UserWarning: 47.4% of the points cannot be placed; you may want to decrease the size of the markers or use stripplot.\n",
      "  warnings.warn(msg, UserWarning)\n"
     ]
    },
    {
     "data": {
      "image/png": "[encoded data removed]",
      "text/plain": [
       "<Figure size 160x200 with 1 Axes>"
      ]
     },
     "metadata": {},
     "output_type": "display_data"
    }
   ],
   "source": [
    "l = {'light': light_int}\n",
    "h = {'heavy': heavy_int}\n",
    "b = {'between' : between_int}\n",
    "light_df = pd.DataFrame(data=l)\n",
    "heavy_df = pd.DataFrame(data=h)\n",
    "between_df = pd.DataFrame(data=b)\n",
    "df = pd.concat([light_df,heavy_df,between_df], axis=1)\n",
    "\n",
    "sns.set_style({\"axes.facecolor\": \"w\"})  \n",
    "plt.figure(figsize=(1.6,2))\n",
    "sns.swarmplot(data=df,palette=('mediumturquoise','teal','gray'),size=2) \n",
    "plt.ylabel('Epistatic coefficient')\n",
    "plt.xlabel('Interaction')\n",
    "plt.xticks([0,1,2],['VL\\n'+str(round(light_per,2)),'VH\\n'+str(round(heavy_per,2)),'both\\n'+str(round(between_per,2))])\n",
    "plt.tight_layout()\n",
    "plt.savefig('images/CH65_SI_ep_chains_box.pdf',transparent=True)\n",
    "plt.show()"
   ]
  },
  {
   "cell_type": "markdown",
   "metadata": {},
   "source": [
    "## G189E"
   ]
  },
  {
   "cell_type": "code",
   "execution_count": 47,
   "metadata": {},
   "outputs": [
    {
     "name": "stdout",
     "output_type": "stream",
     "text": [
      "0.9730791082278677\n",
      "['Term', 'Coefficient', 'Standard Error', 'p-value', '95% CI lower', '95% CI upper']\n",
      "6885\n"
     ]
    }
   ],
   "source": [
    "# read model coefficients\n",
    "coefs_G189E = np.zeros(total_params_G189E+1)\n",
    "stderr_G189E = np.zeros(total_params_G189E+1)\n",
    "names_G189E = []\n",
    "sig_G189E = np.full((total_params_G189E+1),0)\n",
    "cis_G189E = np.zeros((total_params_G189E+1,2))\n",
    "\n",
    "with open('../../Epistasis_Inference/G189E/biochemical/CH65_G189E_newdata_'+str(order_G189E)+'order_biochem.txt','r') as readfile:\n",
    "    coef_reader = csv.reader(readfile,delimiter='\\t')\n",
    "    num_params = int(next(coef_reader)[-1])\n",
    "    r2_train = float(next(coef_reader)[-1])\n",
    "    print(r2_train)\n",
    "    header = next(coef_reader)\n",
    "    print(header)\n",
    "    for i in range(total_params_G189E+1):\n",
    "        row = next(coef_reader)\n",
    "        names_G189E.append(row[0])\n",
    "        coefs_G189E[i] = float(row[1])\n",
    "        if i >= 1:\n",
    "            stderr_G189E[i] = float(row[2])\n",
    "            cis_G189E[i,0] = float(row[4])\n",
    "            cis_G189E[i,1] = float(row[5])\n",
    "            if float(row[4])*float(row[5]) > 0:\n",
    "                sig_G189E[i] = 1\n",
    "    readfile.close()\n",
    "            \n",
    "print(len(coefs_G189E))      "
   ]
  },
  {
   "cell_type": "code",
   "execution_count": 48,
   "metadata": {},
   "outputs": [
    {
     "name": "stdout",
     "output_type": "stream",
     "text": [
      "0.0 33.312757504737775\n"
     ]
    },
    {
     "data": {
      "image/png": "[encoded data removed]",
      "text/plain": [
       "<Figure size 250x200 with 2 Axes>"
      ]
     },
     "metadata": {},
     "output_type": "display_data"
    }
   ],
   "source": [
    "# initialize G189Etrices to store values\n",
    "\n",
    "# total (lower diagonal)\n",
    "total_epistasis = np.zeros((16,16),dtype=float)\n",
    "for i in range(16):  \n",
    "    total_epistasis[i,i] = np.nan\n",
    "\n",
    "\n",
    "# add up all coefficients\n",
    "for i in range(1,len(coefs_G189E)):\n",
    "\n",
    "    muts_involved = [int(x)-1 for x in names_G189E[i].split(',')]\n",
    "    \n",
    "    # only consider 2nd order and higher\n",
    "    if len(muts_involved) >= 2:\n",
    "        if sig_G189E[i]:\n",
    "            for j in range(len(muts_involved)):\n",
    "                for k in range(j+1,len(muts_involved)):\n",
    "                    total_epistasis[muts_involved[k],muts_involved[j]] += np.abs(coefs_G189E[i])\n",
    "                    total_epistasis[muts_involved[j],muts_involved[k]] += np.abs(coefs_G189E[i])\n",
    "\n",
    "\n",
    "print(np.nanmin(total_epistasis),np.nanmax(total_epistasis))\n",
    "\n",
    "    \n",
    "sns.set_style({\"axes.facecolor\": \"k\"})       \n",
    "plt.figure(figsize=(2.5,2))\n",
    "sns.heatmap(total_epistasis,cmap='inferno',cbar_kws={\"pad\": 0.05},vmax=np.nanmax(total_epistasis)) #,vmin=0.0,vG189Ex=np.nanG189Ex(total_epistasis)) \n",
    "plt.xticks(np.arange(0.5,num_mutations_G189E+0.5,1),mut_names,rotation='90')\n",
    "plt.yticks(np.arange(0.5,num_mutations_G189E+0.5,1),mut_names,rotation='0')\n",
    "plt.tick_params(length=0,pad=1)\n",
    "\n",
    "\n",
    "\n",
    "plt.tight_layout()\n",
    "plt.savefig('images/CH65_G189E_2andup_biochem_total_'+ep_type+'.pdf')\n",
    "plt.show()\n",
    "\n"
   ]
  },
  {
   "cell_type": "code",
   "execution_count": 52,
   "metadata": {},
   "outputs": [
    {
     "name": "stdout",
     "output_type": "stream",
     "text": [
      "56 627 6185 6868\n",
      "5.569227730804128 10.183450921633485 93.28331003893454\n",
      "0.09945049519293085 0.01624154851935165 0.01508218432319071\n",
      "48 606 5980\n"
     ]
    },
    {
     "data": {
      "image/png": "[encoded data removed]",
      "text/plain": [
       "<Figure size 140x200 with 1 Axes>"
      ]
     },
     "metadata": {},
     "output_type": "display_data"
    }
   ],
   "source": [
    "# define variables\n",
    "light_ep = 0\n",
    "heavy_ep = 0\n",
    "between_ep = 0\n",
    "light_ct = 0\n",
    "heavy_ct = 0\n",
    "between_ct = 0\n",
    "light_chain = [0,1,2,3,4,5]\n",
    "heavy_chain = [6,7,8,9,10,11,12,13,14,15]\n",
    "light_int = []\n",
    "heavy_int = []\n",
    "between_int = []\n",
    "\n",
    "#calculate total number of possible interactions within and between chains for normalization\n",
    "num_term_list_light = np.array([int(comb(6,i)) for i in range(1,5+1)])\n",
    "light_N = sum(num_term_list_light)-len(light_chain)\n",
    "num_term_list_heavy = np.array([int(comb(10,i)) for i in range(1,5+1)])\n",
    "heavy_N = sum(num_term_list_heavy)-len(heavy_chain)\n",
    "num_term_list_total = np.array([int(comb(16,i)) for i in range(1,5+1)])\n",
    "total_N = sum(num_term_list_total)-16\n",
    "between_N = total_N - light_N - heavy_N\n",
    "print(light_N,heavy_N,between_N,total_N)\n",
    "\n",
    "\n",
    "# initialize matrices to store values\n",
    "total_epistasis = np.zeros((16,16),dtype=float)\n",
    "for i in range(16):  \n",
    "    total_epistasis[i,i] = np.nan\n",
    "\n",
    "\n",
    "# add up all coefficients\n",
    "for i in range(1,len(coefs_G189E)):\n",
    "\n",
    "    muts_involved = [int(x)-1 for x in names_G189E[i].split(',')]\n",
    "    \n",
    "    # only consider 2nd order and higher\n",
    "    if len(muts_involved) >= 2:\n",
    "        if all(elem in light_chain for elem in muts_involved):\n",
    "            if sig_G189E[i]:\n",
    "#                 print(muts_involved)\n",
    "#                 print(coefs_G189E[i])\n",
    "                light_ep += np.abs(coefs_G189E[i])\n",
    "                light_int.append(coefs_G189E[i])\n",
    "            else:\n",
    "                light_ct+=1\n",
    "        elif all(elem in heavy_chain for elem in muts_involved):\n",
    "            if sig_G189E[i]:\n",
    "#                 print(muts_involved)\n",
    "#                 print(coefs_G189E[i])\n",
    "                heavy_ep += np.abs(coefs_G189E[i])\n",
    "                heavy_int.append(coefs_G189E[i])\n",
    "            else:\n",
    "                heavy_ct+=1\n",
    "        else:\n",
    "            if sig_G189E[i]:\n",
    "#                 print(muts_involved)\n",
    "#                 print(coefs_G189E[i])\n",
    "                between_ep += np.abs(coefs_G189E[i])\n",
    "                between_int.append(coefs_G189E[i])\n",
    "            else:\n",
    "                between_ct+=1\n",
    "    \n",
    "#normalize by total number of possible interactions\n",
    "light_ep_norm = light_ep/light_N\n",
    "heavy_ep_norm = heavy_ep/heavy_N\n",
    "between_ep_norm = between_ep/between_N\n",
    "light_per = light_ct/light_N\n",
    "heavy_per = heavy_ct/heavy_N\n",
    "between_per = between_ct/between_N\n",
    "\n",
    "print(light_ep,heavy_ep,between_ep)\n",
    "toplot =[light_ep_norm,heavy_ep_norm,between_ep_norm]\n",
    "print(light_ep_norm,heavy_ep_norm,between_ep_norm)\n",
    "print(light_ct,heavy_ct,between_ct)\n",
    "\n",
    "sns.set_style({\"axes.facecolor\": \"w\"})  \n",
    "plt.figure(figsize=(1.4,2))\n",
    "plt.bar(range(1,4),toplot,width=0.6,color=('lightskyblue','steelblue','gray'),label='G189E')\n",
    "#plt.ylim([0,1])\n",
    "plt.ylabel('Mean epistatic coefficient')\n",
    "plt.xlabel('Interaction')\n",
    "plt.xticks([1,2,3],['VL','VH','both'])\n",
    "plt.tight_layout()\n",
    "plt.savefig('images/CH65_G189E_ep_chains.pdf',transparent=True)\n",
    "plt.show()"
   ]
  },
  {
   "cell_type": "code",
   "execution_count": 50,
   "metadata": {},
   "outputs": [
    {
     "name": "stderr",
     "output_type": "stream",
     "text": [
      "/Users/angelaphillips/opt/anaconda3/lib/python3.7/site-packages/seaborn/categorical.py:1296: UserWarning: 34.1% of the points cannot be placed; you may want to decrease the size of the markers or use stripplot.\n",
      "  warnings.warn(msg, UserWarning)\n"
     ]
    },
    {
     "data": {
      "image/png": "[encoded data removed]",
      "text/plain": [
       "<Figure size 160x200 with 1 Axes>"
      ]
     },
     "metadata": {},
     "output_type": "display_data"
    }
   ],
   "source": [
    "l = {'light': light_int}\n",
    "h = {'heavy': heavy_int}\n",
    "b = {'between' : between_int}\n",
    "light_df = pd.DataFrame(data=l)\n",
    "heavy_df = pd.DataFrame(data=h)\n",
    "between_df = pd.DataFrame(data=b)\n",
    "df = pd.concat([light_df,heavy_df,between_df], axis=1)\n",
    "\n",
    "sns.set_style({\"axes.facecolor\": \"w\"})  \n",
    "plt.figure(figsize=(1.6,2))\n",
    "sns.swarmplot(data=df,size=2,palette=('lightskyblue','steelblue','gray')) \n",
    "plt.ylabel('Epistatic coefficient')\n",
    "plt.xlabel('Interaction')\n",
    "plt.xticks([0,1,2],['VL\\n'+str(round(light_per,2)),'VH\\n'+str(round(heavy_per,2)),'both\\n'+str(round(between_per,2))])\n",
    "plt.tight_layout()\n",
    "plt.savefig('images/CH65_G189E_ep_chains_box.pdf',transparent=True)\n",
    "plt.show()"
   ]
  },
  {
   "cell_type": "code",
   "execution_count": null,
   "metadata": {},
   "outputs": [],
   "source": []
  }
 ],
 "metadata": {
  "kernelspec": {
   "display_name": "Python 3 (ipykernel)",
   "language": "python",
   "name": "python3"
  },
  "language_info": {
   "codemirror_mode": {
    "name": "ipython",
    "version": 3
   },
   "file_extension": ".py",
   "mimetype": "text/x-python",
   "name": "python",
   "nbconvert_exporter": "python",
   "pygments_lexer": "ipython3",
   "version": "3.9.12"
  }
 },
 "nbformat": 4,
 "nbformat_minor": 4
}
