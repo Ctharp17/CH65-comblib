{
 "cells": [
  {
   "cell_type": "code",
   "execution_count": 1,
   "metadata": {},
   "outputs": [],
   "source": [
    "import numpy as np\n",
    "import matplotlib.pyplot as plt\n",
    "import csv\n",
    "import sys\n",
    "import seaborn as sns\n",
    "from scipy.special import comb\n",
    "from sklearn.preprocessing import PolynomialFeatures\n",
    "from matplotlib.colors import LogNorm\n",
    "import pandas as pd\n",
    "import scipy.stats as st\n",
    "from matplotlib.patches import Patch\n",
    "\n",
    "plt.rcParams.update({'font.size': 7,'axes.linewidth':0.5,\n",
    "                     'xtick.major.size':2,'xtick.major.width':0.5,\n",
    "                    'ytick.major.size':2,'ytick.major.width':0.5})\n",
    "plt.rcParams.update({'mathtext.default':  'regular' })\n",
    "\n",
    "\n",
    "colorMA, colorSI, colorG189E = \"#E8735C\", \"teal\", \"powderblue\"\n"
   ]
  },
  {
   "cell_type": "code",
   "execution_count": 2,
   "metadata": {},
   "outputs": [],
   "source": [
    "# set some things\n",
    "num_mutations_MA = 16\n",
    "order_MA = 4\n",
    "order_MA_stat = 5\n",
    "total_params_MA = np.sum(np.array([int(comb(num_mutations_MA,i)) for i in range(1,order_MA+1)]))\n",
    "total_params_MA_stat = np.sum(np.array([int(comb(num_mutations_MA,i)) for i in range(1,order_MA_stat+1)]))\n",
    "\n",
    "\n",
    "num_mutations_SI = 15\n",
    "order_SI = 5\n",
    "order_SI_stat = 5\n",
    "total_params_SI = np.sum(np.array([int(comb(num_mutations_SI,i)) for i in range(1,order_SI+1)]))\n",
    "total_params_SI_stat = np.sum(np.array([int(comb(num_mutations_SI,i)) for i in range(1,order_SI_stat+1)]))\n",
    "\n",
    "\n",
    "num_mutations_G189E = 16\n",
    "order_G189E = 5\n",
    "order_G189E_stat = 6\n",
    "total_params_G189E = np.sum(np.array([int(comb(num_mutations_G189E,i)) for i in range(1,order_G189E+1)]))\n",
    "total_params_G189E_stat = np.sum(np.array([int(comb(num_mutations_G189E,i)) for i in range(1,order_G189E_stat+1)]))\n",
    "\n"
   ]
  },
  {
   "cell_type": "markdown",
   "metadata": {},
   "source": [
    "# CH65"
   ]
  },
  {
   "cell_type": "code",
   "execution_count": 3,
   "metadata": {},
   "outputs": [
    {
     "name": "stdout",
     "output_type": "stream",
     "text": [
      "266 504\n",
      "214 340\n",
      "409 728\n"
     ]
    }
   ],
   "source": [
    "# read model coefficients\n",
    "\n",
    "coefs_MA_biochem = np.zeros(total_params_MA+1)\n",
    "sig_MA_biochem = np.full((total_params_MA+1),0)\n",
    "with open('../../Epistasis_Inference/MA90/biochemical/CH65_MA90_102022_'+str(order_MA)+'order_biochem.txt','r') as readfile:\n",
    "    coef_reader = csv.reader(readfile,delimiter='\\t')\n",
    "    num_params = int(next(coef_reader)[-1])\n",
    "    r2 = float(next(coef_reader)[-1])\n",
    "    header = next(coef_reader)\n",
    "    for i in range(total_params_MA+1):\n",
    "        row = next(coef_reader)\n",
    "        coefs_MA_biochem[i] = float(row[1])\n",
    "        if i >= 1:\n",
    "             if float(row[4])*float(row[5]) > 0:\n",
    "                sig_MA_biochem[i] = 1\n",
    "    readfile.close()           \n",
    "num_sig_MA_biochem = len(np.nonzero(sig_MA_biochem == 1)[0])\n",
    "\n",
    "coefs_MA_stat = np.zeros(total_params_MA_stat+1)\n",
    "sig_MA_stat = np.full((total_params_MA_stat+1),0)\n",
    "with open('../../Epistasis_Inference/MA90/statistical/CH65_MA90_102022_'+str(order_MA_stat)+'order_stat.txt','r') as readfile:\n",
    "    coef_reader = csv.reader(readfile,delimiter='\\t')\n",
    "    num_params = int(next(coef_reader)[-1])\n",
    "    r2 = float(next(coef_reader)[-1])\n",
    "    header = next(coef_reader)\n",
    "    for i in range(total_params_MA_stat+1):\n",
    "        row = next(coef_reader)\n",
    "        coefs_MA_stat[i] = float(row[1])\n",
    "        if i >= 1:\n",
    "             if float(row[4])*float(row[5]) > 0:\n",
    "                sig_MA_stat[i] = 1\n",
    "    readfile.close()           \n",
    "num_sig_MA_stat = len(np.nonzero(sig_MA_stat == 1)[0])\n",
    "\n",
    "\n",
    "print(num_sig_MA_biochem,num_sig_MA_stat)\n",
    "\n",
    "\n",
    "coefs_SI_biochem = np.zeros(total_params_SI+1)\n",
    "sig_SI_biochem = np.full((total_params_SI+1),0)\n",
    "with open('../../Epistasis_Inference/SI06/biochemical/CH65_SI06_102022_'+str(order_SI)+'order_biochem.txt','r') as readfile:\n",
    "    coef_reader = csv.reader(readfile,delimiter='\\t')\n",
    "    num_params = int(next(coef_reader)[-1])\n",
    "    r2 = float(next(coef_reader)[-1])\n",
    "    header = next(coef_reader)\n",
    "    for i in range(total_params_SI+1):\n",
    "        row = next(coef_reader)\n",
    "        coefs_SI_biochem[i] = float(row[1])\n",
    "        if i >= 1:\n",
    "             if float(row[4])*float(row[5]) > 0:\n",
    "                sig_SI_biochem[i] = 1\n",
    "    readfile.close()           \n",
    "num_sig_SI_biochem = len(np.nonzero(sig_SI_biochem == 1)[0])\n",
    "\n",
    "coefs_SI_stat = np.zeros(total_params_SI_stat+1)\n",
    "sig_SI_stat = np.full((total_params_SI_stat+1),0)\n",
    "with open('../../Epistasis_Inference/SI06/statistical/CH65_SI06_102022_'+str(order_SI_stat)+'order_stat.txt','r') as readfile:\n",
    "    coef_reader = csv.reader(readfile,delimiter='\\t')\n",
    "    num_params = int(next(coef_reader)[-1])\n",
    "    r2 = float(next(coef_reader)[-1])\n",
    "    header = next(coef_reader)\n",
    "    for i in range(total_params_SI_stat+1):\n",
    "        row = next(coef_reader)\n",
    "        coefs_SI_stat[i] = float(row[1])\n",
    "        if i >= 1:\n",
    "             if float(row[4])*float(row[5]) > 0:\n",
    "                sig_SI_stat[i] = 1\n",
    "    readfile.close()           \n",
    "num_sig_SI_stat = len(np.nonzero(sig_SI_stat == 1)[0])\n",
    "\n",
    "\n",
    "print(num_sig_SI_biochem,num_sig_SI_stat)\n",
    "\n",
    "coefs_G189E_biochem = np.zeros(total_params_G189E+1)\n",
    "sig_G189E_biochem = np.full((total_params_G189E+1),0)\n",
    "with open('../../Epistasis_Inference/G189E/biochemical/CH65_G189E_102022_'+str(order_G189E)+'order_biochem.txt','r') as readfile:\n",
    "    coef_reader = csv.reader(readfile,delimiter='\\t')\n",
    "    num_params = int(next(coef_reader)[-1])\n",
    "    r2 = float(next(coef_reader)[-1])\n",
    "    header = next(coef_reader)\n",
    "    for i in range(total_params_G189E+1):\n",
    "        row = next(coef_reader)\n",
    "        coefs_G189E_biochem[i] = float(row[1])\n",
    "        if i >= 1:\n",
    "             if float(row[4])*float(row[5]) > 0:\n",
    "                sig_G189E_biochem[i] = 1\n",
    "    readfile.close()           \n",
    "num_sig_G189E_biochem = len(np.nonzero(sig_G189E_biochem == 1)[0])\n",
    "\n",
    "coefs_G189E_stat = np.zeros(total_params_G189E_stat+1)\n",
    "sig_G189E_stat = np.full((total_params_G189E_stat+1),0)\n",
    "with open('../../Epistasis_Inference/G189E/statistical/CH65_G189E_newdata_'+str(order_G189E_stat)+'order_stat.txt','r') as readfile:\n",
    "    coef_reader = csv.reader(readfile,delimiter='\\t')\n",
    "    num_params = int(next(coef_reader)[-1])\n",
    "    r2 = float(next(coef_reader)[-1])\n",
    "    header = next(coef_reader)\n",
    "    for i in range(total_params_G189E_stat+1):\n",
    "        row = next(coef_reader)\n",
    "        coefs_G189E_stat[i] = float(row[1])\n",
    "        if i >= 1:\n",
    "             if float(row[4])*float(row[5]) > 0:\n",
    "                sig_G189E_stat[i] = 1\n",
    "    readfile.close()           \n",
    "num_sig_G189E_stat = len(np.nonzero(sig_G189E_stat == 1)[0])\n",
    "\n",
    "\n",
    "print(num_sig_G189E_biochem,num_sig_G189E_stat)\n"
   ]
  },
  {
   "cell_type": "code",
   "execution_count": 4,
   "metadata": {
    "scrolled": true
   },
   "outputs": [
    {
     "data": {
      "image/png": "[encoded data removed]",
      "text/plain": [
       "<Figure size 187.2x158.4 with 1 Axes>"
      ]
     },
     "metadata": {
      "needs_background": "light"
     },
     "output_type": "display_data"
    }
   ],
   "source": [
    "fig,ax = plt.subplots(figsize=(2.6,2.2))\n",
    "\n",
    "width = 0.1\n",
    "adj = 0.01\n",
    "\n",
    "plt.bar(1-width/2-adj,num_sig_MA_biochem,width=width,color=colorMA)\n",
    "plt.bar(1+width/2+adj,num_sig_MA_stat,width=width,color=colorMA)\n",
    "\n",
    "plt.bar(1.6-width/2-adj,num_sig_SI_biochem,width=width,color=colorSI)\n",
    "plt.bar(1.6+width/2+adj,num_sig_SI_stat,width=width,color=colorSI)\n",
    "\n",
    "plt.bar(1.3-width/2-adj,num_sig_G189E_biochem,width=width,color=colorG189E)\n",
    "plt.bar(1.3+width/2+adj,num_sig_G189E_stat,width=width,color=colorG189E)\n",
    "\n",
    "plt.xticks([1-width/2-adj,1+width/2+adj,1.3-width/2-adj,1.3+width/2+adj,1.6-width/2-adj,1.6+width/2+adj],\n",
    "           ['MA90 biochem','MA90 stat','G189E biochem','G189E stat','SI06 biochem','SI06 stat']\n",
    "           ,rotation=-35,ha='left',rotation_mode=\"anchor\")\n",
    "plt.ylabel('Number of\\nsignificant coefficients')\n",
    "plt.tight_layout()\n",
    "plt.savefig('images/sig_coef_comparison_CH65.pdf')\n",
    "plt.show()\n",
    "\n",
    "\n"
   ]
  },
  {
   "cell_type": "code",
   "execution_count": null,
   "metadata": {},
   "outputs": [],
   "source": []
  },
  {
   "cell_type": "code",
   "execution_count": null,
   "metadata": {},
   "outputs": [],
   "source": []
  }
 ],
 "metadata": {
  "kernelspec": {
   "display_name": "Python 3 (ipykernel)",
   "language": "python",
   "name": "python3"
  },
  "language_info": {
   "codemirror_mode": {
    "name": "ipython",
    "version": 3
   },
   "file_extension": ".py",
   "mimetype": "text/x-python",
   "name": "python",
   "nbconvert_exporter": "python",
   "pygments_lexer": "ipython3",
   "version": "3.9.12"
  }
 },
 "nbformat": 4,
 "nbformat_minor": 4
}
