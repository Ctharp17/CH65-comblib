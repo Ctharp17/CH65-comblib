{
 "cells": [
  {
   "cell_type": "markdown",
   "metadata": {},
   "source": [
    "### Imports"
   ]
  },
  {
   "cell_type": "code",
   "execution_count": 1,
   "metadata": {},
   "outputs": [],
   "source": [
    "#importing things\n",
    "import pandas as pd\n",
    "import numpy as np\n",
    "import csv\n",
    "import pylab as pl\n",
    "import matplotlib.pyplot as plt\n",
    "import copy\n",
    "import scipy\n",
    "from collections import OrderedDict\n",
    "import seaborn as sns\n",
    "from matplotlib.ticker import FixedLocator, FixedFormatter\n",
    "from scipy.special import comb\n",
    "from matplotlib.colors import LogNorm\n",
    "from matplotlib.patches import Patch\n",
    "import matplotlib as mpl\n",
    "import matplotlib.lines as lines\n",
    "\n",
    "plt.rcParams.update({'font.size': 8})\n",
    "plt.rcParams.update({'font.family': 'sans-serif'})\n",
    "plt.rcParams['font.sans-serif'] = \"Arial\"\n",
    "plt.rcParams.update({'xtick.labelsize': 7})\n",
    "plt.rcParams.update({'ytick.labelsize': 7})\n",
    "plt.rcParams['scatter.edgecolors'] = 'black'\n",
    "plt.rcParams['axes.linewidth'] = 0.5"
   ]
  },
  {
   "cell_type": "markdown",
   "metadata": {},
   "source": [
    "### Load structure with selected regions and mutated residues"
   ]
  },
  {
   "cell_type": "code",
   "execution_count": 2,
   "metadata": {
    "scrolled": true
   },
   "outputs": [],
   "source": [
    "#pick an antigen\n",
    "antigen = \"MA90\"\n",
    "\n",
    "#import stuff\n",
    "from pymol import cmd\n",
    "#load pdb\n",
    "#using 7WPB: Crystal Structure of omicron RBD with ACE2, 2.79 A\n",
    "if antigen == \"MA90\":\n",
    "    cmd.fetch('5UGY')\n",
    "    cmd.hide('everything')\n",
    "    HA = cmd.select('HA', ('chain A or chain B'))\n",
    "    ##########################\n",
    "    #create selections for mutated residues\n",
    "    mut1 = cmd.select('N26D',('chain L and resi 26'))\n",
    "    mut2 = cmd.select('S29R',('chain L and resi 29'))\n",
    "    mut3 = cmd.select('Y35N',('chain L and resi 35'))\n",
    "    mut4 = cmd.select('Y48C',('chain L and resi 48'))\n",
    "    mut5 = cmd.select('D49Y',('chain L and resi 49'))\n",
    "    mut6 = cmd.select('V98I',('chain L and resi 98'))\n",
    "    mut7 = cmd.select('G31D',('chain H and resi 31'))\n",
    "    mut8 = cmd.select('Y33H',('chain H and resi 33'))\n",
    "    mut9 = cmd.select('M34I',('chain H and resi 34'))\n",
    "    mut10 = cmd.select('H35N',('chain H and resi 35'))\n",
    "    mut11 = cmd.select('N52H',('chain H and resi 52'))\n",
    "    mut12 = cmd.select('G57D',('chain H and resi 57'))\n",
    "    mut13 = cmd.select('L83V',('chain H and resi 83'))\n",
    "    mut14 = cmd.select('S84N',('chain H and resi 84'))\n",
    "    mut15 = cmd.select('R85G',('chain H and resi 85'))\n",
    "    mut16 = cmd.select('R87K',('chain H and resi 87'))\n",
    "    mutations = ['N26D','S29R','Y35N','Y48C','D49Y','V98I','G31D','Y33H','M34I','H35N','N52H','G57D','L83V','S84N','R85G','R87K']\n",
    "#     cmd.png('/tmp/foo.png', ray=1)\n",
    "#     from IPython.display import Image\n",
    "#     Image(filename='/tmp/foo.png')"
   ]
  },
  {
   "cell_type": "markdown",
   "metadata": {},
   "source": [
    "## second order versus pairwise plot"
   ]
  },
  {
   "cell_type": "code",
   "execution_count": 3,
   "metadata": {},
   "outputs": [
    {
     "name": "stderr",
     "output_type": "stream",
     "text": [
      "/var/folders/pt/19trqkw56fjfrk2frchqhv2h0000gn/T/ipykernel_17702/298951774.py:9: SettingWithCopyWarning: \n",
      "A value is trying to be set on a copy of a slice from a DataFrame.\n",
      "Try using .loc[row_indexer,col_indexer] = value instead\n",
      "\n",
      "See the caveats in the documentation: https://pandas.pydata.org/pandas-docs/stable/user_guide/indexing.html#returning-a-view-versus-a-copy\n",
      "  h1_pairwise[['Mutation 1','Mutation 2']] = h1_pairwise.Term.str.split(\",\",expand=True)\n",
      "/var/folders/pt/19trqkw56fjfrk2frchqhv2h0000gn/T/ipykernel_17702/298951774.py:9: SettingWithCopyWarning: \n",
      "A value is trying to be set on a copy of a slice from a DataFrame.\n",
      "Try using .loc[row_indexer,col_indexer] = value instead\n",
      "\n",
      "See the caveats in the documentation: https://pandas.pydata.org/pandas-docs/stable/user_guide/indexing.html#returning-a-view-versus-a-copy\n",
      "  h1_pairwise[['Mutation 1','Mutation 2']] = h1_pairwise.Term.str.split(\",\",expand=True)\n",
      "/var/folders/pt/19trqkw56fjfrk2frchqhv2h0000gn/T/ipykernel_17702/298951774.py:15: SettingWithCopyWarning: \n",
      "A value is trying to be set on a copy of a slice from a DataFrame\n",
      "\n",
      "See the caveats in the documentation: https://pandas.pydata.org/pandas-docs/stable/user_guide/indexing.html#returning-a-view-versus-a-copy\n",
      "  toplot['MA90_Effect'][mask] = 0\n"
     ]
    }
   ],
   "source": [
    "model = \"biochem\"\n",
    "plotting = \"pairwise\"\n",
    "#import kl second order effects from second order model\n",
    "mut_names = ['N26D','S29R','Y35N','Y48C','D49Y','V98I','G31D','Y33H','M34I','H35N','N52H','G57D','L83V','S84N','R85G','R87K']\n",
    "if antigen == \"MA90\":\n",
    "    h1 = pd.read_table('../../../Epistasis_Inference/MA90/biochemical/CH65_MA90_102022_4order_biochem.txt',names=['Term','MA90_Effect','MA90_SE','pval','MA90_95CI_low','MA90_95CI_hi'],skiprows=[0,1,2,3],index_col=False)\n",
    "    h1['order'] = h1[['Term']].applymap(lambda x: str.count(x, ',')+1)\n",
    "    h1_pairwise = h1[h1['order']==2]\n",
    "    h1_pairwise[['Mutation 1','Mutation 2']] = h1_pairwise.Term.str.split(\",\",expand=True)\n",
    "    toplot = pd.DataFrame()\n",
    "    toplot = h1_pairwise[['Mutation 1','Mutation 2','MA90_Effect','MA90_SE','MA90_95CI_low','MA90_95CI_hi']].copy()\n",
    "    toplot['Mutation 1'] = toplot['Mutation 1'].replace({'1':'N26D','2':'S29R','3':'Y35N','4':'Y48C','5':'D49Y','6':'V98I','7':'G31D','8':'Y33H','9':'M34I','10':'H35N','11':'N52H','12':'G57D','13':'L83V','14':'S84N','15':'R85G','16':'R87K'})\n",
    "    toplot['Mutation 2'] = toplot['Mutation 2'].replace({'1':'N26D','2':'S29R','3':'Y35N','4':'Y48C','5':'D49Y','6':'V98I','7':'G31D','8':'Y33H','9':'M34I','10':'H35N','11':'N52H','12':'G57D','13':'L83V','14':'S84N','15':'R85G','16':'R87K'})\n",
    "    mask = (toplot['MA90_95CI_low'] <= 0) & (toplot['MA90_95CI_hi'] >=0)\n",
    "    toplot['MA90_Effect'][mask] = 0"
   ]
  },
  {
   "cell_type": "markdown",
   "metadata": {},
   "source": [
    "### Measure distance between alpha carbons"
   ]
  },
  {
   "cell_type": "code",
   "execution_count": 4,
   "metadata": {},
   "outputs": [],
   "source": [
    "distance_log=[]\n",
    "loc_muta = list(toplot['Mutation 1'])\n",
    "loc_mutb = list(toplot['Mutation 2'])\n",
    "epistasis = list(toplot['%s_Effect' % antigen])\n",
    "labels=[]\n",
    "for l in range(len(loc_muta)):\n",
    "    var1=loc_muta[l]\n",
    "    var2=loc_mutb[l]\n",
    "    label = str(var1)+','+str(var2)\n",
    "    labels.append(label)\n",
    "    distance=cmd.distance(None, \"%s and n. CA\"%var1, \"%s and n. CA\"%var2) #distance between alpha carbons\n",
    "    distance_log.append(distance)\n",
    "df_toplot=pd.DataFrame()\n",
    "df_toplot['labels']=labels\n",
    "df_toplot['distance']=distance_log\n",
    "df_toplot['epistasis']= epistasis\n",
    "df_toplot.dropna(inplace=True)\n",
    "s = df_toplot.sort_values(by='epistasis',ascending=False)\n",
    "s.to_csv('2ndorder_summary%s.csv'% antigen,index=False)"
   ]
  },
  {
   "cell_type": "code",
   "execution_count": 6,
   "metadata": {},
   "outputs": [
    {
     "data": {
      "image/png": "[encoded data removed]",
      "text/plain": [
       "<Figure size 86.4x57.6 with 1 Axes>"
      ]
     },
     "metadata": {
      "needs_background": "light"
     },
     "output_type": "display_data"
    }
   ],
   "source": [
    "#sort dataframe to only label outliers\n",
    "df_toplot_s = df_toplot.iloc[(-df_toplot['epistasis'].abs()).argsort()].reset_index(drop=True)\n",
    "\n",
    "#number of outliers to label\n",
    "if antigen==\"MA90\":\n",
    "    spot = \"#E8735C\"\n",
    "    edge = \"#E8735C\"\n",
    "lim = 5\n",
    "%matplotlib inline\n",
    "import matplotlib as mpl\n",
    "plt.rcParams['font.sans-serif'] = \"Arial\"\n",
    "# Then, \"ALWAYS use sans-serif fonts\"\n",
    "plt.rcParams['font.family'] = \"sans-serif\"\n",
    "plt.rcParams['axes.linewidth'] = 0.25\n",
    "fig, ax = plt.subplots(figsize=(1.2,0.8))\n",
    "plt.tick_params(labelsize=7,length=2.5,pad=0.5)\n",
    "\n",
    "\n",
    "lim=0\n",
    "for line in range(0,lim):\n",
    "    ax.text(df_toplot_s.distance[line]+0.55, df_toplot_s.epistasis[line], df_toplot_s.labels[line], horizontalalignment='center', fontsize=4, color='black')\n",
    "\n",
    "#Create figure\n",
    "# Create scatterplot. alpha controls the opacity and s controls the size.\n",
    "ax = sns.scatterplot(x=df_toplot_s.distance, y=df_toplot_s.epistasis, alpha = 0.5, linewidth=0.25,color=spot,edgecolor=edge,s=5,legend=False)\n",
    "#plt.title('%s' % antigen,fontsize=8,weight='bold')\n",
    "plt.axhline(y=0,linestyle='dashed',c='black',linewidth=0.5)\n",
    "plt.ylim(-1,1)\n",
    "plt.xlim(0,40)\n",
    "ax.set_xlabel('',fontsize=7,labelpad=0)\n",
    "if plotting == \"sum\":\n",
    "    ax.set_ylabel('weighted epistasis',fontsize=7)\n",
    "else:\n",
    "    ax.set_ylabel('',fontsize=7,labelpad=0)\n",
    "\n",
    "plt.savefig('images/MA90_%s_2ndorder_structure.png'% antigen, transparent=True, dpi=1200,bbox_inches='tight')"
   ]
  },
  {
   "cell_type": "markdown",
   "metadata": {},
   "source": [
    "## bin the distances and generate permuted control"
   ]
  },
  {
   "cell_type": "code",
   "execution_count": 7,
   "metadata": {},
   "outputs": [
    {
     "data": {
      "image/png": "[encoded data removed]",
      "text/plain": [
       "<Figure size 36x36 with 1 Axes>"
      ]
     },
     "metadata": {
      "needs_background": "light"
     },
     "output_type": "display_data"
    }
   ],
   "source": [
    "df_toplot_pos = df_toplot_s.copy()\n",
    "df_toplot_pos['epistasis']=df_toplot_pos['epistasis'].abs()\n",
    "\n",
    "plt.rcParams['font.sans-serif'] = \"Arial\"\n",
    "# Then, \"ALWAYS use sans-serif fonts\"\n",
    "plt.rcParams['font.family'] = \"sans-serif\"\n",
    "plt.rcParams['axes.linewidth'] = 0.5\n",
    "fig, ax = plt.subplots(figsize=(0.5,0.5))\n",
    "plt.tick_params(labelsize=6,length=2.5,pad=0.1)\n",
    "y = df_toplot_pos.groupby(pd.cut(df_toplot_pos['distance'], bins=10))['epistasis'].mean()\n",
    "yerr = df_toplot_pos.groupby(pd.cut(df_toplot_pos['distance'], bins=10))['epistasis'].std()\n",
    "x = df_toplot_pos.groupby(pd.cut(df_toplot_pos['distance'], bins=10))['distance'].mean()\n",
    "plt.scatter(x,y,color=spot,s=5)\n",
    "plt.errorbar(x,y,yerr,color=spot,linewidth=1)\n",
    "plt.axhline(y=0,linestyle='dashed',c='black',linewidth=0.5)\n",
    "plt.xlabel(' ')\n",
    "plt.ylabel('')\n",
    "plt.savefig('images/MA90_%s_2ndorder_structure_binned.png'% antigen, transparent=True, dpi=600,bbox_inches='tight')\n"
   ]
  },
  {
   "cell_type": "code",
   "execution_count": 8,
   "metadata": {},
   "outputs": [
    {
     "data": {
      "image/png": "[encoded data removed]",
      "text/plain": [
       "<Figure size 36x36 with 1 Axes>"
      ]
     },
     "metadata": {
      "needs_background": "light"
     },
     "output_type": "display_data"
    }
   ],
   "source": [
    "#permute for control\n",
    "df_toplot_pos = df_toplot_s.copy()\n",
    "df_toplot_pos['epistasis']=df_toplot_pos['epistasis'].abs()\n",
    "df_toplot_pos['permuted'] = np.random.permutation(df_toplot_pos['distance'].values)\n",
    "fig, ax = plt.subplots(figsize=(0.5,0.5))\n",
    "plt.tick_params(labelsize=6,length=2.5,pad=0.1)\n",
    "y = df_toplot_pos.groupby(pd.cut(df_toplot_pos['permuted'], bins=10))['epistasis'].mean()\n",
    "yerr = df_toplot_pos.groupby(pd.cut(df_toplot_pos['permuted'], bins=10))['epistasis'].std()\n",
    "x = df_toplot_pos.groupby(pd.cut(df_toplot_pos['permuted'], bins=10))['permuted'].mean()\n",
    "plt.scatter(x,y,color='gray',s=5)\n",
    "plt.errorbar(x,y,yerr,color='gray',linewidth=1)\n",
    "plt.axhline(y=0,linestyle='dashed',c='black',linewidth=0.5)\n",
    "plt.xlabel(' ')\n",
    "plt.ylabel('')\n",
    "plt.savefig('images/MA90_%s_2ndorder_structure_binned_permuted.png'% antigen, transparent=True, dpi=600,bbox_inches='tight')\n"
   ]
  },
  {
   "cell_type": "code",
   "execution_count": null,
   "metadata": {},
   "outputs": [],
   "source": []
  }
 ],
 "metadata": {
  "kernelspec": {
   "display_name": "pymol_v3",
   "language": "python",
   "name": "pymol_v3"
  },
  "language_info": {
   "codemirror_mode": {
    "name": "ipython",
    "version": 3
   },
   "file_extension": ".py",
   "mimetype": "text/x-python",
   "name": "python",
   "nbconvert_exporter": "python",
   "pygments_lexer": "ipython3",
   "version": "3.8.13"
  }
 },
 "nbformat": 4,
 "nbformat_minor": 4
}
