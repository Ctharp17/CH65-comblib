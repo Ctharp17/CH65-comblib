{
 "cells": [
  {
   "cell_type": "code",
   "execution_count": 1,
   "metadata": {},
   "outputs": [],
   "source": [
    "#import some stuff\n",
    "import numpy as np\n",
    "import pandas as pd\n",
    "import matplotlib.pyplot as plt\n",
    "import matplotlib as mpl\n",
    "import seaborn as sns\n",
    "import os\n",
    "import collections\n",
    "import glob\n",
    "from scipy.stats import pearsonr\n",
    "import scipy.optimize\n",
    "import scipy.stats"
   ]
  },
  {
   "cell_type": "code",
   "execution_count": 2,
   "metadata": {},
   "outputs": [
    {
     "data": {
      "text/html": [
       "<div>\n",
       "<style scoped>\n",
       "    .dataframe tbody tr th:only-of-type {\n",
       "        vertical-align: middle;\n",
       "    }\n",
       "\n",
       "    .dataframe tbody tr th {\n",
       "        vertical-align: top;\n",
       "    }\n",
       "\n",
       "    .dataframe thead th {\n",
       "        text-align: right;\n",
       "    }\n",
       "</style>\n",
       "<table border=\"1\" class=\"dataframe\">\n",
       "  <thead>\n",
       "    <tr style=\"text-align: right;\">\n",
       "      <th></th>\n",
       "      <th>shortname</th>\n",
       "      <th>isogenic_rep1</th>\n",
       "      <th>isogenic_rep2</th>\n",
       "      <th>KD</th>\n",
       "      <th>KD_err</th>\n",
       "      <th>KD_stdev</th>\n",
       "    </tr>\n",
       "  </thead>\n",
       "  <tbody>\n",
       "    <tr>\n",
       "      <th>0</th>\n",
       "      <td>reverted_MA90</td>\n",
       "      <td>10.01</td>\n",
       "      <td>10.11</td>\n",
       "      <td>10.060</td>\n",
       "      <td>0.050</td>\n",
       "      <td>0.070711</td>\n",
       "    </tr>\n",
       "    <tr>\n",
       "      <th>1</th>\n",
       "      <td>somatic_MA90</td>\n",
       "      <td>9.96</td>\n",
       "      <td>10.10</td>\n",
       "      <td>10.030</td>\n",
       "      <td>0.070</td>\n",
       "      <td>0.098995</td>\n",
       "    </tr>\n",
       "    <tr>\n",
       "      <th>2</th>\n",
       "      <td>reverted_SI06</td>\n",
       "      <td>9.21</td>\n",
       "      <td>9.42</td>\n",
       "      <td>9.315</td>\n",
       "      <td>0.105</td>\n",
       "      <td>0.148492</td>\n",
       "    </tr>\n",
       "    <tr>\n",
       "      <th>3</th>\n",
       "      <td>somatic_SI06</td>\n",
       "      <td>9.18</td>\n",
       "      <td>9.45</td>\n",
       "      <td>9.315</td>\n",
       "      <td>0.135</td>\n",
       "      <td>0.190919</td>\n",
       "    </tr>\n",
       "  </tbody>\n",
       "</table>\n",
       "</div>"
      ],
      "text/plain": [
       "       shortname  isogenic_rep1  isogenic_rep2      KD  KD_err  KD_stdev\n",
       "0  reverted_MA90          10.01          10.11  10.060   0.050  0.070711\n",
       "1   somatic_MA90           9.96          10.10  10.030   0.070  0.098995\n",
       "2  reverted_SI06           9.21           9.42   9.315   0.105  0.148492\n",
       "3   somatic_SI06           9.18           9.45   9.315   0.135  0.190919"
      ]
     },
     "execution_count": 2,
     "metadata": {},
     "output_type": "execute_result"
    }
   ],
   "source": [
    "#get the data\n",
    "results = pd.DataFrame(pd.read_csv('../../Isogenic_Kd/20220621_isogenic_revertant_comp.csv',delimiter=','))\n",
    "results['KD_stdev']=results['KD_err']*np.sqrt(2)\n",
    "results"
   ]
  },
  {
   "cell_type": "code",
   "execution_count": 3,
   "metadata": {},
   "outputs": [
    {
     "data": {
      "image/png": "[encoded data removed]",
      "text/plain": [
       "<Figure size 108x108 with 1 Axes>"
      ]
     },
     "metadata": {
      "needs_background": "light"
     },
     "output_type": "display_data"
    }
   ],
   "source": [
    "#make a plot\n",
    "plt.rcParams['font.sans-serif'] = \"Arial\"\n",
    "plt.rcParams['font.family'] = \"sans-serif\"\n",
    "plt.rcParams['axes.linewidth'] = 0.5\n",
    "plt.figure(figsize=(1.5,1.5))\n",
    "\n",
    "plt.bar(x=results['shortname'],height=results['KD'],yerr=results['KD_err'],color=['tomato','tomato','mediumaquamarine','mediumaquamarine'])\n",
    "plt.ylim(6,11)\n",
    "plt.xticks(ticks=[],labels=[])\n",
    "plt.yticks(ticks=[6,7,8,9,10,11],labels=['6','7','8','9','10','11'],fontsize=7)\n",
    "plt.xlabel('',fontsize=7,labelpad=2)\n",
    "plt.ylabel('$-\\log K_D$',fontsize=7,labelpad=0)\n",
    "plt.tick_params(length=2.5,width=0.5)\n",
    "plt.savefig('images/revertant_comp.png',transparent=True, dpi=1200,bbox_inches='tight')"
   ]
  },
  {
   "cell_type": "code",
   "execution_count": 49,
   "metadata": {},
   "outputs": [
    {
     "name": "stdout",
     "output_type": "stream",
     "text": [
      "Ttest_indResult(statistic=0.2579605316718615, pvalue=0.8205551604928836)\n",
      "Ttest_indResult(statistic=0.0, pvalue=1.0)\n"
     ]
    }
   ],
   "source": [
    "#do a t-test\n",
    "from scipy.stats import ttest_ind_from_stats\n",
    "somatic16 = (10.060,9.315)\n",
    "somatic16err = (0.070711,0.148492)\n",
    "somatic18 = (10.030,9.315)\n",
    "somatic18err = (0.148492,0.190919)\n",
    "for i in range(2):\n",
    "    print(ttest_ind_from_stats(mean1=somatic16[i], std1=somatic16err[i], nobs1=2, mean2=somatic18[i], std2=somatic18err[i], nobs2=2))\n",
    "\n"
   ]
  },
  {
   "cell_type": "code",
   "execution_count": null,
   "metadata": {},
   "outputs": [],
   "source": []
  }
 ],
 "metadata": {
  "kernelspec": {
   "display_name": "Python 3 (ipykernel)",
   "language": "python",
   "name": "python3"
  },
  "language_info": {
   "codemirror_mode": {
    "name": "ipython",
    "version": 3
   },
   "file_extension": ".py",
   "mimetype": "text/x-python",
   "name": "python",
   "nbconvert_exporter": "python",
   "pygments_lexer": "ipython3",
   "version": "3.9.12"
  }
 },
 "nbformat": 4,
 "nbformat_minor": 2
}
