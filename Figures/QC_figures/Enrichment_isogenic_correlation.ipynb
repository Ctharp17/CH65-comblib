{
 "cells": [
  {
   "cell_type": "code",
   "execution_count": 1,
   "metadata": {},
   "outputs": [],
   "source": [
    "import numpy as np\n",
    "import pandas as pd\n",
    "import matplotlib.pyplot as plt\n",
    "import matplotlib as mpl\n",
    "import seaborn as sns\n",
    "sns.set_style('white')\n",
    "\n",
    "import os\n",
    "import collections\n",
    "import glob\n",
    "from scipy.stats import pearsonr\n",
    "import scipy.optimize\n",
    "import scipy.stats"
   ]
  },
  {
   "cell_type": "code",
   "execution_count": 8,
   "metadata": {},
   "outputs": [
    {
     "data": {
      "text/html": [
       "<div>\n",
       "<style scoped>\n",
       "    .dataframe tbody tr th:only-of-type {\n",
       "        vertical-align: middle;\n",
       "    }\n",
       "\n",
       "    .dataframe tbody tr th {\n",
       "        vertical-align: top;\n",
       "    }\n",
       "\n",
       "    .dataframe thead th {\n",
       "        text-align: right;\n",
       "    }\n",
       "</style>\n",
       "<table border=\"1\" class=\"dataframe\">\n",
       "  <thead>\n",
       "    <tr style=\"text-align: right;\">\n",
       "      <th></th>\n",
       "      <th>shortname</th>\n",
       "      <th>antigen</th>\n",
       "      <th>sortseq</th>\n",
       "      <th>sortseq_err</th>\n",
       "      <th>sortseq_norm</th>\n",
       "      <th>sortseq_norm_err</th>\n",
       "      <th>isogenicKd_rep1</th>\n",
       "      <th>isogenicKd_rep2</th>\n",
       "      <th>isogenicKd_avg</th>\n",
       "      <th>isogenicKd_sem</th>\n",
       "      <th>isogenicPE_rep1</th>\n",
       "      <th>isogenicPE_rep2</th>\n",
       "      <th>isogenic_%bound_rep1</th>\n",
       "      <th>isogenic_%bound_rep2</th>\n",
       "      <th>isogenic_%bound_avg</th>\n",
       "      <th>isogenic_%bound_sem</th>\n",
       "      <th>isogenic_norm_avg</th>\n",
       "      <th>isogenic_norm_sem</th>\n",
       "    </tr>\n",
       "  </thead>\n",
       "  <tbody>\n",
       "    <tr>\n",
       "      <th>1</th>\n",
       "      <td>somatic</td>\n",
       "      <td>SI06-G189D</td>\n",
       "      <td>88.887879</td>\n",
       "      <td>4.51115</td>\n",
       "      <td>54.180785</td>\n",
       "      <td>4.667089</td>\n",
       "      <td>6</td>\n",
       "      <td>6</td>\n",
       "      <td>6</td>\n",
       "      <td>0</td>\n",
       "      <td>564.66</td>\n",
       "      <td>589.88</td>\n",
       "      <td>75.5</td>\n",
       "      <td>91.0</td>\n",
       "      <td>83.25</td>\n",
       "      <td>3.875</td>\n",
       "      <td>31.774809</td>\n",
       "      <td>3.888605</td>\n",
       "    </tr>\n",
       "    <tr>\n",
       "      <th>3</th>\n",
       "      <td>somatic</td>\n",
       "      <td>MI15</td>\n",
       "      <td>3.119469</td>\n",
       "      <td>1.31993</td>\n",
       "      <td>2.702023</td>\n",
       "      <td>1.358590</td>\n",
       "      <td>6</td>\n",
       "      <td>6</td>\n",
       "      <td>6</td>\n",
       "      <td>0</td>\n",
       "      <td>6032.54</td>\n",
       "      <td>6695.34</td>\n",
       "      <td>99.8</td>\n",
       "      <td>99.9</td>\n",
       "      <td>99.85</td>\n",
       "      <td>0.025</td>\n",
       "      <td>3.670956</td>\n",
       "      <td>1.200260</td>\n",
       "    </tr>\n",
       "  </tbody>\n",
       "</table>\n",
       "</div>"
      ],
      "text/plain": [
       "  shortname     antigen    sortseq  sortseq_err  sortseq_norm  \\\n",
       "1   somatic  SI06-G189D  88.887879      4.51115     54.180785   \n",
       "3   somatic        MI15   3.119469      1.31993      2.702023   \n",
       "\n",
       "   sortseq_norm_err  isogenicKd_rep1  isogenicKd_rep2  isogenicKd_avg  \\\n",
       "1          4.667089                6                6               6   \n",
       "3          1.358590                6                6               6   \n",
       "\n",
       "   isogenicKd_sem  isogenicPE_rep1  isogenicPE_rep2  isogenic_%bound_rep1  \\\n",
       "1               0           564.66           589.88                  75.5   \n",
       "3               0          6032.54          6695.34                  99.8   \n",
       "\n",
       "   isogenic_%bound_rep2  isogenic_%bound_avg  isogenic_%bound_sem  \\\n",
       "1                  91.0                83.25                3.875   \n",
       "3                  99.9                99.85                0.025   \n",
       "\n",
       "   isogenic_norm_avg  isogenic_norm_sem  \n",
       "1          31.774809           3.888605  \n",
       "3           3.670956           1.200260  "
      ]
     },
     "execution_count": 8,
     "metadata": {},
     "output_type": "execute_result"
    }
   ],
   "source": [
    "results = pd.DataFrame(pd.read_csv('../../Enrichment_Inference/20220725_enrichment_isogenic_corr.csv',delimiter=','))\n",
    "toplot=results.loc[results['shortname']=='somatic'].copy()\n",
    "toplot"
   ]
  },
  {
   "cell_type": "code",
   "execution_count": 30,
   "metadata": {},
   "outputs": [
    {
     "name": "stderr",
     "output_type": "stream",
     "text": [
      "/var/folders/pt/19trqkw56fjfrk2frchqhv2h0000gn/T/ipykernel_74516/4156260208.py:9: MatplotlibDeprecationWarning: Support for passing numbers through unit converters is deprecated since 3.5 and support will be removed two minor releases later; use Axis.convert_units instead.\n",
      "  plt.xticks(ticks=[],labels=[])\n"
     ]
    },
    {
     "data": {
      "image/png": "[encoded data removed]",
      "text/plain": [
       "<Figure size 36x108 with 1 Axes>"
      ]
     },
     "metadata": {},
     "output_type": "display_data"
    }
   ],
   "source": [
    "#make a plot\n",
    "plt.rcParams['font.sans-serif'] = \"Arial\"\n",
    "plt.rcParams['font.family'] = \"sans-serif\"\n",
    "plt.rcParams['axes.linewidth'] = 0.5\n",
    "plt.figure(figsize=(0.5,1.5))\n",
    "\n",
    "plt.bar(x=results['antigen'],height=results['sortseq_norm'],yerr=results['sortseq_norm_err'],color=['green','green','darkmagenta','darkmagenta'])\n",
    "plt.ylim(0,65)\n",
    "plt.xticks(ticks=[],labels=[])\n",
    "plt.yticks(ticks=[0,20,40,60],labels=['0','20','40','60'],fontsize=7)\n",
    "plt.xlabel('',fontsize=7,labelpad=2)\n",
    "plt.ylabel('% bound fold-change',fontsize=7,labelpad=1)\n",
    "plt.tick_params(length=2.5,width=0.5)\n",
    "plt.savefig('images/enrichment_sortseq.png',transparent=True, dpi=1200,bbox_inches='tight')"
   ]
  },
  {
   "cell_type": "code",
   "execution_count": 29,
   "metadata": {},
   "outputs": [
    {
     "name": "stderr",
     "output_type": "stream",
     "text": [
      "/var/folders/pt/19trqkw56fjfrk2frchqhv2h0000gn/T/ipykernel_74516/2037596212.py:9: MatplotlibDeprecationWarning: Support for passing numbers through unit converters is deprecated since 3.5 and support will be removed two minor releases later; use Axis.convert_units instead.\n",
      "  plt.xticks(ticks=[],labels=[])\n"
     ]
    },
    {
     "data": {
      "image/png": "[encoded data removed]",
      "text/plain": [
       "<Figure size 36x108 with 1 Axes>"
      ]
     },
     "metadata": {},
     "output_type": "display_data"
    }
   ],
   "source": [
    "#make a plot\n",
    "plt.rcParams['font.sans-serif'] = \"Arial\"\n",
    "plt.rcParams['font.family'] = \"sans-serif\"\n",
    "plt.rcParams['axes.linewidth'] = 0.5\n",
    "plt.figure(figsize=(0.5,1.5))\n",
    "\n",
    "plt.bar(x=results['antigen'],height=results['isogenic_norm_avg'],yerr=results['isogenic_norm_sem'],color=['green','green','darkmagenta','darkmagenta'])\n",
    "plt.ylim(0,65)\n",
    "plt.xticks(ticks=[],labels=[])\n",
    "plt.yticks(ticks=[0,20,40,60],labels=['0','20','40','60'],fontsize=7)\n",
    "plt.xlabel('',fontsize=7,labelpad=2)\n",
    "plt.ylabel('% bound fold-change',fontsize=7,labelpad=1)\n",
    "plt.tick_params(length=2.5,width=0.5)\n",
    "plt.savefig('images/enrichment_isogenic.png',transparent=True, dpi=1200,bbox_inches='tight')"
   ]
  },
  {
   "cell_type": "code",
   "execution_count": null,
   "metadata": {},
   "outputs": [],
   "source": []
  }
 ],
 "metadata": {
  "kernelspec": {
   "display_name": "Python 3 (ipykernel)",
   "language": "python",
   "name": "python3"
  },
  "language_info": {
   "codemirror_mode": {
    "name": "ipython",
    "version": 3
   },
   "file_extension": ".py",
   "mimetype": "text/x-python",
   "name": "python",
   "nbconvert_exporter": "python",
   "pygments_lexer": "ipython3",
   "version": "3.9.12"
  }
 },
 "nbformat": 4,
 "nbformat_minor": 2
}
