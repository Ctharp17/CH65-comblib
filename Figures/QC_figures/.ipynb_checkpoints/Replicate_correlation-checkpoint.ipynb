{
 "cells": [
  {
   "cell_type": "markdown",
   "metadata": {},
   "source": [
    "## import stuff"
   ]
  },
  {
   "cell_type": "code",
   "execution_count": 4,
   "metadata": {},
   "outputs": [],
   "source": [
    "#importing things\n",
    "import pandas as pd\n",
    "import numpy as np\n",
    "import csv\n",
    "import pylab as pl\n",
    "import matplotlib.pyplot as plt\n",
    "import copy\n",
    "import scipy\n",
    "from scipy.stats import linregress\n",
    "from scipy.stats import t\n",
    "from scipy.stats import sem\n",
    "from scipy.stats import chi2\n",
    "from scipy.stats import pearsonr\n",
    "from scipy.stats import ttest_ind_from_stats\n",
    "from mpl_toolkits.mplot3d import Axes3D\n",
    "from scipy.stats import ttest_ind_from_stats\n",
    "from collections import OrderedDict\n",
    "import seaborn as sns\n",
    "from matplotlib.ticker import FixedLocator, FixedFormatter\n",
    "from numpy import polyfit\n",
    "plt.rcParams['font.sans-serif'] = \"Arial\"\n",
    "plt.rcParams['font.family'] = \"sans-serif\"\n",
    "plt.rcParams['axes.linewidth'] = 0.5"
   ]
  },
  {
   "cell_type": "markdown",
   "metadata": {},
   "source": [
    "## Import data"
   ]
  },
  {
   "cell_type": "code",
   "execution_count": 12,
   "metadata": {},
   "outputs": [
    {
     "data": {
      "text/html": [
       "<div>\n",
       "<style scoped>\n",
       "    .dataframe tbody tr th:only-of-type {\n",
       "        vertical-align: middle;\n",
       "    }\n",
       "\n",
       "    .dataframe tbody tr th {\n",
       "        vertical-align: top;\n",
       "    }\n",
       "\n",
       "    .dataframe thead th {\n",
       "        text-align: right;\n",
       "    }\n",
       "</style>\n",
       "<table border=\"1\" class=\"dataframe\">\n",
       "  <thead>\n",
       "    <tr style=\"text-align: right;\">\n",
       "      <th></th>\n",
       "      <th>geno</th>\n",
       "      <th>repa_x</th>\n",
       "      <th>repb_x</th>\n",
       "      <th>MA90_mean</th>\n",
       "      <th>MA90_sem</th>\n",
       "      <th>repa_y</th>\n",
       "      <th>repb_y</th>\n",
       "      <th>SI06_mean</th>\n",
       "      <th>SI06_sem</th>\n",
       "      <th>repa</th>\n",
       "      <th>...</th>\n",
       "      <th>pos8</th>\n",
       "      <th>pos9</th>\n",
       "      <th>pos10</th>\n",
       "      <th>pos11</th>\n",
       "      <th>pos12</th>\n",
       "      <th>pos13</th>\n",
       "      <th>pos14</th>\n",
       "      <th>pos15</th>\n",
       "      <th>pos16</th>\n",
       "      <th>som_mut</th>\n",
       "    </tr>\n",
       "  </thead>\n",
       "  <tbody>\n",
       "    <tr>\n",
       "      <th>0</th>\n",
       "      <td>0000000000000000</td>\n",
       "      <td>8.612721</td>\n",
       "      <td>8.472320</td>\n",
       "      <td>8.542521</td>\n",
       "      <td>0.040530</td>\n",
       "      <td>5.0</td>\n",
       "      <td>5.0</td>\n",
       "      <td>5.0</td>\n",
       "      <td>2.282060e-14</td>\n",
       "      <td>6.651893</td>\n",
       "      <td>...</td>\n",
       "      <td>0</td>\n",
       "      <td>0</td>\n",
       "      <td>0</td>\n",
       "      <td>0</td>\n",
       "      <td>0</td>\n",
       "      <td>0</td>\n",
       "      <td>0</td>\n",
       "      <td>0</td>\n",
       "      <td>0</td>\n",
       "      <td>0</td>\n",
       "    </tr>\n",
       "    <tr>\n",
       "      <th>1</th>\n",
       "      <td>0000000000000001</td>\n",
       "      <td>8.631980</td>\n",
       "      <td>8.516378</td>\n",
       "      <td>8.574179</td>\n",
       "      <td>0.033371</td>\n",
       "      <td>5.0</td>\n",
       "      <td>5.0</td>\n",
       "      <td>5.0</td>\n",
       "      <td>0.000000e+00</td>\n",
       "      <td>5.000000</td>\n",
       "      <td>...</td>\n",
       "      <td>0</td>\n",
       "      <td>0</td>\n",
       "      <td>0</td>\n",
       "      <td>0</td>\n",
       "      <td>0</td>\n",
       "      <td>0</td>\n",
       "      <td>0</td>\n",
       "      <td>0</td>\n",
       "      <td>1</td>\n",
       "      <td>1</td>\n",
       "    </tr>\n",
       "    <tr>\n",
       "      <th>2</th>\n",
       "      <td>0000000000000010</td>\n",
       "      <td>8.340245</td>\n",
       "      <td>8.290790</td>\n",
       "      <td>8.315518</td>\n",
       "      <td>0.014276</td>\n",
       "      <td>5.0</td>\n",
       "      <td>5.0</td>\n",
       "      <td>5.0</td>\n",
       "      <td>0.000000e+00</td>\n",
       "      <td>5.000000</td>\n",
       "      <td>...</td>\n",
       "      <td>0</td>\n",
       "      <td>0</td>\n",
       "      <td>0</td>\n",
       "      <td>0</td>\n",
       "      <td>0</td>\n",
       "      <td>0</td>\n",
       "      <td>0</td>\n",
       "      <td>1</td>\n",
       "      <td>0</td>\n",
       "      <td>1</td>\n",
       "    </tr>\n",
       "    <tr>\n",
       "      <th>3</th>\n",
       "      <td>0000000000000011</td>\n",
       "      <td>8.511183</td>\n",
       "      <td>8.436571</td>\n",
       "      <td>8.473877</td>\n",
       "      <td>0.021539</td>\n",
       "      <td>5.0</td>\n",
       "      <td>5.0</td>\n",
       "      <td>5.0</td>\n",
       "      <td>1.341254e-11</td>\n",
       "      <td>6.415592</td>\n",
       "      <td>...</td>\n",
       "      <td>0</td>\n",
       "      <td>0</td>\n",
       "      <td>0</td>\n",
       "      <td>0</td>\n",
       "      <td>0</td>\n",
       "      <td>0</td>\n",
       "      <td>0</td>\n",
       "      <td>1</td>\n",
       "      <td>1</td>\n",
       "      <td>2</td>\n",
       "    </tr>\n",
       "    <tr>\n",
       "      <th>4</th>\n",
       "      <td>0000000000000100</td>\n",
       "      <td>8.552056</td>\n",
       "      <td>8.523392</td>\n",
       "      <td>8.537724</td>\n",
       "      <td>0.008275</td>\n",
       "      <td>5.0</td>\n",
       "      <td>5.0</td>\n",
       "      <td>5.0</td>\n",
       "      <td>3.854462e-15</td>\n",
       "      <td>6.039586</td>\n",
       "      <td>...</td>\n",
       "      <td>0</td>\n",
       "      <td>0</td>\n",
       "      <td>0</td>\n",
       "      <td>0</td>\n",
       "      <td>0</td>\n",
       "      <td>0</td>\n",
       "      <td>1</td>\n",
       "      <td>0</td>\n",
       "      <td>0</td>\n",
       "      <td>1</td>\n",
       "    </tr>\n",
       "  </tbody>\n",
       "</table>\n",
       "<p>5 rows × 30 columns</p>\n",
       "</div>"
      ],
      "text/plain": [
       "               geno    repa_x    repb_x  MA90_mean  MA90_sem  repa_y  repb_y  \\\n",
       "0  0000000000000000  8.612721  8.472320   8.542521  0.040530     5.0     5.0   \n",
       "1  0000000000000001  8.631980  8.516378   8.574179  0.033371     5.0     5.0   \n",
       "2  0000000000000010  8.340245  8.290790   8.315518  0.014276     5.0     5.0   \n",
       "3  0000000000000011  8.511183  8.436571   8.473877  0.021539     5.0     5.0   \n",
       "4  0000000000000100  8.552056  8.523392   8.537724  0.008275     5.0     5.0   \n",
       "\n",
       "   SI06_mean      SI06_sem      repa  ...  pos8  pos9  pos10  pos11  pos12  \\\n",
       "0        5.0  2.282060e-14  6.651893  ...     0     0      0      0      0   \n",
       "1        5.0  0.000000e+00  5.000000  ...     0     0      0      0      0   \n",
       "2        5.0  0.000000e+00  5.000000  ...     0     0      0      0      0   \n",
       "3        5.0  1.341254e-11  6.415592  ...     0     0      0      0      0   \n",
       "4        5.0  3.854462e-15  6.039586  ...     0     0      0      0      0   \n",
       "\n",
       "   pos13  pos14  pos15  pos16  som_mut  \n",
       "0      0      0      0      0        0  \n",
       "1      0      0      0      1        1  \n",
       "2      0      0      1      0        1  \n",
       "3      0      0      1      1        2  \n",
       "4      0      1      0      0        1  \n",
       "\n",
       "[5 rows x 30 columns]"
      ]
     },
     "execution_count": 12,
     "metadata": {},
     "output_type": "execute_result"
    }
   ],
   "source": [
    "CH65_all_unf = pd.DataFrame(pd.read_csv('../../Kd_Inference/results_CH65/Kd_processed/20220601_CH65_unfilt.csv',delimiter=',',dtype={'geno': str}))\n",
    "CH65_all_fil = pd.DataFrame(pd.read_csv('../../Kd_Inference/results_CH65/Kd_processed/20220601_CH65_filt.csv',delimiter=',',dtype={'geno': str}))\n",
    "\n",
    "CH65_all_unf.head()"
   ]
  },
  {
   "cell_type": "markdown",
   "metadata": {},
   "source": [
    "## Check out correlation between replicates without filtering"
   ]
  },
  {
   "cell_type": "code",
   "execution_count": 7,
   "metadata": {},
   "outputs": [
    {
     "name": "stderr",
     "output_type": "stream",
     "text": [
      "/Users/angelaphillips/opt/anaconda3/lib/python3.7/site-packages/matplotlib/cbook/__init__.py:1402: FutureWarning: Support for multi-dimensional indexing (e.g. `obj[:, None]`) is deprecated and will be removed in a future version.  Convert to a numpy array before indexing instead.\n",
      "  x[:, None]\n",
      "/Users/angelaphillips/opt/anaconda3/lib/python3.7/site-packages/matplotlib/axes/_base.py:276: FutureWarning: Support for multi-dimensional indexing (e.g. `obj[:, None]`) is deprecated and will be removed in a future version.  Convert to a numpy array before indexing instead.\n",
      "  x = x[:, np.newaxis]\n",
      "/Users/angelaphillips/opt/anaconda3/lib/python3.7/site-packages/matplotlib/axes/_base.py:278: FutureWarning: Support for multi-dimensional indexing (e.g. `obj[:, None]`) is deprecated and will be removed in a future version.  Convert to a numpy array before indexing instead.\n",
      "  y = y[:, np.newaxis]\n"
     ]
    },
    {
     "name": "stdout",
     "output_type": "stream",
     "text": [
      "0.9815221924229878\n"
     ]
    },
    {
     "data": {
      "image/png": "[encoded data removed]",
      "text/plain": [
       "<Figure size 72x57.6 with 2 Axes>"
      ]
     },
     "metadata": {
      "needs_background": "light"
     },
     "output_type": "display_data"
    }
   ],
   "source": [
    "flierprops = dict(marker='o', markersize=2)\n",
    "fig, ax = plt.subplots(figsize=(1,0.8))\n",
    "plotting = pd.DataFrame()\n",
    "plotting = CH65_all_unf[['repa_x', 'repb_x']].copy()\n",
    "plotting.dropna(inplace=True)\n",
    "hb=plt.hexbin(plotting['repa_x'], plotting['repb_x'],cmap='Reds',bins='log',gridsize=25,linewidths=0.2)\n",
    "plt.xlabel(\"Rep. 1 -logKd\",fontsize=7,labelpad=1)\n",
    "plt.ylabel(\"Rep. 2 -logKd\",fontsize=7,labelpad=0)\n",
    "plt.tick_params(labelsize=7,length=2.5)\n",
    "x_locator = FixedLocator([7,8,9,10,11])\n",
    "ax.xaxis.set_major_locator(x_locator)\n",
    "ax.set_xticklabels(['7','8','9','10','11'])\n",
    "y_locator = FixedLocator([7,8,9,10,11])\n",
    "ax.yaxis.set_major_locator(x_locator)\n",
    "ax.set_yticklabels(['7','8','9','10','11'])\n",
    "plt.xlim(7,11)\n",
    "plt.ylim(7,11)\n",
    "x = plotting['repa_x']\n",
    "y = plotting['repb_x']\n",
    "cb = fig.colorbar(hb, ax=ax,ticks=[1,10,100,1000,10000],orientation='vertical',pad=0.05)\n",
    "cb.ax.tick_params(labelsize=7,pad=1,size=1)\n",
    "xs = np.array([7,11])\n",
    "plt.plot(xs, xs, 'k-',linewidth=0.5)\n",
    "corr, _ = pearsonr(plotting['repa_x'], plotting['repb_x'])\n",
    "m, b = np.polyfit(plotting['repa_x'], plotting['repb_x'], 1)\n",
    "plt.plot(x, m*x + b,'k:',zorder=10000,c='black',linewidth=0.5)\n",
    "print(corr)\n",
    "plt.suptitle(\"N = \"+str(plotting.shape[0])+'; r =  %.2f' % corr,fontsize=7,y=1)\n",
    "plt.savefig('MA90_unfilt_rep_correl.png',transparent=True, dpi=600,bbox_inches='tight')"
   ]
  },
  {
   "cell_type": "code",
   "execution_count": 10,
   "metadata": {},
   "outputs": [
    {
     "name": "stdout",
     "output_type": "stream",
     "text": [
      "0.9835117737379467\n"
     ]
    },
    {
     "data": {
      "image/png": "[encoded data removed]",
      "text/plain": [
       "<Figure size 72x57.6 with 2 Axes>"
      ]
     },
     "metadata": {
      "needs_background": "light"
     },
     "output_type": "display_data"
    }
   ],
   "source": [
    "flierprops = dict(marker='o', markersize=2)\n",
    "fig, ax = plt.subplots(figsize=(1,0.8))\n",
    "plotting = pd.DataFrame()\n",
    "plotting = CH65_all_unf[['repa_y', 'repb_y']].copy()\n",
    "plotting.dropna(inplace=True)\n",
    "hb=plt.hexbin(plotting['repa_y'], plotting['repb_y'],cmap='Greens',bins='log',vmin=1, vmax=100,gridsize=25,linewidths=0.2)\n",
    "plt.xlabel(\"Rep. 1 -logKd\",fontsize=7,labelpad=1)\n",
    "plt.ylabel(\"Rep. 2 -logKd\",fontsize=7,labelpad=0)\n",
    "plt.tick_params(labelsize=7,length=2.5)\n",
    "x_locator = FixedLocator([5,6,7,8,9,10])\n",
    "ax.xaxis.set_major_locator(x_locator)\n",
    "ax.set_xticklabels(['5','6','7','8','9','10'])\n",
    "y_locator = FixedLocator([5,6,7,8,9,10])\n",
    "ax.yaxis.set_major_locator(x_locator)\n",
    "ax.set_yticklabels(['5','6','7','8','9','10'])\n",
    "plt.xlim(4.5,10)\n",
    "plt.ylim(4.5,10)\n",
    "x = plotting['repa_y']\n",
    "y = plotting['repb_y']\n",
    "cb = fig.colorbar(hb, ax=ax,ticks=[1,10,100,1000,10000],orientation='vertical',pad=0.05)\n",
    "cb.ax.tick_params(labelsize=7,pad=1,size=1)\n",
    "xs = np.array([4.5,10])\n",
    "plt.plot(xs, xs, 'k-',linewidth=0.5)\n",
    "corr, _ = pearsonr(plotting['repa_y'], plotting['repb_y'])\n",
    "m, b = np.polyfit(plotting['repa_y'], plotting['repb_y'], 1)\n",
    "plt.plot(x, m*x + b,'k:',zorder=10000,c='black',linewidth=0.5)\n",
    "print(corr)\n",
    "plt.suptitle(\"N = \"+str(plotting.shape[0])+'; r =  %.2f' % corr,fontsize=7,y=1)\n",
    "plt.savefig('SI06_unfilt_rep_correl.png',transparent=True, dpi=600,bbox_inches='tight')"
   ]
  },
  {
   "cell_type": "code",
   "execution_count": 11,
   "metadata": {},
   "outputs": [
    {
     "name": "stdout",
     "output_type": "stream",
     "text": [
      "0.8252924946684672\n"
     ]
    },
    {
     "data": {
      "image/png": "[encoded data removed]",
      "text/plain": [
       "<Figure size 72x57.6 with 2 Axes>"
      ]
     },
     "metadata": {
      "needs_background": "light"
     },
     "output_type": "display_data"
    }
   ],
   "source": [
    "flierprops = dict(marker='o', markersize=2)\n",
    "fig, ax = plt.subplots(figsize=(1,0.8))\n",
    "plotting = pd.DataFrame()\n",
    "plotting = CH65_all_unf[['repa', 'repb']].copy()\n",
    "plotting.dropna(inplace=True)\n",
    "hb=plt.hexbin(plotting['repa'], plotting['repb'],cmap='Blues',bins='log',vmin=1, vmax=1000,gridsize=25,linewidths=0.2)\n",
    "plt.xlabel(\"Rep. 1 -logKd\",fontsize=7,labelpad=1)\n",
    "plt.ylabel(\"Rep. 2 -logKd\",fontsize=7,labelpad=0)\n",
    "plt.tick_params(labelsize=7,length=2.5)\n",
    "x_locator = FixedLocator([5,6,7,8,9,10])\n",
    "ax.xaxis.set_major_locator(x_locator)\n",
    "ax.set_xticklabels(['5','6','7','8','9','10'])\n",
    "y_locator = FixedLocator([5,6,7,8,9,10])\n",
    "ax.yaxis.set_major_locator(x_locator)\n",
    "ax.set_yticklabels(['5','6','7','8','9','10'])\n",
    "plt.xlim(4.5,10)\n",
    "plt.ylim(4.5,10)\n",
    "x = plotting['repa']\n",
    "y = plotting['repb']\n",
    "cb = fig.colorbar(hb, ax=ax,ticks=[1,10,100,1000,10000],orientation='vertical',pad=0.05)\n",
    "cb.ax.tick_params(labelsize=7,pad=1,size=1)\n",
    "xs = np.array([4.5,10])\n",
    "plt.plot(xs, xs, 'k-',linewidth=0.5)\n",
    "corr, _ = pearsonr(plotting['repa'], plotting['repb'])\n",
    "m, b = np.polyfit(plotting['repa'], plotting['repb'], 1)\n",
    "plt.plot(x, m*x + b,'k:',zorder=10000,c='black',linewidth=0.5)\n",
    "print(corr)\n",
    "plt.suptitle(\"N = \"+str(plotting.shape[0])+'; r =  %.2f' % corr,fontsize=7,y=1)\n",
    "plt.savefig('G189E_unfilt_rep_correl.png',transparent=True, dpi=600,bbox_inches='tight')"
   ]
  },
  {
   "cell_type": "code",
   "execution_count": 14,
   "metadata": {},
   "outputs": [
    {
     "name": "stdout",
     "output_type": "stream",
     "text": [
      "0.9824940147473318\n"
     ]
    },
    {
     "data": {
      "image/png": "[encoded data removed]",
      "text/plain": [
       "<Figure size 72x57.6 with 2 Axes>"
      ]
     },
     "metadata": {
      "needs_background": "light"
     },
     "output_type": "display_data"
    }
   ],
   "source": [
    "flierprops = dict(marker='o', markersize=2)\n",
    "fig, ax = plt.subplots(figsize=(1,0.8))\n",
    "plotting = pd.DataFrame()\n",
    "plotting = CH65_all_fil[['repa_x', 'repb_x']].copy()\n",
    "plotting.dropna(inplace=True)\n",
    "hb=plt.hexbin(plotting['repa_x'], plotting['repb_x'],cmap='Reds',bins='log',gridsize=25,linewidths=0.2)\n",
    "plt.xlabel(\"Rep. 1 -logKd\",fontsize=7,labelpad=1)\n",
    "plt.ylabel(\"Rep. 2 -logKd\",fontsize=7,labelpad=0)\n",
    "plt.tick_params(labelsize=7,length=2.5)\n",
    "x_locator = FixedLocator([7,8,9,10,11])\n",
    "ax.xaxis.set_major_locator(x_locator)\n",
    "ax.set_xticklabels(['7','8','9','10','11'])\n",
    "y_locator = FixedLocator([7,8,9,10,11])\n",
    "ax.yaxis.set_major_locator(x_locator)\n",
    "ax.set_yticklabels(['7','8','9','10','11'])\n",
    "plt.xlim(7,11)\n",
    "plt.ylim(7,11)\n",
    "x = plotting['repa_x']\n",
    "y = plotting['repb_x']\n",
    "cb = fig.colorbar(hb, ax=ax,ticks=[1,10,100,1000,10000],orientation='vertical',pad=0.05)\n",
    "cb.ax.tick_params(labelsize=7,pad=1,size=1)\n",
    "xs = np.array([7,11])\n",
    "plt.plot(xs, xs, 'k-',linewidth=0.5)\n",
    "corr, _ = pearsonr(plotting['repa_x'], plotting['repb_x'])\n",
    "m, b = np.polyfit(plotting['repa_x'], plotting['repb_x'], 1)\n",
    "plt.plot(x, m*x + b,'k:',zorder=10000,c='black',linewidth=0.5)\n",
    "print(corr)\n",
    "plt.suptitle(\"N = \"+str(plotting.shape[0])+'; r =  %.2f' % corr,fontsize=7,y=1)\n",
    "plt.savefig('MA90_filt_rep_correl.png',transparent=False, dpi=600,bbox_inches='tight')"
   ]
  },
  {
   "cell_type": "code",
   "execution_count": 15,
   "metadata": {},
   "outputs": [
    {
     "name": "stdout",
     "output_type": "stream",
     "text": [
      "0.9850926258180197\n"
     ]
    },
    {
     "data": {
      "image/png": "[encoded data removed]",
      "text/plain": [
       "<Figure size 72x57.6 with 2 Axes>"
      ]
     },
     "metadata": {
      "needs_background": "light"
     },
     "output_type": "display_data"
    }
   ],
   "source": [
    "flierprops = dict(marker='o', markersize=2)\n",
    "fig, ax = plt.subplots(figsize=(1,0.8))\n",
    "plotting = pd.DataFrame()\n",
    "plotting = CH65_all_fil[['repa_y', 'repb_y']].copy()\n",
    "plotting.dropna(inplace=True)\n",
    "hb=plt.hexbin(plotting['repa_y'], plotting['repb_y'],cmap='Greens',bins='log',vmin=1,vmax=1000,gridsize=25,linewidths=0.2)\n",
    "plt.xlabel(\"Rep. 1 -logKd\",fontsize=7,labelpad=1)\n",
    "plt.ylabel(\"Rep. 2 -logKd\",fontsize=7,labelpad=0)\n",
    "plt.tick_params(labelsize=7,length=2.5)\n",
    "x_locator = FixedLocator([6,7,8,9,10])\n",
    "ax.xaxis.set_major_locator(x_locator)\n",
    "ax.set_xticklabels(['6','7','8','9','10'])\n",
    "y_locator = FixedLocator([6,7,8,9,10])\n",
    "ax.yaxis.set_major_locator(x_locator)\n",
    "ax.set_yticklabels(['6','7','8','9','10'])\n",
    "plt.xlim(5.5,10)\n",
    "plt.ylim(5.5,10)\n",
    "x = plotting['repa_y']\n",
    "y = plotting['repb_y']\n",
    "cb = fig.colorbar(hb, ax=ax,ticks=[1,10,100,1000,10000],orientation='vertical',pad=0.05)\n",
    "cb.ax.tick_params(labelsize=7,pad=1,size=1)\n",
    "xs = np.array([5.5,10])\n",
    "plt.plot(xs, xs, 'k-',linewidth=0.5)\n",
    "corr, _ = pearsonr(plotting['repa_y'], plotting['repb_y'])\n",
    "m, b = np.polyfit(plotting['repa_y'], plotting['repb_y'], 1)\n",
    "plt.plot(x, m*x + b,'k:',zorder=10000,c='black',linewidth=0.5)\n",
    "print(corr)\n",
    "plt.suptitle(\"N = \"+str(plotting.shape[0])+'; r =  %.2f' % corr,fontsize=7,y=1)\n",
    "plt.savefig('SI06_filt_rep_correl.png',transparent=False, dpi=600,bbox_inches='tight')"
   ]
  },
  {
   "cell_type": "code",
   "execution_count": 16,
   "metadata": {},
   "outputs": [
    {
     "name": "stdout",
     "output_type": "stream",
     "text": [
      "0.9670518121273911\n"
     ]
    },
    {
     "data": {
      "image/png": "[encoded data removed]",
      "text/plain": [
       "<Figure size 72x57.6 with 2 Axes>"
      ]
     },
     "metadata": {
      "needs_background": "light"
     },
     "output_type": "display_data"
    }
   ],
   "source": [
    "flierprops = dict(marker='o', markersize=2)\n",
    "fig, ax = plt.subplots(figsize=(1,0.8))\n",
    "plotting = pd.DataFrame()\n",
    "plotting = CH65_all_fil[['repa', 'repb']].copy()\n",
    "plotting.dropna(inplace=True)\n",
    "hb=plt.hexbin(plotting['repa'], plotting['repb'],cmap='Blues',bins='log',vmin=1,vmax=1000,gridsize=25,linewidths=0.2)\n",
    "plt.xlabel(\"Rep. 1 -logKd\",fontsize=7,labelpad=1)\n",
    "plt.ylabel(\"Rep. 2 -logKd\",fontsize=7,labelpad=0)\n",
    "plt.tick_params(labelsize=7,length=2.5)\n",
    "x_locator = FixedLocator([6,7,8,9,10,11])\n",
    "ax.xaxis.set_major_locator(x_locator)\n",
    "ax.set_xticklabels(['6','7','8','9','10','11'])\n",
    "y_locator = FixedLocator([6,7,8,9,10,11])\n",
    "ax.yaxis.set_major_locator(x_locator)\n",
    "ax.set_yticklabels(['6','7','8','9','10','11'])\n",
    "plt.xlim(5.5,11)\n",
    "plt.ylim(5.5,11)\n",
    "x = plotting['repa']\n",
    "y = plotting['repb']\n",
    "cb = fig.colorbar(hb, ax=ax,ticks=[1,10,100,1000,10000],orientation='vertical',pad=0.05)\n",
    "cb.ax.tick_params(labelsize=7,pad=1,size=1)\n",
    "xs = np.array([5.5,11])\n",
    "plt.plot(xs, xs, 'k-',linewidth=0.5)\n",
    "corr, _ = pearsonr(plotting['repa'], plotting['repb'])\n",
    "m, b = np.polyfit(plotting['repa'], plotting['repb'], 1)\n",
    "plt.plot(x, m*x + b,'k:',zorder=10000,c='black',linewidth=0.5)\n",
    "print(corr)\n",
    "plt.suptitle(\"N = \"+str(plotting.shape[0])+'; r =  %.2f' % corr,fontsize=7,y=1)\n",
    "plt.savefig('G189E_filt_rep_correl.png',transparent=False, dpi=600,bbox_inches='tight')"
   ]
  },
  {
   "cell_type": "code",
   "execution_count": null,
   "metadata": {},
   "outputs": [],
   "source": []
  }
 ],
 "metadata": {
  "kernelspec": {
   "display_name": "Python 3",
   "language": "python",
   "name": "python3"
  },
  "language_info": {
   "codemirror_mode": {
    "name": "ipython",
    "version": 3
   },
   "file_extension": ".py",
   "mimetype": "text/x-python",
   "name": "python",
   "nbconvert_exporter": "python",
   "pygments_lexer": "ipython3",
   "version": "3.7.4"
  }
 },
 "nbformat": 4,
 "nbformat_minor": 2
}
