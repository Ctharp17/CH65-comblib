{
 "cells": [
  {
   "cell_type": "code",
   "execution_count": 1,
   "metadata": {},
   "outputs": [],
   "source": [
    "import numpy as np\n",
    "import pandas as pd\n",
    "import matplotlib.pyplot as plt\n",
    "import matplotlib as mpl\n",
    "import seaborn as sns\n",
    "sns.set_style('white')\n",
    "\n",
    "import os\n",
    "import collections\n",
    "import glob\n",
    "from scipy.stats import pearsonr\n",
    "import scipy.optimize\n",
    "import scipy.stats"
   ]
  },
  {
   "cell_type": "code",
   "execution_count": 2,
   "metadata": {},
   "outputs": [],
   "source": [
    "results = pd.DataFrame(pd.read_csv('../../Enrichment_Inference/20220723_enrichment_isogenic_corr_v2.csv',delimiter=','))"
   ]
  },
  {
   "cell_type": "code",
   "execution_count": 3,
   "metadata": {},
   "outputs": [
    {
     "data": {
      "text/html": [
       "<div>\n",
       "<style scoped>\n",
       "    .dataframe tbody tr th:only-of-type {\n",
       "        vertical-align: middle;\n",
       "    }\n",
       "\n",
       "    .dataframe tbody tr th {\n",
       "        vertical-align: top;\n",
       "    }\n",
       "\n",
       "    .dataframe thead th {\n",
       "        text-align: right;\n",
       "    }\n",
       "</style>\n",
       "<table border=\"1\" class=\"dataframe\">\n",
       "  <thead>\n",
       "    <tr style=\"text-align: right;\">\n",
       "      <th></th>\n",
       "      <th></th>\n",
       "      <th>isogenic_enrich</th>\n",
       "      <th>isogenic_enrich_err</th>\n",
       "      <th>sortseq</th>\n",
       "      <th>sortseq_err</th>\n",
       "    </tr>\n",
       "    <tr>\n",
       "      <th>antigen</th>\n",
       "      <th>shortname</th>\n",
       "      <th></th>\n",
       "      <th></th>\n",
       "      <th></th>\n",
       "      <th></th>\n",
       "    </tr>\n",
       "  </thead>\n",
       "  <tbody>\n",
       "    <tr>\n",
       "      <th rowspan=\"2\" valign=\"top\">MI15</th>\n",
       "      <th>germline</th>\n",
       "      <td>27.20</td>\n",
       "      <td>1.200</td>\n",
       "      <td>1.154494</td>\n",
       "      <td>0.321792</td>\n",
       "    </tr>\n",
       "    <tr>\n",
       "      <th>somatic</th>\n",
       "      <td>99.85</td>\n",
       "      <td>0.025</td>\n",
       "      <td>3.119469</td>\n",
       "      <td>1.319930</td>\n",
       "    </tr>\n",
       "    <tr>\n",
       "      <th rowspan=\"2\" valign=\"top\">SI06-G189D</th>\n",
       "      <th>germline</th>\n",
       "      <td>2.62</td>\n",
       "      <td>0.325</td>\n",
       "      <td>1.640579</td>\n",
       "      <td>1.196344</td>\n",
       "    </tr>\n",
       "    <tr>\n",
       "      <th>somatic</th>\n",
       "      <td>83.25</td>\n",
       "      <td>3.875</td>\n",
       "      <td>88.887879</td>\n",
       "      <td>4.511150</td>\n",
       "    </tr>\n",
       "  </tbody>\n",
       "</table>\n",
       "</div>"
      ],
      "text/plain": [
       "                      isogenic_enrich  isogenic_enrich_err    sortseq  \\\n",
       "antigen    shortname                                                    \n",
       "MI15       germline             27.20                1.200   1.154494   \n",
       "           somatic              99.85                0.025   3.119469   \n",
       "SI06-G189D germline              2.62                0.325   1.640579   \n",
       "           somatic              83.25                3.875  88.887879   \n",
       "\n",
       "                      sortseq_err  \n",
       "antigen    shortname               \n",
       "MI15       germline      0.321792  \n",
       "           somatic       1.319930  \n",
       "SI06-G189D germline      1.196344  \n",
       "           somatic       4.511150  "
      ]
     },
     "execution_count": 3,
     "metadata": {},
     "output_type": "execute_result"
    }
   ],
   "source": [
    "g = results.groupby(['antigen', 'shortname'])\n",
    "results_merge = pd.DataFrame({\n",
    "    'isogenic_enrich' : g.mean()['isogenic_enrich_avg'],\n",
    "    'isogenic_enrich_err' : g.mean()['isogenic_enrich_sem'],\n",
    "    'sortseq' : g['sortseq'].mean(),\n",
    "    'sortseq_err' : g['sortseq_err'].mean()\n",
    "})\n",
    "\n",
    "results_merge"
   ]
  },
  {
   "cell_type": "code",
   "execution_count": 6,
   "metadata": {},
   "outputs": [
    {
     "name": "stdout",
     "output_type": "stream",
     "text": [
      "0.4514782833901798\n"
     ]
    },
    {
     "data": {
      "image/png": "[encoded data removed]",
      "text/plain": [
       "<Figure size 108x108 with 1 Axes>"
      ]
     },
     "metadata": {},
     "output_type": "display_data"
    }
   ],
   "source": [
    "sns.set_style('ticks')\n",
    "from matplotlib.ticker import FixedLocator, FixedFormatter\n",
    "#sns.set_context('notebook')\n",
    "plot_list = results_merge[~results_merge['sortseq'].isna()]\n",
    "plt.rcParams['font.sans-serif'] = \"Arial\"\n",
    "# Then, \"ALWAYS use sans-serif fonts\"\n",
    "plt.rcParams['font.family'] = \"sans-serif\"\n",
    "plt.rcParams['axes.linewidth'] = 0.5\n",
    "flierprops = dict(marker='o', markersize=2)\n",
    "plt.figure(figsize=(1.5,1.5))\n",
    "# x_locator = FixedLocator([6,7,8,9,10])\n",
    "slope, intercept, r_value, p_value, std_err = scipy.stats.linregress(plot_list['isogenic_enrich'], plot_list['sortseq'])\n",
    "xs = np.array([0,100])\n",
    "plt.plot(xs, xs, 'k-')\n",
    "plt.plot(xs, slope*xs + intercept, 'k:')\n",
    "corr, _ = pearsonr(plot_list['isogenic_enrich'], plot_list['sortseq'])\n",
    "\n",
    "colordict = {'SI06-G189D':'forestgreen', 'MI15':'darkmagenta'}\n",
    "\n",
    "for ag,color in colordict.items():\n",
    "    to_plot = plot_list.loc[ag,:]\n",
    "    plt.errorbar(x=to_plot['isogenic_enrich'],\n",
    "                 y=to_plot['sortseq'],\n",
    "                 xerr=to_plot['isogenic_enrich_err'],\n",
    "                 yerr=to_plot['sortseq_err'],\n",
    "                 linestyle='none',\n",
    "                 linewidth=1,\n",
    "                 marker='o',\n",
    "                 markersize=4,\n",
    "                 markeredgecolor='k',\n",
    "                 markeredgewidth=0.5,\n",
    "                 label=ag,\n",
    "                 ecolor='k',\n",
    "                color=color)\n",
    "import scipy.stats\n",
    "plt.xticks(ticks=[0,50,100],labels=['0','50','100'],fontsize=7)\n",
    "plt.yticks(ticks=[0,50,100],labels=['0','50','100'],fontsize=7)\n",
    "#plt.legend(fontsize=7,bbox_to_anchor=(0.5, 1.1), loc='right')\n",
    "plt.tick_params(length=2.5,width=0.5)\n",
    "#plt.legend(loc='best',fontsize=7)\n",
    "plt.xlabel(r'isogenic %bound',fontsize=7,labelpad=0)\n",
    "plt.ylabel(r'sortseq %bound',fontsize=7,labelpad=0)\n",
    "#plt.title('r =  %.2f' % corr,fontsize=8,y=1)\n",
    "#plt.title('CR9114, Comparison of Titeseq to isogenic measurement\\n$R^2=%0.3f$' % r_value**2)\n",
    "plt.axis('square')\n",
    "\n",
    "plt.savefig('images/CH65_iso_enrich_validation.png',transparent=True, dpi=600,bbox_inches='tight')\n",
    "print(corr)"
   ]
  },
  {
   "cell_type": "code",
   "execution_count": null,
   "metadata": {},
   "outputs": [],
   "source": []
  }
 ],
 "metadata": {
  "kernelspec": {
   "display_name": "Python 3 (ipykernel)",
   "language": "python",
   "name": "python3"
  },
  "language_info": {
   "codemirror_mode": {
    "name": "ipython",
    "version": 3
   },
   "file_extension": ".py",
   "mimetype": "text/x-python",
   "name": "python",
   "nbconvert_exporter": "python",
   "pygments_lexer": "ipython3",
   "version": "3.9.12"
  }
 },
 "nbformat": 4,
 "nbformat_minor": 2
}
