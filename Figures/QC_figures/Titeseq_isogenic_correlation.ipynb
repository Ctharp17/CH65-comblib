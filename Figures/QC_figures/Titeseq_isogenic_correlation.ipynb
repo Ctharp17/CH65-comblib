{
 "cells": [
  {
   "cell_type": "code",
   "execution_count": 1,
   "metadata": {},
   "outputs": [],
   "source": [
    "import numpy as np\n",
    "import pandas as pd\n",
    "import matplotlib.pyplot as plt\n",
    "import matplotlib as mpl\n",
    "import seaborn as sns\n",
    "sns.set_style('white')\n",
    "\n",
    "import os\n",
    "import collections\n",
    "import glob\n",
    "from scipy.stats import pearsonr\n",
    "import scipy.optimize\n",
    "import scipy.stats"
   ]
  },
  {
   "cell_type": "code",
   "execution_count": 2,
   "metadata": {},
   "outputs": [],
   "source": [
    "results = pd.DataFrame(pd.read_csv('../../Kd_Inference/results_CH65/Kd_processed/20220603_titeseq_isogenic_corr.csv',delimiter=','))"
   ]
  },
  {
   "cell_type": "code",
   "execution_count": 3,
   "metadata": {},
   "outputs": [
    {
     "data": {
      "text/html": [
       "<div>\n",
       "<style scoped>\n",
       "    .dataframe tbody tr th:only-of-type {\n",
       "        vertical-align: middle;\n",
       "    }\n",
       "\n",
       "    .dataframe tbody tr th {\n",
       "        vertical-align: top;\n",
       "    }\n",
       "\n",
       "    .dataframe thead th {\n",
       "        text-align: right;\n",
       "    }\n",
       "</style>\n",
       "<table border=\"1\" class=\"dataframe\">\n",
       "  <thead>\n",
       "    <tr style=\"text-align: right;\">\n",
       "      <th></th>\n",
       "      <th></th>\n",
       "      <th>KD</th>\n",
       "      <th>KD_std</th>\n",
       "      <th>KD_titeseq</th>\n",
       "      <th>KD_titeseq_err</th>\n",
       "    </tr>\n",
       "    <tr>\n",
       "      <th>antigen</th>\n",
       "      <th>shortname</th>\n",
       "      <th></th>\n",
       "      <th></th>\n",
       "      <th></th>\n",
       "      <th></th>\n",
       "    </tr>\n",
       "  </thead>\n",
       "  <tbody>\n",
       "    <tr>\n",
       "      <th rowspan=\"2\" valign=\"top\">G189E</th>\n",
       "      <th>germline</th>\n",
       "      <td>-6.000000</td>\n",
       "      <td>0.000000</td>\n",
       "      <td>6.000000</td>\n",
       "      <td>0.000000</td>\n",
       "    </tr>\n",
       "    <tr>\n",
       "      <th>somatic</th>\n",
       "      <td>-9.583173</td>\n",
       "      <td>0.074056</td>\n",
       "      <td>9.588306</td>\n",
       "      <td>0.047676</td>\n",
       "    </tr>\n",
       "    <tr>\n",
       "      <th rowspan=\"2\" valign=\"top\">MA90</th>\n",
       "      <th>germline</th>\n",
       "      <td>-8.542521</td>\n",
       "      <td>0.040530</td>\n",
       "      <td>8.537283</td>\n",
       "      <td>0.041378</td>\n",
       "    </tr>\n",
       "    <tr>\n",
       "      <th>somatic</th>\n",
       "      <td>-10.105330</td>\n",
       "      <td>0.011875</td>\n",
       "      <td>10.103604</td>\n",
       "      <td>0.012483</td>\n",
       "    </tr>\n",
       "    <tr>\n",
       "      <th rowspan=\"2\" valign=\"top\">SI06</th>\n",
       "      <th>germline</th>\n",
       "      <td>-6.000000</td>\n",
       "      <td>0.000000</td>\n",
       "      <td>6.000000</td>\n",
       "      <td>0.000000</td>\n",
       "    </tr>\n",
       "    <tr>\n",
       "      <th>somatic</th>\n",
       "      <td>-9.158028</td>\n",
       "      <td>0.004559</td>\n",
       "      <td>9.117508</td>\n",
       "      <td>0.004827</td>\n",
       "    </tr>\n",
       "  </tbody>\n",
       "</table>\n",
       "</div>"
      ],
      "text/plain": [
       "                          KD    KD_std  KD_titeseq  KD_titeseq_err\n",
       "antigen shortname                                                 \n",
       "G189E   germline   -6.000000  0.000000    6.000000        0.000000\n",
       "        somatic    -9.583173  0.074056    9.588306        0.047676\n",
       "MA90    germline   -8.542521  0.040530    8.537283        0.041378\n",
       "        somatic   -10.105330  0.011875   10.103604        0.012483\n",
       "SI06    germline   -6.000000  0.000000    6.000000        0.000000\n",
       "        somatic    -9.158028  0.004559    9.117508        0.004827"
      ]
     },
     "execution_count": 3,
     "metadata": {},
     "output_type": "execute_result"
    }
   ],
   "source": [
    "g = results.groupby(['antigen', 'shortname'])\n",
    "results_merge = pd.DataFrame({\n",
    "    'KD' : -g.mean()['KD'],\n",
    "    'KD_std' : g.mean()['KD_err'],\n",
    "    'KD_titeseq' : g['KD_titeseq'].mean(),\n",
    "    'KD_titeseq_err' : g['KD_titeseq_err'].mean()\n",
    "})\n",
    "\n",
    "results_merge"
   ]
  },
  {
   "cell_type": "code",
   "execution_count": 4,
   "metadata": {},
   "outputs": [
    {
     "name": "stdout",
     "output_type": "stream",
     "text": [
      "0.9999591445681429\n"
     ]
    },
    {
     "data": {
      "image/png": "[encoded data removed]",
      "text/plain": [
       "<Figure size 108x108 with 1 Axes>"
      ]
     },
     "metadata": {},
     "output_type": "display_data"
    }
   ],
   "source": [
    "sns.set_style('ticks')\n",
    "from matplotlib.ticker import FixedLocator, FixedFormatter\n",
    "#sns.set_context('notebook')\n",
    "plot_list = results_merge[~results_merge['KD_titeseq'].isna()]\n",
    "plt.rcParams['font.sans-serif'] = \"Arial\"\n",
    "# Then, \"ALWAYS use sans-serif fonts\"\n",
    "plt.rcParams['font.family'] = \"sans-serif\"\n",
    "plt.rcParams['axes.linewidth'] = 0.5\n",
    "flierprops = dict(marker='o', markersize=2)\n",
    "plt.figure(figsize=(1.5,1.5))\n",
    "x_locator = FixedLocator([6,7,8,9,10])\n",
    "slope, intercept, r_value, p_value, std_err = scipy.stats.linregress(-plot_list['KD'], plot_list['KD_titeseq'])\n",
    "xs = np.array([6,10])\n",
    "plt.plot(xs, xs, 'k-')\n",
    "plt.plot(xs, slope*xs + intercept, 'k:')\n",
    "corr, _ = pearsonr(-plot_list['KD'], plot_list['KD_titeseq'])\n",
    "\n",
    "colordict = {'MA90':'tomato', 'SI06':'mediumaquamarine', 'G189E':'steelblue'}\n",
    "\n",
    "for ag,color in colordict.items():\n",
    "    to_plot = plot_list.loc[ag,:]\n",
    "    plt.errorbar(x=-to_plot['KD'],\n",
    "                 y=to_plot['KD_titeseq'],\n",
    "                 xerr=to_plot['KD_std'],\n",
    "                 yerr=to_plot['KD_titeseq_err'],\n",
    "                 linestyle='none',\n",
    "                 linewidth=1,\n",
    "                 marker='o',\n",
    "                 markersize=4,\n",
    "                 markeredgecolor='k',\n",
    "                 markeredgewidth=0.5,\n",
    "                 label=ag,\n",
    "                 ecolor='k',\n",
    "                color=color)\n",
    "import scipy.stats\n",
    "plt.xticks(ticks=[6,7,8,9,10],labels=['6','7','8','9','10'],fontsize=7)\n",
    "plt.yticks(ticks=[6,7,8,9,10],labels=['6','7','8','9','10'],fontsize=7)\n",
    "#plt.legend(fontsize=7,bbox_to_anchor=(0.5, 1.1), loc='right')\n",
    "plt.tick_params(length=2.5,width=0.5)\n",
    "#plt.legend(loc='best',fontsize=7)\n",
    "plt.xlabel(r'$-\\log K_d$ isogenic FACS',fontsize=7,labelpad=0)\n",
    "plt.ylabel(r'$-\\log K_d$ Titeseq',fontsize=7,labelpad=0)\n",
    "#plt.title('r =  %.2f' % corr,fontsize=8,y=1)\n",
    "#plt.title('CR9114, Comparison of Titeseq to isogenic measurement\\n$R^2=%0.3f$' % r_value**2)\n",
    "plt.axis('square')\n",
    "plt.savefig('images/CH65_iso_validation.png',transparent=True, dpi=600,bbox_inches='tight')\n",
    "print(corr)"
   ]
  },
  {
   "cell_type": "code",
   "execution_count": null,
   "metadata": {},
   "outputs": [],
   "source": []
  }
 ],
 "metadata": {
  "kernelspec": {
   "display_name": "Python 3",
   "language": "python",
   "name": "python3"
  },
  "language_info": {
   "codemirror_mode": {
    "name": "ipython",
    "version": 3
   },
   "file_extension": ".py",
   "mimetype": "text/x-python",
   "name": "python",
   "nbconvert_exporter": "python",
   "pygments_lexer": "ipython3",
   "version": "3.7.4"
  }
 },
 "nbformat": 4,
 "nbformat_minor": 2
}
