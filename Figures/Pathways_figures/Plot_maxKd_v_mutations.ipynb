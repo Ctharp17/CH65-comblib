{
 "cells": [
  {
   "cell_type": "code",
   "execution_count": 1,
   "metadata": {},
   "outputs": [],
   "source": [
    "import numpy as np\n",
    "import matplotlib.pyplot as plt\n",
    "import csv\n",
    "import sys\n",
    "import seaborn as sns\n",
    "import pandas as pd\n",
    "\n",
    "from matplotlib.patches import Patch\n",
    "from matplotlib.lines import Line2D\n",
    "\n",
    "plt.rcParams.update({'font.size': 7})\n",
    "plt.rcParams['font.sans-serif'] = \"Arial\"\n",
    "plt.rcParams['font.family'] = \"sans-serif\"\n",
    "plt.rcParams['axes.linewidth'] = 0.5\n",
    "plt.rcParams[\"xtick.major.size\"] = 2\n",
    "plt.rcParams[\"ytick.major.size\"] = 2\n",
    "plt.rcParams[\"xtick.major.width\"] = 0.5\n",
    "plt.rcParams[\"ytick.major.width\"] = 0.5\n",
    "\n",
    "plt.rcParams.update({'mathtext.default':  'regular' })\n"
   ]
  },
  {
   "cell_type": "code",
   "execution_count": 2,
   "metadata": {},
   "outputs": [],
   "source": [
    "# define some things\n",
    "\n",
    "MA90_color = '#e8735c'\n",
    "G189E_color = '#72c2a6'\n",
    "SI06_color = '#5482a7'\n",
    "num_muts_total_CH65 = 16\n",
    "\n"
   ]
  },
  {
   "cell_type": "code",
   "execution_count": 3,
   "metadata": {},
   "outputs": [],
   "source": [
    "# read data\n",
    "df_data = pd.read_csv('../../Kd_Inference/results_CH65/Kd_processed/20221008_CH65_QCfilt_REPfilt.csv',dtype={\"geno\":\"str\"})"
   ]
  },
  {
   "cell_type": "code",
   "execution_count": 4,
   "metadata": {},
   "outputs": [],
   "source": [
    "# find maximum phenotype for given number of mutations\n",
    "\n",
    "muts = []\n",
    "max_pheno_data_MA90 = []\n",
    "max_pheno_data_MA90_err = []\n",
    "max_pheno_data_SI06 = []\n",
    "max_pheno_data_SI06_err = []\n",
    "max_pheno_data_G189E = []\n",
    "max_pheno_data_G189E_err = []\n",
    "for i in range(num_muts_total_CH65+1):\n",
    "    newdf = df_data.loc[df_data['som_mut']==i]\n",
    "    index_MA90 = np.argmax(newdf['MA90_mean'])\n",
    "    max_pheno_data_MA90.append(newdf.iloc[index_MA90]['MA90_mean'])\n",
    "    max_pheno_data_MA90_err.append(newdf.iloc[index_MA90]['MA90_sem'])    \n",
    "    index_G189E = np.argmax(newdf['G189E_mean'])\n",
    "    max_pheno_data_G189E.append(newdf.iloc[index_G189E]['G189E_mean'])\n",
    "    max_pheno_data_G189E_err.append(newdf.iloc[index_G189E]['G189E_sem'])    \n",
    "    index_SI06 = np.argmax(newdf['SI06_mean'])\n",
    "    max_pheno_data_SI06.append(newdf.iloc[index_SI06]['SI06_mean'])\n",
    "    max_pheno_data_SI06_err.append(newdf.iloc[index_SI06]['SI06_sem'])   \n"
   ]
  },
  {
   "cell_type": "code",
   "execution_count": 5,
   "metadata": {},
   "outputs": [
    {
     "data": {
      "image/png": "[encoded data removed]",
      "text/plain": [
       "<Figure size 144x115.2 with 1 Axes>"
      ]
     },
     "metadata": {
      "needs_background": "light"
     },
     "output_type": "display_data"
    }
   ],
   "source": [
    "# make the plot\n",
    "\n",
    "plt.figure(figsize=(2,1.6))\n",
    "plt.errorbar(x=np.arange(num_muts_total_CH65+1),y=max_pheno_data_MA90,yerr=max_pheno_data_MA90_err,marker='o',\n",
    "             linewidth=0,elinewidth=1,color=MA90_color,mfc='white',zorder=1,markersize=2.5)\n",
    "\n",
    "plt.errorbar(x=np.arange(num_muts_total_CH65+1),y=max_pheno_data_SI06,yerr=max_pheno_data_SI06_err,marker='o',\n",
    "             linewidth=0,elinewidth=1,color=SI06_color,mfc='w',zorder=1,markersize=2.5)\n",
    "\n",
    "plt.errorbar(x=np.arange(num_muts_total_CH65+1),y=max_pheno_data_G189E,yerr=max_pheno_data_G189E_err,marker='o',\n",
    "             linewidth=0,elinewidth=1,color=G189E_color,mfc='w',zorder=1,markersize=2.5)\n",
    "\n",
    "plt.tick_params(pad=2)\n",
    "plt.xlabel('Number of mutations',labelpad=2)\n",
    "plt.ylabel('Maximum -log$K_D$',labelpad=0)\n",
    "\n",
    "legend_elements = [Patch(facecolor=MA90_color, edgecolor=MA90_color,label='MA90'),\n",
    "                   Patch(facecolor=G189E_color, edgecolor=G189E_color,label='G189E'),\n",
    "                   Patch(facecolor=SI06_color, edgecolor=SI06_color,label='FluB'),\n",
    "                    Line2D([0], [0], marker='o', color='k', label='data',\n",
    "                          markerfacecolor='w', markersize=2.5,linewidth=0),\n",
    "                  Line2D([0], [0], marker='^', color='k', label='model',\n",
    "                          markerfacecolor='k', markersize=2.5,linewidth=0)]\n",
    "# plt.legend(handles=legend_elements,ncol=3,loc='lower center',bbox_to_anchor=(0.5,0.99),\n",
    "#           handlelength=1.0,handletextpad=0.3,columnspacing=.5,fontsize=7,borderpad=0.5,frameon=False)\n",
    "plt.tight_layout()\n",
    "plt.savefig('max_pheno_CH65.pdf')\n",
    "plt.show()\n"
   ]
  },
  {
   "cell_type": "code",
   "execution_count": null,
   "metadata": {},
   "outputs": [],
   "source": []
  }
 ],
 "metadata": {
  "kernelspec": {
   "display_name": "Python 3 (ipykernel)",
   "language": "python",
   "name": "python3"
  },
  "language_info": {
   "codemirror_mode": {
    "name": "ipython",
    "version": 3
   },
   "file_extension": ".py",
   "mimetype": "text/x-python",
   "name": "python",
   "nbconvert_exporter": "python",
   "pygments_lexer": "ipython3",
   "version": "3.9.12"
  }
 },
 "nbformat": 4,
 "nbformat_minor": 4
}
