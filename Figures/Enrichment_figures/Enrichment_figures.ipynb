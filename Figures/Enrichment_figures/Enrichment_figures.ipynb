{
 "cells": [
  {
   "cell_type": "markdown",
   "metadata": {},
   "source": [
    "## import stuff"
   ]
  },
  {
   "cell_type": "code",
   "execution_count": 15,
   "metadata": {},
   "outputs": [],
   "source": [
    "#importing things\n",
    "import pandas as pd\n",
    "import os\n",
    "import numpy as np\n",
    "import csv\n",
    "import pylab as pl\n",
    "import matplotlib.pyplot as plt\n",
    "import copy\n",
    "import scipy\n",
    "import scipy.stats as stats\n",
    "from scipy.stats import linregress\n",
    "from scipy.stats import t\n",
    "from scipy.stats import chi2\n",
    "from scipy.stats import sem\n",
    "import scipy.stats as st\n",
    "from scipy.linalg import hadamard\n",
    "from scipy.stats import ttest_ind_from_stats\n",
    "from sklearn.preprocessing import StandardScaler\n",
    "from sklearn.decomposition import PCA\n",
    "from sklearn.linear_model import LinearRegression\n",
    "from mpl_toolkits.mplot3d import Axes3D\n",
    "from scipy.stats import ttest_ind_from_stats\n",
    "from sklearn.manifold import TSNE\n",
    "from scipy.stats import pearsonr\n",
    "from collections import OrderedDict\n",
    "import seaborn as sns\n",
    "import colorsys\n",
    "from functools import reduce\n",
    "from scipy.optimize import curve_fit\n",
    "from operator import itemgetter\n",
    "import math\n",
    "import matplotlib.colors as mcolors\n",
    "\n",
    "def lighten_color(color, amount=0.5):  \n",
    "    # --------------------- SOURCE: @IanHincks ---------------------\n",
    "    try:\n",
    "        c = mc.cnames[color]\n",
    "    except:\n",
    "        c = color\n",
    "    c = colorsys.rgb_to_hls(*mc.to_rgb(c))\n",
    "    return colorsys.hls_to_rgb(c[0], 1 - amount * (1 - c[1]), c[2])\n",
    "\n",
    "def sum_digits(digit):\n",
    "    return sum(int(x) for x in digit if x.isdigit())"
   ]
  },
  {
   "cell_type": "markdown",
   "metadata": {},
   "source": [
    "## import data"
   ]
  },
  {
   "cell_type": "code",
   "execution_count": 16,
   "metadata": {},
   "outputs": [
    {
     "data": {
      "text/html": [
       "<div>\n",
       "<style scoped>\n",
       "    .dataframe tbody tr th:only-of-type {\n",
       "        vertical-align: middle;\n",
       "    }\n",
       "\n",
       "    .dataframe tbody tr th {\n",
       "        vertical-align: top;\n",
       "    }\n",
       "\n",
       "    .dataframe thead th {\n",
       "        text-align: right;\n",
       "    }\n",
       "</style>\n",
       "<table border=\"1\" class=\"dataframe\">\n",
       "  <thead>\n",
       "    <tr style=\"text-align: right;\">\n",
       "      <th></th>\n",
       "      <th>geno</th>\n",
       "      <th>MA90_mean</th>\n",
       "      <th>SI06_mean</th>\n",
       "      <th>G189E_mean</th>\n",
       "      <th>CH65_i_MI_neg_a</th>\n",
       "      <th>CH65_i_MI_pos_a</th>\n",
       "      <th>CH65_i_MI_neg_b</th>\n",
       "      <th>CH65_i_MI_pos_b</th>\n",
       "      <th>CH65_i_MI_neg_c</th>\n",
       "      <th>CH65_i_MI_pos_c</th>\n",
       "      <th>...</th>\n",
       "      <th>pos8</th>\n",
       "      <th>pos9</th>\n",
       "      <th>pos10</th>\n",
       "      <th>pos11</th>\n",
       "      <th>pos12</th>\n",
       "      <th>pos13</th>\n",
       "      <th>pos14</th>\n",
       "      <th>pos15</th>\n",
       "      <th>pos16</th>\n",
       "      <th>som_mut</th>\n",
       "    </tr>\n",
       "  </thead>\n",
       "  <tbody>\n",
       "    <tr>\n",
       "      <th>0</th>\n",
       "      <td>0000000000000000</td>\n",
       "      <td>8.542521</td>\n",
       "      <td>6.0</td>\n",
       "      <td>6.0</td>\n",
       "      <td>697</td>\n",
       "      <td>4</td>\n",
       "      <td>547</td>\n",
       "      <td>4</td>\n",
       "      <td>256</td>\n",
       "      <td>12</td>\n",
       "      <td>...</td>\n",
       "      <td>0</td>\n",
       "      <td>0</td>\n",
       "      <td>0</td>\n",
       "      <td>0</td>\n",
       "      <td>0</td>\n",
       "      <td>0</td>\n",
       "      <td>0</td>\n",
       "      <td>0</td>\n",
       "      <td>0</td>\n",
       "      <td>0</td>\n",
       "    </tr>\n",
       "    <tr>\n",
       "      <th>1</th>\n",
       "      <td>0000000000000001</td>\n",
       "      <td>8.574179</td>\n",
       "      <td>6.0</td>\n",
       "      <td>6.0</td>\n",
       "      <td>575</td>\n",
       "      <td>2</td>\n",
       "      <td>438</td>\n",
       "      <td>3</td>\n",
       "      <td>232</td>\n",
       "      <td>13</td>\n",
       "      <td>...</td>\n",
       "      <td>0</td>\n",
       "      <td>0</td>\n",
       "      <td>0</td>\n",
       "      <td>0</td>\n",
       "      <td>0</td>\n",
       "      <td>0</td>\n",
       "      <td>0</td>\n",
       "      <td>0</td>\n",
       "      <td>1</td>\n",
       "      <td>1</td>\n",
       "    </tr>\n",
       "    <tr>\n",
       "      <th>2</th>\n",
       "      <td>0000000000000010</td>\n",
       "      <td>8.315518</td>\n",
       "      <td>6.0</td>\n",
       "      <td>6.0</td>\n",
       "      <td>650</td>\n",
       "      <td>7</td>\n",
       "      <td>563</td>\n",
       "      <td>2</td>\n",
       "      <td>374</td>\n",
       "      <td>6</td>\n",
       "      <td>...</td>\n",
       "      <td>0</td>\n",
       "      <td>0</td>\n",
       "      <td>0</td>\n",
       "      <td>0</td>\n",
       "      <td>0</td>\n",
       "      <td>0</td>\n",
       "      <td>0</td>\n",
       "      <td>1</td>\n",
       "      <td>0</td>\n",
       "      <td>1</td>\n",
       "    </tr>\n",
       "    <tr>\n",
       "      <th>3</th>\n",
       "      <td>0000000000000011</td>\n",
       "      <td>8.473877</td>\n",
       "      <td>6.0</td>\n",
       "      <td>6.0</td>\n",
       "      <td>742</td>\n",
       "      <td>6</td>\n",
       "      <td>562</td>\n",
       "      <td>18</td>\n",
       "      <td>337</td>\n",
       "      <td>19</td>\n",
       "      <td>...</td>\n",
       "      <td>0</td>\n",
       "      <td>0</td>\n",
       "      <td>0</td>\n",
       "      <td>0</td>\n",
       "      <td>0</td>\n",
       "      <td>0</td>\n",
       "      <td>0</td>\n",
       "      <td>1</td>\n",
       "      <td>1</td>\n",
       "      <td>2</td>\n",
       "    </tr>\n",
       "    <tr>\n",
       "      <th>4</th>\n",
       "      <td>0000000000000100</td>\n",
       "      <td>8.537724</td>\n",
       "      <td>6.0</td>\n",
       "      <td>6.0</td>\n",
       "      <td>653</td>\n",
       "      <td>6</td>\n",
       "      <td>507</td>\n",
       "      <td>10</td>\n",
       "      <td>479</td>\n",
       "      <td>14</td>\n",
       "      <td>...</td>\n",
       "      <td>0</td>\n",
       "      <td>0</td>\n",
       "      <td>0</td>\n",
       "      <td>0</td>\n",
       "      <td>0</td>\n",
       "      <td>0</td>\n",
       "      <td>1</td>\n",
       "      <td>0</td>\n",
       "      <td>0</td>\n",
       "      <td>1</td>\n",
       "    </tr>\n",
       "  </tbody>\n",
       "</table>\n",
       "<p>5 rows × 56 columns</p>\n",
       "</div>"
      ],
      "text/plain": [
       "               geno  MA90_mean  SI06_mean  G189E_mean  CH65_i_MI_neg_a  \\\n",
       "0  0000000000000000   8.542521        6.0         6.0              697   \n",
       "1  0000000000000001   8.574179        6.0         6.0              575   \n",
       "2  0000000000000010   8.315518        6.0         6.0              650   \n",
       "3  0000000000000011   8.473877        6.0         6.0              742   \n",
       "4  0000000000000100   8.537724        6.0         6.0              653   \n",
       "\n",
       "   CH65_i_MI_pos_a  CH65_i_MI_neg_b  CH65_i_MI_pos_b  CH65_i_MI_neg_c  \\\n",
       "0                4              547                4              256   \n",
       "1                2              438                3              232   \n",
       "2                7              563                2              374   \n",
       "3                6              562               18              337   \n",
       "4                6              507               10              479   \n",
       "\n",
       "   CH65_i_MI_pos_c  ...  pos8  pos9  pos10  pos11  pos12  pos13  pos14  pos15  \\\n",
       "0               12  ...     0     0      0      0      0      0      0      0   \n",
       "1               13  ...     0     0      0      0      0      0      0      0   \n",
       "2                6  ...     0     0      0      0      0      0      0      1   \n",
       "3               19  ...     0     0      0      0      0      0      0      1   \n",
       "4               14  ...     0     0      0      0      0      0      1      0   \n",
       "\n",
       "   pos16  som_mut  \n",
       "0      0        0  \n",
       "1      1        1  \n",
       "2      0        1  \n",
       "3      1        2  \n",
       "4      0        1  \n",
       "\n",
       "[5 rows x 56 columns]"
      ]
     },
     "execution_count": 16,
     "metadata": {},
     "output_type": "execute_result"
    }
   ],
   "source": [
    "kd = pd.DataFrame(pd.read_csv('../../Kd_Inference/results_CH65/Kd_processed/20220603_CH65_QCfilt_REPfilt.csv',delimiter=',',dtype={'geno': str}),columns=('geno','MA90_mean','SI06_mean','G189E_mean'))\n",
    "Frac_bound = pd.DataFrame(pd.read_csv('../../Enrichment_Inference/20220725_fracbound.csv',delimiter=',',dtype={'geno': str}))\n",
    "all_data = pd.DataFrame()\n",
    "all_data = pd.merge(kd, Frac_bound, on='geno',how='outer')\n",
    "all_data.head()"
   ]
  },
  {
   "cell_type": "markdown",
   "metadata": {},
   "source": [
    "# correlation between replicates"
   ]
  },
  {
   "cell_type": "code",
   "execution_count": 17,
   "metadata": {},
   "outputs": [
    {
     "name": "stderr",
     "output_type": "stream",
     "text": [
      "/var/folders/pt/19trqkw56fjfrk2frchqhv2h0000gn/T/ipykernel_74121/503405372.py:24: UserWarning: color is redundantly defined by the 'color' keyword argument and the fmt string \"k:\" (-> color='k'). The keyword argument will take precedence.\n",
      "  plt.plot(x, m*x + b,'k:',zorder=10000,c='black',linewidth=0.5)\n"
     ]
    },
    {
     "name": "stdout",
     "output_type": "stream",
     "text": [
      "0.2686349141844892\n"
     ]
    },
    {
     "data": {
      "image/png": "[encoded data removed]",
      "text/plain": [
       "<Figure size 72x57.6 with 2 Axes>"
      ]
     },
     "metadata": {
      "needs_background": "light"
     },
     "output_type": "display_data"
    }
   ],
   "source": [
    "#MI15\n",
    "from matplotlib.ticker import FixedLocator, FixedFormatter\n",
    "from numpy import polyfit\n",
    "plt.rcParams['font.sans-serif'] = \"Arial\"\n",
    "plt.rcParams['font.family'] = \"sans-serif\"\n",
    "plt.rcParams['axes.linewidth'] = 0.5\n",
    "flierprops = dict(marker='o', markersize=2)\n",
    "fig, ax = plt.subplots(figsize=(1,0.8))\n",
    "from scipy.stats import pearsonr\n",
    "plotting = Frac_bound[['MIa_frac', 'MIb_frac']].copy()\n",
    "plotting.dropna(inplace=True)\n",
    "hb=plt.hexbin(plotting['MIa_frac'], plotting['MIb_frac'],cmap='Greys',bins='log',linewidths=0.2,gridsize=25)\n",
    "plt.xlabel(\"Rep. 1\",fontsize=7,labelpad=1)\n",
    "plt.ylabel(\"Rep. 2\",fontsize=7,labelpad=0)\n",
    "plt.tick_params(labelsize=7,length=2.5)\n",
    "x = plotting['MIa_frac']\n",
    "y = plotting['MIb_frac']\n",
    "cb = fig.colorbar(hb, ax=ax,ticks=[1,10,100,1000],orientation='vertical',pad=0.05)\n",
    "cb.ax.tick_params(labelsize=7,pad=1,size=1)\n",
    "xs = np.array([0,0.2])\n",
    "plt.plot(xs, xs, 'k-',linewidth=0.5)\n",
    "corr, _ = pearsonr(plotting['MIa_frac'], plotting['MIb_frac'])\n",
    "m, b = np.polyfit(plotting['MIa_frac'], plotting['MIb_frac'], 1)\n",
    "plt.plot(x, m*x + b,'k:',zorder=10000,c='black',linewidth=0.5)\n",
    "print(corr)\n",
    "plt.savefig('images/MI15_rep_corr.png',transparent=True, dpi=600,bbox_inches='tight')"
   ]
  },
  {
   "cell_type": "code",
   "execution_count": 18,
   "metadata": {},
   "outputs": [
    {
     "name": "stderr",
     "output_type": "stream",
     "text": [
      "/var/folders/pt/19trqkw56fjfrk2frchqhv2h0000gn/T/ipykernel_74121/1062237925.py:24: UserWarning: color is redundantly defined by the 'color' keyword argument and the fmt string \"k:\" (-> color='k'). The keyword argument will take precedence.\n",
      "  plt.plot(x, m*x + b,'k:',zorder=10000,c='black',linewidth=0.5)\n"
     ]
    },
    {
     "name": "stdout",
     "output_type": "stream",
     "text": [
      "0.1414329146041634\n"
     ]
    },
    {
     "data": {
      "image/png": "[encoded data removed]",
      "text/plain": [
       "<Figure size 72x57.6 with 2 Axes>"
      ]
     },
     "metadata": {
      "needs_background": "light"
     },
     "output_type": "display_data"
    }
   ],
   "source": [
    "#MI15\n",
    "from matplotlib.ticker import FixedLocator, FixedFormatter\n",
    "from numpy import polyfit\n",
    "plt.rcParams['font.sans-serif'] = \"Arial\"\n",
    "plt.rcParams['font.family'] = \"sans-serif\"\n",
    "plt.rcParams['axes.linewidth'] = 0.5\n",
    "flierprops = dict(marker='o', markersize=2)\n",
    "fig, ax = plt.subplots(figsize=(1,0.8))\n",
    "from scipy.stats import pearsonr\n",
    "plotting = Frac_bound[['MIc_frac', 'MIb_frac']].copy()\n",
    "plotting.dropna(inplace=True)\n",
    "hb=plt.hexbin(plotting['MIc_frac'], plotting['MIb_frac'],cmap='Greys',bins='log',linewidths=0.2,gridsize=25)\n",
    "plt.xlabel(\"Rep. 3\",fontsize=7,labelpad=1)\n",
    "plt.ylabel(\"Rep. 2\",fontsize=7,labelpad=0)\n",
    "plt.tick_params(labelsize=7,length=2.5)\n",
    "x = plotting['MIc_frac']\n",
    "y = plotting['MIb_frac']\n",
    "cb = fig.colorbar(hb, ax=ax,ticks=[1,10,100,1000],orientation='vertical',pad=0.05)\n",
    "cb.ax.tick_params(labelsize=7,pad=1,size=1)\n",
    "xs = np.array([0,0.2])\n",
    "plt.plot(xs, xs, 'k-',linewidth=0.5)\n",
    "corr, _ = pearsonr(plotting['MIc_frac'], plotting['MIb_frac'])\n",
    "m, b = np.polyfit(plotting['MIc_frac'], plotting['MIb_frac'], 1)\n",
    "plt.plot(x, m*x + b,'k:',zorder=10000,c='black',linewidth=0.5)\n",
    "print(corr)\n",
    "plt.savefig('images/MI15_rep_corr3.png',transparent=True, dpi=600,bbox_inches='tight')"
   ]
  },
  {
   "cell_type": "code",
   "execution_count": 19,
   "metadata": {},
   "outputs": [
    {
     "name": "stderr",
     "output_type": "stream",
     "text": [
      "/var/folders/pt/19trqkw56fjfrk2frchqhv2h0000gn/T/ipykernel_74121/2102290485.py:24: UserWarning: color is redundantly defined by the 'color' keyword argument and the fmt string \"k:\" (-> color='k'). The keyword argument will take precedence.\n",
      "  plt.plot(x, m*x + b,'k:',zorder=10000,c='black',linewidth=0.5)\n"
     ]
    },
    {
     "name": "stdout",
     "output_type": "stream",
     "text": [
      "0.42300233039059676\n"
     ]
    },
    {
     "data": {
      "image/png": "[encoded data removed]",
      "text/plain": [
       "<Figure size 72x57.6 with 2 Axes>"
      ]
     },
     "metadata": {
      "needs_background": "light"
     },
     "output_type": "display_data"
    }
   ],
   "source": [
    "#MI15\n",
    "from matplotlib.ticker import FixedLocator, FixedFormatter\n",
    "from numpy import polyfit\n",
    "plt.rcParams['font.sans-serif'] = \"Arial\"\n",
    "plt.rcParams['font.family'] = \"sans-serif\"\n",
    "plt.rcParams['axes.linewidth'] = 0.5\n",
    "flierprops = dict(marker='o', markersize=2)\n",
    "fig, ax = plt.subplots(figsize=(1,0.8))\n",
    "from scipy.stats import pearsonr\n",
    "plotting = Frac_bound[['MIc_frac', 'MIa_frac']].copy()\n",
    "plotting.dropna(inplace=True)\n",
    "hb=plt.hexbin(plotting['MIc_frac'], plotting['MIa_frac'],cmap='Greys',bins='log',linewidths=0.2,gridsize=25)\n",
    "plt.xlabel(\"Rep. 3\",fontsize=7,labelpad=1)\n",
    "plt.ylabel(\"Rep. 1\",fontsize=7,labelpad=0)\n",
    "plt.tick_params(labelsize=7,length=2.5)\n",
    "x = plotting['MIc_frac']\n",
    "y = plotting['MIa_frac']\n",
    "cb = fig.colorbar(hb, ax=ax,ticks=[1,10,100,1000],orientation='vertical',pad=0.05)\n",
    "cb.ax.tick_params(labelsize=7,pad=1,size=1)\n",
    "xs = np.array([0,0.2])\n",
    "plt.plot(xs, xs, 'k-',linewidth=0.5)\n",
    "corr, _ = pearsonr(plotting['MIc_frac'], plotting['MIa_frac'])\n",
    "m, b = np.polyfit(plotting['MIc_frac'], plotting['MIa_frac'], 1)\n",
    "plt.plot(x, m*x + b,'k:',zorder=10000,c='black',linewidth=0.5)\n",
    "print(corr)\n",
    "plt.savefig('images/MI15_rep_corr13.png',transparent=True, dpi=600,bbox_inches='tight')"
   ]
  },
  {
   "cell_type": "code",
   "execution_count": 20,
   "metadata": {},
   "outputs": [
    {
     "name": "stderr",
     "output_type": "stream",
     "text": [
      "/var/folders/pt/19trqkw56fjfrk2frchqhv2h0000gn/T/ipykernel_74121/3618493677.py:24: UserWarning: color is redundantly defined by the 'color' keyword argument and the fmt string \"k:\" (-> color='k'). The keyword argument will take precedence.\n",
      "  plt.plot(x, m*x + b,'k:',zorder=10000,c='black',linewidth=0.5)\n"
     ]
    },
    {
     "name": "stdout",
     "output_type": "stream",
     "text": [
      "0.9253499745122157\n"
     ]
    },
    {
     "data": {
      "image/png": "[encoded data removed]",
      "text/plain": [
       "<Figure size 72x57.6 with 2 Axes>"
      ]
     },
     "metadata": {
      "needs_background": "light"
     },
     "output_type": "display_data"
    }
   ],
   "source": [
    "#SI06 G189D\n",
    "from matplotlib.ticker import FixedLocator, FixedFormatter\n",
    "from numpy import polyfit\n",
    "plt.rcParams['font.sans-serif'] = \"Arial\"\n",
    "plt.rcParams['font.family'] = \"sans-serif\"\n",
    "plt.rcParams['axes.linewidth'] = 0.5\n",
    "flierprops = dict(marker='o', markersize=2)\n",
    "fig, ax = plt.subplots(figsize=(1,0.8))\n",
    "from scipy.stats import pearsonr\n",
    "plotting = Frac_bound[['SIa_frac', 'SIb_frac']].copy()\n",
    "plotting.dropna(inplace=True)\n",
    "hb=plt.hexbin(plotting['SIa_frac'], plotting['SIb_frac'],cmap='Greys',bins='log',linewidths=0.2,gridsize=25)\n",
    "plt.xlabel(\"Rep. 1\",fontsize=7,labelpad=1)\n",
    "plt.ylabel(\"Rep. 2\",fontsize=7,labelpad=0)\n",
    "plt.tick_params(labelsize=7,length=2.5)\n",
    "x = plotting['SIa_frac']\n",
    "y = plotting['SIb_frac']\n",
    "cb = fig.colorbar(hb, ax=ax,ticks=[1,10,100,1000],orientation='vertical',pad=0.05)\n",
    "cb.ax.tick_params(labelsize=7,pad=1,size=1)\n",
    "xs = np.array([0,1])\n",
    "plt.plot(xs, xs, 'k-',linewidth=0.5)\n",
    "corr, _ = pearsonr(plotting['SIa_frac'], plotting['SIb_frac'])\n",
    "m, b = np.polyfit(plotting['SIa_frac'], plotting['SIb_frac'], 1)\n",
    "plt.plot(x, m*x + b,'k:',zorder=10000,c='black',linewidth=0.5)\n",
    "print(corr)\n",
    "plt.savefig('images/SI06_G189D_rep_corr.png',transparent=True, dpi=600,bbox_inches='tight')"
   ]
  },
  {
   "cell_type": "code",
   "execution_count": 21,
   "metadata": {},
   "outputs": [
    {
     "name": "stderr",
     "output_type": "stream",
     "text": [
      "/var/folders/pt/19trqkw56fjfrk2frchqhv2h0000gn/T/ipykernel_74121/3912121665.py:24: UserWarning: color is redundantly defined by the 'color' keyword argument and the fmt string \"k:\" (-> color='k'). The keyword argument will take precedence.\n",
      "  plt.plot(x, m*x + b,'k:',zorder=10000,c='black',linewidth=0.5)\n"
     ]
    },
    {
     "name": "stdout",
     "output_type": "stream",
     "text": [
      "0.9224661864067806\n"
     ]
    },
    {
     "data": {
      "image/png": "[encoded data removed]",
      "text/plain": [
       "<Figure size 72x57.6 with 2 Axes>"
      ]
     },
     "metadata": {
      "needs_background": "light"
     },
     "output_type": "display_data"
    }
   ],
   "source": [
    "#SI06 G189D\n",
    "from matplotlib.ticker import FixedLocator, FixedFormatter\n",
    "from numpy import polyfit\n",
    "plt.rcParams['font.sans-serif'] = \"Arial\"\n",
    "plt.rcParams['font.family'] = \"sans-serif\"\n",
    "plt.rcParams['axes.linewidth'] = 0.5\n",
    "flierprops = dict(marker='o', markersize=2)\n",
    "fig, ax = plt.subplots(figsize=(1,0.8))\n",
    "from scipy.stats import pearsonr\n",
    "plotting = Frac_bound[['SIc_frac', 'SIb_frac']].copy()\n",
    "plotting.dropna(inplace=True)\n",
    "hb=plt.hexbin(plotting['SIc_frac'], plotting['SIb_frac'],cmap='Greys',bins='log',linewidths=0.2,gridsize=25)\n",
    "plt.xlabel(\"Rep. 3\",fontsize=7,labelpad=1)\n",
    "plt.ylabel(\"Rep. 2\",fontsize=7,labelpad=0)\n",
    "plt.tick_params(labelsize=7,length=2.5)\n",
    "x = plotting['SIc_frac']\n",
    "y = plotting['SIb_frac']\n",
    "cb = fig.colorbar(hb, ax=ax,ticks=[1,10,100,1000],orientation='vertical',pad=0.05)\n",
    "cb.ax.tick_params(labelsize=7,pad=1,size=1)\n",
    "xs = np.array([0,1])\n",
    "plt.plot(xs, xs, 'k-',linewidth=0.5)\n",
    "corr, _ = pearsonr(plotting['SIc_frac'], plotting['SIb_frac'])\n",
    "m, b = np.polyfit(plotting['SIc_frac'], plotting['SIb_frac'], 1)\n",
    "plt.plot(x, m*x + b,'k:',zorder=10000,c='black',linewidth=0.5)\n",
    "print(corr)\n",
    "plt.savefig('images/SI06_G189D_rep_corr3.png',transparent=True, dpi=600,bbox_inches='tight')"
   ]
  },
  {
   "cell_type": "code",
   "execution_count": 22,
   "metadata": {},
   "outputs": [
    {
     "name": "stderr",
     "output_type": "stream",
     "text": [
      "/var/folders/pt/19trqkw56fjfrk2frchqhv2h0000gn/T/ipykernel_74121/64408092.py:24: UserWarning: color is redundantly defined by the 'color' keyword argument and the fmt string \"k:\" (-> color='k'). The keyword argument will take precedence.\n",
      "  plt.plot(x, m*x + b,'k:',zorder=10000,c='black',linewidth=0.5)\n"
     ]
    },
    {
     "name": "stdout",
     "output_type": "stream",
     "text": [
      "0.8881829394092695\n"
     ]
    },
    {
     "data": {
      "image/png": "[encoded data removed]",
      "text/plain": [
       "<Figure size 72x57.6 with 2 Axes>"
      ]
     },
     "metadata": {
      "needs_background": "light"
     },
     "output_type": "display_data"
    }
   ],
   "source": [
    "#SI06 G189D\n",
    "from matplotlib.ticker import FixedLocator, FixedFormatter\n",
    "from numpy import polyfit\n",
    "plt.rcParams['font.sans-serif'] = \"Arial\"\n",
    "plt.rcParams['font.family'] = \"sans-serif\"\n",
    "plt.rcParams['axes.linewidth'] = 0.5\n",
    "flierprops = dict(marker='o', markersize=2)\n",
    "fig, ax = plt.subplots(figsize=(1,0.8))\n",
    "from scipy.stats import pearsonr\n",
    "plotting = Frac_bound[['SIc_frac', 'SIa_frac']].copy()\n",
    "plotting.dropna(inplace=True)\n",
    "hb=plt.hexbin(plotting['SIc_frac'], plotting['SIa_frac'],cmap='Greys',bins='log',linewidths=0.2,gridsize=25)\n",
    "plt.xlabel(\"Rep. 3\",fontsize=7,labelpad=1)\n",
    "plt.ylabel(\"Rep. 1\",fontsize=7,labelpad=0)\n",
    "plt.tick_params(labelsize=7,length=2.5)\n",
    "x = plotting['SIc_frac']\n",
    "y = plotting['SIa_frac']\n",
    "cb = fig.colorbar(hb, ax=ax,ticks=[1,10,100,1000],orientation='vertical',pad=0.05)\n",
    "cb.ax.tick_params(labelsize=7,pad=1,size=1)\n",
    "xs = np.array([0,1])\n",
    "plt.plot(xs, xs, 'k-',linewidth=0.5)\n",
    "corr, _ = pearsonr(plotting['SIc_frac'], plotting['SIa_frac'])\n",
    "m, b = np.polyfit(plotting['SIc_frac'], plotting['SIa_frac'], 1)\n",
    "plt.plot(x, m*x + b,'k:',zorder=10000,c='black',linewidth=0.5)\n",
    "print(corr)\n",
    "plt.savefig('images/SI06_G189D_rep_corr13.png',transparent=True, dpi=600,bbox_inches='tight')"
   ]
  },
  {
   "cell_type": "markdown",
   "metadata": {},
   "source": [
    "## general landscape figures"
   ]
  },
  {
   "cell_type": "code",
   "execution_count": 23,
   "metadata": {},
   "outputs": [],
   "source": [
    "from matplotlib.ticker import FixedLocator, FixedFormatter\n",
    "import matplotlib.colors as mc\n",
    "import colorsys\n",
    "from matplotlib.ticker import FixedLocator, FixedFormatter\n",
    "\n",
    "def lighten_color(color, amount=0.5):  \n",
    "    # --------------------- SOURCE: @IanHincks ---------------------\n",
    "    try:\n",
    "        c = mc.cnames[color]\n",
    "    except:\n",
    "        c = color\n",
    "    c = colorsys.rgb_to_hls(*mc.to_rgb(c))\n",
    "    return colorsys.hls_to_rgb(c[0], 1 - amount * (1 - c[1]), c[2])\n"
   ]
  },
  {
   "cell_type": "code",
   "execution_count": 24,
   "metadata": {},
   "outputs": [
    {
     "name": "stdout",
     "output_type": "stream",
     "text": [
      "[1.1544939430665533, 0.321792378527947, 1.6405793980095131, 1.1963439885862843]\n",
      "[1.486320428588426, 0.2173659317056867, 7.32488393647155, 2.845671360821477]\n",
      "[3.11946862840099, 1.319930449549466, 88.88787886583538, 4.51115034174687]\n"
     ]
    }
   ],
   "source": [
    "#get germline, i2, and somatic Kd values\n",
    "germ_MA90 = float(all_data['MA90_mean'].values[all_data['geno']=='0000000000000000'])\n",
    "germ_SI06 = float(all_data['SI06_mean'].values[all_data['geno']=='0000000000000000'])\n",
    "germ_G189E = float(all_data['G189E_mean'].values[all_data['geno']=='0000000000000000'])\n",
    "I2_MA90 = float(all_data['MA90_mean'].values[all_data['geno']=='0000001010100000'])\n",
    "I2_SI06 = float(all_data['SI06_mean'].values[all_data['geno']=='0000001010100000'])\n",
    "I2_G189E = float(all_data['G189E_mean'].values[all_data['geno']=='0000001010100000'])\n",
    "som_MA90 = float(all_data['MA90_mean'].values[all_data['geno']=='1111111111111111'])\n",
    "som_SI06 = float(all_data['SI06_mean'].values[all_data['geno']=='1111111111111111'])\n",
    "som_G189E = float(all_data['G189E_mean'].values[all_data['geno']=='1111111111111111'])\n",
    "\n",
    "#get germline, i2, and somatic enrichment scores\n",
    "germ_MI = float(all_data['MI_frac_mean'].values[all_data['geno']=='0000000000000000'])\n",
    "germ_SI = float(all_data['SI_frac_mean'].values[all_data['geno']=='0000000000000000'])\n",
    "germ_MI_e = float(all_data['MI_frac_sem'].values[all_data['geno']=='0000000000000000'])\n",
    "germ_SI_e = float(all_data['SI_frac_sem'].values[all_data['geno']=='0000000000000000'])\n",
    "I2_MI = float(all_data['MI_frac_mean'].values[all_data['geno']=='0000001010100000'])\n",
    "I2_SI = float(all_data['SI_frac_mean'].values[all_data['geno']=='0000001010100000'])\n",
    "I2_MI_e = float(all_data['MI_frac_sem'].values[all_data['geno']=='0000001010100000'])\n",
    "I2_SI_e = float(all_data['SI_frac_sem'].values[all_data['geno']=='0000001010100000'])\n",
    "som_MI = float(all_data['MI_frac_mean'].values[all_data['geno']=='1111111111111111'])\n",
    "som_SI = float(all_data['SI_frac_mean'].values[all_data['geno']=='1111111111111111'])\n",
    "som_MI_e = float(all_data['MI_frac_sem'].values[all_data['geno']=='1111111111111111'])\n",
    "som_SI_e = float(all_data['SI_frac_sem'].values[all_data['geno']=='1111111111111111'])\n",
    "germline = ([germ_MI,germ_MI_e,germ_SI,germ_SI_e])\n",
    "i2 = ([I2_MI,I2_MI_e,I2_SI,I2_SI_e])\n",
    "somatic = ([som_MI,som_MI_e,som_SI,som_SI_e])\n",
    "print(germline)\n",
    "print(i2)\n",
    "print(somatic)"
   ]
  },
  {
   "cell_type": "markdown",
   "metadata": {},
   "source": [
    "## box plots by number of mutations"
   ]
  },
  {
   "cell_type": "code",
   "execution_count": 26,
   "metadata": {},
   "outputs": [
    {
     "data": {
      "image/png": "[encoded data removed]",
      "text/plain": [
       "<Figure size 108x72 with 1 Axes>"
      ]
     },
     "metadata": {
      "needs_background": "light"
     },
     "output_type": "display_data"
    }
   ],
   "source": [
    "plt.rcParams['font.sans-serif'] = \"Arial\"\n",
    "# Then, \"ALWAYS use sans-serif fonts\"\n",
    "plt.rcParams['font.family'] = \"sans-serif\"\n",
    "plt.rcParams['axes.linewidth'] = 0.5\n",
    "flierprops = dict(marker='o', markersize=2)\n",
    "fig, ax = plt.subplots(figsize=(1.5,1))      \n",
    "sns.boxplot(x=\"som_mut\", y=\"MI_frac_mean\", data=all_data,palette='plasma', saturation=1,\n",
    "            flierprops=flierprops, ax=ax)\n",
    "\n",
    "plt.xlabel(\"# mutations\",fontsize=8)\n",
    "plt.ylabel(\"MI15 %bound\",fontsize=8,labelpad=0)\n",
    "plt.tick_params(\n",
    "    axis='x',          # changes apply to the x-axis\n",
    "    which='both',      # both major and minor ticks are affected\n",
    "    bottom=True,      # ticks along the bottom edge are off\n",
    "    top=False,         # ticks along the top edge are off\n",
    "    labelbottom=True,\n",
    "    labelsize=6)\n",
    "plt.tick_params(\n",
    "    axis='y',          # changes apply to the x-axis\n",
    "    labelsize=6,\n",
    "    pad=0.5)\n",
    "# y_locator = FixedLocator([0,0.5,1])\n",
    "# ax.yaxis.set_major_locator(y_locator)\n",
    "# ax.set_yticklabels(['0','0.5','1'])\n",
    "plt.ylim(0,10)\n",
    "x_locator = FixedLocator([0,2,4,6,8,10,12,14,16])\n",
    "ax.xaxis.set_major_locator(x_locator)\n",
    "ax.set_xticklabels(['0','2','4','6','8','10','12','14','16'])\n",
    "\n",
    "for i,artist in enumerate(ax.artists):\n",
    "    # Set the linecolor on the artist to the facecolor, and set the facecolor to None\n",
    "    col = lighten_color(artist.get_facecolor(), 1.2)\n",
    "    artist.set_edgecolor(col) \n",
    "    artist.set_edgecolor('black') \n",
    "    artist.set_linewidth(0.5)\n",
    "\n",
    "    # Each box has 6 associated Line2D objects (to make the whiskers, fliers, etc.)\n",
    "    # Loop over them here, and use the same colour as above\n",
    "    for j in range(i*6,i*6+6):\n",
    "        line = ax.lines[j]\n",
    "        line.set_mfc(col)\n",
    "        line.set_mec(col)\n",
    "        line.set_linewidth(1)\n",
    "plt.savefig('images/20220723_CH65_MI15_box_bymut.png', transparent=True, dpi=1200,bbox_inches='tight')"
   ]
  },
  {
   "cell_type": "code",
   "execution_count": 27,
   "metadata": {},
   "outputs": [
    {
     "data": {
      "image/png": "[encoded data removed]",
      "text/plain": [
       "<Figure size 108x72 with 1 Axes>"
      ]
     },
     "metadata": {
      "needs_background": "light"
     },
     "output_type": "display_data"
    }
   ],
   "source": [
    "plt.rcParams['font.sans-serif'] = \"Arial\"\n",
    "# Then, \"ALWAYS use sans-serif fonts\"\n",
    "plt.rcParams['font.family'] = \"sans-serif\"\n",
    "plt.rcParams['axes.linewidth'] = 0.5\n",
    "flierprops = dict(marker='o', markersize=2)\n",
    "fig, ax = plt.subplots(figsize=(1.5,1))      \n",
    "sns.boxplot(x=\"som_mut\", y=\"SI_frac_mean\", data=all_data,palette='plasma', saturation=1,\n",
    "            flierprops=flierprops, ax=ax)\n",
    "\n",
    "plt.xlabel(\"# mutations\",fontsize=8)\n",
    "plt.ylabel(\"SI-G189D %bound\",fontsize=8,labelpad=0)\n",
    "plt.tick_params(\n",
    "    axis='x',          # changes apply to the x-axis\n",
    "    which='both',      # both major and SInor ticks are affected\n",
    "    bottom=True,      # ticks along the bottom edge are off\n",
    "    top=False,         # ticks along the top edge are off\n",
    "    labelbottom=True,\n",
    "    labelsize=6)\n",
    "plt.tick_params(\n",
    "    axis='y',          # changes apply to the x-axis\n",
    "    labelsize=6,\n",
    "    pad=0.5)\n",
    "# y_locator = FixedLocator([0,0.5,1])\n",
    "# ax.yaxis.set_major_locator(y_locator)\n",
    "# ax.set_yticklabels(['0','0.5','1'])\n",
    "# plt.ylim(0,1.1)\n",
    "x_locator = FixedLocator([0,2,4,6,8,10,12,14,16])\n",
    "ax.xaxis.set_major_locator(x_locator)\n",
    "ax.set_xticklabels(['0','2','4','6','8','10','12','14','16'])\n",
    "\n",
    "for i,artist in enumerate(ax.artists):\n",
    "    # Set the linecolor on the artist to the facecolor, and set the facecolor to None\n",
    "    col = lighten_color(artist.get_facecolor(), 1.2)\n",
    "    artist.set_edgecolor(col) \n",
    "    artist.set_edgecolor('black') \n",
    "    artist.set_linewidth(0.5)\n",
    "\n",
    "    # Each box has 6 associated Line2D objects (to make the whiskers, fliers, etc.)\n",
    "    # Loop over them here, and use the same colour as above\n",
    "    for j in range(i*6,i*6+6):\n",
    "        line = ax.lines[j]\n",
    "        line.set_mfc(col)\n",
    "        line.set_mec(col)\n",
    "        line.set_linewidth(1)\n",
    "plt.savefig('images/20220723_CH65_SIG189D_box_bymut.png', transparent=True, dpi=1200,bbox_inches='tight')"
   ]
  },
  {
   "cell_type": "markdown",
   "metadata": {},
   "source": [
    "## Histograms"
   ]
  },
  {
   "cell_type": "code",
   "execution_count": 28,
   "metadata": {},
   "outputs": [
    {
     "data": {
      "image/png": "[encoded data removed]",
      "text/plain": [
       "<Figure size 69.84x72 with 1 Axes>"
      ]
     },
     "metadata": {
      "needs_background": "light"
     },
     "output_type": "display_data"
    }
   ],
   "source": [
    "plt.rcParams['font.sans-serif'] = \"Arial\"\n",
    "plt.rcParams['axes.linewidth'] = 0.5\n",
    "from matplotlib import ticker\n",
    "formatter = ticker.ScalarFormatter(useMathText=True)\n",
    "formatter.set_scientific(True) \n",
    "# Then, \"ALWAYS use sans-serif fonts\"\n",
    "plt.rcParams['font.family'] = \"sans-serif\"\n",
    "x = all_data['MI_frac_mean']\n",
    "fig = plt.figure(figsize=(0.97,1))\n",
    "ax = fig.add_subplot()\n",
    "ax.hist(x,bins=50,color='dimgray')\n",
    "ax.yaxis.set_tick_params(labelsize=7,pad=1,length=2.5,width=0)\n",
    "x_locator = FixedLocator([0,0.5,1])\n",
    "ax.xaxis.set_tick_params(labelsize=7,pad=1,length=2.5,width=0)\n",
    "ax.xaxis.set_major_locator(x_locator)\n",
    "ax.xaxis.set_ticklabels([])\n",
    "ax.yaxis.set_ticklabels([])\n",
    "#ax.yaxis.set_major_formatter(formatter)\n",
    "ax.set_xlim([0, 10])\n",
    "plt.xlabel(' ',fontsize=8,labelpad=1)\n",
    "plt.ylabel(' ',fontsize=8,labelpad=1)\n",
    "#plt.ticklabel_format(style='sci', axis='y', scilimits=(0,0),useMathText=True)\n",
    "ax.yaxis.get_offset_text().set_fontsize(7)\n",
    "#plt.title('MA90',fontsize=8)\n",
    "plt.savefig(\"images/20220723_MI_hist.png\", transparent=True, dpi=600,bbox_inches='tight')"
   ]
  },
  {
   "cell_type": "code",
   "execution_count": 29,
   "metadata": {},
   "outputs": [
    {
     "data": {
      "image/png": "[encoded data removed]",
      "text/plain": [
       "<Figure size 69.84x72 with 1 Axes>"
      ]
     },
     "metadata": {
      "needs_background": "light"
     },
     "output_type": "display_data"
    }
   ],
   "source": [
    "plt.rcParams['font.sans-serif'] = \"Arial\"\n",
    "plt.rcParams['axes.linewidth'] = 0.5\n",
    "from matplotlib import ticker\n",
    "formatter = ticker.ScalarFormatter(useMathText=True)\n",
    "formatter.set_scientific(True) \n",
    "# Then, \"ALWAYS use sans-serif fonts\"\n",
    "plt.rcParams['font.family'] = \"sans-serif\"\n",
    "x = all_data['SI_frac_mean']\n",
    "fig = plt.figure(figsize=(0.97,1))\n",
    "ax = fig.add_subplot()\n",
    "ax.hist(x,bins=50,color='dimgray')\n",
    "ax.yaxis.set_tick_params(labelsize=7,pad=1,length=2.5,width=0)\n",
    "x_locator = FixedLocator([0,0.5,1])\n",
    "ax.xaxis.set_tick_params(labelsize=7,pad=1,length=2.5,width=0)\n",
    "ax.xaxis.set_major_locator(x_locator)\n",
    "ax.xaxis.set_ticklabels([])\n",
    "ax.yaxis.set_ticklabels([])\n",
    "#ax.yaxis.set_major_formatter(formatter)\n",
    "ax.set_xlim([0, 100])\n",
    "plt.xlabel(' ',fontsize=8,labelpad=1)\n",
    "plt.ylabel(' ',fontsize=8,labelpad=1)\n",
    "#plt.ticklabel_format(style='sci', axis='y', scilimits=(0,0),useMathText=True)\n",
    "ax.yaxis.get_offset_text().set_fontsize(7)\n",
    "#plt.title('MA90',fontsize=8)\n",
    "plt.savefig(\"images/20220723_SI_hist.png\", transparent=True, dpi=600,bbox_inches='tight')"
   ]
  },
  {
   "cell_type": "markdown",
   "metadata": {},
   "source": [
    "## Pleiotropy scatter plots"
   ]
  },
  {
   "cell_type": "code",
   "execution_count": 30,
   "metadata": {},
   "outputs": [
    {
     "data": {
      "text/plain": [
       "<Figure size 432x288 with 0 Axes>"
      ]
     },
     "metadata": {},
     "output_type": "display_data"
    },
    {
     "data": {
      "image/png": "[encoded data removed]",
      "text/plain": [
       "<Figure size 198x162 with 2 Axes>"
      ]
     },
     "metadata": {
      "needs_background": "light"
     },
     "output_type": "display_data"
    }
   ],
   "source": [
    "# libraries\n",
    "from mpl_toolkits.mplot3d import Axes3D\n",
    "import matplotlib.pyplot as plt\n",
    "plt.rcParams[\"axes.grid\"] = False\n",
    "plt.rcParams['font.sans-serif'] = \"Arial\"\n",
    "# Then, \"ALWAYS use sans-serif fonts\"\n",
    "plt.rcParams['font.family'] = \"sans-serif\"\n",
    "plt.rcParams['axes.linewidth'] = 0.5\n",
    "cmap=plt.cm.plasma\n",
    "plt.clf()\n",
    "# plot\n",
    "x = all_data['MI_frac_mean']\n",
    "y = all_data['SI_frac_mean']\n",
    "plt.rcParams['grid.color'] = \"white\"\n",
    "fig = plt.figure(figsize=(2.75,2.25))\n",
    "ax = fig.add_subplot()\n",
    "# x_locator = FixedLocator([8,9,10])\n",
    "# y_locator = FixedLocator([6,7,8,9])\n",
    "# ax.set_xticklabels(['8','9','10'])\n",
    "# ax.set_yticklabels(['≤ 6','7','8','9'])\n",
    "# ax.xaxis.set_major_locator(x_locator)\n",
    "# ax.yaxis.set_major_locator(y_locator)\n",
    "# plt.axvline(x=6,linestyle='dashed',linewidth=0.5,color='black')\n",
    "# plt.axhline(y=6,linestyle='dashed',linewidth=0.5,color='black')\n",
    "ax.scatter(x,y, c=all_data['som_mut'], cmap=cmap, s=5, alpha = 0.1, zorder=-10000)\n",
    "germ=ax.scatter(germ_MI,germ_SI, s=50,c='blue', marker='*',edgecolor='black',linewidths=0.5,alpha=1,zorder=99999999)\n",
    "I2=ax.scatter(I2_MI,I2_SI,s=50,c='purple', marker='*',edgecolor='black',linewidths=0.5,alpha=1,zorder=999999)\n",
    "som=ax.scatter(som_MI,som_SI,s=50,c='yellow', marker='*',edgecolor='black',linewidths=0.5,alpha=1,zorder=999999)\n",
    "ax.yaxis.set_tick_params(labelsize=7,pad=3,length=2.5)\n",
    "ax.xaxis.set_tick_params(labelsize=7,pad=3,length=2.5)\n",
    "# ax.set_xlim([7.5, 10.5])\n",
    "# ax.set_ylim([5.5, 9.5])\n",
    "ax.spines['right'].set_visible(False)\n",
    "ax.spines['top'].set_visible(False)\n",
    "plt.xlabel('MI15 %bound',fontsize=8,labelpad=1)\n",
    "plt.ylabel('G189D %bound',fontsize=8,labelpad=0)\n",
    "plt.title('',fontsize=10)\n",
    "sm = plt.cm.ScalarMappable(cmap=plt.cm.plasma, norm=plt.Normalize(vmin = 0, vmax=16))\n",
    "sm._A = []\n",
    "cbar = plt.colorbar(sm,fraction=0.03, pad=0.05,orientation='vertical',aspect=20,ticks=[0,2,4,6,8,10,12,14,16])\n",
    "cbar.set_label(label='# somatic mutations',size=8)\n",
    "cbar.ax.tick_params(labelsize=7)\n",
    "plt.savefig(\"images/20220723_CH65_MI15_SIG189D.png\", transparent=True, dpi=600,bbox_inches='tight')"
   ]
  },
  {
   "cell_type": "markdown",
   "metadata": {},
   "source": [
    "# correlation between MI15 and other antigens"
   ]
  },
  {
   "cell_type": "code",
   "execution_count": 31,
   "metadata": {},
   "outputs": [
    {
     "name": "stdout",
     "output_type": "stream",
     "text": [
      "0.36349656081470466\n"
     ]
    },
    {
     "data": {
      "image/png": "[encoded data removed]",
      "text/plain": [
       "<Figure size 72x57.6 with 2 Axes>"
      ]
     },
     "metadata": {
      "needs_background": "light"
     },
     "output_type": "display_data"
    }
   ],
   "source": [
    "#CH65 MA90 vs MI15\n",
    "from matplotlib.ticker import FixedLocator, FixedFormatter\n",
    "from numpy import polyfit\n",
    "plt.rcParams['font.sans-serif'] = \"Arial\"\n",
    "plt.rcParams['font.family'] = \"sans-serif\"\n",
    "plt.rcParams['axes.linewidth'] = 0.5\n",
    "flierprops = dict(marker='o', markersize=2)\n",
    "fig, ax = plt.subplots(figsize=(1,0.8))\n",
    "from scipy.stats import pearsonr\n",
    "plotting = all_data[['MI_frac_mean', 'MA90_mean']].copy()\n",
    "plotting.dropna(inplace=True)\n",
    "hb=plt.hexbin(plotting['MI_frac_mean'], plotting['MA90_mean'],cmap='Reds',linewidths=0.2,bins='log',gridsize=25)\n",
    "plt.xlabel(\"MI15 %bound\",fontsize=7,labelpad=1)\n",
    "plt.ylabel(\"MA90 –logKd\",fontsize=7,labelpad=0)\n",
    "plt.tick_params(labelsize=7,length=2.5,pad=0)\n",
    "x = plotting['MI_frac_mean']\n",
    "y = plotting['MA90_mean']\n",
    "cb = fig.colorbar(hb, ax=ax,ticks=[1,10,100,1000],orientation='vertical',pad=0.05)\n",
    "cb.ax.tick_params(labelsize=7,pad=1,size=1)\n",
    "corr, _ = pearsonr(plotting['MI_frac_mean'], plotting['MA90_mean'])\n",
    "print(corr)\n",
    "plt.savefig('images/CH65_MI_vs_MA90.png',transparent=True, dpi=600,bbox_inches='tight')"
   ]
  },
  {
   "cell_type": "code",
   "execution_count": 32,
   "metadata": {},
   "outputs": [
    {
     "data": {
      "text/plain": [
       "<Figure size 432x288 with 0 Axes>"
      ]
     },
     "metadata": {},
     "output_type": "display_data"
    },
    {
     "data": {
      "image/png": "[encoded data removed]",
      "text/plain": [
       "<Figure size 198x162 with 2 Axes>"
      ]
     },
     "metadata": {
      "needs_background": "light"
     },
     "output_type": "display_data"
    }
   ],
   "source": [
    "# libraries\n",
    "from mpl_toolkits.mplot3d import Axes3D\n",
    "import matplotlib.pyplot as plt\n",
    "plt.rcParams[\"axes.grid\"] = False\n",
    "plt.rcParams['font.sans-serif'] = \"Arial\"\n",
    "# Then, \"ALWAYS use sans-serif fonts\"\n",
    "plt.rcParams['font.family'] = \"sans-serif\"\n",
    "plt.rcParams['axes.linewidth'] = 0.5\n",
    "cmap=plt.cm.plasma\n",
    "plt.clf()\n",
    "# plot\n",
    "x = all_data['MI_frac_mean']\n",
    "y = all_data['MA90_mean']\n",
    "plt.rcParams['grid.color'] = \"white\"\n",
    "fig = plt.figure(figsize=(2.75,2.25))\n",
    "ax = fig.add_subplot()\n",
    "# x_locator = FixedLocator([8,9,10])\n",
    "# y_locator = FixedLocator([6,7,8,9])\n",
    "# ax.set_xticklabels(['8','9','10'])\n",
    "# ax.set_yticklabels(['≤ 6','7','8','9'])\n",
    "# ax.xaxis.set_major_locator(x_locator)\n",
    "# ax.yaxis.set_major_locator(y_locator)\n",
    "# plt.axvline(x=6,linestyle='dashed',linewidth=0.5,color='black')\n",
    "# plt.axhline(y=6,linestyle='dashed',linewidth=0.5,color='black')\n",
    "ax.scatter(x,y, c=all_data['som_mut'], cmap=cmap, s=5, alpha = 0.1, zorder=-10000)\n",
    "germ=ax.scatter(germ_MI,germ_MA90, s=50,c='blue', marker='*',edgecolor='black',linewidths=0.5,alpha=1,zorder=99999999)\n",
    "I2=ax.scatter(I2_MI,I2_MA90,s=50,c='purple', marker='*',edgecolor='black',linewidths=0.5,alpha=1,zorder=999999)\n",
    "som=ax.scatter(som_MI,som_MA90,s=50,c='yellow', marker='*',edgecolor='black',linewidths=0.5,alpha=1,zorder=999999)\n",
    "ax.yaxis.set_tick_params(labelsize=7,pad=3,length=2.5)\n",
    "ax.xaxis.set_tick_params(labelsize=7,pad=3,length=2.5)\n",
    "# ax.set_xlim([7.5, 10.5])\n",
    "# ax.set_ylim([5.5, 9.5])\n",
    "ax.spines['right'].set_visible(False)\n",
    "ax.spines['top'].set_visible(False)\n",
    "plt.xlabel('MI15 %bound',fontsize=8,labelpad=1)\n",
    "plt.ylabel('MA90 -logKd',fontsize=8,labelpad=0)\n",
    "plt.title('MI15 vs MA90',fontsize=10)\n",
    "sm = plt.cm.ScalarMappable(cmap=plt.cm.plasma, norm=plt.Normalize(vmin = 0, vmax=16))\n",
    "sm._A = []\n",
    "cbar = plt.colorbar(sm,fraction=0.03, pad=0.05,orientation='vertical',aspect=20,ticks=[0,2,4,6,8,10,12,14,16])\n",
    "cbar.set_label(label='# somatic mutations',size=8)\n",
    "cbar.ax.tick_params(labelsize=7)\n",
    "plt.savefig(\"images/20220723_CH65_MI15_MA90.png\", transparent=True, dpi=600,bbox_inches='tight')"
   ]
  },
  {
   "cell_type": "code",
   "execution_count": 33,
   "metadata": {},
   "outputs": [
    {
     "name": "stdout",
     "output_type": "stream",
     "text": [
      "0.1414294991496345\n"
     ]
    },
    {
     "data": {
      "image/png": "[encoded data removed]",
      "text/plain": [
       "<Figure size 72x57.6 with 2 Axes>"
      ]
     },
     "metadata": {
      "needs_background": "light"
     },
     "output_type": "display_data"
    }
   ],
   "source": [
    "#CH65 SI06 vs MI15\n",
    "from matplotlib.ticker import FixedLocator, FixedFormatter\n",
    "from numpy import polyfit\n",
    "plt.rcParams['font.sans-serif'] = \"Arial\"\n",
    "plt.rcParams['font.family'] = \"sans-serif\"\n",
    "plt.rcParams['axes.linewidth'] = 0.5\n",
    "flierprops = dict(marker='o', markersize=2)\n",
    "fig, ax = plt.subplots(figsize=(1,0.8))\n",
    "from scipy.stats import pearsonr\n",
    "plotting = all_data[['MI_frac_mean', 'SI06_mean']].copy()\n",
    "plotting.dropna(inplace=True)\n",
    "hb=plt.hexbin(plotting['MI_frac_mean'], plotting['SI06_mean'],cmap='Greens',linewidths=0.2,bins='log',gridsize=25)\n",
    "plt.xlabel(\"MI15 %bound\",fontsize=7,labelpad=1)\n",
    "plt.ylabel(\"SI06 –logKd\",fontsize=7,labelpad=0)\n",
    "plt.tick_params(labelsize=7,length=2.5,pad=0)\n",
    "x = plotting['MI_frac_mean']\n",
    "y = plotting['SI06_mean']\n",
    "cb = fig.colorbar(hb, ax=ax,ticks=[1,10,100,1000],orientation='vertical',pad=0.05)\n",
    "cb.ax.tick_params(labelsize=7,pad=1,size=1)\n",
    "corr, _ = pearsonr(plotting['MI_frac_mean'], plotting['SI06_mean'])\n",
    "print(corr)\n",
    "plt.savefig('images/CH65_MI_vs_SI06.png',transparent=True, dpi=600,bbox_inches='tight')"
   ]
  },
  {
   "cell_type": "code",
   "execution_count": 34,
   "metadata": {},
   "outputs": [
    {
     "data": {
      "text/plain": [
       "<Figure size 432x288 with 0 Axes>"
      ]
     },
     "metadata": {},
     "output_type": "display_data"
    },
    {
     "data": {
      "image/png": "[encoded data removed]",
      "text/plain": [
       "<Figure size 198x162 with 2 Axes>"
      ]
     },
     "metadata": {
      "needs_background": "light"
     },
     "output_type": "display_data"
    }
   ],
   "source": [
    "# libraries\n",
    "from mpl_toolkits.mplot3d import Axes3D\n",
    "import matplotlib.pyplot as plt\n",
    "plt.rcParams[\"axes.grid\"] = False\n",
    "plt.rcParams['font.sans-serif'] = \"Arial\"\n",
    "# Then, \"ALWAYS use sans-serif fonts\"\n",
    "plt.rcParams['font.family'] = \"sans-serif\"\n",
    "plt.rcParams['axes.linewidth'] = 0.5\n",
    "cmap=plt.cm.plasma\n",
    "plt.clf()\n",
    "# plot\n",
    "x = all_data['MI_frac_mean']\n",
    "y = all_data['SI06_mean']\n",
    "plt.rcParams['grid.color'] = \"white\"\n",
    "fig = plt.figure(figsize=(2.75,2.25))\n",
    "ax = fig.add_subplot()\n",
    "# x_locator = FixedLocator([8,9,10])\n",
    "# y_locator = FixedLocator([6,7,8,9])\n",
    "# ax.set_xticklabels(['8','9','10'])\n",
    "# ax.set_yticklabels(['≤ 6','7','8','9'])\n",
    "# ax.xaxis.set_major_locator(x_locator)\n",
    "# ax.yaxis.set_major_locator(y_locator)\n",
    "# plt.axvline(x=6,linestyle='dashed',linewidth=0.5,color='black')\n",
    "# plt.axhline(y=6,linestyle='dashed',linewidth=0.5,color='black')\n",
    "ax.scatter(x,y, c=all_data['som_mut'], cmap=cmap, s=5, alpha = 0.1, zorder=-10000)\n",
    "germ=ax.scatter(germ_MI,germ_SI06, s=50,c='blue', marker='*',edgecolor='black',linewidths=0.5,alpha=1,zorder=99999999)\n",
    "I2=ax.scatter(I2_MI,I2_SI06,s=50,c='purple', marker='*',edgecolor='black',linewidths=0.5,alpha=1,zorder=999999)\n",
    "som=ax.scatter(som_MI,som_SI06,s=50,c='yellow', marker='*',edgecolor='black',linewidths=0.5,alpha=1,zorder=999999)\n",
    "ax.yaxis.set_tick_params(labelsize=7,pad=3,length=2.5)\n",
    "ax.xaxis.set_tick_params(labelsize=7,pad=3,length=2.5)\n",
    "# ax.set_xlim([7.5, 10.5])\n",
    "# ax.set_ylim([5.5, 9.5])\n",
    "ax.spines['right'].set_visible(False)\n",
    "ax.spines['top'].set_visible(False)\n",
    "plt.xlabel('MI15 %bound',fontsize=8,labelpad=1)\n",
    "plt.ylabel('SI06 -logKd',fontsize=8,labelpad=0)\n",
    "plt.title('MI15 vs SI06',fontsize=10)\n",
    "sm = plt.cm.ScalarMappable(cmap=plt.cm.plasma, norm=plt.Normalize(vmin = 0, vmax=16))\n",
    "sm._A = []\n",
    "cbar = plt.colorbar(sm,fraction=0.03, pad=0.05,orientation='vertical',aspect=20,ticks=[0,2,4,6,8,10,12,14,16])\n",
    "cbar.set_label(label='# somatic mutations',size=8)\n",
    "cbar.ax.tick_params(labelsize=7)\n",
    "plt.savefig(\"images/20220723_CH65_MI15_SI06.png\", transparent=True, dpi=600,bbox_inches='tight')"
   ]
  },
  {
   "cell_type": "code",
   "execution_count": 35,
   "metadata": {},
   "outputs": [
    {
     "name": "stdout",
     "output_type": "stream",
     "text": [
      "0.26333851146964105\n"
     ]
    },
    {
     "data": {
      "image/png": "[encoded data removed]",
      "text/plain": [
       "<Figure size 72x57.6 with 2 Axes>"
      ]
     },
     "metadata": {
      "needs_background": "light"
     },
     "output_type": "display_data"
    }
   ],
   "source": [
    "#CH65 G189E vs MI15\n",
    "from matplotlib.ticker import FixedLocator, FixedFormatter\n",
    "from numpy import polyfit\n",
    "plt.rcParams['font.sans-serif'] = \"Arial\"\n",
    "plt.rcParams['font.family'] = \"sans-serif\"\n",
    "plt.rcParams['axes.linewidth'] = 0.5\n",
    "flierprops = dict(marker='o', markersize=2)\n",
    "fig, ax = plt.subplots(figsize=(1,0.8))\n",
    "from scipy.stats import pearsonr\n",
    "plotting = all_data[['MI_frac_mean', 'G189E_mean']].copy()\n",
    "plotting.dropna(inplace=True)\n",
    "hb=plt.hexbin(plotting['MI_frac_mean'], plotting['G189E_mean'],cmap='Blues',linewidths=0.2,bins='log',gridsize=25)\n",
    "plt.xlabel(\"MI15 %bound\",fontsize=7,labelpad=1)\n",
    "plt.ylabel(\"G189E –logKd\",fontsize=7,labelpad=0)\n",
    "plt.tick_params(labelsize=7,length=2.5,pad=0)\n",
    "x = plotting['MI_frac_mean']\n",
    "y = plotting['G189E_mean']\n",
    "cb = fig.colorbar(hb, ax=ax,ticks=[1,10,100,1000],orientation='vertical',pad=0.05)\n",
    "cb.ax.tick_params(labelsize=7,pad=1,size=1)\n",
    "corr, _ = pearsonr(plotting['MI_frac_mean'], plotting['G189E_mean'])\n",
    "print(corr)\n",
    "plt.savefig('images/CH65_MI_vs_G189E.png',transparent=True, dpi=600,bbox_inches='tight')"
   ]
  },
  {
   "cell_type": "code",
   "execution_count": 36,
   "metadata": {},
   "outputs": [
    {
     "data": {
      "text/plain": [
       "<Figure size 432x288 with 0 Axes>"
      ]
     },
     "metadata": {},
     "output_type": "display_data"
    },
    {
     "data": {
      "image/png": "[encoded data removed]",
      "text/plain": [
       "<Figure size 198x162 with 2 Axes>"
      ]
     },
     "metadata": {
      "needs_background": "light"
     },
     "output_type": "display_data"
    }
   ],
   "source": [
    "# libraries\n",
    "from mpl_toolkits.mplot3d import Axes3D\n",
    "import matplotlib.pyplot as plt\n",
    "plt.rcParams[\"axes.grid\"] = False\n",
    "plt.rcParams['font.sans-serif'] = \"Arial\"\n",
    "# Then, \"ALWAYS use sans-serif fonts\"\n",
    "plt.rcParams['font.family'] = \"sans-serif\"\n",
    "plt.rcParams['axes.linewidth'] = 0.5\n",
    "cmap=plt.cm.plasma\n",
    "plt.clf()\n",
    "# plot\n",
    "x = all_data['MI_frac_mean']\n",
    "y = all_data['G189E_mean']\n",
    "plt.rcParams['grid.color'] = \"white\"\n",
    "fig = plt.figure(figsize=(2.75,2.25))\n",
    "ax = fig.add_subplot()\n",
    "# x_locator = FixedLocator([8,9,10])\n",
    "# y_locator = FixedLocator([6,7,8,9])\n",
    "# ax.set_xticklabels(['8','9','10'])\n",
    "# ax.set_yticklabels(['≤ 6','7','8','9'])\n",
    "\n",
    "# plt.axvline(x=6,linestyle='dashed',linewidth=0.5,color='black')\n",
    "# plt.axhline(y=6,linestyle='dashed',linewidth=0.5,color='black')\n",
    "ax.scatter(x,y, c=all_data['som_mut'], cmap=cmap, s=5, alpha = 0.1, zorder=-10000)\n",
    "germ=ax.scatter(germ_MI,germ_G189E, s=50,c='blue', marker='*',edgecolor='black',linewidths=0.5,alpha=1,zorder=99999999)\n",
    "I2=ax.scatter(I2_MI,I2_G189E,s=50,c='purple', marker='*',edgecolor='black',linewidths=0.5,alpha=1,zorder=999999)\n",
    "som=ax.scatter(som_MI,som_G189E,s=50,c='yellow', marker='*',edgecolor='black',linewidths=0.5,alpha=1,zorder=999999)\n",
    "ax.yaxis.set_tick_params(labelsize=7,pad=3,length=2.5)\n",
    "ax.xaxis.set_tick_params(labelsize=7,pad=3,length=2.5)\n",
    "# ax.set_xlim([7.5, 10.5])\n",
    "# ax.set_ylim([5.5, 9.5])\n",
    "ax.spines['right'].set_visible(False)\n",
    "ax.spines['top'].set_visible(False)\n",
    "plt.xlabel('MI15 %bound',fontsize=8,labelpad=1)\n",
    "plt.ylabel('G189E -logKd',fontsize=8,labelpad=0)\n",
    "plt.title('MI15 vs G189E',fontsize=10)\n",
    "sm = plt.cm.ScalarMappable(cmap=plt.cm.plasma, norm=plt.Normalize(vmin = 0, vmax=16))\n",
    "sm._A = []\n",
    "cbar = plt.colorbar(sm,fraction=0.03, pad=0.05,orientation='vertical',aspect=20,ticks=[0,2,4,6,8,10,12,14,16])\n",
    "cbar.set_label(label='# somatic mutations',size=8)\n",
    "cbar.ax.tick_params(labelsize=7)\n",
    "plt.savefig(\"images/20220723_CH65_MI15_G189E.png\", transparent=True, dpi=600,bbox_inches='tight')"
   ]
  },
  {
   "cell_type": "markdown",
   "metadata": {},
   "source": [
    "# correlation between SI15 and other antigens"
   ]
  },
  {
   "cell_type": "code",
   "execution_count": 37,
   "metadata": {},
   "outputs": [
    {
     "name": "stdout",
     "output_type": "stream",
     "text": [
      "0.6748275154065002\n"
     ]
    },
    {
     "data": {
      "image/png": "[encoded data removed]",
      "text/plain": [
       "<Figure size 72x57.6 with 2 Axes>"
      ]
     },
     "metadata": {
      "needs_background": "light"
     },
     "output_type": "display_data"
    }
   ],
   "source": [
    "#CH65 MA90 vs SI15\n",
    "from matplotlib.ticker import FixedLocator, FixedFormatter\n",
    "from numpy import polyfit\n",
    "plt.rcParams['font.sans-serif'] = \"Arial\"\n",
    "plt.rcParams['font.family'] = \"sans-serif\"\n",
    "plt.rcParams['axes.linewidth'] = 0.5\n",
    "flierprops = dict(marker='o', markersize=2)\n",
    "fig, ax = plt.subplots(figsize=(1,0.8))\n",
    "from scipy.stats import pearsonr\n",
    "plotting = all_data[['SI_frac_mean', 'MA90_mean']].copy()\n",
    "plotting.dropna(inplace=True)\n",
    "hb=plt.hexbin(plotting['SI_frac_mean'], plotting['MA90_mean'],cmap='Reds',linewidths=0.2,bins='log',gridsize=25)\n",
    "plt.xlabel(\"SI-G189D %bound\",fontsize=7,labelpad=1)\n",
    "plt.ylabel(\"MA90 –logKd\",fontsize=7,labelpad=0)\n",
    "plt.tick_params(labelsize=7,length=2.5,pad=0)\n",
    "x = plotting['SI_frac_mean']\n",
    "y = plotting['MA90_mean']\n",
    "cb = fig.colorbar(hb, ax=ax,ticks=[1,10,100,1000],orientation='vertical',pad=0.05)\n",
    "cb.ax.tick_params(labelsize=7,pad=1,size=1)\n",
    "corr, _ = pearsonr(plotting['SI_frac_mean'], plotting['MA90_mean'])\n",
    "print(corr)\n",
    "plt.savefig('images/CH65_SI_vs_MA90.png',transparent=True, dpi=600,bbox_inches='tight')"
   ]
  },
  {
   "cell_type": "code",
   "execution_count": 38,
   "metadata": {},
   "outputs": [
    {
     "data": {
      "text/plain": [
       "<Figure size 432x288 with 0 Axes>"
      ]
     },
     "metadata": {},
     "output_type": "display_data"
    },
    {
     "data": {
      "image/png": "[encoded data removed]",
      "text/plain": [
       "<Figure size 198x162 with 2 Axes>"
      ]
     },
     "metadata": {
      "needs_background": "light"
     },
     "output_type": "display_data"
    }
   ],
   "source": [
    "# libraries\n",
    "from mpl_toolkits.mplot3d import Axes3D\n",
    "import matplotlib.pyplot as plt\n",
    "plt.rcParams[\"axes.grid\"] = False\n",
    "plt.rcParams['font.sans-serif'] = \"Arial\"\n",
    "# Then, \"ALWAYS use sans-serif fonts\"\n",
    "plt.rcParams['font.family'] = \"sans-serif\"\n",
    "plt.rcParams['axes.linewidth'] = 0.5\n",
    "cmap=plt.cm.plasma\n",
    "plt.clf()\n",
    "# plot\n",
    "x = all_data['SI_frac_mean']\n",
    "y = all_data['MA90_mean']\n",
    "plt.rcParams['grid.color'] = \"white\"\n",
    "fig = plt.figure(figsize=(2.75,2.25))\n",
    "ax = fig.add_subplot()\n",
    "# x_locator = FixedLocator([8,9,10])\n",
    "# y_locator = FixedLocator([6,7,8,9])\n",
    "# ax.set_xticklabels(['8','9','10'])\n",
    "# ax.set_yticklabels(['≤ 6','7','8','9'])\n",
    "# ax.xaxis.set_major_locator(x_locator)\n",
    "# ax.yaxis.set_major_locator(y_locator)\n",
    "# plt.axvline(x=6,linestyle='dashed',linewidth=0.5,color='black')\n",
    "# plt.axhline(y=6,linestyle='dashed',linewidth=0.5,color='black')\n",
    "ax.scatter(x,y, c=all_data['som_mut'], cmap=cmap, s=5, alpha = 0.1, zorder=-10000)\n",
    "germ=ax.scatter(germ_SI,germ_MA90, s=50,c='blue', marker='*',edgecolor='black',linewidths=0.5,alpha=1,zorder=99999999)\n",
    "I2=ax.scatter(I2_SI,I2_MA90,s=50,c='purple', marker='*',edgecolor='black',linewidths=0.5,alpha=1,zorder=999999)\n",
    "som=ax.scatter(som_SI,som_MA90,s=50,c='yellow', marker='*',edgecolor='black',linewidths=0.5,alpha=1,zorder=999999)\n",
    "ax.yaxis.set_tick_params(labelsize=7,pad=3,length=2.5)\n",
    "ax.xaxis.set_tick_params(labelsize=7,pad=3,length=2.5)\n",
    "# ax.set_xlim([7.5, 10.5])\n",
    "# ax.set_ylim([5.5, 9.5])\n",
    "ax.spines['right'].set_visible(False)\n",
    "ax.spines['top'].set_visible(False)\n",
    "plt.xlabel('SI-G189D %bound',fontsize=8,labelpad=1)\n",
    "plt.ylabel('MA90 -logKd',fontsize=8,labelpad=0)\n",
    "plt.title('SI-G189D vs MA90',fontsize=10)\n",
    "sm = plt.cm.ScalarMappable(cmap=plt.cm.plasma, norm=plt.Normalize(vmin = 0, vmax=16))\n",
    "sm._A = []\n",
    "cbar = plt.colorbar(sm,fraction=0.03, pad=0.05,orientation='vertical',aspect=20,ticks=[0,2,4,6,8,10,12,14,16])\n",
    "cbar.set_label(label='# somatic mutations',size=8)\n",
    "cbar.ax.tick_params(labelsize=7)\n",
    "plt.savefig(\"images/20220723_CH65_SI15_MA90.png\", transparent=True, dpi=600,bbox_inches='tight')"
   ]
  },
  {
   "cell_type": "code",
   "execution_count": 39,
   "metadata": {},
   "outputs": [
    {
     "name": "stdout",
     "output_type": "stream",
     "text": [
      "0.8707629060800722\n"
     ]
    },
    {
     "data": {
      "image/png": "[encoded data removed]",
      "text/plain": [
       "<Figure size 72x57.6 with 2 Axes>"
      ]
     },
     "metadata": {
      "needs_background": "light"
     },
     "output_type": "display_data"
    }
   ],
   "source": [
    "#CH65 SI06 vs SI15\n",
    "from matplotlib.ticker import FixedLocator, FixedFormatter\n",
    "from numpy import polyfit\n",
    "plt.rcParams['font.sans-serif'] = \"Arial\"\n",
    "plt.rcParams['font.family'] = \"sans-serif\"\n",
    "plt.rcParams['axes.linewidth'] = 0.5\n",
    "flierprops = dict(marker='o', markersize=2)\n",
    "fig, ax = plt.subplots(figsize=(1,0.8))\n",
    "from scipy.stats import pearsonr\n",
    "plotting = all_data[['SI_frac_mean', 'SI06_mean']].copy()\n",
    "plotting.dropna(inplace=True)\n",
    "hb=plt.hexbin(plotting['SI_frac_mean'], plotting['SI06_mean'],cmap='Greens',linewidths=0.2,bins='log',gridsize=25)\n",
    "plt.xlabel(\"SI-G189D %bound\",fontsize=7,labelpad=1)\n",
    "plt.ylabel(\"SI06 –logKd\",fontsize=7,labelpad=0)\n",
    "plt.tick_params(labelsize=7,length=2.5,pad=0)\n",
    "x = plotting['SI_frac_mean']\n",
    "y = plotting['SI06_mean']\n",
    "cb = fig.colorbar(hb, ax=ax,ticks=[1,10,100,1000],orientation='vertical',pad=0.05)\n",
    "cb.ax.tick_params(labelsize=7,pad=1,size=1)\n",
    "corr, _ = pearsonr(plotting['SI_frac_mean'], plotting['SI06_mean'])\n",
    "print(corr)\n",
    "plt.savefig('images/CH65_SI_vs_SI06.png',transparent=True, dpi=600,bbox_inches='tight')"
   ]
  },
  {
   "cell_type": "code",
   "execution_count": 40,
   "metadata": {},
   "outputs": [
    {
     "data": {
      "text/plain": [
       "<Figure size 432x288 with 0 Axes>"
      ]
     },
     "metadata": {},
     "output_type": "display_data"
    },
    {
     "data": {
      "image/png": "[encoded data removed]",
      "text/plain": [
       "<Figure size 198x162 with 2 Axes>"
      ]
     },
     "metadata": {
      "needs_background": "light"
     },
     "output_type": "display_data"
    }
   ],
   "source": [
    "# libraries\n",
    "from mpl_toolkits.mplot3d import Axes3D\n",
    "import matplotlib.pyplot as plt\n",
    "plt.rcParams[\"axes.grid\"] = False\n",
    "plt.rcParams['font.sans-serif'] = \"Arial\"\n",
    "# Then, \"ALWAYS use sans-serif fonts\"\n",
    "plt.rcParams['font.family'] = \"sans-serif\"\n",
    "plt.rcParams['axes.linewidth'] = 0.5\n",
    "cmap=plt.cm.plasma\n",
    "plt.clf()\n",
    "# plot\n",
    "x = all_data['SI_frac_mean']\n",
    "y = all_data['SI06_mean']\n",
    "plt.rcParams['grid.color'] = \"white\"\n",
    "fig = plt.figure(figsize=(2.75,2.25))\n",
    "ax = fig.add_subplot()\n",
    "# x_locator = FixedLocator([8,9,10])\n",
    "# y_locator = FixedLocator([6,7,8,9])\n",
    "# ax.set_xticklabels(['8','9','10'])\n",
    "# ax.set_yticklabels(['≤ 6','7','8','9'])\n",
    "# ax.xaxis.set_major_locator(x_locator)\n",
    "# ax.yaxis.set_major_locator(y_locator)\n",
    "# plt.axvline(x=6,linestyle='dashed',linewidth=0.5,color='black')\n",
    "# plt.axhline(y=6,linestyle='dashed',linewidth=0.5,color='black')\n",
    "ax.scatter(x,y, c=all_data['som_mut'], cmap=cmap, s=5, alpha = 0.1, zorder=-10000)\n",
    "germ=ax.scatter(germ_SI,germ_SI06, s=50,c='blue', marker='*',edgecolor='black',linewidths=0.5,alpha=1,zorder=99999999)\n",
    "I2=ax.scatter(I2_SI,I2_SI06,s=50,c='purple', marker='*',edgecolor='black',linewidths=0.5,alpha=1,zorder=999999)\n",
    "som=ax.scatter(som_SI,som_SI06,s=50,c='yellow', marker='*',edgecolor='black',linewidths=0.5,alpha=1,zorder=999999)\n",
    "ax.yaxis.set_tick_params(labelsize=7,pad=3,length=2.5)\n",
    "ax.xaxis.set_tick_params(labelsize=7,pad=3,length=2.5)\n",
    "# ax.set_xlim([7.5, 10.5])\n",
    "# ax.set_ylim([5.5, 9.5])\n",
    "ax.spines['right'].set_visible(False)\n",
    "ax.spines['top'].set_visible(False)\n",
    "plt.xlabel('SI-G189D %bound',fontsize=8,labelpad=1)\n",
    "plt.ylabel('SI06 -logKd',fontsize=8,labelpad=0)\n",
    "plt.title('SI-G189D vs SI06',fontsize=10)\n",
    "sm = plt.cm.ScalarMappable(cmap=plt.cm.plasma, norm=plt.Normalize(vmin = 0, vmax=16))\n",
    "sm._A = []\n",
    "cbar = plt.colorbar(sm,fraction=0.03, pad=0.05,orientation='vertical',aspect=20,ticks=[0,2,4,6,8,10,12,14,16])\n",
    "cbar.set_label(label='# somatic mutations',size=8)\n",
    "cbar.ax.tick_params(labelsize=7)\n",
    "plt.savefig(\"images/20220723_CH65_SI15_SI06.png\", transparent=True, dpi=600,bbox_inches='tight')"
   ]
  },
  {
   "cell_type": "code",
   "execution_count": 41,
   "metadata": {},
   "outputs": [
    {
     "name": "stdout",
     "output_type": "stream",
     "text": [
      "0.6722195194727784\n"
     ]
    },
    {
     "data": {
      "image/png": "[encoded data removed]",
      "text/plain": [
       "<Figure size 72x57.6 with 2 Axes>"
      ]
     },
     "metadata": {
      "needs_background": "light"
     },
     "output_type": "display_data"
    }
   ],
   "source": [
    "#CH65 G189E vs SI15\n",
    "from matplotlib.ticker import FixedLocator, FixedFormatter\n",
    "from numpy import polyfit\n",
    "plt.rcParams['font.sans-serif'] = \"Arial\"\n",
    "plt.rcParams['font.family'] = \"sans-serif\"\n",
    "plt.rcParams['axes.linewidth'] = 0.5\n",
    "flierprops = dict(marker='o', markersize=2)\n",
    "fig, ax = plt.subplots(figsize=(1,0.8))\n",
    "from scipy.stats import pearsonr\n",
    "plotting = all_data[['SI_frac_mean', 'G189E_mean']].copy()\n",
    "plotting.dropna(inplace=True)\n",
    "hb=plt.hexbin(plotting['SI_frac_mean'], plotting['G189E_mean'],cmap='Blues',linewidths=0.2,bins='log',gridsize=25)\n",
    "plt.xlabel(\"SI-G189D %bound\",fontsize=7,labelpad=1)\n",
    "plt.ylabel(\"G189E –logKd\",fontsize=7,labelpad=0)\n",
    "plt.tick_params(labelsize=7,length=2.5,pad=0)\n",
    "x = plotting['SI_frac_mean']\n",
    "y = plotting['G189E_mean']\n",
    "cb = fig.colorbar(hb, ax=ax,ticks=[1,10,100,1000],orientation='vertical',pad=0.05)\n",
    "cb.ax.tick_params(labelsize=7,pad=1,size=1)\n",
    "corr, _ = pearsonr(plotting['SI_frac_mean'], plotting['G189E_mean'])\n",
    "print(corr)\n",
    "plt.savefig('images/CH65_SI_vs_G189E.png',transparent=True, dpi=600,bbox_inches='tight')"
   ]
  },
  {
   "cell_type": "code",
   "execution_count": 42,
   "metadata": {},
   "outputs": [
    {
     "data": {
      "text/plain": [
       "<Figure size 432x288 with 0 Axes>"
      ]
     },
     "metadata": {},
     "output_type": "display_data"
    },
    {
     "data": {
      "image/png": "[encoded data removed]",
      "text/plain": [
       "<Figure size 198x162 with 2 Axes>"
      ]
     },
     "metadata": {
      "needs_background": "light"
     },
     "output_type": "display_data"
    }
   ],
   "source": [
    "# libraries\n",
    "from mpl_toolkits.mplot3d import Axes3D\n",
    "import matplotlib.pyplot as plt\n",
    "plt.rcParams[\"axes.grid\"] = False\n",
    "plt.rcParams['font.sans-serif'] = \"Arial\"\n",
    "# Then, \"ALWAYS use sans-serif fonts\"\n",
    "plt.rcParams['font.family'] = \"sans-serif\"\n",
    "plt.rcParams['axes.linewidth'] = 0.5\n",
    "cmap=plt.cm.plasma\n",
    "plt.clf()\n",
    "# plot\n",
    "x = all_data['SI_frac_mean']\n",
    "y = all_data['G189E_mean']\n",
    "plt.rcParams['grid.color'] = \"white\"\n",
    "fig = plt.figure(figsize=(2.75,2.25))\n",
    "ax = fig.add_subplot()\n",
    "# x_locator = FixedLocator([8,9,10])\n",
    "# y_locator = FixedLocator([6,7,8,9])\n",
    "# ax.set_xticklabels(['8','9','10'])\n",
    "# ax.set_yticklabels(['≤ 6','7','8','9'])\n",
    "# ax.xaxis.set_major_locator(x_locator)\n",
    "# ax.yaxis.set_major_locator(y_locator)\n",
    "# plt.axvline(x=6,linestyle='dashed',linewidth=0.5,color='black')\n",
    "# plt.axhline(y=6,linestyle='dashed',linewidth=0.5,color='black')\n",
    "ax.scatter(x,y, c=all_data['som_mut'], cmap=cmap, s=5, alpha = 0.1, zorder=-10000)\n",
    "germ=ax.scatter(germ_SI,germ_G189E, s=50,c='blue', marker='*',edgecolor='black',linewidths=0.5,alpha=1,zorder=99999999)\n",
    "I2=ax.scatter(I2_SI,I2_G189E,s=50,c='purple', marker='*',edgecolor='black',linewidths=0.5,alpha=1,zorder=999999)\n",
    "som=ax.scatter(som_SI,som_G189E,s=50,c='yellow', marker='*',edgecolor='black',linewidths=0.5,alpha=1,zorder=999999)\n",
    "ax.yaxis.set_tick_params(labelsize=7,pad=3,length=2.5)\n",
    "ax.xaxis.set_tick_params(labelsize=7,pad=3,length=2.5)\n",
    "# ax.set_xlim([7.5, 10.5])\n",
    "# ax.set_ylim([5.5, 9.5])\n",
    "ax.spines['right'].set_visible(False)\n",
    "ax.spines['top'].set_visible(False)\n",
    "plt.xlabel('SI-G189D %bound',fontsize=8,labelpad=1)\n",
    "plt.ylabel('G189E -logKd',fontsize=8,labelpad=0)\n",
    "plt.title('SI-G189D vs G189E',fontsize=10)\n",
    "sm = plt.cm.ScalarMappable(cmap=plt.cm.plasma, norm=plt.Normalize(vmin = 0, vmax=16))\n",
    "sm._A = []\n",
    "cbar = plt.colorbar(sm,fraction=0.03, pad=0.05,orientation='vertical',aspect=20,ticks=[0,2,4,6,8,10,12,14,16])\n",
    "cbar.set_label(label='# somatic mutations',size=8)\n",
    "cbar.ax.tick_params(labelsize=7)\n",
    "plt.savefig(\"images/20220723_CH65_SI15_G189E.png\", transparent=True, dpi=600,bbox_inches='tight')"
   ]
  },
  {
   "cell_type": "markdown",
   "metadata": {},
   "source": [
    "# change in enrichment plots -- MI15"
   ]
  },
  {
   "cell_type": "code",
   "execution_count": 43,
   "metadata": {},
   "outputs": [],
   "source": [
    "import matplotlib\n",
    "import matplotlib.colors as mcolors\n",
    "plt.rcParams.update({'font.size': 7})\n",
    "plt.rcParams['font.sans-serif'] = \"Arial\"\n",
    "plt.rcParams['font.family'] = \"sans-serif\"\n",
    "plt.rcParams['axes.linewidth'] = 0.5\n",
    "plt.rcParams[\"xtick.major.size\"] = 2\n",
    "plt.rcParams[\"ytick.major.size\"] = 2\n",
    "plt.rcParams[\"xtick.major.width\"] = 0.5\n",
    "plt.rcParams[\"ytick.major.width\"] = 0.5"
   ]
  },
  {
   "cell_type": "code",
   "execution_count": 44,
   "metadata": {},
   "outputs": [
    {
     "data": {
      "text/html": [
       "<div>\n",
       "<style scoped>\n",
       "    .dataframe tbody tr th:only-of-type {\n",
       "        vertical-align: middle;\n",
       "    }\n",
       "\n",
       "    .dataframe tbody tr th {\n",
       "        vertical-align: top;\n",
       "    }\n",
       "\n",
       "    .dataframe thead th {\n",
       "        text-align: right;\n",
       "    }\n",
       "</style>\n",
       "<table border=\"1\" class=\"dataframe\">\n",
       "  <thead>\n",
       "    <tr style=\"text-align: right;\">\n",
       "      <th></th>\n",
       "      <th>Mutation</th>\n",
       "      <th>dfrac</th>\n",
       "      <th>Number of mutations</th>\n",
       "      <th>dfrac_sem</th>\n",
       "      <th>source</th>\n",
       "      <th>target</th>\n",
       "      <th>pos1</th>\n",
       "      <th>pos2</th>\n",
       "      <th>pos3</th>\n",
       "      <th>pos4</th>\n",
       "      <th>...</th>\n",
       "      <th>pos7</th>\n",
       "      <th>pos8</th>\n",
       "      <th>pos9</th>\n",
       "      <th>pos10</th>\n",
       "      <th>pos11</th>\n",
       "      <th>pos12</th>\n",
       "      <th>pos13</th>\n",
       "      <th>pos14</th>\n",
       "      <th>pos15</th>\n",
       "      <th>pos16</th>\n",
       "    </tr>\n",
       "  </thead>\n",
       "  <tbody>\n",
       "    <tr>\n",
       "      <th>0</th>\n",
       "      <td>N26D</td>\n",
       "      <td>-0.893647</td>\n",
       "      <td>0</td>\n",
       "      <td>0.331148</td>\n",
       "      <td>0000000000000000</td>\n",
       "      <td>1000000000000000</td>\n",
       "      <td>0</td>\n",
       "      <td>0</td>\n",
       "      <td>0</td>\n",
       "      <td>0</td>\n",
       "      <td>...</td>\n",
       "      <td>0</td>\n",
       "      <td>0</td>\n",
       "      <td>0</td>\n",
       "      <td>0</td>\n",
       "      <td>0</td>\n",
       "      <td>0</td>\n",
       "      <td>0</td>\n",
       "      <td>0</td>\n",
       "      <td>0</td>\n",
       "      <td>0</td>\n",
       "    </tr>\n",
       "    <tr>\n",
       "      <th>1</th>\n",
       "      <td>N26D</td>\n",
       "      <td>0.239891</td>\n",
       "      <td>1</td>\n",
       "      <td>0.767410</td>\n",
       "      <td>0000000000000001</td>\n",
       "      <td>1000000000000001</td>\n",
       "      <td>0</td>\n",
       "      <td>0</td>\n",
       "      <td>0</td>\n",
       "      <td>0</td>\n",
       "      <td>...</td>\n",
       "      <td>0</td>\n",
       "      <td>0</td>\n",
       "      <td>0</td>\n",
       "      <td>0</td>\n",
       "      <td>0</td>\n",
       "      <td>0</td>\n",
       "      <td>0</td>\n",
       "      <td>0</td>\n",
       "      <td>0</td>\n",
       "      <td>1</td>\n",
       "    </tr>\n",
       "    <tr>\n",
       "      <th>2</th>\n",
       "      <td>N26D</td>\n",
       "      <td>-0.022250</td>\n",
       "      <td>1</td>\n",
       "      <td>0.557066</td>\n",
       "      <td>0000000000000010</td>\n",
       "      <td>1000000000000010</td>\n",
       "      <td>0</td>\n",
       "      <td>0</td>\n",
       "      <td>0</td>\n",
       "      <td>0</td>\n",
       "      <td>...</td>\n",
       "      <td>0</td>\n",
       "      <td>0</td>\n",
       "      <td>0</td>\n",
       "      <td>0</td>\n",
       "      <td>0</td>\n",
       "      <td>0</td>\n",
       "      <td>0</td>\n",
       "      <td>0</td>\n",
       "      <td>1</td>\n",
       "      <td>0</td>\n",
       "    </tr>\n",
       "    <tr>\n",
       "      <th>3</th>\n",
       "      <td>N26D</td>\n",
       "      <td>-0.899670</td>\n",
       "      <td>2</td>\n",
       "      <td>0.552329</td>\n",
       "      <td>0000000000000011</td>\n",
       "      <td>1000000000000011</td>\n",
       "      <td>0</td>\n",
       "      <td>0</td>\n",
       "      <td>0</td>\n",
       "      <td>0</td>\n",
       "      <td>...</td>\n",
       "      <td>0</td>\n",
       "      <td>0</td>\n",
       "      <td>0</td>\n",
       "      <td>0</td>\n",
       "      <td>0</td>\n",
       "      <td>0</td>\n",
       "      <td>0</td>\n",
       "      <td>0</td>\n",
       "      <td>1</td>\n",
       "      <td>1</td>\n",
       "    </tr>\n",
       "    <tr>\n",
       "      <th>4</th>\n",
       "      <td>N26D</td>\n",
       "      <td>-0.477311</td>\n",
       "      <td>1</td>\n",
       "      <td>0.418194</td>\n",
       "      <td>0000000000000100</td>\n",
       "      <td>1000000000000100</td>\n",
       "      <td>0</td>\n",
       "      <td>0</td>\n",
       "      <td>0</td>\n",
       "      <td>0</td>\n",
       "      <td>...</td>\n",
       "      <td>0</td>\n",
       "      <td>0</td>\n",
       "      <td>0</td>\n",
       "      <td>0</td>\n",
       "      <td>0</td>\n",
       "      <td>0</td>\n",
       "      <td>0</td>\n",
       "      <td>1</td>\n",
       "      <td>0</td>\n",
       "      <td>0</td>\n",
       "    </tr>\n",
       "    <tr>\n",
       "      <th>...</th>\n",
       "      <td>...</td>\n",
       "      <td>...</td>\n",
       "      <td>...</td>\n",
       "      <td>...</td>\n",
       "      <td>...</td>\n",
       "      <td>...</td>\n",
       "      <td>...</td>\n",
       "      <td>...</td>\n",
       "      <td>...</td>\n",
       "      <td>...</td>\n",
       "      <td>...</td>\n",
       "      <td>...</td>\n",
       "      <td>...</td>\n",
       "      <td>...</td>\n",
       "      <td>...</td>\n",
       "      <td>...</td>\n",
       "      <td>...</td>\n",
       "      <td>...</td>\n",
       "      <td>...</td>\n",
       "      <td>...</td>\n",
       "      <td>...</td>\n",
       "    </tr>\n",
       "    <tr>\n",
       "      <th>524283</th>\n",
       "      <td>R87K</td>\n",
       "      <td>1.790543</td>\n",
       "      <td>14</td>\n",
       "      <td>1.050298</td>\n",
       "      <td>1111111111110110</td>\n",
       "      <td>1111111111110111</td>\n",
       "      <td>1</td>\n",
       "      <td>1</td>\n",
       "      <td>1</td>\n",
       "      <td>1</td>\n",
       "      <td>...</td>\n",
       "      <td>1</td>\n",
       "      <td>1</td>\n",
       "      <td>1</td>\n",
       "      <td>1</td>\n",
       "      <td>1</td>\n",
       "      <td>1</td>\n",
       "      <td>0</td>\n",
       "      <td>1</td>\n",
       "      <td>1</td>\n",
       "      <td>0</td>\n",
       "    </tr>\n",
       "    <tr>\n",
       "      <th>524284</th>\n",
       "      <td>R87K</td>\n",
       "      <td>1.701475</td>\n",
       "      <td>13</td>\n",
       "      <td>1.339511</td>\n",
       "      <td>1111111111111000</td>\n",
       "      <td>1111111111111001</td>\n",
       "      <td>1</td>\n",
       "      <td>1</td>\n",
       "      <td>1</td>\n",
       "      <td>1</td>\n",
       "      <td>...</td>\n",
       "      <td>1</td>\n",
       "      <td>1</td>\n",
       "      <td>1</td>\n",
       "      <td>1</td>\n",
       "      <td>1</td>\n",
       "      <td>1</td>\n",
       "      <td>1</td>\n",
       "      <td>0</td>\n",
       "      <td>0</td>\n",
       "      <td>0</td>\n",
       "    </tr>\n",
       "    <tr>\n",
       "      <th>524285</th>\n",
       "      <td>R87K</td>\n",
       "      <td>1.329692</td>\n",
       "      <td>14</td>\n",
       "      <td>1.512926</td>\n",
       "      <td>1111111111111010</td>\n",
       "      <td>1111111111111011</td>\n",
       "      <td>1</td>\n",
       "      <td>1</td>\n",
       "      <td>1</td>\n",
       "      <td>1</td>\n",
       "      <td>...</td>\n",
       "      <td>1</td>\n",
       "      <td>1</td>\n",
       "      <td>1</td>\n",
       "      <td>1</td>\n",
       "      <td>1</td>\n",
       "      <td>1</td>\n",
       "      <td>1</td>\n",
       "      <td>0</td>\n",
       "      <td>1</td>\n",
       "      <td>0</td>\n",
       "    </tr>\n",
       "    <tr>\n",
       "      <th>524286</th>\n",
       "      <td>R87K</td>\n",
       "      <td>0.212675</td>\n",
       "      <td>14</td>\n",
       "      <td>0.949580</td>\n",
       "      <td>1111111111111100</td>\n",
       "      <td>1111111111111101</td>\n",
       "      <td>1</td>\n",
       "      <td>1</td>\n",
       "      <td>1</td>\n",
       "      <td>1</td>\n",
       "      <td>...</td>\n",
       "      <td>1</td>\n",
       "      <td>1</td>\n",
       "      <td>1</td>\n",
       "      <td>1</td>\n",
       "      <td>1</td>\n",
       "      <td>1</td>\n",
       "      <td>1</td>\n",
       "      <td>1</td>\n",
       "      <td>0</td>\n",
       "      <td>0</td>\n",
       "    </tr>\n",
       "    <tr>\n",
       "      <th>524287</th>\n",
       "      <td>R87K</td>\n",
       "      <td>1.058306</td>\n",
       "      <td>15</td>\n",
       "      <td>1.447545</td>\n",
       "      <td>1111111111111110</td>\n",
       "      <td>1111111111111111</td>\n",
       "      <td>1</td>\n",
       "      <td>1</td>\n",
       "      <td>1</td>\n",
       "      <td>1</td>\n",
       "      <td>...</td>\n",
       "      <td>1</td>\n",
       "      <td>1</td>\n",
       "      <td>1</td>\n",
       "      <td>1</td>\n",
       "      <td>1</td>\n",
       "      <td>1</td>\n",
       "      <td>1</td>\n",
       "      <td>1</td>\n",
       "      <td>1</td>\n",
       "      <td>0</td>\n",
       "    </tr>\n",
       "  </tbody>\n",
       "</table>\n",
       "<p>524288 rows × 22 columns</p>\n",
       "</div>"
      ],
      "text/plain": [
       "       Mutation     dfrac  Number of mutations  dfrac_sem            source  \\\n",
       "0          N26D -0.893647                    0   0.331148  0000000000000000   \n",
       "1          N26D  0.239891                    1   0.767410  0000000000000001   \n",
       "2          N26D -0.022250                    1   0.557066  0000000000000010   \n",
       "3          N26D -0.899670                    2   0.552329  0000000000000011   \n",
       "4          N26D -0.477311                    1   0.418194  0000000000000100   \n",
       "...         ...       ...                  ...        ...               ...   \n",
       "524283     R87K  1.790543                   14   1.050298  1111111111110110   \n",
       "524284     R87K  1.701475                   13   1.339511  1111111111111000   \n",
       "524285     R87K  1.329692                   14   1.512926  1111111111111010   \n",
       "524286     R87K  0.212675                   14   0.949580  1111111111111100   \n",
       "524287     R87K  1.058306                   15   1.447545  1111111111111110   \n",
       "\n",
       "                  target  pos1  pos2  pos3  pos4  ...  pos7  pos8  pos9  \\\n",
       "0       1000000000000000     0     0     0     0  ...     0     0     0   \n",
       "1       1000000000000001     0     0     0     0  ...     0     0     0   \n",
       "2       1000000000000010     0     0     0     0  ...     0     0     0   \n",
       "3       1000000000000011     0     0     0     0  ...     0     0     0   \n",
       "4       1000000000000100     0     0     0     0  ...     0     0     0   \n",
       "...                  ...   ...   ...   ...   ...  ...   ...   ...   ...   \n",
       "524283  1111111111110111     1     1     1     1  ...     1     1     1   \n",
       "524284  1111111111111001     1     1     1     1  ...     1     1     1   \n",
       "524285  1111111111111011     1     1     1     1  ...     1     1     1   \n",
       "524286  1111111111111101     1     1     1     1  ...     1     1     1   \n",
       "524287  1111111111111111     1     1     1     1  ...     1     1     1   \n",
       "\n",
       "        pos10  pos11  pos12  pos13  pos14  pos15  pos16  \n",
       "0           0      0      0      0      0      0      0  \n",
       "1           0      0      0      0      0      0      1  \n",
       "2           0      0      0      0      0      1      0  \n",
       "3           0      0      0      0      0      1      1  \n",
       "4           0      0      0      0      1      0      0  \n",
       "...       ...    ...    ...    ...    ...    ...    ...  \n",
       "524283      1      1      1      0      1      1      0  \n",
       "524284      1      1      1      1      0      0      0  \n",
       "524285      1      1      1      1      0      1      0  \n",
       "524286      1      1      1      1      1      0      0  \n",
       "524287      1      1      1      1      1      1      0  \n",
       "\n",
       "[524288 rows x 22 columns]"
      ]
     },
     "execution_count": 44,
     "metadata": {},
     "output_type": "execute_result"
    }
   ],
   "source": [
    "#read in data\n",
    "dfrac = pd.DataFrame(pd.read_csv('../../Enrichment_Inference/20220725_CH65_dfrac_MI.csv',dtype={'source':'str', 'target':'str'}))\n",
    "dfrac"
   ]
  },
  {
   "cell_type": "markdown",
   "metadata": {},
   "source": [
    "## change in enrichment by mutation position"
   ]
  },
  {
   "cell_type": "code",
   "execution_count": 45,
   "metadata": {},
   "outputs": [
    {
     "data": {
      "image/png": "[encoded data removed]",
      "text/plain": [
       "<Figure size 252x72 with 1 Axes>"
      ]
     },
     "metadata": {
      "needs_background": "light"
     },
     "output_type": "display_data"
    }
   ],
   "source": [
    "#enrichment\n",
    "mutation_names = ['N26D','S29R','Y35N','Y48C','D49Y','V98I','G31D','Y33H','M34I','H35N','N52H','G57D','L83V','S84N','R85G','R87K']\n",
    "colors = ['#121212','#808080','#a6cee3','#1f78b4','#b2df8a','#33a02c','#fb9a99','#e31a1c','#fdbf6f','#ff7f00','#cab2d6','#6a3d9a','#ffff99','gold','#b15928','#4f1530']\n",
    "fig, ax = plt.subplots(figsize=(3.5,1))\n",
    "ax = sns.violinplot(x=\"Mutation\", y=\"dfrac\", data=dfrac,scale='count',linewidth=0.25,palette=colors)\n",
    "plt.xlabel('Mutation position',fontsize=7,labelpad=0)\n",
    "plt.axhline(y=0,linestyle='dashed',linewidth=0.5,color='black')\n",
    "sns.scatterplot(x=\"Mutation\", y=\"dfrac\", data=dfrac[(dfrac['source']=='0000000000000000')],color='white',s=10)\n",
    "sns.scatterplot(x=\"Mutation\", y=\"dfrac\", data=dfrac[(dfrac['source']=='0000001010100000')],color='gray',s=10)\n",
    "sns.scatterplot(x=\"Mutation\", y=\"dfrac\", data=dfrac[(dfrac['target']=='1111111111111111')],color='black',s=10)\n",
    "ax.set_xticklabels(['N26D','S29R','Y35N','Y48C','D49Y','V98I','G31D','Y33H','M34I','H35N','N52H','G57D','L83V','S84N','R85G','R87K'],rotation=45)\n",
    "plt.tick_params(\n",
    "    axis='y',          # changes apply to the x-axis\n",
    "    which='both',\n",
    "    pad=0,\n",
    "    labelsize=7)\n",
    "# ax.set_xticks([])\n",
    "# ax.set_xticklabels([])\n",
    "plt.title('', fontsize=10)\n",
    "plt.xlabel('',fontsize=7,labelpad=0)\n",
    "plt.ylabel('',fontsize=7,labelpad=1)\n",
    "plt.savefig('images/CH65_dfrac_MI15.png',transparent=True, dpi=600,bbox_inches='tight')\n"
   ]
  },
  {
   "cell_type": "markdown",
   "metadata": {},
   "source": [
    "# change in enrichment by number of mutations"
   ]
  },
  {
   "cell_type": "code",
   "execution_count": 46,
   "metadata": {},
   "outputs": [
    {
     "data": {
      "image/png": "[encoded data removed]",
      "text/plain": [
       "<Figure size 252x72 with 1 Axes>"
      ]
     },
     "metadata": {
      "needs_background": "light"
     },
     "output_type": "display_data"
    }
   ],
   "source": [
    "##enrichment\n",
    "mutation_names = ['N26D','S29R','Y35N','Y48C','D49Y','V98I','G31D','Y33H','M34I','H35N','N52H','G57D','L83V','S84N','R85G','R87K']\n",
    "fig, ax = plt.subplots(figsize=(3.5,1))\n",
    "ax = sns.violinplot(x=\"Number of mutations\", y=\"dfrac\", data=dfrac,scale='count',linewidth=0.25,palette='plasma')\n",
    "plt.xlabel('Mutation position',fontsize=7,labelpad=0)\n",
    "plt.axhline(y=0,linestyle='dashed',linewidth=0.5,color='black')\n",
    "plt.tick_params(\n",
    "    axis='y',          # changes apply to the x-axis\n",
    "    which='both',\n",
    "    pad=0,\n",
    "    labelsize=7)\n",
    "# ax.set_xticks([])\n",
    "# ax.set_xticklabels([])\n",
    "plt.title('', fontsize=10)\n",
    "plt.xlabel('',fontsize=7,labelpad=0)\n",
    "plt.ylabel('',fontsize=7,labelpad=1)\n",
    "plt.savefig('images/CH65_dfrac_MI15_num.png',transparent=True, dpi=600,bbox_inches='tight')\n"
   ]
  },
  {
   "cell_type": "markdown",
   "metadata": {},
   "source": [
    "## do some statistics"
   ]
  },
  {
   "cell_type": "code",
   "execution_count": 47,
   "metadata": {},
   "outputs": [
    {
     "name": "stdout",
     "output_type": "stream",
     "text": [
      "N26D -25.27180216301211 1.4221146661890249e-139 32768 1 ***\n",
      "S29R 45.998430540045106 0.0 32768 1 ***\n",
      "Y35N 161.30065604167737 0.0 32768 1 ***\n",
      "Y48C 40.776495669762554 0.0 32768 1 ***\n",
      "D49Y 21.98688861388781 2.263897350297177e-106 32768 1 ***\n",
      "V98I -13.03828115955834 9.255885574427466e-39 32768 1 ***\n",
      "G31D -21.49428217499186 8.901662831712434e-102 32768 1 ***\n",
      "Y33H 76.22668411831589 0.0 32768 1 ***\n",
      "M34I -37.949739060122695 1.8955321847941506e-308 32768 1 ***\n",
      "H35N 16.413744654258963 2.656092890020252e-60 32768 1 ***\n",
      "N52H 11.25674563268382 2.4288523424587284e-29 32768 1 ***\n",
      "G57D -12.13897968019991 7.760122301158569e-34 32768 1 ***\n",
      "L83V 9.882347560900728 5.347528781831296e-23 32768 1 ***\n",
      "S84N 5.72161238873308 1.064360430462169e-08 32768 1 ***\n",
      "R85G -5.301709937778416 1.1546505938952782e-07 32768 1 ***\n",
      "R87K 43.496094315226586 0.0 32768 1 ***\n",
      "[-0.13354633227311508, 0.2500943694881154, 0.9507081308185118, 0.2172449981576922, 0.11978544695063181, -0.0694482524749108, -0.13485927323292232, 0.5074162883208607, -0.24529080930901986, 0.10650304329895938, 0.06213624100465221, -0.06719280148679213, 0.053853932777798104, 0.031175528661171202, -0.029264435911233695, 0.23871715603661847]\n",
      "[0.005284400827914595, 0.005437019623319308, 0.005894012796655115, 0.005327701524846537, 0.005448039922982575, 0.005326488332704684, 0.006274192928844501, 0.006656675338694652, 0.006463570379770268, 0.00648864994200604, 0.005519911618526797, 0.005535292360394294, 0.005449508069405483, 0.005448731326603252, 0.005519810826070281, 0.005488243480129001]\n"
     ]
    }
   ],
   "source": [
    "#do a two-sided t-test to see if mean is different from zero\n",
    "dFrac_mean = []\n",
    "dFrac_sem = []\n",
    "#Exp\n",
    "mutation_names = ['N26D','S29R','Y35N','Y48C','D49Y','V98I','G31D','Y33H','M34I','H35N','N52H','G57D','L83V','S84N','R85G','R87K']\n",
    "for mutation_name in mutation_names:\n",
    "    vals_1 = np.array(dfrac['dfrac'][dfrac['Mutation']==mutation_name])\n",
    "    mean = np.nanmean(vals_1)\n",
    "    sem = st.sem(vals_1, nan_policy='omit')\n",
    "    dFrac_mean.append(mean)\n",
    "    dFrac_sem.append(sem)\n",
    "    vals_2 = 0\n",
    "    n1 = len(np.where(~np.isnan(vals_1))[0])\n",
    "    n2 = len(np.where(~np.isnan(vals_2))[0])\n",
    "    tstat,pval = st.ttest_1samp(vals_1,vals_2,nan_policy='omit')\n",
    "    if pval < 0.0001/16:\n",
    "        lab = '***'\n",
    "    elif pval < 0.001/16:\n",
    "        lab = '**'\n",
    "    elif pval < 0.01/16:\n",
    "        lab = '*'\n",
    "    else:\n",
    "        lab = 'ns'\n",
    "    print(mutation_name,tstat,pval,n1,n2,lab)\n",
    "print(dFrac_mean)\n",
    "print(dFrac_sem)"
   ]
  },
  {
   "cell_type": "markdown",
   "metadata": {},
   "source": [
    "# change in enrichment plots -- SI-G189D"
   ]
  },
  {
   "cell_type": "code",
   "execution_count": 48,
   "metadata": {},
   "outputs": [],
   "source": [
    "import matplotlib\n",
    "import matplotlib.colors as mcolors\n",
    "plt.rcParams.update({'font.size': 7})\n",
    "plt.rcParams['font.sans-serif'] = \"Arial\"\n",
    "plt.rcParams['font.family'] = \"sans-serif\"\n",
    "plt.rcParams['axes.linewidth'] = 0.5\n",
    "plt.rcParams[\"xtick.major.size\"] = 2\n",
    "plt.rcParams[\"ytick.major.size\"] = 2\n",
    "plt.rcParams[\"xtick.major.width\"] = 0.5\n",
    "plt.rcParams[\"ytick.major.width\"] = 0.5"
   ]
  },
  {
   "cell_type": "code",
   "execution_count": 50,
   "metadata": {},
   "outputs": [
    {
     "data": {
      "text/html": [
       "<div>\n",
       "<style scoped>\n",
       "    .dataframe tbody tr th:only-of-type {\n",
       "        vertical-align: middle;\n",
       "    }\n",
       "\n",
       "    .dataframe tbody tr th {\n",
       "        vertical-align: top;\n",
       "    }\n",
       "\n",
       "    .dataframe thead th {\n",
       "        text-align: right;\n",
       "    }\n",
       "</style>\n",
       "<table border=\"1\" class=\"dataframe\">\n",
       "  <thead>\n",
       "    <tr style=\"text-align: right;\">\n",
       "      <th></th>\n",
       "      <th>Mutation</th>\n",
       "      <th>dfrac</th>\n",
       "      <th>Number of mutations</th>\n",
       "      <th>dfrac_sem</th>\n",
       "      <th>source</th>\n",
       "      <th>target</th>\n",
       "      <th>pos1</th>\n",
       "      <th>pos2</th>\n",
       "      <th>pos3</th>\n",
       "      <th>pos4</th>\n",
       "      <th>...</th>\n",
       "      <th>pos7</th>\n",
       "      <th>pos8</th>\n",
       "      <th>pos9</th>\n",
       "      <th>pos10</th>\n",
       "      <th>pos11</th>\n",
       "      <th>pos12</th>\n",
       "      <th>pos13</th>\n",
       "      <th>pos14</th>\n",
       "      <th>pos15</th>\n",
       "      <th>pos16</th>\n",
       "    </tr>\n",
       "  </thead>\n",
       "  <tbody>\n",
       "    <tr>\n",
       "      <th>0</th>\n",
       "      <td>N26D</td>\n",
       "      <td>-0.062783</td>\n",
       "      <td>0</td>\n",
       "      <td>1.576161</td>\n",
       "      <td>0000000000000000</td>\n",
       "      <td>1000000000000000</td>\n",
       "      <td>0</td>\n",
       "      <td>0</td>\n",
       "      <td>0</td>\n",
       "      <td>0</td>\n",
       "      <td>...</td>\n",
       "      <td>0</td>\n",
       "      <td>0</td>\n",
       "      <td>0</td>\n",
       "      <td>0</td>\n",
       "      <td>0</td>\n",
       "      <td>0</td>\n",
       "      <td>0</td>\n",
       "      <td>0</td>\n",
       "      <td>0</td>\n",
       "      <td>0</td>\n",
       "    </tr>\n",
       "    <tr>\n",
       "      <th>1</th>\n",
       "      <td>N26D</td>\n",
       "      <td>-0.661434</td>\n",
       "      <td>1</td>\n",
       "      <td>0.345522</td>\n",
       "      <td>0000000000000001</td>\n",
       "      <td>1000000000000001</td>\n",
       "      <td>0</td>\n",
       "      <td>0</td>\n",
       "      <td>0</td>\n",
       "      <td>0</td>\n",
       "      <td>...</td>\n",
       "      <td>0</td>\n",
       "      <td>0</td>\n",
       "      <td>0</td>\n",
       "      <td>0</td>\n",
       "      <td>0</td>\n",
       "      <td>0</td>\n",
       "      <td>0</td>\n",
       "      <td>0</td>\n",
       "      <td>0</td>\n",
       "      <td>1</td>\n",
       "    </tr>\n",
       "    <tr>\n",
       "      <th>2</th>\n",
       "      <td>N26D</td>\n",
       "      <td>-0.354391</td>\n",
       "      <td>1</td>\n",
       "      <td>0.354391</td>\n",
       "      <td>0000000000000010</td>\n",
       "      <td>1000000000000010</td>\n",
       "      <td>0</td>\n",
       "      <td>0</td>\n",
       "      <td>0</td>\n",
       "      <td>0</td>\n",
       "      <td>...</td>\n",
       "      <td>0</td>\n",
       "      <td>0</td>\n",
       "      <td>0</td>\n",
       "      <td>0</td>\n",
       "      <td>0</td>\n",
       "      <td>0</td>\n",
       "      <td>0</td>\n",
       "      <td>0</td>\n",
       "      <td>1</td>\n",
       "      <td>0</td>\n",
       "    </tr>\n",
       "    <tr>\n",
       "      <th>3</th>\n",
       "      <td>N26D</td>\n",
       "      <td>0.946899</td>\n",
       "      <td>2</td>\n",
       "      <td>1.294469</td>\n",
       "      <td>0000000000000011</td>\n",
       "      <td>1000000000000011</td>\n",
       "      <td>0</td>\n",
       "      <td>0</td>\n",
       "      <td>0</td>\n",
       "      <td>0</td>\n",
       "      <td>...</td>\n",
       "      <td>0</td>\n",
       "      <td>0</td>\n",
       "      <td>0</td>\n",
       "      <td>0</td>\n",
       "      <td>0</td>\n",
       "      <td>0</td>\n",
       "      <td>0</td>\n",
       "      <td>0</td>\n",
       "      <td>1</td>\n",
       "      <td>1</td>\n",
       "    </tr>\n",
       "    <tr>\n",
       "      <th>4</th>\n",
       "      <td>N26D</td>\n",
       "      <td>-0.325559</td>\n",
       "      <td>1</td>\n",
       "      <td>1.753752</td>\n",
       "      <td>0000000000000100</td>\n",
       "      <td>1000000000000100</td>\n",
       "      <td>0</td>\n",
       "      <td>0</td>\n",
       "      <td>0</td>\n",
       "      <td>0</td>\n",
       "      <td>...</td>\n",
       "      <td>0</td>\n",
       "      <td>0</td>\n",
       "      <td>0</td>\n",
       "      <td>0</td>\n",
       "      <td>0</td>\n",
       "      <td>0</td>\n",
       "      <td>0</td>\n",
       "      <td>1</td>\n",
       "      <td>0</td>\n",
       "      <td>0</td>\n",
       "    </tr>\n",
       "    <tr>\n",
       "      <th>...</th>\n",
       "      <td>...</td>\n",
       "      <td>...</td>\n",
       "      <td>...</td>\n",
       "      <td>...</td>\n",
       "      <td>...</td>\n",
       "      <td>...</td>\n",
       "      <td>...</td>\n",
       "      <td>...</td>\n",
       "      <td>...</td>\n",
       "      <td>...</td>\n",
       "      <td>...</td>\n",
       "      <td>...</td>\n",
       "      <td>...</td>\n",
       "      <td>...</td>\n",
       "      <td>...</td>\n",
       "      <td>...</td>\n",
       "      <td>...</td>\n",
       "      <td>...</td>\n",
       "      <td>...</td>\n",
       "      <td>...</td>\n",
       "      <td>...</td>\n",
       "    </tr>\n",
       "    <tr>\n",
       "      <th>524283</th>\n",
       "      <td>R87K</td>\n",
       "      <td>15.827861</td>\n",
       "      <td>14</td>\n",
       "      <td>1.610019</td>\n",
       "      <td>1111111111110110</td>\n",
       "      <td>1111111111110111</td>\n",
       "      <td>1</td>\n",
       "      <td>1</td>\n",
       "      <td>1</td>\n",
       "      <td>1</td>\n",
       "      <td>...</td>\n",
       "      <td>1</td>\n",
       "      <td>1</td>\n",
       "      <td>1</td>\n",
       "      <td>1</td>\n",
       "      <td>1</td>\n",
       "      <td>1</td>\n",
       "      <td>0</td>\n",
       "      <td>1</td>\n",
       "      <td>1</td>\n",
       "      <td>0</td>\n",
       "    </tr>\n",
       "    <tr>\n",
       "      <th>524284</th>\n",
       "      <td>R87K</td>\n",
       "      <td>4.537891</td>\n",
       "      <td>13</td>\n",
       "      <td>4.717360</td>\n",
       "      <td>1111111111111000</td>\n",
       "      <td>1111111111111001</td>\n",
       "      <td>1</td>\n",
       "      <td>1</td>\n",
       "      <td>1</td>\n",
       "      <td>1</td>\n",
       "      <td>...</td>\n",
       "      <td>1</td>\n",
       "      <td>1</td>\n",
       "      <td>1</td>\n",
       "      <td>1</td>\n",
       "      <td>1</td>\n",
       "      <td>1</td>\n",
       "      <td>1</td>\n",
       "      <td>0</td>\n",
       "      <td>0</td>\n",
       "      <td>0</td>\n",
       "    </tr>\n",
       "    <tr>\n",
       "      <th>524285</th>\n",
       "      <td>R87K</td>\n",
       "      <td>21.287489</td>\n",
       "      <td>14</td>\n",
       "      <td>2.372904</td>\n",
       "      <td>1111111111111010</td>\n",
       "      <td>1111111111111011</td>\n",
       "      <td>1</td>\n",
       "      <td>1</td>\n",
       "      <td>1</td>\n",
       "      <td>1</td>\n",
       "      <td>...</td>\n",
       "      <td>1</td>\n",
       "      <td>1</td>\n",
       "      <td>1</td>\n",
       "      <td>1</td>\n",
       "      <td>1</td>\n",
       "      <td>1</td>\n",
       "      <td>1</td>\n",
       "      <td>0</td>\n",
       "      <td>1</td>\n",
       "      <td>0</td>\n",
       "    </tr>\n",
       "    <tr>\n",
       "      <th>524286</th>\n",
       "      <td>R87K</td>\n",
       "      <td>5.981373</td>\n",
       "      <td>14</td>\n",
       "      <td>4.800557</td>\n",
       "      <td>1111111111111100</td>\n",
       "      <td>1111111111111101</td>\n",
       "      <td>1</td>\n",
       "      <td>1</td>\n",
       "      <td>1</td>\n",
       "      <td>1</td>\n",
       "      <td>...</td>\n",
       "      <td>1</td>\n",
       "      <td>1</td>\n",
       "      <td>1</td>\n",
       "      <td>1</td>\n",
       "      <td>1</td>\n",
       "      <td>1</td>\n",
       "      <td>1</td>\n",
       "      <td>1</td>\n",
       "      <td>0</td>\n",
       "      <td>0</td>\n",
       "    </tr>\n",
       "    <tr>\n",
       "      <th>524287</th>\n",
       "      <td>R87K</td>\n",
       "      <td>12.109797</td>\n",
       "      <td>15</td>\n",
       "      <td>9.448078</td>\n",
       "      <td>1111111111111110</td>\n",
       "      <td>1111111111111111</td>\n",
       "      <td>1</td>\n",
       "      <td>1</td>\n",
       "      <td>1</td>\n",
       "      <td>1</td>\n",
       "      <td>...</td>\n",
       "      <td>1</td>\n",
       "      <td>1</td>\n",
       "      <td>1</td>\n",
       "      <td>1</td>\n",
       "      <td>1</td>\n",
       "      <td>1</td>\n",
       "      <td>1</td>\n",
       "      <td>1</td>\n",
       "      <td>1</td>\n",
       "      <td>0</td>\n",
       "    </tr>\n",
       "  </tbody>\n",
       "</table>\n",
       "<p>524288 rows × 22 columns</p>\n",
       "</div>"
      ],
      "text/plain": [
       "       Mutation      dfrac  Number of mutations  dfrac_sem            source  \\\n",
       "0          N26D  -0.062783                    0   1.576161  0000000000000000   \n",
       "1          N26D  -0.661434                    1   0.345522  0000000000000001   \n",
       "2          N26D  -0.354391                    1   0.354391  0000000000000010   \n",
       "3          N26D   0.946899                    2   1.294469  0000000000000011   \n",
       "4          N26D  -0.325559                    1   1.753752  0000000000000100   \n",
       "...         ...        ...                  ...        ...               ...   \n",
       "524283     R87K  15.827861                   14   1.610019  1111111111110110   \n",
       "524284     R87K   4.537891                   13   4.717360  1111111111111000   \n",
       "524285     R87K  21.287489                   14   2.372904  1111111111111010   \n",
       "524286     R87K   5.981373                   14   4.800557  1111111111111100   \n",
       "524287     R87K  12.109797                   15   9.448078  1111111111111110   \n",
       "\n",
       "                  target  pos1  pos2  pos3  pos4  ...  pos7  pos8  pos9  \\\n",
       "0       1000000000000000     0     0     0     0  ...     0     0     0   \n",
       "1       1000000000000001     0     0     0     0  ...     0     0     0   \n",
       "2       1000000000000010     0     0     0     0  ...     0     0     0   \n",
       "3       1000000000000011     0     0     0     0  ...     0     0     0   \n",
       "4       1000000000000100     0     0     0     0  ...     0     0     0   \n",
       "...                  ...   ...   ...   ...   ...  ...   ...   ...   ...   \n",
       "524283  1111111111110111     1     1     1     1  ...     1     1     1   \n",
       "524284  1111111111111001     1     1     1     1  ...     1     1     1   \n",
       "524285  1111111111111011     1     1     1     1  ...     1     1     1   \n",
       "524286  1111111111111101     1     1     1     1  ...     1     1     1   \n",
       "524287  1111111111111111     1     1     1     1  ...     1     1     1   \n",
       "\n",
       "        pos10  pos11  pos12  pos13  pos14  pos15  pos16  \n",
       "0           0      0      0      0      0      0      0  \n",
       "1           0      0      0      0      0      0      1  \n",
       "2           0      0      0      0      0      1      0  \n",
       "3           0      0      0      0      0      1      1  \n",
       "4           0      0      0      0      1      0      0  \n",
       "...       ...    ...    ...    ...    ...    ...    ...  \n",
       "524283      1      1      1      0      1      1      0  \n",
       "524284      1      1      1      1      0      0      0  \n",
       "524285      1      1      1      1      0      1      0  \n",
       "524286      1      1      1      1      1      0      0  \n",
       "524287      1      1      1      1      1      1      0  \n",
       "\n",
       "[524288 rows x 22 columns]"
      ]
     },
     "execution_count": 50,
     "metadata": {},
     "output_type": "execute_result"
    }
   ],
   "source": [
    "#read in data\n",
    "dfracSI = pd.DataFrame(pd.read_csv('../../Enrichment_Inference/20220725_CH65_dfrac_SI.csv',dtype={'source':'str', 'target':'str'}))\n",
    "dfracSI"
   ]
  },
  {
   "cell_type": "markdown",
   "metadata": {},
   "source": [
    "## change in enrichment by mutation position"
   ]
  },
  {
   "cell_type": "code",
   "execution_count": 51,
   "metadata": {},
   "outputs": [
    {
     "data": {
      "image/png": "[encoded data removed]",
      "text/plain": [
       "<Figure size 252x72 with 1 Axes>"
      ]
     },
     "metadata": {
      "needs_background": "light"
     },
     "output_type": "display_data"
    }
   ],
   "source": [
    "#enrichment\n",
    "mutation_names = ['N26D','S29R','Y35N','Y48C','D49Y','V98I','G31D','Y33H','M34I','H35N','N52H','G57D','L83V','S84N','R85G','R87K']\n",
    "colors = ['#121212','#808080','#a6cee3','#1f78b4','#b2df8a','#33a02c','#fb9a99','#e31a1c','#fdbf6f','#ff7f00','#cab2d6','#6a3d9a','#ffff99','gold','#b15928','#4f1530']\n",
    "fig, ax = plt.subplots(figsize=(3.5,1))\n",
    "ax = sns.violinplot(x=\"Mutation\", y=\"dfrac\", data=dfracSI,scale='count',linewidth=0.25,palette=colors)\n",
    "plt.xlabel('Mutation position',fontsize=7,labelpad=0)\n",
    "plt.axhline(y=0,linestyle='dashed',linewidth=0.5,color='black')\n",
    "sns.scatterplot(x=\"Mutation\", y=\"dfrac\", data=dfracSI[(dfracSI['source']=='0000000000000000')],color='white',s=10)\n",
    "sns.scatterplot(x=\"Mutation\", y=\"dfrac\", data=dfracSI[(dfracSI['source']=='0000001010100000')],color='gray',s=10)\n",
    "sns.scatterplot(x=\"Mutation\", y=\"dfrac\", data=dfracSI[(dfracSI['target']=='1111111111111111')],color='black',s=10)\n",
    "ax.set_xticklabels(['N26D','S29R','Y35N','Y48C','D49Y','V98I','G31D','Y33H','M34I','H35N','N52H','G57D','L83V','S84N','R85G','R87K'],rotation=45)\n",
    "plt.tick_params(\n",
    "    axis='y',          # changes apply to the x-axis\n",
    "    which='both',\n",
    "    pad=0,\n",
    "    labelsize=7)\n",
    "# ax.set_xticks([])\n",
    "# ax.set_xticklabels([])\n",
    "plt.title('', fontsize=10)\n",
    "plt.xlabel('',fontsize=7,labelpad=0)\n",
    "plt.ylabel('',fontsize=7,labelpad=1)\n",
    "plt.savefig('images/CH65_dfrac_SI_G189D.png',transparent=True, dpi=600,bbox_inches='tight')\n"
   ]
  },
  {
   "cell_type": "markdown",
   "metadata": {},
   "source": [
    "## change in enrichment by number of mutations -- SI-G189D"
   ]
  },
  {
   "cell_type": "code",
   "execution_count": 52,
   "metadata": {},
   "outputs": [
    {
     "data": {
      "image/png": "[encoded data removed]",
      "text/plain": [
       "<Figure size 252x72 with 1 Axes>"
      ]
     },
     "metadata": {
      "needs_background": "light"
     },
     "output_type": "display_data"
    }
   ],
   "source": [
    "##enrichment\n",
    "mutation_names = ['N26D','S29R','Y35N','Y48C','D49Y','V98I','G31D','Y33H','M34I','H35N','N52H','G57D','L83V','S84N','R85G','R87K']\n",
    "fig, ax = plt.subplots(figsize=(3.5,1))\n",
    "ax = sns.violinplot(x=\"Number of mutations\", y=\"dfrac\", data=dfracSI,scale='count',linewidth=0.25,palette='plasma')\n",
    "plt.xlabel('Mutation position',fontsize=7,labelpad=0)\n",
    "plt.axhline(y=0,linestyle='dashed',linewidth=0.5,color='black')\n",
    "plt.tick_params(\n",
    "    axis='y',          # changes apply to the x-axis\n",
    "    which='both',\n",
    "    pad=0,\n",
    "    labelsize=7)\n",
    "# ax.set_xticks([])\n",
    "# ax.set_xticklabels([])\n",
    "plt.title('', fontsize=10)\n",
    "plt.xlabel('',fontsize=7,labelpad=0)\n",
    "plt.ylabel('',fontsize=7,labelpad=1)\n",
    "plt.savefig('images/CH65_dfrac_SIG189D_num.png',transparent=True, dpi=600,bbox_inches='tight')\n"
   ]
  },
  {
   "cell_type": "markdown",
   "metadata": {},
   "source": [
    "## do some statistics"
   ]
  },
  {
   "cell_type": "code",
   "execution_count": 53,
   "metadata": {},
   "outputs": [
    {
     "name": "stdout",
     "output_type": "stream",
     "text": [
      "N26D -25.592741818370214 4.692327339982724e-143 32768 1 ***\n",
      "S29R 133.0602804908117 0.0 32768 1 ***\n",
      "Y35N 106.0358782118406 0.0 32768 1 ***\n",
      "Y48C 14.365274029869578 1.1848931041924979e-46 32768 1 ***\n",
      "D49Y 75.63398642602543 0.0 32768 1 ***\n",
      "V98I -21.183560398946575 6.248655734601153e-99 32768 1 ***\n",
      "G31D 204.1533101969345 0.0 32768 1 ***\n",
      "Y33H 148.38966072344633 0.0 32768 1 ***\n",
      "M34I 92.97257105699946 0.0 32768 1 ***\n",
      "H35N 125.92652346184377 0.0 32768 1 ***\n",
      "N52H 241.31255629052785 0.0 32768 1 ***\n",
      "G57D 98.42230749160137 0.0 32768 1 ***\n",
      "L83V -12.8081646467557 1.8155059995246948e-37 32768 1 ***\n",
      "S84N 10.502117721915452 9.281422376136758e-26 32768 1 ***\n",
      "R85G 71.14119353533299 0.0 32768 1 ***\n",
      "R87K 152.95491208877837 0.0 32768 1 ***\n",
      "[-0.6816491749794507, 4.717645996831184, 6.506681062037148, 1.3701605442818843, 7.786291534859937, -0.5398231898714729, 13.539663495549682, 9.88578262435525, 3.771957444893401, 7.104271916597667, 26.163970970786533, 3.345029286680242, -0.34663862449930516, 0.2802086525220678, 3.3318035969835, 8.280801822956414]\n",
      "[0.026634472375686204, 0.03545495304406002, 0.061363013837995195, 0.09538004923769099, 0.10294699384218489, 0.025483118970799516, 0.06632105784857847, 0.06662042743516593, 0.04057064790195913, 0.056416009282987054, 0.10842357883477251, 0.03398649525632877, 0.027063879490892437, 0.026681157071524547, 0.046833675841110624, 0.05413884202783926]\n"
     ]
    }
   ],
   "source": [
    "#do a two-sided t-test to see if mean is different from zero\n",
    "dFracSI_mean = []\n",
    "dFracSI_sem = []\n",
    "#Exp\n",
    "mutation_names = ['N26D','S29R','Y35N','Y48C','D49Y','V98I','G31D','Y33H','M34I','H35N','N52H','G57D','L83V','S84N','R85G','R87K']\n",
    "for mutation_name in mutation_names:\n",
    "    vals_1 = np.array(dfracSI['dfrac'][dfracSI['Mutation']==mutation_name])\n",
    "    mean = np.nanmean(vals_1)\n",
    "    sem = st.sem(vals_1, nan_policy='omit')\n",
    "    dFracSI_mean.append(mean)\n",
    "    dFracSI_sem.append(sem)\n",
    "    vals_2 = 0\n",
    "    n1 = len(np.where(~np.isnan(vals_1))[0])\n",
    "    n2 = len(np.where(~np.isnan(vals_2))[0])\n",
    "    tstat,pval = st.ttest_1samp(vals_1,vals_2,nan_policy='omit')\n",
    "    if pval < 0.0001/16:\n",
    "        lab = '***'\n",
    "    elif pval < 0.001/16:\n",
    "        lab = '**'\n",
    "    elif pval < 0.01/16:\n",
    "        lab = '*'\n",
    "    else:\n",
    "        lab = 'ns'\n",
    "    print(mutation_name,tstat,pval,n1,n2,lab)\n",
    "print(dFracSI_mean)\n",
    "print(dFracSI_sem)"
   ]
  },
  {
   "cell_type": "markdown",
   "metadata": {},
   "source": [
    "## CH65: correlation between mean change in enrichment and mean change in binding for each site"
   ]
  },
  {
   "cell_type": "code",
   "execution_count": 54,
   "metadata": {},
   "outputs": [
    {
     "data": {
      "text/html": [
       "<div>\n",
       "<style scoped>\n",
       "    .dataframe tbody tr th:only-of-type {\n",
       "        vertical-align: middle;\n",
       "    }\n",
       "\n",
       "    .dataframe tbody tr th {\n",
       "        vertical-align: top;\n",
       "    }\n",
       "\n",
       "    .dataframe thead th {\n",
       "        text-align: right;\n",
       "    }\n",
       "</style>\n",
       "<table border=\"1\" class=\"dataframe\">\n",
       "  <thead>\n",
       "    <tr style=\"text-align: right;\">\n",
       "      <th></th>\n",
       "      <th>Unnamed: 0</th>\n",
       "      <th>mutation_names</th>\n",
       "      <th>MA90_dKd_mean</th>\n",
       "      <th>MA90_dKd_sem</th>\n",
       "      <th>SI06_dKd_mean</th>\n",
       "      <th>SI06_dKd_sem</th>\n",
       "      <th>G189E_dKd_mean</th>\n",
       "      <th>G189E_dKd_sem</th>\n",
       "      <th>dFrac_MI_mean</th>\n",
       "      <th>dFrac_MI_sem</th>\n",
       "      <th>dFrac_SI_mean</th>\n",
       "      <th>dFrac_SI_sem</th>\n",
       "      <th>sum</th>\n",
       "      <th>total_err</th>\n",
       "    </tr>\n",
       "  </thead>\n",
       "  <tbody>\n",
       "    <tr>\n",
       "      <th>0</th>\n",
       "      <td>0</td>\n",
       "      <td>N26D</td>\n",
       "      <td>-0.005894</td>\n",
       "      <td>0.000337</td>\n",
       "      <td>0.125206</td>\n",
       "      <td>0.001299</td>\n",
       "      <td>-0.023788</td>\n",
       "      <td>0.001398</td>\n",
       "      <td>-0.133546</td>\n",
       "      <td>0.005284</td>\n",
       "      <td>-0.681649</td>\n",
       "      <td>0.026634</td>\n",
       "      <td>0.154888</td>\n",
       "      <td>0.001938</td>\n",
       "    </tr>\n",
       "    <tr>\n",
       "      <th>1</th>\n",
       "      <td>1</td>\n",
       "      <td>S29R</td>\n",
       "      <td>0.051353</td>\n",
       "      <td>0.000379</td>\n",
       "      <td>0.142751</td>\n",
       "      <td>0.001495</td>\n",
       "      <td>0.282864</td>\n",
       "      <td>0.002014</td>\n",
       "      <td>0.250094</td>\n",
       "      <td>0.005437</td>\n",
       "      <td>4.717646</td>\n",
       "      <td>0.035455</td>\n",
       "      <td>0.476967</td>\n",
       "      <td>0.002537</td>\n",
       "    </tr>\n",
       "    <tr>\n",
       "      <th>2</th>\n",
       "      <td>2</td>\n",
       "      <td>Y35N</td>\n",
       "      <td>0.475922</td>\n",
       "      <td>0.001182</td>\n",
       "      <td>0.350730</td>\n",
       "      <td>0.003493</td>\n",
       "      <td>0.948471</td>\n",
       "      <td>0.004559</td>\n",
       "      <td>0.950708</td>\n",
       "      <td>0.005894</td>\n",
       "      <td>6.506681</td>\n",
       "      <td>0.061363</td>\n",
       "      <td>1.775124</td>\n",
       "      <td>0.005864</td>\n",
       "    </tr>\n",
       "    <tr>\n",
       "      <th>3</th>\n",
       "      <td>3</td>\n",
       "      <td>Y48C</td>\n",
       "      <td>-0.009082</td>\n",
       "      <td>0.001902</td>\n",
       "      <td>0.045927</td>\n",
       "      <td>0.003476</td>\n",
       "      <td>-0.019971</td>\n",
       "      <td>0.004269</td>\n",
       "      <td>0.217245</td>\n",
       "      <td>0.005328</td>\n",
       "      <td>1.370161</td>\n",
       "      <td>0.095380</td>\n",
       "      <td>0.074980</td>\n",
       "      <td>0.005825</td>\n",
       "    </tr>\n",
       "    <tr>\n",
       "      <th>4</th>\n",
       "      <td>4</td>\n",
       "      <td>D49Y</td>\n",
       "      <td>0.245354</td>\n",
       "      <td>0.001940</td>\n",
       "      <td>0.423951</td>\n",
       "      <td>0.004313</td>\n",
       "      <td>0.608515</td>\n",
       "      <td>0.004755</td>\n",
       "      <td>0.119785</td>\n",
       "      <td>0.005448</td>\n",
       "      <td>7.786292</td>\n",
       "      <td>0.102947</td>\n",
       "      <td>1.277820</td>\n",
       "      <td>0.006706</td>\n",
       "    </tr>\n",
       "    <tr>\n",
       "      <th>5</th>\n",
       "      <td>5</td>\n",
       "      <td>V98I</td>\n",
       "      <td>0.013609</td>\n",
       "      <td>0.000327</td>\n",
       "      <td>0.041254</td>\n",
       "      <td>0.000740</td>\n",
       "      <td>-0.017201</td>\n",
       "      <td>0.001353</td>\n",
       "      <td>-0.069448</td>\n",
       "      <td>0.005326</td>\n",
       "      <td>-0.539823</td>\n",
       "      <td>0.025483</td>\n",
       "      <td>0.072064</td>\n",
       "      <td>0.001577</td>\n",
       "    </tr>\n",
       "    <tr>\n",
       "      <th>6</th>\n",
       "      <td>6</td>\n",
       "      <td>G31D</td>\n",
       "      <td>0.150576</td>\n",
       "      <td>0.000671</td>\n",
       "      <td>0.160146</td>\n",
       "      <td>0.001502</td>\n",
       "      <td>0.556176</td>\n",
       "      <td>0.002757</td>\n",
       "      <td>-0.134859</td>\n",
       "      <td>0.006274</td>\n",
       "      <td>13.539663</td>\n",
       "      <td>0.066321</td>\n",
       "      <td>0.866897</td>\n",
       "      <td>0.003210</td>\n",
       "    </tr>\n",
       "    <tr>\n",
       "      <th>7</th>\n",
       "      <td>7</td>\n",
       "      <td>Y33H</td>\n",
       "      <td>0.245317</td>\n",
       "      <td>0.000842</td>\n",
       "      <td>0.262465</td>\n",
       "      <td>0.002520</td>\n",
       "      <td>0.381849</td>\n",
       "      <td>0.002535</td>\n",
       "      <td>0.507416</td>\n",
       "      <td>0.006657</td>\n",
       "      <td>9.885783</td>\n",
       "      <td>0.066620</td>\n",
       "      <td>0.889631</td>\n",
       "      <td>0.003672</td>\n",
       "    </tr>\n",
       "    <tr>\n",
       "      <th>8</th>\n",
       "      <td>8</td>\n",
       "      <td>M34I</td>\n",
       "      <td>0.016195</td>\n",
       "      <td>0.000453</td>\n",
       "      <td>0.114124</td>\n",
       "      <td>0.001381</td>\n",
       "      <td>0.109564</td>\n",
       "      <td>0.001620</td>\n",
       "      <td>-0.245291</td>\n",
       "      <td>0.006464</td>\n",
       "      <td>3.771957</td>\n",
       "      <td>0.040571</td>\n",
       "      <td>0.239883</td>\n",
       "      <td>0.002176</td>\n",
       "    </tr>\n",
       "    <tr>\n",
       "      <th>9</th>\n",
       "      <td>9</td>\n",
       "      <td>H35N</td>\n",
       "      <td>0.164149</td>\n",
       "      <td>0.000766</td>\n",
       "      <td>0.328146</td>\n",
       "      <td>0.003042</td>\n",
       "      <td>0.347584</td>\n",
       "      <td>0.003106</td>\n",
       "      <td>0.106503</td>\n",
       "      <td>0.006489</td>\n",
       "      <td>7.104272</td>\n",
       "      <td>0.056416</td>\n",
       "      <td>0.839879</td>\n",
       "      <td>0.004415</td>\n",
       "    </tr>\n",
       "    <tr>\n",
       "      <th>10</th>\n",
       "      <td>10</td>\n",
       "      <td>N52H</td>\n",
       "      <td>0.357882</td>\n",
       "      <td>0.001018</td>\n",
       "      <td>1.351933</td>\n",
       "      <td>0.005153</td>\n",
       "      <td>1.258721</td>\n",
       "      <td>0.004545</td>\n",
       "      <td>0.062136</td>\n",
       "      <td>0.005520</td>\n",
       "      <td>26.163971</td>\n",
       "      <td>0.108424</td>\n",
       "      <td>2.968535</td>\n",
       "      <td>0.006946</td>\n",
       "    </tr>\n",
       "    <tr>\n",
       "      <th>11</th>\n",
       "      <td>11</td>\n",
       "      <td>G57D</td>\n",
       "      <td>0.011359</td>\n",
       "      <td>0.000434</td>\n",
       "      <td>0.045892</td>\n",
       "      <td>0.000928</td>\n",
       "      <td>0.081028</td>\n",
       "      <td>0.001542</td>\n",
       "      <td>-0.067193</td>\n",
       "      <td>0.005535</td>\n",
       "      <td>3.345029</td>\n",
       "      <td>0.033986</td>\n",
       "      <td>0.138280</td>\n",
       "      <td>0.001852</td>\n",
       "    </tr>\n",
       "    <tr>\n",
       "      <th>12</th>\n",
       "      <td>12</td>\n",
       "      <td>L83V</td>\n",
       "      <td>0.027724</td>\n",
       "      <td>0.000358</td>\n",
       "      <td>0.008645</td>\n",
       "      <td>0.000762</td>\n",
       "      <td>-0.001074</td>\n",
       "      <td>0.001384</td>\n",
       "      <td>0.053854</td>\n",
       "      <td>0.005450</td>\n",
       "      <td>-0.346639</td>\n",
       "      <td>0.027064</td>\n",
       "      <td>0.037443</td>\n",
       "      <td>0.001620</td>\n",
       "    </tr>\n",
       "    <tr>\n",
       "      <th>13</th>\n",
       "      <td>13</td>\n",
       "      <td>S84N</td>\n",
       "      <td>0.006495</td>\n",
       "      <td>0.000336</td>\n",
       "      <td>0.017232</td>\n",
       "      <td>0.000696</td>\n",
       "      <td>0.017438</td>\n",
       "      <td>0.001382</td>\n",
       "      <td>0.031176</td>\n",
       "      <td>0.005449</td>\n",
       "      <td>0.280209</td>\n",
       "      <td>0.026681</td>\n",
       "      <td>0.041165</td>\n",
       "      <td>0.001584</td>\n",
       "    </tr>\n",
       "    <tr>\n",
       "      <th>14</th>\n",
       "      <td>14</td>\n",
       "      <td>R85G</td>\n",
       "      <td>-0.039104</td>\n",
       "      <td>0.000540</td>\n",
       "      <td>0.051974</td>\n",
       "      <td>0.001276</td>\n",
       "      <td>0.012477</td>\n",
       "      <td>0.001665</td>\n",
       "      <td>-0.029264</td>\n",
       "      <td>0.005520</td>\n",
       "      <td>3.331804</td>\n",
       "      <td>0.046834</td>\n",
       "      <td>0.103554</td>\n",
       "      <td>0.002166</td>\n",
       "    </tr>\n",
       "    <tr>\n",
       "      <th>15</th>\n",
       "      <td>15</td>\n",
       "      <td>R87K</td>\n",
       "      <td>0.100525</td>\n",
       "      <td>0.000532</td>\n",
       "      <td>0.195621</td>\n",
       "      <td>0.001717</td>\n",
       "      <td>0.256034</td>\n",
       "      <td>0.001784</td>\n",
       "      <td>0.238717</td>\n",
       "      <td>0.005488</td>\n",
       "      <td>8.280802</td>\n",
       "      <td>0.054139</td>\n",
       "      <td>0.552179</td>\n",
       "      <td>0.002532</td>\n",
       "    </tr>\n",
       "  </tbody>\n",
       "</table>\n",
       "</div>"
      ],
      "text/plain": [
       "    Unnamed: 0 mutation_names  MA90_dKd_mean  MA90_dKd_sem  SI06_dKd_mean  \\\n",
       "0            0           N26D      -0.005894      0.000337       0.125206   \n",
       "1            1           S29R       0.051353      0.000379       0.142751   \n",
       "2            2           Y35N       0.475922      0.001182       0.350730   \n",
       "3            3           Y48C      -0.009082      0.001902       0.045927   \n",
       "4            4           D49Y       0.245354      0.001940       0.423951   \n",
       "5            5           V98I       0.013609      0.000327       0.041254   \n",
       "6            6           G31D       0.150576      0.000671       0.160146   \n",
       "7            7           Y33H       0.245317      0.000842       0.262465   \n",
       "8            8           M34I       0.016195      0.000453       0.114124   \n",
       "9            9           H35N       0.164149      0.000766       0.328146   \n",
       "10          10           N52H       0.357882      0.001018       1.351933   \n",
       "11          11           G57D       0.011359      0.000434       0.045892   \n",
       "12          12           L83V       0.027724      0.000358       0.008645   \n",
       "13          13           S84N       0.006495      0.000336       0.017232   \n",
       "14          14           R85G      -0.039104      0.000540       0.051974   \n",
       "15          15           R87K       0.100525      0.000532       0.195621   \n",
       "\n",
       "    SI06_dKd_sem  G189E_dKd_mean  G189E_dKd_sem  dFrac_MI_mean  dFrac_MI_sem  \\\n",
       "0       0.001299       -0.023788       0.001398      -0.133546      0.005284   \n",
       "1       0.001495        0.282864       0.002014       0.250094      0.005437   \n",
       "2       0.003493        0.948471       0.004559       0.950708      0.005894   \n",
       "3       0.003476       -0.019971       0.004269       0.217245      0.005328   \n",
       "4       0.004313        0.608515       0.004755       0.119785      0.005448   \n",
       "5       0.000740       -0.017201       0.001353      -0.069448      0.005326   \n",
       "6       0.001502        0.556176       0.002757      -0.134859      0.006274   \n",
       "7       0.002520        0.381849       0.002535       0.507416      0.006657   \n",
       "8       0.001381        0.109564       0.001620      -0.245291      0.006464   \n",
       "9       0.003042        0.347584       0.003106       0.106503      0.006489   \n",
       "10      0.005153        1.258721       0.004545       0.062136      0.005520   \n",
       "11      0.000928        0.081028       0.001542      -0.067193      0.005535   \n",
       "12      0.000762       -0.001074       0.001384       0.053854      0.005450   \n",
       "13      0.000696        0.017438       0.001382       0.031176      0.005449   \n",
       "14      0.001276        0.012477       0.001665      -0.029264      0.005520   \n",
       "15      0.001717        0.256034       0.001784       0.238717      0.005488   \n",
       "\n",
       "    dFrac_SI_mean  dFrac_SI_sem       sum  total_err  \n",
       "0       -0.681649      0.026634  0.154888   0.001938  \n",
       "1        4.717646      0.035455  0.476967   0.002537  \n",
       "2        6.506681      0.061363  1.775124   0.005864  \n",
       "3        1.370161      0.095380  0.074980   0.005825  \n",
       "4        7.786292      0.102947  1.277820   0.006706  \n",
       "5       -0.539823      0.025483  0.072064   0.001577  \n",
       "6       13.539663      0.066321  0.866897   0.003210  \n",
       "7        9.885783      0.066620  0.889631   0.003672  \n",
       "8        3.771957      0.040571  0.239883   0.002176  \n",
       "9        7.104272      0.056416  0.839879   0.004415  \n",
       "10      26.163971      0.108424  2.968535   0.006946  \n",
       "11       3.345029      0.033986  0.138280   0.001852  \n",
       "12      -0.346639      0.027064  0.037443   0.001620  \n",
       "13       0.280209      0.026681  0.041165   0.001584  \n",
       "14       3.331804      0.046834  0.103554   0.002166  \n",
       "15       8.280802      0.054139  0.552179   0.002532  "
      ]
     },
     "execution_count": 54,
     "metadata": {},
     "output_type": "execute_result"
    }
   ],
   "source": [
    "#read in data for change in Kd\n",
    "toplot = pd.DataFrame(pd.read_csv('../../Kd_Inference/results_CH65/Kd_processed/dKd_summary.csv'),index=None)\n",
    "toplot['dFrac_MI_mean'] = dFrac_mean\n",
    "toplot['dFrac_MI_sem'] = dFrac_sem\n",
    "toplot['dFrac_SI_mean'] = dFracSI_mean\n",
    "toplot['dFrac_SI_sem'] = dFracSI_sem\n",
    "toplot['sum']=abs(toplot['MA90_dKd_mean'])+abs(toplot['SI06_dKd_mean'])+abs(toplot['G189E_dKd_mean'])\n",
    "toplot['total_err']=((toplot['MA90_dKd_sem'])**2+(toplot['SI06_dKd_sem'])**2+(toplot['G189E_dKd_sem'])**2)**(1/2)\n",
    "toplot\n"
   ]
  },
  {
   "cell_type": "markdown",
   "metadata": {},
   "source": [
    "## correlation between sum of delta(-logKd) and delta(mean enrichment)"
   ]
  },
  {
   "cell_type": "markdown",
   "metadata": {},
   "source": [
    "## MI15"
   ]
  },
  {
   "cell_type": "code",
   "execution_count": 55,
   "metadata": {},
   "outputs": [
    {
     "name": "stdout",
     "output_type": "stream",
     "text": [
      "0.69181218756975\n"
     ]
    },
    {
     "data": {
      "image/png": "[encoded data removed]",
      "text/plain": [
       "<Figure size 72x72 with 1 Axes>"
      ]
     },
     "metadata": {
      "needs_background": "light"
     },
     "output_type": "display_data"
    }
   ],
   "source": [
    "plt.rcParams['font.sans-serif'] = \"Arial\"\n",
    "plt.rcParams['font.family'] = \"sans-serif\"\n",
    "plt.rcParams['axes.linewidth'] = 0.5\n",
    "flierprops = dict(marker='o', markersize=2)\n",
    "corr, _ = pearsonr(toplot['dFrac_MI_mean'], toplot['MA90_dKd_mean'])\n",
    "slope, intercept, r_value, p_value, std_err = scipy.stats.linregress(toplot['dFrac_MI_mean'], toplot['MA90_dKd_mean'])\n",
    "plt.figure(figsize=(1,1))\n",
    "ax = sns.scatterplot(x='dFrac_MI_mean', y='MA90_dKd_mean',data=toplot,hue='mutation_names',s=20,palette=colors,legend=False,edgecolor='black')\n",
    "\n",
    "# Find the x,y coordinates for each point\n",
    "x_coords = []\n",
    "y_coords = []\n",
    "for points in ax.collections:\n",
    "    for x, y in points.get_offsets():\n",
    "        x_coords.append(x)\n",
    "        y_coords.append(y)\n",
    "\n",
    "# Calculate the type of error to plot as the error bars\n",
    "# Make sure the order is the same as the points were looped over\n",
    "plt.errorbar(x_coords, y_coords, yerr=toplot['dFrac_MI_sem'],xerr=toplot['MA90_dKd_sem'], fmt=' ', zorder=-1,color='k',linewidth=0.5)\n",
    "\n",
    "sns.regplot(x='dFrac_MI_mean', y='MA90_dKd_mean',data=toplot, scatter=False, ax=ax,color='gray')\n",
    "#plt.xlim(-0.03,0.03)\n",
    "plt.axhline(y=0,linestyle='dashed',linewidth=0.5,color='black')\n",
    "plt.axvline(x=0,linestyle='dashed',linewidth=0.5,color='black')\n",
    "plt.xlabel('',fontsize=7,labelpad=0.5)\n",
    "plt.ylabel('',fontsize=7,labelpad=0.5)\n",
    "# plt.xticks(ticks=[-0.03,0,0.03],labels=['-0.03','0','0.03'],fontsize=7)\n",
    "# plt.yticks(ticks=[0,0.5],labels=['0','0.5'],fontsize=7)\n",
    "plt.savefig('images/CH65_dfrac_MI_kd_corr_MA90.png',transparent=True, dpi=600,bbox_inches='tight')\n",
    "print(corr)"
   ]
  },
  {
   "cell_type": "code",
   "execution_count": 56,
   "metadata": {},
   "outputs": [
    {
     "name": "stdout",
     "output_type": "stream",
     "text": [
      "0.16322387181361214\n"
     ]
    },
    {
     "data": {
      "image/png": "[encoded data removed]",
      "text/plain": [
       "<Figure size 72x72 with 1 Axes>"
      ]
     },
     "metadata": {
      "needs_background": "light"
     },
     "output_type": "display_data"
    }
   ],
   "source": [
    "plt.rcParams['font.sans-serif'] = \"Arial\"\n",
    "plt.rcParams['font.family'] = \"sans-serif\"\n",
    "plt.rcParams['axes.linewidth'] = 0.5\n",
    "flierprops = dict(marker='o', markersize=2)\n",
    "corr, _ = pearsonr(toplot['dFrac_MI_mean'], toplot['SI06_dKd_mean'])\n",
    "slope, intercept, r_value, p_value, std_err = scipy.stats.linregress(toplot['dFrac_MI_mean'], toplot['SI06_dKd_mean'])\n",
    "plt.figure(figsize=(1,1))\n",
    "ax = sns.scatterplot(x='dFrac_MI_mean', y='SI06_dKd_mean',data=toplot,hue='mutation_names',s=20,palette=colors,legend=False,edgecolor='black')\n",
    "\n",
    "# Find the x,y coordinates for each point\n",
    "x_coords = []\n",
    "y_coords = []\n",
    "for points in ax.collections:\n",
    "    for x, y in points.get_offsets():\n",
    "        x_coords.append(x)\n",
    "        y_coords.append(y)\n",
    "\n",
    "# Calculate the type of error to plot as the error bars\n",
    "# Make sure the order is the same as the points were looped over\n",
    "plt.errorbar(x_coords, y_coords, yerr=toplot['dFrac_MI_sem'],xerr=toplot['SI06_dKd_sem'], fmt=' ', zorder=-1,color='k',linewidth=0.5)\n",
    "\n",
    "\n",
    "\n",
    "sns.regplot(x='dFrac_MI_mean', y='SI06_dKd_mean',data=toplot, scatter=False, ax=ax,color='gray')\n",
    "#plt.xlim(-0.03,0.03)\n",
    "plt.xlabel('',fontsize=7,labelpad=0.5)\n",
    "plt.ylabel('',fontsize=7,labelpad=0.5)\n",
    "plt.axhline(y=0,linestyle='dashed',linewidth=0.5,color='black')\n",
    "plt.axvline(x=0,linestyle='dashed',linewidth=0.5,color='black')\n",
    "# plt.xticks(ticks=[-0.03,0,0.03],labels=['-0.03','0','0.03'],fontsize=7)\n",
    "# plt.yticks(ticks=[0,0.5,1],labels=['0','0.5','1'],fontsize=7)\n",
    "plt.savefig('images/CH65_dfrac_MI_kd_corr_SI06.png',transparent=True, dpi=600,bbox_inches='tight')\n",
    "print(corr)"
   ]
  },
  {
   "cell_type": "code",
   "execution_count": 57,
   "metadata": {},
   "outputs": [
    {
     "name": "stdout",
     "output_type": "stream",
     "text": [
      "0.4570138301992681\n"
     ]
    },
    {
     "data": {
      "image/png": "[encoded data removed]",
      "text/plain": [
       "<Figure size 72x72 with 1 Axes>"
      ]
     },
     "metadata": {
      "needs_background": "light"
     },
     "output_type": "display_data"
    }
   ],
   "source": [
    "plt.rcParams['font.sans-serif'] = \"Arial\"\n",
    "plt.rcParams['font.family'] = \"sans-serif\"\n",
    "plt.rcParams['axes.linewidth'] = 0.5\n",
    "flierprops = dict(marker='o', markersize=2)\n",
    "corr, _ = pearsonr(toplot['dFrac_MI_mean'], toplot['G189E_dKd_mean'])\n",
    "slope, intercept, r_value, p_value, std_err = scipy.stats.linregress(toplot['dFrac_MI_mean'], toplot['G189E_dKd_mean'])\n",
    "plt.figure(figsize=(1,1))\n",
    "ax = sns.scatterplot(x='dFrac_MI_mean', y='G189E_dKd_mean',data=toplot,hue='mutation_names',s=20,palette=colors,legend=False,edgecolor='black')\n",
    "\n",
    "# Find the x,y coordinates for each point\n",
    "x_coords = []\n",
    "y_coords = []\n",
    "for points in ax.collections:\n",
    "    for x, y in points.get_offsets():\n",
    "        x_coords.append(x)\n",
    "        y_coords.append(y)\n",
    "\n",
    "# Calculate the type of error to plot as the error bars\n",
    "# Make sure the order is the same as the points were looped over\n",
    "plt.errorbar(x_coords, y_coords, yerr=toplot['dFrac_MI_sem'],xerr=toplot['G189E_dKd_sem'], fmt=' ', zorder=-1,color='k',linewidth=0.5)\n",
    "\n",
    "\n",
    "\n",
    "sns.regplot(x='dFrac_MI_mean', y='G189E_dKd_mean',data=toplot, scatter=False, ax=ax,color='gray')\n",
    "#plt.xlim(-0.03,0.03)\n",
    "plt.xlabel('',fontsize=7,labelpad=0.5)\n",
    "plt.ylabel('',fontsize=7,labelpad=0.5)\n",
    "plt.axhline(y=0,linestyle='dashed',linewidth=0.5,color='black')\n",
    "plt.axvline(x=0,linestyle='dashed',linewidth=0.5,color='black')\n",
    "# plt.xticks(ticks=[-0.03,0,0.03],labels=['-0.03','0','0.03'],fontsize=7)\n",
    "# plt.yticks(ticks=[0,0.5,1],labels=['0','0.5','1'],fontsize=7)\n",
    "plt.savefig('images/CH65_dfrac_MI_kd_corr_G189E.png',transparent=True, dpi=600,bbox_inches='tight')\n",
    "print(corr)"
   ]
  },
  {
   "cell_type": "markdown",
   "metadata": {},
   "source": [
    "## SI06-G189D"
   ]
  },
  {
   "cell_type": "code",
   "execution_count": 58,
   "metadata": {},
   "outputs": [
    {
     "name": "stdout",
     "output_type": "stream",
     "text": [
      "0.6779268659878861\n"
     ]
    },
    {
     "data": {
      "image/png": "[encoded data removed]",
      "text/plain": [
       "<Figure size 72x72 with 1 Axes>"
      ]
     },
     "metadata": {
      "needs_background": "light"
     },
     "output_type": "display_data"
    }
   ],
   "source": [
    "plt.rcParams['font.sans-serif'] = \"Arial\"\n",
    "plt.rcParams['font.family'] = \"sans-serif\"\n",
    "plt.rcParams['axes.linewidth'] = 0.5\n",
    "flierprops = dict(marker='o', markersize=2)\n",
    "corr, _ = pearsonr(toplot['dFrac_SI_mean'], toplot['MA90_dKd_mean'])\n",
    "slope, intercept, r_value, p_value, std_err = scipy.stats.linregress(toplot['dFrac_SI_mean'], toplot['MA90_dKd_mean'])\n",
    "plt.figure(figsize=(1,1))\n",
    "ax = sns.scatterplot(x='dFrac_SI_mean', y='MA90_dKd_mean',data=toplot,hue='mutation_names',s=20,palette=colors,legend=False,edgecolor='black')\n",
    "\n",
    "# Find the x,y coordinates for each point\n",
    "x_coords = []\n",
    "y_coords = []\n",
    "for points in ax.collections:\n",
    "    for x, y in points.get_offsets():\n",
    "        x_coords.append(x)\n",
    "        y_coords.append(y)\n",
    "\n",
    "# Calculate the type of error to plot as the error bars\n",
    "# Make sure the order is the same as the points were looped over\n",
    "plt.errorbar(x_coords, y_coords, yerr=toplot['dFrac_SI_sem'],xerr=toplot['MA90_dKd_sem'], fmt=' ', zorder=-1,color='k',linewidth=0.5)\n",
    "\n",
    "\n",
    "\n",
    "sns.regplot(x='dFrac_SI_mean', y='MA90_dKd_mean',data=toplot, scatter=False, ax=ax,color='gray')\n",
    "#plt.xlim(-0.03,0.03)\n",
    "#plt.ylim(-0.1,0.25)\n",
    "plt.axhline(y=0,linestyle='dashed',linewidth=0.5,color='black')\n",
    "plt.axvline(x=0,linestyle='dashed',linewidth=0.5,color='black')\n",
    "plt.xlabel('',fontsize=7,labelpad=0.5)\n",
    "plt.ylabel('',fontsize=7,labelpad=0.5)\n",
    "# plt.xticks(ticks=[-0.03,0,0.03],labels=['-0.03','0','0.03'],fontsize=7)\n",
    "# plt.yticks(ticks=[0,0.25],labels=['0','0.25'],fontsize=7)\n",
    "plt.savefig('images/CH65_dfrac_SI_kd_corr_MA90.png',transparent=True, dpi=600,bbox_inches='tight')\n",
    "print(corr)"
   ]
  },
  {
   "cell_type": "code",
   "execution_count": 59,
   "metadata": {},
   "outputs": [
    {
     "name": "stdout",
     "output_type": "stream",
     "text": [
      "0.8873383136260887\n"
     ]
    },
    {
     "data": {
      "image/png": "[encoded data removed]",
      "text/plain": [
       "<Figure size 72x72 with 1 Axes>"
      ]
     },
     "metadata": {
      "needs_background": "light"
     },
     "output_type": "display_data"
    }
   ],
   "source": [
    "plt.rcParams['font.sans-serif'] = \"Arial\"\n",
    "plt.rcParams['font.family'] = \"sans-serif\"\n",
    "plt.rcParams['axes.linewidth'] = 0.5\n",
    "flierprops = dict(marker='o', markersize=2)\n",
    "corr, _ = pearsonr(toplot['dFrac_SI_mean'], toplot['SI06_dKd_mean'])\n",
    "slope, intercept, r_value, p_value, std_err = scipy.stats.linregress(toplot['dFrac_SI_mean'], toplot['SI06_dKd_mean'])\n",
    "plt.figure(figsize=(1,1))\n",
    "ax = sns.scatterplot(x='dFrac_SI_mean', y='SI06_dKd_mean',data=toplot,hue='mutation_names',s=20,palette=colors,legend=False,edgecolor='black')\n",
    "\n",
    "# Find the x,y coordinates for each point\n",
    "x_coords = []\n",
    "y_coords = []\n",
    "for points in ax.collections:\n",
    "    for x, y in points.get_offsets():\n",
    "        x_coords.append(x)\n",
    "        y_coords.append(y)\n",
    "\n",
    "# Calculate the type of error to plot as the error bars\n",
    "# Make sure the order is the same as the points were looped over\n",
    "plt.errorbar(x_coords, y_coords, yerr=toplot['dFrac_SI_sem'],xerr=toplot['SI06_dKd_sem'], fmt=' ', zorder=-1,color='k',linewidth=0.5)\n",
    "\n",
    "\n",
    "\n",
    "sns.regplot(x='dFrac_SI_mean', y='SI06_dKd_mean',data=toplot, scatter=False, ax=ax,color='gray')\n",
    "# plt.xlim(-0.03,0.03)\n",
    "# plt.ylim(-0.1,0.25)\n",
    "plt.xlabel('',fontsize=7,labelpad=0.5)\n",
    "plt.ylabel('',fontsize=7,labelpad=0.5)\n",
    "plt.axhline(y=0,linestyle='dashed',linewidth=0.5,color='black')\n",
    "plt.axvline(x=0,linestyle='dashed',linewidth=0.5,color='black')\n",
    "# plt.xticks(ticks=[-0.03,0,0.03],labels=['-0.03','0','0.03'],fontsize=7)\n",
    "# plt.yticks(ticks=[0,0.25],labels=['0','0.25'],fontsize=7)\n",
    "plt.savefig('images/CH65_dfrac_SI_kd_corr_SI06.png',transparent=True, dpi=600,bbox_inches='tight')\n",
    "print(corr)"
   ]
  },
  {
   "cell_type": "code",
   "execution_count": 60,
   "metadata": {},
   "outputs": [
    {
     "name": "stdout",
     "output_type": "stream",
     "text": [
      "0.8666314528384531\n"
     ]
    },
    {
     "data": {
      "image/png": "[encoded data removed]",
      "text/plain": [
       "<Figure size 72x72 with 1 Axes>"
      ]
     },
     "metadata": {
      "needs_background": "light"
     },
     "output_type": "display_data"
    }
   ],
   "source": [
    "plt.rcParams['font.sans-serif'] = \"Arial\"\n",
    "plt.rcParams['font.family'] = \"sans-serif\"\n",
    "plt.rcParams['axes.linewidth'] = 0.5\n",
    "flierprops = dict(marker='o', markersize=2)\n",
    "corr, _ = pearsonr(toplot['dFrac_SI_mean'], toplot['G189E_dKd_mean'])\n",
    "slope, intercept, r_value, p_value, std_err = scipy.stats.linregress(toplot['dFrac_SI_mean'], toplot['G189E_dKd_mean'])\n",
    "plt.figure(figsize=(1,1))\n",
    "ax = sns.scatterplot(x='dFrac_SI_mean', y='G189E_dKd_mean',data=toplot,hue='mutation_names',s=20,palette=colors,legend=False,edgecolor='black')\n",
    "\n",
    "# Find the x,y coordinates for each point\n",
    "x_coords = []\n",
    "y_coords = []\n",
    "for points in ax.collections:\n",
    "    for x, y in points.get_offsets():\n",
    "        x_coords.append(x)\n",
    "        y_coords.append(y)\n",
    "\n",
    "# Calculate the type of error to plot as the error bars\n",
    "# Make sure the order is the same as the points were looped over\n",
    "plt.errorbar(x_coords, y_coords, yerr=toplot['dFrac_SI_sem'],xerr=toplot['G189E_dKd_sem'], fmt=' ', zorder=-1,color='k',linewidth=0.5)\n",
    "\n",
    "\n",
    "\n",
    "sns.regplot(x='dFrac_SI_mean', y='G189E_dKd_mean',data=toplot, scatter=False, ax=ax,color='gray')\n",
    "# plt.xlim(-0.03,0.03)\n",
    "# plt.ylim(-0.1,0.25)\n",
    "plt.xlabel('',fontsize=7,labelpad=0.5)\n",
    "plt.ylabel('',fontsize=7,labelpad=0.5)\n",
    "plt.axhline(y=0,linestyle='dashed',linewidth=0.5,color='black')\n",
    "plt.axvline(x=0,linestyle='dashed',linewidth=0.5,color='black')\n",
    "# plt.xticks(ticks=[-0.03,0,0.03],labels=['-0.03','0','0.03'],fontsize=7)\n",
    "# plt.yticks(ticks=[0,0.25],labels=['0','0.25'],fontsize=7)\n",
    "plt.savefig('images/CH65_dfrac_SI_kd_corr_G189E.png',transparent=True, dpi=600,bbox_inches='tight')\n",
    "print(corr)"
   ]
  },
  {
   "cell_type": "markdown",
   "metadata": {},
   "source": [
    "## correlation in change in enrichment between SI-G189D and MI15"
   ]
  },
  {
   "cell_type": "code",
   "execution_count": 61,
   "metadata": {},
   "outputs": [
    {
     "name": "stdout",
     "output_type": "stream",
     "text": [
      "0.13738601179250104\n"
     ]
    },
    {
     "data": {
      "image/png": "[encoded data removed]",
      "text/plain": [
       "<Figure size 72x72 with 1 Axes>"
      ]
     },
     "metadata": {
      "needs_background": "light"
     },
     "output_type": "display_data"
    }
   ],
   "source": [
    "plt.rcParams['font.sans-serif'] = \"Arial\"\n",
    "plt.rcParams['font.family'] = \"sans-serif\"\n",
    "plt.rcParams['axes.linewidth'] = 0.5\n",
    "flierprops = dict(marker='o', markersize=2)\n",
    "corr, _ = pearsonr(toplot['dFrac_SI_mean'], toplot['dFrac_MI_mean'])\n",
    "slope, intercept, r_value, p_value, std_err = scipy.stats.linregress(toplot['dFrac_SI_mean'], toplot['dFrac_MI_mean'])\n",
    "plt.figure(figsize=(1,1))\n",
    "ax = sns.scatterplot(x='dFrac_SI_mean', y='dFrac_MI_mean',data=toplot,hue='mutation_names',s=20,palette=colors,legend=False,edgecolor='black')\n",
    "\n",
    "# Find the x,y coordinates for each point\n",
    "x_coords = []\n",
    "y_coords = []\n",
    "for points in ax.collections:\n",
    "    for x, y in points.get_offsets():\n",
    "        x_coords.append(x)\n",
    "        y_coords.append(y)\n",
    "\n",
    "# Calculate the type of error to plot as the error bars\n",
    "# Make sure the order is the same as the points were looped over\n",
    "plt.errorbar(x_coords, y_coords, yerr=toplot['dFrac_SI_sem'],xerr=toplot['dFrac_MI_sem'], fmt=' ', zorder=-1,color='k',linewidth=0.5)\n",
    "\n",
    "\n",
    "\n",
    "sns.regplot(x='dFrac_SI_mean', y='dFrac_MI_mean',data=toplot, scatter=False, ax=ax,color='gray')\n",
    "#plt.xlim(-0.03,0.03)\n",
    "plt.axhline(y=0,linestyle='dashed',linewidth=0.5,color='black')\n",
    "plt.axvline(x=0,linestyle='dashed',linewidth=0.5,color='black')\n",
    "plt.xlabel('',fontsize=7,labelpad=0.5)\n",
    "plt.ylabel('',fontsize=7,labelpad=0.5)\n",
    "# plt.xticks(ticks=[-0.03,0,0.03],labels=['-0.03','0','0.03'],fontsize=7)\n",
    "# plt.yticks(ticks=[0,0.5],labels=['0','0.5'],fontsize=7)\n",
    "plt.savefig('images/CH65_dfrac_SIG189D_MI_kd_corr.png',transparent=True, dpi=600,bbox_inches='tight')\n",
    "print(corr)"
   ]
  },
  {
   "cell_type": "code",
   "execution_count": null,
   "metadata": {},
   "outputs": [],
   "source": []
  }
 ],
 "metadata": {
  "kernelspec": {
   "display_name": "Python 3 (ipykernel)",
   "language": "python",
   "name": "python3"
  },
  "language_info": {
   "codemirror_mode": {
    "name": "ipython",
    "version": 3
   },
   "file_extension": ".py",
   "mimetype": "text/x-python",
   "name": "python",
   "nbconvert_exporter": "python",
   "pygments_lexer": "ipython3",
   "version": "3.9.12"
  }
 },
 "nbformat": 4,
 "nbformat_minor": 2
}
