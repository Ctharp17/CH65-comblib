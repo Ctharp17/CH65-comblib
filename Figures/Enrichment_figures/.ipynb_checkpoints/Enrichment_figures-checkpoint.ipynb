{
 "cells": [
  {
   "cell_type": "markdown",
   "metadata": {},
   "source": [
    "## import stuff"
   ]
  },
  {
   "cell_type": "code",
   "execution_count": 1,
   "metadata": {},
   "outputs": [],
   "source": [
    "#importing things\n",
    "import pandas as pd\n",
    "import os\n",
    "import numpy as np\n",
    "import csv\n",
    "import pylab as pl\n",
    "import matplotlib.pyplot as plt\n",
    "import copy\n",
    "import scipy\n",
    "import scipy.stats as stats\n",
    "from scipy.stats import linregress\n",
    "from scipy.stats import t\n",
    "from scipy.stats import chi2\n",
    "from scipy.stats import sem\n",
    "import scipy.stats as st\n",
    "from scipy.linalg import hadamard\n",
    "from scipy.stats import ttest_ind_from_stats\n",
    "from sklearn.preprocessing import StandardScaler\n",
    "from sklearn.decomposition import PCA\n",
    "from sklearn.linear_model import LinearRegression\n",
    "from mpl_toolkits.mplot3d import Axes3D\n",
    "from scipy.stats import ttest_ind_from_stats\n",
    "from sklearn.manifold import TSNE\n",
    "from scipy.stats import pearsonr\n",
    "from collections import OrderedDict\n",
    "import seaborn as sns\n",
    "import colorsys\n",
    "from functools import reduce\n",
    "from scipy.optimize import curve_fit\n",
    "from operator import itemgetter\n",
    "import math\n",
    "import matplotlib.colors as mcolors\n",
    "\n",
    "def lighten_color(color, amount=0.5):  \n",
    "    # --------------------- SOURCE: @IanHincks ---------------------\n",
    "    try:\n",
    "        c = mc.cnames[color]\n",
    "    except:\n",
    "        c = color\n",
    "    c = colorsys.rgb_to_hls(*mc.to_rgb(c))\n",
    "    return colorsys.hls_to_rgb(c[0], 1 - amount * (1 - c[1]), c[2])\n",
    "\n",
    "def sum_digits(digit):\n",
    "    return sum(int(x) for x in digit if x.isdigit())"
   ]
  },
  {
   "cell_type": "markdown",
   "metadata": {},
   "source": [
    "## import data"
   ]
  },
  {
   "cell_type": "code",
   "execution_count": 89,
   "metadata": {},
   "outputs": [
    {
     "data": {
      "text/html": [
       "<div>\n",
       "<style scoped>\n",
       "    .dataframe tbody tr th:only-of-type {\n",
       "        vertical-align: middle;\n",
       "    }\n",
       "\n",
       "    .dataframe tbody tr th {\n",
       "        vertical-align: top;\n",
       "    }\n",
       "\n",
       "    .dataframe thead th {\n",
       "        text-align: right;\n",
       "    }\n",
       "</style>\n",
       "<table border=\"1\" class=\"dataframe\">\n",
       "  <thead>\n",
       "    <tr style=\"text-align: right;\">\n",
       "      <th></th>\n",
       "      <th>geno</th>\n",
       "      <th>MA90_mean</th>\n",
       "      <th>SI06_mean</th>\n",
       "      <th>G189E_mean</th>\n",
       "      <th>CH65_i_MI_neg_a</th>\n",
       "      <th>CH65_i_MI_pos_a</th>\n",
       "      <th>CH65_i_MI_neg_b</th>\n",
       "      <th>CH65_i_MI_pos_b</th>\n",
       "      <th>CH65_i_MI_neg_c</th>\n",
       "      <th>CH65_i_MI_pos_c</th>\n",
       "      <th>...</th>\n",
       "      <th>pos8</th>\n",
       "      <th>pos9</th>\n",
       "      <th>pos10</th>\n",
       "      <th>pos11</th>\n",
       "      <th>pos12</th>\n",
       "      <th>pos13</th>\n",
       "      <th>pos14</th>\n",
       "      <th>pos15</th>\n",
       "      <th>pos16</th>\n",
       "      <th>som_mut</th>\n",
       "    </tr>\n",
       "  </thead>\n",
       "  <tbody>\n",
       "    <tr>\n",
       "      <th>0</th>\n",
       "      <td>0000000000000000</td>\n",
       "      <td>8.542521</td>\n",
       "      <td>6.0</td>\n",
       "      <td>6.0</td>\n",
       "      <td>416</td>\n",
       "      <td>6</td>\n",
       "      <td>369</td>\n",
       "      <td>4</td>\n",
       "      <td>278</td>\n",
       "      <td>9</td>\n",
       "      <td>...</td>\n",
       "      <td>0</td>\n",
       "      <td>0</td>\n",
       "      <td>0</td>\n",
       "      <td>0</td>\n",
       "      <td>0</td>\n",
       "      <td>0</td>\n",
       "      <td>0</td>\n",
       "      <td>0</td>\n",
       "      <td>0</td>\n",
       "      <td>0</td>\n",
       "    </tr>\n",
       "    <tr>\n",
       "      <th>1</th>\n",
       "      <td>0000000000000001</td>\n",
       "      <td>8.574179</td>\n",
       "      <td>6.0</td>\n",
       "      <td>6.0</td>\n",
       "      <td>396</td>\n",
       "      <td>5</td>\n",
       "      <td>307</td>\n",
       "      <td>4</td>\n",
       "      <td>246</td>\n",
       "      <td>4</td>\n",
       "      <td>...</td>\n",
       "      <td>0</td>\n",
       "      <td>0</td>\n",
       "      <td>0</td>\n",
       "      <td>0</td>\n",
       "      <td>0</td>\n",
       "      <td>0</td>\n",
       "      <td>0</td>\n",
       "      <td>0</td>\n",
       "      <td>1</td>\n",
       "      <td>1</td>\n",
       "    </tr>\n",
       "    <tr>\n",
       "      <th>2</th>\n",
       "      <td>0000000000000010</td>\n",
       "      <td>8.315518</td>\n",
       "      <td>6.0</td>\n",
       "      <td>6.0</td>\n",
       "      <td>666</td>\n",
       "      <td>10</td>\n",
       "      <td>511</td>\n",
       "      <td>2</td>\n",
       "      <td>393</td>\n",
       "      <td>22</td>\n",
       "      <td>...</td>\n",
       "      <td>0</td>\n",
       "      <td>0</td>\n",
       "      <td>0</td>\n",
       "      <td>0</td>\n",
       "      <td>0</td>\n",
       "      <td>0</td>\n",
       "      <td>0</td>\n",
       "      <td>1</td>\n",
       "      <td>0</td>\n",
       "      <td>1</td>\n",
       "    </tr>\n",
       "    <tr>\n",
       "      <th>3</th>\n",
       "      <td>0000000000000011</td>\n",
       "      <td>8.473877</td>\n",
       "      <td>6.0</td>\n",
       "      <td>6.0</td>\n",
       "      <td>617</td>\n",
       "      <td>18</td>\n",
       "      <td>517</td>\n",
       "      <td>19</td>\n",
       "      <td>366</td>\n",
       "      <td>14</td>\n",
       "      <td>...</td>\n",
       "      <td>0</td>\n",
       "      <td>0</td>\n",
       "      <td>0</td>\n",
       "      <td>0</td>\n",
       "      <td>0</td>\n",
       "      <td>0</td>\n",
       "      <td>0</td>\n",
       "      <td>1</td>\n",
       "      <td>1</td>\n",
       "      <td>2</td>\n",
       "    </tr>\n",
       "    <tr>\n",
       "      <th>4</th>\n",
       "      <td>0000000000000100</td>\n",
       "      <td>8.537724</td>\n",
       "      <td>6.0</td>\n",
       "      <td>6.0</td>\n",
       "      <td>946</td>\n",
       "      <td>7</td>\n",
       "      <td>697</td>\n",
       "      <td>11</td>\n",
       "      <td>503</td>\n",
       "      <td>15</td>\n",
       "      <td>...</td>\n",
       "      <td>0</td>\n",
       "      <td>0</td>\n",
       "      <td>0</td>\n",
       "      <td>0</td>\n",
       "      <td>0</td>\n",
       "      <td>0</td>\n",
       "      <td>1</td>\n",
       "      <td>0</td>\n",
       "      <td>0</td>\n",
       "      <td>1</td>\n",
       "    </tr>\n",
       "  </tbody>\n",
       "</table>\n",
       "<p>5 rows × 56 columns</p>\n",
       "</div>"
      ],
      "text/plain": [
       "               geno  MA90_mean  SI06_mean  G189E_mean  CH65_i_MI_neg_a  \\\n",
       "0  0000000000000000   8.542521        6.0         6.0              416   \n",
       "1  0000000000000001   8.574179        6.0         6.0              396   \n",
       "2  0000000000000010   8.315518        6.0         6.0              666   \n",
       "3  0000000000000011   8.473877        6.0         6.0              617   \n",
       "4  0000000000000100   8.537724        6.0         6.0              946   \n",
       "\n",
       "   CH65_i_MI_pos_a  CH65_i_MI_neg_b  CH65_i_MI_pos_b  CH65_i_MI_neg_c  \\\n",
       "0                6              369                4              278   \n",
       "1                5              307                4              246   \n",
       "2               10              511                2              393   \n",
       "3               18              517               19              366   \n",
       "4                7              697               11              503   \n",
       "\n",
       "   CH65_i_MI_pos_c  ...  pos8  pos9  pos10  pos11  pos12  pos13  pos14  pos15  \\\n",
       "0                9  ...     0     0      0      0      0      0      0      0   \n",
       "1                4  ...     0     0      0      0      0      0      0      0   \n",
       "2               22  ...     0     0      0      0      0      0      0      1   \n",
       "3               14  ...     0     0      0      0      0      0      0      1   \n",
       "4               15  ...     0     0      0      0      0      0      1      0   \n",
       "\n",
       "   pos16  som_mut  \n",
       "0      0        0  \n",
       "1      1        1  \n",
       "2      0        1  \n",
       "3      1        2  \n",
       "4      0        1  \n",
       "\n",
       "[5 rows x 56 columns]"
      ]
     },
     "execution_count": 89,
     "metadata": {},
     "output_type": "execute_result"
    }
   ],
   "source": [
    "kd = pd.DataFrame(pd.read_csv('../../Kd_Inference/results_CH65/Kd_processed/20220603_CH65_QCfilt_REPfilt.csv',delimiter=',',dtype={'geno': str}),columns=('geno','MA90_mean','SI06_mean','G189E_mean'))\n",
    "Frac_bound = pd.DataFrame(pd.read_csv('../../Enrichment_Inference/20220725_fracbound.csv',delimiter=',',dtype={'geno': str}))\n",
    "all_data = pd.DataFrame()\n",
    "all_data = pd.merge(kd, Frac_bound, on='geno',how='outer')\n",
    "all_data.head()"
   ]
  },
  {
   "cell_type": "markdown",
   "metadata": {},
   "source": [
    "# correlation between replicates"
   ]
  },
  {
   "cell_type": "code",
   "execution_count": 3,
   "metadata": {},
   "outputs": [
    {
     "name": "stderr",
     "output_type": "stream",
     "text": [
      "/var/folders/pt/19trqkw56fjfrk2frchqhv2h0000gn/T/ipykernel_81790/503405372.py:24: UserWarning: color is redundantly defined by the 'color' keyword argument and the fmt string \"k:\" (-> color='k'). The keyword argument will take precedence.\n",
      "  plt.plot(x, m*x + b,'k:',zorder=10000,c='black',linewidth=0.5)\n"
     ]
    },
    {
     "name": "stdout",
     "output_type": "stream",
     "text": [
      "0.22061130538466905\n"
     ]
    },
    {
     "data": {
      "image/png": "[encoded data removed]",
      "text/plain": [
       "<Figure size 72x57.6 with 2 Axes>"
      ]
     },
     "metadata": {
      "needs_background": "light"
     },
     "output_type": "display_data"
    }
   ],
   "source": [
    "#MI15\n",
    "from matplotlib.ticker import FixedLocator, FixedFormatter\n",
    "from numpy import polyfit\n",
    "plt.rcParams['font.sans-serif'] = \"Arial\"\n",
    "plt.rcParams['font.family'] = \"sans-serif\"\n",
    "plt.rcParams['axes.linewidth'] = 0.5\n",
    "flierprops = dict(marker='o', markersize=2)\n",
    "fig, ax = plt.subplots(figsize=(1,0.8))\n",
    "from scipy.stats import pearsonr\n",
    "plotting = Frac_bound[['MIa_frac', 'MIb_frac']].copy()\n",
    "plotting.dropna(inplace=True)\n",
    "hb=plt.hexbin(plotting['MIa_frac'], plotting['MIb_frac'],cmap='Greys',bins='log',linewidths=0.2,gridsize=25)\n",
    "plt.xlabel(\"Rep. 1\",fontsize=7,labelpad=1)\n",
    "plt.ylabel(\"Rep. 2\",fontsize=7,labelpad=0)\n",
    "plt.tick_params(labelsize=7,length=2.5)\n",
    "x = plotting['MIa_frac']\n",
    "y = plotting['MIb_frac']\n",
    "cb = fig.colorbar(hb, ax=ax,ticks=[1,10,100,1000],orientation='vertical',pad=0.05)\n",
    "cb.ax.tick_params(labelsize=7,pad=1,size=1)\n",
    "xs = np.array([0,0.2])\n",
    "plt.plot(xs, xs, 'k-',linewidth=0.5)\n",
    "corr, _ = pearsonr(plotting['MIa_frac'], plotting['MIb_frac'])\n",
    "m, b = np.polyfit(plotting['MIa_frac'], plotting['MIb_frac'], 1)\n",
    "plt.plot(x, m*x + b,'k:',zorder=10000,c='black',linewidth=0.5)\n",
    "print(corr)\n",
    "plt.savefig('images/MI15_rep_corr.png',transparent=True, dpi=600,bbox_inches='tight')"
   ]
  },
  {
   "cell_type": "code",
   "execution_count": 4,
   "metadata": {},
   "outputs": [
    {
     "name": "stderr",
     "output_type": "stream",
     "text": [
      "/var/folders/pt/19trqkw56fjfrk2frchqhv2h0000gn/T/ipykernel_81790/1062237925.py:24: UserWarning: color is redundantly defined by the 'color' keyword argument and the fmt string \"k:\" (-> color='k'). The keyword argument will take precedence.\n",
      "  plt.plot(x, m*x + b,'k:',zorder=10000,c='black',linewidth=0.5)\n"
     ]
    },
    {
     "name": "stdout",
     "output_type": "stream",
     "text": [
      "0.16269425742042196\n"
     ]
    },
    {
     "data": {
      "image/png": "[encoded data removed]",
      "text/plain": [
       "<Figure size 72x57.6 with 2 Axes>"
      ]
     },
     "metadata": {
      "needs_background": "light"
     },
     "output_type": "display_data"
    }
   ],
   "source": [
    "#MI15\n",
    "from matplotlib.ticker import FixedLocator, FixedFormatter\n",
    "from numpy import polyfit\n",
    "plt.rcParams['font.sans-serif'] = \"Arial\"\n",
    "plt.rcParams['font.family'] = \"sans-serif\"\n",
    "plt.rcParams['axes.linewidth'] = 0.5\n",
    "flierprops = dict(marker='o', markersize=2)\n",
    "fig, ax = plt.subplots(figsize=(1,0.8))\n",
    "from scipy.stats import pearsonr\n",
    "plotting = Frac_bound[['MIc_frac', 'MIb_frac']].copy()\n",
    "plotting.dropna(inplace=True)\n",
    "hb=plt.hexbin(plotting['MIc_frac'], plotting['MIb_frac'],cmap='Greys',bins='log',linewidths=0.2,gridsize=25)\n",
    "plt.xlabel(\"Rep. 3\",fontsize=7,labelpad=1)\n",
    "plt.ylabel(\"Rep. 2\",fontsize=7,labelpad=0)\n",
    "plt.tick_params(labelsize=7,length=2.5)\n",
    "x = plotting['MIc_frac']\n",
    "y = plotting['MIb_frac']\n",
    "cb = fig.colorbar(hb, ax=ax,ticks=[1,10,100,1000],orientation='vertical',pad=0.05)\n",
    "cb.ax.tick_params(labelsize=7,pad=1,size=1)\n",
    "xs = np.array([0,0.2])\n",
    "plt.plot(xs, xs, 'k-',linewidth=0.5)\n",
    "corr, _ = pearsonr(plotting['MIc_frac'], plotting['MIb_frac'])\n",
    "m, b = np.polyfit(plotting['MIc_frac'], plotting['MIb_frac'], 1)\n",
    "plt.plot(x, m*x + b,'k:',zorder=10000,c='black',linewidth=0.5)\n",
    "print(corr)\n",
    "plt.savefig('images/MI15_rep_corr3.png',transparent=True, dpi=600,bbox_inches='tight')"
   ]
  },
  {
   "cell_type": "code",
   "execution_count": 5,
   "metadata": {},
   "outputs": [
    {
     "name": "stderr",
     "output_type": "stream",
     "text": [
      "/var/folders/pt/19trqkw56fjfrk2frchqhv2h0000gn/T/ipykernel_81790/2102290485.py:24: UserWarning: color is redundantly defined by the 'color' keyword argument and the fmt string \"k:\" (-> color='k'). The keyword argument will take precedence.\n",
      "  plt.plot(x, m*x + b,'k:',zorder=10000,c='black',linewidth=0.5)\n"
     ]
    },
    {
     "name": "stdout",
     "output_type": "stream",
     "text": [
      "0.2243056498281331\n"
     ]
    },
    {
     "data": {
      "image/png": "[encoded data removed]",
      "text/plain": [
       "<Figure size 72x57.6 with 2 Axes>"
      ]
     },
     "metadata": {
      "needs_background": "light"
     },
     "output_type": "display_data"
    }
   ],
   "source": [
    "#MI15\n",
    "from matplotlib.ticker import FixedLocator, FixedFormatter\n",
    "from numpy import polyfit\n",
    "plt.rcParams['font.sans-serif'] = \"Arial\"\n",
    "plt.rcParams['font.family'] = \"sans-serif\"\n",
    "plt.rcParams['axes.linewidth'] = 0.5\n",
    "flierprops = dict(marker='o', markersize=2)\n",
    "fig, ax = plt.subplots(figsize=(1,0.8))\n",
    "from scipy.stats import pearsonr\n",
    "plotting = Frac_bound[['MIc_frac', 'MIa_frac']].copy()\n",
    "plotting.dropna(inplace=True)\n",
    "hb=plt.hexbin(plotting['MIc_frac'], plotting['MIa_frac'],cmap='Greys',bins='log',linewidths=0.2,gridsize=25)\n",
    "plt.xlabel(\"Rep. 3\",fontsize=7,labelpad=1)\n",
    "plt.ylabel(\"Rep. 1\",fontsize=7,labelpad=0)\n",
    "plt.tick_params(labelsize=7,length=2.5)\n",
    "x = plotting['MIc_frac']\n",
    "y = plotting['MIa_frac']\n",
    "cb = fig.colorbar(hb, ax=ax,ticks=[1,10,100,1000],orientation='vertical',pad=0.05)\n",
    "cb.ax.tick_params(labelsize=7,pad=1,size=1)\n",
    "xs = np.array([0,0.2])\n",
    "plt.plot(xs, xs, 'k-',linewidth=0.5)\n",
    "corr, _ = pearsonr(plotting['MIc_frac'], plotting['MIa_frac'])\n",
    "m, b = np.polyfit(plotting['MIc_frac'], plotting['MIa_frac'], 1)\n",
    "plt.plot(x, m*x + b,'k:',zorder=10000,c='black',linewidth=0.5)\n",
    "print(corr)\n",
    "plt.savefig('images/MI15_rep_corr13.png',transparent=True, dpi=600,bbox_inches='tight')"
   ]
  },
  {
   "cell_type": "code",
   "execution_count": 6,
   "metadata": {},
   "outputs": [
    {
     "name": "stderr",
     "output_type": "stream",
     "text": [
      "/var/folders/pt/19trqkw56fjfrk2frchqhv2h0000gn/T/ipykernel_81790/3618493677.py:24: UserWarning: color is redundantly defined by the 'color' keyword argument and the fmt string \"k:\" (-> color='k'). The keyword argument will take precedence.\n",
      "  plt.plot(x, m*x + b,'k:',zorder=10000,c='black',linewidth=0.5)\n"
     ]
    },
    {
     "name": "stdout",
     "output_type": "stream",
     "text": [
      "0.9676318410014959\n"
     ]
    },
    {
     "data": {
      "image/png": "[encoded data removed]",
      "text/plain": [
       "<Figure size 72x57.6 with 2 Axes>"
      ]
     },
     "metadata": {
      "needs_background": "light"
     },
     "output_type": "display_data"
    }
   ],
   "source": [
    "#SI06 G189D\n",
    "from matplotlib.ticker import FixedLocator, FixedFormatter\n",
    "from numpy import polyfit\n",
    "plt.rcParams['font.sans-serif'] = \"Arial\"\n",
    "plt.rcParams['font.family'] = \"sans-serif\"\n",
    "plt.rcParams['axes.linewidth'] = 0.5\n",
    "flierprops = dict(marker='o', markersize=2)\n",
    "fig, ax = plt.subplots(figsize=(1,0.8))\n",
    "from scipy.stats import pearsonr\n",
    "plotting = Frac_bound[['SIa_frac', 'SIb_frac']].copy()\n",
    "plotting.dropna(inplace=True)\n",
    "hb=plt.hexbin(plotting['SIa_frac'], plotting['SIb_frac'],cmap='Greys',bins='log',linewidths=0.2,gridsize=25)\n",
    "plt.xlabel(\"Rep. 1\",fontsize=7,labelpad=1)\n",
    "plt.ylabel(\"Rep. 2\",fontsize=7,labelpad=0)\n",
    "plt.tick_params(labelsize=7,length=2.5)\n",
    "x = plotting['SIa_frac']\n",
    "y = plotting['SIb_frac']\n",
    "cb = fig.colorbar(hb, ax=ax,ticks=[1,10,100,1000],orientation='vertical',pad=0.05)\n",
    "cb.ax.tick_params(labelsize=7,pad=1,size=1)\n",
    "xs = np.array([0,1])\n",
    "plt.plot(xs, xs, 'k-',linewidth=0.5)\n",
    "corr, _ = pearsonr(plotting['SIa_frac'], plotting['SIb_frac'])\n",
    "m, b = np.polyfit(plotting['SIa_frac'], plotting['SIb_frac'], 1)\n",
    "plt.plot(x, m*x + b,'k:',zorder=10000,c='black',linewidth=0.5)\n",
    "print(corr)\n",
    "plt.savefig('images/SI06_G189D_rep_corr.png',transparent=True, dpi=600,bbox_inches='tight')"
   ]
  },
  {
   "cell_type": "code",
   "execution_count": 7,
   "metadata": {},
   "outputs": [
    {
     "name": "stderr",
     "output_type": "stream",
     "text": [
      "/var/folders/pt/19trqkw56fjfrk2frchqhv2h0000gn/T/ipykernel_81790/3912121665.py:24: UserWarning: color is redundantly defined by the 'color' keyword argument and the fmt string \"k:\" (-> color='k'). The keyword argument will take precedence.\n",
      "  plt.plot(x, m*x + b,'k:',zorder=10000,c='black',linewidth=0.5)\n"
     ]
    },
    {
     "name": "stdout",
     "output_type": "stream",
     "text": [
      "0.9720022892047404\n"
     ]
    },
    {
     "data": {
      "image/png": "[encoded data removed]",
      "text/plain": [
       "<Figure size 72x57.6 with 2 Axes>"
      ]
     },
     "metadata": {
      "needs_background": "light"
     },
     "output_type": "display_data"
    }
   ],
   "source": [
    "#SI06 G189D\n",
    "from matplotlib.ticker import FixedLocator, FixedFormatter\n",
    "from numpy import polyfit\n",
    "plt.rcParams['font.sans-serif'] = \"Arial\"\n",
    "plt.rcParams['font.family'] = \"sans-serif\"\n",
    "plt.rcParams['axes.linewidth'] = 0.5\n",
    "flierprops = dict(marker='o', markersize=2)\n",
    "fig, ax = plt.subplots(figsize=(1,0.8))\n",
    "from scipy.stats import pearsonr\n",
    "plotting = Frac_bound[['SIc_frac', 'SIb_frac']].copy()\n",
    "plotting.dropna(inplace=True)\n",
    "hb=plt.hexbin(plotting['SIc_frac'], plotting['SIb_frac'],cmap='Greys',bins='log',linewidths=0.2,gridsize=25)\n",
    "plt.xlabel(\"Rep. 3\",fontsize=7,labelpad=1)\n",
    "plt.ylabel(\"Rep. 2\",fontsize=7,labelpad=0)\n",
    "plt.tick_params(labelsize=7,length=2.5)\n",
    "x = plotting['SIc_frac']\n",
    "y = plotting['SIb_frac']\n",
    "cb = fig.colorbar(hb, ax=ax,ticks=[1,10,100,1000],orientation='vertical',pad=0.05)\n",
    "cb.ax.tick_params(labelsize=7,pad=1,size=1)\n",
    "xs = np.array([0,1])\n",
    "plt.plot(xs, xs, 'k-',linewidth=0.5)\n",
    "corr, _ = pearsonr(plotting['SIc_frac'], plotting['SIb_frac'])\n",
    "m, b = np.polyfit(plotting['SIc_frac'], plotting['SIb_frac'], 1)\n",
    "plt.plot(x, m*x + b,'k:',zorder=10000,c='black',linewidth=0.5)\n",
    "print(corr)\n",
    "plt.savefig('images/SI06_G189D_rep_corr3.png',transparent=True, dpi=600,bbox_inches='tight')"
   ]
  },
  {
   "cell_type": "code",
   "execution_count": 8,
   "metadata": {},
   "outputs": [
    {
     "name": "stderr",
     "output_type": "stream",
     "text": [
      "/var/folders/pt/19trqkw56fjfrk2frchqhv2h0000gn/T/ipykernel_81790/64408092.py:24: UserWarning: color is redundantly defined by the 'color' keyword argument and the fmt string \"k:\" (-> color='k'). The keyword argument will take precedence.\n",
      "  plt.plot(x, m*x + b,'k:',zorder=10000,c='black',linewidth=0.5)\n"
     ]
    },
    {
     "name": "stdout",
     "output_type": "stream",
     "text": [
      "0.9635028017238101\n"
     ]
    },
    {
     "data": {
      "image/png": "[encoded data removed]",
      "text/plain": [
       "<Figure size 72x57.6 with 2 Axes>"
      ]
     },
     "metadata": {
      "needs_background": "light"
     },
     "output_type": "display_data"
    }
   ],
   "source": [
    "#SI06 G189D\n",
    "from matplotlib.ticker import FixedLocator, FixedFormatter\n",
    "from numpy import polyfit\n",
    "plt.rcParams['font.sans-serif'] = \"Arial\"\n",
    "plt.rcParams['font.family'] = \"sans-serif\"\n",
    "plt.rcParams['axes.linewidth'] = 0.5\n",
    "flierprops = dict(marker='o', markersize=2)\n",
    "fig, ax = plt.subplots(figsize=(1,0.8))\n",
    "from scipy.stats import pearsonr\n",
    "plotting = Frac_bound[['SIc_frac', 'SIa_frac']].copy()\n",
    "plotting.dropna(inplace=True)\n",
    "hb=plt.hexbin(plotting['SIc_frac'], plotting['SIa_frac'],cmap='Greys',bins='log',linewidths=0.2,gridsize=25)\n",
    "plt.xlabel(\"Rep. 3\",fontsize=7,labelpad=1)\n",
    "plt.ylabel(\"Rep. 1\",fontsize=7,labelpad=0)\n",
    "plt.tick_params(labelsize=7,length=2.5)\n",
    "x = plotting['SIc_frac']\n",
    "y = plotting['SIa_frac']\n",
    "cb = fig.colorbar(hb, ax=ax,ticks=[1,10,100,1000],orientation='vertical',pad=0.05)\n",
    "cb.ax.tick_params(labelsize=7,pad=1,size=1)\n",
    "xs = np.array([0,1])\n",
    "plt.plot(xs, xs, 'k-',linewidth=0.5)\n",
    "corr, _ = pearsonr(plotting['SIc_frac'], plotting['SIa_frac'])\n",
    "m, b = np.polyfit(plotting['SIc_frac'], plotting['SIa_frac'], 1)\n",
    "plt.plot(x, m*x + b,'k:',zorder=10000,c='black',linewidth=0.5)\n",
    "print(corr)\n",
    "plt.savefig('images/SI06_G189D_rep_corr13.png',transparent=True, dpi=600,bbox_inches='tight')"
   ]
  },
  {
   "cell_type": "markdown",
   "metadata": {},
   "source": [
    "## general landscape figures"
   ]
  },
  {
   "cell_type": "code",
   "execution_count": 90,
   "metadata": {},
   "outputs": [],
   "source": [
    "from matplotlib.ticker import FixedLocator, FixedFormatter\n",
    "import matplotlib.colors as mc\n",
    "import colorsys\n",
    "from matplotlib.ticker import FixedLocator, FixedFormatter\n",
    "\n",
    "def lighten_color(color, amount=0.5):  \n",
    "    # --------------------- SOURCE: @IanHincks ---------------------\n",
    "    try:\n",
    "        c = mc.cnames[color]\n",
    "    except:\n",
    "        c = color\n",
    "    c = colorsys.rgb_to_hls(*mc.to_rgb(c))\n",
    "    return colorsys.hls_to_rgb(c[0], 1 - amount * (1 - c[1]), c[2])\n"
   ]
  },
  {
   "cell_type": "code",
   "execution_count": 91,
   "metadata": {},
   "outputs": [
    {
     "name": "stdout",
     "output_type": "stream",
     "text": [
      "[1.1862595572127452, 0.3084996984385441, 0.3620566064847927, 0.0269452444924713]\n",
      "[1.209273387118493, 0.3555112045832765, 5.02445208029109, 1.132467414994785]\n",
      "[1.4614548789507225, 0.3334296818342589, 87.99894732598761, 1.739880828609849]\n"
     ]
    }
   ],
   "source": [
    "#get germline, i2, and somatic Kd values\n",
    "germ_MA90 = float(all_data['MA90_mean'].values[all_data['geno']=='0000000000000000'])\n",
    "germ_SI06 = float(all_data['SI06_mean'].values[all_data['geno']=='0000000000000000'])\n",
    "germ_G189E = float(all_data['G189E_mean'].values[all_data['geno']=='0000000000000000'])\n",
    "I2_MA90 = float(all_data['MA90_mean'].values[all_data['geno']=='0000001010100000'])\n",
    "I2_SI06 = float(all_data['SI06_mean'].values[all_data['geno']=='0000001010100000'])\n",
    "I2_G189E = float(all_data['G189E_mean'].values[all_data['geno']=='0000001010100000'])\n",
    "som_MA90 = float(all_data['MA90_mean'].values[all_data['geno']=='1111111111111111'])\n",
    "som_SI06 = float(all_data['SI06_mean'].values[all_data['geno']=='1111111111111111'])\n",
    "som_G189E = float(all_data['G189E_mean'].values[all_data['geno']=='1111111111111111'])\n",
    "\n",
    "#get germline, i2, and somatic enrichment scores\n",
    "germ_MI = float(all_data['MI_frac_mean'].values[all_data['geno']=='0000000000000000'])\n",
    "germ_SI = float(all_data['SI_frac_mean'].values[all_data['geno']=='0000000000000000'])\n",
    "germ_MI_e = float(all_data['MI_frac_sem'].values[all_data['geno']=='0000000000000000'])\n",
    "germ_SI_e = float(all_data['SI_frac_sem'].values[all_data['geno']=='0000000000000000'])\n",
    "I2_MI = float(all_data['MI_frac_mean'].values[all_data['geno']=='0000001010100000'])\n",
    "I2_SI = float(all_data['SI_frac_mean'].values[all_data['geno']=='0000001010100000'])\n",
    "I2_MI_e = float(all_data['MI_frac_sem'].values[all_data['geno']=='0000001010100000'])\n",
    "I2_SI_e = float(all_data['SI_frac_sem'].values[all_data['geno']=='0000001010100000'])\n",
    "som_MI = float(all_data['MI_frac_mean'].values[all_data['geno']=='1111111111111111'])\n",
    "som_SI = float(all_data['SI_frac_mean'].values[all_data['geno']=='1111111111111111'])\n",
    "som_MI_e = float(all_data['MI_frac_sem'].values[all_data['geno']=='1111111111111111'])\n",
    "som_SI_e = float(all_data['SI_frac_sem'].values[all_data['geno']=='1111111111111111'])\n",
    "germline = ([germ_MI,germ_MI_e,germ_SI,germ_SI_e])\n",
    "i2 = ([I2_MI,I2_MI_e,I2_SI,I2_SI_e])\n",
    "somatic = ([som_MI,som_MI_e,som_SI,som_SI_e])\n",
    "print(germline)\n",
    "print(i2)\n",
    "print(somatic)"
   ]
  },
  {
   "cell_type": "markdown",
   "metadata": {},
   "source": [
    "## box plots by number of mutations"
   ]
  },
  {
   "cell_type": "code",
   "execution_count": 100,
   "metadata": {},
   "outputs": [
    {
     "data": {
      "image/png": "[encoded data removed]",
      "text/plain": [
       "<Figure size 108x72 with 1 Axes>"
      ]
     },
     "metadata": {
      "needs_background": "light"
     },
     "output_type": "display_data"
    }
   ],
   "source": [
    "plt.rcParams['font.sans-serif'] = \"Arial\"\n",
    "# Then, \"ALWAYS use sans-serif fonts\"\n",
    "plt.rcParams['font.family'] = \"sans-serif\"\n",
    "plt.rcParams['axes.linewidth'] = 0.5\n",
    "flierprops = dict(marker='o', markersize=2)\n",
    "fig, ax = plt.subplots(figsize=(1.5,1))      \n",
    "sns.boxplot(x=\"som_mut\", y=\"MI_frac_mean\", data=all_data,palette='plasma', saturation=1,\n",
    "            flierprops=flierprops, ax=ax)\n",
    "\n",
    "plt.xlabel(\"# mutations\",fontsize=8)\n",
    "plt.ylabel(\"MI15\\n% bound\",fontsize=8,labelpad=0)\n",
    "plt.tick_params(\n",
    "    axis='x',          # changes apply to the x-axis\n",
    "    which='both',      # both major and minor ticks are affected\n",
    "    bottom=True,      # ticks along the bottom edge are off\n",
    "    top=False,         # ticks along the top edge are off\n",
    "    labelbottom=True,\n",
    "    labelsize=6)\n",
    "plt.tick_params(\n",
    "    axis='y',          # changes apply to the x-axis\n",
    "    labelsize=6,\n",
    "    pad=0.5)\n",
    "# y_locator = FixedLocator([0,0.5,1])\n",
    "# ax.yaxis.set_major_locator(y_locator)\n",
    "# ax.set_yticklabels(['0','0.5','1'])\n",
    "plt.ylim(0,12)\n",
    "x_locator = FixedLocator([0,2,4,6,8,10,12,14,16])\n",
    "ax.xaxis.set_major_locator(x_locator)\n",
    "ax.set_xticklabels(['0','2','4','6','8','10','12','14','16'])\n",
    "\n",
    "for i,artist in enumerate(ax.artists):\n",
    "    # Set the linecolor on the artist to the facecolor, and set the facecolor to None\n",
    "    col = lighten_color(artist.get_facecolor(), 1.2)\n",
    "    artist.set_edgecolor(col) \n",
    "    artist.set_edgecolor('black') \n",
    "    artist.set_linewidth(0.5)\n",
    "\n",
    "    # Each box has 6 associated Line2D objects (to make the whiskers, fliers, etc.)\n",
    "    # Loop over them here, and use the same colour as above\n",
    "    for j in range(i*6,i*6+6):\n",
    "        line = ax.lines[j]\n",
    "        line.set_mfc(col)\n",
    "        line.set_mec(col)\n",
    "        line.set_linewidth(1)\n",
    "plt.savefig('images/20220723_CH65_MI15_box_bymut.png', transparent=True, dpi=1200,bbox_inches='tight')"
   ]
  },
  {
   "cell_type": "code",
   "execution_count": 99,
   "metadata": {},
   "outputs": [
    {
     "data": {
      "image/png": "[encoded data removed]",
      "text/plain": [
       "<Figure size 108x72 with 1 Axes>"
      ]
     },
     "metadata": {
      "needs_background": "light"
     },
     "output_type": "display_data"
    }
   ],
   "source": [
    "plt.rcParams['font.sans-serif'] = \"Arial\"\n",
    "# Then, \"ALWAYS use sans-serif fonts\"\n",
    "plt.rcParams['font.family'] = \"sans-serif\"\n",
    "plt.rcParams['axes.linewidth'] = 0.5\n",
    "flierprops = dict(marker='o', markersize=2)\n",
    "fig, ax = plt.subplots(figsize=(1.5,1))      \n",
    "sns.boxplot(x=\"som_mut\", y=\"SI_frac_mean\", data=all_data,palette='plasma', saturation=1,\n",
    "            flierprops=flierprops, ax=ax)\n",
    "\n",
    "plt.xlabel(\"# mutations\",fontsize=8)\n",
    "plt.ylabel(\"SI06-G189D\\n% bound\",fontsize=8,labelpad=0)\n",
    "plt.tick_params(\n",
    "    axis='x',          # changes apply to the x-axis\n",
    "    which='both',      # both major and SInor ticks are affected\n",
    "    bottom=True,      # ticks along the bottom edge are off\n",
    "    top=False,         # ticks along the top edge are off\n",
    "    labelbottom=True,\n",
    "    labelsize=6)\n",
    "plt.tick_params(\n",
    "    axis='y',          # changes apply to the x-axis\n",
    "    labelsize=6,\n",
    "    pad=0.5)\n",
    "# y_locator = FixedLocator([0,0.5,1])\n",
    "# ax.yaxis.set_major_locator(y_locator)\n",
    "# ax.set_yticklabels(['0','0.5','1'])\n",
    "# plt.ylim(0,1.1)\n",
    "x_locator = FixedLocator([0,2,4,6,8,10,12,14,16])\n",
    "ax.xaxis.set_major_locator(x_locator)\n",
    "ax.set_xticklabels(['0','2','4','6','8','10','12','14','16'])\n",
    "\n",
    "for i,artist in enumerate(ax.artists):\n",
    "    # Set the linecolor on the artist to the facecolor, and set the facecolor to None\n",
    "    col = lighten_color(artist.get_facecolor(), 1.2)\n",
    "    artist.set_edgecolor(col) \n",
    "    artist.set_edgecolor('black') \n",
    "    artist.set_linewidth(0.5)\n",
    "\n",
    "    # Each box has 6 associated Line2D objects (to make the whiskers, fliers, etc.)\n",
    "    # Loop over them here, and use the same colour as above\n",
    "    for j in range(i*6,i*6+6):\n",
    "        line = ax.lines[j]\n",
    "        line.set_mfc(col)\n",
    "        line.set_mec(col)\n",
    "        line.set_linewidth(1)\n",
    "plt.savefig('images/20220723_CH65_SIG189D_box_bymut.png', transparent=True, dpi=1200,bbox_inches='tight')"
   ]
  },
  {
   "cell_type": "markdown",
   "metadata": {},
   "source": [
    "## Histograms"
   ]
  },
  {
   "cell_type": "code",
   "execution_count": 48,
   "metadata": {},
   "outputs": [
    {
     "data": {
      "image/png": "[encoded data removed]",
      "text/plain": [
       "<Figure size 69.84x72 with 1 Axes>"
      ]
     },
     "metadata": {
      "needs_background": "light"
     },
     "output_type": "display_data"
    }
   ],
   "source": [
    "plt.rcParams['font.sans-serif'] = \"Arial\"\n",
    "plt.rcParams['axes.linewidth'] = 0.5\n",
    "from matplotlib import ticker\n",
    "formatter = ticker.ScalarFormatter(useMathText=True)\n",
    "formatter.set_scientific(True) \n",
    "# Then, \"ALWAYS use sans-serif fonts\"\n",
    "plt.rcParams['font.family'] = \"sans-serif\"\n",
    "x = all_data['MI_frac_mean']\n",
    "fig = plt.figure(figsize=(0.97,1))\n",
    "ax = fig.add_subplot()\n",
    "ax.hist(x,bins=50,color='dimgray')\n",
    "ax.yaxis.set_tick_params(labelsize=7,pad=1,length=2.5,width=0)\n",
    "x_locator = FixedLocator([0,0.5,1])\n",
    "ax.xaxis.set_tick_params(labelsize=7,pad=1,length=2.5,width=0)\n",
    "ax.xaxis.set_major_locator(x_locator)\n",
    "ax.xaxis.set_ticklabels([])\n",
    "ax.yaxis.set_ticklabels([])\n",
    "#ax.yaxis.set_major_formatter(formatter)\n",
    "ax.set_xlim([0, 12])\n",
    "plt.xlabel(' ',fontsize=8,labelpad=1)\n",
    "plt.ylabel(' ',fontsize=8,labelpad=1)\n",
    "#plt.ticklabel_format(style='sci', axis='y', scilimits=(0,0),useMathText=True)\n",
    "ax.yaxis.get_offset_text().set_fontsize(7)\n",
    "#plt.title('MA90',fontsize=8)\n",
    "plt.savefig(\"images/20220723_MI_hist.png\", transparent=True, dpi=600,bbox_inches='tight')"
   ]
  },
  {
   "cell_type": "code",
   "execution_count": 14,
   "metadata": {},
   "outputs": [
    {
     "data": {
      "image/png": "[encoded data removed]",
      "text/plain": [
       "<Figure size 69.84x72 with 1 Axes>"
      ]
     },
     "metadata": {
      "needs_background": "light"
     },
     "output_type": "display_data"
    }
   ],
   "source": [
    "plt.rcParams['font.sans-serif'] = \"Arial\"\n",
    "plt.rcParams['axes.linewidth'] = 0.5\n",
    "from matplotlib import ticker\n",
    "formatter = ticker.ScalarFormatter(useMathText=True)\n",
    "formatter.set_scientific(True) \n",
    "# Then, \"ALWAYS use sans-serif fonts\"\n",
    "plt.rcParams['font.family'] = \"sans-serif\"\n",
    "x = all_data['SI_frac_mean']\n",
    "fig = plt.figure(figsize=(0.97,1))\n",
    "ax = fig.add_subplot()\n",
    "ax.hist(x,bins=50,color='dimgray')\n",
    "ax.yaxis.set_tick_params(labelsize=7,pad=1,length=2.5,width=0)\n",
    "x_locator = FixedLocator([0,0.5,1])\n",
    "ax.xaxis.set_tick_params(labelsize=7,pad=1,length=2.5,width=0)\n",
    "ax.xaxis.set_major_locator(x_locator)\n",
    "ax.xaxis.set_ticklabels([])\n",
    "ax.yaxis.set_ticklabels([])\n",
    "#ax.yaxis.set_major_formatter(formatter)\n",
    "ax.set_xlim([0, 100])\n",
    "plt.xlabel(' ',fontsize=8,labelpad=1)\n",
    "plt.ylabel(' ',fontsize=8,labelpad=1)\n",
    "#plt.ticklabel_format(style='sci', axis='y', scilimits=(0,0),useMathText=True)\n",
    "ax.yaxis.get_offset_text().set_fontsize(7)\n",
    "#plt.title('MA90',fontsize=8)\n",
    "plt.savefig(\"images/20220723_SI_hist.png\", transparent=True, dpi=600,bbox_inches='tight')"
   ]
  },
  {
   "cell_type": "markdown",
   "metadata": {},
   "source": [
    "## Pleiotropy scatter plots"
   ]
  },
  {
   "cell_type": "code",
   "execution_count": 101,
   "metadata": {},
   "outputs": [
    {
     "data": {
      "text/plain": [
       "<Figure size 432x288 with 0 Axes>"
      ]
     },
     "metadata": {},
     "output_type": "display_data"
    },
    {
     "data": {
      "image/png": "[encoded data removed]",
      "text/plain": [
       "<Figure size 198x162 with 2 Axes>"
      ]
     },
     "metadata": {
      "needs_background": "light"
     },
     "output_type": "display_data"
    }
   ],
   "source": [
    "# libraries\n",
    "from mpl_toolkits.mplot3d import Axes3D\n",
    "import matplotlib.pyplot as plt\n",
    "plt.rcParams[\"axes.grid\"] = False\n",
    "plt.rcParams['font.sans-serif'] = \"Arial\"\n",
    "# Then, \"ALWAYS use sans-serif fonts\"\n",
    "plt.rcParams['font.family'] = \"sans-serif\"\n",
    "plt.rcParams['axes.linewidth'] = 0.5\n",
    "cmap=plt.cm.plasma\n",
    "plt.clf()\n",
    "# plot\n",
    "x = all_data['MI_frac_mean']\n",
    "y = all_data['SI_frac_mean']\n",
    "plt.rcParams['grid.color'] = \"white\"\n",
    "fig = plt.figure(figsize=(2.75,2.25))\n",
    "ax = fig.add_subplot()\n",
    "# x_locator = FixedLocator([8,9,10])\n",
    "# y_locator = FixedLocator([6,7,8,9])\n",
    "# ax.set_xticklabels(['8','9','10'])\n",
    "# ax.set_yticklabels(['≤ 6','7','8','9'])\n",
    "# ax.xaxis.set_major_locator(x_locator)\n",
    "# ax.yaxis.set_major_locator(y_locator)\n",
    "# plt.axvline(x=6,linestyle='dashed',linewidth=0.5,color='black')\n",
    "# plt.axhline(y=6,linestyle='dashed',linewidth=0.5,color='black')\n",
    "ax.scatter(x,y, c=all_data['som_mut'], cmap=cmap, s=5, alpha = 0.1, zorder=-10000)\n",
    "germ=ax.scatter(germ_MI,germ_SI, s=50,c='blue', marker='*',edgecolor='black',linewidths=0.5,alpha=1,zorder=99999999)\n",
    "I2=ax.scatter(I2_MI,I2_SI,s=50,c='purple', marker='*',edgecolor='black',linewidths=0.5,alpha=1,zorder=999999)\n",
    "som=ax.scatter(som_MI,som_SI,s=50,c='yellow', marker='*',edgecolor='black',linewidths=0.5,alpha=1,zorder=999999)\n",
    "ax.yaxis.set_tick_params(labelsize=7,pad=3,length=2.5)\n",
    "ax.xaxis.set_tick_params(labelsize=7,pad=3,length=2.5)\n",
    "# ax.set_xlim([7.5, 10.5])\n",
    "# ax.set_ylim([5.5, 9.5])\n",
    "ax.spines['right'].set_visible(False)\n",
    "ax.spines['top'].set_visible(False)\n",
    "plt.xlabel('MI15 % bound',fontsize=8,labelpad=1)\n",
    "plt.ylabel('SI06-G189D % bound',fontsize=8,labelpad=0)\n",
    "plt.axvline(x=8.36,linestyle='dashed',c='black',linewidth=0.25)\n",
    "plt.axhline(y=92.32,linestyle='dashed',c='black',linewidth=0.25)\n",
    "plt.title('',fontsize=10)\n",
    "sm = plt.cm.ScalarMappable(cmap=plt.cm.plasma, norm=plt.Normalize(vmin = 0, vmax=16))\n",
    "sm._A = []\n",
    "cbar = plt.colorbar(sm,fraction=0.03, pad=0.05,orientation='vertical',aspect=20,ticks=[0,2,4,6,8,10,12,14,16])\n",
    "cbar.set_label(label='# somatic mutations',size=8)\n",
    "cbar.ax.tick_params(labelsize=7)\n",
    "plt.savefig(\"images/20220723_CH65_MI15_SIG189D.png\", transparent=True, dpi=600,bbox_inches='tight')"
   ]
  },
  {
   "cell_type": "markdown",
   "metadata": {},
   "source": [
    "# correlation between MI15 and other antigens"
   ]
  },
  {
   "cell_type": "code",
   "execution_count": 16,
   "metadata": {},
   "outputs": [
    {
     "name": "stdout",
     "output_type": "stream",
     "text": [
      "0.30268459228434297\n"
     ]
    },
    {
     "data": {
      "image/png": "[encoded data removed]",
      "text/plain": [
       "<Figure size 72x57.6 with 2 Axes>"
      ]
     },
     "metadata": {
      "needs_background": "light"
     },
     "output_type": "display_data"
    }
   ],
   "source": [
    "#CH65 MA90 vs MI15\n",
    "from matplotlib.ticker import FixedLocator, FixedFormatter\n",
    "from numpy import polyfit\n",
    "plt.rcParams['font.sans-serif'] = \"Arial\"\n",
    "plt.rcParams['font.family'] = \"sans-serif\"\n",
    "plt.rcParams['axes.linewidth'] = 0.5\n",
    "flierprops = dict(marker='o', markersize=2)\n",
    "fig, ax = plt.subplots(figsize=(1,0.8))\n",
    "from scipy.stats import pearsonr\n",
    "plotting = all_data[['MI_frac_mean', 'MA90_mean']].copy()\n",
    "plotting.dropna(inplace=True)\n",
    "hb=plt.hexbin(plotting['MI_frac_mean'], plotting['MA90_mean'],cmap='Reds',linewidths=0.2,bins='log',gridsize=25)\n",
    "plt.xlabel(\"MI15 %bound\",fontsize=7,labelpad=1)\n",
    "plt.ylabel(\"MA90 –logKd\",fontsize=7,labelpad=0)\n",
    "plt.tick_params(labelsize=7,length=2.5,pad=0)\n",
    "x = plotting['MI_frac_mean']\n",
    "y = plotting['MA90_mean']\n",
    "cb = fig.colorbar(hb, ax=ax,ticks=[1,10,100,1000],orientation='vertical',pad=0.05)\n",
    "cb.ax.tick_params(labelsize=7,pad=1,size=1)\n",
    "corr, _ = pearsonr(plotting['MI_frac_mean'], plotting['MA90_mean'])\n",
    "print(corr)\n",
    "plt.savefig('images/CH65_MI_vs_MA90.png',transparent=True, dpi=600,bbox_inches='tight')"
   ]
  },
  {
   "cell_type": "code",
   "execution_count": 105,
   "metadata": {},
   "outputs": [
    {
     "data": {
      "text/plain": [
       "<Figure size 432x288 with 0 Axes>"
      ]
     },
     "metadata": {},
     "output_type": "display_data"
    },
    {
     "data": {
      "image/png": "[encoded data removed]",
      "text/plain": [
       "<Figure size 198x162 with 2 Axes>"
      ]
     },
     "metadata": {
      "needs_background": "light"
     },
     "output_type": "display_data"
    }
   ],
   "source": [
    "# libraries\n",
    "from mpl_toolkits.mplot3d import Axes3D\n",
    "import matplotlib.pyplot as plt\n",
    "plt.rcParams[\"axes.grid\"] = False\n",
    "plt.rcParams['font.sans-serif'] = \"Arial\"\n",
    "# Then, \"ALWAYS use sans-serif fonts\"\n",
    "plt.rcParams['font.family'] = \"sans-serif\"\n",
    "plt.rcParams['axes.linewidth'] = 0.5\n",
    "cmap=plt.cm.plasma\n",
    "plt.clf()\n",
    "# plot\n",
    "x = all_data['MI_frac_mean']\n",
    "y = all_data['MA90_mean']\n",
    "plt.rcParams['grid.color'] = \"white\"\n",
    "fig = plt.figure(figsize=(2.75,2.25))\n",
    "ax = fig.add_subplot()\n",
    "# x_locator = FixedLocator([8,9,10])\n",
    "# y_locator = FixedLocator([6,7,8,9])\n",
    "# ax.set_xticklabels(['8','9','10'])\n",
    "# ax.set_yticklabels(['≤ 6','7','8','9'])\n",
    "# ax.xaxis.set_major_locator(x_locator)\n",
    "# ax.yaxis.set_major_locator(y_locator)\n",
    "# plt.axvline(x=6,linestyle='dashed',linewidth=0.5,color='black')\n",
    "# plt.axhline(y=6,linestyle='dashed',linewidth=0.5,color='black')\n",
    "ax.scatter(x,y, c=all_data['som_mut'], cmap=cmap, s=5, alpha = 0.1, zorder=-10000)\n",
    "germ=ax.scatter(germ_MI,germ_MA90, s=50,c='blue', marker='*',edgecolor='black',linewidths=0.5,alpha=1,zorder=99999999)\n",
    "I2=ax.scatter(I2_MI,I2_MA90,s=50,c='purple', marker='*',edgecolor='black',linewidths=0.5,alpha=1,zorder=999999)\n",
    "som=ax.scatter(som_MI,som_MA90,s=50,c='yellow', marker='*',edgecolor='black',linewidths=0.5,alpha=1,zorder=999999)\n",
    "ax.yaxis.set_tick_params(labelsize=7,pad=3,length=2.5)\n",
    "ax.xaxis.set_tick_params(labelsize=7,pad=3,length=2.5)\n",
    "# ax.set_xlim([7.5, 10.5])\n",
    "# ax.set_ylim([5.5, 9.5])\n",
    "ax.spines['right'].set_visible(False)\n",
    "ax.spines['top'].set_visible(False)\n",
    "plt.xlabel('MI15 % bound',fontsize=8,labelpad=1)\n",
    "plt.ylabel('MA90 $-\\log K_D$',fontsize=8,labelpad=0)\n",
    "plt.title('MI15 vs MA90',fontsize=10)\n",
    "sm = plt.cm.ScalarMappable(cmap=plt.cm.plasma, norm=plt.Normalize(vmin = 0, vmax=16))\n",
    "sm._A = []\n",
    "cbar = plt.colorbar(sm,fraction=0.03, pad=0.05,orientation='vertical',aspect=20,ticks=[0,2,4,6,8,10,12,14,16])\n",
    "cbar.set_label(label='# somatic mutations',size=8)\n",
    "cbar.ax.tick_params(labelsize=7)\n",
    "plt.savefig(\"images/20220723_CH65_MI15_MA90.png\", transparent=True, dpi=600,bbox_inches='tight')"
   ]
  },
  {
   "cell_type": "code",
   "execution_count": 18,
   "metadata": {},
   "outputs": [
    {
     "name": "stdout",
     "output_type": "stream",
     "text": [
      "0.11216102284021594\n"
     ]
    },
    {
     "data": {
      "image/png": "[encoded data removed]",
      "text/plain": [
       "<Figure size 72x57.6 with 2 Axes>"
      ]
     },
     "metadata": {
      "needs_background": "light"
     },
     "output_type": "display_data"
    }
   ],
   "source": [
    "#CH65 SI06 vs MI15\n",
    "from matplotlib.ticker import FixedLocator, FixedFormatter\n",
    "from numpy import polyfit\n",
    "plt.rcParams['font.sans-serif'] = \"Arial\"\n",
    "plt.rcParams['font.family'] = \"sans-serif\"\n",
    "plt.rcParams['axes.linewidth'] = 0.5\n",
    "flierprops = dict(marker='o', markersize=2)\n",
    "fig, ax = plt.subplots(figsize=(1,0.8))\n",
    "from scipy.stats import pearsonr\n",
    "plotting = all_data[['MI_frac_mean', 'SI06_mean']].copy()\n",
    "plotting.dropna(inplace=True)\n",
    "hb=plt.hexbin(plotting['MI_frac_mean'], plotting['SI06_mean'],cmap='Greens',linewidths=0.2,bins='log',gridsize=25)\n",
    "plt.xlabel(\"MI15 %bound\",fontsize=7,labelpad=1)\n",
    "plt.ylabel(\"SI06 –logKd\",fontsize=7,labelpad=0)\n",
    "plt.tick_params(labelsize=7,length=2.5,pad=0)\n",
    "x = plotting['MI_frac_mean']\n",
    "y = plotting['SI06_mean']\n",
    "cb = fig.colorbar(hb, ax=ax,ticks=[1,10,100,1000],orientation='vertical',pad=0.05)\n",
    "cb.ax.tick_params(labelsize=7,pad=1,size=1)\n",
    "corr, _ = pearsonr(plotting['MI_frac_mean'], plotting['SI06_mean'])\n",
    "print(corr)\n",
    "plt.savefig('images/CH65_MI_vs_SI06.png',transparent=True, dpi=600,bbox_inches='tight')"
   ]
  },
  {
   "cell_type": "code",
   "execution_count": 106,
   "metadata": {},
   "outputs": [
    {
     "data": {
      "text/plain": [
       "<Figure size 432x288 with 0 Axes>"
      ]
     },
     "metadata": {},
     "output_type": "display_data"
    },
    {
     "data": {
      "image/png": "[encoded data removed]",
      "text/plain": [
       "<Figure size 198x162 with 2 Axes>"
      ]
     },
     "metadata": {
      "needs_background": "light"
     },
     "output_type": "display_data"
    }
   ],
   "source": [
    "# libraries\n",
    "from mpl_toolkits.mplot3d import Axes3D\n",
    "import matplotlib.pyplot as plt\n",
    "plt.rcParams[\"axes.grid\"] = False\n",
    "plt.rcParams['font.sans-serif'] = \"Arial\"\n",
    "# Then, \"ALWAYS use sans-serif fonts\"\n",
    "plt.rcParams['font.family'] = \"sans-serif\"\n",
    "plt.rcParams['axes.linewidth'] = 0.5\n",
    "cmap=plt.cm.plasma\n",
    "plt.clf()\n",
    "# plot\n",
    "x = all_data['MI_frac_mean']\n",
    "y = all_data['SI06_mean']\n",
    "plt.rcParams['grid.color'] = \"white\"\n",
    "fig = plt.figure(figsize=(2.75,2.25))\n",
    "ax = fig.add_subplot()\n",
    "# x_locator = FixedLocator([8,9,10])\n",
    "# y_locator = FixedLocator([6,7,8,9])\n",
    "# ax.set_xticklabels(['8','9','10'])\n",
    "# ax.set_yticklabels(['≤ 6','7','8','9'])\n",
    "# ax.xaxis.set_major_locator(x_locator)\n",
    "# ax.yaxis.set_major_locator(y_locator)\n",
    "# plt.axvline(x=6,linestyle='dashed',linewidth=0.5,color='black')\n",
    "# plt.axhline(y=6,linestyle='dashed',linewidth=0.5,color='black')\n",
    "ax.scatter(x,y, c=all_data['som_mut'], cmap=cmap, s=5, alpha = 0.1, zorder=-10000)\n",
    "germ=ax.scatter(germ_MI,germ_SI06, s=50,c='blue', marker='*',edgecolor='black',linewidths=0.5,alpha=1,zorder=99999999)\n",
    "I2=ax.scatter(I2_MI,I2_SI06,s=50,c='purple', marker='*',edgecolor='black',linewidths=0.5,alpha=1,zorder=999999)\n",
    "som=ax.scatter(som_MI,som_SI06,s=50,c='yellow', marker='*',edgecolor='black',linewidths=0.5,alpha=1,zorder=999999)\n",
    "ax.yaxis.set_tick_params(labelsize=7,pad=3,length=2.5)\n",
    "ax.xaxis.set_tick_params(labelsize=7,pad=3,length=2.5)\n",
    "# ax.set_xlim([7.5, 10.5])\n",
    "# ax.set_ylim([5.5, 9.5])\n",
    "ax.spines['right'].set_visible(False)\n",
    "ax.spines['top'].set_visible(False)\n",
    "plt.xlabel('MI15 % bound',fontsize=8,labelpad=1)\n",
    "plt.ylabel('SI06 $-\\log K_D$',fontsize=8,labelpad=0)\n",
    "plt.title('MI15 vs SI06',fontsize=10)\n",
    "sm = plt.cm.ScalarMappable(cmap=plt.cm.plasma, norm=plt.Normalize(vmin = 0, vmax=16))\n",
    "sm._A = []\n",
    "cbar = plt.colorbar(sm,fraction=0.03, pad=0.05,orientation='vertical',aspect=20,ticks=[0,2,4,6,8,10,12,14,16])\n",
    "cbar.set_label(label='# somatic mutations',size=8)\n",
    "cbar.ax.tick_params(labelsize=7)\n",
    "plt.savefig(\"images/20220723_CH65_MI15_SI06.png\", transparent=True, dpi=600,bbox_inches='tight')"
   ]
  },
  {
   "cell_type": "code",
   "execution_count": 20,
   "metadata": {},
   "outputs": [
    {
     "name": "stdout",
     "output_type": "stream",
     "text": [
      "0.213715269172976\n"
     ]
    },
    {
     "data": {
      "image/png": "[encoded data removed]",
      "text/plain": [
       "<Figure size 72x57.6 with 2 Axes>"
      ]
     },
     "metadata": {
      "needs_background": "light"
     },
     "output_type": "display_data"
    }
   ],
   "source": [
    "#CH65 G189E vs MI15\n",
    "from matplotlib.ticker import FixedLocator, FixedFormatter\n",
    "from numpy import polyfit\n",
    "plt.rcParams['font.sans-serif'] = \"Arial\"\n",
    "plt.rcParams['font.family'] = \"sans-serif\"\n",
    "plt.rcParams['axes.linewidth'] = 0.5\n",
    "flierprops = dict(marker='o', markersize=2)\n",
    "fig, ax = plt.subplots(figsize=(1,0.8))\n",
    "from scipy.stats import pearsonr\n",
    "plotting = all_data[['MI_frac_mean', 'G189E_mean']].copy()\n",
    "plotting.dropna(inplace=True)\n",
    "hb=plt.hexbin(plotting['MI_frac_mean'], plotting['G189E_mean'],cmap='Blues',linewidths=0.2,bins='log',gridsize=25)\n",
    "plt.xlabel(\"MI15 %bound\",fontsize=7,labelpad=1)\n",
    "plt.ylabel(\"G189E –logKd\",fontsize=7,labelpad=0)\n",
    "plt.tick_params(labelsize=7,length=2.5,pad=0)\n",
    "x = plotting['MI_frac_mean']\n",
    "y = plotting['G189E_mean']\n",
    "cb = fig.colorbar(hb, ax=ax,ticks=[1,10,100,1000],orientation='vertical',pad=0.05)\n",
    "cb.ax.tick_params(labelsize=7,pad=1,size=1)\n",
    "corr, _ = pearsonr(plotting['MI_frac_mean'], plotting['G189E_mean'])\n",
    "print(corr)\n",
    "plt.savefig('images/CH65_MI_vs_G189E.png',transparent=True, dpi=600,bbox_inches='tight')"
   ]
  },
  {
   "cell_type": "code",
   "execution_count": 107,
   "metadata": {},
   "outputs": [
    {
     "data": {
      "text/plain": [
       "<Figure size 432x288 with 0 Axes>"
      ]
     },
     "metadata": {},
     "output_type": "display_data"
    },
    {
     "data": {
      "image/png": "[encoded data removed]",
      "text/plain": [
       "<Figure size 198x162 with 2 Axes>"
      ]
     },
     "metadata": {
      "needs_background": "light"
     },
     "output_type": "display_data"
    }
   ],
   "source": [
    "# libraries\n",
    "from mpl_toolkits.mplot3d import Axes3D\n",
    "import matplotlib.pyplot as plt\n",
    "plt.rcParams[\"axes.grid\"] = False\n",
    "plt.rcParams['font.sans-serif'] = \"Arial\"\n",
    "# Then, \"ALWAYS use sans-serif fonts\"\n",
    "plt.rcParams['font.family'] = \"sans-serif\"\n",
    "plt.rcParams['axes.linewidth'] = 0.5\n",
    "cmap=plt.cm.plasma\n",
    "plt.clf()\n",
    "# plot\n",
    "x = all_data['MI_frac_mean']\n",
    "y = all_data['G189E_mean']\n",
    "plt.rcParams['grid.color'] = \"white\"\n",
    "fig = plt.figure(figsize=(2.75,2.25))\n",
    "ax = fig.add_subplot()\n",
    "# x_locator = FixedLocator([8,9,10])\n",
    "# y_locator = FixedLocator([6,7,8,9])\n",
    "# ax.set_xticklabels(['8','9','10'])\n",
    "# ax.set_yticklabels(['≤ 6','7','8','9'])\n",
    "\n",
    "# plt.axvline(x=6,linestyle='dashed',linewidth=0.5,color='black')\n",
    "# plt.axhline(y=6,linestyle='dashed',linewidth=0.5,color='black')\n",
    "ax.scatter(x,y, c=all_data['som_mut'], cmap=cmap, s=5, alpha = 0.1, zorder=-10000)\n",
    "germ=ax.scatter(germ_MI,germ_G189E, s=50,c='blue', marker='*',edgecolor='black',linewidths=0.5,alpha=1,zorder=99999999)\n",
    "I2=ax.scatter(I2_MI,I2_G189E,s=50,c='purple', marker='*',edgecolor='black',linewidths=0.5,alpha=1,zorder=999999)\n",
    "som=ax.scatter(som_MI,som_G189E,s=50,c='yellow', marker='*',edgecolor='black',linewidths=0.5,alpha=1,zorder=999999)\n",
    "ax.yaxis.set_tick_params(labelsize=7,pad=3,length=2.5)\n",
    "ax.xaxis.set_tick_params(labelsize=7,pad=3,length=2.5)\n",
    "# ax.set_xlim([7.5, 10.5])\n",
    "# ax.set_ylim([5.5, 9.5])\n",
    "ax.spines['right'].set_visible(False)\n",
    "ax.spines['top'].set_visible(False)\n",
    "plt.xlabel('MI15 % bound',fontsize=8,labelpad=1)\n",
    "plt.ylabel('MA90-G189E $-\\log K_D$',fontsize=8,labelpad=0)\n",
    "plt.title('MI15 vs MA90-G189E',fontsize=10)\n",
    "sm = plt.cm.ScalarMappable(cmap=plt.cm.plasma, norm=plt.Normalize(vmin = 0, vmax=16))\n",
    "sm._A = []\n",
    "cbar = plt.colorbar(sm,fraction=0.03, pad=0.05,orientation='vertical',aspect=20,ticks=[0,2,4,6,8,10,12,14,16])\n",
    "cbar.set_label(label='# somatic mutations',size=8)\n",
    "cbar.ax.tick_params(labelsize=7)\n",
    "plt.savefig(\"images/20220723_CH65_MI15_G189E.png\", transparent=True, dpi=600,bbox_inches='tight')"
   ]
  },
  {
   "cell_type": "markdown",
   "metadata": {},
   "source": [
    "# correlation between SI06 and other antigens"
   ]
  },
  {
   "cell_type": "code",
   "execution_count": 22,
   "metadata": {},
   "outputs": [
    {
     "name": "stdout",
     "output_type": "stream",
     "text": [
      "0.6723839442717725\n"
     ]
    },
    {
     "data": {
      "image/png": "[encoded data removed]",
      "text/plain": [
       "<Figure size 72x57.6 with 2 Axes>"
      ]
     },
     "metadata": {
      "needs_background": "light"
     },
     "output_type": "display_data"
    }
   ],
   "source": [
    "#CH65 MA90 vs SI06\n",
    "from matplotlib.ticker import FixedLocator, FixedFormatter\n",
    "from numpy import polyfit\n",
    "plt.rcParams['font.sans-serif'] = \"Arial\"\n",
    "plt.rcParams['font.family'] = \"sans-serif\"\n",
    "plt.rcParams['axes.linewidth'] = 0.5\n",
    "flierprops = dict(marker='o', markersize=2)\n",
    "fig, ax = plt.subplots(figsize=(1,0.8))\n",
    "from scipy.stats import pearsonr\n",
    "plotting = all_data[['SI_frac_mean', 'MA90_mean']].copy()\n",
    "plotting.dropna(inplace=True)\n",
    "hb=plt.hexbin(plotting['SI_frac_mean'], plotting['MA90_mean'],cmap='Reds',linewidths=0.2,bins='log',gridsize=25)\n",
    "plt.xlabel(\"SI-G189D %bound\",fontsize=7,labelpad=1)\n",
    "plt.ylabel(\"MA90 –logKd\",fontsize=7,labelpad=0)\n",
    "plt.tick_params(labelsize=7,length=2.5,pad=0)\n",
    "x = plotting['SI_frac_mean']\n",
    "y = plotting['MA90_mean']\n",
    "cb = fig.colorbar(hb, ax=ax,ticks=[1,10,100,1000],orientation='vertical',pad=0.05)\n",
    "cb.ax.tick_params(labelsize=7,pad=1,size=1)\n",
    "corr, _ = pearsonr(plotting['SI_frac_mean'], plotting['MA90_mean'])\n",
    "print(corr)\n",
    "plt.savefig('images/CH65_SI_vs_MA90.png',transparent=True, dpi=600,bbox_inches='tight')"
   ]
  },
  {
   "cell_type": "code",
   "execution_count": 109,
   "metadata": {},
   "outputs": [
    {
     "data": {
      "text/plain": [
       "<Figure size 432x288 with 0 Axes>"
      ]
     },
     "metadata": {},
     "output_type": "display_data"
    },
    {
     "data": {
      "image/png": "[encoded data removed]",
      "text/plain": [
       "<Figure size 198x162 with 2 Axes>"
      ]
     },
     "metadata": {
      "needs_background": "light"
     },
     "output_type": "display_data"
    }
   ],
   "source": [
    "# libraries\n",
    "from mpl_toolkits.mplot3d import Axes3D\n",
    "import matplotlib.pyplot as plt\n",
    "plt.rcParams[\"axes.grid\"] = False\n",
    "plt.rcParams['font.sans-serif'] = \"Arial\"\n",
    "# Then, \"ALWAYS use sans-serif fonts\"\n",
    "plt.rcParams['font.family'] = \"sans-serif\"\n",
    "plt.rcParams['axes.linewidth'] = 0.5\n",
    "cmap=plt.cm.plasma\n",
    "plt.clf()\n",
    "# plot\n",
    "x = all_data['SI_frac_mean']\n",
    "y = all_data['MA90_mean']\n",
    "plt.rcParams['grid.color'] = \"white\"\n",
    "fig = plt.figure(figsize=(2.75,2.25))\n",
    "ax = fig.add_subplot()\n",
    "# x_locator = FixedLocator([8,9,10])\n",
    "# y_locator = FixedLocator([6,7,8,9])\n",
    "# ax.set_xticklabels(['8','9','10'])\n",
    "# ax.set_yticklabels(['≤ 6','7','8','9'])\n",
    "# ax.xaxis.set_major_locator(x_locator)\n",
    "# ax.yaxis.set_major_locator(y_locator)\n",
    "# plt.axvline(x=6,linestyle='dashed',linewidth=0.5,color='black')\n",
    "# plt.axhline(y=6,linestyle='dashed',linewidth=0.5,color='black')\n",
    "ax.scatter(x,y, c=all_data['som_mut'], cmap=cmap, s=5, alpha = 0.1, zorder=-10000)\n",
    "germ=ax.scatter(germ_SI,germ_MA90, s=50,c='blue', marker='*',edgecolor='black',linewidths=0.5,alpha=1,zorder=99999999)\n",
    "I2=ax.scatter(I2_SI,I2_MA90,s=50,c='purple', marker='*',edgecolor='black',linewidths=0.5,alpha=1,zorder=999999)\n",
    "som=ax.scatter(som_SI,som_MA90,s=50,c='yellow', marker='*',edgecolor='black',linewidths=0.5,alpha=1,zorder=999999)\n",
    "ax.yaxis.set_tick_params(labelsize=7,pad=3,length=2.5)\n",
    "ax.xaxis.set_tick_params(labelsize=7,pad=3,length=2.5)\n",
    "# ax.set_xlim([7.5, 10.5])\n",
    "# ax.set_ylim([5.5, 9.5])\n",
    "ax.spines['right'].set_visible(False)\n",
    "ax.spines['top'].set_visible(False)\n",
    "plt.xlabel('SI06-G189D % bound',fontsize=8,labelpad=1)\n",
    "plt.ylabel('MA90 $-\\log K_D$',fontsize=8,labelpad=0)\n",
    "plt.title('SI06-G189D vs MA90',fontsize=10)\n",
    "sm = plt.cm.ScalarMappable(cmap=plt.cm.plasma, norm=plt.Normalize(vmin = 0, vmax=16))\n",
    "sm._A = []\n",
    "cbar = plt.colorbar(sm,fraction=0.03, pad=0.05,orientation='vertical',aspect=20,ticks=[0,2,4,6,8,10,12,14,16])\n",
    "cbar.set_label(label='# somatic mutations',size=8)\n",
    "cbar.ax.tick_params(labelsize=7)\n",
    "plt.savefig(\"images/20220723_CH65_SI15_MA90.png\", transparent=True, dpi=600,bbox_inches='tight')"
   ]
  },
  {
   "cell_type": "code",
   "execution_count": 24,
   "metadata": {},
   "outputs": [
    {
     "name": "stdout",
     "output_type": "stream",
     "text": [
      "0.873588490121386\n"
     ]
    },
    {
     "data": {
      "image/png": "[encoded data removed]",
      "text/plain": [
       "<Figure size 72x57.6 with 2 Axes>"
      ]
     },
     "metadata": {
      "needs_background": "light"
     },
     "output_type": "display_data"
    }
   ],
   "source": [
    "#CH65 SI06 vs SI15\n",
    "from matplotlib.ticker import FixedLocator, FixedFormatter\n",
    "from numpy import polyfit\n",
    "plt.rcParams['font.sans-serif'] = \"Arial\"\n",
    "plt.rcParams['font.family'] = \"sans-serif\"\n",
    "plt.rcParams['axes.linewidth'] = 0.5\n",
    "flierprops = dict(marker='o', markersize=2)\n",
    "fig, ax = plt.subplots(figsize=(1,0.8))\n",
    "from scipy.stats import pearsonr\n",
    "plotting = all_data[['SI_frac_mean', 'SI06_mean']].copy()\n",
    "plotting.dropna(inplace=True)\n",
    "hb=plt.hexbin(plotting['SI_frac_mean'], plotting['SI06_mean'],cmap='Greens',linewidths=0.2,bins='log',gridsize=25)\n",
    "plt.xlabel(\"SI-G189D %bound\",fontsize=7,labelpad=1)\n",
    "plt.ylabel(\"SI06 –logKd\",fontsize=7,labelpad=0)\n",
    "plt.tick_params(labelsize=7,length=2.5,pad=0)\n",
    "x = plotting['SI_frac_mean']\n",
    "y = plotting['SI06_mean']\n",
    "cb = fig.colorbar(hb, ax=ax,ticks=[1,10,100,1000],orientation='vertical',pad=0.05)\n",
    "cb.ax.tick_params(labelsize=7,pad=1,size=1)\n",
    "corr, _ = pearsonr(plotting['SI_frac_mean'], plotting['SI06_mean'])\n",
    "print(corr)\n",
    "plt.savefig('images/CH65_SI_vs_SI06.png',transparent=True, dpi=600,bbox_inches='tight')"
   ]
  },
  {
   "cell_type": "code",
   "execution_count": 110,
   "metadata": {},
   "outputs": [
    {
     "data": {
      "text/plain": [
       "<Figure size 432x288 with 0 Axes>"
      ]
     },
     "metadata": {},
     "output_type": "display_data"
    },
    {
     "data": {
      "image/png": "[encoded data removed]",
      "text/plain": [
       "<Figure size 198x162 with 2 Axes>"
      ]
     },
     "metadata": {
      "needs_background": "light"
     },
     "output_type": "display_data"
    }
   ],
   "source": [
    "# libraries\n",
    "from mpl_toolkits.mplot3d import Axes3D\n",
    "import matplotlib.pyplot as plt\n",
    "plt.rcParams[\"axes.grid\"] = False\n",
    "plt.rcParams['font.sans-serif'] = \"Arial\"\n",
    "# Then, \"ALWAYS use sans-serif fonts\"\n",
    "plt.rcParams['font.family'] = \"sans-serif\"\n",
    "plt.rcParams['axes.linewidth'] = 0.5\n",
    "cmap=plt.cm.plasma\n",
    "plt.clf()\n",
    "# plot\n",
    "x = all_data['SI_frac_mean']\n",
    "y = all_data['SI06_mean']\n",
    "plt.rcParams['grid.color'] = \"white\"\n",
    "fig = plt.figure(figsize=(2.75,2.25))\n",
    "ax = fig.add_subplot()\n",
    "# x_locator = FixedLocator([8,9,10])\n",
    "# y_locator = FixedLocator([6,7,8,9])\n",
    "# ax.set_xticklabels(['8','9','10'])\n",
    "# ax.set_yticklabels(['≤ 6','7','8','9'])\n",
    "# ax.xaxis.set_major_locator(x_locator)\n",
    "# ax.yaxis.set_major_locator(y_locator)\n",
    "# plt.axvline(x=6,linestyle='dashed',linewidth=0.5,color='black')\n",
    "# plt.axhline(y=6,linestyle='dashed',linewidth=0.5,color='black')\n",
    "ax.scatter(x,y, c=all_data['som_mut'], cmap=cmap, s=5, alpha = 0.1, zorder=-10000)\n",
    "germ=ax.scatter(germ_SI,germ_SI06, s=50,c='blue', marker='*',edgecolor='black',linewidths=0.5,alpha=1,zorder=99999999)\n",
    "I2=ax.scatter(I2_SI,I2_SI06,s=50,c='purple', marker='*',edgecolor='black',linewidths=0.5,alpha=1,zorder=999999)\n",
    "som=ax.scatter(som_SI,som_SI06,s=50,c='yellow', marker='*',edgecolor='black',linewidths=0.5,alpha=1,zorder=999999)\n",
    "ax.yaxis.set_tick_params(labelsize=7,pad=3,length=2.5)\n",
    "ax.xaxis.set_tick_params(labelsize=7,pad=3,length=2.5)\n",
    "# ax.set_xlim([7.5, 10.5])\n",
    "# ax.set_ylim([5.5, 9.5])\n",
    "ax.spines['right'].set_visible(False)\n",
    "ax.spines['top'].set_visible(False)\n",
    "plt.xlabel('SI06-G189D % bound',fontsize=8,labelpad=1)\n",
    "plt.ylabel('SI06 $-\\log K_D$',fontsize=8,labelpad=0)\n",
    "plt.title('SI06-G189D vs SI06',fontsize=10)\n",
    "sm = plt.cm.ScalarMappable(cmap=plt.cm.plasma, norm=plt.Normalize(vmin = 0, vmax=16))\n",
    "sm._A = []\n",
    "cbar = plt.colorbar(sm,fraction=0.03, pad=0.05,orientation='vertical',aspect=20,ticks=[0,2,4,6,8,10,12,14,16])\n",
    "cbar.set_label(label='# somatic mutations',size=8)\n",
    "cbar.ax.tick_params(labelsize=7)\n",
    "plt.savefig(\"images/20220723_CH65_SI15_SI06.png\", transparent=True, dpi=600,bbox_inches='tight')"
   ]
  },
  {
   "cell_type": "code",
   "execution_count": 26,
   "metadata": {},
   "outputs": [
    {
     "name": "stdout",
     "output_type": "stream",
     "text": [
      "0.6620333273805741\n"
     ]
    },
    {
     "data": {
      "image/png": "[encoded data removed]",
      "text/plain": [
       "<Figure size 72x57.6 with 2 Axes>"
      ]
     },
     "metadata": {
      "needs_background": "light"
     },
     "output_type": "display_data"
    }
   ],
   "source": [
    "#CH65 G189E vs SI15\n",
    "from matplotlib.ticker import FixedLocator, FixedFormatter\n",
    "from numpy import polyfit\n",
    "plt.rcParams['font.sans-serif'] = \"Arial\"\n",
    "plt.rcParams['font.family'] = \"sans-serif\"\n",
    "plt.rcParams['axes.linewidth'] = 0.5\n",
    "flierprops = dict(marker='o', markersize=2)\n",
    "fig, ax = plt.subplots(figsize=(1,0.8))\n",
    "from scipy.stats import pearsonr\n",
    "plotting = all_data[['SI_frac_mean', 'G189E_mean']].copy()\n",
    "plotting.dropna(inplace=True)\n",
    "hb=plt.hexbin(plotting['SI_frac_mean'], plotting['G189E_mean'],cmap='Blues',linewidths=0.2,bins='log',gridsize=25)\n",
    "plt.xlabel(\"SI-G189D %bound\",fontsize=7,labelpad=1)\n",
    "plt.ylabel(\"G189E –logKd\",fontsize=7,labelpad=0)\n",
    "plt.tick_params(labelsize=7,length=2.5,pad=0)\n",
    "x = plotting['SI_frac_mean']\n",
    "y = plotting['G189E_mean']\n",
    "cb = fig.colorbar(hb, ax=ax,ticks=[1,10,100,1000],orientation='vertical',pad=0.05)\n",
    "cb.ax.tick_params(labelsize=7,pad=1,size=1)\n",
    "corr, _ = pearsonr(plotting['SI_frac_mean'], plotting['G189E_mean'])\n",
    "print(corr)\n",
    "plt.savefig('images/CH65_SI_vs_G189E.png',transparent=True, dpi=600,bbox_inches='tight')"
   ]
  },
  {
   "cell_type": "code",
   "execution_count": 112,
   "metadata": {},
   "outputs": [
    {
     "data": {
      "text/plain": [
       "<Figure size 432x288 with 0 Axes>"
      ]
     },
     "metadata": {},
     "output_type": "display_data"
    },
    {
     "data": {
      "image/png": "[encoded data removed]",
      "text/plain": [
       "<Figure size 198x162 with 2 Axes>"
      ]
     },
     "metadata": {
      "needs_background": "light"
     },
     "output_type": "display_data"
    }
   ],
   "source": [
    "# libraries\n",
    "from mpl_toolkits.mplot3d import Axes3D\n",
    "import matplotlib.pyplot as plt\n",
    "plt.rcParams[\"axes.grid\"] = False\n",
    "plt.rcParams['font.sans-serif'] = \"Arial\"\n",
    "# Then, \"ALWAYS use sans-serif fonts\"\n",
    "plt.rcParams['font.family'] = \"sans-serif\"\n",
    "plt.rcParams['axes.linewidth'] = 0.5\n",
    "cmap=plt.cm.plasma\n",
    "plt.clf()\n",
    "# plot\n",
    "x = all_data['SI_frac_mean']\n",
    "y = all_data['G189E_mean']\n",
    "plt.rcParams['grid.color'] = \"white\"\n",
    "fig = plt.figure(figsize=(2.75,2.25))\n",
    "ax = fig.add_subplot()\n",
    "# x_locator = FixedLocator([8,9,10])\n",
    "# y_locator = FixedLocator([6,7,8,9])\n",
    "# ax.set_xticklabels(['8','9','10'])\n",
    "# ax.set_yticklabels(['≤ 6','7','8','9'])\n",
    "# ax.xaxis.set_major_locator(x_locator)\n",
    "# ax.yaxis.set_major_locator(y_locator)\n",
    "# plt.axvline(x=6,linestyle='dashed',linewidth=0.5,color='black')\n",
    "# plt.axhline(y=6,linestyle='dashed',linewidth=0.5,color='black')\n",
    "ax.scatter(x,y, c=all_data['som_mut'], cmap=cmap, s=5, alpha = 0.1, zorder=-10000)\n",
    "germ=ax.scatter(germ_SI,germ_G189E, s=50,c='blue', marker='*',edgecolor='black',linewidths=0.5,alpha=1,zorder=99999999)\n",
    "I2=ax.scatter(I2_SI,I2_G189E,s=50,c='purple', marker='*',edgecolor='black',linewidths=0.5,alpha=1,zorder=999999)\n",
    "som=ax.scatter(som_SI,som_G189E,s=50,c='yellow', marker='*',edgecolor='black',linewidths=0.5,alpha=1,zorder=999999)\n",
    "ax.yaxis.set_tick_params(labelsize=7,pad=3,length=2.5)\n",
    "ax.xaxis.set_tick_params(labelsize=7,pad=3,length=2.5)\n",
    "# ax.set_xlim([7.5, 10.5])\n",
    "# ax.set_ylim([5.5, 9.5])\n",
    "ax.spines['right'].set_visible(False)\n",
    "ax.spines['top'].set_visible(False)\n",
    "plt.xlabel('SI06-G189D % bound',fontsize=8,labelpad=1)\n",
    "plt.ylabel('MA90-G189E $-\\log K_D$',fontsize=8,labelpad=0)\n",
    "plt.title('SI06-G189D vs MA90-G189E',fontsize=10)\n",
    "sm = plt.cm.ScalarMappable(cmap=plt.cm.plasma, norm=plt.Normalize(vmin = 0, vmax=16))\n",
    "sm._A = []\n",
    "cbar = plt.colorbar(sm,fraction=0.03, pad=0.05,orientation='vertical',aspect=20,ticks=[0,2,4,6,8,10,12,14,16])\n",
    "cbar.set_label(label='# somatic mutations',size=8)\n",
    "cbar.ax.tick_params(labelsize=7)\n",
    "plt.savefig(\"images/20220723_CH65_SI15_G189E.png\", transparent=True, dpi=600,bbox_inches='tight')"
   ]
  },
  {
   "cell_type": "markdown",
   "metadata": {},
   "source": [
    "# change in enrichment plots -- MI15"
   ]
  },
  {
   "cell_type": "code",
   "execution_count": 28,
   "metadata": {},
   "outputs": [],
   "source": [
    "import matplotlib\n",
    "import matplotlib.colors as mcolors\n",
    "plt.rcParams.update({'font.size': 7})\n",
    "plt.rcParams['font.sans-serif'] = \"Arial\"\n",
    "plt.rcParams['font.family'] = \"sans-serif\"\n",
    "plt.rcParams['axes.linewidth'] = 0.5\n",
    "plt.rcParams[\"xtick.major.size\"] = 2\n",
    "plt.rcParams[\"ytick.major.size\"] = 2\n",
    "plt.rcParams[\"xtick.major.width\"] = 0.5\n",
    "plt.rcParams[\"ytick.major.width\"] = 0.5"
   ]
  },
  {
   "cell_type": "code",
   "execution_count": 29,
   "metadata": {},
   "outputs": [
    {
     "data": {
      "text/html": [
       "<div>\n",
       "<style scoped>\n",
       "    .dataframe tbody tr th:only-of-type {\n",
       "        vertical-align: middle;\n",
       "    }\n",
       "\n",
       "    .dataframe tbody tr th {\n",
       "        vertical-align: top;\n",
       "    }\n",
       "\n",
       "    .dataframe thead th {\n",
       "        text-align: right;\n",
       "    }\n",
       "</style>\n",
       "<table border=\"1\" class=\"dataframe\">\n",
       "  <thead>\n",
       "    <tr style=\"text-align: right;\">\n",
       "      <th></th>\n",
       "      <th>Mutation</th>\n",
       "      <th>dfrac</th>\n",
       "      <th>Number of mutations</th>\n",
       "      <th>dfrac_sem</th>\n",
       "      <th>source</th>\n",
       "      <th>target</th>\n",
       "      <th>pos1</th>\n",
       "      <th>pos2</th>\n",
       "      <th>pos3</th>\n",
       "      <th>pos4</th>\n",
       "      <th>...</th>\n",
       "      <th>pos7</th>\n",
       "      <th>pos8</th>\n",
       "      <th>pos9</th>\n",
       "      <th>pos10</th>\n",
       "      <th>pos11</th>\n",
       "      <th>pos12</th>\n",
       "      <th>pos13</th>\n",
       "      <th>pos14</th>\n",
       "      <th>pos15</th>\n",
       "      <th>pos16</th>\n",
       "    </tr>\n",
       "  </thead>\n",
       "  <tbody>\n",
       "    <tr>\n",
       "      <th>0</th>\n",
       "      <td>N26D</td>\n",
       "      <td>0.765983</td>\n",
       "      <td>0</td>\n",
       "      <td>0.889176</td>\n",
       "      <td>0000000000000000</td>\n",
       "      <td>1000000000000000</td>\n",
       "      <td>0</td>\n",
       "      <td>0</td>\n",
       "      <td>0</td>\n",
       "      <td>0</td>\n",
       "      <td>...</td>\n",
       "      <td>0</td>\n",
       "      <td>0</td>\n",
       "      <td>0</td>\n",
       "      <td>0</td>\n",
       "      <td>0</td>\n",
       "      <td>0</td>\n",
       "      <td>0</td>\n",
       "      <td>0</td>\n",
       "      <td>0</td>\n",
       "      <td>0</td>\n",
       "    </tr>\n",
       "    <tr>\n",
       "      <th>1</th>\n",
       "      <td>N26D</td>\n",
       "      <td>-0.329368</td>\n",
       "      <td>1</td>\n",
       "      <td>0.374627</td>\n",
       "      <td>0000000000000001</td>\n",
       "      <td>1000000000000001</td>\n",
       "      <td>0</td>\n",
       "      <td>0</td>\n",
       "      <td>0</td>\n",
       "      <td>0</td>\n",
       "      <td>...</td>\n",
       "      <td>0</td>\n",
       "      <td>0</td>\n",
       "      <td>0</td>\n",
       "      <td>0</td>\n",
       "      <td>0</td>\n",
       "      <td>0</td>\n",
       "      <td>0</td>\n",
       "      <td>0</td>\n",
       "      <td>0</td>\n",
       "      <td>1</td>\n",
       "    </tr>\n",
       "    <tr>\n",
       "      <th>2</th>\n",
       "      <td>N26D</td>\n",
       "      <td>-0.601359</td>\n",
       "      <td>1</td>\n",
       "      <td>0.487912</td>\n",
       "      <td>0000000000000010</td>\n",
       "      <td>1000000000000010</td>\n",
       "      <td>0</td>\n",
       "      <td>0</td>\n",
       "      <td>0</td>\n",
       "      <td>0</td>\n",
       "      <td>...</td>\n",
       "      <td>0</td>\n",
       "      <td>0</td>\n",
       "      <td>0</td>\n",
       "      <td>0</td>\n",
       "      <td>0</td>\n",
       "      <td>0</td>\n",
       "      <td>0</td>\n",
       "      <td>0</td>\n",
       "      <td>1</td>\n",
       "      <td>0</td>\n",
       "    </tr>\n",
       "    <tr>\n",
       "      <th>3</th>\n",
       "      <td>N26D</td>\n",
       "      <td>-0.529727</td>\n",
       "      <td>2</td>\n",
       "      <td>0.834722</td>\n",
       "      <td>0000000000000011</td>\n",
       "      <td>1000000000000011</td>\n",
       "      <td>0</td>\n",
       "      <td>0</td>\n",
       "      <td>0</td>\n",
       "      <td>0</td>\n",
       "      <td>...</td>\n",
       "      <td>0</td>\n",
       "      <td>0</td>\n",
       "      <td>0</td>\n",
       "      <td>0</td>\n",
       "      <td>0</td>\n",
       "      <td>0</td>\n",
       "      <td>0</td>\n",
       "      <td>0</td>\n",
       "      <td>1</td>\n",
       "      <td>1</td>\n",
       "    </tr>\n",
       "    <tr>\n",
       "      <th>4</th>\n",
       "      <td>N26D</td>\n",
       "      <td>-0.131403</td>\n",
       "      <td>1</td>\n",
       "      <td>0.331227</td>\n",
       "      <td>0000000000000100</td>\n",
       "      <td>1000000000000100</td>\n",
       "      <td>0</td>\n",
       "      <td>0</td>\n",
       "      <td>0</td>\n",
       "      <td>0</td>\n",
       "      <td>...</td>\n",
       "      <td>0</td>\n",
       "      <td>0</td>\n",
       "      <td>0</td>\n",
       "      <td>0</td>\n",
       "      <td>0</td>\n",
       "      <td>0</td>\n",
       "      <td>0</td>\n",
       "      <td>1</td>\n",
       "      <td>0</td>\n",
       "      <td>0</td>\n",
       "    </tr>\n",
       "    <tr>\n",
       "      <th>...</th>\n",
       "      <td>...</td>\n",
       "      <td>...</td>\n",
       "      <td>...</td>\n",
       "      <td>...</td>\n",
       "      <td>...</td>\n",
       "      <td>...</td>\n",
       "      <td>...</td>\n",
       "      <td>...</td>\n",
       "      <td>...</td>\n",
       "      <td>...</td>\n",
       "      <td>...</td>\n",
       "      <td>...</td>\n",
       "      <td>...</td>\n",
       "      <td>...</td>\n",
       "      <td>...</td>\n",
       "      <td>...</td>\n",
       "      <td>...</td>\n",
       "      <td>...</td>\n",
       "      <td>...</td>\n",
       "      <td>...</td>\n",
       "      <td>...</td>\n",
       "    </tr>\n",
       "    <tr>\n",
       "      <th>524283</th>\n",
       "      <td>R87K</td>\n",
       "      <td>3.311133</td>\n",
       "      <td>14</td>\n",
       "      <td>1.697712</td>\n",
       "      <td>1111111111110110</td>\n",
       "      <td>1111111111110111</td>\n",
       "      <td>1</td>\n",
       "      <td>1</td>\n",
       "      <td>1</td>\n",
       "      <td>1</td>\n",
       "      <td>...</td>\n",
       "      <td>1</td>\n",
       "      <td>1</td>\n",
       "      <td>1</td>\n",
       "      <td>1</td>\n",
       "      <td>1</td>\n",
       "      <td>1</td>\n",
       "      <td>0</td>\n",
       "      <td>1</td>\n",
       "      <td>1</td>\n",
       "      <td>0</td>\n",
       "    </tr>\n",
       "    <tr>\n",
       "      <th>524284</th>\n",
       "      <td>R87K</td>\n",
       "      <td>2.723071</td>\n",
       "      <td>13</td>\n",
       "      <td>2.060684</td>\n",
       "      <td>1111111111111000</td>\n",
       "      <td>1111111111111001</td>\n",
       "      <td>1</td>\n",
       "      <td>1</td>\n",
       "      <td>1</td>\n",
       "      <td>1</td>\n",
       "      <td>...</td>\n",
       "      <td>1</td>\n",
       "      <td>1</td>\n",
       "      <td>1</td>\n",
       "      <td>1</td>\n",
       "      <td>1</td>\n",
       "      <td>1</td>\n",
       "      <td>1</td>\n",
       "      <td>0</td>\n",
       "      <td>0</td>\n",
       "      <td>0</td>\n",
       "    </tr>\n",
       "    <tr>\n",
       "      <th>524285</th>\n",
       "      <td>R87K</td>\n",
       "      <td>2.968669</td>\n",
       "      <td>14</td>\n",
       "      <td>1.414528</td>\n",
       "      <td>1111111111111010</td>\n",
       "      <td>1111111111111011</td>\n",
       "      <td>1</td>\n",
       "      <td>1</td>\n",
       "      <td>1</td>\n",
       "      <td>1</td>\n",
       "      <td>...</td>\n",
       "      <td>1</td>\n",
       "      <td>1</td>\n",
       "      <td>1</td>\n",
       "      <td>1</td>\n",
       "      <td>1</td>\n",
       "      <td>1</td>\n",
       "      <td>1</td>\n",
       "      <td>0</td>\n",
       "      <td>1</td>\n",
       "      <td>0</td>\n",
       "    </tr>\n",
       "    <tr>\n",
       "      <th>524286</th>\n",
       "      <td>R87K</td>\n",
       "      <td>1.627467</td>\n",
       "      <td>14</td>\n",
       "      <td>2.023484</td>\n",
       "      <td>1111111111111100</td>\n",
       "      <td>1111111111111101</td>\n",
       "      <td>1</td>\n",
       "      <td>1</td>\n",
       "      <td>1</td>\n",
       "      <td>1</td>\n",
       "      <td>...</td>\n",
       "      <td>1</td>\n",
       "      <td>1</td>\n",
       "      <td>1</td>\n",
       "      <td>1</td>\n",
       "      <td>1</td>\n",
       "      <td>1</td>\n",
       "      <td>1</td>\n",
       "      <td>1</td>\n",
       "      <td>0</td>\n",
       "      <td>0</td>\n",
       "    </tr>\n",
       "    <tr>\n",
       "      <th>524287</th>\n",
       "      <td>R87K</td>\n",
       "      <td>-0.716863</td>\n",
       "      <td>15</td>\n",
       "      <td>0.722749</td>\n",
       "      <td>1111111111111110</td>\n",
       "      <td>1111111111111111</td>\n",
       "      <td>1</td>\n",
       "      <td>1</td>\n",
       "      <td>1</td>\n",
       "      <td>1</td>\n",
       "      <td>...</td>\n",
       "      <td>1</td>\n",
       "      <td>1</td>\n",
       "      <td>1</td>\n",
       "      <td>1</td>\n",
       "      <td>1</td>\n",
       "      <td>1</td>\n",
       "      <td>1</td>\n",
       "      <td>1</td>\n",
       "      <td>1</td>\n",
       "      <td>0</td>\n",
       "    </tr>\n",
       "  </tbody>\n",
       "</table>\n",
       "<p>524288 rows × 22 columns</p>\n",
       "</div>"
      ],
      "text/plain": [
       "       Mutation     dfrac  Number of mutations  dfrac_sem            source  \\\n",
       "0          N26D  0.765983                    0   0.889176  0000000000000000   \n",
       "1          N26D -0.329368                    1   0.374627  0000000000000001   \n",
       "2          N26D -0.601359                    1   0.487912  0000000000000010   \n",
       "3          N26D -0.529727                    2   0.834722  0000000000000011   \n",
       "4          N26D -0.131403                    1   0.331227  0000000000000100   \n",
       "...         ...       ...                  ...        ...               ...   \n",
       "524283     R87K  3.311133                   14   1.697712  1111111111110110   \n",
       "524284     R87K  2.723071                   13   2.060684  1111111111111000   \n",
       "524285     R87K  2.968669                   14   1.414528  1111111111111010   \n",
       "524286     R87K  1.627467                   14   2.023484  1111111111111100   \n",
       "524287     R87K -0.716863                   15   0.722749  1111111111111110   \n",
       "\n",
       "                  target  pos1  pos2  pos3  pos4  ...  pos7  pos8  pos9  \\\n",
       "0       1000000000000000     0     0     0     0  ...     0     0     0   \n",
       "1       1000000000000001     0     0     0     0  ...     0     0     0   \n",
       "2       1000000000000010     0     0     0     0  ...     0     0     0   \n",
       "3       1000000000000011     0     0     0     0  ...     0     0     0   \n",
       "4       1000000000000100     0     0     0     0  ...     0     0     0   \n",
       "...                  ...   ...   ...   ...   ...  ...   ...   ...   ...   \n",
       "524283  1111111111110111     1     1     1     1  ...     1     1     1   \n",
       "524284  1111111111111001     1     1     1     1  ...     1     1     1   \n",
       "524285  1111111111111011     1     1     1     1  ...     1     1     1   \n",
       "524286  1111111111111101     1     1     1     1  ...     1     1     1   \n",
       "524287  1111111111111111     1     1     1     1  ...     1     1     1   \n",
       "\n",
       "        pos10  pos11  pos12  pos13  pos14  pos15  pos16  \n",
       "0           0      0      0      0      0      0      0  \n",
       "1           0      0      0      0      0      0      1  \n",
       "2           0      0      0      0      0      1      0  \n",
       "3           0      0      0      0      0      1      1  \n",
       "4           0      0      0      0      1      0      0  \n",
       "...       ...    ...    ...    ...    ...    ...    ...  \n",
       "524283      1      1      1      0      1      1      0  \n",
       "524284      1      1      1      1      0      0      0  \n",
       "524285      1      1      1      1      0      1      0  \n",
       "524286      1      1      1      1      1      0      0  \n",
       "524287      1      1      1      1      1      1      0  \n",
       "\n",
       "[524288 rows x 22 columns]"
      ]
     },
     "execution_count": 29,
     "metadata": {},
     "output_type": "execute_result"
    }
   ],
   "source": [
    "#read in data\n",
    "dfrac = pd.DataFrame(pd.read_csv('../../Enrichment_Inference/20220725_CH65_dfrac_MI.csv',dtype={'source':'str', 'target':'str'}))\n",
    "dfrac"
   ]
  },
  {
   "cell_type": "markdown",
   "metadata": {},
   "source": [
    "## change in enrichment by mutation position"
   ]
  },
  {
   "cell_type": "code",
   "execution_count": 30,
   "metadata": {},
   "outputs": [
    {
     "data": {
      "image/png": "[encoded data removed]",
      "text/plain": [
       "<Figure size 252x72 with 1 Axes>"
      ]
     },
     "metadata": {
      "needs_background": "light"
     },
     "output_type": "display_data"
    }
   ],
   "source": [
    "#enrichment\n",
    "mutation_names = ['N26D','S29R','Y35N','Y48C','D49Y','V98I','G31D','Y33H','M34I','H35N','N52H','G57D','L83V','S84N','R85G','R87K']\n",
    "colors = ['#121212','#808080','#a6cee3','#1f78b4','#b2df8a','#33a02c','#fb9a99','#e31a1c','#fdbf6f','#ff7f00','#cab2d6','#6a3d9a','#ffff99','gold','#b15928','#4f1530']\n",
    "fig, ax = plt.subplots(figsize=(3.5,1))\n",
    "ax = sns.violinplot(x=\"Mutation\", y=\"dfrac\", data=dfrac,scale='count',linewidth=0.25,palette=colors)\n",
    "plt.xlabel('Mutation position',fontsize=7,labelpad=0)\n",
    "plt.axhline(y=0,linestyle='dashed',linewidth=0.5,color='black')\n",
    "sns.scatterplot(x=\"Mutation\", y=\"dfrac\", data=dfrac[(dfrac['source']=='0000000000000000')],color='white',s=10)\n",
    "sns.scatterplot(x=\"Mutation\", y=\"dfrac\", data=dfrac[(dfrac['source']=='0000001010100000')],color='gray',s=10)\n",
    "sns.scatterplot(x=\"Mutation\", y=\"dfrac\", data=dfrac[(dfrac['target']=='1111111111111111')],color='black',s=10)\n",
    "ax.set_xticklabels(['N26D','S29R','Y35N','Y48C','D49Y','V98I','G31D','Y33H','M34I','H35N','N52H','G57D','L83V','S84N','R85G','R87K'],rotation=45)\n",
    "plt.tick_params(\n",
    "    axis='y',          # changes apply to the x-axis\n",
    "    which='both',\n",
    "    pad=0,\n",
    "    labelsize=7)\n",
    "# ax.set_xticks([])\n",
    "# ax.set_xticklabels([])\n",
    "plt.title('', fontsize=10)\n",
    "plt.xlabel('',fontsize=7,labelpad=0)\n",
    "plt.ylabel('',fontsize=7,labelpad=1)\n",
    "plt.savefig('images/CH65_dfrac_MI15.png',transparent=True, dpi=600,bbox_inches='tight')\n"
   ]
  },
  {
   "cell_type": "markdown",
   "metadata": {},
   "source": [
    "# change in enrichment by number of mutations"
   ]
  },
  {
   "cell_type": "code",
   "execution_count": 31,
   "metadata": {},
   "outputs": [
    {
     "data": {
      "image/png": "[encoded data removed]",
      "text/plain": [
       "<Figure size 252x72 with 1 Axes>"
      ]
     },
     "metadata": {
      "needs_background": "light"
     },
     "output_type": "display_data"
    }
   ],
   "source": [
    "##enrichment\n",
    "mutation_names = ['N26D','S29R','Y35N','Y48C','D49Y','V98I','G31D','Y33H','M34I','H35N','N52H','G57D','L83V','S84N','R85G','R87K']\n",
    "fig, ax = plt.subplots(figsize=(3.5,1))\n",
    "ax = sns.violinplot(x=\"Number of mutations\", y=\"dfrac\", data=dfrac,scale='count',linewidth=0.25,palette='plasma')\n",
    "plt.xlabel('Mutation position',fontsize=7,labelpad=0)\n",
    "plt.axhline(y=0,linestyle='dashed',linewidth=0.5,color='black')\n",
    "plt.tick_params(\n",
    "    axis='y',          # changes apply to the x-axis\n",
    "    which='both',\n",
    "    pad=0,\n",
    "    labelsize=7)\n",
    "# ax.set_xticks([])\n",
    "# ax.set_xticklabels([])\n",
    "plt.title('', fontsize=10)\n",
    "plt.xlabel('',fontsize=7,labelpad=0)\n",
    "plt.ylabel('',fontsize=7,labelpad=1)\n",
    "plt.savefig('images/CH65_dfrac_MI15_num.png',transparent=True, dpi=600,bbox_inches='tight')\n"
   ]
  },
  {
   "cell_type": "markdown",
   "metadata": {},
   "source": [
    "## do some statistics"
   ]
  },
  {
   "cell_type": "code",
   "execution_count": 32,
   "metadata": {},
   "outputs": [
    {
     "name": "stdout",
     "output_type": "stream",
     "text": [
      "N26D -19.416448573386983 1.653057424114064e-83 32768 1 ***\n",
      "S29R 35.464917056497505 2.250239421254179e-270 32768 1 ***\n",
      "Y35N 124.22938704190882 0.0 32768 1 ***\n",
      "Y48C 30.399387740959984 3.400718931814048e-200 32768 1 ***\n",
      "D49Y 16.59156756708764 1.4311404306945753e-61 32768 1 ***\n",
      "V98I -11.925935862420108 1.0134728294509207e-32 32768 1 ***\n",
      "G31D -18.22728257740351 7.27339698971538e-74 32768 1 ***\n",
      "Y33H 62.190331432258745 0.0 32768 1 ***\n",
      "M34I -31.031800526427144 2.1031969419742127e-208 32768 1 ***\n",
      "H35N 12.756396954372288 3.521094960742552e-37 32768 1 ***\n",
      "N52H 5.963324260919975 2.4968556318224362e-09 32768 1 ***\n",
      "G57D -9.68203673251605 3.849075865223633e-22 32768 1 ***\n",
      "L83V 5.155362948630453 2.5460905432369055e-07 32768 1 ***\n",
      "S84N 4.900605906629439 9.59973018929807e-07 32768 1 ***\n",
      "R85G -2.812635881114363 0.004916647956874816 32768 1 ns\n",
      "R87K 34.247960532059246 1.3496521728815787e-252 32768 1 ***\n",
      "[-0.13342843258677356, 0.24744215669600889, 0.9432610254736461, 0.21219177002362807, 0.11826728481053585, -0.08362407905893679, -0.14245644030675655, 0.5123265476156118, -0.2486914215789498, 0.1021987810012224, 0.042447816897713986, -0.06882330025683235, 0.03601148224344532, 0.03445795140088252, -0.019962654666854623, 0.24280763480445564]\n",
      "[0.0068719277926889396, 0.006977096726373849, 0.007592897686562975, 0.006980133015564716, 0.007128156175257381, 0.007011951097476984, 0.007815561080035088, 0.008238041763351384, 0.008014082887880143, 0.008011571086002735, 0.007118146698124624, 0.007108349426696234, 0.006985246742523131, 0.007031365520387696, 0.007097489867385692, 0.007089696175547894]\n"
     ]
    }
   ],
   "source": [
    "#do a two-sided t-test to see if mean is different from zero\n",
    "dFrac_mean = []\n",
    "dFrac_sem = []\n",
    "#Exp\n",
    "mutation_names = ['N26D','S29R','Y35N','Y48C','D49Y','V98I','G31D','Y33H','M34I','H35N','N52H','G57D','L83V','S84N','R85G','R87K']\n",
    "for mutation_name in mutation_names:\n",
    "    vals_1 = np.array(dfrac['dfrac'][dfrac['Mutation']==mutation_name])\n",
    "    mean = np.nanmean(vals_1)\n",
    "    sem = st.sem(vals_1, nan_policy='omit')\n",
    "    dFrac_mean.append(mean)\n",
    "    dFrac_sem.append(sem)\n",
    "    vals_2 = 0\n",
    "    n1 = len(np.where(~np.isnan(vals_1))[0])\n",
    "    n2 = len(np.where(~np.isnan(vals_2))[0])\n",
    "    tstat,pval = st.ttest_1samp(vals_1,vals_2,nan_policy='omit')\n",
    "    if pval < 0.0001/16:\n",
    "        lab = '***'\n",
    "    elif pval < 0.001/16:\n",
    "        lab = '**'\n",
    "    elif pval < 0.01/16:\n",
    "        lab = '*'\n",
    "    else:\n",
    "        lab = 'ns'\n",
    "    print(mutation_name,tstat,pval,n1,n2,lab)\n",
    "print(dFrac_mean)\n",
    "print(dFrac_sem)"
   ]
  },
  {
   "cell_type": "markdown",
   "metadata": {},
   "source": [
    "# change in enrichment plots -- SI-G189D"
   ]
  },
  {
   "cell_type": "code",
   "execution_count": 33,
   "metadata": {},
   "outputs": [],
   "source": [
    "import matplotlib\n",
    "import matplotlib.colors as mcolors\n",
    "plt.rcParams.update({'font.size': 7})\n",
    "plt.rcParams['font.sans-serif'] = \"Arial\"\n",
    "plt.rcParams['font.family'] = \"sans-serif\"\n",
    "plt.rcParams['axes.linewidth'] = 0.5\n",
    "plt.rcParams[\"xtick.major.size\"] = 2\n",
    "plt.rcParams[\"ytick.major.size\"] = 2\n",
    "plt.rcParams[\"xtick.major.width\"] = 0.5\n",
    "plt.rcParams[\"ytick.major.width\"] = 0.5"
   ]
  },
  {
   "cell_type": "code",
   "execution_count": 34,
   "metadata": {},
   "outputs": [
    {
     "data": {
      "text/html": [
       "<div>\n",
       "<style scoped>\n",
       "    .dataframe tbody tr th:only-of-type {\n",
       "        vertical-align: middle;\n",
       "    }\n",
       "\n",
       "    .dataframe tbody tr th {\n",
       "        vertical-align: top;\n",
       "    }\n",
       "\n",
       "    .dataframe thead th {\n",
       "        text-align: right;\n",
       "    }\n",
       "</style>\n",
       "<table border=\"1\" class=\"dataframe\">\n",
       "  <thead>\n",
       "    <tr style=\"text-align: right;\">\n",
       "      <th></th>\n",
       "      <th>Mutation</th>\n",
       "      <th>dfrac</th>\n",
       "      <th>Number of mutations</th>\n",
       "      <th>dfrac_sem</th>\n",
       "      <th>source</th>\n",
       "      <th>target</th>\n",
       "      <th>pos1</th>\n",
       "      <th>pos2</th>\n",
       "      <th>pos3</th>\n",
       "      <th>pos4</th>\n",
       "      <th>...</th>\n",
       "      <th>pos7</th>\n",
       "      <th>pos8</th>\n",
       "      <th>pos9</th>\n",
       "      <th>pos10</th>\n",
       "      <th>pos11</th>\n",
       "      <th>pos12</th>\n",
       "      <th>pos13</th>\n",
       "      <th>pos14</th>\n",
       "      <th>pos15</th>\n",
       "      <th>pos16</th>\n",
       "    </tr>\n",
       "  </thead>\n",
       "  <tbody>\n",
       "    <tr>\n",
       "      <th>0</th>\n",
       "      <td>N26D</td>\n",
       "      <td>0.005540</td>\n",
       "      <td>0</td>\n",
       "      <td>0.068814</td>\n",
       "      <td>0000000000000000</td>\n",
       "      <td>1000000000000000</td>\n",
       "      <td>0</td>\n",
       "      <td>0</td>\n",
       "      <td>0</td>\n",
       "      <td>0</td>\n",
       "      <td>...</td>\n",
       "      <td>0</td>\n",
       "      <td>0</td>\n",
       "      <td>0</td>\n",
       "      <td>0</td>\n",
       "      <td>0</td>\n",
       "      <td>0</td>\n",
       "      <td>0</td>\n",
       "      <td>0</td>\n",
       "      <td>0</td>\n",
       "      <td>0</td>\n",
       "    </tr>\n",
       "    <tr>\n",
       "      <th>1</th>\n",
       "      <td>N26D</td>\n",
       "      <td>-0.066635</td>\n",
       "      <td>1</td>\n",
       "      <td>0.522022</td>\n",
       "      <td>0000000000000001</td>\n",
       "      <td>1000000000000001</td>\n",
       "      <td>0</td>\n",
       "      <td>0</td>\n",
       "      <td>0</td>\n",
       "      <td>0</td>\n",
       "      <td>...</td>\n",
       "      <td>0</td>\n",
       "      <td>0</td>\n",
       "      <td>0</td>\n",
       "      <td>0</td>\n",
       "      <td>0</td>\n",
       "      <td>0</td>\n",
       "      <td>0</td>\n",
       "      <td>0</td>\n",
       "      <td>0</td>\n",
       "      <td>1</td>\n",
       "    </tr>\n",
       "    <tr>\n",
       "      <th>2</th>\n",
       "      <td>N26D</td>\n",
       "      <td>-0.383451</td>\n",
       "      <td>1</td>\n",
       "      <td>0.378290</td>\n",
       "      <td>0000000000000010</td>\n",
       "      <td>1000000000000010</td>\n",
       "      <td>0</td>\n",
       "      <td>0</td>\n",
       "      <td>0</td>\n",
       "      <td>0</td>\n",
       "      <td>...</td>\n",
       "      <td>0</td>\n",
       "      <td>0</td>\n",
       "      <td>0</td>\n",
       "      <td>0</td>\n",
       "      <td>0</td>\n",
       "      <td>0</td>\n",
       "      <td>0</td>\n",
       "      <td>0</td>\n",
       "      <td>1</td>\n",
       "      <td>0</td>\n",
       "    </tr>\n",
       "    <tr>\n",
       "      <th>3</th>\n",
       "      <td>N26D</td>\n",
       "      <td>-1.111781</td>\n",
       "      <td>2</td>\n",
       "      <td>0.887334</td>\n",
       "      <td>0000000000000011</td>\n",
       "      <td>1000000000000011</td>\n",
       "      <td>0</td>\n",
       "      <td>0</td>\n",
       "      <td>0</td>\n",
       "      <td>0</td>\n",
       "      <td>...</td>\n",
       "      <td>0</td>\n",
       "      <td>0</td>\n",
       "      <td>0</td>\n",
       "      <td>0</td>\n",
       "      <td>0</td>\n",
       "      <td>0</td>\n",
       "      <td>0</td>\n",
       "      <td>0</td>\n",
       "      <td>1</td>\n",
       "      <td>1</td>\n",
       "    </tr>\n",
       "    <tr>\n",
       "      <th>4</th>\n",
       "      <td>N26D</td>\n",
       "      <td>0.560598</td>\n",
       "      <td>1</td>\n",
       "      <td>0.747934</td>\n",
       "      <td>0000000000000100</td>\n",
       "      <td>1000000000000100</td>\n",
       "      <td>0</td>\n",
       "      <td>0</td>\n",
       "      <td>0</td>\n",
       "      <td>0</td>\n",
       "      <td>...</td>\n",
       "      <td>0</td>\n",
       "      <td>0</td>\n",
       "      <td>0</td>\n",
       "      <td>0</td>\n",
       "      <td>0</td>\n",
       "      <td>0</td>\n",
       "      <td>0</td>\n",
       "      <td>1</td>\n",
       "      <td>0</td>\n",
       "      <td>0</td>\n",
       "    </tr>\n",
       "    <tr>\n",
       "      <th>...</th>\n",
       "      <td>...</td>\n",
       "      <td>...</td>\n",
       "      <td>...</td>\n",
       "      <td>...</td>\n",
       "      <td>...</td>\n",
       "      <td>...</td>\n",
       "      <td>...</td>\n",
       "      <td>...</td>\n",
       "      <td>...</td>\n",
       "      <td>...</td>\n",
       "      <td>...</td>\n",
       "      <td>...</td>\n",
       "      <td>...</td>\n",
       "      <td>...</td>\n",
       "      <td>...</td>\n",
       "      <td>...</td>\n",
       "      <td>...</td>\n",
       "      <td>...</td>\n",
       "      <td>...</td>\n",
       "      <td>...</td>\n",
       "      <td>...</td>\n",
       "    </tr>\n",
       "    <tr>\n",
       "      <th>524283</th>\n",
       "      <td>R87K</td>\n",
       "      <td>21.640035</td>\n",
       "      <td>14</td>\n",
       "      <td>6.780970</td>\n",
       "      <td>1111111111110110</td>\n",
       "      <td>1111111111110111</td>\n",
       "      <td>1</td>\n",
       "      <td>1</td>\n",
       "      <td>1</td>\n",
       "      <td>1</td>\n",
       "      <td>...</td>\n",
       "      <td>1</td>\n",
       "      <td>1</td>\n",
       "      <td>1</td>\n",
       "      <td>1</td>\n",
       "      <td>1</td>\n",
       "      <td>1</td>\n",
       "      <td>0</td>\n",
       "      <td>1</td>\n",
       "      <td>1</td>\n",
       "      <td>0</td>\n",
       "    </tr>\n",
       "    <tr>\n",
       "      <th>524284</th>\n",
       "      <td>R87K</td>\n",
       "      <td>25.966361</td>\n",
       "      <td>13</td>\n",
       "      <td>6.277843</td>\n",
       "      <td>1111111111111000</td>\n",
       "      <td>1111111111111001</td>\n",
       "      <td>1</td>\n",
       "      <td>1</td>\n",
       "      <td>1</td>\n",
       "      <td>1</td>\n",
       "      <td>...</td>\n",
       "      <td>1</td>\n",
       "      <td>1</td>\n",
       "      <td>1</td>\n",
       "      <td>1</td>\n",
       "      <td>1</td>\n",
       "      <td>1</td>\n",
       "      <td>1</td>\n",
       "      <td>0</td>\n",
       "      <td>0</td>\n",
       "      <td>0</td>\n",
       "    </tr>\n",
       "    <tr>\n",
       "      <th>524285</th>\n",
       "      <td>R87K</td>\n",
       "      <td>22.758389</td>\n",
       "      <td>14</td>\n",
       "      <td>5.898298</td>\n",
       "      <td>1111111111111010</td>\n",
       "      <td>1111111111111011</td>\n",
       "      <td>1</td>\n",
       "      <td>1</td>\n",
       "      <td>1</td>\n",
       "      <td>1</td>\n",
       "      <td>...</td>\n",
       "      <td>1</td>\n",
       "      <td>1</td>\n",
       "      <td>1</td>\n",
       "      <td>1</td>\n",
       "      <td>1</td>\n",
       "      <td>1</td>\n",
       "      <td>1</td>\n",
       "      <td>0</td>\n",
       "      <td>1</td>\n",
       "      <td>0</td>\n",
       "    </tr>\n",
       "    <tr>\n",
       "      <th>524286</th>\n",
       "      <td>R87K</td>\n",
       "      <td>-4.494719</td>\n",
       "      <td>14</td>\n",
       "      <td>6.979093</td>\n",
       "      <td>1111111111111100</td>\n",
       "      <td>1111111111111101</td>\n",
       "      <td>1</td>\n",
       "      <td>1</td>\n",
       "      <td>1</td>\n",
       "      <td>1</td>\n",
       "      <td>...</td>\n",
       "      <td>1</td>\n",
       "      <td>1</td>\n",
       "      <td>1</td>\n",
       "      <td>1</td>\n",
       "      <td>1</td>\n",
       "      <td>1</td>\n",
       "      <td>1</td>\n",
       "      <td>1</td>\n",
       "      <td>0</td>\n",
       "      <td>0</td>\n",
       "    </tr>\n",
       "    <tr>\n",
       "      <th>524287</th>\n",
       "      <td>R87K</td>\n",
       "      <td>15.194852</td>\n",
       "      <td>15</td>\n",
       "      <td>1.953671</td>\n",
       "      <td>1111111111111110</td>\n",
       "      <td>1111111111111111</td>\n",
       "      <td>1</td>\n",
       "      <td>1</td>\n",
       "      <td>1</td>\n",
       "      <td>1</td>\n",
       "      <td>...</td>\n",
       "      <td>1</td>\n",
       "      <td>1</td>\n",
       "      <td>1</td>\n",
       "      <td>1</td>\n",
       "      <td>1</td>\n",
       "      <td>1</td>\n",
       "      <td>1</td>\n",
       "      <td>1</td>\n",
       "      <td>1</td>\n",
       "      <td>0</td>\n",
       "    </tr>\n",
       "  </tbody>\n",
       "</table>\n",
       "<p>524288 rows × 22 columns</p>\n",
       "</div>"
      ],
      "text/plain": [
       "       Mutation      dfrac  Number of mutations  dfrac_sem            source  \\\n",
       "0          N26D   0.005540                    0   0.068814  0000000000000000   \n",
       "1          N26D  -0.066635                    1   0.522022  0000000000000001   \n",
       "2          N26D  -0.383451                    1   0.378290  0000000000000010   \n",
       "3          N26D  -1.111781                    2   0.887334  0000000000000011   \n",
       "4          N26D   0.560598                    1   0.747934  0000000000000100   \n",
       "...         ...        ...                  ...        ...               ...   \n",
       "524283     R87K  21.640035                   14   6.780970  1111111111110110   \n",
       "524284     R87K  25.966361                   13   6.277843  1111111111111000   \n",
       "524285     R87K  22.758389                   14   5.898298  1111111111111010   \n",
       "524286     R87K  -4.494719                   14   6.979093  1111111111111100   \n",
       "524287     R87K  15.194852                   15   1.953671  1111111111111110   \n",
       "\n",
       "                  target  pos1  pos2  pos3  pos4  ...  pos7  pos8  pos9  \\\n",
       "0       1000000000000000     0     0     0     0  ...     0     0     0   \n",
       "1       1000000000000001     0     0     0     0  ...     0     0     0   \n",
       "2       1000000000000010     0     0     0     0  ...     0     0     0   \n",
       "3       1000000000000011     0     0     0     0  ...     0     0     0   \n",
       "4       1000000000000100     0     0     0     0  ...     0     0     0   \n",
       "...                  ...   ...   ...   ...   ...  ...   ...   ...   ...   \n",
       "524283  1111111111110111     1     1     1     1  ...     1     1     1   \n",
       "524284  1111111111111001     1     1     1     1  ...     1     1     1   \n",
       "524285  1111111111111011     1     1     1     1  ...     1     1     1   \n",
       "524286  1111111111111101     1     1     1     1  ...     1     1     1   \n",
       "524287  1111111111111111     1     1     1     1  ...     1     1     1   \n",
       "\n",
       "        pos10  pos11  pos12  pos13  pos14  pos15  pos16  \n",
       "0           0      0      0      0      0      0      0  \n",
       "1           0      0      0      0      0      0      1  \n",
       "2           0      0      0      0      0      1      0  \n",
       "3           0      0      0      0      0      1      1  \n",
       "4           0      0      0      0      1      0      0  \n",
       "...       ...    ...    ...    ...    ...    ...    ...  \n",
       "524283      1      1      1      0      1      1      0  \n",
       "524284      1      1      1      1      0      0      0  \n",
       "524285      1      1      1      1      0      1      0  \n",
       "524286      1      1      1      1      1      0      0  \n",
       "524287      1      1      1      1      1      1      0  \n",
       "\n",
       "[524288 rows x 22 columns]"
      ]
     },
     "execution_count": 34,
     "metadata": {},
     "output_type": "execute_result"
    }
   ],
   "source": [
    "#read in data\n",
    "dfracSI = pd.DataFrame(pd.read_csv('../../Enrichment_Inference/20220725_CH65_dfrac_SI.csv',dtype={'source':'str', 'target':'str'}))\n",
    "dfracSI"
   ]
  },
  {
   "cell_type": "markdown",
   "metadata": {},
   "source": [
    "## change in enrichment by mutation position"
   ]
  },
  {
   "cell_type": "code",
   "execution_count": 35,
   "metadata": {},
   "outputs": [
    {
     "data": {
      "image/png": "[encoded data removed]",
      "text/plain": [
       "<Figure size 252x72 with 1 Axes>"
      ]
     },
     "metadata": {
      "needs_background": "light"
     },
     "output_type": "display_data"
    }
   ],
   "source": [
    "#enrichment\n",
    "mutation_names = ['N26D','S29R','Y35N','Y48C','D49Y','V98I','G31D','Y33H','M34I','H35N','N52H','G57D','L83V','S84N','R85G','R87K']\n",
    "colors = ['#121212','#808080','#a6cee3','#1f78b4','#b2df8a','#33a02c','#fb9a99','#e31a1c','#fdbf6f','#ff7f00','#cab2d6','#6a3d9a','#ffff99','gold','#b15928','#4f1530']\n",
    "fig, ax = plt.subplots(figsize=(3.5,1))\n",
    "ax = sns.violinplot(x=\"Mutation\", y=\"dfrac\", data=dfracSI,scale='count',linewidth=0.25,palette=colors)\n",
    "plt.xlabel('Mutation position',fontsize=7,labelpad=0)\n",
    "plt.axhline(y=0,linestyle='dashed',linewidth=0.5,color='black')\n",
    "sns.scatterplot(x=\"Mutation\", y=\"dfrac\", data=dfracSI[(dfracSI['source']=='0000000000000000')],color='white',s=10)\n",
    "sns.scatterplot(x=\"Mutation\", y=\"dfrac\", data=dfracSI[(dfracSI['source']=='0000001010100000')],color='gray',s=10)\n",
    "sns.scatterplot(x=\"Mutation\", y=\"dfrac\", data=dfracSI[(dfracSI['target']=='1111111111111111')],color='black',s=10)\n",
    "ax.set_xticklabels(['N26D','S29R','Y35N','Y48C','D49Y','V98I','G31D','Y33H','M34I','H35N','N52H','G57D','L83V','S84N','R85G','R87K'],rotation=45)\n",
    "plt.tick_params(\n",
    "    axis='y',          # changes apply to the x-axis\n",
    "    which='both',\n",
    "    pad=0,\n",
    "    labelsize=7)\n",
    "# ax.set_xticks([])\n",
    "# ax.set_xticklabels([])\n",
    "plt.title('', fontsize=10)\n",
    "plt.xlabel('',fontsize=7,labelpad=0)\n",
    "plt.ylabel('',fontsize=7,labelpad=1)\n",
    "plt.savefig('images/CH65_dfrac_SI_G189D.png',transparent=True, dpi=600,bbox_inches='tight')\n"
   ]
  },
  {
   "cell_type": "markdown",
   "metadata": {},
   "source": [
    "## change in enrichment by number of mutations -- SI-G189D"
   ]
  },
  {
   "cell_type": "code",
   "execution_count": 36,
   "metadata": {},
   "outputs": [
    {
     "data": {
      "image/png": "[encoded data removed]",
      "text/plain": [
       "<Figure size 252x72 with 1 Axes>"
      ]
     },
     "metadata": {
      "needs_background": "light"
     },
     "output_type": "display_data"
    }
   ],
   "source": [
    "##enrichment\n",
    "mutation_names = ['N26D','S29R','Y35N','Y48C','D49Y','V98I','G31D','Y33H','M34I','H35N','N52H','G57D','L83V','S84N','R85G','R87K']\n",
    "fig, ax = plt.subplots(figsize=(3.5,1))\n",
    "ax = sns.violinplot(x=\"Number of mutations\", y=\"dfrac\", data=dfracSI,scale='count',linewidth=0.25,palette='plasma')\n",
    "plt.xlabel('Mutation position',fontsize=7,labelpad=0)\n",
    "plt.axhline(y=0,linestyle='dashed',linewidth=0.5,color='black')\n",
    "plt.tick_params(\n",
    "    axis='y',          # changes apply to the x-axis\n",
    "    which='both',\n",
    "    pad=0,\n",
    "    labelsize=7)\n",
    "# ax.set_xticks([])\n",
    "# ax.set_xticklabels([])\n",
    "plt.title('', fontsize=10)\n",
    "plt.xlabel('',fontsize=7,labelpad=0)\n",
    "plt.ylabel('',fontsize=7,labelpad=1)\n",
    "plt.savefig('images/CH65_dfrac_SIG189D_num.png',transparent=True, dpi=600,bbox_inches='tight')\n"
   ]
  },
  {
   "cell_type": "markdown",
   "metadata": {},
   "source": [
    "## do some statistics"
   ]
  },
  {
   "cell_type": "code",
   "execution_count": 37,
   "metadata": {},
   "outputs": [
    {
     "name": "stdout",
     "output_type": "stream",
     "text": [
      "N26D -20.355855038942096 1.5197886352309804e-91 32768 1 ***\n",
      "S29R 120.0842032549109 0.0 32768 1 ***\n",
      "Y35N 81.45302859733381 0.0 32768 1 ***\n",
      "Y48C 15.63754265892148 6.385128924070105e-55 32768 1 ***\n",
      "D49Y 71.00098610858724 0.0 32768 1 ***\n",
      "V98I -21.52364143876424 4.7693140085227314e-102 32768 1 ***\n",
      "G31D 180.23039803147407 0.0 32768 1 ***\n",
      "Y33H 130.20523702944857 0.0 32768 1 ***\n",
      "M34I 90.2072013203522 0.0 32768 1 ***\n",
      "H35N 102.34140776429898 0.0 32768 1 ***\n",
      "N52H 216.7050821768805 0.0 32768 1 ***\n",
      "G57D 91.81951930471575 0.0 32768 1 ***\n",
      "L83V -18.137977338445864 3.647549712182187e-73 32768 1 ***\n",
      "S84N 16.64981448455795 5.460803745651622e-62 32768 1 ***\n",
      "R85G 69.24603605948047 0.0 32768 1 ***\n",
      "R87K 139.19058364630922 0.0 32768 1 ***\n",
      "[-0.5520045676290082, 5.176573571004097, 6.944664249404559, 1.79931695243888, 8.642304708189922, -0.5734752425572186, 14.161305990553098, 10.225785153558661, 3.942075588081646, 7.301696482079716, 26.99044177499338, 3.3297247646238857, -0.49095450502712235, 0.43434902273331233, 3.5019140904092785, 8.391973075481538]\n",
      "[0.02711772934976138, 0.04310786457079148, 0.08525974256569112, 0.11506391967617363, 0.12172091095992081, 0.02664396933896071, 0.07857334914213569, 0.07853589753264602, 0.0437002315822013, 0.07134645342084943, 0.12454918686661468, 0.036263800876300975, 0.0270677648265928, 0.026087319059089457, 0.05057205133592382, 0.060291241373094565]\n"
     ]
    }
   ],
   "source": [
    "#do a two-sided t-test to see if mean is different from zero\n",
    "dFracSI_mean = []\n",
    "dFracSI_sem = []\n",
    "#Exp\n",
    "mutation_names = ['N26D','S29R','Y35N','Y48C','D49Y','V98I','G31D','Y33H','M34I','H35N','N52H','G57D','L83V','S84N','R85G','R87K']\n",
    "for mutation_name in mutation_names:\n",
    "    vals_1 = np.array(dfracSI['dfrac'][dfracSI['Mutation']==mutation_name])\n",
    "    mean = np.nanmean(vals_1)\n",
    "    sem = st.sem(vals_1, nan_policy='omit')\n",
    "    dFracSI_mean.append(mean)\n",
    "    dFracSI_sem.append(sem)\n",
    "    vals_2 = 0\n",
    "    n1 = len(np.where(~np.isnan(vals_1))[0])\n",
    "    n2 = len(np.where(~np.isnan(vals_2))[0])\n",
    "    tstat,pval = st.ttest_1samp(vals_1,vals_2,nan_policy='omit')\n",
    "    if pval < 0.0001/16:\n",
    "        lab = '***'\n",
    "    elif pval < 0.001/16:\n",
    "        lab = '**'\n",
    "    elif pval < 0.01/16:\n",
    "        lab = '*'\n",
    "    else:\n",
    "        lab = 'ns'\n",
    "    print(mutation_name,tstat,pval,n1,n2,lab)\n",
    "print(dFracSI_mean)\n",
    "print(dFracSI_sem)"
   ]
  },
  {
   "cell_type": "markdown",
   "metadata": {},
   "source": [
    "## CH65: correlation between mean change in enrichment and mean change in binding for each site"
   ]
  },
  {
   "cell_type": "code",
   "execution_count": 38,
   "metadata": {},
   "outputs": [
    {
     "data": {
      "text/html": [
       "<div>\n",
       "<style scoped>\n",
       "    .dataframe tbody tr th:only-of-type {\n",
       "        vertical-align: middle;\n",
       "    }\n",
       "\n",
       "    .dataframe tbody tr th {\n",
       "        vertical-align: top;\n",
       "    }\n",
       "\n",
       "    .dataframe thead th {\n",
       "        text-align: right;\n",
       "    }\n",
       "</style>\n",
       "<table border=\"1\" class=\"dataframe\">\n",
       "  <thead>\n",
       "    <tr style=\"text-align: right;\">\n",
       "      <th></th>\n",
       "      <th>Unnamed: 0</th>\n",
       "      <th>mutation_names</th>\n",
       "      <th>MA90_dKd_mean</th>\n",
       "      <th>MA90_dKd_sem</th>\n",
       "      <th>SI06_dKd_mean</th>\n",
       "      <th>SI06_dKd_sem</th>\n",
       "      <th>G189E_dKd_mean</th>\n",
       "      <th>G189E_dKd_sem</th>\n",
       "      <th>dFrac_MI_mean</th>\n",
       "      <th>dFrac_MI_sem</th>\n",
       "      <th>dFrac_SI_mean</th>\n",
       "      <th>dFrac_SI_sem</th>\n",
       "      <th>sum</th>\n",
       "      <th>total_err</th>\n",
       "    </tr>\n",
       "  </thead>\n",
       "  <tbody>\n",
       "    <tr>\n",
       "      <th>0</th>\n",
       "      <td>0</td>\n",
       "      <td>N26D</td>\n",
       "      <td>-0.005894</td>\n",
       "      <td>0.000337</td>\n",
       "      <td>0.125206</td>\n",
       "      <td>0.001299</td>\n",
       "      <td>-0.023788</td>\n",
       "      <td>0.001398</td>\n",
       "      <td>-0.133428</td>\n",
       "      <td>0.006872</td>\n",
       "      <td>-0.552005</td>\n",
       "      <td>0.027118</td>\n",
       "      <td>0.154888</td>\n",
       "      <td>0.001938</td>\n",
       "    </tr>\n",
       "    <tr>\n",
       "      <th>1</th>\n",
       "      <td>1</td>\n",
       "      <td>S29R</td>\n",
       "      <td>0.051353</td>\n",
       "      <td>0.000379</td>\n",
       "      <td>0.142751</td>\n",
       "      <td>0.001495</td>\n",
       "      <td>0.282864</td>\n",
       "      <td>0.002014</td>\n",
       "      <td>0.247442</td>\n",
       "      <td>0.006977</td>\n",
       "      <td>5.176574</td>\n",
       "      <td>0.043108</td>\n",
       "      <td>0.476967</td>\n",
       "      <td>0.002537</td>\n",
       "    </tr>\n",
       "    <tr>\n",
       "      <th>2</th>\n",
       "      <td>2</td>\n",
       "      <td>Y35N</td>\n",
       "      <td>0.475922</td>\n",
       "      <td>0.001182</td>\n",
       "      <td>0.350730</td>\n",
       "      <td>0.003493</td>\n",
       "      <td>0.948471</td>\n",
       "      <td>0.004559</td>\n",
       "      <td>0.943261</td>\n",
       "      <td>0.007593</td>\n",
       "      <td>6.944664</td>\n",
       "      <td>0.085260</td>\n",
       "      <td>1.775124</td>\n",
       "      <td>0.005864</td>\n",
       "    </tr>\n",
       "    <tr>\n",
       "      <th>3</th>\n",
       "      <td>3</td>\n",
       "      <td>Y48C</td>\n",
       "      <td>-0.009082</td>\n",
       "      <td>0.001902</td>\n",
       "      <td>0.045927</td>\n",
       "      <td>0.003476</td>\n",
       "      <td>-0.019971</td>\n",
       "      <td>0.004269</td>\n",
       "      <td>0.212192</td>\n",
       "      <td>0.006980</td>\n",
       "      <td>1.799317</td>\n",
       "      <td>0.115064</td>\n",
       "      <td>0.074980</td>\n",
       "      <td>0.005825</td>\n",
       "    </tr>\n",
       "    <tr>\n",
       "      <th>4</th>\n",
       "      <td>4</td>\n",
       "      <td>D49Y</td>\n",
       "      <td>0.245354</td>\n",
       "      <td>0.001940</td>\n",
       "      <td>0.423951</td>\n",
       "      <td>0.004313</td>\n",
       "      <td>0.608515</td>\n",
       "      <td>0.004755</td>\n",
       "      <td>0.118267</td>\n",
       "      <td>0.007128</td>\n",
       "      <td>8.642305</td>\n",
       "      <td>0.121721</td>\n",
       "      <td>1.277820</td>\n",
       "      <td>0.006706</td>\n",
       "    </tr>\n",
       "    <tr>\n",
       "      <th>5</th>\n",
       "      <td>5</td>\n",
       "      <td>V98I</td>\n",
       "      <td>0.013609</td>\n",
       "      <td>0.000327</td>\n",
       "      <td>0.041254</td>\n",
       "      <td>0.000740</td>\n",
       "      <td>-0.017201</td>\n",
       "      <td>0.001353</td>\n",
       "      <td>-0.083624</td>\n",
       "      <td>0.007012</td>\n",
       "      <td>-0.573475</td>\n",
       "      <td>0.026644</td>\n",
       "      <td>0.072064</td>\n",
       "      <td>0.001577</td>\n",
       "    </tr>\n",
       "    <tr>\n",
       "      <th>6</th>\n",
       "      <td>6</td>\n",
       "      <td>G31D</td>\n",
       "      <td>0.150576</td>\n",
       "      <td>0.000671</td>\n",
       "      <td>0.160146</td>\n",
       "      <td>0.001502</td>\n",
       "      <td>0.556176</td>\n",
       "      <td>0.002757</td>\n",
       "      <td>-0.142456</td>\n",
       "      <td>0.007816</td>\n",
       "      <td>14.161306</td>\n",
       "      <td>0.078573</td>\n",
       "      <td>0.866897</td>\n",
       "      <td>0.003210</td>\n",
       "    </tr>\n",
       "    <tr>\n",
       "      <th>7</th>\n",
       "      <td>7</td>\n",
       "      <td>Y33H</td>\n",
       "      <td>0.245317</td>\n",
       "      <td>0.000842</td>\n",
       "      <td>0.262465</td>\n",
       "      <td>0.002520</td>\n",
       "      <td>0.381849</td>\n",
       "      <td>0.002535</td>\n",
       "      <td>0.512327</td>\n",
       "      <td>0.008238</td>\n",
       "      <td>10.225785</td>\n",
       "      <td>0.078536</td>\n",
       "      <td>0.889631</td>\n",
       "      <td>0.003672</td>\n",
       "    </tr>\n",
       "    <tr>\n",
       "      <th>8</th>\n",
       "      <td>8</td>\n",
       "      <td>M34I</td>\n",
       "      <td>0.016195</td>\n",
       "      <td>0.000453</td>\n",
       "      <td>0.114124</td>\n",
       "      <td>0.001381</td>\n",
       "      <td>0.109564</td>\n",
       "      <td>0.001620</td>\n",
       "      <td>-0.248691</td>\n",
       "      <td>0.008014</td>\n",
       "      <td>3.942076</td>\n",
       "      <td>0.043700</td>\n",
       "      <td>0.239883</td>\n",
       "      <td>0.002176</td>\n",
       "    </tr>\n",
       "    <tr>\n",
       "      <th>9</th>\n",
       "      <td>9</td>\n",
       "      <td>H35N</td>\n",
       "      <td>0.164149</td>\n",
       "      <td>0.000766</td>\n",
       "      <td>0.328146</td>\n",
       "      <td>0.003042</td>\n",
       "      <td>0.347584</td>\n",
       "      <td>0.003106</td>\n",
       "      <td>0.102199</td>\n",
       "      <td>0.008012</td>\n",
       "      <td>7.301696</td>\n",
       "      <td>0.071346</td>\n",
       "      <td>0.839879</td>\n",
       "      <td>0.004415</td>\n",
       "    </tr>\n",
       "    <tr>\n",
       "      <th>10</th>\n",
       "      <td>10</td>\n",
       "      <td>N52H</td>\n",
       "      <td>0.357882</td>\n",
       "      <td>0.001018</td>\n",
       "      <td>1.351933</td>\n",
       "      <td>0.005153</td>\n",
       "      <td>1.258721</td>\n",
       "      <td>0.004545</td>\n",
       "      <td>0.042448</td>\n",
       "      <td>0.007118</td>\n",
       "      <td>26.990442</td>\n",
       "      <td>0.124549</td>\n",
       "      <td>2.968535</td>\n",
       "      <td>0.006946</td>\n",
       "    </tr>\n",
       "    <tr>\n",
       "      <th>11</th>\n",
       "      <td>11</td>\n",
       "      <td>G57D</td>\n",
       "      <td>0.011359</td>\n",
       "      <td>0.000434</td>\n",
       "      <td>0.045892</td>\n",
       "      <td>0.000928</td>\n",
       "      <td>0.081028</td>\n",
       "      <td>0.001542</td>\n",
       "      <td>-0.068823</td>\n",
       "      <td>0.007108</td>\n",
       "      <td>3.329725</td>\n",
       "      <td>0.036264</td>\n",
       "      <td>0.138280</td>\n",
       "      <td>0.001852</td>\n",
       "    </tr>\n",
       "    <tr>\n",
       "      <th>12</th>\n",
       "      <td>12</td>\n",
       "      <td>L83V</td>\n",
       "      <td>0.027724</td>\n",
       "      <td>0.000358</td>\n",
       "      <td>0.008645</td>\n",
       "      <td>0.000762</td>\n",
       "      <td>-0.001074</td>\n",
       "      <td>0.001384</td>\n",
       "      <td>0.036011</td>\n",
       "      <td>0.006985</td>\n",
       "      <td>-0.490955</td>\n",
       "      <td>0.027068</td>\n",
       "      <td>0.037443</td>\n",
       "      <td>0.001620</td>\n",
       "    </tr>\n",
       "    <tr>\n",
       "      <th>13</th>\n",
       "      <td>13</td>\n",
       "      <td>S84N</td>\n",
       "      <td>0.006495</td>\n",
       "      <td>0.000336</td>\n",
       "      <td>0.017232</td>\n",
       "      <td>0.000696</td>\n",
       "      <td>0.017438</td>\n",
       "      <td>0.001382</td>\n",
       "      <td>0.034458</td>\n",
       "      <td>0.007031</td>\n",
       "      <td>0.434349</td>\n",
       "      <td>0.026087</td>\n",
       "      <td>0.041165</td>\n",
       "      <td>0.001584</td>\n",
       "    </tr>\n",
       "    <tr>\n",
       "      <th>14</th>\n",
       "      <td>14</td>\n",
       "      <td>R85G</td>\n",
       "      <td>-0.039104</td>\n",
       "      <td>0.000540</td>\n",
       "      <td>0.051974</td>\n",
       "      <td>0.001276</td>\n",
       "      <td>0.012477</td>\n",
       "      <td>0.001665</td>\n",
       "      <td>-0.019963</td>\n",
       "      <td>0.007097</td>\n",
       "      <td>3.501914</td>\n",
       "      <td>0.050572</td>\n",
       "      <td>0.103554</td>\n",
       "      <td>0.002166</td>\n",
       "    </tr>\n",
       "    <tr>\n",
       "      <th>15</th>\n",
       "      <td>15</td>\n",
       "      <td>R87K</td>\n",
       "      <td>0.100525</td>\n",
       "      <td>0.000532</td>\n",
       "      <td>0.195621</td>\n",
       "      <td>0.001717</td>\n",
       "      <td>0.256034</td>\n",
       "      <td>0.001784</td>\n",
       "      <td>0.242808</td>\n",
       "      <td>0.007090</td>\n",
       "      <td>8.391973</td>\n",
       "      <td>0.060291</td>\n",
       "      <td>0.552179</td>\n",
       "      <td>0.002532</td>\n",
       "    </tr>\n",
       "  </tbody>\n",
       "</table>\n",
       "</div>"
      ],
      "text/plain": [
       "    Unnamed: 0 mutation_names  MA90_dKd_mean  MA90_dKd_sem  SI06_dKd_mean  \\\n",
       "0            0           N26D      -0.005894      0.000337       0.125206   \n",
       "1            1           S29R       0.051353      0.000379       0.142751   \n",
       "2            2           Y35N       0.475922      0.001182       0.350730   \n",
       "3            3           Y48C      -0.009082      0.001902       0.045927   \n",
       "4            4           D49Y       0.245354      0.001940       0.423951   \n",
       "5            5           V98I       0.013609      0.000327       0.041254   \n",
       "6            6           G31D       0.150576      0.000671       0.160146   \n",
       "7            7           Y33H       0.245317      0.000842       0.262465   \n",
       "8            8           M34I       0.016195      0.000453       0.114124   \n",
       "9            9           H35N       0.164149      0.000766       0.328146   \n",
       "10          10           N52H       0.357882      0.001018       1.351933   \n",
       "11          11           G57D       0.011359      0.000434       0.045892   \n",
       "12          12           L83V       0.027724      0.000358       0.008645   \n",
       "13          13           S84N       0.006495      0.000336       0.017232   \n",
       "14          14           R85G      -0.039104      0.000540       0.051974   \n",
       "15          15           R87K       0.100525      0.000532       0.195621   \n",
       "\n",
       "    SI06_dKd_sem  G189E_dKd_mean  G189E_dKd_sem  dFrac_MI_mean  dFrac_MI_sem  \\\n",
       "0       0.001299       -0.023788       0.001398      -0.133428      0.006872   \n",
       "1       0.001495        0.282864       0.002014       0.247442      0.006977   \n",
       "2       0.003493        0.948471       0.004559       0.943261      0.007593   \n",
       "3       0.003476       -0.019971       0.004269       0.212192      0.006980   \n",
       "4       0.004313        0.608515       0.004755       0.118267      0.007128   \n",
       "5       0.000740       -0.017201       0.001353      -0.083624      0.007012   \n",
       "6       0.001502        0.556176       0.002757      -0.142456      0.007816   \n",
       "7       0.002520        0.381849       0.002535       0.512327      0.008238   \n",
       "8       0.001381        0.109564       0.001620      -0.248691      0.008014   \n",
       "9       0.003042        0.347584       0.003106       0.102199      0.008012   \n",
       "10      0.005153        1.258721       0.004545       0.042448      0.007118   \n",
       "11      0.000928        0.081028       0.001542      -0.068823      0.007108   \n",
       "12      0.000762       -0.001074       0.001384       0.036011      0.006985   \n",
       "13      0.000696        0.017438       0.001382       0.034458      0.007031   \n",
       "14      0.001276        0.012477       0.001665      -0.019963      0.007097   \n",
       "15      0.001717        0.256034       0.001784       0.242808      0.007090   \n",
       "\n",
       "    dFrac_SI_mean  dFrac_SI_sem       sum  total_err  \n",
       "0       -0.552005      0.027118  0.154888   0.001938  \n",
       "1        5.176574      0.043108  0.476967   0.002537  \n",
       "2        6.944664      0.085260  1.775124   0.005864  \n",
       "3        1.799317      0.115064  0.074980   0.005825  \n",
       "4        8.642305      0.121721  1.277820   0.006706  \n",
       "5       -0.573475      0.026644  0.072064   0.001577  \n",
       "6       14.161306      0.078573  0.866897   0.003210  \n",
       "7       10.225785      0.078536  0.889631   0.003672  \n",
       "8        3.942076      0.043700  0.239883   0.002176  \n",
       "9        7.301696      0.071346  0.839879   0.004415  \n",
       "10      26.990442      0.124549  2.968535   0.006946  \n",
       "11       3.329725      0.036264  0.138280   0.001852  \n",
       "12      -0.490955      0.027068  0.037443   0.001620  \n",
       "13       0.434349      0.026087  0.041165   0.001584  \n",
       "14       3.501914      0.050572  0.103554   0.002166  \n",
       "15       8.391973      0.060291  0.552179   0.002532  "
      ]
     },
     "execution_count": 38,
     "metadata": {},
     "output_type": "execute_result"
    }
   ],
   "source": [
    "#read in data for change in Kd\n",
    "toplot = pd.DataFrame(pd.read_csv('../../Kd_Inference/results_CH65/Kd_processed/dKd_summary.csv'),index=None)\n",
    "toplot['dFrac_MI_mean'] = dFrac_mean\n",
    "toplot['dFrac_MI_sem'] = dFrac_sem\n",
    "toplot['dFrac_SI_mean'] = dFracSI_mean\n",
    "toplot['dFrac_SI_sem'] = dFracSI_sem\n",
    "toplot['sum']=abs(toplot['MA90_dKd_mean'])+abs(toplot['SI06_dKd_mean'])+abs(toplot['G189E_dKd_mean'])\n",
    "toplot['total_err']=((toplot['MA90_dKd_sem'])**2+(toplot['SI06_dKd_sem'])**2+(toplot['G189E_dKd_sem'])**2)**(1/2)\n",
    "toplot\n"
   ]
  },
  {
   "cell_type": "markdown",
   "metadata": {},
   "source": [
    "## correlation between sum of delta(-logKd) and delta(mean enrichment)"
   ]
  },
  {
   "cell_type": "markdown",
   "metadata": {},
   "source": [
    "## MI15"
   ]
  },
  {
   "cell_type": "code",
   "execution_count": 39,
   "metadata": {},
   "outputs": [
    {
     "name": "stdout",
     "output_type": "stream",
     "text": [
      "0.6824736171557244\n"
     ]
    },
    {
     "data": {
      "image/png": "[encoded data removed]",
      "text/plain": [
       "<Figure size 72x72 with 1 Axes>"
      ]
     },
     "metadata": {
      "needs_background": "light"
     },
     "output_type": "display_data"
    }
   ],
   "source": [
    "plt.rcParams['font.sans-serif'] = \"Arial\"\n",
    "plt.rcParams['font.family'] = \"sans-serif\"\n",
    "plt.rcParams['axes.linewidth'] = 0.5\n",
    "flierprops = dict(marker='o', markersize=2)\n",
    "corr, _ = pearsonr(toplot['dFrac_MI_mean'], toplot['MA90_dKd_mean'])\n",
    "slope, intercept, r_value, p_value, std_err = scipy.stats.linregress(toplot['dFrac_MI_mean'], toplot['MA90_dKd_mean'])\n",
    "plt.figure(figsize=(1,1))\n",
    "ax = sns.scatterplot(x='dFrac_MI_mean', y='MA90_dKd_mean',data=toplot,hue='mutation_names',s=20,palette=colors,legend=False,edgecolor='black')\n",
    "\n",
    "# Find the x,y coordinates for each point\n",
    "x_coords = []\n",
    "y_coords = []\n",
    "for points in ax.collections:\n",
    "    for x, y in points.get_offsets():\n",
    "        x_coords.append(x)\n",
    "        y_coords.append(y)\n",
    "\n",
    "# Calculate the type of error to plot as the error bars\n",
    "# Make sure the order is the same as the points were looped over\n",
    "plt.errorbar(x_coords, y_coords, yerr=toplot['dFrac_MI_sem'],xerr=toplot['MA90_dKd_sem'], fmt=' ', zorder=-1,color='k',linewidth=0.5)\n",
    "\n",
    "sns.regplot(x='dFrac_MI_mean', y='MA90_dKd_mean',data=toplot, scatter=False, ax=ax,color='gray')\n",
    "#plt.xlim(-0.03,0.03)\n",
    "plt.axhline(y=0,linestyle='dashed',linewidth=0.5,color='black')\n",
    "plt.axvline(x=0,linestyle='dashed',linewidth=0.5,color='black')\n",
    "plt.xlabel('',fontsize=7,labelpad=0.5)\n",
    "plt.ylabel('',fontsize=7,labelpad=0.5)\n",
    "# plt.xticks(ticks=[-0.03,0,0.03],labels=['-0.03','0','0.03'],fontsize=7)\n",
    "# plt.yticks(ticks=[0,0.5],labels=['0','0.5'],fontsize=7)\n",
    "plt.savefig('images/CH65_dfrac_MI_kd_corr_MA90.png',transparent=True, dpi=600,bbox_inches='tight')\n",
    "print(corr)"
   ]
  },
  {
   "cell_type": "code",
   "execution_count": 40,
   "metadata": {},
   "outputs": [
    {
     "name": "stdout",
     "output_type": "stream",
     "text": [
      "0.15080907179314906\n"
     ]
    },
    {
     "data": {
      "image/png": "[encoded data removed]",
      "text/plain": [
       "<Figure size 72x72 with 1 Axes>"
      ]
     },
     "metadata": {
      "needs_background": "light"
     },
     "output_type": "display_data"
    }
   ],
   "source": [
    "plt.rcParams['font.sans-serif'] = \"Arial\"\n",
    "plt.rcParams['font.family'] = \"sans-serif\"\n",
    "plt.rcParams['axes.linewidth'] = 0.5\n",
    "flierprops = dict(marker='o', markersize=2)\n",
    "corr, _ = pearsonr(toplot['dFrac_MI_mean'], toplot['SI06_dKd_mean'])\n",
    "slope, intercept, r_value, p_value, std_err = scipy.stats.linregress(toplot['dFrac_MI_mean'], toplot['SI06_dKd_mean'])\n",
    "plt.figure(figsize=(1,1))\n",
    "ax = sns.scatterplot(x='dFrac_MI_mean', y='SI06_dKd_mean',data=toplot,hue='mutation_names',s=20,palette=colors,legend=False,edgecolor='black')\n",
    "\n",
    "# Find the x,y coordinates for each point\n",
    "x_coords = []\n",
    "y_coords = []\n",
    "for points in ax.collections:\n",
    "    for x, y in points.get_offsets():\n",
    "        x_coords.append(x)\n",
    "        y_coords.append(y)\n",
    "\n",
    "# Calculate the type of error to plot as the error bars\n",
    "# Make sure the order is the same as the points were looped over\n",
    "plt.errorbar(x_coords, y_coords, yerr=toplot['dFrac_MI_sem'],xerr=toplot['SI06_dKd_sem'], fmt=' ', zorder=-1,color='k',linewidth=0.5)\n",
    "\n",
    "\n",
    "\n",
    "sns.regplot(x='dFrac_MI_mean', y='SI06_dKd_mean',data=toplot, scatter=False, ax=ax,color='gray')\n",
    "#plt.xlim(-0.03,0.03)\n",
    "plt.xlabel('',fontsize=7,labelpad=0.5)\n",
    "plt.ylabel('',fontsize=7,labelpad=0.5)\n",
    "plt.axhline(y=0,linestyle='dashed',linewidth=0.5,color='black')\n",
    "plt.axvline(x=0,linestyle='dashed',linewidth=0.5,color='black')\n",
    "# plt.xticks(ticks=[-0.03,0,0.03],labels=['-0.03','0','0.03'],fontsize=7)\n",
    "# plt.yticks(ticks=[0,0.5,1],labels=['0','0.5','1'],fontsize=7)\n",
    "plt.savefig('images/CH65_dfrac_MI_kd_corr_SI06.png',transparent=True, dpi=600,bbox_inches='tight')\n",
    "print(corr)"
   ]
  },
  {
   "cell_type": "code",
   "execution_count": 41,
   "metadata": {},
   "outputs": [
    {
     "name": "stdout",
     "output_type": "stream",
     "text": [
      "0.44567139976069486\n"
     ]
    },
    {
     "data": {
      "image/png": "[encoded data removed]",
      "text/plain": [
       "<Figure size 72x72 with 1 Axes>"
      ]
     },
     "metadata": {
      "needs_background": "light"
     },
     "output_type": "display_data"
    }
   ],
   "source": [
    "plt.rcParams['font.sans-serif'] = \"Arial\"\n",
    "plt.rcParams['font.family'] = \"sans-serif\"\n",
    "plt.rcParams['axes.linewidth'] = 0.5\n",
    "flierprops = dict(marker='o', markersize=2)\n",
    "corr, _ = pearsonr(toplot['dFrac_MI_mean'], toplot['G189E_dKd_mean'])\n",
    "slope, intercept, r_value, p_value, std_err = scipy.stats.linregress(toplot['dFrac_MI_mean'], toplot['G189E_dKd_mean'])\n",
    "plt.figure(figsize=(1,1))\n",
    "ax = sns.scatterplot(x='dFrac_MI_mean', y='G189E_dKd_mean',data=toplot,hue='mutation_names',s=20,palette=colors,legend=False,edgecolor='black')\n",
    "\n",
    "# Find the x,y coordinates for each point\n",
    "x_coords = []\n",
    "y_coords = []\n",
    "for points in ax.collections:\n",
    "    for x, y in points.get_offsets():\n",
    "        x_coords.append(x)\n",
    "        y_coords.append(y)\n",
    "\n",
    "# Calculate the type of error to plot as the error bars\n",
    "# Make sure the order is the same as the points were looped over\n",
    "plt.errorbar(x_coords, y_coords, yerr=toplot['dFrac_MI_sem'],xerr=toplot['G189E_dKd_sem'], fmt=' ', zorder=-1,color='k',linewidth=0.5)\n",
    "\n",
    "\n",
    "\n",
    "sns.regplot(x='dFrac_MI_mean', y='G189E_dKd_mean',data=toplot, scatter=False, ax=ax,color='gray')\n",
    "#plt.xlim(-0.03,0.03)\n",
    "plt.xlabel('',fontsize=7,labelpad=0.5)\n",
    "plt.ylabel('',fontsize=7,labelpad=0.5)\n",
    "plt.axhline(y=0,linestyle='dashed',linewidth=0.5,color='black')\n",
    "plt.axvline(x=0,linestyle='dashed',linewidth=0.5,color='black')\n",
    "# plt.xticks(ticks=[-0.03,0,0.03],labels=['-0.03','0','0.03'],fontsize=7)\n",
    "# plt.yticks(ticks=[0,0.5,1],labels=['0','0.5','1'],fontsize=7)\n",
    "plt.savefig('images/CH65_dfrac_MI_kd_corr_G189E.png',transparent=True, dpi=600,bbox_inches='tight')\n",
    "print(corr)"
   ]
  },
  {
   "cell_type": "markdown",
   "metadata": {},
   "source": [
    "## SI06-G189D"
   ]
  },
  {
   "cell_type": "code",
   "execution_count": 42,
   "metadata": {},
   "outputs": [
    {
     "name": "stdout",
     "output_type": "stream",
     "text": [
      "0.6836247886741039\n"
     ]
    },
    {
     "data": {
      "image/png": "[encoded data removed]",
      "text/plain": [
       "<Figure size 72x72 with 1 Axes>"
      ]
     },
     "metadata": {
      "needs_background": "light"
     },
     "output_type": "display_data"
    }
   ],
   "source": [
    "plt.rcParams['font.sans-serif'] = \"Arial\"\n",
    "plt.rcParams['font.family'] = \"sans-serif\"\n",
    "plt.rcParams['axes.linewidth'] = 0.5\n",
    "flierprops = dict(marker='o', markersize=2)\n",
    "corr, _ = pearsonr(toplot['dFrac_SI_mean'], toplot['MA90_dKd_mean'])\n",
    "slope, intercept, r_value, p_value, std_err = scipy.stats.linregress(toplot['dFrac_SI_mean'], toplot['MA90_dKd_mean'])\n",
    "plt.figure(figsize=(1,1))\n",
    "ax = sns.scatterplot(x='dFrac_SI_mean', y='MA90_dKd_mean',data=toplot,hue='mutation_names',s=20,palette=colors,legend=False,edgecolor='black')\n",
    "\n",
    "# Find the x,y coordinates for each point\n",
    "x_coords = []\n",
    "y_coords = []\n",
    "for points in ax.collections:\n",
    "    for x, y in points.get_offsets():\n",
    "        x_coords.append(x)\n",
    "        y_coords.append(y)\n",
    "\n",
    "# Calculate the type of error to plot as the error bars\n",
    "# Make sure the order is the same as the points were looped over\n",
    "plt.errorbar(x_coords, y_coords, yerr=toplot['dFrac_SI_sem'],xerr=toplot['MA90_dKd_sem'], fmt=' ', zorder=-1,color='k',linewidth=0.5)\n",
    "\n",
    "\n",
    "\n",
    "sns.regplot(x='dFrac_SI_mean', y='MA90_dKd_mean',data=toplot, scatter=False, ax=ax,color='gray')\n",
    "#plt.xlim(-0.03,0.03)\n",
    "#plt.ylim(-0.1,0.25)\n",
    "plt.axhline(y=0,linestyle='dashed',linewidth=0.5,color='black')\n",
    "plt.axvline(x=0,linestyle='dashed',linewidth=0.5,color='black')\n",
    "plt.xlabel('',fontsize=7,labelpad=0.5)\n",
    "plt.ylabel('',fontsize=7,labelpad=0.5)\n",
    "# plt.xticks(ticks=[-0.03,0,0.03],labels=['-0.03','0','0.03'],fontsize=7)\n",
    "# plt.yticks(ticks=[0,0.25],labels=['0','0.25'],fontsize=7)\n",
    "plt.savefig('images/CH65_dfrac_SI_kd_corr_MA90.png',transparent=True, dpi=600,bbox_inches='tight')\n",
    "print(corr)"
   ]
  },
  {
   "cell_type": "code",
   "execution_count": 43,
   "metadata": {},
   "outputs": [
    {
     "name": "stdout",
     "output_type": "stream",
     "text": [
      "0.8884342702651774\n"
     ]
    },
    {
     "data": {
      "image/png": "[encoded data removed]",
      "text/plain": [
       "<Figure size 72x72 with 1 Axes>"
      ]
     },
     "metadata": {
      "needs_background": "light"
     },
     "output_type": "display_data"
    }
   ],
   "source": [
    "plt.rcParams['font.sans-serif'] = \"Arial\"\n",
    "plt.rcParams['font.family'] = \"sans-serif\"\n",
    "plt.rcParams['axes.linewidth'] = 0.5\n",
    "flierprops = dict(marker='o', markersize=2)\n",
    "corr, _ = pearsonr(toplot['dFrac_SI_mean'], toplot['SI06_dKd_mean'])\n",
    "slope, intercept, r_value, p_value, std_err = scipy.stats.linregress(toplot['dFrac_SI_mean'], toplot['SI06_dKd_mean'])\n",
    "plt.figure(figsize=(1,1))\n",
    "ax = sns.scatterplot(x='dFrac_SI_mean', y='SI06_dKd_mean',data=toplot,hue='mutation_names',s=20,palette=colors,legend=False,edgecolor='black')\n",
    "\n",
    "# Find the x,y coordinates for each point\n",
    "x_coords = []\n",
    "y_coords = []\n",
    "for points in ax.collections:\n",
    "    for x, y in points.get_offsets():\n",
    "        x_coords.append(x)\n",
    "        y_coords.append(y)\n",
    "\n",
    "# Calculate the type of error to plot as the error bars\n",
    "# Make sure the order is the same as the points were looped over\n",
    "plt.errorbar(x_coords, y_coords, yerr=toplot['dFrac_SI_sem'],xerr=toplot['SI06_dKd_sem'], fmt=' ', zorder=-1,color='k',linewidth=0.5)\n",
    "\n",
    "\n",
    "\n",
    "sns.regplot(x='dFrac_SI_mean', y='SI06_dKd_mean',data=toplot, scatter=False, ax=ax,color='gray')\n",
    "# plt.xlim(-0.03,0.03)\n",
    "# plt.ylim(-0.1,0.25)\n",
    "plt.xlabel('',fontsize=7,labelpad=0.5)\n",
    "plt.ylabel('',fontsize=7,labelpad=0.5)\n",
    "plt.axhline(y=0,linestyle='dashed',linewidth=0.5,color='black')\n",
    "plt.axvline(x=0,linestyle='dashed',linewidth=0.5,color='black')\n",
    "# plt.xticks(ticks=[-0.03,0,0.03],labels=['-0.03','0','0.03'],fontsize=7)\n",
    "# plt.yticks(ticks=[0,0.25],labels=['0','0.25'],fontsize=7)\n",
    "plt.savefig('images/CH65_dfrac_SI_kd_corr_SI06.png',transparent=True, dpi=600,bbox_inches='tight')\n",
    "print(corr)"
   ]
  },
  {
   "cell_type": "code",
   "execution_count": 44,
   "metadata": {},
   "outputs": [
    {
     "name": "stdout",
     "output_type": "stream",
     "text": [
      "0.8723871054288546\n"
     ]
    },
    {
     "data": {
      "image/png": "[encoded data removed]",
      "text/plain": [
       "<Figure size 72x72 with 1 Axes>"
      ]
     },
     "metadata": {
      "needs_background": "light"
     },
     "output_type": "display_data"
    }
   ],
   "source": [
    "plt.rcParams['font.sans-serif'] = \"Arial\"\n",
    "plt.rcParams['font.family'] = \"sans-serif\"\n",
    "plt.rcParams['axes.linewidth'] = 0.5\n",
    "flierprops = dict(marker='o', markersize=2)\n",
    "corr, _ = pearsonr(toplot['dFrac_SI_mean'], toplot['G189E_dKd_mean'])\n",
    "slope, intercept, r_value, p_value, std_err = scipy.stats.linregress(toplot['dFrac_SI_mean'], toplot['G189E_dKd_mean'])\n",
    "plt.figure(figsize=(1,1))\n",
    "ax = sns.scatterplot(x='dFrac_SI_mean', y='G189E_dKd_mean',data=toplot,hue='mutation_names',s=20,palette=colors,legend=False,edgecolor='black')\n",
    "\n",
    "# Find the x,y coordinates for each point\n",
    "x_coords = []\n",
    "y_coords = []\n",
    "for points in ax.collections:\n",
    "    for x, y in points.get_offsets():\n",
    "        x_coords.append(x)\n",
    "        y_coords.append(y)\n",
    "\n",
    "# Calculate the type of error to plot as the error bars\n",
    "# Make sure the order is the same as the points were looped over\n",
    "plt.errorbar(x_coords, y_coords, yerr=toplot['dFrac_SI_sem'],xerr=toplot['G189E_dKd_sem'], fmt=' ', zorder=-1,color='k',linewidth=0.5)\n",
    "\n",
    "\n",
    "\n",
    "sns.regplot(x='dFrac_SI_mean', y='G189E_dKd_mean',data=toplot, scatter=False, ax=ax,color='gray')\n",
    "# plt.xlim(-0.03,0.03)\n",
    "# plt.ylim(-0.1,0.25)\n",
    "plt.xlabel('',fontsize=7,labelpad=0.5)\n",
    "plt.ylabel('',fontsize=7,labelpad=0.5)\n",
    "plt.axhline(y=0,linestyle='dashed',linewidth=0.5,color='black')\n",
    "plt.axvline(x=0,linestyle='dashed',linewidth=0.5,color='black')\n",
    "# plt.xticks(ticks=[-0.03,0,0.03],labels=['-0.03','0','0.03'],fontsize=7)\n",
    "# plt.yticks(ticks=[0,0.25],labels=['0','0.25'],fontsize=7)\n",
    "plt.savefig('images/CH65_dfrac_SI_kd_corr_G189E.png',transparent=True, dpi=600,bbox_inches='tight')\n",
    "print(corr)"
   ]
  },
  {
   "cell_type": "markdown",
   "metadata": {},
   "source": [
    "## correlation in change in enrichment between SI-G189D and MI15"
   ]
  },
  {
   "cell_type": "code",
   "execution_count": 45,
   "metadata": {},
   "outputs": [
    {
     "name": "stdout",
     "output_type": "stream",
     "text": [
      "0.1348244540769728\n"
     ]
    },
    {
     "data": {
      "image/png": "[encoded data removed]",
      "text/plain": [
       "<Figure size 72x72 with 1 Axes>"
      ]
     },
     "metadata": {
      "needs_background": "light"
     },
     "output_type": "display_data"
    }
   ],
   "source": [
    "plt.rcParams['font.sans-serif'] = \"Arial\"\n",
    "plt.rcParams['font.family'] = \"sans-serif\"\n",
    "plt.rcParams['axes.linewidth'] = 0.5\n",
    "flierprops = dict(marker='o', markersize=2)\n",
    "corr, _ = pearsonr(toplot['dFrac_SI_mean'], toplot['dFrac_MI_mean'])\n",
    "slope, intercept, r_value, p_value, std_err = scipy.stats.linregress(toplot['dFrac_SI_mean'], toplot['dFrac_MI_mean'])\n",
    "plt.figure(figsize=(1,1))\n",
    "ax = sns.scatterplot(x='dFrac_SI_mean', y='dFrac_MI_mean',data=toplot,hue='mutation_names',s=20,palette=colors,legend=False,edgecolor='black')\n",
    "\n",
    "# Find the x,y coordinates for each point\n",
    "x_coords = []\n",
    "y_coords = []\n",
    "for points in ax.collections:\n",
    "    for x, y in points.get_offsets():\n",
    "        x_coords.append(x)\n",
    "        y_coords.append(y)\n",
    "\n",
    "# Calculate the type of error to plot as the error bars\n",
    "# Make sure the order is the same as the points were looped over\n",
    "plt.errorbar(x_coords, y_coords, yerr=toplot['dFrac_SI_sem'],xerr=toplot['dFrac_MI_sem'], fmt=' ', zorder=-1,color='k',linewidth=0.5)\n",
    "\n",
    "\n",
    "\n",
    "sns.regplot(x='dFrac_SI_mean', y='dFrac_MI_mean',data=toplot, scatter=False, ax=ax,color='gray')\n",
    "#plt.xlim(-0.03,0.03)\n",
    "plt.axhline(y=0,linestyle='dashed',linewidth=0.5,color='black')\n",
    "plt.axvline(x=0,linestyle='dashed',linewidth=0.5,color='black')\n",
    "plt.xlabel('',fontsize=7,labelpad=0.5)\n",
    "plt.ylabel('',fontsize=7,labelpad=0.5)\n",
    "# plt.xticks(ticks=[-0.03,0,0.03],labels=['-0.03','0','0.03'],fontsize=7)\n",
    "# plt.yticks(ticks=[0,0.5],labels=['0','0.5'],fontsize=7)\n",
    "plt.savefig('images/CH65_dfrac_SIG189D_MI_kd_corr.png',transparent=True, dpi=600,bbox_inches='tight')\n",
    "print(corr)"
   ]
  },
  {
   "cell_type": "markdown",
   "metadata": {},
   "source": [
    "## Top 100 binders enrichment plots"
   ]
  },
  {
   "cell_type": "code",
   "execution_count": 2,
   "metadata": {},
   "outputs": [
    {
     "data": {
      "text/html": [
       "<div>\n",
       "<style scoped>\n",
       "    .dataframe tbody tr th:only-of-type {\n",
       "        vertical-align: middle;\n",
       "    }\n",
       "\n",
       "    .dataframe tbody tr th {\n",
       "        vertical-align: top;\n",
       "    }\n",
       "\n",
       "    .dataframe thead th {\n",
       "        text-align: right;\n",
       "    }\n",
       "</style>\n",
       "<table border=\"1\" class=\"dataframe\">\n",
       "  <thead>\n",
       "    <tr style=\"text-align: right;\">\n",
       "      <th></th>\n",
       "      <th>geno</th>\n",
       "      <th>MA90_mean</th>\n",
       "      <th>SI06_mean</th>\n",
       "      <th>G189E_mean</th>\n",
       "      <th>CH65_i_MI_neg_a</th>\n",
       "      <th>CH65_i_MI_pos_a</th>\n",
       "      <th>CH65_i_MI_neg_b</th>\n",
       "      <th>CH65_i_MI_pos_b</th>\n",
       "      <th>CH65_i_MI_neg_c</th>\n",
       "      <th>CH65_i_MI_pos_c</th>\n",
       "      <th>...</th>\n",
       "      <th>pos8</th>\n",
       "      <th>pos9</th>\n",
       "      <th>pos10</th>\n",
       "      <th>pos11</th>\n",
       "      <th>pos12</th>\n",
       "      <th>pos13</th>\n",
       "      <th>pos14</th>\n",
       "      <th>pos15</th>\n",
       "      <th>pos16</th>\n",
       "      <th>som_mut</th>\n",
       "    </tr>\n",
       "  </thead>\n",
       "  <tbody>\n",
       "    <tr>\n",
       "      <th>0</th>\n",
       "      <td>0000000000000000</td>\n",
       "      <td>8.542521</td>\n",
       "      <td>6.0</td>\n",
       "      <td>6.0</td>\n",
       "      <td>416</td>\n",
       "      <td>6</td>\n",
       "      <td>369</td>\n",
       "      <td>4</td>\n",
       "      <td>278</td>\n",
       "      <td>9</td>\n",
       "      <td>...</td>\n",
       "      <td>0</td>\n",
       "      <td>0</td>\n",
       "      <td>0</td>\n",
       "      <td>0</td>\n",
       "      <td>0</td>\n",
       "      <td>0</td>\n",
       "      <td>0</td>\n",
       "      <td>0</td>\n",
       "      <td>0</td>\n",
       "      <td>0</td>\n",
       "    </tr>\n",
       "    <tr>\n",
       "      <th>1</th>\n",
       "      <td>0000000000000001</td>\n",
       "      <td>8.574179</td>\n",
       "      <td>6.0</td>\n",
       "      <td>6.0</td>\n",
       "      <td>396</td>\n",
       "      <td>5</td>\n",
       "      <td>307</td>\n",
       "      <td>4</td>\n",
       "      <td>246</td>\n",
       "      <td>4</td>\n",
       "      <td>...</td>\n",
       "      <td>0</td>\n",
       "      <td>0</td>\n",
       "      <td>0</td>\n",
       "      <td>0</td>\n",
       "      <td>0</td>\n",
       "      <td>0</td>\n",
       "      <td>0</td>\n",
       "      <td>0</td>\n",
       "      <td>1</td>\n",
       "      <td>1</td>\n",
       "    </tr>\n",
       "    <tr>\n",
       "      <th>2</th>\n",
       "      <td>0000000000000010</td>\n",
       "      <td>8.315518</td>\n",
       "      <td>6.0</td>\n",
       "      <td>6.0</td>\n",
       "      <td>666</td>\n",
       "      <td>10</td>\n",
       "      <td>511</td>\n",
       "      <td>2</td>\n",
       "      <td>393</td>\n",
       "      <td>22</td>\n",
       "      <td>...</td>\n",
       "      <td>0</td>\n",
       "      <td>0</td>\n",
       "      <td>0</td>\n",
       "      <td>0</td>\n",
       "      <td>0</td>\n",
       "      <td>0</td>\n",
       "      <td>0</td>\n",
       "      <td>1</td>\n",
       "      <td>0</td>\n",
       "      <td>1</td>\n",
       "    </tr>\n",
       "    <tr>\n",
       "      <th>3</th>\n",
       "      <td>0000000000000011</td>\n",
       "      <td>8.473877</td>\n",
       "      <td>6.0</td>\n",
       "      <td>6.0</td>\n",
       "      <td>617</td>\n",
       "      <td>18</td>\n",
       "      <td>517</td>\n",
       "      <td>19</td>\n",
       "      <td>366</td>\n",
       "      <td>14</td>\n",
       "      <td>...</td>\n",
       "      <td>0</td>\n",
       "      <td>0</td>\n",
       "      <td>0</td>\n",
       "      <td>0</td>\n",
       "      <td>0</td>\n",
       "      <td>0</td>\n",
       "      <td>0</td>\n",
       "      <td>1</td>\n",
       "      <td>1</td>\n",
       "      <td>2</td>\n",
       "    </tr>\n",
       "    <tr>\n",
       "      <th>4</th>\n",
       "      <td>0000000000000100</td>\n",
       "      <td>8.537724</td>\n",
       "      <td>6.0</td>\n",
       "      <td>6.0</td>\n",
       "      <td>946</td>\n",
       "      <td>7</td>\n",
       "      <td>697</td>\n",
       "      <td>11</td>\n",
       "      <td>503</td>\n",
       "      <td>15</td>\n",
       "      <td>...</td>\n",
       "      <td>0</td>\n",
       "      <td>0</td>\n",
       "      <td>0</td>\n",
       "      <td>0</td>\n",
       "      <td>0</td>\n",
       "      <td>0</td>\n",
       "      <td>1</td>\n",
       "      <td>0</td>\n",
       "      <td>0</td>\n",
       "      <td>1</td>\n",
       "    </tr>\n",
       "  </tbody>\n",
       "</table>\n",
       "<p>5 rows × 56 columns</p>\n",
       "</div>"
      ],
      "text/plain": [
       "               geno  MA90_mean  SI06_mean  G189E_mean  CH65_i_MI_neg_a  \\\n",
       "0  0000000000000000   8.542521        6.0         6.0              416   \n",
       "1  0000000000000001   8.574179        6.0         6.0              396   \n",
       "2  0000000000000010   8.315518        6.0         6.0              666   \n",
       "3  0000000000000011   8.473877        6.0         6.0              617   \n",
       "4  0000000000000100   8.537724        6.0         6.0              946   \n",
       "\n",
       "   CH65_i_MI_pos_a  CH65_i_MI_neg_b  CH65_i_MI_pos_b  CH65_i_MI_neg_c  \\\n",
       "0                6              369                4              278   \n",
       "1                5              307                4              246   \n",
       "2               10              511                2              393   \n",
       "3               18              517               19              366   \n",
       "4                7              697               11              503   \n",
       "\n",
       "   CH65_i_MI_pos_c  ...  pos8  pos9  pos10  pos11  pos12  pos13  pos14  pos15  \\\n",
       "0                9  ...     0     0      0      0      0      0      0      0   \n",
       "1                4  ...     0     0      0      0      0      0      0      0   \n",
       "2               22  ...     0     0      0      0      0      0      0      1   \n",
       "3               14  ...     0     0      0      0      0      0      0      1   \n",
       "4               15  ...     0     0      0      0      0      0      1      0   \n",
       "\n",
       "   pos16  som_mut  \n",
       "0      0        0  \n",
       "1      1        1  \n",
       "2      0        1  \n",
       "3      1        2  \n",
       "4      0        1  \n",
       "\n",
       "[5 rows x 56 columns]"
      ]
     },
     "execution_count": 2,
     "metadata": {},
     "output_type": "execute_result"
    }
   ],
   "source": [
    "kd = pd.DataFrame(pd.read_csv('../../Kd_Inference/results_CH65/Kd_processed/20220603_CH65_QCfilt_REPfilt.csv',delimiter=',',dtype={'geno': str}),columns=('geno','MA90_mean','SI06_mean','G189E_mean'))\n",
    "Frac_bound = pd.DataFrame(pd.read_csv('../../Enrichment_Inference/20220725_fracbound.csv',delimiter=',',dtype={'geno': str}))\n",
    "all_data = pd.DataFrame()\n",
    "all_data = pd.merge(kd, Frac_bound, on='geno',how='outer')\n",
    "all_data.head()"
   ]
  },
  {
   "cell_type": "code",
   "execution_count": 3,
   "metadata": {},
   "outputs": [
    {
     "name": "stdout",
     "output_type": "stream",
     "text": [
      "8.359723573899288\n",
      "[28.999999999999996, 81.0, 99.0, 65.0, 77.0, 45.0, 12.0, 98.0, 9.0, 91.0, 59.0, 33.0, 52.0, 44.0, 47.0, 69.0]\n",
      "92.32448490618827\n",
      "[53.0, 82.0, 38.0, 65.0, 66.0, 51.0, 100.0, 99.0, 81.0, 100.0, 100.0, 62.0, 44.0, 54.0, 96.0, 98.0]\n"
     ]
    }
   ],
   "source": [
    "all_data_s = all_data.sort_values('MI_frac_mean',ascending = False)\n",
    "MI_hits = all_data_s.head(100)\n",
    "print(MI_hits['MI_frac_mean'].min())\n",
    "MI = []\n",
    "posi = ['N26D','S29R','Y35N','Y48C','D49Y','V98I','G31D','Y33H','M34I','H35N','N52H','G57D','L83V','S84N','R85G','R87K']\n",
    "for pos in range(1,17):\n",
    "    mean = MI_hits['pos%s'% pos].mean()*100\n",
    "    MI.append(mean)\n",
    "print(MI)\n",
    "\n",
    "all_data_s = all_data.sort_values('SI_frac_mean',ascending = False)\n",
    "SI_hits = all_data_s.head(100)\n",
    "print(SI_hits['SI_frac_mean'].min())\n",
    "SI = []\n",
    "posi = ['N26D','S29R','Y35N','Y48C','D49Y','V98I','G31D','Y33H','M34I','H35N','N52H','G57D','L83V','S84N','R85G','R87K']\n",
    "for pos in range(1,17):\n",
    "    mean = SI_hits['pos%s'% pos].mean()*100\n",
    "    SI.append(mean)\n",
    "print(SI)\n"
   ]
  },
  {
   "cell_type": "code",
   "execution_count": 4,
   "metadata": {},
   "outputs": [
    {
     "data": {
      "text/html": [
       "<div>\n",
       "<style scoped>\n",
       "    .dataframe tbody tr th:only-of-type {\n",
       "        vertical-align: middle;\n",
       "    }\n",
       "\n",
       "    .dataframe tbody tr th {\n",
       "        vertical-align: top;\n",
       "    }\n",
       "\n",
       "    .dataframe thead th {\n",
       "        text-align: right;\n",
       "    }\n",
       "</style>\n",
       "<table border=\"1\" class=\"dataframe\">\n",
       "  <thead>\n",
       "    <tr style=\"text-align: right;\">\n",
       "      <th></th>\n",
       "      <th>position</th>\n",
       "      <th>MI</th>\n",
       "      <th>MIerr</th>\n",
       "      <th>SI</th>\n",
       "      <th>SIerr</th>\n",
       "    </tr>\n",
       "  </thead>\n",
       "  <tbody>\n",
       "    <tr>\n",
       "      <th>0</th>\n",
       "      <td>N26D</td>\n",
       "      <td>29.0</td>\n",
       "      <td>5.100109</td>\n",
       "      <td>53.0</td>\n",
       "      <td>3.831159</td>\n",
       "    </tr>\n",
       "    <tr>\n",
       "      <th>1</th>\n",
       "      <td>S29R</td>\n",
       "      <td>81.0</td>\n",
       "      <td>4.175324</td>\n",
       "      <td>82.0</td>\n",
       "      <td>2.750757</td>\n",
       "    </tr>\n",
       "    <tr>\n",
       "      <th>2</th>\n",
       "      <td>Y35N</td>\n",
       "      <td>99.0</td>\n",
       "      <td>3.293090</td>\n",
       "      <td>38.0</td>\n",
       "      <td>2.998148</td>\n",
       "    </tr>\n",
       "    <tr>\n",
       "      <th>3</th>\n",
       "      <td>Y48C</td>\n",
       "      <td>65.0</td>\n",
       "      <td>5.396501</td>\n",
       "      <td>65.0</td>\n",
       "      <td>2.547330</td>\n",
       "    </tr>\n",
       "    <tr>\n",
       "      <th>4</th>\n",
       "      <td>D49Y</td>\n",
       "      <td>77.0</td>\n",
       "      <td>5.043147</td>\n",
       "      <td>66.0</td>\n",
       "      <td>2.584140</td>\n",
       "    </tr>\n",
       "    <tr>\n",
       "      <th>5</th>\n",
       "      <td>V98I</td>\n",
       "      <td>45.0</td>\n",
       "      <td>4.067486</td>\n",
       "      <td>51.0</td>\n",
       "      <td>2.726414</td>\n",
       "    </tr>\n",
       "    <tr>\n",
       "      <th>6</th>\n",
       "      <td>G31D</td>\n",
       "      <td>12.0</td>\n",
       "      <td>3.541814</td>\n",
       "      <td>100.0</td>\n",
       "      <td>0.788811</td>\n",
       "    </tr>\n",
       "    <tr>\n",
       "      <th>7</th>\n",
       "      <td>Y33H</td>\n",
       "      <td>98.0</td>\n",
       "      <td>3.747592</td>\n",
       "      <td>99.0</td>\n",
       "      <td>0.948683</td>\n",
       "    </tr>\n",
       "    <tr>\n",
       "      <th>8</th>\n",
       "      <td>M34I</td>\n",
       "      <td>9.0</td>\n",
       "      <td>4.998889</td>\n",
       "      <td>81.0</td>\n",
       "      <td>2.685351</td>\n",
       "    </tr>\n",
       "    <tr>\n",
       "      <th>9</th>\n",
       "      <td>H35N</td>\n",
       "      <td>91.0</td>\n",
       "      <td>4.087923</td>\n",
       "      <td>100.0</td>\n",
       "      <td>1.766981</td>\n",
       "    </tr>\n",
       "    <tr>\n",
       "      <th>10</th>\n",
       "      <td>N52H</td>\n",
       "      <td>59.0</td>\n",
       "      <td>4.366539</td>\n",
       "      <td>100.0</td>\n",
       "      <td>0.000000</td>\n",
       "    </tr>\n",
       "    <tr>\n",
       "      <th>11</th>\n",
       "      <td>G57D</td>\n",
       "      <td>33.0</td>\n",
       "      <td>5.676462</td>\n",
       "      <td>62.0</td>\n",
       "      <td>3.604010</td>\n",
       "    </tr>\n",
       "    <tr>\n",
       "      <th>12</th>\n",
       "      <td>L83V</td>\n",
       "      <td>52.0</td>\n",
       "      <td>2.666667</td>\n",
       "      <td>44.0</td>\n",
       "      <td>2.820559</td>\n",
       "    </tr>\n",
       "    <tr>\n",
       "      <th>13</th>\n",
       "      <td>S84N</td>\n",
       "      <td>44.0</td>\n",
       "      <td>3.238655</td>\n",
       "      <td>54.0</td>\n",
       "      <td>3.306559</td>\n",
       "    </tr>\n",
       "    <tr>\n",
       "      <th>14</th>\n",
       "      <td>R85G</td>\n",
       "      <td>47.0</td>\n",
       "      <td>4.521553</td>\n",
       "      <td>96.0</td>\n",
       "      <td>2.223611</td>\n",
       "    </tr>\n",
       "    <tr>\n",
       "      <th>15</th>\n",
       "      <td>R87K</td>\n",
       "      <td>69.0</td>\n",
       "      <td>2.990726</td>\n",
       "      <td>98.0</td>\n",
       "      <td>1.100505</td>\n",
       "    </tr>\n",
       "  </tbody>\n",
       "</table>\n",
       "</div>"
      ],
      "text/plain": [
       "   position    MI     MIerr     SI     SIerr\n",
       "0      N26D  29.0  5.100109   53.0  3.831159\n",
       "1      S29R  81.0  4.175324   82.0  2.750757\n",
       "2      Y35N  99.0  3.293090   38.0  2.998148\n",
       "3      Y48C  65.0  5.396501   65.0  2.547330\n",
       "4      D49Y  77.0  5.043147   66.0  2.584140\n",
       "5      V98I  45.0  4.067486   51.0  2.726414\n",
       "6      G31D  12.0  3.541814  100.0  0.788811\n",
       "7      Y33H  98.0  3.747592   99.0  0.948683\n",
       "8      M34I   9.0  4.998889   81.0  2.685351\n",
       "9      H35N  91.0  4.087923  100.0  1.766981\n",
       "10     N52H  59.0  4.366539  100.0  0.000000\n",
       "11     G57D  33.0  5.676462   62.0  3.604010\n",
       "12     L83V  52.0  2.666667   44.0  2.820559\n",
       "13     S84N  44.0  3.238655   54.0  3.306559\n",
       "14     R85G  47.0  4.521553   96.0  2.223611\n",
       "15     R87K  69.0  2.990726   98.0  1.100505"
      ]
     },
     "execution_count": 4,
     "metadata": {},
     "output_type": "execute_result"
    }
   ],
   "source": [
    "#bootstrap to get error\n",
    "Nbootstrap = 10\n",
    "#MI15\n",
    "bs_df = pd.DataFrame()\n",
    "for bootstrap in range(Nbootstrap):\n",
    "    means = []\n",
    "    all_data['MI_frac_mean_%s' % bootstrap]= np.random.normal(\n",
    "                        (all_data[\"MI_frac_mean\"]).values.astype('float32'),\n",
    "                        (all_data[\"MI_frac_sem\"]).values.astype('float32'))\n",
    "    all_data_s = all_data.sort_values('MI_frac_mean_%s'% bootstrap ,ascending = False).copy()\n",
    "    binders = all_data_s.head(100)\n",
    "    for pos in range(1,17):\n",
    "        mean = binders['pos%s'% pos].mean()*100\n",
    "        means.append(mean)\n",
    "    #print(means)\n",
    "    bs_df['bs_%s' % bootstrap] = means\n",
    "MIerr = list(bs_df.std(axis=1))\n",
    "\n",
    "#SI-G189D\n",
    "bs_df = pd.DataFrame()\n",
    "for bootstrap in range(Nbootstrap):\n",
    "    means = []\n",
    "    all_data['SI_frac_mean_%s' % bootstrap]= np.random.normal(\n",
    "                        (all_data[\"SI_frac_mean\"]).values.astype('float32'),\n",
    "                        (all_data[\"SI_frac_sem\"]).values.astype('float32'))\n",
    "    all_data_s = all_data.sort_values('SI_frac_mean_%s'% bootstrap ,ascending = False).copy()\n",
    "    binders = all_data_s.head(100)\n",
    "    for pos in range(1,17):\n",
    "        mean = binders['pos%s'% pos].mean()*100\n",
    "        means.append(mean)\n",
    "    #print(means)\n",
    "    bs_df['bs_%s' % bootstrap] = means\n",
    "SIerr = list(bs_df.std(axis=1))\n",
    "\n",
    "Enrich=pd.DataFrame(list(zip(posi, MI, MIerr, SI, SIerr)),\n",
    "              columns=['position','MI', 'MIerr', 'SI', 'SIerr'])\n",
    "Enrich"
   ]
  },
  {
   "cell_type": "code",
   "execution_count": 5,
   "metadata": {},
   "outputs": [
    {
     "name": "stdout",
     "output_type": "stream",
     "text": [
      "N26D Ttest_indResult(statistic=-13.020865192898517, pvalue=3.829876858752124e-07)\n",
      "S29R Ttest_indResult(statistic=23.478561068087533, pvalue=2.198120342821603e-09)\n",
      "Y35N Ttest_indResult(statistic=47.05355337533926, pvalue=4.4292619022405576e-12)\n",
      "Y48C Ttest_indResult(statistic=8.789800200345807, pvalue=1.0354731192904158e-05)\n",
      "D49Y Ttest_indResult(statistic=16.930201325056544, pvalue=3.9261968301237634e-08)\n",
      "V98I Ttest_indResult(statistic=-3.887262870700081, pvalue=0.0036903160107338174)\n",
      "G31D Ttest_indResult(statistic=-33.92797038566705, pvalue=8.279655357636621e-11)\n",
      "Y33H Ttest_indResult(statistic=40.50316443333686, pvalue=1.6972645956069355e-11)\n",
      "M34I Ttest_indResult(statistic=-25.936441107508458, pvalue=9.07952154615726e-10)\n",
      "H35N Ttest_indResult(statistic=31.716203322457893, pvalue=1.511868175709334e-10)\n",
      "N52H Ttest_indResult(statistic=6.517861419401112, pvalue=0.00010916174935410216)\n",
      "G57D Ttest_indResult(statistic=-9.470462247029646, pvalue=5.617237117587051e-06)\n",
      "L83V Ttest_indResult(statistic=2.371708245126286, pvalue=0.04179180077711288)\n",
      "S84N Ttest_indResult(statistic=-5.858500994137074, pvalue=0.00024119115429887286)\n",
      "R85G Ttest_indResult(statistic=-2.098135818540706, pvalue=0.065315566311655)\n",
      "R87K Ttest_indResult(statistic=20.08986024023188, pvalue=8.727498302148118e-09)\n"
     ]
    }
   ],
   "source": [
    "#do a two-sided t-test to see if mean of bs data is different from 50%\n",
    "mutation_names = ['N26D','S29R','Y35N','Y48C','D49Y','V98I','G31D','Y33H','M34I','H35N','N52H','G57D','L83V','S84N','R85G','R87K']\n",
    "from scipy.stats import ttest_ind_from_stats\n",
    "for mutation in mutation_names:\n",
    "    result = ttest_ind_from_stats(mean1=Enrich.loc[Enrich['position']==mutation, 'MI'].iloc[0], std1=Enrich.loc[Enrich['position']==mutation, 'MIerr'].iloc[0], nobs1=10,\n",
    "                     mean2=50, std2=0, nobs2=10, equal_var=False)\n",
    "    print(mutation,result)"
   ]
  },
  {
   "cell_type": "code",
   "execution_count": 6,
   "metadata": {},
   "outputs": [
    {
     "name": "stdout",
     "output_type": "stream",
     "text": [
      "N26D Ttest_indResult(statistic=2.4762306829443794, pvalue=0.03520850866153098)\n",
      "S29R Ttest_indResult(statistic=36.78727993148866, pvalue=4.016195347421853e-11)\n",
      "Y35N Ttest_indResult(statistic=-12.656925970823341, pvalue=4.883920759990624e-07)\n",
      "Y48C Ttest_indResult(statistic=18.621132493553272, pvalue=1.7032639660746455e-08)\n",
      "D49Y Ttest_indResult(statistic=19.579608394752103, pvalue=1.0949652305451705e-08)\n",
      "V98I Ttest_indResult(statistic=1.1598670095405885, pvalue=0.2759466851662693)\n",
      "G31D Ttest_indResult(statistic=200.4459314343183, pvalue=9.738626134490923e-18)\n",
      "Y33H Ttest_indResult(statistic=163.33333333333334, pvalue=6.146078889296156e-17)\n",
      "M34I Ttest_indResult(statistic=36.50569324701697, pvalue=4.3019637033233346e-11)\n",
      "H35N Ttest_indResult(statistic=89.48249794078404, pvalue=1.3779456247107115e-14)\n",
      "N52H Ttest_indResult(statistic=inf, pvalue=0.0)\n",
      "G57D Ttest_indResult(statistic=10.52919685033422, pvalue=2.3257478092352034e-06)\n",
      "L83V Ttest_indResult(statistic=-6.726915834767424, pvalue=8.58679880374312e-05)\n",
      "S84N Ttest_indResult(statistic=3.825460278380029, pvalue=0.004055832297520453)\n",
      "R85G Ttest_indResult(statistic=65.41827391331687, pvalue=2.3006291253155943e-13)\n",
      "R87K Ttest_indResult(statistic=137.9269850718458, pvalue=2.813113914895523e-16)\n"
     ]
    }
   ],
   "source": [
    "#do a two-sided t-test to see if mean of bs data is different from 50%\n",
    "mutation_names = ['N26D','S29R','Y35N','Y48C','D49Y','V98I','G31D','Y33H','M34I','H35N','N52H','G57D','L83V','S84N','R85G','R87K']\n",
    "from scipy.stats import ttest_ind_from_stats\n",
    "for mutation in mutation_names:\n",
    "    result = ttest_ind_from_stats(mean1=Enrich.loc[Enrich['position']==mutation, 'SI'].iloc[0], std1=Enrich.loc[Enrich['position']==mutation, 'SIerr'].iloc[0], nobs1=10,\n",
    "                     mean2=50, std2=0, nobs2=10, equal_var=False)\n",
    "    print(mutation,result)"
   ]
  },
  {
   "cell_type": "code",
   "execution_count": 13,
   "metadata": {},
   "outputs": [
    {
     "data": {
      "image/png": "[encoded data removed]",
      "text/plain": [
       "<Figure size 180x108 with 1 Axes>"
      ]
     },
     "metadata": {
      "needs_background": "light"
     },
     "output_type": "display_data"
    }
   ],
   "source": [
    "#plot\n",
    "# create plot\n",
    "n_groups = 16\n",
    "#fig, ax = plt.subplots()\n",
    "plt.figure(figsize=(2.5,1.5)) \n",
    "index = np.arange(n_groups)\n",
    "bar_width = 0.35\n",
    "x_axis = np.arange(len(posi))\n",
    "rects1 = plt.bar(x_axis + bar_width, MI, bar_width,\n",
    "yerr = Enrich['MIerr'],\n",
    "color=\"plum\",\n",
    "label='MI')\n",
    "\n",
    "rects2 = plt.bar(x_axis + 2*bar_width, SI, bar_width,\n",
    "yerr = Enrich['SIerr'],\n",
    "color=\"seagreen\", label='SI')\n",
    "\n",
    "\n",
    "plt.xlabel('Mutation',fontsize=7)\n",
    "plt.ylabel('% Frequency',fontsize=7,labelpad=0)\n",
    "plt.title('',fontsize=8)\n",
    "plt.xticks(x_axis + 2*bar_width, posi,fontsize=7,rotation=90)\n",
    "plt.yticks([0,25,50,75,100],fontsize=7)\n",
    "plt.axhline(y=50,linestyle='dashed',c='black',linewidth=0.25)\n",
    "#plt.legend(loc='best',fontsize=5)\n",
    "plt.tight_layout()\n",
    "plt.savefig('images/Enrichbinders_MI15_SIG189D.png',dpi=1200,transparent=True)"
   ]
  },
  {
   "cell_type": "code",
   "execution_count": null,
   "metadata": {},
   "outputs": [],
   "source": []
  }
 ],
 "metadata": {
  "kernelspec": {
   "display_name": "Python 3 (ipykernel)",
   "language": "python",
   "name": "python3"
  },
  "language_info": {
   "codemirror_mode": {
    "name": "ipython",
    "version": 3
   },
   "file_extension": ".py",
   "mimetype": "text/x-python",
   "name": "python",
   "nbconvert_exporter": "python",
   "pygments_lexer": "ipython3",
   "version": "3.9.12"
  }
 },
 "nbformat": 4,
 "nbformat_minor": 2
}
