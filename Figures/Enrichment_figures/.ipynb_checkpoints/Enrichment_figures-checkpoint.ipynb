{
 "cells": [
  {
   "cell_type": "markdown",
   "metadata": {},
   "source": [
    "## import stuff"
   ]
  },
  {
   "cell_type": "code",
   "execution_count": 159,
   "metadata": {},
   "outputs": [],
   "source": [
    "#importing things\n",
    "import pandas as pd\n",
    "import os\n",
    "import numpy as np\n",
    "import csv\n",
    "import pylab as pl\n",
    "import matplotlib.pyplot as plt\n",
    "import copy\n",
    "import scipy\n",
    "import scipy.stats as stats\n",
    "from scipy.stats import linregress\n",
    "from scipy.stats import t\n",
    "from scipy.stats import chi2\n",
    "from scipy.stats import sem\n",
    "import scipy.stats as st\n",
    "from scipy.linalg import hadamard\n",
    "from scipy.stats import ttest_ind_from_stats\n",
    "from sklearn.preprocessing import StandardScaler\n",
    "from sklearn.decomposition import PCA\n",
    "from sklearn.linear_model import LinearRegression\n",
    "from mpl_toolkits.mplot3d import Axes3D\n",
    "from scipy.stats import ttest_ind_from_stats\n",
    "from sklearn.manifold import TSNE\n",
    "from scipy.stats import pearsonr\n",
    "from collections import OrderedDict\n",
    "import seaborn as sns\n",
    "import colorsys\n",
    "from functools import reduce\n",
    "from scipy.optimize import curve_fit\n",
    "from operator import itemgetter\n",
    "import math\n",
    "import matplotlib.colors as mcolors\n",
    "\n",
    "def lighten_color(color, amount=0.5):  \n",
    "    # --------------------- SOURCE: @IanHincks ---------------------\n",
    "    try:\n",
    "        c = mc.cnames[color]\n",
    "    except:\n",
    "        c = color\n",
    "    c = colorsys.rgb_to_hls(*mc.to_rgb(c))\n",
    "    return colorsys.hls_to_rgb(c[0], 1 - amount * (1 - c[1]), c[2])\n",
    "\n",
    "def sum_digits(digit):\n",
    "    return sum(int(x) for x in digit if x.isdigit())"
   ]
  },
  {
   "cell_type": "markdown",
   "metadata": {},
   "source": [
    "## import data"
   ]
  },
  {
   "cell_type": "code",
   "execution_count": 160,
   "metadata": {},
   "outputs": [
    {
     "data": {
      "text/html": [
       "<div>\n",
       "<style scoped>\n",
       "    .dataframe tbody tr th:only-of-type {\n",
       "        vertical-align: middle;\n",
       "    }\n",
       "\n",
       "    .dataframe tbody tr th {\n",
       "        vertical-align: top;\n",
       "    }\n",
       "\n",
       "    .dataframe thead th {\n",
       "        text-align: right;\n",
       "    }\n",
       "</style>\n",
       "<table border=\"1\" class=\"dataframe\">\n",
       "  <thead>\n",
       "    <tr style=\"text-align: right;\">\n",
       "      <th></th>\n",
       "      <th>geno</th>\n",
       "      <th>MA90_mean</th>\n",
       "      <th>SI06_mean</th>\n",
       "      <th>G189E_mean</th>\n",
       "      <th>CH65_i_MI_neg_a</th>\n",
       "      <th>CH65_i_MI_pos_a</th>\n",
       "      <th>CH65_i_MI_neg_b</th>\n",
       "      <th>CH65_i_MI_pos_b</th>\n",
       "      <th>CH65_i_MI_neg_c</th>\n",
       "      <th>CH65_i_MI_pos_c</th>\n",
       "      <th>...</th>\n",
       "      <th>pos8</th>\n",
       "      <th>pos9</th>\n",
       "      <th>pos10</th>\n",
       "      <th>pos11</th>\n",
       "      <th>pos12</th>\n",
       "      <th>pos13</th>\n",
       "      <th>pos14</th>\n",
       "      <th>pos15</th>\n",
       "      <th>pos16</th>\n",
       "      <th>som_mut</th>\n",
       "    </tr>\n",
       "  </thead>\n",
       "  <tbody>\n",
       "    <tr>\n",
       "      <th>0</th>\n",
       "      <td>0000000000000000</td>\n",
       "      <td>8.542521</td>\n",
       "      <td>6.0</td>\n",
       "      <td>6.0</td>\n",
       "      <td>697</td>\n",
       "      <td>4</td>\n",
       "      <td>547</td>\n",
       "      <td>4</td>\n",
       "      <td>256</td>\n",
       "      <td>12</td>\n",
       "      <td>...</td>\n",
       "      <td>0</td>\n",
       "      <td>0</td>\n",
       "      <td>0</td>\n",
       "      <td>0</td>\n",
       "      <td>0</td>\n",
       "      <td>0</td>\n",
       "      <td>0</td>\n",
       "      <td>0</td>\n",
       "      <td>0</td>\n",
       "      <td>0</td>\n",
       "    </tr>\n",
       "    <tr>\n",
       "      <th>1</th>\n",
       "      <td>0000000000000001</td>\n",
       "      <td>8.574179</td>\n",
       "      <td>6.0</td>\n",
       "      <td>6.0</td>\n",
       "      <td>575</td>\n",
       "      <td>2</td>\n",
       "      <td>438</td>\n",
       "      <td>3</td>\n",
       "      <td>232</td>\n",
       "      <td>13</td>\n",
       "      <td>...</td>\n",
       "      <td>0</td>\n",
       "      <td>0</td>\n",
       "      <td>0</td>\n",
       "      <td>0</td>\n",
       "      <td>0</td>\n",
       "      <td>0</td>\n",
       "      <td>0</td>\n",
       "      <td>0</td>\n",
       "      <td>1</td>\n",
       "      <td>1</td>\n",
       "    </tr>\n",
       "    <tr>\n",
       "      <th>2</th>\n",
       "      <td>0000000000000010</td>\n",
       "      <td>8.315518</td>\n",
       "      <td>6.0</td>\n",
       "      <td>6.0</td>\n",
       "      <td>650</td>\n",
       "      <td>7</td>\n",
       "      <td>563</td>\n",
       "      <td>2</td>\n",
       "      <td>374</td>\n",
       "      <td>6</td>\n",
       "      <td>...</td>\n",
       "      <td>0</td>\n",
       "      <td>0</td>\n",
       "      <td>0</td>\n",
       "      <td>0</td>\n",
       "      <td>0</td>\n",
       "      <td>0</td>\n",
       "      <td>0</td>\n",
       "      <td>1</td>\n",
       "      <td>0</td>\n",
       "      <td>1</td>\n",
       "    </tr>\n",
       "    <tr>\n",
       "      <th>3</th>\n",
       "      <td>0000000000000011</td>\n",
       "      <td>8.473877</td>\n",
       "      <td>6.0</td>\n",
       "      <td>6.0</td>\n",
       "      <td>742</td>\n",
       "      <td>6</td>\n",
       "      <td>562</td>\n",
       "      <td>18</td>\n",
       "      <td>337</td>\n",
       "      <td>19</td>\n",
       "      <td>...</td>\n",
       "      <td>0</td>\n",
       "      <td>0</td>\n",
       "      <td>0</td>\n",
       "      <td>0</td>\n",
       "      <td>0</td>\n",
       "      <td>0</td>\n",
       "      <td>0</td>\n",
       "      <td>1</td>\n",
       "      <td>1</td>\n",
       "      <td>2</td>\n",
       "    </tr>\n",
       "    <tr>\n",
       "      <th>4</th>\n",
       "      <td>0000000000000100</td>\n",
       "      <td>8.537724</td>\n",
       "      <td>6.0</td>\n",
       "      <td>6.0</td>\n",
       "      <td>653</td>\n",
       "      <td>6</td>\n",
       "      <td>507</td>\n",
       "      <td>10</td>\n",
       "      <td>479</td>\n",
       "      <td>14</td>\n",
       "      <td>...</td>\n",
       "      <td>0</td>\n",
       "      <td>0</td>\n",
       "      <td>0</td>\n",
       "      <td>0</td>\n",
       "      <td>0</td>\n",
       "      <td>0</td>\n",
       "      <td>1</td>\n",
       "      <td>0</td>\n",
       "      <td>0</td>\n",
       "      <td>1</td>\n",
       "    </tr>\n",
       "  </tbody>\n",
       "</table>\n",
       "<p>5 rows × 56 columns</p>\n",
       "</div>"
      ],
      "text/plain": [
       "               geno  MA90_mean  SI06_mean  G189E_mean  CH65_i_MI_neg_a  \\\n",
       "0  0000000000000000   8.542521        6.0         6.0              697   \n",
       "1  0000000000000001   8.574179        6.0         6.0              575   \n",
       "2  0000000000000010   8.315518        6.0         6.0              650   \n",
       "3  0000000000000011   8.473877        6.0         6.0              742   \n",
       "4  0000000000000100   8.537724        6.0         6.0              653   \n",
       "\n",
       "   CH65_i_MI_pos_a  CH65_i_MI_neg_b  CH65_i_MI_pos_b  CH65_i_MI_neg_c  \\\n",
       "0                4              547                4              256   \n",
       "1                2              438                3              232   \n",
       "2                7              563                2              374   \n",
       "3                6              562               18              337   \n",
       "4                6              507               10              479   \n",
       "\n",
       "   CH65_i_MI_pos_c  ...  pos8  pos9  pos10  pos11  pos12  pos13  pos14  pos15  \\\n",
       "0               12  ...     0     0      0      0      0      0      0      0   \n",
       "1               13  ...     0     0      0      0      0      0      0      0   \n",
       "2                6  ...     0     0      0      0      0      0      0      1   \n",
       "3               19  ...     0     0      0      0      0      0      0      1   \n",
       "4               14  ...     0     0      0      0      0      0      1      0   \n",
       "\n",
       "   pos16  som_mut  \n",
       "0      0        0  \n",
       "1      1        1  \n",
       "2      0        1  \n",
       "3      1        2  \n",
       "4      0        1  \n",
       "\n",
       "[5 rows x 56 columns]"
      ]
     },
     "execution_count": 160,
     "metadata": {},
     "output_type": "execute_result"
    }
   ],
   "source": [
    "kd = pd.DataFrame(pd.read_csv('../../Kd_Inference/results_CH65/Kd_processed/20220603_CH65_QCfilt_REPfilt.csv',delimiter=',',dtype={'geno': str}),columns=('geno','MA90_mean','SI06_mean','G189E_mean'))\n",
    "Frac_bound = pd.DataFrame(pd.read_csv('../../Enrichment_Inference/20220723_fracbound.csv',delimiter=',',dtype={'geno': str}))\n",
    "all_data = pd.DataFrame()\n",
    "all_data = pd.merge(kd, Frac_bound, on='geno',how='outer')\n",
    "all_data.head()"
   ]
  },
  {
   "cell_type": "markdown",
   "metadata": {},
   "source": [
    "# correlation between replicates"
   ]
  },
  {
   "cell_type": "code",
   "execution_count": 161,
   "metadata": {},
   "outputs": [
    {
     "name": "stderr",
     "output_type": "stream",
     "text": [
      "/var/folders/pt/19trqkw56fjfrk2frchqhv2h0000gn/T/ipykernel_65794/3928137263.py:24: UserWarning: color is redundantly defined by the 'color' keyword argument and the fmt string \"k:\" (-> color='k'). The keyword argument will take precedence.\n",
      "  plt.plot(x, m*x + b,'k:',zorder=10000,c='black',linewidth=0.5)\n"
     ]
    },
    {
     "name": "stdout",
     "output_type": "stream",
     "text": [
      "0.25368688388384275\n"
     ]
    },
    {
     "data": {
      "image/png": "[encoded data removed]",
      "text/plain": [
       "<Figure size 72x57.6 with 2 Axes>"
      ]
     },
     "metadata": {
      "needs_background": "light"
     },
     "output_type": "display_data"
    }
   ],
   "source": [
    "#MI15\n",
    "from matplotlib.ticker import FixedLocator, FixedFormatter\n",
    "from numpy import polyfit\n",
    "plt.rcParams['font.sans-serif'] = \"Arial\"\n",
    "plt.rcParams['font.family'] = \"sans-serif\"\n",
    "plt.rcParams['axes.linewidth'] = 0.5\n",
    "flierprops = dict(marker='o', markersize=2)\n",
    "fig, ax = plt.subplots(figsize=(1,0.8))\n",
    "from scipy.stats import pearsonr\n",
    "plotting = Frac_bound[['MIa_frac', 'MIb_frac']].copy()\n",
    "plotting.dropna(inplace=True)\n",
    "hb=plt.hexbin(plotting['MIa_frac'], plotting['MIb_frac'],cmap='Greys',bins='log',linewidths=0.2,gridsize=25)\n",
    "plt.xlabel(\"Rep. 1\",fontsize=7,labelpad=1)\n",
    "plt.ylabel(\"Rep. 2\",fontsize=7,labelpad=0)\n",
    "plt.tick_params(labelsize=7,length=2.5)\n",
    "x = plotting['MIa_frac']\n",
    "y = plotting['MIb_frac']\n",
    "cb = fig.colorbar(hb, ax=ax,ticks=[1,10,100,1000],orientation='vertical',pad=0.05)\n",
    "cb.ax.tick_params(labelsize=7,pad=1,size=1)\n",
    "xs = np.array([0.75,1.25])\n",
    "plt.plot(xs, xs, 'k-',linewidth=0.5)\n",
    "corr, _ = pearsonr(plotting['MIa_frac'], plotting['MIb_frac'])\n",
    "m, b = np.polyfit(plotting['MIa_frac'], plotting['MIb_frac'], 1)\n",
    "plt.plot(x, m*x + b,'k:',zorder=10000,c='black',linewidth=0.5)\n",
    "print(corr)\n",
    "plt.savefig('images/MI15_rep_corr.png',transparent=True, dpi=600,bbox_inches='tight')"
   ]
  },
  {
   "cell_type": "code",
   "execution_count": 162,
   "metadata": {},
   "outputs": [
    {
     "name": "stderr",
     "output_type": "stream",
     "text": [
      "/var/folders/pt/19trqkw56fjfrk2frchqhv2h0000gn/T/ipykernel_65794/1138741576.py:24: UserWarning: color is redundantly defined by the 'color' keyword argument and the fmt string \"k:\" (-> color='k'). The keyword argument will take precedence.\n",
      "  plt.plot(x, m*x + b,'k:',zorder=10000,c='black',linewidth=0.5)\n"
     ]
    },
    {
     "name": "stdout",
     "output_type": "stream",
     "text": [
      "0.1468306377918252\n"
     ]
    },
    {
     "data": {
      "image/png": "[encoded data removed]",
      "text/plain": [
       "<Figure size 72x57.6 with 2 Axes>"
      ]
     },
     "metadata": {
      "needs_background": "light"
     },
     "output_type": "display_data"
    }
   ],
   "source": [
    "#MI15\n",
    "from matplotlib.ticker import FixedLocator, FixedFormatter\n",
    "from numpy import polyfit\n",
    "plt.rcParams['font.sans-serif'] = \"Arial\"\n",
    "plt.rcParams['font.family'] = \"sans-serif\"\n",
    "plt.rcParams['axes.linewidth'] = 0.5\n",
    "flierprops = dict(marker='o', markersize=2)\n",
    "fig, ax = plt.subplots(figsize=(1,0.8))\n",
    "from scipy.stats import pearsonr\n",
    "plotting = Frac_bound[['MIc_frac', 'MIb_frac']].copy()\n",
    "plotting.dropna(inplace=True)\n",
    "hb=plt.hexbin(plotting['MIc_frac'], plotting['MIb_frac'],cmap='Greys',bins='log',linewidths=0.2,gridsize=25)\n",
    "plt.xlabel(\"Rep. 3\",fontsize=7,labelpad=1)\n",
    "plt.ylabel(\"Rep. 2\",fontsize=7,labelpad=0)\n",
    "plt.tick_params(labelsize=7,length=2.5)\n",
    "x = plotting['MIc_frac']\n",
    "y = plotting['MIb_frac']\n",
    "cb = fig.colorbar(hb, ax=ax,ticks=[1,10,100,1000],orientation='vertical',pad=0.05)\n",
    "cb.ax.tick_params(labelsize=7,pad=1,size=1)\n",
    "xs = np.array([0.75,1.25])\n",
    "plt.plot(xs, xs, 'k-',linewidth=0.5)\n",
    "corr, _ = pearsonr(plotting['MIc_frac'], plotting['MIb_frac'])\n",
    "m, b = np.polyfit(plotting['MIc_frac'], plotting['MIb_frac'], 1)\n",
    "plt.plot(x, m*x + b,'k:',zorder=10000,c='black',linewidth=0.5)\n",
    "print(corr)\n",
    "plt.savefig('images/MI15_rep_corr3.png',transparent=True, dpi=600,bbox_inches='tight')"
   ]
  },
  {
   "cell_type": "code",
   "execution_count": 163,
   "metadata": {},
   "outputs": [
    {
     "name": "stderr",
     "output_type": "stream",
     "text": [
      "/var/folders/pt/19trqkw56fjfrk2frchqhv2h0000gn/T/ipykernel_65794/1785173520.py:24: UserWarning: color is redundantly defined by the 'color' keyword argument and the fmt string \"k:\" (-> color='k'). The keyword argument will take precedence.\n",
      "  plt.plot(x, m*x + b,'k:',zorder=10000,c='black',linewidth=0.5)\n"
     ]
    },
    {
     "name": "stdout",
     "output_type": "stream",
     "text": [
      "0.34599178926426116\n"
     ]
    },
    {
     "data": {
      "image/png": "[encoded data removed]",
      "text/plain": [
       "<Figure size 72x57.6 with 2 Axes>"
      ]
     },
     "metadata": {
      "needs_background": "light"
     },
     "output_type": "display_data"
    }
   ],
   "source": [
    "#MI15\n",
    "from matplotlib.ticker import FixedLocator, FixedFormatter\n",
    "from numpy import polyfit\n",
    "plt.rcParams['font.sans-serif'] = \"Arial\"\n",
    "plt.rcParams['font.family'] = \"sans-serif\"\n",
    "plt.rcParams['axes.linewidth'] = 0.5\n",
    "flierprops = dict(marker='o', markersize=2)\n",
    "fig, ax = plt.subplots(figsize=(1,0.8))\n",
    "from scipy.stats import pearsonr\n",
    "plotting = Frac_bound[['MIc_frac', 'MIa_frac']].copy()\n",
    "plotting.dropna(inplace=True)\n",
    "hb=plt.hexbin(plotting['MIc_frac'], plotting['MIa_frac'],cmap='Greys',bins='log',linewidths=0.2,gridsize=25)\n",
    "plt.xlabel(\"Rep. 3\",fontsize=7,labelpad=1)\n",
    "plt.ylabel(\"Rep. 1\",fontsize=7,labelpad=0)\n",
    "plt.tick_params(labelsize=7,length=2.5)\n",
    "x = plotting['MIc_frac']\n",
    "y = plotting['MIa_frac']\n",
    "cb = fig.colorbar(hb, ax=ax,ticks=[1,10,100,1000],orientation='vertical',pad=0.05)\n",
    "cb.ax.tick_params(labelsize=7,pad=1,size=1)\n",
    "xs = np.array([0.75,1.25])\n",
    "plt.plot(xs, xs, 'k-',linewidth=0.5)\n",
    "corr, _ = pearsonr(plotting['MIc_frac'], plotting['MIa_frac'])\n",
    "m, b = np.polyfit(plotting['MIc_frac'], plotting['MIa_frac'], 1)\n",
    "plt.plot(x, m*x + b,'k:',zorder=10000,c='black',linewidth=0.5)\n",
    "print(corr)\n",
    "plt.savefig('images/MI15_rep_corr13.png',transparent=True, dpi=600,bbox_inches='tight')"
   ]
  },
  {
   "cell_type": "code",
   "execution_count": 164,
   "metadata": {},
   "outputs": [
    {
     "name": "stderr",
     "output_type": "stream",
     "text": [
      "/var/folders/pt/19trqkw56fjfrk2frchqhv2h0000gn/T/ipykernel_65794/3249389010.py:24: UserWarning: color is redundantly defined by the 'color' keyword argument and the fmt string \"k:\" (-> color='k'). The keyword argument will take precedence.\n",
      "  plt.plot(x, m*x + b,'k:',zorder=10000,c='black',linewidth=0.5)\n"
     ]
    },
    {
     "name": "stdout",
     "output_type": "stream",
     "text": [
      "0.9002998051730141\n"
     ]
    },
    {
     "data": {
      "image/png": "[encoded data removed]",
      "text/plain": [
       "<Figure size 72x57.6 with 2 Axes>"
      ]
     },
     "metadata": {
      "needs_background": "light"
     },
     "output_type": "display_data"
    }
   ],
   "source": [
    "#SI06 G189D\n",
    "from matplotlib.ticker import FixedLocator, FixedFormatter\n",
    "from numpy import polyfit\n",
    "plt.rcParams['font.sans-serif'] = \"Arial\"\n",
    "plt.rcParams['font.family'] = \"sans-serif\"\n",
    "plt.rcParams['axes.linewidth'] = 0.5\n",
    "flierprops = dict(marker='o', markersize=2)\n",
    "fig, ax = plt.subplots(figsize=(1,0.8))\n",
    "from scipy.stats import pearsonr\n",
    "plotting = Frac_bound[['SIa_frac', 'SIb_frac']].copy()\n",
    "plotting.dropna(inplace=True)\n",
    "hb=plt.hexbin(plotting['SIa_frac'], plotting['SIb_frac'],cmap='Greys',bins='log',linewidths=0.2,gridsize=25)\n",
    "plt.xlabel(\"Rep. 1\",fontsize=7,labelpad=1)\n",
    "plt.ylabel(\"Rep. 2\",fontsize=7,labelpad=0)\n",
    "plt.tick_params(labelsize=7,length=2.5)\n",
    "x = plotting['SIa_frac']\n",
    "y = plotting['SIb_frac']\n",
    "cb = fig.colorbar(hb, ax=ax,ticks=[1,10,100,1000],orientation='vertical',pad=0.05)\n",
    "cb.ax.tick_params(labelsize=7,pad=1,size=1)\n",
    "xs = np.array([0.75,1.25])\n",
    "plt.plot(xs, xs, 'k-',linewidth=0.5)\n",
    "corr, _ = pearsonr(plotting['SIa_frac'], plotting['SIb_frac'])\n",
    "m, b = np.polyfit(plotting['SIa_frac'], plotting['SIb_frac'], 1)\n",
    "plt.plot(x, m*x + b,'k:',zorder=10000,c='black',linewidth=0.5)\n",
    "print(corr)\n",
    "plt.savefig('images/SI06_G189D_rep_corr.png',transparent=True, dpi=600,bbox_inches='tight')"
   ]
  },
  {
   "cell_type": "code",
   "execution_count": 165,
   "metadata": {},
   "outputs": [
    {
     "name": "stderr",
     "output_type": "stream",
     "text": [
      "/var/folders/pt/19trqkw56fjfrk2frchqhv2h0000gn/T/ipykernel_65794/96134626.py:24: UserWarning: color is redundantly defined by the 'color' keyword argument and the fmt string \"k:\" (-> color='k'). The keyword argument will take precedence.\n",
      "  plt.plot(x, m*x + b,'k:',zorder=10000,c='black',linewidth=0.5)\n"
     ]
    },
    {
     "name": "stdout",
     "output_type": "stream",
     "text": [
      "0.9049886374976466\n"
     ]
    },
    {
     "data": {
      "image/png": "[encoded data removed]",
      "text/plain": [
       "<Figure size 72x57.6 with 2 Axes>"
      ]
     },
     "metadata": {
      "needs_background": "light"
     },
     "output_type": "display_data"
    }
   ],
   "source": [
    "#SI06 G189D\n",
    "from matplotlib.ticker import FixedLocator, FixedFormatter\n",
    "from numpy import polyfit\n",
    "plt.rcParams['font.sans-serif'] = \"Arial\"\n",
    "plt.rcParams['font.family'] = \"sans-serif\"\n",
    "plt.rcParams['axes.linewidth'] = 0.5\n",
    "flierprops = dict(marker='o', markersize=2)\n",
    "fig, ax = plt.subplots(figsize=(1,0.8))\n",
    "from scipy.stats import pearsonr\n",
    "plotting = Frac_bound[['SIc_frac', 'SIb_frac']].copy()\n",
    "plotting.dropna(inplace=True)\n",
    "hb=plt.hexbin(plotting['SIc_frac'], plotting['SIb_frac'],cmap='Greys',bins='log',linewidths=0.2,gridsize=25)\n",
    "plt.xlabel(\"Rep. 3\",fontsize=7,labelpad=1)\n",
    "plt.ylabel(\"Rep. 2\",fontsize=7,labelpad=0)\n",
    "plt.tick_params(labelsize=7,length=2.5)\n",
    "x = plotting['SIc_frac']\n",
    "y = plotting['SIb_frac']\n",
    "cb = fig.colorbar(hb, ax=ax,ticks=[1,10,100,1000],orientation='vertical',pad=0.05)\n",
    "cb.ax.tick_params(labelsize=7,pad=1,size=1)\n",
    "xs = np.array([0.75,1.25])\n",
    "plt.plot(xs, xs, 'k-',linewidth=0.5)\n",
    "corr, _ = pearsonr(plotting['SIc_frac'], plotting['SIb_frac'])\n",
    "m, b = np.polyfit(plotting['SIc_frac'], plotting['SIb_frac'], 1)\n",
    "plt.plot(x, m*x + b,'k:',zorder=10000,c='black',linewidth=0.5)\n",
    "print(corr)\n",
    "plt.savefig('images/SI06_G189D_rep_corr3.png',transparent=True, dpi=600,bbox_inches='tight')"
   ]
  },
  {
   "cell_type": "code",
   "execution_count": 166,
   "metadata": {},
   "outputs": [
    {
     "name": "stdout",
     "output_type": "stream",
     "text": [
      "0.8752205582348803\n"
     ]
    },
    {
     "name": "stderr",
     "output_type": "stream",
     "text": [
      "/var/folders/pt/19trqkw56fjfrk2frchqhv2h0000gn/T/ipykernel_65794/1985541184.py:24: UserWarning: color is redundantly defined by the 'color' keyword argument and the fmt string \"k:\" (-> color='k'). The keyword argument will take precedence.\n",
      "  plt.plot(x, m*x + b,'k:',zorder=10000,c='black',linewidth=0.5)\n"
     ]
    },
    {
     "data": {
      "image/png": "[encoded data removed]",
      "text/plain": [
       "<Figure size 72x57.6 with 2 Axes>"
      ]
     },
     "metadata": {
      "needs_background": "light"
     },
     "output_type": "display_data"
    }
   ],
   "source": [
    "#SI06 G189D\n",
    "from matplotlib.ticker import FixedLocator, FixedFormatter\n",
    "from numpy import polyfit\n",
    "plt.rcParams['font.sans-serif'] = \"Arial\"\n",
    "plt.rcParams['font.family'] = \"sans-serif\"\n",
    "plt.rcParams['axes.linewidth'] = 0.5\n",
    "flierprops = dict(marker='o', markersize=2)\n",
    "fig, ax = plt.subplots(figsize=(1,0.8))\n",
    "from scipy.stats import pearsonr\n",
    "plotting = Frac_bound[['SIc_frac', 'SIa_frac']].copy()\n",
    "plotting.dropna(inplace=True)\n",
    "hb=plt.hexbin(plotting['SIc_frac'], plotting['SIa_frac'],cmap='Greys',bins='log',linewidths=0.2,gridsize=25)\n",
    "plt.xlabel(\"Rep. 3\",fontsize=7,labelpad=1)\n",
    "plt.ylabel(\"Rep. 1\",fontsize=7,labelpad=0)\n",
    "plt.tick_params(labelsize=7,length=2.5)\n",
    "x = plotting['SIc_frac']\n",
    "y = plotting['SIa_frac']\n",
    "cb = fig.colorbar(hb, ax=ax,ticks=[1,10,100,1000],orientation='vertical',pad=0.05)\n",
    "cb.ax.tick_params(labelsize=7,pad=1,size=1)\n",
    "xs = np.array([0.75,1.25])\n",
    "plt.plot(xs, xs, 'k-',linewidth=0.5)\n",
    "corr, _ = pearsonr(plotting['SIc_frac'], plotting['SIa_frac'])\n",
    "m, b = np.polyfit(plotting['SIc_frac'], plotting['SIa_frac'], 1)\n",
    "plt.plot(x, m*x + b,'k:',zorder=10000,c='black',linewidth=0.5)\n",
    "print(corr)\n",
    "plt.savefig('images/SI06_G189D_rep_corr13.png',transparent=True, dpi=600,bbox_inches='tight')"
   ]
  },
  {
   "cell_type": "markdown",
   "metadata": {},
   "source": [
    "## general landscape figures"
   ]
  },
  {
   "cell_type": "code",
   "execution_count": 167,
   "metadata": {},
   "outputs": [],
   "source": [
    "from matplotlib.ticker import FixedLocator, FixedFormatter\n",
    "import matplotlib.colors as mc\n",
    "import colorsys\n",
    "from matplotlib.ticker import FixedLocator, FixedFormatter\n",
    "\n",
    "def lighten_color(color, amount=0.5):  \n",
    "    # --------------------- SOURCE: @IanHincks ---------------------\n",
    "    try:\n",
    "        c = mc.cnames[color]\n",
    "    except:\n",
    "        c = color\n",
    "    c = colorsys.rgb_to_hls(*mc.to_rgb(c))\n",
    "    return colorsys.hls_to_rgb(c[0], 1 - amount * (1 - c[1]), c[2])\n"
   ]
  },
  {
   "cell_type": "code",
   "execution_count": 168,
   "metadata": {},
   "outputs": [
    {
     "name": "stdout",
     "output_type": "stream",
     "text": [
      "[0.3735234028763261, 0.0972577800523969, 0.0754909330152113, 0.056864184270761]\n",
      "[0.4403333560012296, 0.01969258131559, 0.2722686931407921, 0.095313556717442]\n",
      "[0.5802054910214701, 0.1086568096840057, 0.9730180097153044, 0.0136423185109111]\n"
     ]
    }
   ],
   "source": [
    "#get germline, i2, and somatic Kd values\n",
    "germ_MA90 = float(all_data['MA90_mean'].values[all_data['geno']=='0000000000000000'])\n",
    "germ_SI06 = float(all_data['SI06_mean'].values[all_data['geno']=='0000000000000000'])\n",
    "germ_G189E = float(all_data['G189E_mean'].values[all_data['geno']=='0000000000000000'])\n",
    "I2_MA90 = float(all_data['MA90_mean'].values[all_data['geno']=='0000001010100000'])\n",
    "I2_SI06 = float(all_data['SI06_mean'].values[all_data['geno']=='0000001010100000'])\n",
    "I2_G189E = float(all_data['G189E_mean'].values[all_data['geno']=='0000001010100000'])\n",
    "som_MA90 = float(all_data['MA90_mean'].values[all_data['geno']=='1111111111111111'])\n",
    "som_SI06 = float(all_data['SI06_mean'].values[all_data['geno']=='1111111111111111'])\n",
    "som_G189E = float(all_data['G189E_mean'].values[all_data['geno']=='1111111111111111'])\n",
    "\n",
    "#get germline, i2, and somatic enrichment scores\n",
    "germ_MI = float(all_data['MI_frac_mean'].values[all_data['geno']=='0000000000000000'])\n",
    "germ_SI = float(all_data['SI_frac_mean'].values[all_data['geno']=='0000000000000000'])\n",
    "germ_MI_e = float(all_data['MI_frac_sem'].values[all_data['geno']=='0000000000000000'])\n",
    "germ_SI_e = float(all_data['SI_frac_sem'].values[all_data['geno']=='0000000000000000'])\n",
    "I2_MI = float(all_data['MI_frac_mean'].values[all_data['geno']=='0000001010100000'])\n",
    "I2_SI = float(all_data['SI_frac_mean'].values[all_data['geno']=='0000001010100000'])\n",
    "I2_MI_e = float(all_data['MI_frac_sem'].values[all_data['geno']=='0000001010100000'])\n",
    "I2_SI_e = float(all_data['SI_frac_sem'].values[all_data['geno']=='0000001010100000'])\n",
    "som_MI = float(all_data['MI_frac_mean'].values[all_data['geno']=='1111111111111111'])\n",
    "som_SI = float(all_data['SI_frac_mean'].values[all_data['geno']=='1111111111111111'])\n",
    "som_MI_e = float(all_data['MI_frac_sem'].values[all_data['geno']=='1111111111111111'])\n",
    "som_SI_e = float(all_data['SI_frac_sem'].values[all_data['geno']=='1111111111111111'])\n",
    "germline = ([germ_MI,germ_MI_e,germ_SI,germ_SI_e])\n",
    "i2 = ([I2_MI,I2_MI_e,I2_SI,I2_SI_e])\n",
    "somatic = ([som_MI,som_MI_e,som_SI,som_SI_e])\n",
    "print(germline)\n",
    "print(i2)\n",
    "print(somatic)"
   ]
  },
  {
   "cell_type": "markdown",
   "metadata": {},
   "source": [
    "## box plots by number of mutations"
   ]
  },
  {
   "cell_type": "code",
   "execution_count": 206,
   "metadata": {},
   "outputs": [
    {
     "data": {
      "image/png": "[encoded data removed]",
      "text/plain": [
       "<Figure size 108x72 with 1 Axes>"
      ]
     },
     "metadata": {
      "needs_background": "light"
     },
     "output_type": "display_data"
    }
   ],
   "source": [
    "plt.rcParams['font.sans-serif'] = \"Arial\"\n",
    "# Then, \"ALWAYS use sans-serif fonts\"\n",
    "plt.rcParams['font.family'] = \"sans-serif\"\n",
    "plt.rcParams['axes.linewidth'] = 0.5\n",
    "flierprops = dict(marker='o', markersize=2)\n",
    "fig, ax = plt.subplots(figsize=(1.5,1))      \n",
    "sns.boxplot(x=\"som_mut\", y=\"MI_frac_mean\", data=all_data,palette='plasma', saturation=1,\n",
    "            flierprops=flierprops, ax=ax)\n",
    "\n",
    "plt.xlabel(\"# mutations\",fontsize=8)\n",
    "plt.ylabel(\"MI15 enrich\",fontsize=8,labelpad=0)\n",
    "plt.tick_params(\n",
    "    axis='x',          # changes apply to the x-axis\n",
    "    which='both',      # both major and minor ticks are affected\n",
    "    bottom=True,      # ticks along the bottom edge are off\n",
    "    top=False,         # ticks along the top edge are off\n",
    "    labelbottom=True,\n",
    "    labelsize=6)\n",
    "plt.tick_params(\n",
    "    axis='y',          # changes apply to the x-axis\n",
    "    labelsize=6,\n",
    "    pad=0.5)\n",
    "# y_locator = FixedLocator([0,0.5,1])\n",
    "# ax.yaxis.set_major_locator(y_locator)\n",
    "# ax.set_yticklabels(['0','0.5','1'])\n",
    "# plt.ylim(0,1.1)\n",
    "x_locator = FixedLocator([0,2,4,6,8,10,12,14,16])\n",
    "ax.xaxis.set_major_locator(x_locator)\n",
    "ax.set_xticklabels(['0','2','4','6','8','10','12','14','16'])\n",
    "\n",
    "for i,artist in enumerate(ax.artists):\n",
    "    # Set the linecolor on the artist to the facecolor, and set the facecolor to None\n",
    "    col = lighten_color(artist.get_facecolor(), 1.2)\n",
    "    artist.set_edgecolor(col) \n",
    "    artist.set_edgecolor('black') \n",
    "    artist.set_linewidth(0.5)\n",
    "\n",
    "    # Each box has 6 associated Line2D objects (to make the whiskers, fliers, etc.)\n",
    "    # Loop over them here, and use the same colour as above\n",
    "    for j in range(i*6,i*6+6):\n",
    "        line = ax.lines[j]\n",
    "        line.set_mfc(col)\n",
    "        line.set_mec(col)\n",
    "        line.set_linewidth(1)\n",
    "plt.savefig('images/20220723_CH65_MI15_box_bymut.png', transparent=True, dpi=1200,bbox_inches='tight')"
   ]
  },
  {
   "cell_type": "code",
   "execution_count": 205,
   "metadata": {},
   "outputs": [
    {
     "data": {
      "image/png": "[encoded data removed]",
      "text/plain": [
       "<Figure size 108x72 with 1 Axes>"
      ]
     },
     "metadata": {
      "needs_background": "light"
     },
     "output_type": "display_data"
    }
   ],
   "source": [
    "plt.rcParams['font.sans-serif'] = \"Arial\"\n",
    "# Then, \"ALWAYS use sans-serif fonts\"\n",
    "plt.rcParams['font.family'] = \"sans-serif\"\n",
    "plt.rcParams['axes.linewidth'] = 0.5\n",
    "flierprops = dict(marker='o', markersize=2)\n",
    "fig, ax = plt.subplots(figsize=(1.5,1))      \n",
    "sns.boxplot(x=\"som_mut\", y=\"SI_frac_mean\", data=all_data,palette='plasma', saturation=1,\n",
    "            flierprops=flierprops, ax=ax)\n",
    "\n",
    "plt.xlabel(\"# mutations\",fontsize=8)\n",
    "plt.ylabel(\"SI-G189D enrich\",fontsize=8,labelpad=0)\n",
    "plt.tick_params(\n",
    "    axis='x',          # changes apply to the x-axis\n",
    "    which='both',      # both major and SInor ticks are affected\n",
    "    bottom=True,      # ticks along the bottom edge are off\n",
    "    top=False,         # ticks along the top edge are off\n",
    "    labelbottom=True,\n",
    "    labelsize=6)\n",
    "plt.tick_params(\n",
    "    axis='y',          # changes apply to the x-axis\n",
    "    labelsize=6,\n",
    "    pad=0.5)\n",
    "# y_locator = FixedLocator([0,0.5,1])\n",
    "# ax.yaxis.set_major_locator(y_locator)\n",
    "# ax.set_yticklabels(['0','0.5','1'])\n",
    "# plt.ylim(0,1.1)\n",
    "x_locator = FixedLocator([0,2,4,6,8,10,12,14,16])\n",
    "ax.xaxis.set_major_locator(x_locator)\n",
    "ax.set_xticklabels(['0','2','4','6','8','10','12','14','16'])\n",
    "\n",
    "for i,artist in enumerate(ax.artists):\n",
    "    # Set the linecolor on the artist to the facecolor, and set the facecolor to None\n",
    "    col = lighten_color(artist.get_facecolor(), 1.2)\n",
    "    artist.set_edgecolor(col) \n",
    "    artist.set_edgecolor('black') \n",
    "    artist.set_linewidth(0.5)\n",
    "\n",
    "    # Each box has 6 associated Line2D objects (to make the whiskers, fliers, etc.)\n",
    "    # Loop over them here, and use the same colour as above\n",
    "    for j in range(i*6,i*6+6):\n",
    "        line = ax.lines[j]\n",
    "        line.set_mfc(col)\n",
    "        line.set_mec(col)\n",
    "        line.set_linewidth(1)\n",
    "plt.savefig('images/20220723_CH65_SIG189D_box_bymut.png', transparent=True, dpi=1200,bbox_inches='tight')"
   ]
  },
  {
   "cell_type": "markdown",
   "metadata": {},
   "source": [
    "## Histograms"
   ]
  },
  {
   "cell_type": "code",
   "execution_count": 171,
   "metadata": {},
   "outputs": [
    {
     "data": {
      "image/png": "[encoded data removed]",
      "text/plain": [
       "<Figure size 69.84x72 with 1 Axes>"
      ]
     },
     "metadata": {
      "needs_background": "light"
     },
     "output_type": "display_data"
    }
   ],
   "source": [
    "plt.rcParams['font.sans-serif'] = \"Arial\"\n",
    "plt.rcParams['axes.linewidth'] = 0.5\n",
    "from matplotlib import ticker\n",
    "formatter = ticker.ScalarFormatter(useMathText=True)\n",
    "formatter.set_scientific(True) \n",
    "# Then, \"ALWAYS use sans-serif fonts\"\n",
    "plt.rcParams['font.family'] = \"sans-serif\"\n",
    "x = all_data['MI_frac_mean']\n",
    "fig = plt.figure(figsize=(0.97,1))\n",
    "ax = fig.add_subplot()\n",
    "ax.hist(x,bins=50,color='dimgray')\n",
    "ax.yaxis.set_tick_params(labelsize=7,pad=1,length=2.5,width=0)\n",
    "x_locator = FixedLocator([0,0.5,1])\n",
    "ax.xaxis.set_tick_params(labelsize=7,pad=1,length=2.5,width=0)\n",
    "ax.xaxis.set_major_locator(x_locator)\n",
    "ax.xaxis.set_ticklabels([])\n",
    "ax.yaxis.set_ticklabels([])\n",
    "#ax.yaxis.set_major_formatter(formatter)\n",
    "ax.set_xlim([0, 1])\n",
    "plt.xlabel(' ',fontsize=8,labelpad=1)\n",
    "plt.ylabel(' ',fontsize=8,labelpad=1)\n",
    "#plt.ticklabel_format(style='sci', axis='y', scilimits=(0,0),useMathText=True)\n",
    "ax.yaxis.get_offset_text().set_fontsize(7)\n",
    "#plt.title('MA90',fontsize=8)\n",
    "plt.savefig(\"images/20220723_MI_hist.png\", transparent=True, dpi=600,bbox_inches='tight')"
   ]
  },
  {
   "cell_type": "code",
   "execution_count": 172,
   "metadata": {},
   "outputs": [
    {
     "data": {
      "image/png": "[encoded data removed]",
      "text/plain": [
       "<Figure size 69.84x72 with 1 Axes>"
      ]
     },
     "metadata": {
      "needs_background": "light"
     },
     "output_type": "display_data"
    }
   ],
   "source": [
    "plt.rcParams['font.sans-serif'] = \"Arial\"\n",
    "plt.rcParams['axes.linewidth'] = 0.5\n",
    "from matplotlib import ticker\n",
    "formatter = ticker.ScalarFormatter(useMathText=True)\n",
    "formatter.set_scientific(True) \n",
    "# Then, \"ALWAYS use sans-serif fonts\"\n",
    "plt.rcParams['font.family'] = \"sans-serif\"\n",
    "x = all_data['SI_frac_mean']\n",
    "fig = plt.figure(figsize=(0.97,1))\n",
    "ax = fig.add_subplot()\n",
    "ax.hist(x,bins=50,color='dimgray')\n",
    "ax.yaxis.set_tick_params(labelsize=7,pad=1,length=2.5,width=0)\n",
    "x_locator = FixedLocator([0,0.5,1])\n",
    "ax.xaxis.set_tick_params(labelsize=7,pad=1,length=2.5,width=0)\n",
    "ax.xaxis.set_major_locator(x_locator)\n",
    "ax.xaxis.set_ticklabels([])\n",
    "ax.yaxis.set_ticklabels([])\n",
    "#ax.yaxis.set_major_formatter(formatter)\n",
    "ax.set_xlim([0, 1])\n",
    "plt.xlabel(' ',fontsize=8,labelpad=1)\n",
    "plt.ylabel(' ',fontsize=8,labelpad=1)\n",
    "#plt.ticklabel_format(style='sci', axis='y', scilimits=(0,0),useMathText=True)\n",
    "ax.yaxis.get_offset_text().set_fontsize(7)\n",
    "#plt.title('MA90',fontsize=8)\n",
    "plt.savefig(\"images/20220723_SI_hist.png\", transparent=True, dpi=600,bbox_inches='tight')"
   ]
  },
  {
   "cell_type": "markdown",
   "metadata": {},
   "source": [
    "## Pleiotropy scatter plots"
   ]
  },
  {
   "cell_type": "code",
   "execution_count": 173,
   "metadata": {},
   "outputs": [
    {
     "data": {
      "text/plain": [
       "<Figure size 432x288 with 0 Axes>"
      ]
     },
     "metadata": {},
     "output_type": "display_data"
    },
    {
     "data": {
      "image/png": "[encoded data removed]",
      "text/plain": [
       "<Figure size 198x162 with 2 Axes>"
      ]
     },
     "metadata": {
      "needs_background": "light"
     },
     "output_type": "display_data"
    }
   ],
   "source": [
    "# libraries\n",
    "from mpl_toolkits.mplot3d import Axes3D\n",
    "import matplotlib.pyplot as plt\n",
    "plt.rcParams[\"axes.grid\"] = False\n",
    "plt.rcParams['font.sans-serif'] = \"Arial\"\n",
    "# Then, \"ALWAYS use sans-serif fonts\"\n",
    "plt.rcParams['font.family'] = \"sans-serif\"\n",
    "plt.rcParams['axes.linewidth'] = 0.5\n",
    "cmap=plt.cm.plasma\n",
    "plt.clf()\n",
    "# plot\n",
    "x = all_data['MI_frac_mean']\n",
    "y = all_data['SI_frac_mean']\n",
    "plt.rcParams['grid.color'] = \"white\"\n",
    "fig = plt.figure(figsize=(2.75,2.25))\n",
    "ax = fig.add_subplot()\n",
    "# x_locator = FixedLocator([8,9,10])\n",
    "# y_locator = FixedLocator([6,7,8,9])\n",
    "# ax.set_xticklabels(['8','9','10'])\n",
    "# ax.set_yticklabels(['≤ 6','7','8','9'])\n",
    "# ax.xaxis.set_major_locator(x_locator)\n",
    "# ax.yaxis.set_major_locator(y_locator)\n",
    "# plt.axvline(x=6,linestyle='dashed',linewidth=0.5,color='black')\n",
    "# plt.axhline(y=6,linestyle='dashed',linewidth=0.5,color='black')\n",
    "ax.scatter(x,y, c=all_data['som_mut'], cmap=cmap, s=5, alpha = 0.1, zorder=-10000)\n",
    "germ=ax.scatter(germ_MI,germ_SI, s=50,c='blue', marker='*',edgecolor='black',linewidths=0.5,alpha=1,zorder=99999999)\n",
    "I2=ax.scatter(I2_MI,I2_SI,s=50,c='purple', marker='*',edgecolor='black',linewidths=0.5,alpha=1,zorder=999999)\n",
    "som=ax.scatter(som_MI,som_SI,s=50,c='yellow', marker='*',edgecolor='black',linewidths=0.5,alpha=1,zorder=999999)\n",
    "ax.yaxis.set_tick_params(labelsize=7,pad=3,length=2.5)\n",
    "ax.xaxis.set_tick_params(labelsize=7,pad=3,length=2.5)\n",
    "# ax.set_xlim([7.5, 10.5])\n",
    "# ax.set_ylim([5.5, 9.5])\n",
    "ax.spines['right'].set_visible(False)\n",
    "ax.spines['top'].set_visible(False)\n",
    "plt.xlabel('MI15 enrichment',fontsize=8,labelpad=1)\n",
    "plt.ylabel('G189D enrichment',fontsize=8,labelpad=0)\n",
    "plt.title('',fontsize=10)\n",
    "sm = plt.cm.ScalarMappable(cmap=plt.cm.plasma, norm=plt.Normalize(vmin = 0, vmax=16))\n",
    "sm._A = []\n",
    "cbar = plt.colorbar(sm,fraction=0.03, pad=0.05,orientation='vertical',aspect=20,ticks=[0,2,4,6,8,10,12,14,16])\n",
    "cbar.set_label(label='# somatic mutations',size=8)\n",
    "cbar.ax.tick_params(labelsize=7)\n",
    "plt.savefig(\"images/20220723_CH65_MI15_SIG189D.png\", transparent=True, dpi=600,bbox_inches='tight')"
   ]
  },
  {
   "cell_type": "markdown",
   "metadata": {},
   "source": [
    "# correlation between MI15 and other antigens"
   ]
  },
  {
   "cell_type": "code",
   "execution_count": 174,
   "metadata": {},
   "outputs": [
    {
     "name": "stdout",
     "output_type": "stream",
     "text": [
      "0.40197796177156486\n"
     ]
    },
    {
     "data": {
      "image/png": "[encoded data removed]",
      "text/plain": [
       "<Figure size 72x57.6 with 2 Axes>"
      ]
     },
     "metadata": {
      "needs_background": "light"
     },
     "output_type": "display_data"
    }
   ],
   "source": [
    "#CH65 MA90 vs MI15\n",
    "from matplotlib.ticker import FixedLocator, FixedFormatter\n",
    "from numpy import polyfit\n",
    "plt.rcParams['font.sans-serif'] = \"Arial\"\n",
    "plt.rcParams['font.family'] = \"sans-serif\"\n",
    "plt.rcParams['axes.linewidth'] = 0.5\n",
    "flierprops = dict(marker='o', markersize=2)\n",
    "fig, ax = plt.subplots(figsize=(1,0.8))\n",
    "from scipy.stats import pearsonr\n",
    "plotting = all_data[['MI_frac_mean', 'MA90_mean']].copy()\n",
    "plotting.dropna(inplace=True)\n",
    "hb=plt.hexbin(plotting['MI_frac_mean'], plotting['MA90_mean'],cmap='Reds',linewidths=0.2,bins='log',gridsize=25)\n",
    "plt.xlabel(\"MI15 enrich\",fontsize=7,labelpad=1)\n",
    "plt.ylabel(\"MA90 –logKd\",fontsize=7,labelpad=0)\n",
    "plt.tick_params(labelsize=7,length=2.5,pad=0)\n",
    "x = plotting['MI_frac_mean']\n",
    "y = plotting['MA90_mean']\n",
    "cb = fig.colorbar(hb, ax=ax,ticks=[1,10,100,1000],orientation='vertical',pad=0.05)\n",
    "cb.ax.tick_params(labelsize=7,pad=1,size=1)\n",
    "corr, _ = pearsonr(plotting['MI_frac_mean'], plotting['MA90_mean'])\n",
    "print(corr)\n",
    "plt.savefig('images/CH65_MI_vs_MA90.png',transparent=True, dpi=600,bbox_inches='tight')"
   ]
  },
  {
   "cell_type": "code",
   "execution_count": 175,
   "metadata": {},
   "outputs": [
    {
     "data": {
      "text/plain": [
       "<Figure size 432x288 with 0 Axes>"
      ]
     },
     "metadata": {},
     "output_type": "display_data"
    },
    {
     "data": {
      "image/png": "[encoded data removed]",
      "text/plain": [
       "<Figure size 198x162 with 2 Axes>"
      ]
     },
     "metadata": {
      "needs_background": "light"
     },
     "output_type": "display_data"
    }
   ],
   "source": [
    "# libraries\n",
    "from mpl_toolkits.mplot3d import Axes3D\n",
    "import matplotlib.pyplot as plt\n",
    "plt.rcParams[\"axes.grid\"] = False\n",
    "plt.rcParams['font.sans-serif'] = \"Arial\"\n",
    "# Then, \"ALWAYS use sans-serif fonts\"\n",
    "plt.rcParams['font.family'] = \"sans-serif\"\n",
    "plt.rcParams['axes.linewidth'] = 0.5\n",
    "cmap=plt.cm.plasma\n",
    "plt.clf()\n",
    "# plot\n",
    "x = all_data['MI_frac_mean']\n",
    "y = all_data['MA90_mean']\n",
    "plt.rcParams['grid.color'] = \"white\"\n",
    "fig = plt.figure(figsize=(2.75,2.25))\n",
    "ax = fig.add_subplot()\n",
    "# x_locator = FixedLocator([8,9,10])\n",
    "# y_locator = FixedLocator([6,7,8,9])\n",
    "# ax.set_xticklabels(['8','9','10'])\n",
    "# ax.set_yticklabels(['≤ 6','7','8','9'])\n",
    "# ax.xaxis.set_major_locator(x_locator)\n",
    "# ax.yaxis.set_major_locator(y_locator)\n",
    "# plt.axvline(x=6,linestyle='dashed',linewidth=0.5,color='black')\n",
    "# plt.axhline(y=6,linestyle='dashed',linewidth=0.5,color='black')\n",
    "ax.scatter(x,y, c=all_data['som_mut'], cmap=cmap, s=5, alpha = 0.1, zorder=-10000)\n",
    "germ=ax.scatter(germ_MI,germ_MA90, s=50,c='blue', marker='*',edgecolor='black',linewidths=0.5,alpha=1,zorder=99999999)\n",
    "I2=ax.scatter(I2_MI,I2_MA90,s=50,c='purple', marker='*',edgecolor='black',linewidths=0.5,alpha=1,zorder=999999)\n",
    "som=ax.scatter(som_MI,som_MA90,s=50,c='yellow', marker='*',edgecolor='black',linewidths=0.5,alpha=1,zorder=999999)\n",
    "ax.yaxis.set_tick_params(labelsize=7,pad=3,length=2.5)\n",
    "ax.xaxis.set_tick_params(labelsize=7,pad=3,length=2.5)\n",
    "# ax.set_xlim([7.5, 10.5])\n",
    "# ax.set_ylim([5.5, 9.5])\n",
    "ax.spines['right'].set_visible(False)\n",
    "ax.spines['top'].set_visible(False)\n",
    "plt.xlabel('MI15 enrichment',fontsize=8,labelpad=1)\n",
    "plt.ylabel('MA90 -logKd',fontsize=8,labelpad=0)\n",
    "plt.title('MI15 vs MA90',fontsize=10)\n",
    "sm = plt.cm.ScalarMappable(cmap=plt.cm.plasma, norm=plt.Normalize(vmin = 0, vmax=16))\n",
    "sm._A = []\n",
    "cbar = plt.colorbar(sm,fraction=0.03, pad=0.05,orientation='vertical',aspect=20,ticks=[0,2,4,6,8,10,12,14,16])\n",
    "cbar.set_label(label='# somatic mutations',size=8)\n",
    "cbar.ax.tick_params(labelsize=7)\n",
    "plt.savefig(\"images/20220723_CH65_MI15_MA90.png\", transparent=True, dpi=600,bbox_inches='tight')"
   ]
  },
  {
   "cell_type": "code",
   "execution_count": 176,
   "metadata": {},
   "outputs": [
    {
     "name": "stdout",
     "output_type": "stream",
     "text": [
      "0.14977072027491867\n"
     ]
    },
    {
     "data": {
      "image/png": "[encoded data removed]",
      "text/plain": [
       "<Figure size 72x57.6 with 2 Axes>"
      ]
     },
     "metadata": {
      "needs_background": "light"
     },
     "output_type": "display_data"
    }
   ],
   "source": [
    "#CH65 SI06 vs MI15\n",
    "from matplotlib.ticker import FixedLocator, FixedFormatter\n",
    "from numpy import polyfit\n",
    "plt.rcParams['font.sans-serif'] = \"Arial\"\n",
    "plt.rcParams['font.family'] = \"sans-serif\"\n",
    "plt.rcParams['axes.linewidth'] = 0.5\n",
    "flierprops = dict(marker='o', markersize=2)\n",
    "fig, ax = plt.subplots(figsize=(1,0.8))\n",
    "from scipy.stats import pearsonr\n",
    "plotting = all_data[['MI_frac_mean', 'SI06_mean']].copy()\n",
    "plotting.dropna(inplace=True)\n",
    "hb=plt.hexbin(plotting['MI_frac_mean'], plotting['SI06_mean'],cmap='Greens',linewidths=0.2,bins='log',gridsize=25)\n",
    "plt.xlabel(\"MI15 enrich\",fontsize=7,labelpad=1)\n",
    "plt.ylabel(\"SI06 –logKd\",fontsize=7,labelpad=0)\n",
    "plt.tick_params(labelsize=7,length=2.5,pad=0)\n",
    "x = plotting['MI_frac_mean']\n",
    "y = plotting['SI06_mean']\n",
    "cb = fig.colorbar(hb, ax=ax,ticks=[1,10,100,1000],orientation='vertical',pad=0.05)\n",
    "cb.ax.tick_params(labelsize=7,pad=1,size=1)\n",
    "corr, _ = pearsonr(plotting['MI_frac_mean'], plotting['SI06_mean'])\n",
    "print(corr)\n",
    "plt.savefig('images/CH65_MI_vs_SI06.png',transparent=True, dpi=600,bbox_inches='tight')"
   ]
  },
  {
   "cell_type": "code",
   "execution_count": 177,
   "metadata": {},
   "outputs": [
    {
     "data": {
      "text/plain": [
       "<Figure size 432x288 with 0 Axes>"
      ]
     },
     "metadata": {},
     "output_type": "display_data"
    },
    {
     "data": {
      "image/png": "[encoded data removed]",
      "text/plain": [
       "<Figure size 198x162 with 2 Axes>"
      ]
     },
     "metadata": {
      "needs_background": "light"
     },
     "output_type": "display_data"
    }
   ],
   "source": [
    "# libraries\n",
    "from mpl_toolkits.mplot3d import Axes3D\n",
    "import matplotlib.pyplot as plt\n",
    "plt.rcParams[\"axes.grid\"] = False\n",
    "plt.rcParams['font.sans-serif'] = \"Arial\"\n",
    "# Then, \"ALWAYS use sans-serif fonts\"\n",
    "plt.rcParams['font.family'] = \"sans-serif\"\n",
    "plt.rcParams['axes.linewidth'] = 0.5\n",
    "cmap=plt.cm.plasma\n",
    "plt.clf()\n",
    "# plot\n",
    "x = all_data['MI_frac_mean']\n",
    "y = all_data['SI06_mean']\n",
    "plt.rcParams['grid.color'] = \"white\"\n",
    "fig = plt.figure(figsize=(2.75,2.25))\n",
    "ax = fig.add_subplot()\n",
    "# x_locator = FixedLocator([8,9,10])\n",
    "# y_locator = FixedLocator([6,7,8,9])\n",
    "# ax.set_xticklabels(['8','9','10'])\n",
    "# ax.set_yticklabels(['≤ 6','7','8','9'])\n",
    "# ax.xaxis.set_major_locator(x_locator)\n",
    "# ax.yaxis.set_major_locator(y_locator)\n",
    "# plt.axvline(x=6,linestyle='dashed',linewidth=0.5,color='black')\n",
    "# plt.axhline(y=6,linestyle='dashed',linewidth=0.5,color='black')\n",
    "ax.scatter(x,y, c=all_data['som_mut'], cmap=cmap, s=5, alpha = 0.1, zorder=-10000)\n",
    "germ=ax.scatter(germ_MI,germ_SI06, s=50,c='blue', marker='*',edgecolor='black',linewidths=0.5,alpha=1,zorder=99999999)\n",
    "I2=ax.scatter(I2_MI,I2_SI06,s=50,c='purple', marker='*',edgecolor='black',linewidths=0.5,alpha=1,zorder=999999)\n",
    "som=ax.scatter(som_MI,som_SI06,s=50,c='yellow', marker='*',edgecolor='black',linewidths=0.5,alpha=1,zorder=999999)\n",
    "ax.yaxis.set_tick_params(labelsize=7,pad=3,length=2.5)\n",
    "ax.xaxis.set_tick_params(labelsize=7,pad=3,length=2.5)\n",
    "# ax.set_xlim([7.5, 10.5])\n",
    "# ax.set_ylim([5.5, 9.5])\n",
    "ax.spines['right'].set_visible(False)\n",
    "ax.spines['top'].set_visible(False)\n",
    "plt.xlabel('MI15 enrichment',fontsize=8,labelpad=1)\n",
    "plt.ylabel('SI06 -logKd',fontsize=8,labelpad=0)\n",
    "plt.title('MI15 vs SI06',fontsize=10)\n",
    "sm = plt.cm.ScalarMappable(cmap=plt.cm.plasma, norm=plt.Normalize(vmin = 0, vmax=16))\n",
    "sm._A = []\n",
    "cbar = plt.colorbar(sm,fraction=0.03, pad=0.05,orientation='vertical',aspect=20,ticks=[0,2,4,6,8,10,12,14,16])\n",
    "cbar.set_label(label='# somatic mutations',size=8)\n",
    "cbar.ax.tick_params(labelsize=7)\n",
    "plt.savefig(\"images/20220723_CH65_MI15_SI06.png\", transparent=True, dpi=600,bbox_inches='tight')"
   ]
  },
  {
   "cell_type": "code",
   "execution_count": 178,
   "metadata": {},
   "outputs": [
    {
     "name": "stdout",
     "output_type": "stream",
     "text": [
      "0.29496808446070055\n"
     ]
    },
    {
     "data": {
      "image/png": "[encoded data removed]",
      "text/plain": [
       "<Figure size 72x57.6 with 2 Axes>"
      ]
     },
     "metadata": {
      "needs_background": "light"
     },
     "output_type": "display_data"
    }
   ],
   "source": [
    "#CH65 G189E vs MI15\n",
    "from matplotlib.ticker import FixedLocator, FixedFormatter\n",
    "from numpy import polyfit\n",
    "plt.rcParams['font.sans-serif'] = \"Arial\"\n",
    "plt.rcParams['font.family'] = \"sans-serif\"\n",
    "plt.rcParams['axes.linewidth'] = 0.5\n",
    "flierprops = dict(marker='o', markersize=2)\n",
    "fig, ax = plt.subplots(figsize=(1,0.8))\n",
    "from scipy.stats import pearsonr\n",
    "plotting = all_data[['MI_frac_mean', 'G189E_mean']].copy()\n",
    "plotting.dropna(inplace=True)\n",
    "hb=plt.hexbin(plotting['MI_frac_mean'], plotting['G189E_mean'],cmap='Blues',linewidths=0.2,bins='log',gridsize=25)\n",
    "plt.xlabel(\"MI15 enrich\",fontsize=7,labelpad=1)\n",
    "plt.ylabel(\"G189E –logKd\",fontsize=7,labelpad=0)\n",
    "plt.tick_params(labelsize=7,length=2.5,pad=0)\n",
    "x = plotting['MI_frac_mean']\n",
    "y = plotting['G189E_mean']\n",
    "cb = fig.colorbar(hb, ax=ax,ticks=[1,10,100,1000],orientation='vertical',pad=0.05)\n",
    "cb.ax.tick_params(labelsize=7,pad=1,size=1)\n",
    "corr, _ = pearsonr(plotting['MI_frac_mean'], plotting['G189E_mean'])\n",
    "print(corr)\n",
    "plt.savefig('images/CH65_MI_vs_G189E.png',transparent=True, dpi=600,bbox_inches='tight')"
   ]
  },
  {
   "cell_type": "code",
   "execution_count": 179,
   "metadata": {},
   "outputs": [
    {
     "data": {
      "text/plain": [
       "<Figure size 432x288 with 0 Axes>"
      ]
     },
     "metadata": {},
     "output_type": "display_data"
    },
    {
     "data": {
      "image/png": "[encoded data removed]",
      "text/plain": [
       "<Figure size 198x162 with 2 Axes>"
      ]
     },
     "metadata": {
      "needs_background": "light"
     },
     "output_type": "display_data"
    }
   ],
   "source": [
    "# libraries\n",
    "from mpl_toolkits.mplot3d import Axes3D\n",
    "import matplotlib.pyplot as plt\n",
    "plt.rcParams[\"axes.grid\"] = False\n",
    "plt.rcParams['font.sans-serif'] = \"Arial\"\n",
    "# Then, \"ALWAYS use sans-serif fonts\"\n",
    "plt.rcParams['font.family'] = \"sans-serif\"\n",
    "plt.rcParams['axes.linewidth'] = 0.5\n",
    "cmap=plt.cm.plasma\n",
    "plt.clf()\n",
    "# plot\n",
    "x = all_data['MI_frac_mean']\n",
    "y = all_data['G189E_mean']\n",
    "plt.rcParams['grid.color'] = \"white\"\n",
    "fig = plt.figure(figsize=(2.75,2.25))\n",
    "ax = fig.add_subplot()\n",
    "# x_locator = FixedLocator([8,9,10])\n",
    "# y_locator = FixedLocator([6,7,8,9])\n",
    "# ax.set_xticklabels(['8','9','10'])\n",
    "# ax.set_yticklabels(['≤ 6','7','8','9'])\n",
    "\n",
    "# plt.axvline(x=6,linestyle='dashed',linewidth=0.5,color='black')\n",
    "# plt.axhline(y=6,linestyle='dashed',linewidth=0.5,color='black')\n",
    "ax.scatter(x,y, c=all_data['som_mut'], cmap=cmap, s=5, alpha = 0.1, zorder=-10000)\n",
    "germ=ax.scatter(germ_MI,germ_G189E, s=50,c='blue', marker='*',edgecolor='black',linewidths=0.5,alpha=1,zorder=99999999)\n",
    "I2=ax.scatter(I2_MI,I2_G189E,s=50,c='purple', marker='*',edgecolor='black',linewidths=0.5,alpha=1,zorder=999999)\n",
    "som=ax.scatter(som_MI,som_G189E,s=50,c='yellow', marker='*',edgecolor='black',linewidths=0.5,alpha=1,zorder=999999)\n",
    "ax.yaxis.set_tick_params(labelsize=7,pad=3,length=2.5)\n",
    "ax.xaxis.set_tick_params(labelsize=7,pad=3,length=2.5)\n",
    "# ax.set_xlim([7.5, 10.5])\n",
    "# ax.set_ylim([5.5, 9.5])\n",
    "ax.spines['right'].set_visible(False)\n",
    "ax.spines['top'].set_visible(False)\n",
    "plt.xlabel('MI15 enrichment',fontsize=8,labelpad=1)\n",
    "plt.ylabel('G189E -logKd',fontsize=8,labelpad=0)\n",
    "plt.title('MI15 vs G189E',fontsize=10)\n",
    "sm = plt.cm.ScalarMappable(cmap=plt.cm.plasma, norm=plt.Normalize(vmin = 0, vmax=16))\n",
    "sm._A = []\n",
    "cbar = plt.colorbar(sm,fraction=0.03, pad=0.05,orientation='vertical',aspect=20,ticks=[0,2,4,6,8,10,12,14,16])\n",
    "cbar.set_label(label='# somatic mutations',size=8)\n",
    "cbar.ax.tick_params(labelsize=7)\n",
    "plt.savefig(\"images/20220723_CH65_MI15_G189E.png\", transparent=True, dpi=600,bbox_inches='tight')"
   ]
  },
  {
   "cell_type": "markdown",
   "metadata": {},
   "source": [
    "# correlation between SI15 and other antigens"
   ]
  },
  {
   "cell_type": "code",
   "execution_count": 180,
   "metadata": {},
   "outputs": [
    {
     "name": "stdout",
     "output_type": "stream",
     "text": [
      "0.7553183826296435\n"
     ]
    },
    {
     "data": {
      "image/png": "[encoded data removed]",
      "text/plain": [
       "<Figure size 72x57.6 with 2 Axes>"
      ]
     },
     "metadata": {
      "needs_background": "light"
     },
     "output_type": "display_data"
    }
   ],
   "source": [
    "#CH65 MA90 vs SI15\n",
    "from matplotlib.ticker import FixedLocator, FixedFormatter\n",
    "from numpy import polyfit\n",
    "plt.rcParams['font.sans-serif'] = \"Arial\"\n",
    "plt.rcParams['font.family'] = \"sans-serif\"\n",
    "plt.rcParams['axes.linewidth'] = 0.5\n",
    "flierprops = dict(marker='o', markersize=2)\n",
    "fig, ax = plt.subplots(figsize=(1,0.8))\n",
    "from scipy.stats import pearsonr\n",
    "plotting = all_data[['SI_frac_mean', 'MA90_mean']].copy()\n",
    "plotting.dropna(inplace=True)\n",
    "hb=plt.hexbin(plotting['SI_frac_mean'], plotting['MA90_mean'],cmap='Reds',linewidths=0.2,bins='log',gridsize=25)\n",
    "plt.xlabel(\"SI-G189D enrich\",fontsize=7,labelpad=1)\n",
    "plt.ylabel(\"MA90 –logKd\",fontsize=7,labelpad=0)\n",
    "plt.tick_params(labelsize=7,length=2.5,pad=0)\n",
    "x = plotting['SI_frac_mean']\n",
    "y = plotting['MA90_mean']\n",
    "cb = fig.colorbar(hb, ax=ax,ticks=[1,10,100,1000],orientation='vertical',pad=0.05)\n",
    "cb.ax.tick_params(labelsize=7,pad=1,size=1)\n",
    "corr, _ = pearsonr(plotting['SI_frac_mean'], plotting['MA90_mean'])\n",
    "print(corr)\n",
    "plt.savefig('images/CH65_SI_vs_MA90.png',transparent=True, dpi=600,bbox_inches='tight')"
   ]
  },
  {
   "cell_type": "code",
   "execution_count": 204,
   "metadata": {},
   "outputs": [
    {
     "data": {
      "text/plain": [
       "<Figure size 432x288 with 0 Axes>"
      ]
     },
     "metadata": {},
     "output_type": "display_data"
    },
    {
     "data": {
      "image/png": "[encoded data removed]",
      "text/plain": [
       "<Figure size 198x162 with 2 Axes>"
      ]
     },
     "metadata": {
      "needs_background": "light"
     },
     "output_type": "display_data"
    }
   ],
   "source": [
    "# libraries\n",
    "from mpl_toolkits.mplot3d import Axes3D\n",
    "import matplotlib.pyplot as plt\n",
    "plt.rcParams[\"axes.grid\"] = False\n",
    "plt.rcParams['font.sans-serif'] = \"Arial\"\n",
    "# Then, \"ALWAYS use sans-serif fonts\"\n",
    "plt.rcParams['font.family'] = \"sans-serif\"\n",
    "plt.rcParams['axes.linewidth'] = 0.5\n",
    "cmap=plt.cm.plasma\n",
    "plt.clf()\n",
    "# plot\n",
    "x = all_data['SI_frac_mean']\n",
    "y = all_data['MA90_mean']\n",
    "plt.rcParams['grid.color'] = \"white\"\n",
    "fig = plt.figure(figsize=(2.75,2.25))\n",
    "ax = fig.add_subplot()\n",
    "# x_locator = FixedLocator([8,9,10])\n",
    "# y_locator = FixedLocator([6,7,8,9])\n",
    "# ax.set_xticklabels(['8','9','10'])\n",
    "# ax.set_yticklabels(['≤ 6','7','8','9'])\n",
    "# ax.xaxis.set_major_locator(x_locator)\n",
    "# ax.yaxis.set_major_locator(y_locator)\n",
    "# plt.axvline(x=6,linestyle='dashed',linewidth=0.5,color='black')\n",
    "# plt.axhline(y=6,linestyle='dashed',linewidth=0.5,color='black')\n",
    "ax.scatter(x,y, c=all_data['som_mut'], cmap=cmap, s=5, alpha = 0.1, zorder=-10000)\n",
    "germ=ax.scatter(germ_SI,germ_MA90, s=50,c='blue', marker='*',edgecolor='black',linewidths=0.5,alpha=1,zorder=99999999)\n",
    "I2=ax.scatter(I2_SI,I2_MA90,s=50,c='purple', marker='*',edgecolor='black',linewidths=0.5,alpha=1,zorder=999999)\n",
    "som=ax.scatter(som_SI,som_MA90,s=50,c='yellow', marker='*',edgecolor='black',linewidths=0.5,alpha=1,zorder=999999)\n",
    "ax.yaxis.set_tick_params(labelsize=7,pad=3,length=2.5)\n",
    "ax.xaxis.set_tick_params(labelsize=7,pad=3,length=2.5)\n",
    "# ax.set_xlim([7.5, 10.5])\n",
    "# ax.set_ylim([5.5, 9.5])\n",
    "ax.spines['right'].set_visible(False)\n",
    "ax.spines['top'].set_visible(False)\n",
    "plt.xlabel('SI-G189D enrichment',fontsize=8,labelpad=1)\n",
    "plt.ylabel('MA90 -logKd',fontsize=8,labelpad=0)\n",
    "plt.title('SI-G189D vs MA90',fontsize=10)\n",
    "sm = plt.cm.ScalarMappable(cmap=plt.cm.plasma, norm=plt.Normalize(vmin = 0, vmax=16))\n",
    "sm._A = []\n",
    "cbar = plt.colorbar(sm,fraction=0.03, pad=0.05,orientation='vertical',aspect=20,ticks=[0,2,4,6,8,10,12,14,16])\n",
    "cbar.set_label(label='# somatic mutations',size=8)\n",
    "cbar.ax.tick_params(labelsize=7)\n",
    "plt.savefig(\"images/20220723_CH65_SI15_MA90.png\", transparent=True, dpi=600,bbox_inches='tight')"
   ]
  },
  {
   "cell_type": "code",
   "execution_count": 182,
   "metadata": {},
   "outputs": [
    {
     "name": "stdout",
     "output_type": "stream",
     "text": [
      "0.8572683922290032\n"
     ]
    },
    {
     "data": {
      "image/png": "[encoded data removed]",
      "text/plain": [
       "<Figure size 72x57.6 with 2 Axes>"
      ]
     },
     "metadata": {
      "needs_background": "light"
     },
     "output_type": "display_data"
    }
   ],
   "source": [
    "#CH65 SI06 vs SI15\n",
    "from matplotlib.ticker import FixedLocator, FixedFormatter\n",
    "from numpy import polyfit\n",
    "plt.rcParams['font.sans-serif'] = \"Arial\"\n",
    "plt.rcParams['font.family'] = \"sans-serif\"\n",
    "plt.rcParams['axes.linewidth'] = 0.5\n",
    "flierprops = dict(marker='o', markersize=2)\n",
    "fig, ax = plt.subplots(figsize=(1,0.8))\n",
    "from scipy.stats import pearsonr\n",
    "plotting = all_data[['SI_frac_mean', 'SI06_mean']].copy()\n",
    "plotting.dropna(inplace=True)\n",
    "hb=plt.hexbin(plotting['SI_frac_mean'], plotting['SI06_mean'],cmap='Greens',linewidths=0.2,bins='log',gridsize=25)\n",
    "plt.xlabel(\"SI-G189D enrich\",fontsize=7,labelpad=1)\n",
    "plt.ylabel(\"SI06 –logKd\",fontsize=7,labelpad=0)\n",
    "plt.tick_params(labelsize=7,length=2.5,pad=0)\n",
    "x = plotting['SI_frac_mean']\n",
    "y = plotting['SI06_mean']\n",
    "cb = fig.colorbar(hb, ax=ax,ticks=[1,10,100,1000],orientation='vertical',pad=0.05)\n",
    "cb.ax.tick_params(labelsize=7,pad=1,size=1)\n",
    "corr, _ = pearsonr(plotting['SI_frac_mean'], plotting['SI06_mean'])\n",
    "print(corr)\n",
    "plt.savefig('images/CH65_SI_vs_SI06.png',transparent=True, dpi=600,bbox_inches='tight')"
   ]
  },
  {
   "cell_type": "code",
   "execution_count": 183,
   "metadata": {},
   "outputs": [
    {
     "data": {
      "text/plain": [
       "<Figure size 432x288 with 0 Axes>"
      ]
     },
     "metadata": {},
     "output_type": "display_data"
    },
    {
     "data": {
      "image/png": "[encoded data removed]",
      "text/plain": [
       "<Figure size 198x162 with 2 Axes>"
      ]
     },
     "metadata": {
      "needs_background": "light"
     },
     "output_type": "display_data"
    }
   ],
   "source": [
    "# libraries\n",
    "from mpl_toolkits.mplot3d import Axes3D\n",
    "import matplotlib.pyplot as plt\n",
    "plt.rcParams[\"axes.grid\"] = False\n",
    "plt.rcParams['font.sans-serif'] = \"Arial\"\n",
    "# Then, \"ALWAYS use sans-serif fonts\"\n",
    "plt.rcParams['font.family'] = \"sans-serif\"\n",
    "plt.rcParams['axes.linewidth'] = 0.5\n",
    "cmap=plt.cm.plasma\n",
    "plt.clf()\n",
    "# plot\n",
    "x = all_data['SI_frac_mean']\n",
    "y = all_data['SI06_mean']\n",
    "plt.rcParams['grid.color'] = \"white\"\n",
    "fig = plt.figure(figsize=(2.75,2.25))\n",
    "ax = fig.add_subplot()\n",
    "# x_locator = FixedLocator([8,9,10])\n",
    "# y_locator = FixedLocator([6,7,8,9])\n",
    "# ax.set_xticklabels(['8','9','10'])\n",
    "# ax.set_yticklabels(['≤ 6','7','8','9'])\n",
    "# ax.xaxis.set_major_locator(x_locator)\n",
    "# ax.yaxis.set_major_locator(y_locator)\n",
    "# plt.axvline(x=6,linestyle='dashed',linewidth=0.5,color='black')\n",
    "# plt.axhline(y=6,linestyle='dashed',linewidth=0.5,color='black')\n",
    "ax.scatter(x,y, c=all_data['som_mut'], cmap=cmap, s=5, alpha = 0.1, zorder=-10000)\n",
    "germ=ax.scatter(germ_SI,germ_SI06, s=50,c='blue', marker='*',edgecolor='black',linewidths=0.5,alpha=1,zorder=99999999)\n",
    "I2=ax.scatter(I2_SI,I2_SI06,s=50,c='purple', marker='*',edgecolor='black',linewidths=0.5,alpha=1,zorder=999999)\n",
    "som=ax.scatter(som_SI,som_SI06,s=50,c='yellow', marker='*',edgecolor='black',linewidths=0.5,alpha=1,zorder=999999)\n",
    "ax.yaxis.set_tick_params(labelsize=7,pad=3,length=2.5)\n",
    "ax.xaxis.set_tick_params(labelsize=7,pad=3,length=2.5)\n",
    "# ax.set_xlim([7.5, 10.5])\n",
    "# ax.set_ylim([5.5, 9.5])\n",
    "ax.spines['right'].set_visible(False)\n",
    "ax.spines['top'].set_visible(False)\n",
    "plt.xlabel('SI-G189D enrichment',fontsize=8,labelpad=1)\n",
    "plt.ylabel('SI06 -logKd',fontsize=8,labelpad=0)\n",
    "plt.title('SI-G189D vs SI06',fontsize=10)\n",
    "sm = plt.cm.ScalarMappable(cmap=plt.cm.plasma, norm=plt.Normalize(vmin = 0, vmax=16))\n",
    "sm._A = []\n",
    "cbar = plt.colorbar(sm,fraction=0.03, pad=0.05,orientation='vertical',aspect=20,ticks=[0,2,4,6,8,10,12,14,16])\n",
    "cbar.set_label(label='# somatic mutations',size=8)\n",
    "cbar.ax.tick_params(labelsize=7)\n",
    "plt.savefig(\"images/20220723_CH65_SI15_SI06.png\", transparent=True, dpi=600,bbox_inches='tight')"
   ]
  },
  {
   "cell_type": "code",
   "execution_count": 184,
   "metadata": {},
   "outputs": [
    {
     "name": "stdout",
     "output_type": "stream",
     "text": [
      "0.7879367226650018\n"
     ]
    },
    {
     "data": {
      "image/png": "[encoded data removed]",
      "text/plain": [
       "<Figure size 72x57.6 with 2 Axes>"
      ]
     },
     "metadata": {
      "needs_background": "light"
     },
     "output_type": "display_data"
    }
   ],
   "source": [
    "#CH65 G189E vs SI15\n",
    "from matplotlib.ticker import FixedLocator, FixedFormatter\n",
    "from numpy import polyfit\n",
    "plt.rcParams['font.sans-serif'] = \"Arial\"\n",
    "plt.rcParams['font.family'] = \"sans-serif\"\n",
    "plt.rcParams['axes.linewidth'] = 0.5\n",
    "flierprops = dict(marker='o', markersize=2)\n",
    "fig, ax = plt.subplots(figsize=(1,0.8))\n",
    "from scipy.stats import pearsonr\n",
    "plotting = all_data[['SI_frac_mean', 'G189E_mean']].copy()\n",
    "plotting.dropna(inplace=True)\n",
    "hb=plt.hexbin(plotting['SI_frac_mean'], plotting['G189E_mean'],cmap='Blues',linewidths=0.2,bins='log',gridsize=25)\n",
    "plt.xlabel(\"SI-G189D enrich\",fontsize=7,labelpad=1)\n",
    "plt.ylabel(\"G189E –logKd\",fontsize=7,labelpad=0)\n",
    "plt.tick_params(labelsize=7,length=2.5,pad=0)\n",
    "x = plotting['SI_frac_mean']\n",
    "y = plotting['G189E_mean']\n",
    "cb = fig.colorbar(hb, ax=ax,ticks=[1,10,100,1000],orientation='vertical',pad=0.05)\n",
    "cb.ax.tick_params(labelsize=7,pad=1,size=1)\n",
    "corr, _ = pearsonr(plotting['SI_frac_mean'], plotting['G189E_mean'])\n",
    "print(corr)\n",
    "plt.savefig('images/CH65_SI_vs_G189E.png',transparent=True, dpi=600,bbox_inches='tight')"
   ]
  },
  {
   "cell_type": "code",
   "execution_count": 185,
   "metadata": {},
   "outputs": [
    {
     "data": {
      "text/plain": [
       "<Figure size 432x288 with 0 Axes>"
      ]
     },
     "metadata": {},
     "output_type": "display_data"
    },
    {
     "data": {
      "image/png": "[encoded data removed]",
      "text/plain": [
       "<Figure size 198x162 with 2 Axes>"
      ]
     },
     "metadata": {
      "needs_background": "light"
     },
     "output_type": "display_data"
    }
   ],
   "source": [
    "# libraries\n",
    "from mpl_toolkits.mplot3d import Axes3D\n",
    "import matplotlib.pyplot as plt\n",
    "plt.rcParams[\"axes.grid\"] = False\n",
    "plt.rcParams['font.sans-serif'] = \"Arial\"\n",
    "# Then, \"ALWAYS use sans-serif fonts\"\n",
    "plt.rcParams['font.family'] = \"sans-serif\"\n",
    "plt.rcParams['axes.linewidth'] = 0.5\n",
    "cmap=plt.cm.plasma\n",
    "plt.clf()\n",
    "# plot\n",
    "x = all_data['SI_frac_mean']\n",
    "y = all_data['G189E_mean']\n",
    "plt.rcParams['grid.color'] = \"white\"\n",
    "fig = plt.figure(figsize=(2.75,2.25))\n",
    "ax = fig.add_subplot()\n",
    "# x_locator = FixedLocator([8,9,10])\n",
    "# y_locator = FixedLocator([6,7,8,9])\n",
    "# ax.set_xticklabels(['8','9','10'])\n",
    "# ax.set_yticklabels(['≤ 6','7','8','9'])\n",
    "# ax.xaxis.set_major_locator(x_locator)\n",
    "# ax.yaxis.set_major_locator(y_locator)\n",
    "# plt.axvline(x=6,linestyle='dashed',linewidth=0.5,color='black')\n",
    "# plt.axhline(y=6,linestyle='dashed',linewidth=0.5,color='black')\n",
    "ax.scatter(x,y, c=all_data['som_mut'], cmap=cmap, s=5, alpha = 0.1, zorder=-10000)\n",
    "germ=ax.scatter(germ_SI,germ_G189E, s=50,c='blue', marker='*',edgecolor='black',linewidths=0.5,alpha=1,zorder=99999999)\n",
    "I2=ax.scatter(I2_SI,I2_G189E,s=50,c='purple', marker='*',edgecolor='black',linewidths=0.5,alpha=1,zorder=999999)\n",
    "som=ax.scatter(som_SI,som_G189E,s=50,c='yellow', marker='*',edgecolor='black',linewidths=0.5,alpha=1,zorder=999999)\n",
    "ax.yaxis.set_tick_params(labelsize=7,pad=3,length=2.5)\n",
    "ax.xaxis.set_tick_params(labelsize=7,pad=3,length=2.5)\n",
    "# ax.set_xlim([7.5, 10.5])\n",
    "# ax.set_ylim([5.5, 9.5])\n",
    "ax.spines['right'].set_visible(False)\n",
    "ax.spines['top'].set_visible(False)\n",
    "plt.xlabel('SI-G189D enrichment',fontsize=8,labelpad=1)\n",
    "plt.ylabel('G189E -logKd',fontsize=8,labelpad=0)\n",
    "plt.title('SI-G189D vs G189E',fontsize=10)\n",
    "sm = plt.cm.ScalarMappable(cmap=plt.cm.plasma, norm=plt.Normalize(vmin = 0, vmax=16))\n",
    "sm._A = []\n",
    "cbar = plt.colorbar(sm,fraction=0.03, pad=0.05,orientation='vertical',aspect=20,ticks=[0,2,4,6,8,10,12,14,16])\n",
    "cbar.set_label(label='# somatic mutations',size=8)\n",
    "cbar.ax.tick_params(labelsize=7)\n",
    "plt.savefig(\"images/20220723_CH65_SI15_G189E.png\", transparent=True, dpi=600,bbox_inches='tight')"
   ]
  },
  {
   "cell_type": "markdown",
   "metadata": {},
   "source": [
    "# change in enrichment plots -- MI15"
   ]
  },
  {
   "cell_type": "code",
   "execution_count": 186,
   "metadata": {},
   "outputs": [],
   "source": [
    "import matplotlib\n",
    "import matplotlib.colors as mcolors\n",
    "plt.rcParams.update({'font.size': 7})\n",
    "plt.rcParams['font.sans-serif'] = \"Arial\"\n",
    "plt.rcParams['font.family'] = \"sans-serif\"\n",
    "plt.rcParams['axes.linewidth'] = 0.5\n",
    "plt.rcParams[\"xtick.major.size\"] = 2\n",
    "plt.rcParams[\"ytick.major.size\"] = 2\n",
    "plt.rcParams[\"xtick.major.width\"] = 0.5\n",
    "plt.rcParams[\"ytick.major.width\"] = 0.5"
   ]
  },
  {
   "cell_type": "code",
   "execution_count": 187,
   "metadata": {},
   "outputs": [
    {
     "data": {
      "text/html": [
       "<div>\n",
       "<style scoped>\n",
       "    .dataframe tbody tr th:only-of-type {\n",
       "        vertical-align: middle;\n",
       "    }\n",
       "\n",
       "    .dataframe tbody tr th {\n",
       "        vertical-align: top;\n",
       "    }\n",
       "\n",
       "    .dataframe thead th {\n",
       "        text-align: right;\n",
       "    }\n",
       "</style>\n",
       "<table border=\"1\" class=\"dataframe\">\n",
       "  <thead>\n",
       "    <tr style=\"text-align: right;\">\n",
       "      <th></th>\n",
       "      <th>Mutation</th>\n",
       "      <th>dfrac</th>\n",
       "      <th>Number of mutations</th>\n",
       "      <th>dfrac_sem</th>\n",
       "      <th>source</th>\n",
       "      <th>target</th>\n",
       "      <th>pos1</th>\n",
       "      <th>pos2</th>\n",
       "      <th>pos3</th>\n",
       "      <th>pos4</th>\n",
       "      <th>...</th>\n",
       "      <th>pos7</th>\n",
       "      <th>pos8</th>\n",
       "      <th>pos9</th>\n",
       "      <th>pos10</th>\n",
       "      <th>pos11</th>\n",
       "      <th>pos12</th>\n",
       "      <th>pos13</th>\n",
       "      <th>pos14</th>\n",
       "      <th>pos15</th>\n",
       "      <th>pos16</th>\n",
       "    </tr>\n",
       "  </thead>\n",
       "  <tbody>\n",
       "    <tr>\n",
       "      <th>0</th>\n",
       "      <td>N26D</td>\n",
       "      <td>-0.259396</td>\n",
       "      <td>0</td>\n",
       "      <td>0.099843</td>\n",
       "      <td>0000000000000000</td>\n",
       "      <td>1000000000000000</td>\n",
       "      <td>0</td>\n",
       "      <td>0</td>\n",
       "      <td>0</td>\n",
       "      <td>0</td>\n",
       "      <td>...</td>\n",
       "      <td>0</td>\n",
       "      <td>0</td>\n",
       "      <td>0</td>\n",
       "      <td>0</td>\n",
       "      <td>0</td>\n",
       "      <td>0</td>\n",
       "      <td>0</td>\n",
       "      <td>0</td>\n",
       "      <td>0</td>\n",
       "      <td>0</td>\n",
       "    </tr>\n",
       "    <tr>\n",
       "      <th>1</th>\n",
       "      <td>N26D</td>\n",
       "      <td>0.034508</td>\n",
       "      <td>1</td>\n",
       "      <td>0.148337</td>\n",
       "      <td>0000000000000001</td>\n",
       "      <td>1000000000000001</td>\n",
       "      <td>0</td>\n",
       "      <td>0</td>\n",
       "      <td>0</td>\n",
       "      <td>0</td>\n",
       "      <td>...</td>\n",
       "      <td>0</td>\n",
       "      <td>0</td>\n",
       "      <td>0</td>\n",
       "      <td>0</td>\n",
       "      <td>0</td>\n",
       "      <td>0</td>\n",
       "      <td>0</td>\n",
       "      <td>0</td>\n",
       "      <td>0</td>\n",
       "      <td>1</td>\n",
       "    </tr>\n",
       "    <tr>\n",
       "      <th>2</th>\n",
       "      <td>N26D</td>\n",
       "      <td>0.019011</td>\n",
       "      <td>1</td>\n",
       "      <td>0.109013</td>\n",
       "      <td>0000000000000010</td>\n",
       "      <td>1000000000000010</td>\n",
       "      <td>0</td>\n",
       "      <td>0</td>\n",
       "      <td>0</td>\n",
       "      <td>0</td>\n",
       "      <td>...</td>\n",
       "      <td>0</td>\n",
       "      <td>0</td>\n",
       "      <td>0</td>\n",
       "      <td>0</td>\n",
       "      <td>0</td>\n",
       "      <td>0</td>\n",
       "      <td>0</td>\n",
       "      <td>0</td>\n",
       "      <td>1</td>\n",
       "      <td>0</td>\n",
       "    </tr>\n",
       "    <tr>\n",
       "      <th>3</th>\n",
       "      <td>N26D</td>\n",
       "      <td>-0.139353</td>\n",
       "      <td>2</td>\n",
       "      <td>0.123442</td>\n",
       "      <td>0000000000000011</td>\n",
       "      <td>1000000000000011</td>\n",
       "      <td>0</td>\n",
       "      <td>0</td>\n",
       "      <td>0</td>\n",
       "      <td>0</td>\n",
       "      <td>...</td>\n",
       "      <td>0</td>\n",
       "      <td>0</td>\n",
       "      <td>0</td>\n",
       "      <td>0</td>\n",
       "      <td>0</td>\n",
       "      <td>0</td>\n",
       "      <td>0</td>\n",
       "      <td>0</td>\n",
       "      <td>1</td>\n",
       "      <td>1</td>\n",
       "    </tr>\n",
       "    <tr>\n",
       "      <th>4</th>\n",
       "      <td>N26D</td>\n",
       "      <td>-0.111879</td>\n",
       "      <td>1</td>\n",
       "      <td>0.062852</td>\n",
       "      <td>0000000000000100</td>\n",
       "      <td>1000000000000100</td>\n",
       "      <td>0</td>\n",
       "      <td>0</td>\n",
       "      <td>0</td>\n",
       "      <td>0</td>\n",
       "      <td>...</td>\n",
       "      <td>0</td>\n",
       "      <td>0</td>\n",
       "      <td>0</td>\n",
       "      <td>0</td>\n",
       "      <td>0</td>\n",
       "      <td>0</td>\n",
       "      <td>0</td>\n",
       "      <td>1</td>\n",
       "      <td>0</td>\n",
       "      <td>0</td>\n",
       "    </tr>\n",
       "    <tr>\n",
       "      <th>...</th>\n",
       "      <td>...</td>\n",
       "      <td>...</td>\n",
       "      <td>...</td>\n",
       "      <td>...</td>\n",
       "      <td>...</td>\n",
       "      <td>...</td>\n",
       "      <td>...</td>\n",
       "      <td>...</td>\n",
       "      <td>...</td>\n",
       "      <td>...</td>\n",
       "      <td>...</td>\n",
       "      <td>...</td>\n",
       "      <td>...</td>\n",
       "      <td>...</td>\n",
       "      <td>...</td>\n",
       "      <td>...</td>\n",
       "      <td>...</td>\n",
       "      <td>...</td>\n",
       "      <td>...</td>\n",
       "      <td>...</td>\n",
       "      <td>...</td>\n",
       "    </tr>\n",
       "    <tr>\n",
       "      <th>524283</th>\n",
       "      <td>R87K</td>\n",
       "      <td>0.179674</td>\n",
       "      <td>14</td>\n",
       "      <td>0.140959</td>\n",
       "      <td>1111111111110110</td>\n",
       "      <td>1111111111110111</td>\n",
       "      <td>1</td>\n",
       "      <td>1</td>\n",
       "      <td>1</td>\n",
       "      <td>1</td>\n",
       "      <td>...</td>\n",
       "      <td>1</td>\n",
       "      <td>1</td>\n",
       "      <td>1</td>\n",
       "      <td>1</td>\n",
       "      <td>1</td>\n",
       "      <td>1</td>\n",
       "      <td>0</td>\n",
       "      <td>1</td>\n",
       "      <td>1</td>\n",
       "      <td>0</td>\n",
       "    </tr>\n",
       "    <tr>\n",
       "      <th>524284</th>\n",
       "      <td>R87K</td>\n",
       "      <td>0.159349</td>\n",
       "      <td>13</td>\n",
       "      <td>0.191079</td>\n",
       "      <td>1111111111111000</td>\n",
       "      <td>1111111111111001</td>\n",
       "      <td>1</td>\n",
       "      <td>1</td>\n",
       "      <td>1</td>\n",
       "      <td>1</td>\n",
       "      <td>...</td>\n",
       "      <td>1</td>\n",
       "      <td>1</td>\n",
       "      <td>1</td>\n",
       "      <td>1</td>\n",
       "      <td>1</td>\n",
       "      <td>1</td>\n",
       "      <td>1</td>\n",
       "      <td>0</td>\n",
       "      <td>0</td>\n",
       "      <td>0</td>\n",
       "    </tr>\n",
       "    <tr>\n",
       "      <th>524285</th>\n",
       "      <td>R87K</td>\n",
       "      <td>0.093975</td>\n",
       "      <td>14</td>\n",
       "      <td>0.154128</td>\n",
       "      <td>1111111111111010</td>\n",
       "      <td>1111111111111011</td>\n",
       "      <td>1</td>\n",
       "      <td>1</td>\n",
       "      <td>1</td>\n",
       "      <td>1</td>\n",
       "      <td>...</td>\n",
       "      <td>1</td>\n",
       "      <td>1</td>\n",
       "      <td>1</td>\n",
       "      <td>1</td>\n",
       "      <td>1</td>\n",
       "      <td>1</td>\n",
       "      <td>1</td>\n",
       "      <td>0</td>\n",
       "      <td>1</td>\n",
       "      <td>0</td>\n",
       "    </tr>\n",
       "    <tr>\n",
       "      <th>524286</th>\n",
       "      <td>R87K</td>\n",
       "      <td>-0.015655</td>\n",
       "      <td>14</td>\n",
       "      <td>0.121525</td>\n",
       "      <td>1111111111111100</td>\n",
       "      <td>1111111111111101</td>\n",
       "      <td>1</td>\n",
       "      <td>1</td>\n",
       "      <td>1</td>\n",
       "      <td>1</td>\n",
       "      <td>...</td>\n",
       "      <td>1</td>\n",
       "      <td>1</td>\n",
       "      <td>1</td>\n",
       "      <td>1</td>\n",
       "      <td>1</td>\n",
       "      <td>1</td>\n",
       "      <td>1</td>\n",
       "      <td>1</td>\n",
       "      <td>0</td>\n",
       "      <td>0</td>\n",
       "    </tr>\n",
       "    <tr>\n",
       "      <th>524287</th>\n",
       "      <td>R87K</td>\n",
       "      <td>0.071519</td>\n",
       "      <td>15</td>\n",
       "      <td>0.117746</td>\n",
       "      <td>1111111111111110</td>\n",
       "      <td>1111111111111111</td>\n",
       "      <td>1</td>\n",
       "      <td>1</td>\n",
       "      <td>1</td>\n",
       "      <td>1</td>\n",
       "      <td>...</td>\n",
       "      <td>1</td>\n",
       "      <td>1</td>\n",
       "      <td>1</td>\n",
       "      <td>1</td>\n",
       "      <td>1</td>\n",
       "      <td>1</td>\n",
       "      <td>1</td>\n",
       "      <td>1</td>\n",
       "      <td>1</td>\n",
       "      <td>0</td>\n",
       "    </tr>\n",
       "  </tbody>\n",
       "</table>\n",
       "<p>524288 rows × 22 columns</p>\n",
       "</div>"
      ],
      "text/plain": [
       "       Mutation     dfrac  Number of mutations  dfrac_sem            source  \\\n",
       "0          N26D -0.259396                    0   0.099843  0000000000000000   \n",
       "1          N26D  0.034508                    1   0.148337  0000000000000001   \n",
       "2          N26D  0.019011                    1   0.109013  0000000000000010   \n",
       "3          N26D -0.139353                    2   0.123442  0000000000000011   \n",
       "4          N26D -0.111879                    1   0.062852  0000000000000100   \n",
       "...         ...       ...                  ...        ...               ...   \n",
       "524283     R87K  0.179674                   14   0.140959  1111111111110110   \n",
       "524284     R87K  0.159349                   13   0.191079  1111111111111000   \n",
       "524285     R87K  0.093975                   14   0.154128  1111111111111010   \n",
       "524286     R87K -0.015655                   14   0.121525  1111111111111100   \n",
       "524287     R87K  0.071519                   15   0.117746  1111111111111110   \n",
       "\n",
       "                  target  pos1  pos2  pos3  pos4  ...  pos7  pos8  pos9  \\\n",
       "0       1000000000000000     0     0     0     0  ...     0     0     0   \n",
       "1       1000000000000001     0     0     0     0  ...     0     0     0   \n",
       "2       1000000000000010     0     0     0     0  ...     0     0     0   \n",
       "3       1000000000000011     0     0     0     0  ...     0     0     0   \n",
       "4       1000000000000100     0     0     0     0  ...     0     0     0   \n",
       "...                  ...   ...   ...   ...   ...  ...   ...   ...   ...   \n",
       "524283  1111111111110111     1     1     1     1  ...     1     1     1   \n",
       "524284  1111111111111001     1     1     1     1  ...     1     1     1   \n",
       "524285  1111111111111011     1     1     1     1  ...     1     1     1   \n",
       "524286  1111111111111101     1     1     1     1  ...     1     1     1   \n",
       "524287  1111111111111111     1     1     1     1  ...     1     1     1   \n",
       "\n",
       "        pos10  pos11  pos12  pos13  pos14  pos15  pos16  \n",
       "0           0      0      0      0      0      0      0  \n",
       "1           0      0      0      0      0      0      1  \n",
       "2           0      0      0      0      0      1      0  \n",
       "3           0      0      0      0      0      1      1  \n",
       "4           0      0      0      0      1      0      0  \n",
       "...       ...    ...    ...    ...    ...    ...    ...  \n",
       "524283      1      1      1      0      1      1      0  \n",
       "524284      1      1      1      1      0      0      0  \n",
       "524285      1      1      1      1      0      1      0  \n",
       "524286      1      1      1      1      1      0      0  \n",
       "524287      1      1      1      1      1      1      0  \n",
       "\n",
       "[524288 rows x 22 columns]"
      ]
     },
     "execution_count": 187,
     "metadata": {},
     "output_type": "execute_result"
    }
   ],
   "source": [
    "#read in data\n",
    "dfrac = pd.DataFrame(pd.read_csv('../../Enrichment_Inference/20220723_CH65_dfrac_MI.csv',dtype={'source':'str', 'target':'str'}))\n",
    "dfrac"
   ]
  },
  {
   "cell_type": "markdown",
   "metadata": {},
   "source": [
    "## change in enrichment by mutation position"
   ]
  },
  {
   "cell_type": "code",
   "execution_count": 188,
   "metadata": {},
   "outputs": [
    {
     "data": {
      "image/png": "[encoded data removed]",
      "text/plain": [
       "<Figure size 252x72 with 1 Axes>"
      ]
     },
     "metadata": {
      "needs_background": "light"
     },
     "output_type": "display_data"
    }
   ],
   "source": [
    "#enrichment\n",
    "mutation_names = ['N26D','S29R','Y35N','Y48C','D49Y','V98I','G31D','Y33H','M34I','H35N','N52H','G57D','L83V','S84N','R85G','R87K']\n",
    "colors = ['#121212','#808080','#a6cee3','#1f78b4','#b2df8a','#33a02c','#fb9a99','#e31a1c','#fdbf6f','#ff7f00','#cab2d6','#6a3d9a','#ffff99','gold','#b15928','#4f1530']\n",
    "fig, ax = plt.subplots(figsize=(3.5,1))\n",
    "ax = sns.violinplot(x=\"Mutation\", y=\"dfrac\", data=dfrac,scale='count',linewidth=0.25,palette=colors)\n",
    "plt.xlabel('Mutation position',fontsize=7,labelpad=0)\n",
    "plt.axhline(y=0,linestyle='dashed',linewidth=0.5,color='black')\n",
    "sns.scatterplot(x=\"Mutation\", y=\"dfrac\", data=dfrac[(dfrac['source']=='0000000000000000')],color='white',s=10)\n",
    "sns.scatterplot(x=\"Mutation\", y=\"dfrac\", data=dfrac[(dfrac['source']=='0000001010100000')],color='gray',s=10)\n",
    "sns.scatterplot(x=\"Mutation\", y=\"dfrac\", data=dfrac[(dfrac['target']=='1111111111111111')],color='black',s=10)\n",
    "ax.set_xticklabels(['N26D','S29R','Y35N','Y48C','D49Y','V98I','G31D','Y33H','M34I','H35N','N52H','G57D','L83V','S84N','R85G','R87K'],rotation=45)\n",
    "plt.tick_params(\n",
    "    axis='y',          # changes apply to the x-axis\n",
    "    which='both',\n",
    "    pad=0,\n",
    "    labelsize=7)\n",
    "# ax.set_xticks([])\n",
    "# ax.set_xticklabels([])\n",
    "plt.title('', fontsize=10)\n",
    "plt.xlabel('',fontsize=7,labelpad=0)\n",
    "plt.ylabel('',fontsize=7,labelpad=1)\n",
    "plt.savefig('images/CH65_dfrac_MI15.png',transparent=True, dpi=600,bbox_inches='tight')\n"
   ]
  },
  {
   "cell_type": "markdown",
   "metadata": {},
   "source": [
    "# change in enrichment by number of mutations"
   ]
  },
  {
   "cell_type": "code",
   "execution_count": 189,
   "metadata": {},
   "outputs": [
    {
     "data": {
      "image/png": "[encoded data removed]",
      "text/plain": [
       "<Figure size 252x72 with 1 Axes>"
      ]
     },
     "metadata": {
      "needs_background": "light"
     },
     "output_type": "display_data"
    }
   ],
   "source": [
    "##enrichment\n",
    "mutation_names = ['N26D','S29R','Y35N','Y48C','D49Y','V98I','G31D','Y33H','M34I','H35N','N52H','G57D','L83V','S84N','R85G','R87K']\n",
    "fig, ax = plt.subplots(figsize=(3.5,1))\n",
    "ax = sns.violinplot(x=\"Number of mutations\", y=\"dfrac\", data=dfrac,scale='count',linewidth=0.25,palette='plasma')\n",
    "plt.xlabel('Mutation position',fontsize=7,labelpad=0)\n",
    "plt.axhline(y=0,linestyle='dashed',linewidth=0.5,color='black')\n",
    "plt.tick_params(\n",
    "    axis='y',          # changes apply to the x-axis\n",
    "    which='both',\n",
    "    pad=0,\n",
    "    labelsize=7)\n",
    "# ax.set_xticks([])\n",
    "# ax.set_xticklabels([])\n",
    "plt.title('', fontsize=10)\n",
    "plt.xlabel('',fontsize=7,labelpad=0)\n",
    "plt.ylabel('',fontsize=7,labelpad=1)\n",
    "plt.savefig('images/CH65_dfrac_MI15_num.png',transparent=True, dpi=600,bbox_inches='tight')\n"
   ]
  },
  {
   "cell_type": "markdown",
   "metadata": {},
   "source": [
    "## do some statistics"
   ]
  },
  {
   "cell_type": "code",
   "execution_count": 190,
   "metadata": {},
   "outputs": [
    {
     "name": "stdout",
     "output_type": "stream",
     "text": [
      "N26D -24.709426029145952 1.4188993533887166e-133 32768 1 ***\n",
      "S29R 46.43490565612511 0.0 32768 1 ***\n",
      "Y35N 192.8132383257351 0.0 32768 1 ***\n",
      "Y48C 44.869891266332914 0.0 32768 1 ***\n",
      "D49Y 10.485840670614172 1.1020670287416372e-25 32768 1 ***\n",
      "V98I -13.188705197091604 1.2861999752501653e-39 32768 1 ***\n",
      "G31D -11.613259376483985 4.061145314092908e-31 32768 1 ***\n",
      "Y33H 88.51900560009528 0.0 32768 1 ***\n",
      "M34I -31.771364629950497 3.325253074985378e-218 32768 1 ***\n",
      "H35N 4.318297065356425 1.576992852644122e-05 32768 1 **\n",
      "N52H 7.451342309290322 9.467116502860437e-14 32768 1 ***\n",
      "G57D -13.686668218816825 1.5971219499473538e-42 32768 1 ***\n",
      "L83V 4.057912700790551 4.962798546075851e-05 32768 1 **\n",
      "S84N 10.184381815939027 2.531067349591796e-24 32768 1 ***\n",
      "R85G -1.448186592896514 0.14757444130879188 32768 1 ns\n",
      "R87K 50.42288478103157 0.0 32768 1 ***\n",
      "[-0.014580567973505414, 0.02806863182097674, 0.12039393241894007, 0.026838653320828947, 0.006425412343027597, -0.007880507029074746, -0.007901615230114617, 0.06300816480212175, -0.022154582729589756, 0.003070392786916099, 0.004656543453122656, -0.008505614747896994, 0.0024982685520420433, 0.006283095509435648, -0.0009074594078534951, 0.031209390246342852]\n",
      "[0.000590081208535841, 0.0006044726789979873, 0.0006244069829663293, 0.0005981439349055591, 0.0006127703581301175, 0.0005975193858160214, 0.000680396000292116, 0.0007118038027536757, 0.0006973129101513281, 0.0007110193533345241, 0.0006249267930312214, 0.0006214525414010715, 0.0006156535973667787, 0.0006169344024005771, 0.0006266177385598411, 0.0006189528897815742]\n"
     ]
    }
   ],
   "source": [
    "#do a two-sided t-test to see if mean is different from zero\n",
    "dFrac_mean = []\n",
    "dFrac_sem = []\n",
    "#Exp\n",
    "mutation_names = ['N26D','S29R','Y35N','Y48C','D49Y','V98I','G31D','Y33H','M34I','H35N','N52H','G57D','L83V','S84N','R85G','R87K']\n",
    "for mutation_name in mutation_names:\n",
    "    vals_1 = np.array(dfrac['dfrac'][dfrac['Mutation']==mutation_name])\n",
    "    mean = np.nanmean(vals_1)\n",
    "    sem = st.sem(vals_1, nan_policy='omit')\n",
    "    dFrac_mean.append(mean)\n",
    "    dFrac_sem.append(sem)\n",
    "    vals_2 = 0\n",
    "    n1 = len(np.where(~np.isnan(vals_1))[0])\n",
    "    n2 = len(np.where(~np.isnan(vals_2))[0])\n",
    "    tstat,pval = st.ttest_1samp(vals_1,vals_2,nan_policy='omit')\n",
    "    if pval < 0.0001/16:\n",
    "        lab = '***'\n",
    "    elif pval < 0.001/16:\n",
    "        lab = '**'\n",
    "    elif pval < 0.01/16:\n",
    "        lab = '*'\n",
    "    else:\n",
    "        lab = 'ns'\n",
    "    print(mutation_name,tstat,pval,n1,n2,lab)\n",
    "print(dFrac_mean)\n",
    "print(dFrac_sem)"
   ]
  },
  {
   "cell_type": "markdown",
   "metadata": {},
   "source": [
    "# change in enrichment plots -- SI-G189D"
   ]
  },
  {
   "cell_type": "code",
   "execution_count": 191,
   "metadata": {},
   "outputs": [],
   "source": [
    "import matplotlib\n",
    "import matplotlib.colors as mcolors\n",
    "plt.rcParams.update({'font.size': 7})\n",
    "plt.rcParams['font.sans-serif'] = \"Arial\"\n",
    "plt.rcParams['font.family'] = \"sans-serif\"\n",
    "plt.rcParams['axes.linewidth'] = 0.5\n",
    "plt.rcParams[\"xtick.major.size\"] = 2\n",
    "plt.rcParams[\"ytick.major.size\"] = 2\n",
    "plt.rcParams[\"xtick.major.width\"] = 0.5\n",
    "plt.rcParams[\"ytick.major.width\"] = 0.5"
   ]
  },
  {
   "cell_type": "code",
   "execution_count": 192,
   "metadata": {},
   "outputs": [
    {
     "data": {
      "text/html": [
       "<div>\n",
       "<style scoped>\n",
       "    .dataframe tbody tr th:only-of-type {\n",
       "        vertical-align: middle;\n",
       "    }\n",
       "\n",
       "    .dataframe tbody tr th {\n",
       "        vertical-align: top;\n",
       "    }\n",
       "\n",
       "    .dataframe thead th {\n",
       "        text-align: right;\n",
       "    }\n",
       "</style>\n",
       "<table border=\"1\" class=\"dataframe\">\n",
       "  <thead>\n",
       "    <tr style=\"text-align: right;\">\n",
       "      <th></th>\n",
       "      <th>Mutation</th>\n",
       "      <th>dfrac</th>\n",
       "      <th>Number of mutations</th>\n",
       "      <th>dfrac_sem</th>\n",
       "      <th>source</th>\n",
       "      <th>target</th>\n",
       "      <th>pos1</th>\n",
       "      <th>pos2</th>\n",
       "      <th>pos3</th>\n",
       "      <th>pos4</th>\n",
       "      <th>...</th>\n",
       "      <th>pos7</th>\n",
       "      <th>pos8</th>\n",
       "      <th>pos9</th>\n",
       "      <th>pos10</th>\n",
       "      <th>pos11</th>\n",
       "      <th>pos12</th>\n",
       "      <th>pos13</th>\n",
       "      <th>pos14</th>\n",
       "      <th>pos15</th>\n",
       "      <th>pos16</th>\n",
       "    </tr>\n",
       "  </thead>\n",
       "  <tbody>\n",
       "    <tr>\n",
       "      <th>0</th>\n",
       "      <td>N26D</td>\n",
       "      <td>0.000229</td>\n",
       "      <td>0</td>\n",
       "      <td>0.075191</td>\n",
       "      <td>0000000000000000</td>\n",
       "      <td>1000000000000000</td>\n",
       "      <td>0</td>\n",
       "      <td>0</td>\n",
       "      <td>0</td>\n",
       "      <td>0</td>\n",
       "      <td>...</td>\n",
       "      <td>0</td>\n",
       "      <td>0</td>\n",
       "      <td>0</td>\n",
       "      <td>0</td>\n",
       "      <td>0</td>\n",
       "      <td>0</td>\n",
       "      <td>0</td>\n",
       "      <td>0</td>\n",
       "      <td>0</td>\n",
       "      <td>0</td>\n",
       "    </tr>\n",
       "    <tr>\n",
       "      <th>1</th>\n",
       "      <td>N26D</td>\n",
       "      <td>-0.030123</td>\n",
       "      <td>1</td>\n",
       "      <td>0.016351</td>\n",
       "      <td>0000000000000001</td>\n",
       "      <td>1000000000000001</td>\n",
       "      <td>0</td>\n",
       "      <td>0</td>\n",
       "      <td>0</td>\n",
       "      <td>0</td>\n",
       "      <td>...</td>\n",
       "      <td>0</td>\n",
       "      <td>0</td>\n",
       "      <td>0</td>\n",
       "      <td>0</td>\n",
       "      <td>0</td>\n",
       "      <td>0</td>\n",
       "      <td>0</td>\n",
       "      <td>0</td>\n",
       "      <td>0</td>\n",
       "      <td>1</td>\n",
       "    </tr>\n",
       "    <tr>\n",
       "      <th>2</th>\n",
       "      <td>N26D</td>\n",
       "      <td>-0.017159</td>\n",
       "      <td>1</td>\n",
       "      <td>0.017159</td>\n",
       "      <td>0000000000000010</td>\n",
       "      <td>1000000000000010</td>\n",
       "      <td>0</td>\n",
       "      <td>0</td>\n",
       "      <td>0</td>\n",
       "      <td>0</td>\n",
       "      <td>...</td>\n",
       "      <td>0</td>\n",
       "      <td>0</td>\n",
       "      <td>0</td>\n",
       "      <td>0</td>\n",
       "      <td>0</td>\n",
       "      <td>0</td>\n",
       "      <td>0</td>\n",
       "      <td>0</td>\n",
       "      <td>1</td>\n",
       "      <td>0</td>\n",
       "    </tr>\n",
       "    <tr>\n",
       "      <th>3</th>\n",
       "      <td>N26D</td>\n",
       "      <td>0.042692</td>\n",
       "      <td>2</td>\n",
       "      <td>0.057975</td>\n",
       "      <td>0000000000000011</td>\n",
       "      <td>1000000000000011</td>\n",
       "      <td>0</td>\n",
       "      <td>0</td>\n",
       "      <td>0</td>\n",
       "      <td>0</td>\n",
       "      <td>...</td>\n",
       "      <td>0</td>\n",
       "      <td>0</td>\n",
       "      <td>0</td>\n",
       "      <td>0</td>\n",
       "      <td>0</td>\n",
       "      <td>0</td>\n",
       "      <td>0</td>\n",
       "      <td>0</td>\n",
       "      <td>1</td>\n",
       "      <td>1</td>\n",
       "    </tr>\n",
       "    <tr>\n",
       "      <th>4</th>\n",
       "      <td>N26D</td>\n",
       "      <td>-0.009161</td>\n",
       "      <td>1</td>\n",
       "      <td>0.064412</td>\n",
       "      <td>0000000000000100</td>\n",
       "      <td>1000000000000100</td>\n",
       "      <td>0</td>\n",
       "      <td>0</td>\n",
       "      <td>0</td>\n",
       "      <td>0</td>\n",
       "      <td>...</td>\n",
       "      <td>0</td>\n",
       "      <td>0</td>\n",
       "      <td>0</td>\n",
       "      <td>0</td>\n",
       "      <td>0</td>\n",
       "      <td>0</td>\n",
       "      <td>0</td>\n",
       "      <td>1</td>\n",
       "      <td>0</td>\n",
       "      <td>0</td>\n",
       "    </tr>\n",
       "    <tr>\n",
       "      <th>...</th>\n",
       "      <td>...</td>\n",
       "      <td>...</td>\n",
       "      <td>...</td>\n",
       "      <td>...</td>\n",
       "      <td>...</td>\n",
       "      <td>...</td>\n",
       "      <td>...</td>\n",
       "      <td>...</td>\n",
       "      <td>...</td>\n",
       "      <td>...</td>\n",
       "      <td>...</td>\n",
       "      <td>...</td>\n",
       "      <td>...</td>\n",
       "      <td>...</td>\n",
       "      <td>...</td>\n",
       "      <td>...</td>\n",
       "      <td>...</td>\n",
       "      <td>...</td>\n",
       "      <td>...</td>\n",
       "      <td>...</td>\n",
       "      <td>...</td>\n",
       "    </tr>\n",
       "    <tr>\n",
       "      <th>524283</th>\n",
       "      <td>R87K</td>\n",
       "      <td>0.042901</td>\n",
       "      <td>14</td>\n",
       "      <td>0.006601</td>\n",
       "      <td>1111111111110110</td>\n",
       "      <td>1111111111110111</td>\n",
       "      <td>1</td>\n",
       "      <td>1</td>\n",
       "      <td>1</td>\n",
       "      <td>1</td>\n",
       "      <td>...</td>\n",
       "      <td>1</td>\n",
       "      <td>1</td>\n",
       "      <td>1</td>\n",
       "      <td>1</td>\n",
       "      <td>1</td>\n",
       "      <td>1</td>\n",
       "      <td>0</td>\n",
       "      <td>1</td>\n",
       "      <td>1</td>\n",
       "      <td>0</td>\n",
       "    </tr>\n",
       "    <tr>\n",
       "      <th>524284</th>\n",
       "      <td>R87K</td>\n",
       "      <td>0.010312</td>\n",
       "      <td>13</td>\n",
       "      <td>0.012716</td>\n",
       "      <td>1111111111111000</td>\n",
       "      <td>1111111111111001</td>\n",
       "      <td>1</td>\n",
       "      <td>1</td>\n",
       "      <td>1</td>\n",
       "      <td>1</td>\n",
       "      <td>...</td>\n",
       "      <td>1</td>\n",
       "      <td>1</td>\n",
       "      <td>1</td>\n",
       "      <td>1</td>\n",
       "      <td>1</td>\n",
       "      <td>1</td>\n",
       "      <td>1</td>\n",
       "      <td>0</td>\n",
       "      <td>0</td>\n",
       "      <td>0</td>\n",
       "    </tr>\n",
       "    <tr>\n",
       "      <th>524285</th>\n",
       "      <td>R87K</td>\n",
       "      <td>0.057502</td>\n",
       "      <td>14</td>\n",
       "      <td>0.003310</td>\n",
       "      <td>1111111111111010</td>\n",
       "      <td>1111111111111011</td>\n",
       "      <td>1</td>\n",
       "      <td>1</td>\n",
       "      <td>1</td>\n",
       "      <td>1</td>\n",
       "      <td>...</td>\n",
       "      <td>1</td>\n",
       "      <td>1</td>\n",
       "      <td>1</td>\n",
       "      <td>1</td>\n",
       "      <td>1</td>\n",
       "      <td>1</td>\n",
       "      <td>1</td>\n",
       "      <td>0</td>\n",
       "      <td>1</td>\n",
       "      <td>0</td>\n",
       "    </tr>\n",
       "    <tr>\n",
       "      <th>524286</th>\n",
       "      <td>R87K</td>\n",
       "      <td>0.016764</td>\n",
       "      <td>14</td>\n",
       "      <td>0.013506</td>\n",
       "      <td>1111111111111100</td>\n",
       "      <td>1111111111111101</td>\n",
       "      <td>1</td>\n",
       "      <td>1</td>\n",
       "      <td>1</td>\n",
       "      <td>1</td>\n",
       "      <td>...</td>\n",
       "      <td>1</td>\n",
       "      <td>1</td>\n",
       "      <td>1</td>\n",
       "      <td>1</td>\n",
       "      <td>1</td>\n",
       "      <td>1</td>\n",
       "      <td>1</td>\n",
       "      <td>1</td>\n",
       "      <td>0</td>\n",
       "      <td>0</td>\n",
       "    </tr>\n",
       "    <tr>\n",
       "      <th>524287</th>\n",
       "      <td>R87K</td>\n",
       "      <td>0.032168</td>\n",
       "      <td>15</td>\n",
       "      <td>0.026491</td>\n",
       "      <td>1111111111111110</td>\n",
       "      <td>1111111111111111</td>\n",
       "      <td>1</td>\n",
       "      <td>1</td>\n",
       "      <td>1</td>\n",
       "      <td>1</td>\n",
       "      <td>...</td>\n",
       "      <td>1</td>\n",
       "      <td>1</td>\n",
       "      <td>1</td>\n",
       "      <td>1</td>\n",
       "      <td>1</td>\n",
       "      <td>1</td>\n",
       "      <td>1</td>\n",
       "      <td>1</td>\n",
       "      <td>1</td>\n",
       "      <td>0</td>\n",
       "    </tr>\n",
       "  </tbody>\n",
       "</table>\n",
       "<p>524288 rows × 22 columns</p>\n",
       "</div>"
      ],
      "text/plain": [
       "       Mutation     dfrac  Number of mutations  dfrac_sem            source  \\\n",
       "0          N26D  0.000229                    0   0.075191  0000000000000000   \n",
       "1          N26D -0.030123                    1   0.016351  0000000000000001   \n",
       "2          N26D -0.017159                    1   0.017159  0000000000000010   \n",
       "3          N26D  0.042692                    2   0.057975  0000000000000011   \n",
       "4          N26D -0.009161                    1   0.064412  0000000000000100   \n",
       "...         ...       ...                  ...        ...               ...   \n",
       "524283     R87K  0.042901                   14   0.006601  1111111111110110   \n",
       "524284     R87K  0.010312                   13   0.012716  1111111111111000   \n",
       "524285     R87K  0.057502                   14   0.003310  1111111111111010   \n",
       "524286     R87K  0.016764                   14   0.013506  1111111111111100   \n",
       "524287     R87K  0.032168                   15   0.026491  1111111111111110   \n",
       "\n",
       "                  target  pos1  pos2  pos3  pos4  ...  pos7  pos8  pos9  \\\n",
       "0       1000000000000000     0     0     0     0  ...     0     0     0   \n",
       "1       1000000000000001     0     0     0     0  ...     0     0     0   \n",
       "2       1000000000000010     0     0     0     0  ...     0     0     0   \n",
       "3       1000000000000011     0     0     0     0  ...     0     0     0   \n",
       "4       1000000000000100     0     0     0     0  ...     0     0     0   \n",
       "...                  ...   ...   ...   ...   ...  ...   ...   ...   ...   \n",
       "524283  1111111111110111     1     1     1     1  ...     1     1     1   \n",
       "524284  1111111111111001     1     1     1     1  ...     1     1     1   \n",
       "524285  1111111111111011     1     1     1     1  ...     1     1     1   \n",
       "524286  1111111111111101     1     1     1     1  ...     1     1     1   \n",
       "524287  1111111111111111     1     1     1     1  ...     1     1     1   \n",
       "\n",
       "        pos10  pos11  pos12  pos13  pos14  pos15  pos16  \n",
       "0           0      0      0      0      0      0      0  \n",
       "1           0      0      0      0      0      0      1  \n",
       "2           0      0      0      0      0      1      0  \n",
       "3           0      0      0      0      0      1      1  \n",
       "4           0      0      0      0      1      0      0  \n",
       "...       ...    ...    ...    ...    ...    ...    ...  \n",
       "524283      1      1      1      0      1      1      0  \n",
       "524284      1      1      1      1      0      0      0  \n",
       "524285      1      1      1      1      0      1      0  \n",
       "524286      1      1      1      1      1      0      0  \n",
       "524287      1      1      1      1      1      1      0  \n",
       "\n",
       "[524288 rows x 22 columns]"
      ]
     },
     "execution_count": 192,
     "metadata": {},
     "output_type": "execute_result"
    }
   ],
   "source": [
    "#read in data\n",
    "dfracSI = pd.DataFrame(pd.read_csv('../../Enrichment_Inference/20220723_CH65_dfrac_SI.csv',dtype={'source':'str', 'target':'str'}))\n",
    "dfracSI"
   ]
  },
  {
   "cell_type": "markdown",
   "metadata": {},
   "source": [
    "## change in enrichment by mutation position"
   ]
  },
  {
   "cell_type": "code",
   "execution_count": 193,
   "metadata": {},
   "outputs": [
    {
     "data": {
      "image/png": "[encoded data removed]",
      "text/plain": [
       "<Figure size 252x72 with 1 Axes>"
      ]
     },
     "metadata": {
      "needs_background": "light"
     },
     "output_type": "display_data"
    }
   ],
   "source": [
    "#enrichment\n",
    "mutation_names = ['N26D','S29R','Y35N','Y48C','D49Y','V98I','G31D','Y33H','M34I','H35N','N52H','G57D','L83V','S84N','R85G','R87K']\n",
    "colors = ['#121212','#808080','#a6cee3','#1f78b4','#b2df8a','#33a02c','#fb9a99','#e31a1c','#fdbf6f','#ff7f00','#cab2d6','#6a3d9a','#ffff99','gold','#b15928','#4f1530']\n",
    "fig, ax = plt.subplots(figsize=(3.5,1))\n",
    "ax = sns.violinplot(x=\"Mutation\", y=\"dfrac\", data=dfracSI,scale='count',linewidth=0.25,palette=colors)\n",
    "plt.xlabel('Mutation position',fontsize=7,labelpad=0)\n",
    "plt.axhline(y=0,linestyle='dashed',linewidth=0.5,color='black')\n",
    "sns.scatterplot(x=\"Mutation\", y=\"dfrac\", data=dfracSI[(dfracSI['source']=='0000000000000000')],color='white',s=10)\n",
    "sns.scatterplot(x=\"Mutation\", y=\"dfrac\", data=dfracSI[(dfracSI['source']=='0000001010100000')],color='gray',s=10)\n",
    "sns.scatterplot(x=\"Mutation\", y=\"dfrac\", data=dfracSI[(dfracSI['target']=='1111111111111111')],color='black',s=10)\n",
    "ax.set_xticklabels(['N26D','S29R','Y35N','Y48C','D49Y','V98I','G31D','Y33H','M34I','H35N','N52H','G57D','L83V','S84N','R85G','R87K'],rotation=45)\n",
    "plt.tick_params(\n",
    "    axis='y',          # changes apply to the x-axis\n",
    "    which='both',\n",
    "    pad=0,\n",
    "    labelsize=7)\n",
    "# ax.set_xticks([])\n",
    "# ax.set_xticklabels([])\n",
    "plt.title('', fontsize=10)\n",
    "plt.xlabel('',fontsize=7,labelpad=0)\n",
    "plt.ylabel('',fontsize=7,labelpad=1)\n",
    "plt.savefig('images/CH65_dfrac_SI_G189D.png',transparent=True, dpi=600,bbox_inches='tight')\n"
   ]
  },
  {
   "cell_type": "markdown",
   "metadata": {},
   "source": [
    "## change in enrichment by number of mutations -- SI-G189D"
   ]
  },
  {
   "cell_type": "code",
   "execution_count": 194,
   "metadata": {},
   "outputs": [
    {
     "data": {
      "image/png": "[encoded data removed]",
      "text/plain": [
       "<Figure size 252x72 with 1 Axes>"
      ]
     },
     "metadata": {
      "needs_background": "light"
     },
     "output_type": "display_data"
    }
   ],
   "source": [
    "##enrichment\n",
    "mutation_names = ['N26D','S29R','Y35N','Y48C','D49Y','V98I','G31D','Y33H','M34I','H35N','N52H','G57D','L83V','S84N','R85G','R87K']\n",
    "fig, ax = plt.subplots(figsize=(3.5,1))\n",
    "ax = sns.violinplot(x=\"Number of mutations\", y=\"dfrac\", data=dfracSI,scale='count',linewidth=0.25,palette='plasma')\n",
    "plt.xlabel('Mutation position',fontsize=7,labelpad=0)\n",
    "plt.axhline(y=0,linestyle='dashed',linewidth=0.5,color='black')\n",
    "plt.tick_params(\n",
    "    axis='y',          # changes apply to the x-axis\n",
    "    which='both',\n",
    "    pad=0,\n",
    "    labelsize=7)\n",
    "# ax.set_xticks([])\n",
    "# ax.set_xticklabels([])\n",
    "plt.title('', fontsize=10)\n",
    "plt.xlabel('',fontsize=7,labelpad=0)\n",
    "plt.ylabel('',fontsize=7,labelpad=1)\n",
    "plt.savefig('images/CH65_dfrac_SIG189D_num.png',transparent=True, dpi=600,bbox_inches='tight')\n"
   ]
  },
  {
   "cell_type": "markdown",
   "metadata": {},
   "source": [
    "## do some statistics"
   ]
  },
  {
   "cell_type": "code",
   "execution_count": 195,
   "metadata": {},
   "outputs": [
    {
     "name": "stdout",
     "output_type": "stream",
     "text": [
      "N26D -27.85947574782609 7.721285136642476e-169 32768 1 ***\n",
      "S29R 136.30703364292086 0.0 32768 1 ***\n",
      "Y35N 139.97693114624866 0.0 32768 1 ***\n",
      "Y48C 4.38512681974632 1.162790678498731e-05 32768 1 **\n",
      "D49Y 91.68853831314345 0.0 32768 1 ***\n",
      "V98I -14.053911023008753 9.834302631895295e-45 32768 1 ***\n",
      "G31D 258.680030992417 0.0 32768 1 ***\n",
      "Y33H 155.1980100066325 0.0 32768 1 ***\n",
      "M34I 84.96341372950191 0.0 32768 1 ***\n",
      "H35N 118.20904779043947 0.0 32768 1 ***\n",
      "N52H 364.0501032751382 0.0 32768 1 ***\n",
      "G57D 88.38666621144017 0.0 32768 1 ***\n",
      "L83V -14.709767745141644 7.989232794240855e-49 32768 1 ***\n",
      "S84N 13.51543989451061 1.6385561915940005e-41 32768 1 ***\n",
      "R85G 57.65337576463995 0.0 32768 1 ***\n",
      "R87K 166.9158327248773 0.0 32768 1 ***\n",
      "[-0.011930668604546288, 0.06830739512936425, 0.10859621884695674, 0.005436079429864321, 0.12033851181288327, -0.005903503857358575, 0.19761752843728644, 0.11806290039573357, 0.046750533235200654, 0.08199313598886859, 0.4027343251482742, 0.04424896037668455, -0.006435242240445062, 0.005832160802090432, 0.03645075347870762, 0.11881739419720651]\n",
      "[0.0004282445481938853, 0.0005011289095198632, 0.0007758151143740593, 0.0012396629911330132, 0.0013124706100329758, 0.00042006128028656853, 0.0007639458201668432, 0.0007607243185056822, 0.0005502431126889553, 0.0006936282587626092, 0.0011062607084165543, 0.0005006293627008331, 0.0004374808869820871, 0.00043151838546218565, 0.000632239708347896, 0.0007118401667327142]\n"
     ]
    }
   ],
   "source": [
    "#do a two-sided t-test to see if mean is different from zero\n",
    "dFracSI_mean = []\n",
    "dFracSI_sem = []\n",
    "#Exp\n",
    "mutation_names = ['N26D','S29R','Y35N','Y48C','D49Y','V98I','G31D','Y33H','M34I','H35N','N52H','G57D','L83V','S84N','R85G','R87K']\n",
    "for mutation_name in mutation_names:\n",
    "    vals_1 = np.array(dfracSI['dfrac'][dfracSI['Mutation']==mutation_name])\n",
    "    mean = np.nanmean(vals_1)\n",
    "    sem = st.sem(vals_1, nan_policy='omit')\n",
    "    dFracSI_mean.append(mean)\n",
    "    dFracSI_sem.append(sem)\n",
    "    vals_2 = 0\n",
    "    n1 = len(np.where(~np.isnan(vals_1))[0])\n",
    "    n2 = len(np.where(~np.isnan(vals_2))[0])\n",
    "    tstat,pval = st.ttest_1samp(vals_1,vals_2,nan_policy='omit')\n",
    "    if pval < 0.0001/16:\n",
    "        lab = '***'\n",
    "    elif pval < 0.001/16:\n",
    "        lab = '**'\n",
    "    elif pval < 0.01/16:\n",
    "        lab = '*'\n",
    "    else:\n",
    "        lab = 'ns'\n",
    "    print(mutation_name,tstat,pval,n1,n2,lab)\n",
    "print(dFracSI_mean)\n",
    "print(dFracSI_sem)"
   ]
  },
  {
   "cell_type": "markdown",
   "metadata": {},
   "source": [
    "## CH65: correlation between mean change in enrichment and mean change in binding for each site"
   ]
  },
  {
   "cell_type": "code",
   "execution_count": 196,
   "metadata": {},
   "outputs": [
    {
     "data": {
      "text/html": [
       "<div>\n",
       "<style scoped>\n",
       "    .dataframe tbody tr th:only-of-type {\n",
       "        vertical-align: middle;\n",
       "    }\n",
       "\n",
       "    .dataframe tbody tr th {\n",
       "        vertical-align: top;\n",
       "    }\n",
       "\n",
       "    .dataframe thead th {\n",
       "        text-align: right;\n",
       "    }\n",
       "</style>\n",
       "<table border=\"1\" class=\"dataframe\">\n",
       "  <thead>\n",
       "    <tr style=\"text-align: right;\">\n",
       "      <th></th>\n",
       "      <th>Unnamed: 0</th>\n",
       "      <th>mutation_names</th>\n",
       "      <th>MA90_dKd_mean</th>\n",
       "      <th>MA90_dKd_sem</th>\n",
       "      <th>SI06_dKd_mean</th>\n",
       "      <th>SI06_dKd_sem</th>\n",
       "      <th>G189E_dKd_mean</th>\n",
       "      <th>G189E_dKd_sem</th>\n",
       "      <th>dFrac_MI_mean</th>\n",
       "      <th>dFrac_MI_sem</th>\n",
       "      <th>dFrac_SI_mean</th>\n",
       "      <th>dFrac_SI_sem</th>\n",
       "      <th>sum</th>\n",
       "      <th>total_err</th>\n",
       "    </tr>\n",
       "  </thead>\n",
       "  <tbody>\n",
       "    <tr>\n",
       "      <th>0</th>\n",
       "      <td>0</td>\n",
       "      <td>N26D</td>\n",
       "      <td>-0.005894</td>\n",
       "      <td>0.000337</td>\n",
       "      <td>0.125206</td>\n",
       "      <td>0.001299</td>\n",
       "      <td>-0.023788</td>\n",
       "      <td>0.001398</td>\n",
       "      <td>-0.014581</td>\n",
       "      <td>0.000590</td>\n",
       "      <td>-0.011931</td>\n",
       "      <td>0.000428</td>\n",
       "      <td>0.154888</td>\n",
       "      <td>0.001938</td>\n",
       "    </tr>\n",
       "    <tr>\n",
       "      <th>1</th>\n",
       "      <td>1</td>\n",
       "      <td>S29R</td>\n",
       "      <td>0.051353</td>\n",
       "      <td>0.000379</td>\n",
       "      <td>0.142751</td>\n",
       "      <td>0.001495</td>\n",
       "      <td>0.282864</td>\n",
       "      <td>0.002014</td>\n",
       "      <td>0.028069</td>\n",
       "      <td>0.000604</td>\n",
       "      <td>0.068307</td>\n",
       "      <td>0.000501</td>\n",
       "      <td>0.476967</td>\n",
       "      <td>0.002537</td>\n",
       "    </tr>\n",
       "    <tr>\n",
       "      <th>2</th>\n",
       "      <td>2</td>\n",
       "      <td>Y35N</td>\n",
       "      <td>0.475922</td>\n",
       "      <td>0.001182</td>\n",
       "      <td>0.350730</td>\n",
       "      <td>0.003493</td>\n",
       "      <td>0.948471</td>\n",
       "      <td>0.004559</td>\n",
       "      <td>0.120394</td>\n",
       "      <td>0.000624</td>\n",
       "      <td>0.108596</td>\n",
       "      <td>0.000776</td>\n",
       "      <td>1.775124</td>\n",
       "      <td>0.005864</td>\n",
       "    </tr>\n",
       "    <tr>\n",
       "      <th>3</th>\n",
       "      <td>3</td>\n",
       "      <td>Y48C</td>\n",
       "      <td>-0.009082</td>\n",
       "      <td>0.001902</td>\n",
       "      <td>0.045927</td>\n",
       "      <td>0.003476</td>\n",
       "      <td>-0.019971</td>\n",
       "      <td>0.004269</td>\n",
       "      <td>0.026839</td>\n",
       "      <td>0.000598</td>\n",
       "      <td>0.005436</td>\n",
       "      <td>0.001240</td>\n",
       "      <td>0.074980</td>\n",
       "      <td>0.005825</td>\n",
       "    </tr>\n",
       "    <tr>\n",
       "      <th>4</th>\n",
       "      <td>4</td>\n",
       "      <td>D49Y</td>\n",
       "      <td>0.245354</td>\n",
       "      <td>0.001940</td>\n",
       "      <td>0.423951</td>\n",
       "      <td>0.004313</td>\n",
       "      <td>0.608515</td>\n",
       "      <td>0.004755</td>\n",
       "      <td>0.006425</td>\n",
       "      <td>0.000613</td>\n",
       "      <td>0.120339</td>\n",
       "      <td>0.001312</td>\n",
       "      <td>1.277820</td>\n",
       "      <td>0.006706</td>\n",
       "    </tr>\n",
       "    <tr>\n",
       "      <th>5</th>\n",
       "      <td>5</td>\n",
       "      <td>V98I</td>\n",
       "      <td>0.013609</td>\n",
       "      <td>0.000327</td>\n",
       "      <td>0.041254</td>\n",
       "      <td>0.000740</td>\n",
       "      <td>-0.017201</td>\n",
       "      <td>0.001353</td>\n",
       "      <td>-0.007881</td>\n",
       "      <td>0.000598</td>\n",
       "      <td>-0.005904</td>\n",
       "      <td>0.000420</td>\n",
       "      <td>0.072064</td>\n",
       "      <td>0.001577</td>\n",
       "    </tr>\n",
       "    <tr>\n",
       "      <th>6</th>\n",
       "      <td>6</td>\n",
       "      <td>G31D</td>\n",
       "      <td>0.150576</td>\n",
       "      <td>0.000671</td>\n",
       "      <td>0.160146</td>\n",
       "      <td>0.001502</td>\n",
       "      <td>0.556176</td>\n",
       "      <td>0.002757</td>\n",
       "      <td>-0.007902</td>\n",
       "      <td>0.000680</td>\n",
       "      <td>0.197618</td>\n",
       "      <td>0.000764</td>\n",
       "      <td>0.866897</td>\n",
       "      <td>0.003210</td>\n",
       "    </tr>\n",
       "    <tr>\n",
       "      <th>7</th>\n",
       "      <td>7</td>\n",
       "      <td>Y33H</td>\n",
       "      <td>0.245317</td>\n",
       "      <td>0.000842</td>\n",
       "      <td>0.262465</td>\n",
       "      <td>0.002520</td>\n",
       "      <td>0.381849</td>\n",
       "      <td>0.002535</td>\n",
       "      <td>0.063008</td>\n",
       "      <td>0.000712</td>\n",
       "      <td>0.118063</td>\n",
       "      <td>0.000761</td>\n",
       "      <td>0.889631</td>\n",
       "      <td>0.003672</td>\n",
       "    </tr>\n",
       "    <tr>\n",
       "      <th>8</th>\n",
       "      <td>8</td>\n",
       "      <td>M34I</td>\n",
       "      <td>0.016195</td>\n",
       "      <td>0.000453</td>\n",
       "      <td>0.114124</td>\n",
       "      <td>0.001381</td>\n",
       "      <td>0.109564</td>\n",
       "      <td>0.001620</td>\n",
       "      <td>-0.022155</td>\n",
       "      <td>0.000697</td>\n",
       "      <td>0.046751</td>\n",
       "      <td>0.000550</td>\n",
       "      <td>0.239883</td>\n",
       "      <td>0.002176</td>\n",
       "    </tr>\n",
       "    <tr>\n",
       "      <th>9</th>\n",
       "      <td>9</td>\n",
       "      <td>H35N</td>\n",
       "      <td>0.164149</td>\n",
       "      <td>0.000766</td>\n",
       "      <td>0.328146</td>\n",
       "      <td>0.003042</td>\n",
       "      <td>0.347584</td>\n",
       "      <td>0.003106</td>\n",
       "      <td>0.003070</td>\n",
       "      <td>0.000711</td>\n",
       "      <td>0.081993</td>\n",
       "      <td>0.000694</td>\n",
       "      <td>0.839879</td>\n",
       "      <td>0.004415</td>\n",
       "    </tr>\n",
       "    <tr>\n",
       "      <th>10</th>\n",
       "      <td>10</td>\n",
       "      <td>N52H</td>\n",
       "      <td>0.357882</td>\n",
       "      <td>0.001018</td>\n",
       "      <td>1.351933</td>\n",
       "      <td>0.005153</td>\n",
       "      <td>1.258721</td>\n",
       "      <td>0.004545</td>\n",
       "      <td>0.004657</td>\n",
       "      <td>0.000625</td>\n",
       "      <td>0.402734</td>\n",
       "      <td>0.001106</td>\n",
       "      <td>2.968535</td>\n",
       "      <td>0.006946</td>\n",
       "    </tr>\n",
       "    <tr>\n",
       "      <th>11</th>\n",
       "      <td>11</td>\n",
       "      <td>G57D</td>\n",
       "      <td>0.011359</td>\n",
       "      <td>0.000434</td>\n",
       "      <td>0.045892</td>\n",
       "      <td>0.000928</td>\n",
       "      <td>0.081028</td>\n",
       "      <td>0.001542</td>\n",
       "      <td>-0.008506</td>\n",
       "      <td>0.000621</td>\n",
       "      <td>0.044249</td>\n",
       "      <td>0.000501</td>\n",
       "      <td>0.138280</td>\n",
       "      <td>0.001852</td>\n",
       "    </tr>\n",
       "    <tr>\n",
       "      <th>12</th>\n",
       "      <td>12</td>\n",
       "      <td>L83V</td>\n",
       "      <td>0.027724</td>\n",
       "      <td>0.000358</td>\n",
       "      <td>0.008645</td>\n",
       "      <td>0.000762</td>\n",
       "      <td>-0.001074</td>\n",
       "      <td>0.001384</td>\n",
       "      <td>0.002498</td>\n",
       "      <td>0.000616</td>\n",
       "      <td>-0.006435</td>\n",
       "      <td>0.000437</td>\n",
       "      <td>0.037443</td>\n",
       "      <td>0.001620</td>\n",
       "    </tr>\n",
       "    <tr>\n",
       "      <th>13</th>\n",
       "      <td>13</td>\n",
       "      <td>S84N</td>\n",
       "      <td>0.006495</td>\n",
       "      <td>0.000336</td>\n",
       "      <td>0.017232</td>\n",
       "      <td>0.000696</td>\n",
       "      <td>0.017438</td>\n",
       "      <td>0.001382</td>\n",
       "      <td>0.006283</td>\n",
       "      <td>0.000617</td>\n",
       "      <td>0.005832</td>\n",
       "      <td>0.000432</td>\n",
       "      <td>0.041165</td>\n",
       "      <td>0.001584</td>\n",
       "    </tr>\n",
       "    <tr>\n",
       "      <th>14</th>\n",
       "      <td>14</td>\n",
       "      <td>R85G</td>\n",
       "      <td>-0.039104</td>\n",
       "      <td>0.000540</td>\n",
       "      <td>0.051974</td>\n",
       "      <td>0.001276</td>\n",
       "      <td>0.012477</td>\n",
       "      <td>0.001665</td>\n",
       "      <td>-0.000907</td>\n",
       "      <td>0.000627</td>\n",
       "      <td>0.036451</td>\n",
       "      <td>0.000632</td>\n",
       "      <td>0.103554</td>\n",
       "      <td>0.002166</td>\n",
       "    </tr>\n",
       "    <tr>\n",
       "      <th>15</th>\n",
       "      <td>15</td>\n",
       "      <td>R87K</td>\n",
       "      <td>0.100525</td>\n",
       "      <td>0.000532</td>\n",
       "      <td>0.195621</td>\n",
       "      <td>0.001717</td>\n",
       "      <td>0.256034</td>\n",
       "      <td>0.001784</td>\n",
       "      <td>0.031209</td>\n",
       "      <td>0.000619</td>\n",
       "      <td>0.118817</td>\n",
       "      <td>0.000712</td>\n",
       "      <td>0.552179</td>\n",
       "      <td>0.002532</td>\n",
       "    </tr>\n",
       "  </tbody>\n",
       "</table>\n",
       "</div>"
      ],
      "text/plain": [
       "    Unnamed: 0 mutation_names  MA90_dKd_mean  MA90_dKd_sem  SI06_dKd_mean  \\\n",
       "0            0           N26D      -0.005894      0.000337       0.125206   \n",
       "1            1           S29R       0.051353      0.000379       0.142751   \n",
       "2            2           Y35N       0.475922      0.001182       0.350730   \n",
       "3            3           Y48C      -0.009082      0.001902       0.045927   \n",
       "4            4           D49Y       0.245354      0.001940       0.423951   \n",
       "5            5           V98I       0.013609      0.000327       0.041254   \n",
       "6            6           G31D       0.150576      0.000671       0.160146   \n",
       "7            7           Y33H       0.245317      0.000842       0.262465   \n",
       "8            8           M34I       0.016195      0.000453       0.114124   \n",
       "9            9           H35N       0.164149      0.000766       0.328146   \n",
       "10          10           N52H       0.357882      0.001018       1.351933   \n",
       "11          11           G57D       0.011359      0.000434       0.045892   \n",
       "12          12           L83V       0.027724      0.000358       0.008645   \n",
       "13          13           S84N       0.006495      0.000336       0.017232   \n",
       "14          14           R85G      -0.039104      0.000540       0.051974   \n",
       "15          15           R87K       0.100525      0.000532       0.195621   \n",
       "\n",
       "    SI06_dKd_sem  G189E_dKd_mean  G189E_dKd_sem  dFrac_MI_mean  dFrac_MI_sem  \\\n",
       "0       0.001299       -0.023788       0.001398      -0.014581      0.000590   \n",
       "1       0.001495        0.282864       0.002014       0.028069      0.000604   \n",
       "2       0.003493        0.948471       0.004559       0.120394      0.000624   \n",
       "3       0.003476       -0.019971       0.004269       0.026839      0.000598   \n",
       "4       0.004313        0.608515       0.004755       0.006425      0.000613   \n",
       "5       0.000740       -0.017201       0.001353      -0.007881      0.000598   \n",
       "6       0.001502        0.556176       0.002757      -0.007902      0.000680   \n",
       "7       0.002520        0.381849       0.002535       0.063008      0.000712   \n",
       "8       0.001381        0.109564       0.001620      -0.022155      0.000697   \n",
       "9       0.003042        0.347584       0.003106       0.003070      0.000711   \n",
       "10      0.005153        1.258721       0.004545       0.004657      0.000625   \n",
       "11      0.000928        0.081028       0.001542      -0.008506      0.000621   \n",
       "12      0.000762       -0.001074       0.001384       0.002498      0.000616   \n",
       "13      0.000696        0.017438       0.001382       0.006283      0.000617   \n",
       "14      0.001276        0.012477       0.001665      -0.000907      0.000627   \n",
       "15      0.001717        0.256034       0.001784       0.031209      0.000619   \n",
       "\n",
       "    dFrac_SI_mean  dFrac_SI_sem       sum  total_err  \n",
       "0       -0.011931      0.000428  0.154888   0.001938  \n",
       "1        0.068307      0.000501  0.476967   0.002537  \n",
       "2        0.108596      0.000776  1.775124   0.005864  \n",
       "3        0.005436      0.001240  0.074980   0.005825  \n",
       "4        0.120339      0.001312  1.277820   0.006706  \n",
       "5       -0.005904      0.000420  0.072064   0.001577  \n",
       "6        0.197618      0.000764  0.866897   0.003210  \n",
       "7        0.118063      0.000761  0.889631   0.003672  \n",
       "8        0.046751      0.000550  0.239883   0.002176  \n",
       "9        0.081993      0.000694  0.839879   0.004415  \n",
       "10       0.402734      0.001106  2.968535   0.006946  \n",
       "11       0.044249      0.000501  0.138280   0.001852  \n",
       "12      -0.006435      0.000437  0.037443   0.001620  \n",
       "13       0.005832      0.000432  0.041165   0.001584  \n",
       "14       0.036451      0.000632  0.103554   0.002166  \n",
       "15       0.118817      0.000712  0.552179   0.002532  "
      ]
     },
     "execution_count": 196,
     "metadata": {},
     "output_type": "execute_result"
    }
   ],
   "source": [
    "#read in data for change in Kd\n",
    "toplot = pd.DataFrame(pd.read_csv('../../Kd_Inference/results_CH65/Kd_processed/dKd_summary.csv'),index=None)\n",
    "toplot['dFrac_MI_mean'] = dFrac_mean\n",
    "toplot['dFrac_MI_sem'] = dFrac_sem\n",
    "toplot['dFrac_SI_mean'] = dFracSI_mean\n",
    "toplot['dFrac_SI_sem'] = dFracSI_sem\n",
    "toplot['sum']=abs(toplot['MA90_dKd_mean'])+abs(toplot['SI06_dKd_mean'])+abs(toplot['G189E_dKd_mean'])\n",
    "toplot['total_err']=((toplot['MA90_dKd_sem'])**2+(toplot['SI06_dKd_sem'])**2+(toplot['G189E_dKd_sem'])**2)**(1/2)\n",
    "toplot\n"
   ]
  },
  {
   "cell_type": "markdown",
   "metadata": {},
   "source": [
    "## correlation between sum of delta(-logKd) and delta(mean enrichment)"
   ]
  },
  {
   "cell_type": "markdown",
   "metadata": {},
   "source": [
    "## MI15"
   ]
  },
  {
   "cell_type": "code",
   "execution_count": 197,
   "metadata": {},
   "outputs": [
    {
     "name": "stdout",
     "output_type": "stream",
     "text": [
      "0.6731378102219209\n"
     ]
    },
    {
     "data": {
      "image/png": "[encoded data removed]",
      "text/plain": [
       "<Figure size 72x72 with 1 Axes>"
      ]
     },
     "metadata": {
      "needs_background": "light"
     },
     "output_type": "display_data"
    }
   ],
   "source": [
    "plt.rcParams['font.sans-serif'] = \"Arial\"\n",
    "plt.rcParams['font.family'] = \"sans-serif\"\n",
    "plt.rcParams['axes.linewidth'] = 0.5\n",
    "flierprops = dict(marker='o', markersize=2)\n",
    "corr, _ = pearsonr(toplot['dFrac_MI_mean'], toplot['MA90_dKd_mean'])\n",
    "slope, intercept, r_value, p_value, std_err = scipy.stats.linregress(toplot['dFrac_MI_mean'], toplot['MA90_dKd_mean'])\n",
    "plt.figure(figsize=(1,1))\n",
    "ax = sns.scatterplot(x='dFrac_MI_mean', y='MA90_dKd_mean',data=toplot,hue='mutation_names',s=20,palette=colors,legend=False,edgecolor='black')\n",
    "\n",
    "# Find the x,y coordinates for each point\n",
    "x_coords = []\n",
    "y_coords = []\n",
    "for points in ax.collections:\n",
    "    for x, y in points.get_offsets():\n",
    "        x_coords.append(x)\n",
    "        y_coords.append(y)\n",
    "\n",
    "# Calculate the type of error to plot as the error bars\n",
    "# Make sure the order is the same as the points were looped over\n",
    "plt.errorbar(x_coords, y_coords, yerr=toplot['dFrac_MI_sem'],xerr=toplot['MA90_dKd_sem'], fmt=' ', zorder=-1,color='k',linewidth=0.5)\n",
    "\n",
    "\n",
    "\n",
    "sns.regplot(x='dFrac_MI_mean', y='MA90_dKd_mean',data=toplot, scatter=False, ax=ax,color='gray')\n",
    "#plt.xlim(-0.03,0.03)\n",
    "plt.axhline(y=0,linestyle='dashed',linewidth=0.5,color='black')\n",
    "plt.axvline(x=0,linestyle='dashed',linewidth=0.5,color='black')\n",
    "plt.xlabel('',fontsize=7,labelpad=0.5)\n",
    "plt.ylabel('',fontsize=7,labelpad=0.5)\n",
    "# plt.xticks(ticks=[-0.03,0,0.03],labels=['-0.03','0','0.03'],fontsize=7)\n",
    "# plt.yticks(ticks=[0,0.5],labels=['0','0.5'],fontsize=7)\n",
    "plt.savefig('images/CH65_dfrac_MI_kd_corr_MA90.png',transparent=True, dpi=600,bbox_inches='tight')\n",
    "print(corr)"
   ]
  },
  {
   "cell_type": "code",
   "execution_count": 198,
   "metadata": {},
   "outputs": [
    {
     "name": "stdout",
     "output_type": "stream",
     "text": [
      "0.12237726731800083\n"
     ]
    },
    {
     "data": {
      "image/png": "[encoded data removed]",
      "text/plain": [
       "<Figure size 72x72 with 1 Axes>"
      ]
     },
     "metadata": {
      "needs_background": "light"
     },
     "output_type": "display_data"
    }
   ],
   "source": [
    "plt.rcParams['font.sans-serif'] = \"Arial\"\n",
    "plt.rcParams['font.family'] = \"sans-serif\"\n",
    "plt.rcParams['axes.linewidth'] = 0.5\n",
    "flierprops = dict(marker='o', markersize=2)\n",
    "corr, _ = pearsonr(toplot['dFrac_MI_mean'], toplot['SI06_dKd_mean'])\n",
    "slope, intercept, r_value, p_value, std_err = scipy.stats.linregress(toplot['dFrac_MI_mean'], toplot['SI06_dKd_mean'])\n",
    "plt.figure(figsize=(1,1))\n",
    "ax = sns.scatterplot(x='dFrac_MI_mean', y='SI06_dKd_mean',data=toplot,hue='mutation_names',s=20,palette=colors,legend=False,edgecolor='black')\n",
    "\n",
    "# Find the x,y coordinates for each point\n",
    "x_coords = []\n",
    "y_coords = []\n",
    "for points in ax.collections:\n",
    "    for x, y in points.get_offsets():\n",
    "        x_coords.append(x)\n",
    "        y_coords.append(y)\n",
    "\n",
    "# Calculate the type of error to plot as the error bars\n",
    "# Make sure the order is the same as the points were looped over\n",
    "plt.errorbar(x_coords, y_coords, yerr=toplot['dFrac_MI_sem'],xerr=toplot['SI06_dKd_sem'], fmt=' ', zorder=-1,color='k',linewidth=0.5)\n",
    "\n",
    "\n",
    "\n",
    "sns.regplot(x='dFrac_MI_mean', y='SI06_dKd_mean',data=toplot, scatter=False, ax=ax,color='gray')\n",
    "#plt.xlim(-0.03,0.03)\n",
    "plt.xlabel('',fontsize=7,labelpad=0.5)\n",
    "plt.ylabel('',fontsize=7,labelpad=0.5)\n",
    "plt.axhline(y=0,linestyle='dashed',linewidth=0.5,color='black')\n",
    "plt.axvline(x=0,linestyle='dashed',linewidth=0.5,color='black')\n",
    "# plt.xticks(ticks=[-0.03,0,0.03],labels=['-0.03','0','0.03'],fontsize=7)\n",
    "# plt.yticks(ticks=[0,0.5,1],labels=['0','0.5','1'],fontsize=7)\n",
    "plt.savefig('images/CH65_dfrac_MI_kd_corr_SI06.png',transparent=True, dpi=600,bbox_inches='tight')\n",
    "print(corr)"
   ]
  },
  {
   "cell_type": "code",
   "execution_count": 199,
   "metadata": {},
   "outputs": [
    {
     "name": "stdout",
     "output_type": "stream",
     "text": [
      "0.44087708975170603\n"
     ]
    },
    {
     "data": {
      "image/png": "[encoded data removed]",
      "text/plain": [
       "<Figure size 72x72 with 1 Axes>"
      ]
     },
     "metadata": {
      "needs_background": "light"
     },
     "output_type": "display_data"
    }
   ],
   "source": [
    "plt.rcParams['font.sans-serif'] = \"Arial\"\n",
    "plt.rcParams['font.family'] = \"sans-serif\"\n",
    "plt.rcParams['axes.linewidth'] = 0.5\n",
    "flierprops = dict(marker='o', markersize=2)\n",
    "corr, _ = pearsonr(toplot['dFrac_MI_mean'], toplot['G189E_dKd_mean'])\n",
    "slope, intercept, r_value, p_value, std_err = scipy.stats.linregress(toplot['dFrac_MI_mean'], toplot['G189E_dKd_mean'])\n",
    "plt.figure(figsize=(1,1))\n",
    "ax = sns.scatterplot(x='dFrac_MI_mean', y='G189E_dKd_mean',data=toplot,hue='mutation_names',s=20,palette=colors,legend=False,edgecolor='black')\n",
    "\n",
    "# Find the x,y coordinates for each point\n",
    "x_coords = []\n",
    "y_coords = []\n",
    "for points in ax.collections:\n",
    "    for x, y in points.get_offsets():\n",
    "        x_coords.append(x)\n",
    "        y_coords.append(y)\n",
    "\n",
    "# Calculate the type of error to plot as the error bars\n",
    "# Make sure the order is the same as the points were looped over\n",
    "plt.errorbar(x_coords, y_coords, yerr=toplot['dFrac_MI_sem'],xerr=toplot['G189E_dKd_sem'], fmt=' ', zorder=-1,color='k',linewidth=0.5)\n",
    "\n",
    "\n",
    "\n",
    "sns.regplot(x='dFrac_MI_mean', y='G189E_dKd_mean',data=toplot, scatter=False, ax=ax,color='gray')\n",
    "#plt.xlim(-0.03,0.03)\n",
    "plt.xlabel('',fontsize=7,labelpad=0.5)\n",
    "plt.ylabel('',fontsize=7,labelpad=0.5)\n",
    "plt.axhline(y=0,linestyle='dashed',linewidth=0.5,color='black')\n",
    "plt.axvline(x=0,linestyle='dashed',linewidth=0.5,color='black')\n",
    "# plt.xticks(ticks=[-0.03,0,0.03],labels=['-0.03','0','0.03'],fontsize=7)\n",
    "# plt.yticks(ticks=[0,0.5,1],labels=['0','0.5','1'],fontsize=7)\n",
    "plt.savefig('images/CH65_dfrac_MI_kd_corr_G189E.png',transparent=True, dpi=600,bbox_inches='tight')\n",
    "print(corr)"
   ]
  },
  {
   "cell_type": "markdown",
   "metadata": {},
   "source": [
    "## SI06-G189D"
   ]
  },
  {
   "cell_type": "code",
   "execution_count": 200,
   "metadata": {},
   "outputs": [
    {
     "name": "stdout",
     "output_type": "stream",
     "text": [
      "0.6946541063145459\n"
     ]
    },
    {
     "data": {
      "image/png": "[encoded data removed]",
      "text/plain": [
       "<Figure size 72x72 with 1 Axes>"
      ]
     },
     "metadata": {
      "needs_background": "light"
     },
     "output_type": "display_data"
    }
   ],
   "source": [
    "plt.rcParams['font.sans-serif'] = \"Arial\"\n",
    "plt.rcParams['font.family'] = \"sans-serif\"\n",
    "plt.rcParams['axes.linewidth'] = 0.5\n",
    "flierprops = dict(marker='o', markersize=2)\n",
    "corr, _ = pearsonr(toplot['dFrac_SI_mean'], toplot['MA90_dKd_mean'])\n",
    "slope, intercept, r_value, p_value, std_err = scipy.stats.linregress(toplot['dFrac_SI_mean'], toplot['MA90_dKd_mean'])\n",
    "plt.figure(figsize=(1,1))\n",
    "ax = sns.scatterplot(x='dFrac_SI_mean', y='MA90_dKd_mean',data=toplot,hue='mutation_names',s=20,palette=colors,legend=False,edgecolor='black')\n",
    "\n",
    "# Find the x,y coordinates for each point\n",
    "x_coords = []\n",
    "y_coords = []\n",
    "for points in ax.collections:\n",
    "    for x, y in points.get_offsets():\n",
    "        x_coords.append(x)\n",
    "        y_coords.append(y)\n",
    "\n",
    "# Calculate the type of error to plot as the error bars\n",
    "# Make sure the order is the same as the points were looped over\n",
    "plt.errorbar(x_coords, y_coords, yerr=toplot['dFrac_SI_sem'],xerr=toplot['MA90_dKd_sem'], fmt=' ', zorder=-1,color='k',linewidth=0.5)\n",
    "\n",
    "\n",
    "\n",
    "sns.regplot(x='dFrac_SI_mean', y='MA90_dKd_mean',data=toplot, scatter=False, ax=ax,color='gray')\n",
    "#plt.xlim(-0.03,0.03)\n",
    "#plt.ylim(-0.1,0.25)\n",
    "plt.axhline(y=0,linestyle='dashed',linewidth=0.5,color='black')\n",
    "plt.axvline(x=0,linestyle='dashed',linewidth=0.5,color='black')\n",
    "plt.xlabel('',fontsize=7,labelpad=0.5)\n",
    "plt.ylabel('',fontsize=7,labelpad=0.5)\n",
    "# plt.xticks(ticks=[-0.03,0,0.03],labels=['-0.03','0','0.03'],fontsize=7)\n",
    "# plt.yticks(ticks=[0,0.25],labels=['0','0.25'],fontsize=7)\n",
    "plt.savefig('images/CH65_dfrac_SI_kd_corr_MA90.png',transparent=True, dpi=600,bbox_inches='tight')\n",
    "print(corr)"
   ]
  },
  {
   "cell_type": "code",
   "execution_count": 201,
   "metadata": {},
   "outputs": [
    {
     "name": "stdout",
     "output_type": "stream",
     "text": [
      "0.9045904264808421\n"
     ]
    },
    {
     "data": {
      "image/png": "[encoded data removed]",
      "text/plain": [
       "<Figure size 72x72 with 1 Axes>"
      ]
     },
     "metadata": {
      "needs_background": "light"
     },
     "output_type": "display_data"
    }
   ],
   "source": [
    "plt.rcParams['font.sans-serif'] = \"Arial\"\n",
    "plt.rcParams['font.family'] = \"sans-serif\"\n",
    "plt.rcParams['axes.linewidth'] = 0.5\n",
    "flierprops = dict(marker='o', markersize=2)\n",
    "corr, _ = pearsonr(toplot['dFrac_SI_mean'], toplot['SI06_dKd_mean'])\n",
    "slope, intercept, r_value, p_value, std_err = scipy.stats.linregress(toplot['dFrac_SI_mean'], toplot['SI06_dKd_mean'])\n",
    "plt.figure(figsize=(1,1))\n",
    "ax = sns.scatterplot(x='dFrac_SI_mean', y='SI06_dKd_mean',data=toplot,hue='mutation_names',s=20,palette=colors,legend=False,edgecolor='black')\n",
    "\n",
    "# Find the x,y coordinates for each point\n",
    "x_coords = []\n",
    "y_coords = []\n",
    "for points in ax.collections:\n",
    "    for x, y in points.get_offsets():\n",
    "        x_coords.append(x)\n",
    "        y_coords.append(y)\n",
    "\n",
    "# Calculate the type of error to plot as the error bars\n",
    "# Make sure the order is the same as the points were looped over\n",
    "plt.errorbar(x_coords, y_coords, yerr=toplot['dFrac_SI_sem'],xerr=toplot['SI06_dKd_sem'], fmt=' ', zorder=-1,color='k',linewidth=0.5)\n",
    "\n",
    "\n",
    "\n",
    "sns.regplot(x='dFrac_SI_mean', y='SI06_dKd_mean',data=toplot, scatter=False, ax=ax,color='gray')\n",
    "# plt.xlim(-0.03,0.03)\n",
    "# plt.ylim(-0.1,0.25)\n",
    "plt.xlabel('',fontsize=7,labelpad=0.5)\n",
    "plt.ylabel('',fontsize=7,labelpad=0.5)\n",
    "plt.axhline(y=0,linestyle='dashed',linewidth=0.5,color='black')\n",
    "plt.axvline(x=0,linestyle='dashed',linewidth=0.5,color='black')\n",
    "# plt.xticks(ticks=[-0.03,0,0.03],labels=['-0.03','0','0.03'],fontsize=7)\n",
    "# plt.yticks(ticks=[0,0.25],labels=['0','0.25'],fontsize=7)\n",
    "plt.savefig('images/CH65_dfrac_SI_kd_corr_SI06.png',transparent=True, dpi=600,bbox_inches='tight')\n",
    "print(corr)"
   ]
  },
  {
   "cell_type": "code",
   "execution_count": 202,
   "metadata": {},
   "outputs": [
    {
     "name": "stdout",
     "output_type": "stream",
     "text": [
      "0.89112508710982\n"
     ]
    },
    {
     "data": {
      "image/png": "[encoded data removed]",
      "text/plain": [
       "<Figure size 72x72 with 1 Axes>"
      ]
     },
     "metadata": {
      "needs_background": "light"
     },
     "output_type": "display_data"
    }
   ],
   "source": [
    "plt.rcParams['font.sans-serif'] = \"Arial\"\n",
    "plt.rcParams['font.family'] = \"sans-serif\"\n",
    "plt.rcParams['axes.linewidth'] = 0.5\n",
    "flierprops = dict(marker='o', markersize=2)\n",
    "corr, _ = pearsonr(toplot['dFrac_SI_mean'], toplot['G189E_dKd_mean'])\n",
    "slope, intercept, r_value, p_value, std_err = scipy.stats.linregress(toplot['dFrac_SI_mean'], toplot['G189E_dKd_mean'])\n",
    "plt.figure(figsize=(1,1))\n",
    "ax = sns.scatterplot(x='dFrac_SI_mean', y='G189E_dKd_mean',data=toplot,hue='mutation_names',s=20,palette=colors,legend=False,edgecolor='black')\n",
    "\n",
    "# Find the x,y coordinates for each point\n",
    "x_coords = []\n",
    "y_coords = []\n",
    "for points in ax.collections:\n",
    "    for x, y in points.get_offsets():\n",
    "        x_coords.append(x)\n",
    "        y_coords.append(y)\n",
    "\n",
    "# Calculate the type of error to plot as the error bars\n",
    "# Make sure the order is the same as the points were looped over\n",
    "plt.errorbar(x_coords, y_coords, yerr=toplot['dFrac_SI_sem'],xerr=toplot['G189E_dKd_sem'], fmt=' ', zorder=-1,color='k',linewidth=0.5)\n",
    "\n",
    "\n",
    "\n",
    "sns.regplot(x='dFrac_SI_mean', y='G189E_dKd_mean',data=toplot, scatter=False, ax=ax,color='gray')\n",
    "# plt.xlim(-0.03,0.03)\n",
    "# plt.ylim(-0.1,0.25)\n",
    "plt.xlabel('',fontsize=7,labelpad=0.5)\n",
    "plt.ylabel('',fontsize=7,labelpad=0.5)\n",
    "plt.axhline(y=0,linestyle='dashed',linewidth=0.5,color='black')\n",
    "plt.axvline(x=0,linestyle='dashed',linewidth=0.5,color='black')\n",
    "# plt.xticks(ticks=[-0.03,0,0.03],labels=['-0.03','0','0.03'],fontsize=7)\n",
    "# plt.yticks(ticks=[0,0.25],labels=['0','0.25'],fontsize=7)\n",
    "plt.savefig('images/CH65_dfrac_SI_kd_corr_G189E.png',transparent=True, dpi=600,bbox_inches='tight')\n",
    "print(corr)"
   ]
  },
  {
   "cell_type": "markdown",
   "metadata": {},
   "source": [
    "## correlation in change in enrichment between SI-G189D and MI15"
   ]
  },
  {
   "cell_type": "code",
   "execution_count": 203,
   "metadata": {},
   "outputs": [
    {
     "name": "stdout",
     "output_type": "stream",
     "text": [
      "0.13180248320152682\n"
     ]
    },
    {
     "data": {
      "image/png": "[encoded data removed]",
      "text/plain": [
       "<Figure size 72x72 with 1 Axes>"
      ]
     },
     "metadata": {
      "needs_background": "light"
     },
     "output_type": "display_data"
    }
   ],
   "source": [
    "plt.rcParams['font.sans-serif'] = \"Arial\"\n",
    "plt.rcParams['font.family'] = \"sans-serif\"\n",
    "plt.rcParams['axes.linewidth'] = 0.5\n",
    "flierprops = dict(marker='o', markersize=2)\n",
    "corr, _ = pearsonr(toplot['dFrac_SI_mean'], toplot['dFrac_MI_mean'])\n",
    "slope, intercept, r_value, p_value, std_err = scipy.stats.linregress(toplot['dFrac_SI_mean'], toplot['dFrac_MI_mean'])\n",
    "plt.figure(figsize=(1,1))\n",
    "ax = sns.scatterplot(x='dFrac_SI_mean', y='dFrac_MI_mean',data=toplot,hue='mutation_names',s=20,palette=colors,legend=False,edgecolor='black')\n",
    "\n",
    "# Find the x,y coordinates for each point\n",
    "x_coords = []\n",
    "y_coords = []\n",
    "for points in ax.collections:\n",
    "    for x, y in points.get_offsets():\n",
    "        x_coords.append(x)\n",
    "        y_coords.append(y)\n",
    "\n",
    "# Calculate the type of error to plot as the error bars\n",
    "# Make sure the order is the same as the points were looped over\n",
    "plt.errorbar(x_coords, y_coords, yerr=toplot['dFrac_SI_sem'],xerr=toplot['dFrac_MI_sem'], fmt=' ', zorder=-1,color='k',linewidth=0.5)\n",
    "\n",
    "\n",
    "\n",
    "sns.regplot(x='dFrac_SI_mean', y='dFrac_MI_mean',data=toplot, scatter=False, ax=ax,color='gray')\n",
    "#plt.xlim(-0.03,0.03)\n",
    "plt.axhline(y=0,linestyle='dashed',linewidth=0.5,color='black')\n",
    "plt.axvline(x=0,linestyle='dashed',linewidth=0.5,color='black')\n",
    "plt.xlabel('',fontsize=7,labelpad=0.5)\n",
    "plt.ylabel('',fontsize=7,labelpad=0.5)\n",
    "# plt.xticks(ticks=[-0.03,0,0.03],labels=['-0.03','0','0.03'],fontsize=7)\n",
    "# plt.yticks(ticks=[0,0.5],labels=['0','0.5'],fontsize=7)\n",
    "plt.savefig('images/CH65_dfrac_SIG189D_MI_kd_corr.png',transparent=True, dpi=600,bbox_inches='tight')\n",
    "print(corr)"
   ]
  },
  {
   "cell_type": "code",
   "execution_count": null,
   "metadata": {},
   "outputs": [],
   "source": []
  }
 ],
 "metadata": {
  "kernelspec": {
   "display_name": "Python 3 (ipykernel)",
   "language": "python",
   "name": "python3"
  },
  "language_info": {
   "codemirror_mode": {
    "name": "ipython",
    "version": 3
   },
   "file_extension": ".py",
   "mimetype": "text/x-python",
   "name": "python",
   "nbconvert_exporter": "python",
   "pygments_lexer": "ipython3",
   "version": "3.9.12"
  }
 },
 "nbformat": 4,
 "nbformat_minor": 2
}
